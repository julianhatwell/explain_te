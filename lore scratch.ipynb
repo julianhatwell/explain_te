{
 "cells": [
  {
   "cell_type": "code",
   "execution_count": 1,
   "metadata": {
    "scrolled": false
   },
   "outputs": [
    {
     "name": "stderr",
     "output_type": "stream",
     "text": [
      "C:\\ProgramData\\Anaconda3\\envs\\B3\\lib\\site-packages\\dask\\config.py:168: YAMLLoadWarning: calling yaml.load() without Loader=... is deprecated, as the default Loader is unsafe. Please read https://msg.pyyaml.org/load for full details.\n",
      "  data = yaml.load(f.read()) or {}\n",
      "C:\\ProgramData\\Anaconda3\\envs\\B3\\lib\\site-packages\\distributed\\config.py:20: YAMLLoadWarning: calling yaml.load() without Loader=... is deprecated, as the default Loader is unsafe. Please read https://msg.pyyaml.org/load for full details.\n",
      "  defaults = yaml.load(f)\n"
     ]
    },
    {
     "name": "stdout",
     "output_type": "stream",
     "text": [
      "using previous tuning parameters\n",
      "Best OOB Accuracy Estimate during tuning: 0.8414\n",
      "Best parameters:{'n_estimators': 1000, 'oob_score': True, 'random_state': 123}\n",
      "\n",
      "Confusion matrix, without normalization\n",
      "[[526  38]\n",
      " [ 75  94]]\n"
     ]
    },
    {
     "data": {
      "image/png": "[encoded data removed]",
      "text/plain": [
       "<Figure size 432x288 with 2 Axes>"
      ]
     },
     "metadata": {
      "needs_background": "light"
     },
     "output_type": "display_data"
    },
    {
     "name": "stdout",
     "output_type": "stream",
     "text": [
      "Normalized confusion matrix\n",
      "[[0.93 0.07]\n",
      " [0.44 0.56]]\n"
     ]
    },
    {
     "data": {
      "image/png": "[encoded data removed]",
      "text/plain": [
       "<Figure size 432x288 with 2 Axes>"
      ]
     },
     "metadata": {
      "needs_background": "light"
     },
     "output_type": "display_data"
    }
   ],
   "source": [
    "# for notebook plotting\n",
    "%matplotlib inline \n",
    "\n",
    "# load what we need\n",
    "import time\n",
    "import timeit\n",
    "import CHIRPS.structures as strcts\n",
    "import CHIRPS.datasets as ds\n",
    "import CHIRPS.datasets_proprietary as dsp\n",
    "import CHIRPS.routines as rt\n",
    "\n",
    "import CHIRPS.reproducible as rp\n",
    "from lore import lore\n",
    "from lore import test_lore as tlore\n",
    "from lore import prepare_dataset as prda\n",
    "from lore import neighbor_generator as ng\n",
    "from sklearn.ensemble import RandomForestClassifier, AdaBoostClassifier\n",
    "\n",
    "\n",
    "project_dir = '/datadisk/whiteboxing/examples'\n",
    "# project_dir = 'V:\\\\whiteboxing\\\\examples' # defaults to a directory \"whiteboxing\" in the working directory\n",
    "# project_dir = 'C:\\\\Users\\\\Crutt\\\\Documents\\\\whiteboxing\\\\exampada'\n",
    "\n",
    "random_state_splits = 123 # one off for splitting the data into test / train\n",
    "random_state = 123 # for everything else - e.g. building a new rf with same data\n",
    "\n",
    "# load one of the included datasets\n",
    "# project_dir will default to directory name CHIRPS in the working directory if not given\n",
    "# random_state will default to 123\n",
    "#mydata = dsp.usoc2(random_state=random_state_splits, project_dir=project_dir)\n",
    "d_constructor = ds.adult_small_samp\n",
    "mydata = d_constructor(random_state=random_state_splits, project_dir=project_dir)\n",
    "meta_data = mydata.get_meta()\n",
    "save_path = meta_data['get_save_path']()\n",
    "\n",
    "train_index, test_index = mydata.get_tt_split_idx(random_state=random_state_splits)\n",
    "# optionally, indexes can be ommitted and will default to scikit's train_test_split method\n",
    "tt = mydata.tt_split(train_index, test_index)\n",
    "\n",
    "# build model, tuned for high accuracy\n",
    "model = 'RandomForest'\n",
    "# model = 'AdaBoost1'\n",
    "# model = 'AdaBoost2'\n",
    "# model = 'GBM'\n",
    "\n",
    "# decide if to run the whole tuning routine again (long for Adaboost)\n",
    "# RF routine has a default tuning grid, so can leave as None, or come up with some other options\n",
    "tuning = {'grid' : None, 'override' : False}\n",
    "if model == 'RandomForest':\n",
    "    which_trees = 'majority'\n",
    "    tuning.update({'grid' : None}) # defaults to n_trees [200, 400, ..., 1600]\n",
    "\n",
    "elif model in ('AdaBoost1', 'AdaBoost2'):\n",
    "    if model == 'AdaBoost1':\n",
    "        # classic (and multi-class) AdaBoost\n",
    "        algo = 'SAMME'\n",
    "        which_trees = 'majority'\n",
    "    else:\n",
    "        algo = 'SAMME.R'\n",
    "        which_trees = 'conf_weighted'\n",
    "    max_depth = [i for i in range(1, 5)]\n",
    "    tuning.update({'grid' : {'base_estimator' : [rt.DecisionTreeClassifier(max_depth=d) for d in max_depth],\n",
    "                            'n_estimators': [(i + 1) * 200 for i in range(8)], 'algorithm': [algo]}})\n",
    "    \n",
    "else: # GBM - not fully implemented yet\n",
    "    stop # ValueError\n",
    "\n",
    "rf = rt.forest_prep(ds_container=tt,\n",
    "                    meta_data=meta_data,\n",
    "                    # override_tuning=True,\n",
    "                    model=model,\n",
    "                    tuning_grid=tuning['grid'],\n",
    "                    save_path=save_path,\n",
    "                    plot_cm=True, plot_cm_norm=True)"
   ]
  },
  {
   "cell_type": "code",
   "execution_count": 2,
   "metadata": {
    "scrolled": false
   },
   "outputs": [
    {
     "data": {
      "text/plain": [
       "array([[39,  6,  9, ...,  0, 40, 38],\n",
       "       [50,  5,  9, ...,  0, 13, 38],\n",
       "       [38,  3, 11, ...,  0, 40, 38],\n",
       "       ...,\n",
       "       [58,  3, 11, ...,  0, 40, 38],\n",
       "       [22,  3, 11, ...,  0, 20, 38],\n",
       "       [52,  4, 11, ...,  0, 40, 38]], dtype=int64)"
      ]
     },
     "execution_count": 2,
     "metadata": {},
     "output_type": "execute_result"
    }
   ],
   "source": [
    "# lore proprietary\n",
    "path_data = 'C:\\\\Users\\\\id126493\\\\Documents\\\\GitHub\\\\explain_te\\\\lore\\\\datasets\\\\'\n",
    "\n",
    "# dataset = prepare_german_dataset('german_credit.csv', path_data)\n",
    "dataset = prda.prepare_adult_dataset('adult.csv', path_data)\n",
    "# dataset = prda.prepare_compass_dataset('compas-scores-two-years.csv', path_data)\n",
    "dataset['X']"
   ]
  },
  {
   "cell_type": "code",
   "execution_count": 3,
   "metadata": {
    "scrolled": false
   },
   "outputs": [
    {
     "name": "stdout",
     "output_type": "stream",
     "text": [
      "<class 'numpy.ndarray'>\n",
      "['T', '__abs__', '__add__', '__and__', '__array__', '__array_finalize__', '__array_function__', '__array_interface__', '__array_prepare__', '__array_priority__', '__array_struct__', '__array_ufunc__', '__array_wrap__', '__bool__', '__class__', '__complex__', '__contains__', '__copy__', '__deepcopy__', '__delattr__', '__delitem__', '__dir__', '__divmod__', '__doc__', '__eq__', '__float__', '__floordiv__', '__format__', '__ge__', '__getattribute__', '__getitem__', '__gt__', '__hash__', '__iadd__', '__iand__', '__ifloordiv__', '__ilshift__', '__imatmul__', '__imod__', '__imul__', '__index__', '__init__', '__init_subclass__', '__int__', '__invert__', '__ior__', '__ipow__', '__irshift__', '__isub__', '__iter__', '__itruediv__', '__ixor__', '__le__', '__len__', '__lshift__', '__lt__', '__matmul__', '__mod__', '__mul__', '__ne__', '__neg__', '__new__', '__or__', '__pos__', '__pow__', '__radd__', '__rand__', '__rdivmod__', '__reduce__', '__reduce_ex__', '__repr__', '__rfloordiv__', '__rlshift__', '__rmatmul__', '__rmod__', '__rmul__', '__ror__', '__rpow__', '__rrshift__', '__rshift__', '__rsub__', '__rtruediv__', '__rxor__', '__setattr__', '__setitem__', '__setstate__', '__sizeof__', '__str__', '__sub__', '__subclasshook__', '__truediv__', '__xor__', 'all', 'any', 'argmax', 'argmin', 'argpartition', 'argsort', 'astype', 'base', 'byteswap', 'choose', 'clip', 'compress', 'conj', 'conjugate', 'copy', 'ctypes', 'cumprod', 'cumsum', 'data', 'diagonal', 'dot', 'dtype', 'dump', 'dumps', 'fill', 'flags', 'flat', 'flatten', 'getfield', 'imag', 'item', 'itemset', 'itemsize', 'max', 'mean', 'min', 'nbytes', 'ndim', 'newbyteorder', 'nonzero', 'partition', 'prod', 'ptp', 'put', 'ravel', 'real', 'repeat', 'reshape', 'resize', 'round', 'searchsorted', 'setfield', 'setflags', 'shape', 'size', 'sort', 'squeeze', 'std', 'strides', 'sum', 'swapaxes', 'take', 'tobytes', 'tofile', 'tolist', 'tostring', 'trace', 'transpose', 'var', 'view']\n"
     ]
    }
   ],
   "source": [
    "lore_dataset = rp.lore_prepare_dataset(d_constructor.__name__, mydata, meta_data)\n",
    "\n",
    "# X2E = tt.X_test_enc.todense()\n",
    "# y2E = rf.predict(X2E)\n",
    "# y2E = np.asarray([dataset['possible_outcomes'][i] for i in y2E])\n",
    "\n",
    "# idx_record2explain = 0\n",
    "\n",
    "# explanation, infos = lore.explain(idx_record2explain, X2E, dataset, blackbox=rf,\n",
    "#                                   ng_function=ng.genetic_neighborhood,\n",
    "#                                   discrete_use_probabilities=True,\n",
    "#                                   continuous_function_estimation=False,\n",
    "#                                   returns_infos=True,\n",
    "#                                   path=path_data, sep=';', log=False)\n",
    "\n",
    "\n",
    "# tlore.main(dataset=dataset, path_data=path_data, blackbox=rf, log=False)\n",
    "rp.lore_benchmark(ds_container=tt, dataset=lore_dataset,\n",
    "                  path_data=path_data, blackbox=rf,\n",
    "                  log=False, random_state=random_state)\n",
    "\n",
    "# C:\\Users\\id126493\\Documents\\GitHub\\explain_te\\lore\\yadt\\dTcmd.exe -fd\n",
    "# C:\\Users\\id126493\\Documents\\GitHub\\explain_te\\lore\\datasets\\adult.data -fm\n",
    "# C:\\Users\\id126493\\Documents\\GitHub\\explain_te\\lore\\datasets\\adult.names -sep ; -d\n",
    "# C:\\Users\\id126493\\Documents\\GitHub\\explain_te\\lore\\datasets\\adult.dot\n",
    "# b'YaDT version 2.1.0 (c) S. Ruggieri 2002-2018\\r\\nReading text data\\r\\n + \n",
    "# atts: 12 class: 1 weight: 0 rows: 1031\\r\\n + \n",
    "# load time: 0.00155853 secs (60.69 MiB/s, 661.51 K rows/s)\\r\\n + \n",
    "# indexing ... done\\r\\n + total time: 0.00194314 secs (48.67 MiB/s, 530.58 K rows/s)\\r\\nBuilding 1 tree(s) on 1031 cases\\r\\n +\n",
    "# tree(s) built\\r\\n + size: 34 depth: 6 time: 0.00103692 secs\\r\\nPruning tree using training set\\r\\n +\n",
    "# tree pruned\\r\\n + size: 5 depth: 3 time: 9.31455e-06 secs\\r\\n'\n",
    "    \n",
    "# dataset"
   ]
  },
  {
   "cell_type": "code",
   "execution_count": null,
   "metadata": {},
   "outputs": [],
   "source": []
  }
 ],
 "metadata": {
  "kernelspec": {
   "display_name": "Python 3",
   "language": "python",
   "name": "python3"
  },
  "language_info": {
   "codemirror_mode": {
    "name": "ipython",
    "version": 3
   },
   "file_extension": ".py",
   "mimetype": "text/x-python",
   "name": "python",
   "nbconvert_exporter": "python",
   "pygments_lexer": "ipython3",
   "version": "3.7.3"
  }
 },
 "nbformat": 4,
 "nbformat_minor": 2
}
