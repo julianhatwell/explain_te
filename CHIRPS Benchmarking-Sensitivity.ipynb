{
 "cells": [
  {
   "cell_type": "markdown",
   "metadata": {},
   "source": [
    "# prologue"
   ]
  },
  {
   "cell_type": "markdown",
   "metadata": {},
   "source": [
    "### set up notebook and load package"
   ]
  },
  {
   "cell_type": "code",
   "execution_count": 1,
   "metadata": {
    "scrolled": false
   },
   "outputs": [],
   "source": [
    "# load what we need\n",
    "import numpy as np\n",
    "import CHIRPS.datasets as ds\n",
    "import CHIRPS.reproducible as rp\n",
    "import multiprocessing as mp"
   ]
  },
  {
   "cell_type": "markdown",
   "metadata": {},
   "source": [
    "## Sensitivity Analysis"
   ]
  },
  {
   "cell_type": "code",
   "execution_count": null,
   "metadata": {
    "scrolled": false
   },
   "outputs": [
    {
     "name": "stdout",
     "output_type": "stream",
     "text": [
      "Preprocessing adult data and model for adult with random state = 123\n",
      "Split data into main train-test and build forest\n"
     ]
    },
    {
     "name": "stderr",
     "output_type": "stream",
     "text": [
      "/home/julianhatwell/anaconda3/envs/B3/lib/python3.7/site-packages/sklearn/preprocessing/_encoders.py:415: FutureWarning: The handling of integer data will change in version 0.22. Currently, the categories are determined based on the range [0, max(values)], while in the future they will be determined based on the unique values.\n",
      "If you want the future behaviour and silence this warning, you can specify \"categories='auto'\".\n",
      "In case you used a LabelEncoder before this OneHotEncoder to convert the categories to integers, then you can now use the OneHotEncoder directly.\n",
      "  warnings.warn(msg, FutureWarning)\n"
     ]
    },
    {
     "name": "stdout",
     "output_type": "stream",
     "text": [
      "Train main model\n",
      "using previous tuning parameters\n",
      "Best OOB Accuracy Estimate during tuning: 0.8629\n",
      "Best parameters:{'max_depth': 32.0, 'n_estimators': 600, 'oob_score': True, 'random_state': 123}\n",
      "\n",
      "\n",
      "Sensitivity round: 0\n",
      "Beginning benchmark for adult data.\n",
      "Hyper-parameter settings: {'alpha_paths': 0.9, 'disc_path_bins': 4, 'disc_path_eqcounts': False, 'score_func': 5, 'weighting': 'kldiv', 'support_paths': 0.3, 'precis_threshold': 0.99, 'merging_bootstraps': 20, 'pruning_bootstraps': 20, 'which_trees': 'majority', 'delta': 0.09}\n",
      "\n",
      "Prepare Unseen Data and Predictions for CHIRPS benchmark\n",
      "Walking forest for 100 instances... (please wait)\n",
      "Forest Walk with async = True\n",
      "Forest Walk time elapsed: 4.4948 seconds\n",
      "\n",
      "Running CHIRPS on a batch of 100 instances... (please wait)\n",
      "as_chirps for batch_idx 0\n",
      "start mining for batch_idx 0 with support = 0.3\n"
     ]
    },
    {
     "name": "stderr",
     "output_type": "stream",
     "text": [
      "/home/julianhatwell/Documents/github/explain_te/CHIRPS/structures.py:1450: RuntimeWarning: invalid value encountered in true_divide\n",
      "  np.histogram(lowers, lower_bins)[0]).round(5) # can result in nans\n",
      "/home/julianhatwell/Documents/github/explain_te/CHIRPS/structures.py:1445: RuntimeWarning: invalid value encountered in true_divide\n",
      "  np.histogram(uppers, upper_bins)[0]).round(5) # can result in nans if no value falls into bin\n"
     ]
    },
    {
     "name": "stdout",
     "output_type": "stream",
     "text": [
      "found 29 patterns from 444 for batch_idx 0\n",
      "start score sort for batch_idx 0 (29) patterns\n",
      "start merge rule for batch_idx 0 (29) patterns\n",
      "as_chirps for batch_idx 1\n",
      "start mining for batch_idx 1 with support = 0.3\n"
     ]
    },
    {
     "name": "stderr",
     "output_type": "stream",
     "text": [
      "/home/julianhatwell/Documents/github/explain_te/CHIRPS/structures.py:1450: RuntimeWarning: invalid value encountered in true_divide\n",
      "  np.histogram(lowers, lower_bins)[0]).round(5) # can result in nans\n",
      "/home/julianhatwell/Documents/github/explain_te/CHIRPS/structures.py:1445: RuntimeWarning: invalid value encountered in true_divide\n",
      "  np.histogram(uppers, upper_bins)[0]).round(5) # can result in nans if no value falls into bin\n"
     ]
    },
    {
     "name": "stdout",
     "output_type": "stream",
     "text": [
      "found 114 patterns from 448 for batch_idx 1\n",
      "start score sort for batch_idx 1 (114) patterns\n",
      "as_chirps for batch_idx 2\n",
      "start mining for batch_idx 2 with support = 0.3\n"
     ]
    },
    {
     "name": "stderr",
     "output_type": "stream",
     "text": [
      "/home/julianhatwell/Documents/github/explain_te/CHIRPS/structures.py:1445: RuntimeWarning: invalid value encountered in true_divide\n",
      "  np.histogram(uppers, upper_bins)[0]).round(5) # can result in nans if no value falls into bin\n"
     ]
    },
    {
     "name": "stdout",
     "output_type": "stream",
     "text": [
      "start merge rule for batch_idx 1 (114) patterns\n"
     ]
    },
    {
     "name": "stderr",
     "output_type": "stream",
     "text": [
      "/home/julianhatwell/Documents/github/explain_te/CHIRPS/structures.py:1450: RuntimeWarning: invalid value encountered in true_divide\n",
      "  np.histogram(lowers, lower_bins)[0]).round(5) # can result in nans\n"
     ]
    },
    {
     "name": "stdout",
     "output_type": "stream",
     "text": [
      "found 45 patterns from 338 for batch_idx 2\n",
      "start score sort for batch_idx 2 (45) patterns\n",
      "start merge rule for batch_idx 2 (45) patterns\n",
      "as_chirps for batch_idx 3\n",
      "start mining for batch_idx 3 with support = 0.3\n"
     ]
    },
    {
     "name": "stderr",
     "output_type": "stream",
     "text": [
      "/home/julianhatwell/Documents/github/explain_te/CHIRPS/structures.py:1445: RuntimeWarning: invalid value encountered in true_divide\n",
      "  np.histogram(uppers, upper_bins)[0]).round(5) # can result in nans if no value falls into bin\n",
      "/home/julianhatwell/Documents/github/explain_te/CHIRPS/structures.py:1450: RuntimeWarning: invalid value encountered in true_divide\n",
      "  np.histogram(lowers, lower_bins)[0]).round(5) # can result in nans\n"
     ]
    },
    {
     "name": "stdout",
     "output_type": "stream",
     "text": [
      "found 822 patterns from 418 for batch_idx 3\n",
      "start score sort for batch_idx 3 (822) patterns\n",
      "as_chirps for batch_idx 4\n",
      "start mining for batch_idx 4 with support = 0.3\n"
     ]
    },
    {
     "name": "stderr",
     "output_type": "stream",
     "text": [
      "/home/julianhatwell/Documents/github/explain_te/CHIRPS/structures.py:1450: RuntimeWarning: invalid value encountered in true_divide\n",
      "  np.histogram(lowers, lower_bins)[0]).round(5) # can result in nans\n",
      "/home/julianhatwell/Documents/github/explain_te/CHIRPS/structures.py:1445: RuntimeWarning: invalid value encountered in true_divide\n",
      "  np.histogram(uppers, upper_bins)[0]).round(5) # can result in nans if no value falls into bin\n"
     ]
    },
    {
     "name": "stdout",
     "output_type": "stream",
     "text": [
      "reduced 1 patterns out of 119 by numeric redundancy\n",
      "found 118 patterns from 372 for batch_idx 4\n",
      "start score sort for batch_idx 4 (118) patterns\n",
      "start merge rule for batch_idx 4 (118) patterns\n",
      "as_chirps for batch_idx 5\n",
      "start mining for batch_idx 5 with support = 0.3\n"
     ]
    },
    {
     "name": "stderr",
     "output_type": "stream",
     "text": [
      "/home/julianhatwell/Documents/github/explain_te/CHIRPS/structures.py:1445: RuntimeWarning: invalid value encountered in true_divide\n",
      "  np.histogram(uppers, upper_bins)[0]).round(5) # can result in nans if no value falls into bin\n",
      "/home/julianhatwell/Documents/github/explain_te/CHIRPS/structures.py:1450: RuntimeWarning: invalid value encountered in true_divide\n",
      "  np.histogram(lowers, lower_bins)[0]).round(5) # can result in nans\n"
     ]
    },
    {
     "name": "stdout",
     "output_type": "stream",
     "text": [
      "reduced 1 patterns out of 434 by numeric redundancy\n",
      "found 433 patterns from 504 for batch_idx 5\n",
      "start score sort for batch_idx 5 (433) patterns\n",
      "as_chirps for batch_idx 6\n",
      "start mining for batch_idx 6 with support = 0.3\n"
     ]
    },
    {
     "name": "stderr",
     "output_type": "stream",
     "text": [
      "/home/julianhatwell/Documents/github/explain_te/CHIRPS/structures.py:1445: RuntimeWarning: invalid value encountered in true_divide\n",
      "  np.histogram(uppers, upper_bins)[0]).round(5) # can result in nans if no value falls into bin\n",
      "/home/julianhatwell/Documents/github/explain_te/CHIRPS/structures.py:1450: RuntimeWarning: invalid value encountered in true_divide\n",
      "  np.histogram(lowers, lower_bins)[0]).round(5) # can result in nans\n"
     ]
    },
    {
     "name": "stdout",
     "output_type": "stream",
     "text": [
      "as_chirps for batch_idx 7\n",
      "start mining for batch_idx 7 with support = 0.3\n"
     ]
    },
    {
     "name": "stderr",
     "output_type": "stream",
     "text": [
      "/home/julianhatwell/Documents/github/explain_te/CHIRPS/structures.py:1445: RuntimeWarning: invalid value encountered in true_divide\n",
      "  np.histogram(uppers, upper_bins)[0]).round(5) # can result in nans if no value falls into bin\n",
      "/home/julianhatwell/Documents/github/explain_te/CHIRPS/structures.py:1450: RuntimeWarning: invalid value encountered in true_divide\n",
      "  np.histogram(lowers, lower_bins)[0]).round(5) # can result in nans\n"
     ]
    },
    {
     "name": "stdout",
     "output_type": "stream",
     "text": [
      "reduced 10 patterns out of 568 by numeric redundancy\n",
      "found 558 patterns from 582 for batch_idx 6\n",
      "start score sort for batch_idx 6 (558) patterns\n",
      "reduced 1 patterns out of 522 by numeric redundancy\n",
      "found 521 patterns from 448 for batch_idx 7\n",
      "start score sort for batch_idx 7 (521) patterns\n",
      "start merge rule for batch_idx 5 (433) patterns\n",
      "start merge rule for batch_idx 3 (822) patterns\n",
      "start merge rule for batch_idx 7 (521) patterns\n",
      "start merge rule for batch_idx 6 (558) patterns\n",
      "[('maritalstatus_Married-civ-spouse', True, 0.5), ('lcapitalgain', True, 8.74734), ('educationnum', True, 12.29536)]\n",
      "0.9768826135105205 0.4046437686538785 0.4565763340456389 0.46414262820512825\n",
      "merge complete for batch_idx 0 (29) patterns\n",
      "start get explainer for batch_idx 0\n",
      "as_chirps for batch_idx 8\n",
      "start mining for batch_idx 8 with support = 0.3\n"
     ]
    },
    {
     "name": "stderr",
     "output_type": "stream",
     "text": [
      "/home/julianhatwell/Documents/github/explain_te/CHIRPS/structures.py:1450: RuntimeWarning: invalid value encountered in true_divide\n",
      "  np.histogram(lowers, lower_bins)[0]).round(5) # can result in nans\n",
      "/home/julianhatwell/Documents/github/explain_te/CHIRPS/structures.py:1445: RuntimeWarning: invalid value encountered in true_divide\n",
      "  np.histogram(uppers, upper_bins)[0]).round(5) # can result in nans if no value falls into bin\n"
     ]
    },
    {
     "name": "stdout",
     "output_type": "stream",
     "text": [
      "found 33 patterns from 585 for batch_idx 8\n",
      "start score sort for batch_idx 8 (33) patterns\n",
      "start merge rule for batch_idx 8 (33) patterns\n",
      "[('lcapitalgain', True, 8.69966), ('lcapitalloss', True, 7.58616), ('maritalstatus_Never-married', False, 0.5)]\n",
      "0.9690362770245511 0.3055471802384325 0.220549199114613 0.2681184668989547\n",
      "merge complete for batch_idx 2 (45) patterns\n",
      "start get explainer for batch_idx 2\n",
      "as_chirps for batch_idx 9\n",
      "start mining for batch_idx 9 with support = 0.3\n"
     ]
    },
    {
     "name": "stderr",
     "output_type": "stream",
     "text": [
      "/home/julianhatwell/Documents/github/explain_te/CHIRPS/structures.py:1445: RuntimeWarning: invalid value encountered in true_divide\n",
      "  np.histogram(uppers, upper_bins)[0]).round(5) # can result in nans if no value falls into bin\n",
      "/home/julianhatwell/Documents/github/explain_te/CHIRPS/structures.py:1450: RuntimeWarning: invalid value encountered in true_divide\n",
      "  np.histogram(lowers, lower_bins)[0]).round(5) # can result in nans\n"
     ]
    },
    {
     "name": "stdout",
     "output_type": "stream",
     "text": [
      "reduced 1 patterns out of 1040 by numeric redundancy\n",
      "found 1039 patterns from 555 for batch_idx 9\n",
      "start score sort for batch_idx 9 (1039) patterns\n",
      "[('lcapitalgain', True, 8.80293), ('relationship_Unmarried', False, 0.5), ('educationnum', True, 12.68499)]\n",
      "0.9740863787375416 0.08712283304117249 0.2609731167173994 0.32367149758454095\n",
      "merge complete for batch_idx 8 (33) patterns\n",
      "start get explainer for batch_idx 8\n",
      "as_chirps for batch_idx 10\n",
      "start mining for batch_idx 10 with support = 0.3\n"
     ]
    },
    {
     "name": "stderr",
     "output_type": "stream",
     "text": [
      "/home/julianhatwell/Documents/github/explain_te/CHIRPS/structures.py:1445: RuntimeWarning: invalid value encountered in true_divide\n",
      "  np.histogram(uppers, upper_bins)[0]).round(5) # can result in nans if no value falls into bin\n",
      "/home/julianhatwell/Documents/github/explain_te/CHIRPS/structures.py:1450: RuntimeWarning: invalid value encountered in true_divide\n",
      "  np.histogram(lowers, lower_bins)[0]).round(5) # can result in nans\n"
     ]
    },
    {
     "name": "stdout",
     "output_type": "stream",
     "text": [
      "reduced 6 patterns out of 587 by numeric redundancy\n",
      "found 581 patterns from 369 for batch_idx 10\n",
      "start score sort for batch_idx 10 (581) patterns\n",
      "[('lcapitalgain', True, 8.69379), ('maritalstatus_Married-civ-spouse', True, 0.5), ('occupation_Exec-managerial', True, 0.5), ('occupation_Prof-specialty', True, 0.5), ('lcapitalloss', True, 7.58438)]\n",
      "0.977191381851358 0.3995469154444064 0.0996885052730842 0.13391906283280094\n",
      "merge complete for batch_idx 1 (114) patterns\n",
      "start get explainer for batch_idx 1\n",
      "as_chirps for batch_idx 11\n",
      "start mining for batch_idx 11 with support = 0.3\n",
      "start merge rule for batch_idx 9 (1039) patterns\n"
     ]
    },
    {
     "name": "stderr",
     "output_type": "stream",
     "text": [
      "/home/julianhatwell/Documents/github/explain_te/CHIRPS/structures.py:1445: RuntimeWarning: invalid value encountered in true_divide\n",
      "  np.histogram(uppers, upper_bins)[0]).round(5) # can result in nans if no value falls into bin\n",
      "/home/julianhatwell/Documents/github/explain_te/CHIRPS/structures.py:1450: RuntimeWarning: invalid value encountered in true_divide\n",
      "  np.histogram(lowers, lower_bins)[0]).round(5) # can result in nans\n"
     ]
    },
    {
     "name": "stdout",
     "output_type": "stream",
     "text": [
      "found 59 patterns from 401 for batch_idx 11\n",
      "start score sort for batch_idx 11 (59) patterns\n",
      "start merge rule for batch_idx 11 (59) patterns\n",
      "[('educationnum', False, 13.05405), ('occupation_Exec-managerial', False, 0.5), ('relationship_Husband', False, 0.5), ('hoursperweek', False, 44.90078)]\n",
      "0.9304029304029304 0.007920713669111694 0.1791395197638368 0.11933982225983915\n",
      "merge complete for batch_idx 4 (118) patterns\n",
      "start get explainer for batch_idx 4\n",
      "as_chirps for batch_idx 12\n",
      "start mining for batch_idx 12 with support = 0.3\n"
     ]
    },
    {
     "name": "stderr",
     "output_type": "stream",
     "text": [
      "/home/julianhatwell/Documents/github/explain_te/CHIRPS/structures.py:1450: RuntimeWarning: invalid value encountered in true_divide\n",
      "  np.histogram(lowers, lower_bins)[0]).round(5) # can result in nans\n",
      "/home/julianhatwell/Documents/github/explain_te/CHIRPS/structures.py:1445: RuntimeWarning: invalid value encountered in true_divide\n",
      "  np.histogram(uppers, upper_bins)[0]).round(5) # can result in nans if no value falls into bin\n"
     ]
    },
    {
     "name": "stdout",
     "output_type": "stream",
     "text": [
      "found 13 patterns from 565 for batch_idx 12\n",
      "start score sort for batch_idx 12 (13) patterns\n",
      "start merge rule for batch_idx 12 (13) patterns\n",
      "start merge rule for batch_idx 10 (581) patterns\n",
      "[('lcapitalgain', True, 8.78101), ('maritalstatus_Never-married', False, 0.5)]\n",
      "0.9665245395990202 0.3072709917310531 0.851401531526201 0.6521449950116395\n",
      "merge complete for batch_idx 12 (13) patterns\n",
      "start get explainer for batch_idx 12\n",
      "as_chirps for batch_idx 13\n",
      "start mining for batch_idx 13 with support = 0.3\n"
     ]
    },
    {
     "name": "stderr",
     "output_type": "stream",
     "text": [
      "/home/julianhatwell/Documents/github/explain_te/CHIRPS/structures.py:1445: RuntimeWarning: invalid value encountered in true_divide\n",
      "  np.histogram(uppers, upper_bins)[0]).round(5) # can result in nans if no value falls into bin\n",
      "/home/julianhatwell/Documents/github/explain_te/CHIRPS/structures.py:1450: RuntimeWarning: invalid value encountered in true_divide\n",
      "  np.histogram(lowers, lower_bins)[0]).round(5) # can result in nans\n"
     ]
    },
    {
     "name": "stdout",
     "output_type": "stream",
     "text": [
      "found 26 patterns from 568 for batch_idx 13\n",
      "start score sort for batch_idx 13 (26) patterns\n",
      "start merge rule for batch_idx 13 (26) patterns\n",
      "[('educationnum', False, 12.00729), ('lcapitalloss', False, 7.49282), ('maritalstatus_Married-civ-spouse', False, 0.5)]\n",
      "0.9670886075949368 0.011489115206202842 0.36267984984282153 0.15786819098856758\n",
      "merge complete for batch_idx 13 (26) patterns\n",
      "start get explainer for batch_idx 13\n",
      "[('hoursperweek', True, 29.29275), ('lcapitalgain', True, 8.45829), ('workclass_Self-emp-inc', True, 0.5), ('workclass_Self-emp-not-inc', True, 0.5), ('educationnum', True, 13.5)]\n",
      "0.9645658642142277 0.10629193130435358 0.10481732909348991 0.18484814014332837\n",
      "merge complete for batch_idx 11 (59) patterns\n",
      "start get explainer for batch_idx 11\n",
      "as_chirps for batch_idx 14\n",
      "start mining for batch_idx 14 with support = 0.3\n"
     ]
    },
    {
     "name": "stderr",
     "output_type": "stream",
     "text": [
      "/home/julianhatwell/Documents/github/explain_te/CHIRPS/structures.py:1445: RuntimeWarning: invalid value encountered in true_divide\n",
      "  np.histogram(uppers, upper_bins)[0]).round(5) # can result in nans if no value falls into bin\n",
      "/home/julianhatwell/Documents/github/explain_te/CHIRPS/structures.py:1450: RuntimeWarning: invalid value encountered in true_divide\n",
      "  np.histogram(lowers, lower_bins)[0]).round(5) # can result in nans\n"
     ]
    },
    {
     "name": "stdout",
     "output_type": "stream",
     "text": [
      "found 425 patterns from 343 for batch_idx 14\n",
      "start score sort for batch_idx 14 (425) patterns\n",
      "as_chirps for batch_idx 15\n",
      "start mining for batch_idx 15 with support = 0.3\n"
     ]
    },
    {
     "name": "stderr",
     "output_type": "stream",
     "text": [
      "/home/julianhatwell/Documents/github/explain_te/CHIRPS/structures.py:1450: RuntimeWarning: invalid value encountered in true_divide\n",
      "  np.histogram(lowers, lower_bins)[0]).round(5) # can result in nans\n",
      "/home/julianhatwell/Documents/github/explain_te/CHIRPS/structures.py:1445: RuntimeWarning: invalid value encountered in true_divide\n",
      "  np.histogram(uppers, upper_bins)[0]).round(5) # can result in nans if no value falls into bin\n"
     ]
    },
    {
     "name": "stdout",
     "output_type": "stream",
     "text": [
      "found 58 patterns from 600 for batch_idx 15\n",
      "start score sort for batch_idx 15 (58) patterns\n",
      "start merge rule for batch_idx 15 (58) patterns\n",
      "start merge rule for batch_idx 14 (425) patterns\n",
      "[('educationnum', True, 9.80797), ('hoursperweek', True, 42.64031), ('lcapitalgain', True, 8.34003), ('lcapitalloss', True, 7.44466)]\n",
      "0.9478627227244799 0.3080464530375645 0.45152275359205896 0.3743230780145199\n",
      "merge complete for batch_idx 9 (1039) patterns\n",
      "start get explainer for batch_idx 9\n",
      "as_chirps for batch_idx 16\n",
      "start mining for batch_idx 16 with support = 0.3\n"
     ]
    },
    {
     "name": "stderr",
     "output_type": "stream",
     "text": [
      "/home/julianhatwell/Documents/github/explain_te/CHIRPS/structures.py:1445: RuntimeWarning: invalid value encountered in true_divide\n",
      "  np.histogram(uppers, upper_bins)[0]).round(5) # can result in nans if no value falls into bin\n",
      "/home/julianhatwell/Documents/github/explain_te/CHIRPS/structures.py:1450: RuntimeWarning: invalid value encountered in true_divide\n",
      "  np.histogram(lowers, lower_bins)[0]).round(5) # can result in nans\n"
     ]
    },
    {
     "name": "stdout",
     "output_type": "stream",
     "text": [
      "found 95 patterns from 570 for batch_idx 16\n",
      "start score sort for batch_idx 16 (95) patterns\n",
      "start merge rule for batch_idx 16 (95) patterns\n",
      "[('maritalstatus_Divorced', False, 0.5), ('educationnum', True, 12.5), ('lcapitalgain', True, 8.99), ('lcapitalloss', True, 7.62799), ('lfnlwgt', False, 10.48897)]\n",
      "0.9594557067481255 0.10332940296451384 0.39018775248699183 0.24490932230353166\n",
      "merge complete for batch_idx 15 (58) patterns\n",
      "start get explainer for batch_idx 15\n",
      "[('educationnum', True, 9.68108), ('lcapitalgain', True, 4.00362), ('lcapitalloss', True, 7.45173), ('occupation_Exec-managerial', True, 0.5), ('occupation_Prof-specialty', True, 0.5), ('occupation_Farming-fishing', True, 0.5), ('occupation_Transport-moving', True, 0.5), ('occupation_Protective-serv', True, 0.5), ('workclass_Self-emp-inc', True, 0.5), ('workclass_Federal-gov', True, 0.5)]\n",
      "0.9498831229546517 0.2914790483960218 0.13546310567307931 0.11053991053991051\n",
      "merge complete for batch_idx 5 (433) patterns\n",
      "start get explainer for batch_idx 5\n",
      "as_chirps for batch_idx 17\n",
      "start mining for batch_idx 17 with support = 0.3\n"
     ]
    },
    {
     "name": "stderr",
     "output_type": "stream",
     "text": [
      "/home/julianhatwell/Documents/github/explain_te/CHIRPS/structures.py:1445: RuntimeWarning: invalid value encountered in true_divide\n",
      "  np.histogram(uppers, upper_bins)[0]).round(5) # can result in nans if no value falls into bin\n",
      "/home/julianhatwell/Documents/github/explain_te/CHIRPS/structures.py:1450: RuntimeWarning: invalid value encountered in true_divide\n",
      "  np.histogram(lowers, lower_bins)[0]).round(5) # can result in nans\n"
     ]
    },
    {
     "name": "stdout",
     "output_type": "stream",
     "text": [
      "found 23 patterns from 416 for batch_idx 17\n",
      "start score sort for batch_idx 17 (23) patterns\n",
      "start merge rule for batch_idx 17 (23) patterns\n",
      "as_chirps for batch_idx 18\n",
      "start mining for batch_idx 18 with support = 0.3\n"
     ]
    },
    {
     "name": "stderr",
     "output_type": "stream",
     "text": [
      "/home/julianhatwell/Documents/github/explain_te/CHIRPS/structures.py:1445: RuntimeWarning: invalid value encountered in true_divide\n",
      "  np.histogram(uppers, upper_bins)[0]).round(5) # can result in nans if no value falls into bin\n",
      "/home/julianhatwell/Documents/github/explain_te/CHIRPS/structures.py:1450: RuntimeWarning: invalid value encountered in true_divide\n",
      "  np.histogram(lowers, lower_bins)[0]).round(5) # can result in nans\n"
     ]
    },
    {
     "name": "stdout",
     "output_type": "stream",
     "text": [
      "found 14 patterns from 480 for batch_idx 18\n",
      "start score sort for batch_idx 18 (14) patterns\n",
      "start merge rule for batch_idx 18 (14) patterns\n",
      "[('lcapitalgain', True, 8.71883), ('relationship_Own-child', False, 0.5)]\n",
      "0.9889228418640184 0.15198570356445754 0.5955926975993817 0.5323943661971832\n",
      "merge complete for batch_idx 18 (14) patterns\n",
      "start get explainer for batch_idx 18\n",
      "as_chirps for batch_idx 19\n",
      "start mining for batch_idx 19 with support = 0.3\n"
     ]
    },
    {
     "name": "stderr",
     "output_type": "stream",
     "text": [
      "/home/julianhatwell/Documents/github/explain_te/CHIRPS/structures.py:1445: RuntimeWarning: invalid value encountered in true_divide\n",
      "  np.histogram(uppers, upper_bins)[0]).round(5) # can result in nans if no value falls into bin\n",
      "/home/julianhatwell/Documents/github/explain_te/CHIRPS/structures.py:1450: RuntimeWarning: invalid value encountered in true_divide\n",
      "  np.histogram(lowers, lower_bins)[0]).round(5) # can result in nans\n"
     ]
    },
    {
     "name": "stdout",
     "output_type": "stream",
     "text": [
      "found 217 patterns from 520 for batch_idx 19\n",
      "start score sort for batch_idx 19 (217) patterns\n",
      "[('educationnum', False, 12.12173), ('occupation_Exec-managerial', False, 0.5), ('relationship_Husband', False, 0.5), ('age', False, 29.38701), ('hoursperweek', True, 65.70137), ('workclass_Private', False, 0.5), ('nativecountry_United-States', False, 0.5), ('race_White', False, 0.5)]\n",
      "0.9346811819595645 0.0187185973272004 0.18028375066947658 0.10483258766333398\n",
      "merge complete for batch_idx 6 (558) patterns\n",
      "start get explainer for batch_idx 6\n",
      "start merge rule for batch_idx 19 (217) patterns\n",
      "as_chirps for batch_idx 20\n",
      "start mining for batch_idx 20 with support = 0.3\n"
     ]
    },
    {
     "name": "stderr",
     "output_type": "stream",
     "text": [
      "/home/julianhatwell/Documents/github/explain_te/CHIRPS/structures.py:1450: RuntimeWarning: invalid value encountered in true_divide\n",
      "  np.histogram(lowers, lower_bins)[0]).round(5) # can result in nans\n",
      "/home/julianhatwell/Documents/github/explain_te/CHIRPS/structures.py:1445: RuntimeWarning: invalid value encountered in true_divide\n",
      "  np.histogram(uppers, upper_bins)[0]).round(5) # can result in nans if no value falls into bin\n"
     ]
    },
    {
     "name": "stdout",
     "output_type": "stream",
     "text": [
      "found 36 patterns from 578 for batch_idx 20\n",
      "start score sort for batch_idx 20 (36) patterns\n",
      "start merge rule for batch_idx 20 (36) patterns\n",
      "[('lcapitalgain', True, 8.71971), ('maritalstatus_Never-married', False, 0.5), ('educationnum', True, 13.5), ('lcapitalloss', True, 7.7563)]\n",
      "0.9778862722573234 0.2965488809712735 0.1730356984959778 0.3955142231947484\n",
      "merge complete for batch_idx 17 (23) patterns\n",
      "start get explainer for batch_idx 17\n",
      "as_chirps for batch_idx 21\n",
      "start mining for batch_idx 21 with support = 0.3\n"
     ]
    },
    {
     "name": "stderr",
     "output_type": "stream",
     "text": [
      "/home/julianhatwell/Documents/github/explain_te/CHIRPS/structures.py:1445: RuntimeWarning: invalid value encountered in true_divide\n",
      "  np.histogram(uppers, upper_bins)[0]).round(5) # can result in nans if no value falls into bin\n",
      "/home/julianhatwell/Documents/github/explain_te/CHIRPS/structures.py:1450: RuntimeWarning: invalid value encountered in true_divide\n",
      "  np.histogram(lowers, lower_bins)[0]).round(5) # can result in nans\n"
     ]
    },
    {
     "name": "stdout",
     "output_type": "stream",
     "text": [
      "[('educationnum', True, 10.52463), ('hoursperweek', True, 44.43959), ('lcapitalgain', True, 4.0565), ('lcapitalloss', True, 7.45894), ('occupation_Exec-managerial', True, 0.5), ('occupation_Prof-specialty', True, 0.5), ('occupation_Transport-moving', True, 0.5), ('occupation_Farming-fishing', True, 0.5), ('occupation_Tech-support', True, 0.5), ('occupation_Protective-serv', True, 0.5), ('occupation_Adm-clerical', True, 0.5), ('workclass_Federal-gov', True, 0.5), ('workclass_Self-emp-inc', True, 0.5)]\n",
      "0.9627817745803358 0.28986128702999436 0.17662281132749805 0.14076556502311444\n",
      "merge complete for batch_idx 7 (521) patterns\n",
      "start get explainer for batch_idx 7\n",
      "found 145 patterns from 494 for batch_idx 21\n",
      "start score sort for batch_idx 21 (145) patterns\n",
      "as_chirps for batch_idx 22\n",
      "start mining for batch_idx 22 with support = 0.3\n"
     ]
    },
    {
     "name": "stderr",
     "output_type": "stream",
     "text": [
      "/home/julianhatwell/Documents/github/explain_te/CHIRPS/structures.py:1450: RuntimeWarning: invalid value encountered in true_divide\n",
      "  np.histogram(lowers, lower_bins)[0]).round(5) # can result in nans\n"
     ]
    },
    {
     "name": "stdout",
     "output_type": "stream",
     "text": [
      "[('educationnum', False, 9.89211), ('occupation_Exec-managerial', False, 0.5), ('relationship_Husband', False, 0.5), ('workclass_Private', False, 0.5), ('nativecountry_United-States', False, 0.5), ('age', False, 36.13208), ('age', True, 61.23), ('hoursperweek', False, 35.89336), ('race_White', False, 0.5), ('lfnlwgt', False, 11.92945)]\n",
      "0.9370786516853933 0.012943454183650107 0.2846030977593932 0.15029985472876498\n",
      "merge complete for batch_idx 10 (581) patterns\n",
      "start get explainer for batch_idx 10\n"
     ]
    },
    {
     "name": "stderr",
     "output_type": "stream",
     "text": [
      "/home/julianhatwell/Documents/github/explain_te/CHIRPS/structures.py:1445: RuntimeWarning: invalid value encountered in true_divide\n",
      "  np.histogram(uppers, upper_bins)[0]).round(5) # can result in nans if no value falls into bin\n"
     ]
    },
    {
     "name": "stdout",
     "output_type": "stream",
     "text": [
      "found 15 patterns from 600 for batch_idx 22\n",
      "start score sort for batch_idx 22 (15) patterns\n",
      "start merge rule for batch_idx 22 (15) patterns\n",
      "start merge rule for batch_idx 21 (145) patterns\n",
      "as_chirps for batch_idx 23\n",
      "start mining for batch_idx 23 with support = 0.3\n"
     ]
    },
    {
     "name": "stderr",
     "output_type": "stream",
     "text": [
      "/home/julianhatwell/Documents/github/explain_te/CHIRPS/structures.py:1445: RuntimeWarning: invalid value encountered in true_divide\n",
      "  np.histogram(uppers, upper_bins)[0]).round(5) # can result in nans if no value falls into bin\n",
      "/home/julianhatwell/Documents/github/explain_te/CHIRPS/structures.py:1450: RuntimeWarning: invalid value encountered in true_divide\n",
      "  np.histogram(lowers, lower_bins)[0]).round(5) # can result in nans\n"
     ]
    },
    {
     "name": "stdout",
     "output_type": "stream",
     "text": [
      "found 635 patterns from 505 for batch_idx 23\n",
      "start score sort for batch_idx 23 (635) patterns\n",
      "[('lcapitalgain', True, 8.73433), ('maritalstatus_Never-married', False, 0.5), ('lcapitalloss', True, 7.61275), ('hoursperweek', True, 49.41053)]\n",
      "0.9806973848069739 0.2751633462293861 0.3444212470151495 0.26600866634569076\n",
      "merge complete for batch_idx 16 (95) patterns\n",
      "start get explainer for batch_idx 16\n",
      "as_chirps for batch_idx 24\n",
      "start mining for batch_idx 24 with support = 0.3\n"
     ]
    },
    {
     "name": "stderr",
     "output_type": "stream",
     "text": [
      "/home/julianhatwell/Documents/github/explain_te/CHIRPS/structures.py:1445: RuntimeWarning: invalid value encountered in true_divide\n",
      "  np.histogram(uppers, upper_bins)[0]).round(5) # can result in nans if no value falls into bin\n",
      "/home/julianhatwell/Documents/github/explain_te/CHIRPS/structures.py:1450: RuntimeWarning: invalid value encountered in true_divide\n",
      "  np.histogram(lowers, lower_bins)[0]).round(5) # can result in nans\n"
     ]
    },
    {
     "name": "stdout",
     "output_type": "stream",
     "text": [
      "found 85 patterns from 483 for batch_idx 24\n",
      "start score sort for batch_idx 24 (85) patterns\n",
      "start merge rule for batch_idx 24 (85) patterns\n",
      "[('educationnum', True, 9.5), ('hoursperweek', True, 43.63095), ('lcapitalgain', True, 8.35911), ('lcapitalloss', True, 7.44466)]\n",
      "0.9477592382283567 0.3093363635454026 0.24412344804922975 0.17229837424290695\n",
      "merge complete for batch_idx 3 (822) patterns\n",
      "start get explainer for batch_idx 3\n",
      "start merge rule for batch_idx 23 (635) patterns\n",
      "as_chirps for batch_idx 25\n",
      "start mining for batch_idx 25 with support = 0.3\n"
     ]
    },
    {
     "name": "stderr",
     "output_type": "stream",
     "text": [
      "/home/julianhatwell/Documents/github/explain_te/CHIRPS/structures.py:1445: RuntimeWarning: invalid value encountered in true_divide\n",
      "  np.histogram(uppers, upper_bins)[0]).round(5) # can result in nans if no value falls into bin\n",
      "/home/julianhatwell/Documents/github/explain_te/CHIRPS/structures.py:1450: RuntimeWarning: invalid value encountered in true_divide\n",
      "  np.histogram(lowers, lower_bins)[0]).round(5) # can result in nans\n"
     ]
    },
    {
     "name": "stdout",
     "output_type": "stream",
     "text": [
      "reduced 2 patterns out of 351 by numeric redundancy\n",
      "found 349 patterns from 552 for batch_idx 25\n",
      "start score sort for batch_idx 25 (349) patterns\n",
      "[('relationship_Own-child', False, 0.5), ('lcapitalloss', True, 7.65246), ('lcapitalgain', True, 9.0168)]\n",
      "0.9892925430210325 0.1518503956633814 0.596828723765578 0.5555258228525555\n",
      "merge complete for batch_idx 22 (15) patterns\n",
      "start get explainer for batch_idx 22\n",
      "as_chirps for batch_idx 26\n",
      "start mining for batch_idx 26 with support = 0.3\n"
     ]
    },
    {
     "name": "stderr",
     "output_type": "stream",
     "text": [
      "/home/julianhatwell/Documents/github/explain_te/CHIRPS/structures.py:1450: RuntimeWarning: invalid value encountered in true_divide\n",
      "  np.histogram(lowers, lower_bins)[0]).round(5) # can result in nans\n",
      "/home/julianhatwell/Documents/github/explain_te/CHIRPS/structures.py:1445: RuntimeWarning: invalid value encountered in true_divide\n",
      "  np.histogram(uppers, upper_bins)[0]).round(5) # can result in nans if no value falls into bin\n"
     ]
    },
    {
     "name": "stdout",
     "output_type": "stream",
     "text": [
      "found 18 patterns from 597 for batch_idx 26\n",
      "start score sort for batch_idx 26 (18) patterns\n",
      "start merge rule for batch_idx 26 (18) patterns\n",
      "start merge rule for batch_idx 25 (349) patterns\n",
      "[('maritalstatus_Never-married', False, 0.5), ('lcapitalgain', True, 8.96219), ('educationnum', True, 13.5)]\n",
      "0.9765356734070966 0.29704259288740376 0.3952085027355343 0.19415922122949725\n",
      "merge complete for batch_idx 20 (36) patterns\n",
      "start get explainer for batch_idx 20\n",
      "as_chirps for batch_idx 27\n",
      "start mining for batch_idx 27 with support = 0.3\n"
     ]
    },
    {
     "name": "stderr",
     "output_type": "stream",
     "text": [
      "/home/julianhatwell/Documents/github/explain_te/CHIRPS/structures.py:1450: RuntimeWarning: invalid value encountered in true_divide\n",
      "  np.histogram(lowers, lower_bins)[0]).round(5) # can result in nans\n",
      "/home/julianhatwell/Documents/github/explain_te/CHIRPS/structures.py:1445: RuntimeWarning: invalid value encountered in true_divide\n",
      "  np.histogram(uppers, upper_bins)[0]).round(5) # can result in nans if no value falls into bin\n"
     ]
    },
    {
     "name": "stdout",
     "output_type": "stream",
     "text": [
      "reduced 2 patterns out of 168 by numeric redundancy\n",
      "found 166 patterns from 462 for batch_idx 27\n",
      "start score sort for batch_idx 27 (166) patterns\n",
      "start merge rule for batch_idx 27 (166) patterns\n",
      "[('lcapitalloss', True, 7.63772), ('maritalstatus_Never-married', False, 0.5), ('lcapitalgain', True, 8.98622)]\n",
      "0.9691284946726163 0.307326045482275 0.9673667988437513 0.7414282594452937\n",
      "merge complete for batch_idx 26 (18) patterns\n",
      "start get explainer for batch_idx 26\n",
      "as_chirps for batch_idx 28\n",
      "start mining for batch_idx 28 with support = 0.3\n"
     ]
    },
    {
     "name": "stderr",
     "output_type": "stream",
     "text": [
      "/home/julianhatwell/Documents/github/explain_te/CHIRPS/structures.py:1445: RuntimeWarning: invalid value encountered in true_divide\n",
      "  np.histogram(uppers, upper_bins)[0]).round(5) # can result in nans if no value falls into bin\n",
      "/home/julianhatwell/Documents/github/explain_te/CHIRPS/structures.py:1450: RuntimeWarning: invalid value encountered in true_divide\n",
      "  np.histogram(lowers, lower_bins)[0]).round(5) # can result in nans\n"
     ]
    },
    {
     "name": "stdout",
     "output_type": "stream",
     "text": [
      "found 81 patterns from 600 for batch_idx 28\n",
      "start score sort for batch_idx 28 (81) patterns\n",
      "start merge rule for batch_idx 28 (81) patterns\n",
      "[('age', True, 32.38141), ('lcapitalgain', True, 8.44625), ('hoursperweek', True, 43.56645), ('lcapitalloss', True, 7.46299)]\n",
      "0.9614725163893091 0.2758997003884778 0.5181514841182245 0.3528362939972263\n",
      "merge complete for batch_idx 24 (85) patterns\n",
      "start get explainer for batch_idx 24\n",
      "as_chirps for batch_idx 29\n",
      "start mining for batch_idx 29 with support = 0.3\n"
     ]
    },
    {
     "name": "stderr",
     "output_type": "stream",
     "text": [
      "/home/julianhatwell/Documents/github/explain_te/CHIRPS/structures.py:1445: RuntimeWarning: invalid value encountered in true_divide\n",
      "  np.histogram(uppers, upper_bins)[0]).round(5) # can result in nans if no value falls into bin\n",
      "/home/julianhatwell/Documents/github/explain_te/CHIRPS/structures.py:1450: RuntimeWarning: invalid value encountered in true_divide\n",
      "  np.histogram(lowers, lower_bins)[0]).round(5) # can result in nans\n"
     ]
    },
    {
     "name": "stdout",
     "output_type": "stream",
     "text": [
      "[('age', True, 30.01688), ('lcapitalgain', True, 8.42253), ('lcapitalloss', True, 7.45864)]\n",
      "0.9542697153523099 0.29385859882865273 0.29873922027447203 0.2276777114236178\n",
      "merge complete for batch_idx 19 (217) patterns\n",
      "start get explainer for batch_idx 19\n",
      "found 84 patterns from 596 for batch_idx 29\n",
      "start score sort for batch_idx 29 (84) patterns\n",
      "start merge rule for batch_idx 29 (84) patterns\n",
      "as_chirps for batch_idx 30\n",
      "start mining for batch_idx 30 with support = 0.3\n"
     ]
    },
    {
     "name": "stderr",
     "output_type": "stream",
     "text": [
      "/home/julianhatwell/Documents/github/explain_te/CHIRPS/structures.py:1445: RuntimeWarning: invalid value encountered in true_divide\n",
      "  np.histogram(uppers, upper_bins)[0]).round(5) # can result in nans if no value falls into bin\n",
      "/home/julianhatwell/Documents/github/explain_te/CHIRPS/structures.py:1450: RuntimeWarning: invalid value encountered in true_divide\n",
      "  np.histogram(lowers, lower_bins)[0]).round(5) # can result in nans\n"
     ]
    },
    {
     "name": "stdout",
     "output_type": "stream",
     "text": [
      "found 131 patterns from 558 for batch_idx 30\n",
      "start score sort for batch_idx 30 (131) patterns\n",
      "start merge rule for batch_idx 30 (131) patterns\n",
      "[('hoursperweek', True, 43.45321), ('occupation_Exec-managerial', True, 0.5), ('occupation_Prof-specialty', True, 0.5), ('occupation_Tech-support', True, 0.5), ('lcapitalgain', True, 8.401), ('lcapitalloss', True, 7.466), ('educationnum', True, 11.52778), ('workclass_Federal-gov', True, 0.5), ('workclass_Self-emp-inc', True, 0.5)]\n",
      "0.9494186428430664 0.40164919821190775 0.22251023397748698 0.2746982394095485\n",
      "merge complete for batch_idx 21 (145) patterns\n",
      "start get explainer for batch_idx 21\n",
      "as_chirps for batch_idx 31\n",
      "start mining for batch_idx 31 with support = 0.3\n"
     ]
    },
    {
     "name": "stderr",
     "output_type": "stream",
     "text": [
      "/home/julianhatwell/Documents/github/explain_te/CHIRPS/structures.py:1450: RuntimeWarning: invalid value encountered in true_divide\n",
      "  np.histogram(lowers, lower_bins)[0]).round(5) # can result in nans\n",
      "/home/julianhatwell/Documents/github/explain_te/CHIRPS/structures.py:1445: RuntimeWarning: invalid value encountered in true_divide\n",
      "  np.histogram(uppers, upper_bins)[0]).round(5) # can result in nans if no value falls into bin\n"
     ]
    },
    {
     "name": "stdout",
     "output_type": "stream",
     "text": [
      "found 11 patterns from 598 for batch_idx 31\n",
      "start score sort for batch_idx 31 (11) patterns\n",
      "start merge rule for batch_idx 31 (11) patterns\n",
      "[('educationnum', True, 9.75), ('lcapitalgain', True, 8.38703), ('hoursperweek', True, 43.87075), ('lcapitalloss', True, 7.4345)]\n",
      "0.9462759462759462 0.30908177996140535 0.2221087987472376 0.1593236484877353\n",
      "merge complete for batch_idx 25 (349) patterns\n",
      "start get explainer for batch_idx 25\n",
      "as_chirps for batch_idx 32\n",
      "start mining for batch_idx 32 with support = 0.3\n"
     ]
    },
    {
     "name": "stderr",
     "output_type": "stream",
     "text": [
      "/home/julianhatwell/Documents/github/explain_te/CHIRPS/structures.py:1445: RuntimeWarning: invalid value encountered in true_divide\n",
      "  np.histogram(uppers, upper_bins)[0]).round(5) # can result in nans if no value falls into bin\n",
      "/home/julianhatwell/Documents/github/explain_te/CHIRPS/structures.py:1450: RuntimeWarning: invalid value encountered in true_divide\n",
      "  np.histogram(lowers, lower_bins)[0]).round(5) # can result in nans\n"
     ]
    },
    {
     "name": "stdout",
     "output_type": "stream",
     "text": [
      "found 1158 patterns from 477 for batch_idx 32\n",
      "start score sort for batch_idx 32 (1158) patterns\n",
      "[('educationnum', True, 12.71981), ('lcapitalgain', True, 8.76456), ('maritalstatus_Never-married', False, 0.5)]\n",
      "0.9869333950046254 0.249293793260188 0.36277069779839743 0.24894240156199154\n",
      "merge complete for batch_idx 28 (81) patterns\n",
      "start get explainer for batch_idx 28\n",
      "[('lcapitalgain', True, 8.4476), ('occupation_Handlers-cleaners', False, 0.5)]\n",
      "0.9514426460239268 0.04114703965817629 0.43789356205817875 0.40929276617609284\n",
      "merge complete for batch_idx 30 (131) patterns\n",
      "start get explainer for batch_idx 30\n",
      "[('maritalstatus_Never-married', False, 0.5), ('educationnum', True, 12.49321)]\n",
      "0.9813964170877354 0.24943586097277318 0.7715567409787054 0.5326560232220611\n",
      "merge complete for batch_idx 31 (11) patterns\n",
      "start get explainer for batch_idx 31\n",
      "as_chirps for batch_idx 33\n",
      "start mining for batch_idx 33 with support = 0.3\n"
     ]
    },
    {
     "name": "stderr",
     "output_type": "stream",
     "text": [
      "/home/julianhatwell/Documents/github/explain_te/CHIRPS/structures.py:1450: RuntimeWarning: invalid value encountered in true_divide\n",
      "  np.histogram(lowers, lower_bins)[0]).round(5) # can result in nans\n",
      "/home/julianhatwell/Documents/github/explain_te/CHIRPS/structures.py:1445: RuntimeWarning: invalid value encountered in true_divide\n",
      "  np.histogram(uppers, upper_bins)[0]).round(5) # can result in nans if no value falls into bin\n"
     ]
    },
    {
     "name": "stdout",
     "output_type": "stream",
     "text": [
      "as_chirps for batch_idx 34\n",
      "start mining for batch_idx 34 with support = 0.3\n",
      "found 31 patterns from 511 for batch_idx 33\n",
      "start score sort for batch_idx 33 (31) patterns\n"
     ]
    },
    {
     "name": "stderr",
     "output_type": "stream",
     "text": [
      "/home/julianhatwell/Documents/github/explain_te/CHIRPS/structures.py:1450: RuntimeWarning: invalid value encountered in true_divide\n",
      "  np.histogram(lowers, lower_bins)[0]).round(5) # can result in nans\n"
     ]
    },
    {
     "name": "stdout",
     "output_type": "stream",
     "text": [
      "start merge rule for batch_idx 33 (31) patterns\n"
     ]
    },
    {
     "name": "stderr",
     "output_type": "stream",
     "text": [
      "/home/julianhatwell/Documents/github/explain_te/CHIRPS/structures.py:1445: RuntimeWarning: invalid value encountered in true_divide\n",
      "  np.histogram(uppers, upper_bins)[0]).round(5) # can result in nans if no value falls into bin\n"
     ]
    },
    {
     "name": "stdout",
     "output_type": "stream",
     "text": [
      "reduced 2 patterns out of 267 by numeric redundancy\n",
      "found 265 patterns from 500 for batch_idx 34\n",
      "start score sort for batch_idx 34 (265) patterns\n",
      "as_chirps for batch_idx 35\n",
      "start mining for batch_idx 35 with support = 0.3\n"
     ]
    },
    {
     "name": "stderr",
     "output_type": "stream",
     "text": [
      "/home/julianhatwell/Documents/github/explain_te/CHIRPS/structures.py:1450: RuntimeWarning: invalid value encountered in true_divide\n",
      "  np.histogram(lowers, lower_bins)[0]).round(5) # can result in nans\n",
      "/home/julianhatwell/Documents/github/explain_te/CHIRPS/structures.py:1445: RuntimeWarning: invalid value encountered in true_divide\n",
      "  np.histogram(uppers, upper_bins)[0]).round(5) # can result in nans if no value falls into bin\n"
     ]
    },
    {
     "name": "stdout",
     "output_type": "stream",
     "text": [
      "found 22 patterns from 591 for batch_idx 35\n",
      "start score sort for batch_idx 35 (22) patterns\n",
      "start merge rule for batch_idx 35 (22) patterns\n",
      "[('educationnum', True, 8.46867), ('lcapitalgain', True, 8.47994), ('lcapitalloss', True, 7.45615)]\n",
      "0.9614507299270073 0.12543463056796295 0.32155186574117123 0.25609798531612094\n",
      "merge complete for batch_idx 27 (166) patterns\n",
      "start get explainer for batch_idx 27\n",
      "start merge rule for batch_idx 34 (265) patterns\n",
      "as_chirps for batch_idx 36\n",
      "start mining for batch_idx 36 with support = 0.3\n"
     ]
    },
    {
     "name": "stderr",
     "output_type": "stream",
     "text": [
      "/home/julianhatwell/Documents/github/explain_te/CHIRPS/structures.py:1445: RuntimeWarning: invalid value encountered in true_divide\n",
      "  np.histogram(uppers, upper_bins)[0]).round(5) # can result in nans if no value falls into bin\n",
      "/home/julianhatwell/Documents/github/explain_te/CHIRPS/structures.py:1450: RuntimeWarning: invalid value encountered in true_divide\n",
      "  np.histogram(lowers, lower_bins)[0]).round(5) # can result in nans\n"
     ]
    },
    {
     "name": "stdout",
     "output_type": "stream",
     "text": [
      "found 20 patterns from 378 for batch_idx 36\n",
      "start score sort for batch_idx 36 (20) patterns\n",
      "start merge rule for batch_idx 36 (20) patterns\n",
      "start merge rule for batch_idx 32 (1158) patterns\n",
      "[('lcapitalgain', True, 8.75902), ('maritalstatus_Married-civ-spouse', True, 0.5)]\n",
      "0.9521936627520496 0.4700518313758765 0.418782467950515 0.4349341595662278\n",
      "merge complete for batch_idx 35 (22) patterns\n",
      "start get explainer for batch_idx 35\n",
      "as_chirps for batch_idx 37\n",
      "start mining for batch_idx 37 with support = 0.3\n"
     ]
    },
    {
     "name": "stderr",
     "output_type": "stream",
     "text": [
      "/home/julianhatwell/Documents/github/explain_te/CHIRPS/structures.py:1450: RuntimeWarning: invalid value encountered in true_divide\n",
      "  np.histogram(lowers, lower_bins)[0]).round(5) # can result in nans\n",
      "/home/julianhatwell/Documents/github/explain_te/CHIRPS/structures.py:1445: RuntimeWarning: invalid value encountered in true_divide\n",
      "  np.histogram(uppers, upper_bins)[0]).round(5) # can result in nans if no value falls into bin\n"
     ]
    },
    {
     "name": "stdout",
     "output_type": "stream",
     "text": [
      "found 28 patterns from 427 for batch_idx 37\n",
      "start score sort for batch_idx 37 (28) patterns\n",
      "start merge rule for batch_idx 37 (28) patterns\n",
      "[('educationnum', False, 10.68705), ('lcapitalloss', False, 7.50278), ('relationship_Husband', False, 0.5)]\n",
      "0.9445843828715366 0.011543635493956407 0.6476073315850464 0.32321601549886986\n",
      "merge complete for batch_idx 36 (20) patterns\n",
      "start get explainer for batch_idx 36\n",
      "[('educationnum', False, 12.89636), ('maritalstatus_Married-civ-spouse', False, 0.5), ('occupation_Exec-managerial', False, 0.5), ('age', False, 26.41139), ('race_White', False, 0.5)]\n",
      "0.8524046434494196 0.03497755630542816 0.6511345778358149 0.32990559676331754\n",
      "merge complete for batch_idx 33 (31) patterns\n",
      "start get explainer for batch_idx 33\n",
      "[('educationnum', False, 9.20238), ('hoursperweek', False, 35.98551), ('relationship_Husband', False, 0.5), ('occupation_Other-service', True, 0.5), ('occupation_Machine-op-inspct', True, 0.5), ('occupation_Farming-fishing', True, 0.5), ('occupation_Handlers-cleaners', True, 0.5), ('occupation_Craft-repair', True, 0.5), ('occupation_Transport-moving', True, 0.5), ('occupation_Tech-support', True, 0.5), ('age', False, 39.45522), ('age', True, 60.42793), ('lfnlwgt', False, 11.93918), ('workclass_Private', False, 0.5), ('nativecountry_United-States', False, 0.5)]\n",
      "0.8598233995584988 0.026313425464307996 0.13468622413246054 0.08239273289524536\n",
      "merge complete for batch_idx 14 (425) patterns\n",
      "start get explainer for batch_idx 14\n",
      "as_chirps for batch_idx 38\n",
      "start mining for batch_idx 38 with support = 0.3\n",
      "as_chirps for batch_idx 39\n",
      "start mining for batch_idx 39 with support = 0.3\n"
     ]
    },
    {
     "name": "stderr",
     "output_type": "stream",
     "text": [
      "/home/julianhatwell/Documents/github/explain_te/CHIRPS/structures.py:1450: RuntimeWarning: invalid value encountered in true_divide\n",
      "  np.histogram(lowers, lower_bins)[0]).round(5) # can result in nans\n",
      "/home/julianhatwell/Documents/github/explain_te/CHIRPS/structures.py:1445: RuntimeWarning: invalid value encountered in true_divide\n",
      "  np.histogram(uppers, upper_bins)[0]).round(5) # can result in nans if no value falls into bin\n",
      "/home/julianhatwell/Documents/github/explain_te/CHIRPS/structures.py:1450: RuntimeWarning: invalid value encountered in true_divide\n",
      "  np.histogram(lowers, lower_bins)[0]).round(5) # can result in nans\n"
     ]
    },
    {
     "name": "stdout",
     "output_type": "stream",
     "text": [
      "found 35 patterns from 596 for batch_idx 38\n",
      "start score sort for batch_idx 38 (35) patterns\n",
      "found 27 patterns from 567 for batch_idx 39\n",
      "start score sort for batch_idx 39 (27) patterns\n",
      "start merge rule for batch_idx 38 (35) patterns\n",
      "start merge rule for batch_idx 39 (27) patterns\n",
      "as_chirps for batch_idx 40\n",
      "start mining for batch_idx 40 with support = 0.3\n"
     ]
    },
    {
     "name": "stderr",
     "output_type": "stream",
     "text": [
      "/home/julianhatwell/Documents/github/explain_te/CHIRPS/structures.py:1445: RuntimeWarning: invalid value encountered in true_divide\n",
      "  np.histogram(uppers, upper_bins)[0]).round(5) # can result in nans if no value falls into bin\n",
      "/home/julianhatwell/Documents/github/explain_te/CHIRPS/structures.py:1450: RuntimeWarning: invalid value encountered in true_divide\n",
      "  np.histogram(lowers, lower_bins)[0]).round(5) # can result in nans\n"
     ]
    },
    {
     "name": "stdout",
     "output_type": "stream",
     "text": [
      "found 217 patterns from 297 for batch_idx 40\n",
      "start score sort for batch_idx 40 (217) patterns\n",
      "start merge rule for batch_idx 40 (217) patterns\n",
      "[('lcapitalgain', True, 8.77237), ('maritalstatus_Never-married', False, 0.5), ('lcapitalloss', True, 7.61742)]\n",
      "0.96917183509668 0.30689098312018487 0.5783560040094319 0.46210448859455494\n",
      "merge complete for batch_idx 29 (84) patterns\n",
      "start get explainer for batch_idx 29\n",
      "as_chirps for batch_idx 41\n",
      "start mining for batch_idx 41 with support = 0.3\n"
     ]
    },
    {
     "name": "stderr",
     "output_type": "stream",
     "text": [
      "/home/julianhatwell/Documents/github/explain_te/CHIRPS/structures.py:1445: RuntimeWarning: invalid value encountered in true_divide\n",
      "  np.histogram(uppers, upper_bins)[0]).round(5) # can result in nans if no value falls into bin\n",
      "/home/julianhatwell/Documents/github/explain_te/CHIRPS/structures.py:1450: RuntimeWarning: invalid value encountered in true_divide\n",
      "  np.histogram(lowers, lower_bins)[0]).round(5) # can result in nans\n"
     ]
    },
    {
     "name": "stdout",
     "output_type": "stream",
     "text": [
      "found 79 patterns from 598 for batch_idx 41\n",
      "start score sort for batch_idx 41 (79) patterns\n",
      "start merge rule for batch_idx 41 (79) patterns\n",
      "[('age', True, 39.69712), ('educationnum', True, 9.66713), ('lcapitalgain', True, 8.38749), ('lcapitalloss', True, 7.44188)]\n",
      "0.955560864890694 0.23323844806281968 0.1537090964535744 0.14085960564047467\n",
      "merge complete for batch_idx 23 (635) patterns\n",
      "start get explainer for batch_idx 23\n",
      "as_chirps for batch_idx 42\n",
      "start mining for batch_idx 42 with support = 0.3\n"
     ]
    },
    {
     "name": "stderr",
     "output_type": "stream",
     "text": [
      "/home/julianhatwell/Documents/github/explain_te/CHIRPS/structures.py:1450: RuntimeWarning: invalid value encountered in true_divide\n",
      "  np.histogram(lowers, lower_bins)[0]).round(5) # can result in nans\n",
      "/home/julianhatwell/Documents/github/explain_te/CHIRPS/structures.py:1445: RuntimeWarning: invalid value encountered in true_divide\n",
      "  np.histogram(uppers, upper_bins)[0]).round(5) # can result in nans if no value falls into bin\n"
     ]
    },
    {
     "name": "stdout",
     "output_type": "stream",
     "text": [
      "found 43 patterns from 596 for batch_idx 42\n",
      "start score sort for batch_idx 42 (43) patterns\n",
      "start merge rule for batch_idx 42 (43) patterns\n",
      "[('maritalstatus_Married-civ-spouse', True, 0.5), ('educationnum', True, 12.67692), ('lcapitalloss', True, 7.61965), ('lcapitalgain', True, 8.68568)]\n",
      "0.9785754034501948 0.4040181287424267 0.6344907590569057 0.6212539851222104\n",
      "merge complete for batch_idx 37 (28) patterns\n",
      "start get explainer for batch_idx 37\n",
      "as_chirps for batch_idx 43\n",
      "start mining for batch_idx 43 with support = 0.3\n"
     ]
    },
    {
     "name": "stderr",
     "output_type": "stream",
     "text": [
      "/home/julianhatwell/Documents/github/explain_te/CHIRPS/structures.py:1445: RuntimeWarning: invalid value encountered in true_divide\n",
      "  np.histogram(uppers, upper_bins)[0]).round(5) # can result in nans if no value falls into bin\n",
      "/home/julianhatwell/Documents/github/explain_te/CHIRPS/structures.py:1450: RuntimeWarning: invalid value encountered in true_divide\n",
      "  np.histogram(lowers, lower_bins)[0]).round(5) # can result in nans\n"
     ]
    },
    {
     "name": "stdout",
     "output_type": "stream",
     "text": [
      "[('lcapitalgain', True, 8.48695), ('occupation_Other-service', False, 0.5)]\n",
      "0.9665492957746479 0.0981939674608284 0.447569771957284 0.31776014306471445\n",
      "merge complete for batch_idx 41 (79) patterns\n",
      "start get explainer for batch_idx 41\n",
      "found 26 patterns from 595 for batch_idx 43\n",
      "start score sort for batch_idx 43 (26) patterns\n",
      "start merge rule for batch_idx 43 (26) patterns\n",
      "as_chirps for batch_idx 44\n",
      "start mining for batch_idx 44 with support = 0.3\n"
     ]
    },
    {
     "name": "stderr",
     "output_type": "stream",
     "text": [
      "/home/julianhatwell/Documents/github/explain_te/CHIRPS/structures.py:1445: RuntimeWarning: invalid value encountered in true_divide\n",
      "  np.histogram(uppers, upper_bins)[0]).round(5) # can result in nans if no value falls into bin\n",
      "/home/julianhatwell/Documents/github/explain_te/CHIRPS/structures.py:1450: RuntimeWarning: invalid value encountered in true_divide\n",
      "  np.histogram(lowers, lower_bins)[0]).round(5) # can result in nans\n"
     ]
    },
    {
     "name": "stdout",
     "output_type": "stream",
     "text": [
      "found 15 patterns from 504 for batch_idx 44\n",
      "start score sort for batch_idx 44 (15) patterns\n",
      "start merge rule for batch_idx 44 (15) patterns\n",
      "[('maritalstatus_Never-married', False, 0.5), ('lcapitalgain', True, 8.96338), ('lcapitalloss', True, 7.64948)]\n",
      "0.9692167577413479 0.3073389174141023 0.4639880710166915 0.30551514349953707\n",
      "merge complete for batch_idx 38 (35) patterns\n",
      "start get explainer for batch_idx 38\n",
      "as_chirps for batch_idx 45\n",
      "start mining for batch_idx 45 with support = 0.3\n"
     ]
    },
    {
     "name": "stderr",
     "output_type": "stream",
     "text": [
      "/home/julianhatwell/Documents/github/explain_te/CHIRPS/structures.py:1450: RuntimeWarning: invalid value encountered in true_divide\n",
      "  np.histogram(lowers, lower_bins)[0]).round(5) # can result in nans\n",
      "/home/julianhatwell/Documents/github/explain_te/CHIRPS/structures.py:1445: RuntimeWarning: invalid value encountered in true_divide\n",
      "  np.histogram(uppers, upper_bins)[0]).round(5) # can result in nans if no value falls into bin\n"
     ]
    },
    {
     "name": "stdout",
     "output_type": "stream",
     "text": [
      "found 28 patterns from 598 for batch_idx 45\n",
      "start score sort for batch_idx 45 (28) patterns\n",
      "start merge rule for batch_idx 45 (28) patterns\n",
      "[('relationship_Own-child', False, 0.5)]\n",
      "0.9851823708206687 0.15240703040646597 0.3852964750094393 0.3146984924623116\n",
      "merge complete for batch_idx 44 (15) patterns\n",
      "start get explainer for batch_idx 44\n",
      "as_chirps for batch_idx 46\n",
      "start mining for batch_idx 46 with support = 0.3\n"
     ]
    },
    {
     "name": "stderr",
     "output_type": "stream",
     "text": [
      "/home/julianhatwell/Documents/github/explain_te/CHIRPS/structures.py:1450: RuntimeWarning: invalid value encountered in true_divide\n",
      "  np.histogram(lowers, lower_bins)[0]).round(5) # can result in nans\n"
     ]
    },
    {
     "name": "stdout",
     "output_type": "stream",
     "text": [
      "found 21 patterns from 599 for batch_idx 46\n",
      "start score sort for batch_idx 46 (21) patterns\n",
      "start merge rule for batch_idx 46 (21) patterns\n",
      "[('educationnum', True, 12.75857), ('maritalstatus_Married-civ-spouse', True, 0.5), ('maritalstatus_Divorced', True, 0.5), ('lcapitalgain', True, 8.68779), ('lcapitalloss', True, 7.60561)]\n",
      "0.9849554234769688 0.30845698130402893 0.6728257196674164 0.6241001028453891\n",
      "merge complete for batch_idx 39 (27) patterns\n",
      "start get explainer for batch_idx 39\n",
      "as_chirps for batch_idx 47\n",
      "start mining for batch_idx 47 with support = 0.3\n"
     ]
    },
    {
     "name": "stderr",
     "output_type": "stream",
     "text": [
      "/home/julianhatwell/Documents/github/explain_te/CHIRPS/structures.py:1450: RuntimeWarning: invalid value encountered in true_divide\n",
      "  np.histogram(lowers, lower_bins)[0]).round(5) # can result in nans\n",
      "/home/julianhatwell/Documents/github/explain_te/CHIRPS/structures.py:1445: RuntimeWarning: invalid value encountered in true_divide\n",
      "  np.histogram(uppers, upper_bins)[0]).round(5) # can result in nans if no value falls into bin\n"
     ]
    },
    {
     "name": "stdout",
     "output_type": "stream",
     "text": [
      "found 57 patterns from 600 for batch_idx 47\n",
      "start score sort for batch_idx 47 (57) patterns\n",
      "start merge rule for batch_idx 47 (57) patterns\n",
      "[('lcapitalgain', True, 8.73565), ('maritalstatus_Never-married', False, 0.5)]\n",
      "0.9665215024496462 0.3072431112309414 0.6237413926461141 0.4180506626404966\n",
      "merge complete for batch_idx 43 (26) patterns\n",
      "start get explainer for batch_idx 43\n",
      "as_chirps for batch_idx 48\n",
      "start mining for batch_idx 48 with support = 0.3\n"
     ]
    },
    {
     "name": "stderr",
     "output_type": "stream",
     "text": [
      "/home/julianhatwell/Documents/github/explain_te/CHIRPS/structures.py:1450: RuntimeWarning: invalid value encountered in true_divide\n",
      "  np.histogram(lowers, lower_bins)[0]).round(5) # can result in nans\n"
     ]
    },
    {
     "name": "stdout",
     "output_type": "stream",
     "text": [
      "found 48 patterns from 553 for batch_idx 48\n",
      "start score sort for batch_idx 48 (48) patterns\n",
      "start merge rule for batch_idx 48 (48) patterns\n",
      "[('lcapitalgain', True, 8.97195), ('maritalstatus_Never-married', False, 0.5), ('lcapitalloss', True, 7.65312)]\n",
      "0.9692167577413479 0.3073389174141023 0.4171758887218902 0.2629845174041946\n",
      "merge complete for batch_idx 42 (43) patterns\n",
      "start get explainer for batch_idx 42\n",
      "as_chirps for batch_idx 49\n",
      "start mining for batch_idx 49 with support = 0.3\n"
     ]
    },
    {
     "name": "stderr",
     "output_type": "stream",
     "text": [
      "/home/julianhatwell/Documents/github/explain_te/CHIRPS/structures.py:1445: RuntimeWarning: invalid value encountered in true_divide\n",
      "  np.histogram(uppers, upper_bins)[0]).round(5) # can result in nans if no value falls into bin\n",
      "/home/julianhatwell/Documents/github/explain_te/CHIRPS/structures.py:1450: RuntimeWarning: invalid value encountered in true_divide\n",
      "  np.histogram(lowers, lower_bins)[0]).round(5) # can result in nans\n"
     ]
    },
    {
     "name": "stdout",
     "output_type": "stream",
     "text": [
      "found 10 patterns from 590 for batch_idx 49\n",
      "start score sort for batch_idx 49 (10) patterns\n",
      "start merge rule for batch_idx 49 (10) patterns\n",
      "[('educationnum', True, 12.80994), ('maritalstatus_Married-civ-spouse', True, 0.5)]\n",
      "0.9686387291153109 0.40227356135279374 0.47666203647015803 0.2948960302457467\n",
      "merge complete for batch_idx 45 (28) patterns\n",
      "start get explainer for batch_idx 45\n",
      "as_chirps for batch_idx 50\n",
      "start mining for batch_idx 50 with support = 0.3\n",
      "[('lcapitalgain', True, 8.79337), ('maritalstatus_Married-civ-spouse', True, 0.5), ('educationnum', True, 12.49839)]\n",
      "0.9768906109458244 0.40478382256799106 0.6981763903143595 0.6481409759876064\n",
      "merge complete for batch_idx 46 (21) patterns\n",
      "start get explainer for batch_idx 46\n"
     ]
    },
    {
     "name": "stderr",
     "output_type": "stream",
     "text": [
      "/home/julianhatwell/Documents/github/explain_te/CHIRPS/structures.py:1445: RuntimeWarning: invalid value encountered in true_divide\n",
      "  np.histogram(uppers, upper_bins)[0]).round(5) # can result in nans if no value falls into bin\n",
      "/home/julianhatwell/Documents/github/explain_te/CHIRPS/structures.py:1450: RuntimeWarning: invalid value encountered in true_divide\n",
      "  np.histogram(lowers, lower_bins)[0]).round(5) # can result in nans\n"
     ]
    },
    {
     "name": "stdout",
     "output_type": "stream",
     "text": [
      "as_chirps for batch_idx 51\n",
      "start mining for batch_idx 51 with support = 0.3\n"
     ]
    },
    {
     "name": "stderr",
     "output_type": "stream",
     "text": [
      "/home/julianhatwell/Documents/github/explain_te/CHIRPS/structures.py:1450: RuntimeWarning: invalid value encountered in true_divide\n",
      "  np.histogram(lowers, lower_bins)[0]).round(5) # can result in nans\n",
      "/home/julianhatwell/Documents/github/explain_te/CHIRPS/structures.py:1445: RuntimeWarning: invalid value encountered in true_divide\n",
      "  np.histogram(uppers, upper_bins)[0]).round(5) # can result in nans if no value falls into bin\n"
     ]
    },
    {
     "name": "stdout",
     "output_type": "stream",
     "text": [
      "found 915 patterns from 512 for batch_idx 50\n",
      "start score sort for batch_idx 50 (915) patterns\n",
      "found 19 patterns from 329 for batch_idx 51\n",
      "start score sort for batch_idx 51 (19) patterns\n",
      "start merge rule for batch_idx 51 (19) patterns\n",
      "[('educationnum', True, 7.99737), ('lcapitalgain', True, 8.38842), ('lcapitalloss', True, 7.46683), ('occupation_Exec-managerial', True, 0.5), ('workclass_Self-emp-inc', True, 0.5)]\n",
      "0.9672698243746674 0.10815853264801352 0.32321187400659923 0.20097085347226581\n",
      "merge complete for batch_idx 34 (265) patterns\n",
      "start get explainer for batch_idx 34\n",
      "as_chirps for batch_idx 52\n",
      "start mining for batch_idx 52 with support = 0.3\n"
     ]
    },
    {
     "name": "stderr",
     "output_type": "stream",
     "text": [
      "/home/julianhatwell/Documents/github/explain_te/CHIRPS/structures.py:1450: RuntimeWarning: invalid value encountered in true_divide\n",
      "  np.histogram(lowers, lower_bins)[0]).round(5) # can result in nans\n",
      "/home/julianhatwell/Documents/github/explain_te/CHIRPS/structures.py:1445: RuntimeWarning: invalid value encountered in true_divide\n",
      "  np.histogram(uppers, upper_bins)[0]).round(5) # can result in nans if no value falls into bin\n"
     ]
    },
    {
     "name": "stdout",
     "output_type": "stream",
     "text": [
      "found 16 patterns from 600 for batch_idx 52\n",
      "start score sort for batch_idx 52 (16) patterns\n",
      "start merge rule for batch_idx 52 (16) patterns\n",
      "[('maritalstatus_Never-married', False, 0.5), ('educationnum', True, 12.5), ('lcapitalgain', True, 9.03497)]\n",
      "0.9869439630271519 0.24949562723576302 0.9633926654223584 0.621771950735002\n",
      "merge complete for batch_idx 49 (10) patterns\n",
      "start get explainer for batch_idx 49\n",
      "as_chirps for batch_idx 53\n",
      "start mining for batch_idx 53 with support = 0.3\n"
     ]
    },
    {
     "name": "stderr",
     "output_type": "stream",
     "text": [
      "/home/julianhatwell/Documents/github/explain_te/CHIRPS/structures.py:1450: RuntimeWarning: invalid value encountered in true_divide\n",
      "  np.histogram(lowers, lower_bins)[0]).round(5) # can result in nans\n"
     ]
    },
    {
     "name": "stdout",
     "output_type": "stream",
     "text": [
      "start merge rule for batch_idx 50 (915) patterns\n"
     ]
    },
    {
     "name": "stderr",
     "output_type": "stream",
     "text": [
      "/home/julianhatwell/Documents/github/explain_te/CHIRPS/structures.py:1445: RuntimeWarning: invalid value encountered in true_divide\n",
      "  np.histogram(uppers, upper_bins)[0]).round(5) # can result in nans if no value falls into bin\n"
     ]
    },
    {
     "name": "stdout",
     "output_type": "stream",
     "text": [
      "found 17 patterns from 567 for batch_idx 53\n",
      "start score sort for batch_idx 53 (17) patterns\n",
      "start merge rule for batch_idx 53 (17) patterns\n",
      "[('hoursperweek', True, 42.63372), ('lcapitalgain', True, 8.4156), ('occupation_Exec-managerial', True, 0.5), ('occupation_Prof-specialty', True, 0.5), ('occupation_Sales', True, 0.5), ('occupation_Craft-repair', True, 0.5), ('occupation_Transport-moving', True, 0.5), ('occupation_Tech-support', True, 0.5), ('lcapitalloss', True, 7.4652), ('educationnum', True, 13.49457)]\n",
      "0.9426795580110497 0.31019379128882446 0.03135157282962099 0.1268479573564321\n",
      "merge complete for batch_idx 40 (217) patterns\n",
      "start get explainer for batch_idx 40\n",
      "[('relationship_Other-relative', False, 0.5), ('lcapitalgain', True, 8.56553)]\n",
      "start get explainer for batch_idx 51\n",
      "0.9708372530573848 0.030916117052300515 0.48066205968856135 0.4399047996826656\n",
      "merge complete for batch_idx 51 (19) patterns\n",
      "as_chirps for batch_idx 54\n",
      "start mining for batch_idx 54 with support = 0.3\n",
      "as_chirps for batch_idx 55\n",
      "start mining for batch_idx 55 with support = 0.3\n"
     ]
    },
    {
     "name": "stderr",
     "output_type": "stream",
     "text": [
      "/home/julianhatwell/Documents/github/explain_te/CHIRPS/structures.py:1445: RuntimeWarning: invalid value encountered in true_divide\n",
      "  np.histogram(uppers, upper_bins)[0]).round(5) # can result in nans if no value falls into bin\n",
      "/home/julianhatwell/Documents/github/explain_te/CHIRPS/structures.py:1445: RuntimeWarning: invalid value encountered in true_divide\n",
      "  np.histogram(uppers, upper_bins)[0]).round(5) # can result in nans if no value falls into bin\n",
      "/home/julianhatwell/Documents/github/explain_te/CHIRPS/structures.py:1450: RuntimeWarning: invalid value encountered in true_divide\n",
      "  np.histogram(lowers, lower_bins)[0]).round(5) # can result in nans\n",
      "/home/julianhatwell/Documents/github/explain_te/CHIRPS/structures.py:1450: RuntimeWarning: invalid value encountered in true_divide\n",
      "  np.histogram(lowers, lower_bins)[0]).round(5) # can result in nans\n"
     ]
    },
    {
     "name": "stdout",
     "output_type": "stream",
     "text": [
      "found 13 patterns from 598 for batch_idx 55\n",
      "start score sort for batch_idx 55 (13) patterns\n",
      "found 21 patterns from 590 for batch_idx 54\n",
      "start score sort for batch_idx 54 (21) patterns\n",
      "start merge rule for batch_idx 55 (13) patterns\n",
      "start merge rule for batch_idx 54 (21) patterns\n",
      "[('maritalstatus_Never-married', False, 0.5)]\n",
      "0.9550782997762863 0.30597736258241237 0.6914547896410506 0.46255184191266163\n",
      "merge complete for batch_idx 52 (16) patterns\n",
      "start get explainer for batch_idx 52\n",
      "as_chirps for batch_idx 56\n",
      "start mining for batch_idx 56 with support = 0.3\n"
     ]
    },
    {
     "name": "stderr",
     "output_type": "stream",
     "text": [
      "/home/julianhatwell/Documents/github/explain_te/CHIRPS/structures.py:1450: RuntimeWarning: invalid value encountered in true_divide\n",
      "  np.histogram(lowers, lower_bins)[0]).round(5) # can result in nans\n"
     ]
    },
    {
     "name": "stdout",
     "output_type": "stream",
     "text": [
      "found 76 patterns from 401 for batch_idx 56\n",
      "start score sort for batch_idx 56 (76) patterns\n",
      "[('educationnum', True, 12.66608), ('maritalstatus_Married-civ-spouse', True, 0.5), ('lcapitalgain', True, 8.75052)]\n",
      "0.9768826135105205 0.4046437686538785 0.785784583821791 0.5101129498292619\n",
      "merge complete for batch_idx 53 (17) patterns\n",
      "start get explainer for batch_idx 53\n",
      "[('lcapitalgain', False, 8.53555), ('relationship_Husband', False, 0.5)]\n",
      "0.9872262773722628 0.03198120739094067 0.3745635244756738 0.3020951302378256\n",
      "merge complete for batch_idx 55 (13) patterns\n",
      "start get explainer for batch_idx 55\n",
      "start merge rule for batch_idx 56 (76) patterns\n",
      "as_chirps for batch_idx 57\n",
      "start mining for batch_idx 57 with support = 0.3\n"
     ]
    },
    {
     "name": "stderr",
     "output_type": "stream",
     "text": [
      "/home/julianhatwell/Documents/github/explain_te/CHIRPS/structures.py:1445: RuntimeWarning: invalid value encountered in true_divide\n",
      "  np.histogram(uppers, upper_bins)[0]).round(5) # can result in nans if no value falls into bin\n",
      "/home/julianhatwell/Documents/github/explain_te/CHIRPS/structures.py:1450: RuntimeWarning: invalid value encountered in true_divide\n",
      "  np.histogram(lowers, lower_bins)[0]).round(5) # can result in nans\n"
     ]
    },
    {
     "name": "stdout",
     "output_type": "stream",
     "text": [
      "as_chirps for batch_idx 58\n",
      "start mining for batch_idx 58 with support = 0.3\n"
     ]
    },
    {
     "name": "stderr",
     "output_type": "stream",
     "text": [
      "/home/julianhatwell/Documents/github/explain_te/CHIRPS/structures.py:1450: RuntimeWarning: invalid value encountered in true_divide\n",
      "  np.histogram(lowers, lower_bins)[0]).round(5) # can result in nans\n",
      "/home/julianhatwell/Documents/github/explain_te/CHIRPS/structures.py:1445: RuntimeWarning: invalid value encountered in true_divide\n",
      "  np.histogram(uppers, upper_bins)[0]).round(5) # can result in nans if no value falls into bin\n"
     ]
    },
    {
     "name": "stdout",
     "output_type": "stream",
     "text": [
      "found 609 patterns from 444 for batch_idx 57\n",
      "start score sort for batch_idx 57 (609) patterns\n",
      "found 16 patterns from 535 for batch_idx 58\n",
      "start score sort for batch_idx 58 (16) patterns\n",
      "start merge rule for batch_idx 58 (16) patterns\n",
      "[('relationship_Other-relative', False, 0.5), ('lcapitalgain', True, 8.52018)]\n",
      "0.9717514124293786 0.030890924098394505 0.40671191688564323 0.3120638085742772\n",
      "merge complete for batch_idx 54 (21) patterns\n",
      "start get explainer for batch_idx 54\n",
      "[('educationnum', True, 12.65517), ('maritalstatus_Married-civ-spouse', True, 0.5), ('lcapitalgain', True, 8.7679), ('lcapitalloss', True, 7.6328)]\n",
      "0.9785073381094804 0.4039927273361834 0.65747817700707 0.5597231972720892\n",
      "merge complete for batch_idx 48 (48) patterns\n",
      "start get explainer for batch_idx 48\n",
      "as_chirps for batch_idx 59\n",
      "start mining for batch_idx 59 with support = 0.3\n"
     ]
    },
    {
     "name": "stderr",
     "output_type": "stream",
     "text": [
      "/home/julianhatwell/Documents/github/explain_te/CHIRPS/structures.py:1445: RuntimeWarning: invalid value encountered in true_divide\n",
      "  np.histogram(uppers, upper_bins)[0]).round(5) # can result in nans if no value falls into bin\n",
      "/home/julianhatwell/Documents/github/explain_te/CHIRPS/structures.py:1450: RuntimeWarning: invalid value encountered in true_divide\n",
      "  np.histogram(lowers, lower_bins)[0]).round(5) # can result in nans\n"
     ]
    },
    {
     "name": "stdout",
     "output_type": "stream",
     "text": [
      "found 529 patterns from 441 for batch_idx 59\n",
      "start score sort for batch_idx 59 (529) patterns\n",
      "as_chirps for batch_idx 60\n",
      "start mining for batch_idx 60 with support = 0.3\n"
     ]
    },
    {
     "name": "stderr",
     "output_type": "stream",
     "text": [
      "/home/julianhatwell/Documents/github/explain_te/CHIRPS/structures.py:1445: RuntimeWarning: invalid value encountered in true_divide\n",
      "  np.histogram(uppers, upper_bins)[0]).round(5) # can result in nans if no value falls into bin\n",
      "/home/julianhatwell/Documents/github/explain_te/CHIRPS/structures.py:1450: RuntimeWarning: invalid value encountered in true_divide\n",
      "  np.histogram(lowers, lower_bins)[0]).round(5) # can result in nans\n"
     ]
    },
    {
     "name": "stdout",
     "output_type": "stream",
     "text": [
      "found 91 patterns from 524 for batch_idx 60\n",
      "start score sort for batch_idx 60 (91) patterns\n",
      "start merge rule for batch_idx 60 (91) patterns\n",
      "[('educationnum', True, 12.7112), ('maritalstatus_Married-civ-spouse', True, 0.5), ('lcapitalgain', True, 8.80821), ('lcapitalloss', True, 7.6266)]\n",
      "0.9784467774455955 0.4041078190829062 0.4887879644041976 0.38608138717488094\n",
      "merge complete for batch_idx 47 (57) patterns\n",
      "start get explainer for batch_idx 47\n",
      "start merge rule for batch_idx 57 (609) patterns\n",
      "as_chirps for batch_idx 61\n",
      "start mining for batch_idx 61 with support = 0.3\n"
     ]
    },
    {
     "name": "stderr",
     "output_type": "stream",
     "text": [
      "/home/julianhatwell/Documents/github/explain_te/CHIRPS/structures.py:1445: RuntimeWarning: invalid value encountered in true_divide\n",
      "  np.histogram(uppers, upper_bins)[0]).round(5) # can result in nans if no value falls into bin\n",
      "/home/julianhatwell/Documents/github/explain_te/CHIRPS/structures.py:1450: RuntimeWarning: invalid value encountered in true_divide\n",
      "  np.histogram(lowers, lower_bins)[0]).round(5) # can result in nans\n"
     ]
    },
    {
     "name": "stdout",
     "output_type": "stream",
     "text": [
      "start merge rule for batch_idx 59 (529) patterns\n",
      "found 492 patterns from 590 for batch_idx 61\n",
      "start score sort for batch_idx 61 (492) patterns\n",
      "start merge rule for batch_idx 61 (492) patterns\n",
      "[('relationship_Husband', True, 0.5), ('lcapitalgain', True, 8.53613), ('occupation_Exec-managerial', True, 0.5), ('occupation_Prof-specialty', True, 0.5), ('lcapitalloss', True, 7.51419)]\n",
      "0.9596103896103896 0.4148027528692124 0.3635695484094943 0.49478308621636474\n",
      "merge complete for batch_idx 58 (16) patterns\n",
      "start get explainer for batch_idx 58\n",
      "as_chirps for batch_idx 62\n",
      "start mining for batch_idx 62 with support = 0.3\n"
     ]
    },
    {
     "name": "stderr",
     "output_type": "stream",
     "text": [
      "/home/julianhatwell/Documents/github/explain_te/CHIRPS/structures.py:1445: RuntimeWarning: invalid value encountered in true_divide\n",
      "  np.histogram(uppers, upper_bins)[0]).round(5) # can result in nans if no value falls into bin\n",
      "/home/julianhatwell/Documents/github/explain_te/CHIRPS/structures.py:1450: RuntimeWarning: invalid value encountered in true_divide\n",
      "  np.histogram(lowers, lower_bins)[0]).round(5) # can result in nans\n"
     ]
    },
    {
     "name": "stdout",
     "output_type": "stream",
     "text": [
      "found 20 patterns from 498 for batch_idx 62\n",
      "start score sort for batch_idx 62 (20) patterns\n",
      "start merge rule for batch_idx 62 (20) patterns\n",
      "[('lcapitalgain', True, 8.71684), ('maritalstatus_Never-married', False, 0.5), ('occupation_Prof-specialty', True, 0.5), ('occupation_Exec-managerial', True, 0.5)]\n",
      "0.9848603790512505 0.25631991751957917 0.17809987339516672 0.17383259911894264\n",
      "merge complete for batch_idx 56 (76) patterns\n",
      "start get explainer for batch_idx 56\n",
      "as_chirps for batch_idx 63\n",
      "start mining for batch_idx 63 with support = 0.3\n"
     ]
    },
    {
     "name": "stderr",
     "output_type": "stream",
     "text": [
      "/home/julianhatwell/Documents/github/explain_te/CHIRPS/structures.py:1450: RuntimeWarning: invalid value encountered in true_divide\n",
      "  np.histogram(lowers, lower_bins)[0]).round(5) # can result in nans\n",
      "/home/julianhatwell/Documents/github/explain_te/CHIRPS/structures.py:1445: RuntimeWarning: invalid value encountered in true_divide\n",
      "  np.histogram(uppers, upper_bins)[0]).round(5) # can result in nans if no value falls into bin\n"
     ]
    },
    {
     "name": "stdout",
     "output_type": "stream",
     "text": [
      "found 19 patterns from 599 for batch_idx 63\n",
      "start score sort for batch_idx 63 (19) patterns\n",
      "start merge rule for batch_idx 63 (19) patterns\n",
      "[('relationship_Unmarried', False, 0.5), ('lcapitalgain', True, 8.86963)]\n",
      "0.9535805264647609 0.10114049708378159 0.31468864890905757 0.3822277847309137\n",
      "merge complete for batch_idx 62 (20) patterns\n",
      "start get explainer for batch_idx 62\n",
      "as_chirps for batch_idx 64\n",
      "start mining for batch_idx 64 with support = 0.3\n"
     ]
    },
    {
     "name": "stderr",
     "output_type": "stream",
     "text": [
      "/home/julianhatwell/Documents/github/explain_te/CHIRPS/structures.py:1445: RuntimeWarning: invalid value encountered in true_divide\n",
      "  np.histogram(uppers, upper_bins)[0]).round(5) # can result in nans if no value falls into bin\n",
      "/home/julianhatwell/Documents/github/explain_te/CHIRPS/structures.py:1450: RuntimeWarning: invalid value encountered in true_divide\n",
      "  np.histogram(lowers, lower_bins)[0]).round(5) # can result in nans\n"
     ]
    },
    {
     "name": "stdout",
     "output_type": "stream",
     "text": [
      "found 28 patterns from 599 for batch_idx 64\n",
      "start score sort for batch_idx 64 (28) patterns\n",
      "start merge rule for batch_idx 64 (28) patterns\n",
      "[('lcapitalgain', True, 8.7562), ('maritalstatus_Never-married', False, 0.5), ('lcapitalloss', True, 7.56573), ('educationnum', True, 13.5)]\n",
      "0.9783216109451778 0.29487823226938664 0.32375243366964906 0.23228585629866907\n",
      "merge complete for batch_idx 60 (91) patterns\n",
      "start get explainer for batch_idx 60\n",
      "as_chirps for batch_idx 65\n",
      "start mining for batch_idx 65 with support = 0.3\n"
     ]
    },
    {
     "name": "stderr",
     "output_type": "stream",
     "text": [
      "/home/julianhatwell/Documents/github/explain_te/CHIRPS/structures.py:1445: RuntimeWarning: invalid value encountered in true_divide\n",
      "  np.histogram(uppers, upper_bins)[0]).round(5) # can result in nans if no value falls into bin\n",
      "/home/julianhatwell/Documents/github/explain_te/CHIRPS/structures.py:1450: RuntimeWarning: invalid value encountered in true_divide\n",
      "  np.histogram(lowers, lower_bins)[0]).round(5) # can result in nans\n"
     ]
    },
    {
     "name": "stdout",
     "output_type": "stream",
     "text": [
      "found 248 patterns from 366 for batch_idx 65\n",
      "start score sort for batch_idx 65 (248) patterns\n",
      "start merge rule for batch_idx 65 (248) patterns\n",
      "[('hoursperweek', True, 43.39688), ('maritalstatus_Married-civ-spouse', True, 0.5), ('lcapitalloss', True, 7.62043), ('lcapitalgain', True, 8.52135)]\n",
      "0.9759203841603452 0.4017891665116675 0.7609753863405638 0.5439892545332436\n",
      "merge complete for batch_idx 63 (19) patterns\n",
      "start get explainer for batch_idx 63\n",
      "[('educationnum', True, 9.5), ('hoursperweek', True, 43.36858), ('lcapitalgain', True, 8.38101), ('lcapitalloss', True, 7.432)]\n",
      "0.9477592382283567 0.3093363635454026 0.37244674620248486 0.37273825966850826\n",
      "merge complete for batch_idx 50 (915) patterns\n",
      "start get explainer for batch_idx 50\n",
      "[('maritalstatus_Married-civ-spouse', True, 0.5), ('lcapitalgain', True, 8.70778), ('educationnum', True, 12.66279)]\n",
      "0.9769502318820517 0.40466952740698575 0.6620267957446649 0.5037243947858474\n",
      "merge complete for batch_idx 64 (28) patterns\n",
      "start get explainer for batch_idx 64\n",
      "as_chirps for batch_idx 66\n",
      "start mining for batch_idx 66 with support = 0.3\n"
     ]
    },
    {
     "name": "stderr",
     "output_type": "stream",
     "text": [
      "/home/julianhatwell/Documents/github/explain_te/CHIRPS/structures.py:1445: RuntimeWarning: invalid value encountered in true_divide\n",
      "  np.histogram(uppers, upper_bins)[0]).round(5) # can result in nans if no value falls into bin\n",
      "/home/julianhatwell/Documents/github/explain_te/CHIRPS/structures.py:1450: RuntimeWarning: invalid value encountered in true_divide\n",
      "  np.histogram(lowers, lower_bins)[0]).round(5) # can result in nans\n"
     ]
    },
    {
     "name": "stdout",
     "output_type": "stream",
     "text": [
      "start score sort for batch_idx 66 (403) patterns\n",
      "found 403 patterns from 314 for batch_idx 66\n",
      "reduced 5 patterns out of 408 by numeric redundancy\n",
      "as_chirps for batch_idx 67\n",
      "start mining for batch_idx 67 with support = 0.3\n"
     ]
    },
    {
     "name": "stderr",
     "output_type": "stream",
     "text": [
      "/home/julianhatwell/Documents/github/explain_te/CHIRPS/structures.py:1450: RuntimeWarning: invalid value encountered in true_divide\n",
      "  np.histogram(lowers, lower_bins)[0]).round(5) # can result in nans\n"
     ]
    },
    {
     "name": "stdout",
     "output_type": "stream",
     "text": [
      "found 80 patterns from 596 for batch_idx 67\n",
      "start score sort for batch_idx 67 (80) patterns\n",
      "as_chirps for batch_idx 68\n",
      "start mining for batch_idx 68 with support = 0.3\n"
     ]
    },
    {
     "name": "stderr",
     "output_type": "stream",
     "text": [
      "/home/julianhatwell/Documents/github/explain_te/CHIRPS/structures.py:1450: RuntimeWarning: invalid value encountered in true_divide\n",
      "  np.histogram(lowers, lower_bins)[0]).round(5) # can result in nans\n"
     ]
    },
    {
     "name": "stdout",
     "output_type": "stream",
     "text": [
      "start merge rule for batch_idx 67 (80) patterns\n"
     ]
    },
    {
     "name": "stderr",
     "output_type": "stream",
     "text": [
      "/home/julianhatwell/Documents/github/explain_te/CHIRPS/structures.py:1445: RuntimeWarning: invalid value encountered in true_divide\n",
      "  np.histogram(uppers, upper_bins)[0]).round(5) # can result in nans if no value falls into bin\n"
     ]
    },
    {
     "name": "stdout",
     "output_type": "stream",
     "text": [
      "found 56 patterns from 597 for batch_idx 68\n",
      "start score sort for batch_idx 68 (56) patterns\n",
      "start merge rule for batch_idx 68 (56) patterns\n",
      "start merge rule for batch_idx 66 (403) patterns\n",
      "[('hoursperweek', True, 43.10309), ('lcapitalgain', True, 8.37102), ('lcapitalloss', True, 7.4365), ('occupation_Exec-managerial', True, 0.5), ('occupation_Prof-specialty', True, 0.5), ('occupation_Tech-support', True, 0.5), ('occupation_Protective-serv', True, 0.5), ('occupation_Farming-fishing', True, 0.5), ('occupation_Transport-moving', True, 0.5), ('occupation_Adm-clerical', True, 0.5), ('occupation_Sales', True, 0.5), ('educationnum', True, 10.5034)]\n",
      "0.9637271937445699 0.2578672666639627 0.13263641405971704 0.12310067001922109\n",
      "merge complete for batch_idx 32 (1158) patterns\n",
      "start get explainer for batch_idx 32\n",
      "as_chirps for batch_idx 69\n",
      "start mining for batch_idx 69 with support = 0.3\n"
     ]
    },
    {
     "name": "stderr",
     "output_type": "stream",
     "text": [
      "/home/julianhatwell/Documents/github/explain_te/CHIRPS/structures.py:1450: RuntimeWarning: invalid value encountered in true_divide\n",
      "  np.histogram(lowers, lower_bins)[0]).round(5) # can result in nans\n",
      "/home/julianhatwell/Documents/github/explain_te/CHIRPS/structures.py:1445: RuntimeWarning: invalid value encountered in true_divide\n",
      "  np.histogram(uppers, upper_bins)[0]).round(5) # can result in nans if no value falls into bin\n"
     ]
    },
    {
     "name": "stdout",
     "output_type": "stream",
     "text": [
      "found 25 patterns from 583 for batch_idx 69\n",
      "start score sort for batch_idx 69 (25) patterns\n",
      "start merge rule for batch_idx 69 (25) patterns\n",
      "[('lcapitalgain', True, 8.76859), ('maritalstatus_Never-married', False, 0.5)]\n",
      "0.9665215024496462 0.3072431112309414 0.5133909215041147 0.356124458448208\n",
      "merge complete for batch_idx 68 (56) patterns\n",
      "start get explainer for batch_idx 68\n",
      "as_chirps for batch_idx 70\n",
      "start mining for batch_idx 70 with support = 0.3\n"
     ]
    },
    {
     "name": "stderr",
     "output_type": "stream",
     "text": [
      "/home/julianhatwell/Documents/github/explain_te/CHIRPS/structures.py:1450: RuntimeWarning: invalid value encountered in true_divide\n",
      "  np.histogram(lowers, lower_bins)[0]).round(5) # can result in nans\n",
      "/home/julianhatwell/Documents/github/explain_te/CHIRPS/structures.py:1445: RuntimeWarning: invalid value encountered in true_divide\n",
      "  np.histogram(uppers, upper_bins)[0]).round(5) # can result in nans if no value falls into bin\n"
     ]
    },
    {
     "name": "stdout",
     "output_type": "stream",
     "text": [
      "found 30 patterns from 583 for batch_idx 70\n",
      "start score sort for batch_idx 70 (30) patterns\n",
      "start merge rule for batch_idx 70 (30) patterns\n",
      "[('lcapitalgain', True, 8.46452), ('educationnum', True, 8.00235)]\n",
      "0.957752808988764 0.127009294413257 0.6049622435194885 0.36793867688718535\n",
      "merge complete for batch_idx 69 (25) patterns\n",
      "start get explainer for batch_idx 69\n",
      "as_chirps for batch_idx 71\n",
      "start mining for batch_idx 71 with support = 0.3\n"
     ]
    },
    {
     "name": "stderr",
     "output_type": "stream",
     "text": [
      "/home/julianhatwell/Documents/github/explain_te/CHIRPS/structures.py:1445: RuntimeWarning: invalid value encountered in true_divide\n",
      "  np.histogram(uppers, upper_bins)[0]).round(5) # can result in nans if no value falls into bin\n",
      "/home/julianhatwell/Documents/github/explain_te/CHIRPS/structures.py:1450: RuntimeWarning: invalid value encountered in true_divide\n",
      "  np.histogram(lowers, lower_bins)[0]).round(5) # can result in nans\n"
     ]
    },
    {
     "name": "stdout",
     "output_type": "stream",
     "text": [
      "found 188 patterns from 502 for batch_idx 71\n",
      "start score sort for batch_idx 71 (188) patterns\n",
      "start merge rule for batch_idx 71 (188) patterns\n",
      "[('lcapitalgain', True, 8.6906), ('maritalstatus_Married-civ-spouse', True, 0.5), ('educationnum', True, 12.81579)]\n",
      "0.9769502318820517 0.40466952740698575 0.7244391909338586 0.503475238922676\n",
      "merge complete for batch_idx 70 (30) patterns\n",
      "start get explainer for batch_idx 70\n",
      "as_chirps for batch_idx 72\n",
      "start mining for batch_idx 72 with support = 0.3\n"
     ]
    },
    {
     "name": "stderr",
     "output_type": "stream",
     "text": [
      "/home/julianhatwell/Documents/github/explain_te/CHIRPS/structures.py:1445: RuntimeWarning: invalid value encountered in true_divide\n",
      "  np.histogram(uppers, upper_bins)[0]).round(5) # can result in nans if no value falls into bin\n",
      "/home/julianhatwell/Documents/github/explain_te/CHIRPS/structures.py:1450: RuntimeWarning: invalid value encountered in true_divide\n",
      "  np.histogram(lowers, lower_bins)[0]).round(5) # can result in nans\n"
     ]
    },
    {
     "name": "stdout",
     "output_type": "stream",
     "text": [
      "found 117 patterns from 394 for batch_idx 72\n",
      "start score sort for batch_idx 72 (117) patterns\n",
      "start merge rule for batch_idx 72 (117) patterns\n",
      "[('age', True, 29.16036), ('lcapitalgain', True, 8.53583), ('lcapitalloss', True, 7.45197)]\n",
      "0.9621479761784597 0.2759351335634528 0.32236253115926145 0.19466357752843416\n",
      "merge complete for batch_idx 61 (492) patterns\n",
      "start get explainer for batch_idx 61\n",
      "[('educationnum', True, 9.73855), ('hoursperweek', True, 43.625), ('lcapitalgain', True, 8.50702), ('lcapitalloss', True, 7.45292), ('workclass_Self-emp-inc', True, 0.5), ('workclass_Federal-gov', True, 0.5), ('workclass_Local-gov', True, 0.5)]\n",
      "start get explainer for batch_idx 59\n",
      "0.955893536121673 0.2895276776759875 0.22261440842440622 0.16027820526585768\n",
      "merge complete for batch_idx 59 (529) patterns\n",
      "as_chirps for batch_idx 73\n",
      "start mining for batch_idx 73 with support = 0.3\n"
     ]
    },
    {
     "name": "stderr",
     "output_type": "stream",
     "text": [
      "/home/julianhatwell/Documents/github/explain_te/CHIRPS/structures.py:1445: RuntimeWarning: invalid value encountered in true_divide\n",
      "  np.histogram(uppers, upper_bins)[0]).round(5) # can result in nans if no value falls into bin\n",
      "/home/julianhatwell/Documents/github/explain_te/CHIRPS/structures.py:1450: RuntimeWarning: invalid value encountered in true_divide\n",
      "  np.histogram(lowers, lower_bins)[0]).round(5) # can result in nans\n"
     ]
    },
    {
     "name": "stdout",
     "output_type": "stream",
     "text": [
      "[('lcapitalgain', True, 8.71835), ('maritalstatus_Never-married', False, 0.5), ('lcapitalloss', True, 7.63577)]\n",
      "0.96917183509668 0.30689098312018487 0.6621187789485669 0.5538992101457336\n",
      "merge complete for batch_idx 67 (80) patterns\n",
      "start get explainer for batch_idx 67\n",
      "reduced 1 patterns out of 209 by numeric redundancy\n",
      "found 208 patterns from 471 for batch_idx 73\n",
      "start score sort for batch_idx 73 (208) patterns\n",
      "as_chirps for batch_idx 74\n",
      "start mining for batch_idx 74 with support = 0.3\n"
     ]
    },
    {
     "name": "stderr",
     "output_type": "stream",
     "text": [
      "/home/julianhatwell/Documents/github/explain_te/CHIRPS/structures.py:1450: RuntimeWarning: invalid value encountered in true_divide\n",
      "  np.histogram(lowers, lower_bins)[0]).round(5) # can result in nans\n",
      "/home/julianhatwell/Documents/github/explain_te/CHIRPS/structures.py:1445: RuntimeWarning: invalid value encountered in true_divide\n",
      "  np.histogram(uppers, upper_bins)[0]).round(5) # can result in nans if no value falls into bin\n"
     ]
    },
    {
     "name": "stdout",
     "output_type": "stream",
     "text": [
      "found 23 patterns from 596 for batch_idx 74\n",
      "start score sort for batch_idx 74 (23) patterns\n",
      "start merge rule for batch_idx 74 (23) patterns\n",
      "as_chirps for batch_idx 75\n",
      "start mining for batch_idx 75 with support = 0.3\n",
      "start merge rule for batch_idx 73 (208) patterns\n"
     ]
    },
    {
     "name": "stderr",
     "output_type": "stream",
     "text": [
      "/home/julianhatwell/Documents/github/explain_te/CHIRPS/structures.py:1445: RuntimeWarning: invalid value encountered in true_divide\n",
      "  np.histogram(uppers, upper_bins)[0]).round(5) # can result in nans if no value falls into bin\n",
      "/home/julianhatwell/Documents/github/explain_te/CHIRPS/structures.py:1450: RuntimeWarning: invalid value encountered in true_divide\n",
      "  np.histogram(lowers, lower_bins)[0]).round(5) # can result in nans\n"
     ]
    },
    {
     "name": "stdout",
     "output_type": "stream",
     "text": [
      "reduced 6 patterns out of 587 by numeric redundancy\n",
      "found 581 patterns from 524 for batch_idx 75\n",
      "start score sort for batch_idx 75 (581) patterns\n",
      "[('hoursperweek', False, 46.01901), ('occupation_Exec-managerial', False, 0.5), ('relationship_Husband', False, 0.5), ('workclass_Private', False, 0.5), ('lfnlwgt', False, 11.82612), ('age', False, 30.57614), ('nativecountry_United-States', False, 0.5)]\n",
      "0.892271662763466 0.012409038297266159 0.25657366516303487 0.1590913849052653\n",
      "merge complete for batch_idx 66 (403) patterns\n",
      "start get explainer for batch_idx 66\n",
      "start merge rule for batch_idx 75 (581) patterns\n",
      "as_chirps for batch_idx 76\n",
      "start mining for batch_idx 76 with support = 0.3\n"
     ]
    },
    {
     "name": "stderr",
     "output_type": "stream",
     "text": [
      "/home/julianhatwell/Documents/github/explain_te/CHIRPS/structures.py:1445: RuntimeWarning: invalid value encountered in true_divide\n",
      "  np.histogram(uppers, upper_bins)[0]).round(5) # can result in nans if no value falls into bin\n",
      "/home/julianhatwell/Documents/github/explain_te/CHIRPS/structures.py:1450: RuntimeWarning: invalid value encountered in true_divide\n",
      "  np.histogram(lowers, lower_bins)[0]).round(5) # can result in nans\n"
     ]
    },
    {
     "name": "stdout",
     "output_type": "stream",
     "text": [
      "reduced 11 patterns out of 679 by numeric redundancy\n",
      "found 668 patterns from 536 for batch_idx 76\n",
      "start score sort for batch_idx 76 (668) patterns\n",
      "[('educationnum', False, 12.20914), ('hoursperweek', False, 35.2992), ('relationship_Husband', False, 0.5), ('occupation_Other-service', True, 0.5), ('occupation_Craft-repair', True, 0.5), ('occupation_Farming-fishing', True, 0.5), ('occupation_Machine-op-inspct', True, 0.5), ('occupation_Transport-moving', True, 0.5), ('occupation_Handlers-cleaners', True, 0.5), ('age', False, 35.11598), ('workclass_Private', False, 0.5), ('race_Black', True, 0.5)]\n",
      "0.8892782060266293 0.041429509838411226 0.2624777470884471 0.1331528207569625\n",
      "merge complete for batch_idx 65 (248) patterns\n",
      "start get explainer for batch_idx 65\n",
      "start merge rule for batch_idx 76 (668) patterns\n",
      "as_chirps for batch_idx 77\n",
      "start mining for batch_idx 77 with support = 0.3\n"
     ]
    },
    {
     "name": "stderr",
     "output_type": "stream",
     "text": [
      "/home/julianhatwell/Documents/github/explain_te/CHIRPS/structures.py:1445: RuntimeWarning: invalid value encountered in true_divide\n",
      "  np.histogram(uppers, upper_bins)[0]).round(5) # can result in nans if no value falls into bin\n",
      "/home/julianhatwell/Documents/github/explain_te/CHIRPS/structures.py:1450: RuntimeWarning: invalid value encountered in true_divide\n",
      "  np.histogram(lowers, lower_bins)[0]).round(5) # can result in nans\n"
     ]
    },
    {
     "name": "stdout",
     "output_type": "stream",
     "text": [
      "reduced 1 patterns out of 809 by numeric redundancy\n",
      "found 808 patterns from 287 for batch_idx 77\n",
      "start score sort for batch_idx 77 (808) patterns\n",
      "[('maritalstatus_Never-married', False, 0.5), ('lcapitalloss', True, 7.63477), ('lcapitalgain', True, 8.51098)]\n",
      "0.9691662105455209 0.30683499133344516 0.5136301628929918 0.48095857328627156\n",
      "merge complete for batch_idx 74 (23) patterns\n",
      "start get explainer for batch_idx 74\n",
      "as_chirps for batch_idx 78\n",
      "start mining for batch_idx 78 with support = 0.3\n"
     ]
    },
    {
     "name": "stderr",
     "output_type": "stream",
     "text": [
      "/home/julianhatwell/Documents/github/explain_te/CHIRPS/structures.py:1445: RuntimeWarning: invalid value encountered in true_divide\n",
      "  np.histogram(uppers, upper_bins)[0]).round(5) # can result in nans if no value falls into bin\n",
      "/home/julianhatwell/Documents/github/explain_te/CHIRPS/structures.py:1450: RuntimeWarning: invalid value encountered in true_divide\n",
      "  np.histogram(lowers, lower_bins)[0]).round(5) # can result in nans\n"
     ]
    },
    {
     "name": "stdout",
     "output_type": "stream",
     "text": [
      "found 50 patterns from 575 for batch_idx 78\n",
      "start score sort for batch_idx 78 (50) patterns\n",
      "start merge rule for batch_idx 78 (50) patterns\n",
      "[('lcapitalgain', True, 8.46793), ('educationnum', True, 9.82641), ('lcapitalloss', True, 7.47578), ('relationship_Husband', True, 0.5)]\n",
      "0.9698887191795766 0.2586692944763883 0.3783322895576151 0.3718144383332855\n",
      "merge complete for batch_idx 71 (188) patterns\n",
      "start get explainer for batch_idx 71\n",
      "start merge rule for batch_idx 77 (808) patterns\n",
      "as_chirps for batch_idx 79\n",
      "start mining for batch_idx 79 with support = 0.3\n"
     ]
    },
    {
     "name": "stderr",
     "output_type": "stream",
     "text": [
      "/home/julianhatwell/Documents/github/explain_te/CHIRPS/structures.py:1445: RuntimeWarning: invalid value encountered in true_divide\n",
      "  np.histogram(uppers, upper_bins)[0]).round(5) # can result in nans if no value falls into bin\n",
      "/home/julianhatwell/Documents/github/explain_te/CHIRPS/structures.py:1450: RuntimeWarning: invalid value encountered in true_divide\n",
      "  np.histogram(lowers, lower_bins)[0]).round(5) # can result in nans\n"
     ]
    },
    {
     "name": "stdout",
     "output_type": "stream",
     "text": [
      "found 812 patterns from 565 for batch_idx 79\n",
      "start score sort for batch_idx 79 (812) patterns\n",
      "[('hoursperweek', True, 43.20732), ('lcapitalgain', True, 8.4314), ('lcapitalloss', True, 7.46167), ('occupation_Exec-managerial', True, 0.5), ('occupation_Prof-specialty', True, 0.5), ('occupation_Tech-support', True, 0.5), ('occupation_Craft-repair', True, 0.5), ('educationnum', True, 11.49675)]\n",
      "0.9481980258627286 0.349333338157516 0.424661973704995 0.35648778178805973\n",
      "merge complete for batch_idx 72 (117) patterns\n",
      "start get explainer for batch_idx 72\n",
      "as_chirps for batch_idx 80\n",
      "start mining for batch_idx 80 with support = 0.3\n",
      "start merge rule for batch_idx 79 (812) patterns\n"
     ]
    },
    {
     "name": "stderr",
     "output_type": "stream",
     "text": [
      "/home/julianhatwell/Documents/github/explain_te/CHIRPS/structures.py:1450: RuntimeWarning: invalid value encountered in true_divide\n",
      "  np.histogram(lowers, lower_bins)[0]).round(5) # can result in nans\n"
     ]
    },
    {
     "name": "stdout",
     "output_type": "stream",
     "text": [
      "found 40 patterns from 504 for batch_idx 80\n",
      "start score sort for batch_idx 80 (40) patterns\n",
      "start merge rule for batch_idx 80 (40) patterns\n",
      "[('age', False, 29.75128), ('educationnum', False, 13.06346), ('hoursperweek', False, 45.49342), ('occupation_Exec-managerial', False, 0.5), ('relationship_Husband', False, 0.5), ('nativecountry_United-States', False, 0.5)]\n",
      "0.957345971563981 0.006110916010318832 0.19285637960551183 0.12746011877812993\n",
      "merge complete for batch_idx 73 (208) patterns\n",
      "start get explainer for batch_idx 73\n",
      "as_chirps for batch_idx 81\n",
      "start mining for batch_idx 81 with support = 0.3\n"
     ]
    },
    {
     "name": "stderr",
     "output_type": "stream",
     "text": [
      "/home/julianhatwell/Documents/github/explain_te/CHIRPS/structures.py:1450: RuntimeWarning: invalid value encountered in true_divide\n",
      "  np.histogram(lowers, lower_bins)[0]).round(5) # can result in nans\n",
      "/home/julianhatwell/Documents/github/explain_te/CHIRPS/structures.py:1445: RuntimeWarning: invalid value encountered in true_divide\n",
      "  np.histogram(uppers, upper_bins)[0]).round(5) # can result in nans if no value falls into bin\n"
     ]
    },
    {
     "name": "stdout",
     "output_type": "stream",
     "text": [
      "[('maritalstatus_Never-married', False, 0.5), ('lcapitalgain', True, 8.73451)]\n",
      "0.9665215024496462 0.3072431112309414 0.4530016296692648 0.3479649571089616\n",
      "merge complete for batch_idx 78 (50) patterns\n",
      "start get explainer for batch_idx 78\n",
      "found 37 patterns from 549 for batch_idx 81\n",
      "start score sort for batch_idx 81 (37) patterns\n",
      "start merge rule for batch_idx 81 (37) patterns\n",
      "as_chirps for batch_idx 82\n",
      "start mining for batch_idx 82 with support = 0.3\n"
     ]
    },
    {
     "name": "stderr",
     "output_type": "stream",
     "text": [
      "/home/julianhatwell/Documents/github/explain_te/CHIRPS/structures.py:1450: RuntimeWarning: invalid value encountered in true_divide\n",
      "  np.histogram(lowers, lower_bins)[0]).round(5) # can result in nans\n",
      "/home/julianhatwell/Documents/github/explain_te/CHIRPS/structures.py:1445: RuntimeWarning: invalid value encountered in true_divide\n",
      "  np.histogram(uppers, upper_bins)[0]).round(5) # can result in nans if no value falls into bin\n"
     ]
    },
    {
     "name": "stdout",
     "output_type": "stream",
     "text": [
      "found 10 patterns from 600 for batch_idx 82\n",
      "start score sort for batch_idx 82 (10) patterns\n",
      "start merge rule for batch_idx 82 (10) patterns\n",
      "[('occupation_Other-service', False, 0.5), ('lcapitalgain', True, 8.73736)]\n",
      "0.9665983006152945 0.09833811597442325 0.25905582091497054 0.3138772298006296\n",
      "merge complete for batch_idx 80 (40) patterns\n",
      "start get explainer for batch_idx 80\n",
      "as_chirps for batch_idx 83\n",
      "start mining for batch_idx 83 with support = 0.3\n"
     ]
    },
    {
     "name": "stderr",
     "output_type": "stream",
     "text": [
      "/home/julianhatwell/Documents/github/explain_te/CHIRPS/structures.py:1450: RuntimeWarning: invalid value encountered in true_divide\n",
      "  np.histogram(lowers, lower_bins)[0]).round(5) # can result in nans\n",
      "/home/julianhatwell/Documents/github/explain_te/CHIRPS/structures.py:1445: RuntimeWarning: invalid value encountered in true_divide\n",
      "  np.histogram(uppers, upper_bins)[0]).round(5) # can result in nans if no value falls into bin\n"
     ]
    },
    {
     "name": "stdout",
     "output_type": "stream",
     "text": [
      "found 119 patterns from 462 for batch_idx 83\n",
      "start score sort for batch_idx 83 (119) patterns\n",
      "start merge rule for batch_idx 83 (119) patterns\n",
      "[('relationship_Own-child', False, 0.5)]\n",
      "0.9851823708206687 0.15240703040646597 0.5923924509575786 0.3168067226890756\n",
      "merge complete for batch_idx 82 (10) patterns\n",
      "start get explainer for batch_idx 82\n",
      "as_chirps for batch_idx 84\n",
      "start mining for batch_idx 84 with support = 0.3\n"
     ]
    },
    {
     "name": "stderr",
     "output_type": "stream",
     "text": [
      "/home/julianhatwell/Documents/github/explain_te/CHIRPS/structures.py:1445: RuntimeWarning: invalid value encountered in true_divide\n",
      "  np.histogram(uppers, upper_bins)[0]).round(5) # can result in nans if no value falls into bin\n",
      "/home/julianhatwell/Documents/github/explain_te/CHIRPS/structures.py:1450: RuntimeWarning: invalid value encountered in true_divide\n",
      "  np.histogram(lowers, lower_bins)[0]).round(5) # can result in nans\n"
     ]
    },
    {
     "name": "stdout",
     "output_type": "stream",
     "text": [
      "reduced 4 patterns out of 695 by numeric redundancy\n",
      "found 691 patterns from 453 for batch_idx 84\n",
      "start score sort for batch_idx 84 (691) patterns\n",
      "[('educationnum', True, 8.90578), ('lcapitalgain', True, 8.03238), ('lcapitalloss', True, 7.44773)]\n",
      "0.9629715343670446 0.12377594926365403 0.14729935781683448 0.123280183172095\n",
      "merge complete for batch_idx 57 (609) patterns\n",
      "start get explainer for batch_idx 57\n",
      "as_chirps for batch_idx 85\n",
      "start mining for batch_idx 85 with support = 0.3\n"
     ]
    },
    {
     "name": "stderr",
     "output_type": "stream",
     "text": [
      "/home/julianhatwell/Documents/github/explain_te/CHIRPS/structures.py:1450: RuntimeWarning: invalid value encountered in true_divide\n",
      "  np.histogram(lowers, lower_bins)[0]).round(5) # can result in nans\n"
     ]
    },
    {
     "name": "stdout",
     "output_type": "stream",
     "text": [
      "found 59 patterns from 595 for batch_idx 85\n",
      "start score sort for batch_idx 85 (59) patterns\n",
      "start merge rule for batch_idx 85 (59) patterns\n",
      "start merge rule for batch_idx 84 (691) patterns\n",
      "[('educationnum', True, 12.83083), ('maritalstatus_Married-civ-spouse', True, 0.5), ('maritalstatus_Divorced', True, 0.5), ('lcapitalgain', True, 8.6832), ('lcapitalloss', True, 7.63389)]\n",
      "0.9849554234769688 0.30845698130402893 0.6412632080796412 0.5441425042257184\n",
      "merge complete for batch_idx 81 (37) patterns\n",
      "start get explainer for batch_idx 81\n",
      "as_chirps for batch_idx 86\n",
      "start mining for batch_idx 86 with support = 0.3\n"
     ]
    },
    {
     "name": "stderr",
     "output_type": "stream",
     "text": [
      "/home/julianhatwell/Documents/github/explain_te/CHIRPS/structures.py:1445: RuntimeWarning: invalid value encountered in true_divide\n",
      "  np.histogram(uppers, upper_bins)[0]).round(5) # can result in nans if no value falls into bin\n",
      "/home/julianhatwell/Documents/github/explain_te/CHIRPS/structures.py:1450: RuntimeWarning: invalid value encountered in true_divide\n",
      "  np.histogram(lowers, lower_bins)[0]).round(5) # can result in nans\n"
     ]
    },
    {
     "name": "stdout",
     "output_type": "stream",
     "text": [
      "found 32 patterns from 544 for batch_idx 86\n",
      "start score sort for batch_idx 86 (32) patterns\n",
      "start merge rule for batch_idx 86 (32) patterns\n",
      "[('educationnum', False, 9.15714), ('hoursperweek', False, 43.8855), ('occupation_Exec-managerial', False, 0.5), ('relationship_Husband', False, 0.5), ('workclass_Private', False, 0.5), ('age', False, 35.37829), ('race_White', False, 0.5), ('nativecountry_United-States', False, 0.5)]\n",
      "0.9177215189873418 0.013785001653768364 0.24616501734894716 0.12257401959931051\n",
      "merge complete for batch_idx 75 (581) patterns\n",
      "start get explainer for batch_idx 75\n",
      "as_chirps for batch_idx 87\n",
      "start mining for batch_idx 87 with support = 0.3\n"
     ]
    },
    {
     "name": "stderr",
     "output_type": "stream",
     "text": [
      "/home/julianhatwell/Documents/github/explain_te/CHIRPS/structures.py:1450: RuntimeWarning: invalid value encountered in true_divide\n",
      "  np.histogram(lowers, lower_bins)[0]).round(5) # can result in nans\n",
      "/home/julianhatwell/Documents/github/explain_te/CHIRPS/structures.py:1445: RuntimeWarning: invalid value encountered in true_divide\n",
      "  np.histogram(uppers, upper_bins)[0]).round(5) # can result in nans if no value falls into bin\n"
     ]
    },
    {
     "name": "stdout",
     "output_type": "stream",
     "text": [
      "found 15 patterns from 600 for batch_idx 87\n",
      "start score sort for batch_idx 87 (15) patterns\n",
      "start merge rule for batch_idx 87 (15) patterns\n",
      "[('occupation_Other-service', False, 0.5), ('lcapitalgain', True, 8.55281), ('lcapitalloss', True, 7.47228)]\n",
      "0.9697777777777777 0.09739325364260037 0.8037947963876517 0.5747415066469719\n",
      "merge complete for batch_idx 86 (32) patterns\n",
      "start get explainer for batch_idx 86\n",
      "as_chirps for batch_idx 88\n",
      "start mining for batch_idx 88 with support = 0.3\n"
     ]
    },
    {
     "name": "stderr",
     "output_type": "stream",
     "text": [
      "/home/julianhatwell/Documents/github/explain_te/CHIRPS/structures.py:1445: RuntimeWarning: invalid value encountered in true_divide\n",
      "  np.histogram(uppers, upper_bins)[0]).round(5) # can result in nans if no value falls into bin\n",
      "/home/julianhatwell/Documents/github/explain_te/CHIRPS/structures.py:1450: RuntimeWarning: invalid value encountered in true_divide\n",
      "  np.histogram(lowers, lower_bins)[0]).round(5) # can result in nans\n"
     ]
    },
    {
     "name": "stdout",
     "output_type": "stream",
     "text": [
      "found 969 patterns from 591 for batch_idx 88\n",
      "start score sort for batch_idx 88 (969) patterns\n",
      "[('educationnum', True, 9.72378), ('lcapitalgain', True, 8.43814), ('occupation_Exec-managerial', True, 0.5), ('occupation_Prof-specialty', True, 0.5), ('occupation_Tech-support', True, 0.5), ('occupation_Transport-moving', True, 0.5), ('lcapitalloss', True, 7.46493), ('workclass_Self-emp-inc', True, 0.5), ('workclass_Federal-gov', True, 0.5)]\n",
      "0.9461310782241015 0.317836606898617 0.3847907579541456 0.3263137080429087\n",
      "merge complete for batch_idx 83 (119) patterns\n",
      "start get explainer for batch_idx 83\n",
      "as_chirps for batch_idx 89\n",
      "start mining for batch_idx 89 with support = 0.3\n"
     ]
    },
    {
     "name": "stderr",
     "output_type": "stream",
     "text": [
      "/home/julianhatwell/Documents/github/explain_te/CHIRPS/structures.py:1445: RuntimeWarning: invalid value encountered in true_divide\n",
      "  np.histogram(uppers, upper_bins)[0]).round(5) # can result in nans if no value falls into bin\n",
      "/home/julianhatwell/Documents/github/explain_te/CHIRPS/structures.py:1450: RuntimeWarning: invalid value encountered in true_divide\n",
      "  np.histogram(lowers, lower_bins)[0]).round(5) # can result in nans\n"
     ]
    },
    {
     "name": "stdout",
     "output_type": "stream",
     "text": [
      "found 82 patterns from 411 for batch_idx 89\n",
      "start score sort for batch_idx 89 (82) patterns\n",
      "start merge rule for batch_idx 89 (82) patterns\n",
      "start merge rule for batch_idx 88 (969) patterns\n",
      "[('relationship_Own-child', False, 0.5), ('lcapitalloss', True, 7.61986), ('lcapitalgain', True, 9.06699)]\n",
      "0.988914373088685 0.1518695509442325 0.6619428820287673 0.6322463768115941\n",
      "merge complete for batch_idx 87 (15) patterns\n",
      "start get explainer for batch_idx 87\n",
      "as_chirps for batch_idx 90\n",
      "start mining for batch_idx 90 with support = 0.3\n"
     ]
    },
    {
     "name": "stderr",
     "output_type": "stream",
     "text": [
      "/home/julianhatwell/Documents/github/explain_te/CHIRPS/structures.py:1450: RuntimeWarning: invalid value encountered in true_divide\n",
      "  np.histogram(lowers, lower_bins)[0]).round(5) # can result in nans\n",
      "/home/julianhatwell/Documents/github/explain_te/CHIRPS/structures.py:1445: RuntimeWarning: invalid value encountered in true_divide\n",
      "  np.histogram(uppers, upper_bins)[0]).round(5) # can result in nans if no value falls into bin\n"
     ]
    },
    {
     "name": "stdout",
     "output_type": "stream",
     "text": [
      "found 19 patterns from 600 for batch_idx 90\n",
      "start score sort for batch_idx 90 (19) patterns\n",
      "start merge rule for batch_idx 90 (19) patterns\n",
      "[('educationnum', True, 12.68835), ('maritalstatus_Married-civ-spouse', True, 0.5), ('maritalstatus_Divorced', True, 0.5), ('lcapitalgain', True, 8.76557), ('lcapitalloss', True, 7.60969)]\n",
      "0.9848639613706008 0.30844555364911 0.7802846870319979 0.6766150069050179\n",
      "merge complete for batch_idx 85 (59) patterns\n",
      "start get explainer for batch_idx 85\n",
      "as_chirps for batch_idx 91\n",
      "start mining for batch_idx 91 with support = 0.3\n"
     ]
    },
    {
     "name": "stderr",
     "output_type": "stream",
     "text": [
      "/home/julianhatwell/Documents/github/explain_te/CHIRPS/structures.py:1445: RuntimeWarning: invalid value encountered in true_divide\n",
      "  np.histogram(uppers, upper_bins)[0]).round(5) # can result in nans if no value falls into bin\n",
      "/home/julianhatwell/Documents/github/explain_te/CHIRPS/structures.py:1450: RuntimeWarning: invalid value encountered in true_divide\n",
      "  np.histogram(lowers, lower_bins)[0]).round(5) # can result in nans\n"
     ]
    },
    {
     "name": "stdout",
     "output_type": "stream",
     "text": [
      "found 124 patterns from 500 for batch_idx 91\n",
      "start score sort for batch_idx 91 (124) patterns\n",
      "start merge rule for batch_idx 91 (124) patterns\n",
      "[('educationnum', False, 12.13262), ('occupation_Exec-managerial', False, 0.5), ('relationship_Husband', False, 0.5), ('workclass_Private', False, 0.5), ('age', False, 29.0657), ('hoursperweek', True, 66.31818), ('nativecountry_United-States', False, 0.5)]\n",
      "0.9325337331334332 0.019417233824862337 0.15472860695532678 0.08927181686025162\n",
      "merge complete for batch_idx 76 (668) patterns\n",
      "start get explainer for batch_idx 76\n",
      "as_chirps for batch_idx 92\n",
      "start mining for batch_idx 92 with support = 0.3\n"
     ]
    },
    {
     "name": "stderr",
     "output_type": "stream",
     "text": [
      "/home/julianhatwell/Documents/github/explain_te/CHIRPS/structures.py:1450: RuntimeWarning: invalid value encountered in true_divide\n",
      "  np.histogram(lowers, lower_bins)[0]).round(5) # can result in nans\n",
      "/home/julianhatwell/Documents/github/explain_te/CHIRPS/structures.py:1445: RuntimeWarning: invalid value encountered in true_divide\n",
      "  np.histogram(uppers, upper_bins)[0]).round(5) # can result in nans if no value falls into bin\n"
     ]
    },
    {
     "name": "stdout",
     "output_type": "stream",
     "text": [
      "found 20 patterns from 466 for batch_idx 92\n",
      "start score sort for batch_idx 92 (20) patterns\n",
      "start merge rule for batch_idx 92 (20) patterns\n",
      "[('lcapitalgain', True, 9.06609), ('lcapitalloss', True, 7.6198), ('maritalstatus_Never-married', False, 0.5)]\n",
      "0.9664880573971483 0.3069364257297127 0.4881421811200284 0.4403606102635229\n",
      "merge complete for batch_idx 90 (19) patterns\n",
      "start get explainer for batch_idx 90\n",
      "as_chirps for batch_idx 93\n",
      "start mining for batch_idx 93 with support = 0.3\n"
     ]
    },
    {
     "name": "stderr",
     "output_type": "stream",
     "text": [
      "/home/julianhatwell/Documents/github/explain_te/CHIRPS/structures.py:1450: RuntimeWarning: invalid value encountered in true_divide\n",
      "  np.histogram(lowers, lower_bins)[0]).round(5) # can result in nans\n",
      "/home/julianhatwell/Documents/github/explain_te/CHIRPS/structures.py:1445: RuntimeWarning: invalid value encountered in true_divide\n",
      "  np.histogram(uppers, upper_bins)[0]).round(5) # can result in nans if no value falls into bin\n"
     ]
    },
    {
     "name": "stdout",
     "output_type": "stream",
     "text": [
      "found 50 patterns from 538 for batch_idx 93\n",
      "start score sort for batch_idx 93 (50) patterns\n",
      "start merge rule for batch_idx 93 (50) patterns\n",
      "[('relationship_Unmarried', False, 0.5), ('lcapitalgain', True, 8.88257)]\n",
      "0.9535805264647609 0.10114049708378159 0.24984263805281293 0.2848170398689241\n",
      "merge complete for batch_idx 92 (20) patterns\n",
      "start get explainer for batch_idx 92\n",
      "as_chirps for batch_idx 94\n",
      "start mining for batch_idx 94 with support = 0.3\n"
     ]
    },
    {
     "name": "stderr",
     "output_type": "stream",
     "text": [
      "/home/julianhatwell/Documents/github/explain_te/CHIRPS/structures.py:1445: RuntimeWarning: invalid value encountered in true_divide\n",
      "  np.histogram(uppers, upper_bins)[0]).round(5) # can result in nans if no value falls into bin\n",
      "/home/julianhatwell/Documents/github/explain_te/CHIRPS/structures.py:1450: RuntimeWarning: invalid value encountered in true_divide\n",
      "  np.histogram(lowers, lower_bins)[0]).round(5) # can result in nans\n"
     ]
    },
    {
     "name": "stdout",
     "output_type": "stream",
     "text": [
      "reduced 2 patterns out of 291 by numeric redundancy\n",
      "found 289 patterns from 549 for batch_idx 94\n",
      "start score sort for batch_idx 94 (289) patterns\n",
      "start merge rule for batch_idx 94 (289) patterns\n",
      "[('lcapitalgain', True, 8.42477), ('lcapitalloss', True, 7.46761), ('occupation_Exec-managerial', True, 0.5), ('occupation_Prof-specialty', True, 0.5), ('occupation_Craft-repair', True, 0.5), ('hoursperweek', True, 43.56584), ('workclass_Federal-gov', True, 0.5)]\n",
      "0.9267926988265971 0.3845825316107547 0.16144497956643772 0.20505640451236096\n",
      "merge complete for batch_idx 89 (82) patterns\n",
      "start get explainer for batch_idx 89\n",
      "as_chirps for batch_idx 95\n",
      "start mining for batch_idx 95 with support = 0.3\n"
     ]
    },
    {
     "name": "stderr",
     "output_type": "stream",
     "text": [
      "/home/julianhatwell/Documents/github/explain_te/CHIRPS/structures.py:1450: RuntimeWarning: invalid value encountered in true_divide\n",
      "  np.histogram(lowers, lower_bins)[0]).round(5) # can result in nans\n",
      "/home/julianhatwell/Documents/github/explain_te/CHIRPS/structures.py:1445: RuntimeWarning: invalid value encountered in true_divide\n",
      "  np.histogram(uppers, upper_bins)[0]).round(5) # can result in nans if no value falls into bin\n"
     ]
    },
    {
     "name": "stdout",
     "output_type": "stream",
     "text": [
      "found 65 patterns from 587 for batch_idx 95\n",
      "start score sort for batch_idx 95 (65) patterns\n",
      "start merge rule for batch_idx 95 (65) patterns\n",
      "[('age', True, 32.30102), ('lcapitalgain', True, 8.62361), ('lcapitalloss', True, 7.49121), ('relationship_Husband', True, 0.5)]\n",
      "0.972741742936729 0.28375295235512127 0.6357675758556202 0.45534150612959723\n",
      "merge complete for batch_idx 93 (50) patterns\n",
      "start get explainer for batch_idx 93\n",
      "as_chirps for batch_idx 96\n",
      "start mining for batch_idx 96 with support = 0.3\n"
     ]
    },
    {
     "name": "stderr",
     "output_type": "stream",
     "text": [
      "/home/julianhatwell/Documents/github/explain_te/CHIRPS/structures.py:1450: RuntimeWarning: invalid value encountered in true_divide\n",
      "  np.histogram(lowers, lower_bins)[0]).round(5) # can result in nans\n"
     ]
    },
    {
     "name": "stdout",
     "output_type": "stream",
     "text": [
      "found 115 patterns from 579 for batch_idx 96\n",
      "start score sort for batch_idx 96 (115) patterns\n",
      "start merge rule for batch_idx 96 (115) patterns\n",
      "[('educationnum', True, 10.91638), ('hoursperweek', True, 43.66912), ('lcapitalgain', True, 8.43604), ('lcapitalloss', True, 7.45369), ('occupation_Exec-managerial', True, 0.5)]\n",
      "0.9404068857589984 0.41067161839238103 0.014913778538139199 0.034586754110917\n",
      "merge complete for batch_idx 77 (808) patterns\n",
      "start get explainer for batch_idx 77\n",
      "as_chirps for batch_idx 97\n",
      "start mining for batch_idx 97 with support = 0.3\n"
     ]
    },
    {
     "name": "stderr",
     "output_type": "stream",
     "text": [
      "/home/julianhatwell/Documents/github/explain_te/CHIRPS/structures.py:1445: RuntimeWarning: invalid value encountered in true_divide\n",
      "  np.histogram(uppers, upper_bins)[0]).round(5) # can result in nans if no value falls into bin\n",
      "/home/julianhatwell/Documents/github/explain_te/CHIRPS/structures.py:1450: RuntimeWarning: invalid value encountered in true_divide\n",
      "  np.histogram(lowers, lower_bins)[0]).round(5) # can result in nans\n"
     ]
    },
    {
     "name": "stdout",
     "output_type": "stream",
     "text": [
      "found 13 patterns from 550 for batch_idx 97\n",
      "start score sort for batch_idx 97 (13) patterns\n",
      "start merge rule for batch_idx 97 (13) patterns\n",
      "[('educationnum', True, 7.88799), ('lcapitalgain', True, 8.42383), ('lcapitalloss', True, 7.46894)]\n",
      "0.9612343789849528 0.11242926318828804 0.34782433403434554 0.26413213726327783\n",
      "merge complete for batch_idx 95 (65) patterns\n",
      "start get explainer for batch_idx 95\n",
      "as_chirps for batch_idx 98\n",
      "start mining for batch_idx 98 with support = 0.3\n"
     ]
    },
    {
     "name": "stderr",
     "output_type": "stream",
     "text": [
      "/home/julianhatwell/Documents/github/explain_te/CHIRPS/structures.py:1450: RuntimeWarning: invalid value encountered in true_divide\n",
      "  np.histogram(lowers, lower_bins)[0]).round(5) # can result in nans\n",
      "/home/julianhatwell/Documents/github/explain_te/CHIRPS/structures.py:1445: RuntimeWarning: invalid value encountered in true_divide\n",
      "  np.histogram(uppers, upper_bins)[0]).round(5) # can result in nans if no value falls into bin\n"
     ]
    },
    {
     "name": "stdout",
     "output_type": "stream",
     "text": [
      "found 22 patterns from 600 for batch_idx 98\n",
      "start score sort for batch_idx 98 (22) patterns\n",
      "[('lcapitalgain', True, 8.77661), ('maritalstatus_Married-civ-spouse', True, 0.5), ('educationnum', True, 12.4969), ('lcapitalloss', True, 7.58843)]\n",
      "0.9784488771097782 0.40289667750201913 0.26859918267443916 0.24096851883708936\n",
      "merge complete for batch_idx 91 (124) patterns\n",
      "start get explainer for batch_idx 91\n",
      "start merge rule for batch_idx 98 (22) patterns\n",
      "[('lcapitalloss', False, 7.48944), ('educationnum', False, 11.95822), ('maritalstatus_Married-civ-spouse', False, 0.5)]\n",
      "0.96 0.01236426761910171 0.7893873956796794 0.5702127659574469\n",
      "merge complete for batch_idx 97 (13) patterns\n",
      "start get explainer for batch_idx 97\n",
      "as_chirps for batch_idx 99\n",
      "start mining for batch_idx 99 with support = 0.3\n"
     ]
    },
    {
     "name": "stderr",
     "output_type": "stream",
     "text": [
      "/home/julianhatwell/Documents/github/explain_te/CHIRPS/structures.py:1445: RuntimeWarning: invalid value encountered in true_divide\n",
      "  np.histogram(uppers, upper_bins)[0]).round(5) # can result in nans if no value falls into bin\n",
      "/home/julianhatwell/Documents/github/explain_te/CHIRPS/structures.py:1450: RuntimeWarning: invalid value encountered in true_divide\n",
      "  np.histogram(lowers, lower_bins)[0]).round(5) # can result in nans\n"
     ]
    },
    {
     "name": "stdout",
     "output_type": "stream",
     "text": [
      "found 89 patterns from 483 for batch_idx 99\n",
      "start score sort for batch_idx 99 (89) patterns\n",
      "start merge rule for batch_idx 99 (89) patterns\n",
      "[('age', True, 37.71951), ('educationnum', True, 9.61739), ('lcapitalgain', True, 8.38135), ('lcapitalloss', True, 7.43935), ('hoursperweek', True, 52.94503)]\n",
      "0.9709473684210527 0.20288813393408106 0.28252475100244445 0.23396637608966353\n",
      "merge complete for batch_idx 84 (691) patterns\n",
      "start get explainer for batch_idx 84\n",
      "[('educationnum', True, 9.5), ('hoursperweek', True, 43.39735), ('lcapitalgain', True, 8.3653), ('lcapitalloss', True, 7.43551)]\n",
      "0.9477592382283567 0.3093363635454026 0.25817216997869447 0.26269572526987184\n",
      "merge complete for batch_idx 88 (969) patterns\n",
      "start get explainer for batch_idx 88\n",
      "[('lcapitalloss', True, 7.65423), ('maritalstatus_Never-married', False, 0.5)]\n",
      "0.9576324547989565 0.30567160394961196 0.5444942090691934 0.43278257604205783\n",
      "merge complete for batch_idx 98 (22) patterns\n",
      "start get explainer for batch_idx 98\n",
      "[('educationnum', False, 11.19137), ('occupation_Exec-managerial', False, 0.5), ('relationship_Husband', False, 0.5), ('workclass_Private', False, 0.5), ('nativecountry_United-States', False, 0.5), ('age', False, 31.60231)]\n",
      "0.9307359307359307 0.02017410141520348 0.26284406750166117 0.1590856576992902\n",
      "merge complete for batch_idx 94 (289) patterns\n",
      "start get explainer for batch_idx 94\n",
      "[('educationnum', False, 12.04637), ('occupation_Exec-managerial', False, 0.5), ('relationship_Husband', False, 0.5), ('workclass_Self-emp-not-inc', True, 0.5), ('hoursperweek', False, 35.56691), ('nativecountry_United-States', False, 0.5), ('age', False, 43.13522)]\n",
      "0.9098039215686274 0.014832450482379316 0.3061517034885101 0.17842630217953462\n",
      "merge complete for batch_idx 99 (89) patterns\n",
      "start get explainer for batch_idx 99\n",
      "[('lcapitalgain', True, 8.76718), ('maritalstatus_Married-civ-spouse', True, 0.5), ('educationnum', True, 12.47937), ('lcapitalloss', True, 7.62994)]\n",
      "0.9785073381094804 0.4039927273361834 0.1162891483078484 0.12388143176733776\n",
      "merge complete for batch_idx 96 (115) patterns\n",
      "start get explainer for batch_idx 96\n",
      "[('educationnum', False, 12.16188), ('relationship_Husband', False, 0.5), ('workclass_Private', False, 0.5), ('age', False, 33.90093), ('age', True, 62.7467), ('hoursperweek', False, 35.04772), ('nativecountry_United-States', False, 0.5), ('occupation_Farming-fishing', True, 0.5), ('occupation_Other-service', True, 0.5), ('occupation_Handlers-cleaners', True, 0.5), ('occupation_Transport-moving', True, 0.5), ('occupation_Craft-repair', True, 0.5), ('occupation_Adm-clerical', True, 0.5), ('occupation_Machine-op-inspct', True, 0.5), ('occupation_Tech-support', True, 0.5), ('lfnlwgt', False, 11.61566), ('race_Black', True, 0.5)]\n",
      "0.9355742296918768 0.031185072576013814 0.23809868502839238 0.11832083709011508\n",
      "merge complete for batch_idx 79 (812) patterns\n",
      "start get explainer for batch_idx 79\n",
      "CHIRPS time elapsed: 521.2992 seconds\n",
      "CHIRPS with async = True\n",
      "\n",
      "Evaluating found explanations\n",
      "Results saved to /datadisk/whiteboxing/benchmarks2/adult/rf_sensitivity/wcts_majority_sp_0.3_ap_0.9_dpb_4_dpeq_False_sf_5_w_kldiv_RandomForest_CHIRPS_rnst_123\n",
      "CHIRPS batch results eval time elapsed: 31.9009 seconds\n",
      "\n",
      "Sensitivity round: 1\n",
      "Beginning benchmark for adult data.\n",
      "Hyper-parameter settings: {'alpha_paths': 0.5, 'disc_path_bins': 4, 'disc_path_eqcounts': False, 'score_func': 5, 'weighting': 'kldiv', 'support_paths': 0.3, 'precis_threshold': 0.99, 'merging_bootstraps': 20, 'pruning_bootstraps': 20, 'which_trees': 'majority', 'delta': 0.09}\n",
      "\n",
      "Prepare Unseen Data and Predictions for CHIRPS benchmark\n",
      "Walking forest for 100 instances... (please wait)\n",
      "Forest Walk with async = True\n",
      "Forest Walk time elapsed: 5.2800 seconds\n",
      "\n",
      "Running CHIRPS on a batch of 100 instances... (please wait)\n",
      "as_chirps for batch_idx 0\n",
      "start mining for batch_idx 0 with support = 0.3\n"
     ]
    },
    {
     "name": "stderr",
     "output_type": "stream",
     "text": [
      "/home/julianhatwell/Documents/github/explain_te/CHIRPS/structures.py:1450: RuntimeWarning: invalid value encountered in true_divide\n",
      "  np.histogram(lowers, lower_bins)[0]).round(5) # can result in nans\n",
      "/home/julianhatwell/Documents/github/explain_te/CHIRPS/structures.py:1445: RuntimeWarning: invalid value encountered in true_divide\n",
      "  np.histogram(uppers, upper_bins)[0]).round(5) # can result in nans if no value falls into bin\n"
     ]
    },
    {
     "name": "stdout",
     "output_type": "stream",
     "text": [
      "found 29 patterns from 444 for batch_idx 0\n",
      "start score sort for batch_idx 0 (29) patterns\n",
      "start merge rule for batch_idx 0 (29) patterns\n",
      "as_chirps for batch_idx 1\n",
      "start mining for batch_idx 1 with support = 0.3\n"
     ]
    },
    {
     "name": "stderr",
     "output_type": "stream",
     "text": [
      "/home/julianhatwell/Documents/github/explain_te/CHIRPS/structures.py:1450: RuntimeWarning: invalid value encountered in true_divide\n",
      "  np.histogram(lowers, lower_bins)[0]).round(5) # can result in nans\n",
      "/home/julianhatwell/Documents/github/explain_te/CHIRPS/structures.py:1445: RuntimeWarning: invalid value encountered in true_divide\n",
      "  np.histogram(uppers, upper_bins)[0]).round(5) # can result in nans if no value falls into bin\n"
     ]
    },
    {
     "name": "stdout",
     "output_type": "stream",
     "text": [
      "as_chirps for batch_idx 2\n",
      "start mining for batch_idx 2 with support = 0.3\n"
     ]
    },
    {
     "name": "stderr",
     "output_type": "stream",
     "text": [
      "/home/julianhatwell/Documents/github/explain_te/CHIRPS/structures.py:1445: RuntimeWarning: invalid value encountered in true_divide\n",
      "  np.histogram(uppers, upper_bins)[0]).round(5) # can result in nans if no value falls into bin\n",
      "/home/julianhatwell/Documents/github/explain_te/CHIRPS/structures.py:1450: RuntimeWarning: invalid value encountered in true_divide\n",
      "  np.histogram(lowers, lower_bins)[0]).round(5) # can result in nans\n"
     ]
    },
    {
     "name": "stdout",
     "output_type": "stream",
     "text": [
      "found 114 patterns from 448 for batch_idx 1\n",
      "start score sort for batch_idx 1 (114) patterns\n",
      "start merge rule for batch_idx 1 (114) patterns\n",
      "start mining for batch_idx 3 with support = 0.3\n",
      "found 45 patterns from 338 for batch_idx 2\n",
      "start score sort for batch_idx 2 (45) patterns\n",
      "as_chirps for batch_idx 3\n",
      "start merge rule for batch_idx 2 (45) patterns\n"
     ]
    },
    {
     "name": "stderr",
     "output_type": "stream",
     "text": [
      "/home/julianhatwell/Documents/github/explain_te/CHIRPS/structures.py:1445: RuntimeWarning: invalid value encountered in true_divide\n",
      "  np.histogram(uppers, upper_bins)[0]).round(5) # can result in nans if no value falls into bin\n",
      "/home/julianhatwell/Documents/github/explain_te/CHIRPS/structures.py:1450: RuntimeWarning: invalid value encountered in true_divide\n",
      "  np.histogram(lowers, lower_bins)[0]).round(5) # can result in nans\n"
     ]
    },
    {
     "name": "stdout",
     "output_type": "stream",
     "text": [
      "as_chirps for batch_idx 4\n",
      "start mining for batch_idx 4 with support = 0.3\n"
     ]
    },
    {
     "name": "stderr",
     "output_type": "stream",
     "text": [
      "/home/julianhatwell/Documents/github/explain_te/CHIRPS/structures.py:1450: RuntimeWarning: invalid value encountered in true_divide\n",
      "  np.histogram(lowers, lower_bins)[0]).round(5) # can result in nans\n",
      "/home/julianhatwell/Documents/github/explain_te/CHIRPS/structures.py:1445: RuntimeWarning: invalid value encountered in true_divide\n",
      "  np.histogram(uppers, upper_bins)[0]).round(5) # can result in nans if no value falls into bin\n"
     ]
    },
    {
     "name": "stdout",
     "output_type": "stream",
     "text": [
      "found 822 patterns from 418 for batch_idx 3\n",
      "start score sort for batch_idx 3 (822) patterns\n",
      "reduced 1 patterns out of 119 by numeric redundancy\n",
      "found 118 patterns from 372 for batch_idx 4\n",
      "start score sort for batch_idx 4 (118) patterns\n",
      "as_chirps for batch_idx 5\n",
      "start mining for batch_idx 5 with support = 0.3\n"
     ]
    },
    {
     "name": "stderr",
     "output_type": "stream",
     "text": [
      "/home/julianhatwell/Documents/github/explain_te/CHIRPS/structures.py:1445: RuntimeWarning: invalid value encountered in true_divide\n",
      "  np.histogram(uppers, upper_bins)[0]).round(5) # can result in nans if no value falls into bin\n",
      "/home/julianhatwell/Documents/github/explain_te/CHIRPS/structures.py:1450: RuntimeWarning: invalid value encountered in true_divide\n",
      "  np.histogram(lowers, lower_bins)[0]).round(5) # can result in nans\n"
     ]
    },
    {
     "name": "stdout",
     "output_type": "stream",
     "text": [
      "start merge rule for batch_idx 4 (118) patterns\n",
      "as_chirps for batch_idx 6\n",
      "start mining for batch_idx 6 with support = 0.3\n"
     ]
    },
    {
     "name": "stderr",
     "output_type": "stream",
     "text": [
      "/home/julianhatwell/Documents/github/explain_te/CHIRPS/structures.py:1445: RuntimeWarning: invalid value encountered in true_divide\n",
      "  np.histogram(uppers, upper_bins)[0]).round(5) # can result in nans if no value falls into bin\n",
      "/home/julianhatwell/Documents/github/explain_te/CHIRPS/structures.py:1450: RuntimeWarning: invalid value encountered in true_divide\n",
      "  np.histogram(lowers, lower_bins)[0]).round(5) # can result in nans\n"
     ]
    },
    {
     "name": "stdout",
     "output_type": "stream",
     "text": [
      "as_chirps for batch_idx 7\n",
      "start mining for batch_idx 7 with support = 0.3\n"
     ]
    },
    {
     "name": "stderr",
     "output_type": "stream",
     "text": [
      "/home/julianhatwell/Documents/github/explain_te/CHIRPS/structures.py:1445: RuntimeWarning: invalid value encountered in true_divide\n",
      "  np.histogram(uppers, upper_bins)[0]).round(5) # can result in nans if no value falls into bin\n",
      "/home/julianhatwell/Documents/github/explain_te/CHIRPS/structures.py:1450: RuntimeWarning: invalid value encountered in true_divide\n",
      "  np.histogram(lowers, lower_bins)[0]).round(5) # can result in nans\n"
     ]
    },
    {
     "name": "stdout",
     "output_type": "stream",
     "text": [
      "reduced 1 patterns out of 434 by numeric redundancy\n",
      "found 433 patterns from 504 for batch_idx 5\n",
      "start score sort for batch_idx 5 (433) patterns\n",
      "reduced 10 patterns out of 568 by numeric redundancy\n",
      "found 558 patterns from 582 for batch_idx 6\n",
      "start score sort for batch_idx 6 (558) patterns\n",
      "reduced 1 patterns out of 522 by numeric redundancy\n",
      "found 521 patterns from 448 for batch_idx 7\n",
      "start score sort for batch_idx 7 (521) patterns\n",
      "start merge rule for batch_idx 5 (433) patterns\n",
      "start merge rule for batch_idx 3 (822) patterns\n",
      "start merge rule for batch_idx 6 (558) patterns\n",
      "start merge rule for batch_idx 7 (521) patterns\n",
      "[('maritalstatus_Married-civ-spouse', True, 0.5), ('lcapitalgain', True, 8.74734), ('educationnum', True, 12.29536)]\n",
      "0.9768826135105205 0.4046437686538785 0.4565762144687462 0.46414262820512825\n",
      "merge complete for batch_idx 0 (29) patterns\n",
      "start get explainer for batch_idx 0\n",
      "as_chirps for batch_idx 8\n",
      "start mining for batch_idx 8 with support = 0.3\n"
     ]
    },
    {
     "name": "stderr",
     "output_type": "stream",
     "text": [
      "/home/julianhatwell/Documents/github/explain_te/CHIRPS/structures.py:1450: RuntimeWarning: invalid value encountered in true_divide\n",
      "  np.histogram(lowers, lower_bins)[0]).round(5) # can result in nans\n",
      "/home/julianhatwell/Documents/github/explain_te/CHIRPS/structures.py:1445: RuntimeWarning: invalid value encountered in true_divide\n",
      "  np.histogram(uppers, upper_bins)[0]).round(5) # can result in nans if no value falls into bin\n"
     ]
    },
    {
     "name": "stdout",
     "output_type": "stream",
     "text": [
      "found 33 patterns from 585 for batch_idx 8\n",
      "start score sort for batch_idx 8 (33) patterns\n",
      "start merge rule for batch_idx 8 (33) patterns\n",
      "[('lcapitalgain', True, 8.69966), ('lcapitalloss', True, 7.58616), ('maritalstatus_Never-married', False, 0.5)]\n",
      "0.9690362770245511 0.3055471802384325 0.2205491352936459 0.2681184668989547\n",
      "merge complete for batch_idx 2 (45) patterns\n",
      "start get explainer for batch_idx 2\n",
      "as_chirps for batch_idx 9\n",
      "start mining for batch_idx 9 with support = 0.3\n"
     ]
    },
    {
     "name": "stderr",
     "output_type": "stream",
     "text": [
      "/home/julianhatwell/Documents/github/explain_te/CHIRPS/structures.py:1445: RuntimeWarning: invalid value encountered in true_divide\n",
      "  np.histogram(uppers, upper_bins)[0]).round(5) # can result in nans if no value falls into bin\n",
      "/home/julianhatwell/Documents/github/explain_te/CHIRPS/structures.py:1450: RuntimeWarning: invalid value encountered in true_divide\n",
      "  np.histogram(lowers, lower_bins)[0]).round(5) # can result in nans\n"
     ]
    },
    {
     "name": "stdout",
     "output_type": "stream",
     "text": [
      "reduced 1 patterns out of 1040 by numeric redundancy\n",
      "found 1039 patterns from 555 for batch_idx 9\n",
      "start score sort for batch_idx 9 (1039) patterns\n",
      "[('educationnum', False, 13.05405), ('occupation_Exec-managerial', False, 0.5), ('relationship_Husband', False, 0.5), ('hoursperweek', False, 44.90078)]\n",
      "0.9304029304029304 0.007920713669111694 0.17913952352419107 0.11933982225983915\n",
      "merge complete for batch_idx 4 (118) patterns\n",
      "start get explainer for batch_idx 4\n",
      "[('lcapitalgain', True, 8.80293), ('relationship_Unmarried', False, 0.5), ('educationnum', True, 12.68499)]\n",
      "0.9740863787375416 0.08712283304117249 0.2609731167173994 0.32367149758454095\n",
      "merge complete for batch_idx 8 (33) patterns\n",
      "start get explainer for batch_idx 8\n",
      "as_chirps for batch_idx 10\n",
      "start mining for batch_idx 10 with support = 0.3\n"
     ]
    },
    {
     "name": "stderr",
     "output_type": "stream",
     "text": [
      "/home/julianhatwell/Documents/github/explain_te/CHIRPS/structures.py:1445: RuntimeWarning: invalid value encountered in true_divide\n",
      "  np.histogram(uppers, upper_bins)[0]).round(5) # can result in nans if no value falls into bin\n",
      "/home/julianhatwell/Documents/github/explain_te/CHIRPS/structures.py:1450: RuntimeWarning: invalid value encountered in true_divide\n",
      "  np.histogram(lowers, lower_bins)[0]).round(5) # can result in nans\n"
     ]
    },
    {
     "name": "stdout",
     "output_type": "stream",
     "text": [
      "reduced 6 patterns out of 587 by numeric redundancy\n",
      "found 581 patterns from 369 for batch_idx 10\n",
      "start score sort for batch_idx 10 (581) patterns\n",
      "start merge rule for batch_idx 9 (1039) patterns\n",
      "as_chirps for batch_idx 11\n",
      "start mining for batch_idx 11 with support = 0.3\n"
     ]
    },
    {
     "name": "stderr",
     "output_type": "stream",
     "text": [
      "/home/julianhatwell/Documents/github/explain_te/CHIRPS/structures.py:1445: RuntimeWarning: invalid value encountered in true_divide\n",
      "  np.histogram(uppers, upper_bins)[0]).round(5) # can result in nans if no value falls into bin\n",
      "/home/julianhatwell/Documents/github/explain_te/CHIRPS/structures.py:1450: RuntimeWarning: invalid value encountered in true_divide\n",
      "  np.histogram(lowers, lower_bins)[0]).round(5) # can result in nans\n"
     ]
    },
    {
     "name": "stdout",
     "output_type": "stream",
     "text": [
      "found 59 patterns from 401 for batch_idx 11\n",
      "start score sort for batch_idx 11 (59) patterns\n",
      "start merge rule for batch_idx 11 (59) patterns\n",
      "[('lcapitalgain', True, 8.69379), ('maritalstatus_Married-civ-spouse', True, 0.5), ('occupation_Exec-managerial', True, 0.5), ('occupation_Prof-specialty', True, 0.5), ('lcapitalloss', True, 7.58438)]\n",
      "0.977191381851358 0.3995469154444064 0.09968848469297847 0.13391906283280094\n",
      "merge complete for batch_idx 1 (114) patterns\n",
      "start get explainer for batch_idx 1\n",
      "as_chirps for batch_idx 12\n",
      "start mining for batch_idx 12 with support = 0.3\n"
     ]
    },
    {
     "name": "stderr",
     "output_type": "stream",
     "text": [
      "/home/julianhatwell/Documents/github/explain_te/CHIRPS/structures.py:1450: RuntimeWarning: invalid value encountered in true_divide\n",
      "  np.histogram(lowers, lower_bins)[0]).round(5) # can result in nans\n",
      "/home/julianhatwell/Documents/github/explain_te/CHIRPS/structures.py:1445: RuntimeWarning: invalid value encountered in true_divide\n",
      "  np.histogram(uppers, upper_bins)[0]).round(5) # can result in nans if no value falls into bin\n"
     ]
    },
    {
     "name": "stdout",
     "output_type": "stream",
     "text": [
      "found 13 patterns from 565 for batch_idx 12\n",
      "start score sort for batch_idx 12 (13) patterns\n",
      "start merge rule for batch_idx 12 (13) patterns\n",
      "start merge rule for batch_idx 10 (581) patterns\n",
      "[('lcapitalgain', True, 8.78101), ('maritalstatus_Never-married', False, 0.5)]\n",
      "0.9665245395990202 0.3072709917310531 0.8514015745404295 0.6521449950116395\n",
      "merge complete for batch_idx 12 (13) patterns\n",
      "start get explainer for batch_idx 12\n",
      "as_chirps for batch_idx 13\n",
      "start mining for batch_idx 13 with support = 0.3\n"
     ]
    },
    {
     "name": "stderr",
     "output_type": "stream",
     "text": [
      "/home/julianhatwell/Documents/github/explain_te/CHIRPS/structures.py:1445: RuntimeWarning: invalid value encountered in true_divide\n",
      "  np.histogram(uppers, upper_bins)[0]).round(5) # can result in nans if no value falls into bin\n",
      "/home/julianhatwell/Documents/github/explain_te/CHIRPS/structures.py:1450: RuntimeWarning: invalid value encountered in true_divide\n",
      "  np.histogram(lowers, lower_bins)[0]).round(5) # can result in nans\n"
     ]
    },
    {
     "name": "stdout",
     "output_type": "stream",
     "text": [
      "found 26 patterns from 568 for batch_idx 13\n",
      "start score sort for batch_idx 13 (26) patterns\n",
      "start merge rule for batch_idx 13 (26) patterns\n",
      "[('educationnum', False, 12.00729), ('lcapitalloss', False, 7.49282), ('maritalstatus_Married-civ-spouse', False, 0.5)]\n",
      "0.9670886075949368 0.011489115206202842 0.36267984984282153 0.15786819098856758\n",
      "merge complete for batch_idx 13 (26) patterns\n",
      "start get explainer for batch_idx 13\n",
      "[('hoursperweek', True, 29.29275), ('lcapitalgain', True, 8.45829), ('workclass_Self-emp-inc', True, 0.5), ('workclass_Self-emp-not-inc', True, 0.5), ('educationnum', True, 13.5)]\n",
      "start mining for batch_idx 14 with support = 0.3\n",
      "0.9645658642142277 0.10629193130435358 0.10481732708234785 0.18484814014332837\n",
      "merge complete for batch_idx 11 (59) patterns\n",
      "start get explainer for batch_idx 11\n",
      "as_chirps for batch_idx 14\n"
     ]
    },
    {
     "name": "stderr",
     "output_type": "stream",
     "text": [
      "/home/julianhatwell/Documents/github/explain_te/CHIRPS/structures.py:1445: RuntimeWarning: invalid value encountered in true_divide\n",
      "  np.histogram(uppers, upper_bins)[0]).round(5) # can result in nans if no value falls into bin\n",
      "/home/julianhatwell/Documents/github/explain_te/CHIRPS/structures.py:1450: RuntimeWarning: invalid value encountered in true_divide\n",
      "  np.histogram(lowers, lower_bins)[0]).round(5) # can result in nans\n"
     ]
    },
    {
     "name": "stdout",
     "output_type": "stream",
     "text": [
      "found 425 patterns from 343 for batch_idx 14\n",
      "start score sort for batch_idx 14 (425) patterns\n",
      "as_chirps for batch_idx 15\n",
      "start mining for batch_idx 15 with support = 0.3\n"
     ]
    },
    {
     "name": "stderr",
     "output_type": "stream",
     "text": [
      "/home/julianhatwell/Documents/github/explain_te/CHIRPS/structures.py:1450: RuntimeWarning: invalid value encountered in true_divide\n",
      "  np.histogram(lowers, lower_bins)[0]).round(5) # can result in nans\n",
      "/home/julianhatwell/Documents/github/explain_te/CHIRPS/structures.py:1445: RuntimeWarning: invalid value encountered in true_divide\n",
      "  np.histogram(uppers, upper_bins)[0]).round(5) # can result in nans if no value falls into bin\n"
     ]
    },
    {
     "name": "stdout",
     "output_type": "stream",
     "text": [
      "found 58 patterns from 600 for batch_idx 15\n",
      "start score sort for batch_idx 15 (58) patterns\n",
      "start merge rule for batch_idx 15 (58) patterns\n",
      "start merge rule for batch_idx 14 (425) patterns\n",
      "[('educationnum', True, 9.68108), ('lcapitalgain', True, 4.00362), ('lcapitalloss', True, 7.45173), ('occupation_Exec-managerial', True, 0.5), ('occupation_Prof-specialty', True, 0.5), ('occupation_Farming-fishing', True, 0.5), ('occupation_Transport-moving', True, 0.5), ('occupation_Protective-serv', True, 0.5), ('workclass_Self-emp-inc', True, 0.5), ('workclass_Federal-gov', True, 0.5)]\n",
      "0.9498831229546517 0.2914790483960218 0.1354630824853333 0.11053991053991051\n",
      "merge complete for batch_idx 5 (433) patterns\n",
      "start get explainer for batch_idx 5\n",
      "as_chirps for batch_idx 16\n",
      "start mining for batch_idx 16 with support = 0.3\n",
      "[('maritalstatus_Divorced', False, 0.5), ('educationnum', True, 12.5), ('lcapitalgain', True, 8.99), ('lcapitalloss', True, 7.62799), ('lfnlwgt', False, 10.48897)]\n",
      "0.9594557067481255 0.10332940296451384 0.39018775248699183 0.24490932230353166\n",
      "merge complete for batch_idx 15 (58) patterns\n",
      "start get explainer for batch_idx 15\n"
     ]
    },
    {
     "name": "stderr",
     "output_type": "stream",
     "text": [
      "/home/julianhatwell/Documents/github/explain_te/CHIRPS/structures.py:1445: RuntimeWarning: invalid value encountered in true_divide\n",
      "  np.histogram(uppers, upper_bins)[0]).round(5) # can result in nans if no value falls into bin\n",
      "/home/julianhatwell/Documents/github/explain_te/CHIRPS/structures.py:1450: RuntimeWarning: invalid value encountered in true_divide\n",
      "  np.histogram(lowers, lower_bins)[0]).round(5) # can result in nans\n"
     ]
    },
    {
     "name": "stdout",
     "output_type": "stream",
     "text": [
      "found 95 patterns from 570 for batch_idx 16\n",
      "start score sort for batch_idx 16 (95) patterns\n",
      "as_chirps for batch_idx 17\n",
      "start mining for batch_idx 17 with support = 0.3\n"
     ]
    },
    {
     "name": "stderr",
     "output_type": "stream",
     "text": [
      "/home/julianhatwell/Documents/github/explain_te/CHIRPS/structures.py:1445: RuntimeWarning: invalid value encountered in true_divide\n",
      "  np.histogram(uppers, upper_bins)[0]).round(5) # can result in nans if no value falls into bin\n"
     ]
    },
    {
     "name": "stdout",
     "output_type": "stream",
     "text": [
      "start merge rule for batch_idx 16 (95) patterns\n"
     ]
    },
    {
     "name": "stderr",
     "output_type": "stream",
     "text": [
      "/home/julianhatwell/Documents/github/explain_te/CHIRPS/structures.py:1450: RuntimeWarning: invalid value encountered in true_divide\n",
      "  np.histogram(lowers, lower_bins)[0]).round(5) # can result in nans\n"
     ]
    },
    {
     "name": "stdout",
     "output_type": "stream",
     "text": [
      "found 23 patterns from 416 for batch_idx 17\n",
      "start score sort for batch_idx 17 (23) patterns\n",
      "start merge rule for batch_idx 17 (23) patterns\n",
      "[('educationnum', True, 9.80797), ('hoursperweek', True, 42.64031), ('lcapitalgain', True, 8.34003), ('lcapitalloss', True, 7.44466)]\n",
      "0.9478627227244799 0.3080464530375645 0.45152275359205896 0.3743230780145199\n",
      "merge complete for batch_idx 9 (1039) patterns\n",
      "start get explainer for batch_idx 9\n",
      "as_chirps for batch_idx 18\n",
      "start mining for batch_idx 18 with support = 0.3\n"
     ]
    },
    {
     "name": "stderr",
     "output_type": "stream",
     "text": [
      "/home/julianhatwell/Documents/github/explain_te/CHIRPS/structures.py:1445: RuntimeWarning: invalid value encountered in true_divide\n",
      "  np.histogram(uppers, upper_bins)[0]).round(5) # can result in nans if no value falls into bin\n",
      "/home/julianhatwell/Documents/github/explain_te/CHIRPS/structures.py:1450: RuntimeWarning: invalid value encountered in true_divide\n",
      "  np.histogram(lowers, lower_bins)[0]).round(5) # can result in nans\n"
     ]
    },
    {
     "name": "stdout",
     "output_type": "stream",
     "text": [
      "found 14 patterns from 480 for batch_idx 18\n",
      "start score sort for batch_idx 18 (14) patterns\n",
      "start merge rule for batch_idx 18 (14) patterns\n",
      "[('educationnum', False, 12.12173), ('occupation_Exec-managerial', False, 0.5), ('relationship_Husband', False, 0.5), ('age', False, 29.38701), ('hoursperweek', True, 65.70137), ('workclass_Private', False, 0.5), ('nativecountry_United-States', False, 0.5), ('race_White', False, 0.5)]\n",
      "0.9346811819595645 0.0187185973272004 0.18028376722407274 0.10483258766333398\n",
      "merge complete for batch_idx 6 (558) patterns\n",
      "start get explainer for batch_idx 6\n",
      "[('lcapitalgain', True, 8.71883), ('relationship_Own-child', False, 0.5)]\n",
      "0.9889228418640184 0.15198570356445754 0.5955926611082768 0.5323943661971832\n",
      "merge complete for batch_idx 18 (14) patterns\n",
      "start get explainer for batch_idx 18\n",
      "as_chirps for batch_idx 19\n",
      "start mining for batch_idx 19 with support = 0.3\n"
     ]
    },
    {
     "name": "stderr",
     "output_type": "stream",
     "text": [
      "/home/julianhatwell/Documents/github/explain_te/CHIRPS/structures.py:1445: RuntimeWarning: invalid value encountered in true_divide\n",
      "  np.histogram(uppers, upper_bins)[0]).round(5) # can result in nans if no value falls into bin\n",
      "/home/julianhatwell/Documents/github/explain_te/CHIRPS/structures.py:1450: RuntimeWarning: invalid value encountered in true_divide\n",
      "  np.histogram(lowers, lower_bins)[0]).round(5) # can result in nans\n"
     ]
    },
    {
     "name": "stdout",
     "output_type": "stream",
     "text": [
      "found 217 patterns from 520 for batch_idx 19\n",
      "start score sort for batch_idx 19 (217) patterns\n",
      "as_chirps for batch_idx 20\n",
      "start mining for batch_idx 20 with support = 0.3\n"
     ]
    },
    {
     "name": "stderr",
     "output_type": "stream",
     "text": [
      "/home/julianhatwell/Documents/github/explain_te/CHIRPS/structures.py:1450: RuntimeWarning: invalid value encountered in true_divide\n",
      "  np.histogram(lowers, lower_bins)[0]).round(5) # can result in nans\n",
      "/home/julianhatwell/Documents/github/explain_te/CHIRPS/structures.py:1445: RuntimeWarning: invalid value encountered in true_divide\n",
      "  np.histogram(uppers, upper_bins)[0]).round(5) # can result in nans if no value falls into bin\n"
     ]
    },
    {
     "name": "stdout",
     "output_type": "stream",
     "text": [
      "found 36 patterns from 578 for batch_idx 20\n",
      "start score sort for batch_idx 20 (36) patterns\n",
      "start merge rule for batch_idx 20 (36) patterns\n",
      "start merge rule for batch_idx 19 (217) patterns\n",
      "[('lcapitalgain', True, 8.71971), ('maritalstatus_Never-married', False, 0.5), ('educationnum', True, 13.5), ('lcapitalloss', True, 7.7563)]\n",
      "0.9778862722573234 0.2965488809712735 0.1730356984959778 0.3955142231947484\n",
      "merge complete for batch_idx 17 (23) patterns\n",
      "start get explainer for batch_idx 17\n",
      "as_chirps for batch_idx 21\n",
      "start mining for batch_idx 21 with support = 0.3\n"
     ]
    },
    {
     "name": "stderr",
     "output_type": "stream",
     "text": [
      "/home/julianhatwell/Documents/github/explain_te/CHIRPS/structures.py:1445: RuntimeWarning: invalid value encountered in true_divide\n",
      "  np.histogram(uppers, upper_bins)[0]).round(5) # can result in nans if no value falls into bin\n",
      "/home/julianhatwell/Documents/github/explain_te/CHIRPS/structures.py:1450: RuntimeWarning: invalid value encountered in true_divide\n",
      "  np.histogram(lowers, lower_bins)[0]).round(5) # can result in nans\n"
     ]
    },
    {
     "name": "stdout",
     "output_type": "stream",
     "text": [
      "found 145 patterns from 494 for batch_idx 21\n",
      "start score sort for batch_idx 21 (145) patterns\n",
      "start merge rule for batch_idx 21 (145) patterns\n",
      "[('educationnum', False, 9.89211), ('occupation_Exec-managerial', False, 0.5), ('relationship_Husband', False, 0.5), ('workclass_Private', False, 0.5), ('nativecountry_United-States', False, 0.5), ('age', False, 36.13208), ('age', True, 61.23), ('hoursperweek', False, 35.89336), ('race_White', False, 0.5), ('lfnlwgt', False, 11.92945)]\n",
      "0.9370786516853933 0.012943454183650107 0.28460309642770215 0.15029985472876498\n",
      "merge complete for batch_idx 10 (581) patterns\n",
      "start get explainer for batch_idx 10\n",
      "[('educationnum', True, 10.52463), ('hoursperweek', True, 44.43959), ('lcapitalgain', True, 4.0565), ('lcapitalloss', True, 7.45894), ('occupation_Exec-managerial', True, 0.5), ('occupation_Prof-specialty', True, 0.5), ('occupation_Transport-moving', True, 0.5), ('occupation_Farming-fishing', True, 0.5), ('occupation_Tech-support', True, 0.5), ('occupation_Protective-serv', True, 0.5), ('occupation_Adm-clerical', True, 0.5), ('workclass_Federal-gov', True, 0.5), ('workclass_Self-emp-inc', True, 0.5)]\n",
      "0.9627817745803358 0.28986128702999436 0.17662282195170625 0.14076556502311444\n",
      "merge complete for batch_idx 7 (521) patterns\n",
      "start get explainer for batch_idx 7\n",
      "as_chirps for batch_idx 22\n",
      "start mining for batch_idx 22 with support = 0.3\n"
     ]
    },
    {
     "name": "stderr",
     "output_type": "stream",
     "text": [
      "/home/julianhatwell/Documents/github/explain_te/CHIRPS/structures.py:1450: RuntimeWarning: invalid value encountered in true_divide\n",
      "  np.histogram(lowers, lower_bins)[0]).round(5) # can result in nans\n",
      "/home/julianhatwell/Documents/github/explain_te/CHIRPS/structures.py:1445: RuntimeWarning: invalid value encountered in true_divide\n",
      "  np.histogram(uppers, upper_bins)[0]).round(5) # can result in nans if no value falls into bin\n"
     ]
    },
    {
     "name": "stdout",
     "output_type": "stream",
     "text": [
      "found 15 patterns from 600 for batch_idx 22\n",
      "start score sort for batch_idx 22 (15) patterns\n",
      "start merge rule for batch_idx 22 (15) patterns\n",
      "as_chirps for batch_idx 23\n",
      "start mining for batch_idx 23 with support = 0.3\n"
     ]
    },
    {
     "name": "stderr",
     "output_type": "stream",
     "text": [
      "/home/julianhatwell/Documents/github/explain_te/CHIRPS/structures.py:1445: RuntimeWarning: invalid value encountered in true_divide\n",
      "  np.histogram(uppers, upper_bins)[0]).round(5) # can result in nans if no value falls into bin\n",
      "/home/julianhatwell/Documents/github/explain_te/CHIRPS/structures.py:1450: RuntimeWarning: invalid value encountered in true_divide\n",
      "  np.histogram(lowers, lower_bins)[0]).round(5) # can result in nans\n"
     ]
    },
    {
     "name": "stdout",
     "output_type": "stream",
     "text": [
      "found 635 patterns from 505 for batch_idx 23\n",
      "start score sort for batch_idx 23 (635) patterns\n",
      "[('lcapitalgain', True, 8.73433), ('maritalstatus_Never-married', False, 0.5), ('lcapitalloss', True, 7.61275), ('hoursperweek', True, 49.41053)]\n",
      "0.9806973848069739 0.2751633462293861 0.3444213042828939 0.26600866634569076\n",
      "merge complete for batch_idx 16 (95) patterns\n",
      "start get explainer for batch_idx 16\n",
      "as_chirps for batch_idx 24\n",
      "start mining for batch_idx 24 with support = 0.3\n"
     ]
    },
    {
     "name": "stderr",
     "output_type": "stream",
     "text": [
      "/home/julianhatwell/Documents/github/explain_te/CHIRPS/structures.py:1445: RuntimeWarning: invalid value encountered in true_divide\n",
      "  np.histogram(uppers, upper_bins)[0]).round(5) # can result in nans if no value falls into bin\n",
      "/home/julianhatwell/Documents/github/explain_te/CHIRPS/structures.py:1450: RuntimeWarning: invalid value encountered in true_divide\n",
      "  np.histogram(lowers, lower_bins)[0]).round(5) # can result in nans\n"
     ]
    },
    {
     "name": "stdout",
     "output_type": "stream",
     "text": [
      "found 85 patterns from 483 for batch_idx 24\n",
      "start score sort for batch_idx 24 (85) patterns\n",
      "start merge rule for batch_idx 24 (85) patterns\n",
      "start merge rule for batch_idx 23 (635) patterns\n",
      "[('maritalstatus_Never-married', False, 0.5), ('lcapitalgain', True, 8.96219), ('educationnum', True, 13.5)]\n",
      "0.9765356734070966 0.29704259288740376 0.395208348139378 0.19415922122949725\n",
      "merge complete for batch_idx 20 (36) patterns\n",
      "start get explainer for batch_idx 20\n",
      "as_chirps for batch_idx 25\n",
      "start mining for batch_idx 25 with support = 0.3\n"
     ]
    },
    {
     "name": "stderr",
     "output_type": "stream",
     "text": [
      "/home/julianhatwell/Documents/github/explain_te/CHIRPS/structures.py:1445: RuntimeWarning: invalid value encountered in true_divide\n",
      "  np.histogram(uppers, upper_bins)[0]).round(5) # can result in nans if no value falls into bin\n",
      "/home/julianhatwell/Documents/github/explain_te/CHIRPS/structures.py:1450: RuntimeWarning: invalid value encountered in true_divide\n",
      "  np.histogram(lowers, lower_bins)[0]).round(5) # can result in nans\n"
     ]
    },
    {
     "name": "stdout",
     "output_type": "stream",
     "text": [
      "reduced 2 patterns out of 351 by numeric redundancy\n",
      "found 349 patterns from 552 for batch_idx 25\n",
      "start score sort for batch_idx 25 (349) patterns\n",
      "[('relationship_Own-child', False, 0.5), ('lcapitalloss', True, 7.65246), ('lcapitalgain', True, 9.0168)]\n",
      "0.9892925430210325 0.1518503956633814 0.5968290636454114 0.5555258228525555\n",
      "merge complete for batch_idx 22 (15) patterns\n",
      "start get explainer for batch_idx 22\n",
      "as_chirps for batch_idx 26\n",
      "start mining for batch_idx 26 with support = 0.3\n"
     ]
    },
    {
     "name": "stderr",
     "output_type": "stream",
     "text": [
      "/home/julianhatwell/Documents/github/explain_te/CHIRPS/structures.py:1450: RuntimeWarning: invalid value encountered in true_divide\n",
      "  np.histogram(lowers, lower_bins)[0]).round(5) # can result in nans\n",
      "/home/julianhatwell/Documents/github/explain_te/CHIRPS/structures.py:1445: RuntimeWarning: invalid value encountered in true_divide\n",
      "  np.histogram(uppers, upper_bins)[0]).round(5) # can result in nans if no value falls into bin\n"
     ]
    },
    {
     "name": "stdout",
     "output_type": "stream",
     "text": [
      "found 18 patterns from 597 for batch_idx 26\n",
      "start score sort for batch_idx 26 (18) patterns\n",
      "start merge rule for batch_idx 26 (18) patterns\n",
      "start merge rule for batch_idx 25 (349) patterns\n",
      "[('educationnum', True, 9.5), ('hoursperweek', True, 43.63095), ('lcapitalgain', True, 8.35911), ('lcapitalloss', True, 7.44466)]\n",
      "0.9477592382283567 0.3093363635454026 0.2441234305026993 0.17229837424290695\n",
      "merge complete for batch_idx 3 (822) patterns\n",
      "start get explainer for batch_idx 3\n",
      "as_chirps for batch_idx 27\n",
      "start mining for batch_idx 27 with support = 0.3\n"
     ]
    },
    {
     "name": "stderr",
     "output_type": "stream",
     "text": [
      "/home/julianhatwell/Documents/github/explain_te/CHIRPS/structures.py:1450: RuntimeWarning: invalid value encountered in true_divide\n",
      "  np.histogram(lowers, lower_bins)[0]).round(5) # can result in nans\n",
      "/home/julianhatwell/Documents/github/explain_te/CHIRPS/structures.py:1445: RuntimeWarning: invalid value encountered in true_divide\n",
      "  np.histogram(uppers, upper_bins)[0]).round(5) # can result in nans if no value falls into bin\n"
     ]
    },
    {
     "name": "stdout",
     "output_type": "stream",
     "text": [
      "reduced 2 patterns out of 168 by numeric redundancy\n",
      "found 166 patterns from 462 for batch_idx 27\n",
      "start score sort for batch_idx 27 (166) patterns\n",
      "start merge rule for batch_idx 27 (166) patterns\n",
      "[('lcapitalloss', True, 7.63772), ('maritalstatus_Never-married', False, 0.5), ('lcapitalgain', True, 8.98622)]\n",
      "0.9691284946726163 0.307326045482275 0.9673667988437513 0.7414282594452937\n",
      "merge complete for batch_idx 26 (18) patterns\n",
      "start get explainer for batch_idx 26\n",
      "as_chirps for batch_idx 28\n",
      "start mining for batch_idx 28 with support = 0.3\n"
     ]
    },
    {
     "name": "stderr",
     "output_type": "stream",
     "text": [
      "/home/julianhatwell/Documents/github/explain_te/CHIRPS/structures.py:1445: RuntimeWarning: invalid value encountered in true_divide\n",
      "  np.histogram(uppers, upper_bins)[0]).round(5) # can result in nans if no value falls into bin\n",
      "/home/julianhatwell/Documents/github/explain_te/CHIRPS/structures.py:1450: RuntimeWarning: invalid value encountered in true_divide\n",
      "  np.histogram(lowers, lower_bins)[0]).round(5) # can result in nans\n"
     ]
    },
    {
     "name": "stdout",
     "output_type": "stream",
     "text": [
      "found 81 patterns from 600 for batch_idx 28\n",
      "start score sort for batch_idx 28 (81) patterns\n",
      "start merge rule for batch_idx 28 (81) patterns\n",
      "[('age', True, 32.38141), ('lcapitalgain', True, 8.44625), ('hoursperweek', True, 43.56645), ('lcapitalloss', True, 7.46299)]\n",
      "0.9614725163893091 0.2758997003884778 0.5181514841182245 0.3528362939972263\n",
      "merge complete for batch_idx 24 (85) patterns\n",
      "start get explainer for batch_idx 24\n",
      "as_chirps for batch_idx 29\n",
      "start mining for batch_idx 29 with support = 0.3\n",
      "[('age', True, 30.01688), ('lcapitalgain', True, 8.42253), ('lcapitalloss', True, 7.45864)]\n",
      "0.9542697153523099 0.29385859882865273 0.29873917526147054 0.2276777114236178\n",
      "merge complete for batch_idx 19 (217) patterns\n",
      "start get explainer for batch_idx 19\n"
     ]
    },
    {
     "name": "stderr",
     "output_type": "stream",
     "text": [
      "/home/julianhatwell/Documents/github/explain_te/CHIRPS/structures.py:1445: RuntimeWarning: invalid value encountered in true_divide\n",
      "  np.histogram(uppers, upper_bins)[0]).round(5) # can result in nans if no value falls into bin\n",
      "/home/julianhatwell/Documents/github/explain_te/CHIRPS/structures.py:1450: RuntimeWarning: invalid value encountered in true_divide\n",
      "  np.histogram(lowers, lower_bins)[0]).round(5) # can result in nans\n"
     ]
    },
    {
     "name": "stdout",
     "output_type": "stream",
     "text": [
      "found 84 patterns from 596 for batch_idx 29\n",
      "start score sort for batch_idx 29 (84) patterns\n",
      "start merge rule for batch_idx 29 (84) patterns\n",
      "as_chirps for batch_idx 30\n",
      "start mining for batch_idx 30 with support = 0.3\n"
     ]
    },
    {
     "name": "stderr",
     "output_type": "stream",
     "text": [
      "/home/julianhatwell/Documents/github/explain_te/CHIRPS/structures.py:1445: RuntimeWarning: invalid value encountered in true_divide\n",
      "  np.histogram(uppers, upper_bins)[0]).round(5) # can result in nans if no value falls into bin\n",
      "/home/julianhatwell/Documents/github/explain_te/CHIRPS/structures.py:1450: RuntimeWarning: invalid value encountered in true_divide\n",
      "  np.histogram(lowers, lower_bins)[0]).round(5) # can result in nans\n"
     ]
    },
    {
     "name": "stdout",
     "output_type": "stream",
     "text": [
      "found 131 patterns from 558 for batch_idx 30\n",
      "start score sort for batch_idx 30 (131) patterns\n",
      "start merge rule for batch_idx 30 (131) patterns\n",
      "[('hoursperweek', True, 43.45321), ('occupation_Exec-managerial', True, 0.5), ('occupation_Prof-specialty', True, 0.5), ('occupation_Tech-support', True, 0.5), ('lcapitalgain', True, 8.401), ('lcapitalloss', True, 7.466), ('educationnum', True, 11.52778), ('workclass_Federal-gov', True, 0.5), ('workclass_Self-emp-inc', True, 0.5)]\n",
      "0.9494186428430664 0.40164919821190775 0.22251023397748698 0.2746982394095485\n",
      "merge complete for batch_idx 21 (145) patterns\n",
      "start get explainer for batch_idx 21\n",
      "as_chirps for batch_idx 31\n",
      "start mining for batch_idx 31 with support = 0.3\n"
     ]
    },
    {
     "name": "stderr",
     "output_type": "stream",
     "text": [
      "/home/julianhatwell/Documents/github/explain_te/CHIRPS/structures.py:1450: RuntimeWarning: invalid value encountered in true_divide\n",
      "  np.histogram(lowers, lower_bins)[0]).round(5) # can result in nans\n",
      "/home/julianhatwell/Documents/github/explain_te/CHIRPS/structures.py:1445: RuntimeWarning: invalid value encountered in true_divide\n",
      "  np.histogram(uppers, upper_bins)[0]).round(5) # can result in nans if no value falls into bin\n"
     ]
    },
    {
     "name": "stdout",
     "output_type": "stream",
     "text": [
      "found 11 patterns from 598 for batch_idx 31\n",
      "start score sort for batch_idx 31 (11) patterns\n",
      "start merge rule for batch_idx 31 (11) patterns\n",
      "[('educationnum', True, 9.75), ('lcapitalgain', True, 8.38703), ('hoursperweek', True, 43.87075), ('lcapitalloss', True, 7.4345)]\n",
      "0.9462759462759462 0.30908177996140535 0.22210880580050169 0.1593236484877353\n",
      "merge complete for batch_idx 25 (349) patterns\n",
      "start get explainer for batch_idx 25\n",
      "as_chirps for batch_idx 32\n",
      "start mining for batch_idx 32 with support = 0.3\n"
     ]
    },
    {
     "name": "stderr",
     "output_type": "stream",
     "text": [
      "/home/julianhatwell/Documents/github/explain_te/CHIRPS/structures.py:1445: RuntimeWarning: invalid value encountered in true_divide\n",
      "  np.histogram(uppers, upper_bins)[0]).round(5) # can result in nans if no value falls into bin\n",
      "/home/julianhatwell/Documents/github/explain_te/CHIRPS/structures.py:1450: RuntimeWarning: invalid value encountered in true_divide\n",
      "  np.histogram(lowers, lower_bins)[0]).round(5) # can result in nans\n"
     ]
    },
    {
     "name": "stdout",
     "output_type": "stream",
     "text": [
      "found 1158 patterns from 477 for batch_idx 32\n",
      "start score sort for batch_idx 32 (1158) patterns\n",
      "[('maritalstatus_Never-married', False, 0.5), ('educationnum', True, 12.49321)]\n",
      "0.9813964170877354 0.24943586097277318 0.7715567409787054 0.5326560232220611\n",
      "merge complete for batch_idx 31 (11) patterns\n",
      "start get explainer for batch_idx 31\n",
      "[('educationnum', True, 12.71981), ('lcapitalgain', True, 8.76456), ('maritalstatus_Never-married', False, 0.5)]\n",
      "0.9869333950046254 0.249293793260188 0.36277069779839743 0.24894240156199154\n",
      "merge complete for batch_idx 28 (81) patterns\n",
      "start get explainer for batch_idx 28\n",
      "as_chirps for batch_idx 33\n",
      "start mining for batch_idx 33 with support = 0.3\n"
     ]
    },
    {
     "name": "stderr",
     "output_type": "stream",
     "text": [
      "/home/julianhatwell/Documents/github/explain_te/CHIRPS/structures.py:1450: RuntimeWarning: invalid value encountered in true_divide\n",
      "  np.histogram(lowers, lower_bins)[0]).round(5) # can result in nans\n",
      "/home/julianhatwell/Documents/github/explain_te/CHIRPS/structures.py:1445: RuntimeWarning: invalid value encountered in true_divide\n",
      "  np.histogram(uppers, upper_bins)[0]).round(5) # can result in nans if no value falls into bin\n"
     ]
    },
    {
     "name": "stdout",
     "output_type": "stream",
     "text": [
      "found 31 patterns from 511 for batch_idx 33\n",
      "start score sort for batch_idx 33 (31) patterns\n",
      "start merge rule for batch_idx 33 (31) patterns\n",
      "[('lcapitalgain', True, 8.4476), ('occupation_Handlers-cleaners', False, 0.5)]\n",
      "0.9514426460239268 0.04114703965817629 0.43789356205817875 0.40929276617609284\n",
      "merge complete for batch_idx 30 (131) patterns\n",
      "start get explainer for batch_idx 30\n",
      "as_chirps for batch_idx 34\n",
      "start mining for batch_idx 34 with support = 0.3\n"
     ]
    },
    {
     "name": "stderr",
     "output_type": "stream",
     "text": [
      "/home/julianhatwell/Documents/github/explain_te/CHIRPS/structures.py:1450: RuntimeWarning: invalid value encountered in true_divide\n",
      "  np.histogram(lowers, lower_bins)[0]).round(5) # can result in nans\n",
      "/home/julianhatwell/Documents/github/explain_te/CHIRPS/structures.py:1445: RuntimeWarning: invalid value encountered in true_divide\n",
      "  np.histogram(uppers, upper_bins)[0]).round(5) # can result in nans if no value falls into bin\n"
     ]
    },
    {
     "name": "stdout",
     "output_type": "stream",
     "text": [
      "reduced 2 patterns out of 267 by numeric redundancy\n",
      "found 265 patterns from 500 for batch_idx 34\n",
      "start score sort for batch_idx 34 (265) patterns\n",
      "as_chirps for batch_idx 35\n",
      "start mining for batch_idx 35 with support = 0.3\n"
     ]
    },
    {
     "name": "stderr",
     "output_type": "stream",
     "text": [
      "/home/julianhatwell/Documents/github/explain_te/CHIRPS/structures.py:1450: RuntimeWarning: invalid value encountered in true_divide\n",
      "  np.histogram(lowers, lower_bins)[0]).round(5) # can result in nans\n",
      "/home/julianhatwell/Documents/github/explain_te/CHIRPS/structures.py:1445: RuntimeWarning: invalid value encountered in true_divide\n",
      "  np.histogram(uppers, upper_bins)[0]).round(5) # can result in nans if no value falls into bin\n"
     ]
    },
    {
     "name": "stdout",
     "output_type": "stream",
     "text": [
      "found 22 patterns from 591 for batch_idx 35\n",
      "start score sort for batch_idx 35 (22) patterns\n",
      "start merge rule for batch_idx 35 (22) patterns\n",
      "start merge rule for batch_idx 34 (265) patterns\n",
      "start merge rule for batch_idx 32 (1158) patterns\n",
      "[('educationnum', True, 8.46867), ('lcapitalgain', True, 8.47994), ('lcapitalloss', True, 7.45615)]\n",
      "0.9614507299270073 0.12543463056796295 0.3215518506716908 0.25609798531612094\n",
      "merge complete for batch_idx 27 (166) patterns\n",
      "start get explainer for batch_idx 27\n",
      "as_chirps for batch_idx 36\n",
      "start mining for batch_idx 36 with support = 0.3\n"
     ]
    },
    {
     "name": "stderr",
     "output_type": "stream",
     "text": [
      "/home/julianhatwell/Documents/github/explain_te/CHIRPS/structures.py:1445: RuntimeWarning: invalid value encountered in true_divide\n",
      "  np.histogram(uppers, upper_bins)[0]).round(5) # can result in nans if no value falls into bin\n",
      "/home/julianhatwell/Documents/github/explain_te/CHIRPS/structures.py:1450: RuntimeWarning: invalid value encountered in true_divide\n",
      "  np.histogram(lowers, lower_bins)[0]).round(5) # can result in nans\n"
     ]
    },
    {
     "name": "stdout",
     "output_type": "stream",
     "text": [
      "found 20 patterns from 378 for batch_idx 36\n",
      "start score sort for batch_idx 36 (20) patterns\n",
      "start merge rule for batch_idx 36 (20) patterns\n",
      "[('lcapitalgain', True, 8.75902), ('maritalstatus_Married-civ-spouse', True, 0.5)]\n",
      "0.9521936627520496 0.4700518313758765 0.4187825898115598 0.4349341595662278\n",
      "merge complete for batch_idx 35 (22) patterns\n",
      "start get explainer for batch_idx 35\n",
      "as_chirps for batch_idx 37\n",
      "start mining for batch_idx 37 with support = 0.3\n"
     ]
    },
    {
     "name": "stderr",
     "output_type": "stream",
     "text": [
      "/home/julianhatwell/Documents/github/explain_te/CHIRPS/structures.py:1450: RuntimeWarning: invalid value encountered in true_divide\n",
      "  np.histogram(lowers, lower_bins)[0]).round(5) # can result in nans\n",
      "/home/julianhatwell/Documents/github/explain_te/CHIRPS/structures.py:1445: RuntimeWarning: invalid value encountered in true_divide\n",
      "  np.histogram(uppers, upper_bins)[0]).round(5) # can result in nans if no value falls into bin\n"
     ]
    },
    {
     "name": "stdout",
     "output_type": "stream",
     "text": [
      "found 28 patterns from 427 for batch_idx 37\n",
      "start score sort for batch_idx 37 (28) patterns\n",
      "start merge rule for batch_idx 37 (28) patterns\n",
      "[('educationnum', False, 12.89636), ('maritalstatus_Married-civ-spouse', False, 0.5), ('occupation_Exec-managerial', False, 0.5), ('age', False, 26.41139), ('race_White', False, 0.5)]\n",
      "0.8524046434494196 0.03497755630542816 0.6511345496149887 0.32990559676331754\n",
      "merge complete for batch_idx 33 (31) patterns\n",
      "start get explainer for batch_idx 33\n",
      "[('educationnum', False, 10.68705), ('lcapitalloss', False, 7.50278), ('relationship_Husband', False, 0.5)]\n",
      "0.9445843828715366 0.011543635493956407 0.6476073315850464 0.32321601549886986\n",
      "merge complete for batch_idx 36 (20) patterns\n",
      "start get explainer for batch_idx 36\n",
      "as_chirps for batch_idx 38\n",
      "start mining for batch_idx 38 with support = 0.3\n"
     ]
    },
    {
     "name": "stderr",
     "output_type": "stream",
     "text": [
      "/home/julianhatwell/Documents/github/explain_te/CHIRPS/structures.py:1450: RuntimeWarning: invalid value encountered in true_divide\n",
      "  np.histogram(lowers, lower_bins)[0]).round(5) # can result in nans\n",
      "/home/julianhatwell/Documents/github/explain_te/CHIRPS/structures.py:1445: RuntimeWarning: invalid value encountered in true_divide\n",
      "  np.histogram(uppers, upper_bins)[0]).round(5) # can result in nans if no value falls into bin\n"
     ]
    },
    {
     "name": "stdout",
     "output_type": "stream",
     "text": [
      "found 35 patterns from 596 for batch_idx 38\n",
      "start score sort for batch_idx 38 (35) patterns\n",
      "start merge rule for batch_idx 38 (35) patterns\n",
      "as_chirps for batch_idx 39\n",
      "start mining for batch_idx 39 with support = 0.3\n"
     ]
    },
    {
     "name": "stderr",
     "output_type": "stream",
     "text": [
      "/home/julianhatwell/Documents/github/explain_te/CHIRPS/structures.py:1450: RuntimeWarning: invalid value encountered in true_divide\n",
      "  np.histogram(lowers, lower_bins)[0]).round(5) # can result in nans\n"
     ]
    },
    {
     "name": "stdout",
     "output_type": "stream",
     "text": [
      "found 27 patterns from 567 for batch_idx 39\n",
      "start score sort for batch_idx 39 (27) patterns\n",
      "start merge rule for batch_idx 39 (27) patterns\n",
      "[('educationnum', False, 9.20238), ('hoursperweek', False, 35.98551), ('relationship_Husband', False, 0.5), ('occupation_Other-service', True, 0.5), ('occupation_Machine-op-inspct', True, 0.5), ('occupation_Farming-fishing', True, 0.5), ('occupation_Handlers-cleaners', True, 0.5), ('occupation_Craft-repair', True, 0.5), ('occupation_Transport-moving', True, 0.5), ('occupation_Tech-support', True, 0.5), ('age', False, 39.45522), ('age', True, 60.42793), ('lfnlwgt', False, 11.93918), ('workclass_Private', False, 0.5), ('nativecountry_United-States', False, 0.5)]\n",
      "0.8598233995584988 0.026313425464307996 0.13468622413246054 0.08239273289524536\n",
      "merge complete for batch_idx 14 (425) patterns\n",
      "start get explainer for batch_idx 14\n",
      "as_chirps for batch_idx 40\n",
      "start mining for batch_idx 40 with support = 0.3\n"
     ]
    },
    {
     "name": "stderr",
     "output_type": "stream",
     "text": [
      "/home/julianhatwell/Documents/github/explain_te/CHIRPS/structures.py:1445: RuntimeWarning: invalid value encountered in true_divide\n",
      "  np.histogram(uppers, upper_bins)[0]).round(5) # can result in nans if no value falls into bin\n",
      "/home/julianhatwell/Documents/github/explain_te/CHIRPS/structures.py:1450: RuntimeWarning: invalid value encountered in true_divide\n",
      "  np.histogram(lowers, lower_bins)[0]).round(5) # can result in nans\n"
     ]
    },
    {
     "name": "stdout",
     "output_type": "stream",
     "text": [
      "found 217 patterns from 297 for batch_idx 40\n",
      "start score sort for batch_idx 40 (217) patterns\n",
      "[('lcapitalgain', True, 8.77237), ('maritalstatus_Never-married', False, 0.5), ('lcapitalloss', True, 7.61742)]\n",
      "0.96917183509668 0.30689098312018487 0.5783560040094319 0.46210448859455494\n",
      "merge complete for batch_idx 29 (84) patterns\n",
      "start get explainer for batch_idx 29\n",
      "start merge rule for batch_idx 40 (217) patterns\n",
      "as_chirps for batch_idx 41\n",
      "start mining for batch_idx 41 with support = 0.3\n",
      "[('age', True, 39.69712), ('educationnum', True, 9.66713), ('lcapitalgain', True, 8.38749), ('lcapitalloss', True, 7.44188)]\n",
      "0.955560864890694 0.23323844806281968 0.15370907356820004 0.14085960564047467\n",
      "merge complete for batch_idx 23 (635) patterns\n"
     ]
    },
    {
     "name": "stderr",
     "output_type": "stream",
     "text": [
      "/home/julianhatwell/Documents/github/explain_te/CHIRPS/structures.py:1445: RuntimeWarning: invalid value encountered in true_divide\n",
      "  np.histogram(uppers, upper_bins)[0]).round(5) # can result in nans if no value falls into bin\n"
     ]
    },
    {
     "name": "stdout",
     "output_type": "stream",
     "text": [
      "start get explainer for batch_idx 23\n"
     ]
    },
    {
     "name": "stderr",
     "output_type": "stream",
     "text": [
      "/home/julianhatwell/Documents/github/explain_te/CHIRPS/structures.py:1450: RuntimeWarning: invalid value encountered in true_divide\n",
      "  np.histogram(lowers, lower_bins)[0]).round(5) # can result in nans\n"
     ]
    },
    {
     "name": "stdout",
     "output_type": "stream",
     "text": [
      "found 79 patterns from 598 for batch_idx 41\n",
      "start score sort for batch_idx 41 (79) patterns\n",
      "start merge rule for batch_idx 41 (79) patterns\n",
      "as_chirps for batch_idx 42\n",
      "start mining for batch_idx 42 with support = 0.3\n"
     ]
    },
    {
     "name": "stderr",
     "output_type": "stream",
     "text": [
      "/home/julianhatwell/Documents/github/explain_te/CHIRPS/structures.py:1450: RuntimeWarning: invalid value encountered in true_divide\n",
      "  np.histogram(lowers, lower_bins)[0]).round(5) # can result in nans\n",
      "/home/julianhatwell/Documents/github/explain_te/CHIRPS/structures.py:1445: RuntimeWarning: invalid value encountered in true_divide\n",
      "  np.histogram(uppers, upper_bins)[0]).round(5) # can result in nans if no value falls into bin\n"
     ]
    },
    {
     "name": "stdout",
     "output_type": "stream",
     "text": [
      "found 43 patterns from 596 for batch_idx 42\n",
      "start score sort for batch_idx 42 (43) patterns\n",
      "start merge rule for batch_idx 42 (43) patterns\n",
      "[('maritalstatus_Married-civ-spouse', True, 0.5), ('educationnum', True, 12.67692), ('lcapitalloss', True, 7.61965), ('lcapitalgain', True, 8.68568)]\n",
      "0.9785754034501948 0.4040181287424267 0.6344907590569057 0.6212539851222104\n",
      "merge complete for batch_idx 37 (28) patterns\n",
      "start get explainer for batch_idx 37\n",
      "as_chirps for batch_idx 43\n",
      "start mining for batch_idx 43 with support = 0.3\n"
     ]
    },
    {
     "name": "stderr",
     "output_type": "stream",
     "text": [
      "/home/julianhatwell/Documents/github/explain_te/CHIRPS/structures.py:1445: RuntimeWarning: invalid value encountered in true_divide\n",
      "  np.histogram(uppers, upper_bins)[0]).round(5) # can result in nans if no value falls into bin\n",
      "/home/julianhatwell/Documents/github/explain_te/CHIRPS/structures.py:1450: RuntimeWarning: invalid value encountered in true_divide\n",
      "  np.histogram(lowers, lower_bins)[0]).round(5) # can result in nans\n"
     ]
    },
    {
     "name": "stdout",
     "output_type": "stream",
     "text": [
      "found 26 patterns from 595 for batch_idx 43\n",
      "start score sort for batch_idx 43 (26) patterns\n",
      "start merge rule for batch_idx 43 (26) patterns\n",
      "[('lcapitalgain', True, 8.48695), ('occupation_Other-service', False, 0.5)]\n",
      "0.9665492957746479 0.0981939674608284 0.447569771957284 0.31776014306471445\n",
      "merge complete for batch_idx 41 (79) patterns\n",
      "start get explainer for batch_idx 41\n",
      "as_chirps for batch_idx 44\n",
      "start mining for batch_idx 44 with support = 0.3\n"
     ]
    },
    {
     "name": "stderr",
     "output_type": "stream",
     "text": [
      "/home/julianhatwell/Documents/github/explain_te/CHIRPS/structures.py:1445: RuntimeWarning: invalid value encountered in true_divide\n",
      "  np.histogram(uppers, upper_bins)[0]).round(5) # can result in nans if no value falls into bin\n",
      "/home/julianhatwell/Documents/github/explain_te/CHIRPS/structures.py:1450: RuntimeWarning: invalid value encountered in true_divide\n",
      "  np.histogram(lowers, lower_bins)[0]).round(5) # can result in nans\n"
     ]
    },
    {
     "name": "stdout",
     "output_type": "stream",
     "text": [
      "found 15 patterns from 504 for batch_idx 44\n",
      "start score sort for batch_idx 44 (15) patterns\n",
      "start merge rule for batch_idx 44 (15) patterns\n",
      "[('maritalstatus_Never-married', False, 0.5), ('lcapitalgain', True, 8.96338), ('lcapitalloss', True, 7.64948)]\n",
      "0.9692167577413479 0.3073389174141023 0.46398817421800925 0.30551514349953707\n",
      "merge complete for batch_idx 38 (35) patterns\n",
      "start get explainer for batch_idx 38\n",
      "as_chirps for batch_idx 45\n",
      "start mining for batch_idx 45 with support = 0.3\n"
     ]
    },
    {
     "name": "stderr",
     "output_type": "stream",
     "text": [
      "/home/julianhatwell/Documents/github/explain_te/CHIRPS/structures.py:1450: RuntimeWarning: invalid value encountered in true_divide\n",
      "  np.histogram(lowers, lower_bins)[0]).round(5) # can result in nans\n",
      "/home/julianhatwell/Documents/github/explain_te/CHIRPS/structures.py:1445: RuntimeWarning: invalid value encountered in true_divide\n",
      "  np.histogram(uppers, upper_bins)[0]).round(5) # can result in nans if no value falls into bin\n"
     ]
    },
    {
     "name": "stdout",
     "output_type": "stream",
     "text": [
      "found 28 patterns from 598 for batch_idx 45\n",
      "start score sort for batch_idx 45 (28) patterns\n",
      "start merge rule for batch_idx 45 (28) patterns\n",
      "[('relationship_Own-child', False, 0.5)]\n",
      "0.9851823708206687 0.15240703040646597 0.3852964750094393 0.3146984924623116\n",
      "merge complete for batch_idx 44 (15) patterns\n",
      "start get explainer for batch_idx 44\n",
      "[('educationnum', True, 12.75857), ('maritalstatus_Married-civ-spouse', True, 0.5), ('maritalstatus_Divorced', True, 0.5), ('lcapitalgain', True, 8.68779), ('lcapitalloss', True, 7.60561)]\n",
      "0.9849554234769688 0.30845698130402893 0.6728256609989015 0.6241001028453891\n",
      "merge complete for batch_idx 39 (27) patterns\n",
      "start get explainer for batch_idx 39\n",
      "as_chirps for batch_idx 46\n",
      "start mining for batch_idx 46 with support = 0.3\n"
     ]
    },
    {
     "name": "stderr",
     "output_type": "stream",
     "text": [
      "/home/julianhatwell/Documents/github/explain_te/CHIRPS/structures.py:1450: RuntimeWarning: invalid value encountered in true_divide\n",
      "  np.histogram(lowers, lower_bins)[0]).round(5) # can result in nans\n"
     ]
    },
    {
     "name": "stdout",
     "output_type": "stream",
     "text": [
      "found 21 patterns from 599 for batch_idx 46\n",
      "start score sort for batch_idx 46 (21) patterns\n",
      "start merge rule for batch_idx 46 (21) patterns\n",
      "as_chirps for batch_idx 47\n",
      "start mining for batch_idx 47 with support = 0.3\n"
     ]
    },
    {
     "name": "stderr",
     "output_type": "stream",
     "text": [
      "/home/julianhatwell/Documents/github/explain_te/CHIRPS/structures.py:1450: RuntimeWarning: invalid value encountered in true_divide\n",
      "  np.histogram(lowers, lower_bins)[0]).round(5) # can result in nans\n",
      "/home/julianhatwell/Documents/github/explain_te/CHIRPS/structures.py:1445: RuntimeWarning: invalid value encountered in true_divide\n",
      "  np.histogram(uppers, upper_bins)[0]).round(5) # can result in nans if no value falls into bin\n"
     ]
    },
    {
     "name": "stdout",
     "output_type": "stream",
     "text": [
      "found 57 patterns from 600 for batch_idx 47\n",
      "start score sort for batch_idx 47 (57) patterns\n",
      "start merge rule for batch_idx 47 (57) patterns\n",
      "[('lcapitalgain', True, 8.73565), ('maritalstatus_Never-married', False, 0.5)]\n",
      "0.9665215024496462 0.3072431112309414 0.6237413926461141 0.4180506626404966\n",
      "merge complete for batch_idx 43 (26) patterns\n",
      "start get explainer for batch_idx 43\n",
      "as_chirps for batch_idx 48\n",
      "start mining for batch_idx 48 with support = 0.3\n"
     ]
    },
    {
     "name": "stderr",
     "output_type": "stream",
     "text": [
      "/home/julianhatwell/Documents/github/explain_te/CHIRPS/structures.py:1450: RuntimeWarning: invalid value encountered in true_divide\n",
      "  np.histogram(lowers, lower_bins)[0]).round(5) # can result in nans\n"
     ]
    },
    {
     "name": "stdout",
     "output_type": "stream",
     "text": [
      "found 48 patterns from 553 for batch_idx 48\n",
      "start score sort for batch_idx 48 (48) patterns\n",
      "start merge rule for batch_idx 48 (48) patterns\n",
      "[('lcapitalgain', True, 8.97195), ('maritalstatus_Never-married', False, 0.5), ('lcapitalloss', True, 7.65312)]\n",
      "0.9692167577413479 0.3073389174141023 0.4171758887218902 0.2629845174041946\n",
      "merge complete for batch_idx 42 (43) patterns\n",
      "start get explainer for batch_idx 42\n",
      "as_chirps for batch_idx 49\n",
      "start mining for batch_idx 49 with support = 0.3\n"
     ]
    },
    {
     "name": "stderr",
     "output_type": "stream",
     "text": [
      "/home/julianhatwell/Documents/github/explain_te/CHIRPS/structures.py:1445: RuntimeWarning: invalid value encountered in true_divide\n",
      "  np.histogram(uppers, upper_bins)[0]).round(5) # can result in nans if no value falls into bin\n",
      "/home/julianhatwell/Documents/github/explain_te/CHIRPS/structures.py:1450: RuntimeWarning: invalid value encountered in true_divide\n",
      "  np.histogram(lowers, lower_bins)[0]).round(5) # can result in nans\n"
     ]
    },
    {
     "name": "stdout",
     "output_type": "stream",
     "text": [
      "found 10 patterns from 590 for batch_idx 49\n",
      "start score sort for batch_idx 49 (10) patterns\n",
      "start merge rule for batch_idx 49 (10) patterns\n",
      "[('educationnum', True, 12.80994), ('maritalstatus_Married-civ-spouse', True, 0.5)]\n",
      "0.9686387291153109 0.40227356135279374 0.47666203647015803 0.2948960302457467\n",
      "merge complete for batch_idx 45 (28) patterns\n",
      "start get explainer for batch_idx 45\n",
      "as_chirps for batch_idx 50\n",
      "start mining for batch_idx 50 with support = 0.3\n"
     ]
    },
    {
     "name": "stderr",
     "output_type": "stream",
     "text": [
      "/home/julianhatwell/Documents/github/explain_te/CHIRPS/structures.py:1445: RuntimeWarning: invalid value encountered in true_divide\n",
      "  np.histogram(uppers, upper_bins)[0]).round(5) # can result in nans if no value falls into bin\n",
      "/home/julianhatwell/Documents/github/explain_te/CHIRPS/structures.py:1450: RuntimeWarning: invalid value encountered in true_divide\n",
      "  np.histogram(lowers, lower_bins)[0]).round(5) # can result in nans\n"
     ]
    },
    {
     "name": "stdout",
     "output_type": "stream",
     "text": [
      "[('lcapitalgain', True, 8.79337), ('maritalstatus_Married-civ-spouse', True, 0.5), ('educationnum', True, 12.49839)]\n",
      "0.9768906109458244 0.40478382256799106 0.6981763903143595 0.6481409759876064\n",
      "merge complete for batch_idx 46 (21) patterns\n",
      "start get explainer for batch_idx 46\n",
      "found 915 patterns from 512 for batch_idx 50\n",
      "start score sort for batch_idx 50 (915) patterns\n",
      "as_chirps for batch_idx 51\n",
      "start mining for batch_idx 51 with support = 0.3\n"
     ]
    },
    {
     "name": "stderr",
     "output_type": "stream",
     "text": [
      "/home/julianhatwell/Documents/github/explain_te/CHIRPS/structures.py:1450: RuntimeWarning: invalid value encountered in true_divide\n",
      "  np.histogram(lowers, lower_bins)[0]).round(5) # can result in nans\n"
     ]
    },
    {
     "name": "stdout",
     "output_type": "stream",
     "text": [
      "[('educationnum', True, 7.99737), ('lcapitalgain', True, 8.38842), ('lcapitalloss', True, 7.46683), ('occupation_Exec-managerial', True, 0.5), ('workclass_Self-emp-inc', True, 0.5)]\n",
      "0.9672698243746674 0.10815853264801352 0.3232118368455786 0.20097085347226581\n",
      "merge complete for batch_idx 34 (265) patterns\n"
     ]
    },
    {
     "name": "stderr",
     "output_type": "stream",
     "text": [
      "/home/julianhatwell/Documents/github/explain_te/CHIRPS/structures.py:1445: RuntimeWarning: invalid value encountered in true_divide\n",
      "  np.histogram(uppers, upper_bins)[0]).round(5) # can result in nans if no value falls into bin\n"
     ]
    },
    {
     "name": "stdout",
     "output_type": "stream",
     "text": [
      "start get explainer for batch_idx 34\n",
      "found 19 patterns from 329 for batch_idx 51\n",
      "start score sort for batch_idx 51 (19) patterns\n",
      "start merge rule for batch_idx 51 (19) patterns\n",
      "as_chirps for batch_idx 52\n",
      "start mining for batch_idx 52 with support = 0.3\n"
     ]
    },
    {
     "name": "stderr",
     "output_type": "stream",
     "text": [
      "/home/julianhatwell/Documents/github/explain_te/CHIRPS/structures.py:1450: RuntimeWarning: invalid value encountered in true_divide\n",
      "  np.histogram(lowers, lower_bins)[0]).round(5) # can result in nans\n",
      "/home/julianhatwell/Documents/github/explain_te/CHIRPS/structures.py:1445: RuntimeWarning: invalid value encountered in true_divide\n",
      "  np.histogram(uppers, upper_bins)[0]).round(5) # can result in nans if no value falls into bin\n"
     ]
    },
    {
     "name": "stdout",
     "output_type": "stream",
     "text": [
      "found 16 patterns from 600 for batch_idx 52\n",
      "start score sort for batch_idx 52 (16) patterns\n",
      "start merge rule for batch_idx 52 (16) patterns\n",
      "[('maritalstatus_Never-married', False, 0.5), ('educationnum', True, 12.5), ('lcapitalgain', True, 9.03497)]\n",
      "0.9869439630271519 0.24949562723576302 0.9633926654223584 0.621771950735002\n",
      "merge complete for batch_idx 49 (10) patterns\n",
      "start get explainer for batch_idx 49\n",
      "as_chirps for batch_idx 53\n",
      "start mining for batch_idx 53 with support = 0.3\n"
     ]
    },
    {
     "name": "stderr",
     "output_type": "stream",
     "text": [
      "/home/julianhatwell/Documents/github/explain_te/CHIRPS/structures.py:1450: RuntimeWarning: invalid value encountered in true_divide\n",
      "  np.histogram(lowers, lower_bins)[0]).round(5) # can result in nans\n",
      "/home/julianhatwell/Documents/github/explain_te/CHIRPS/structures.py:1445: RuntimeWarning: invalid value encountered in true_divide\n",
      "  np.histogram(uppers, upper_bins)[0]).round(5) # can result in nans if no value falls into bin\n"
     ]
    },
    {
     "name": "stdout",
     "output_type": "stream",
     "text": [
      "found 17 patterns from 567 for batch_idx 53\n",
      "start score sort for batch_idx 53 (17) patterns\n",
      "start merge rule for batch_idx 53 (17) patterns\n",
      "start merge rule for batch_idx 50 (915) patterns\n",
      "[('hoursperweek', True, 42.63372), ('lcapitalgain', True, 8.4156), ('occupation_Exec-managerial', True, 0.5), ('occupation_Prof-specialty', True, 0.5), ('occupation_Sales', True, 0.5), ('occupation_Craft-repair', True, 0.5), ('occupation_Transport-moving', True, 0.5), ('occupation_Tech-support', True, 0.5), ('lcapitalloss', True, 7.4652), ('educationnum', True, 13.49457)]\n",
      "0.9426795580110497 0.31019379128882446 0.03135157282962099 0.1268479573564321\n",
      "merge complete for batch_idx 40 (217) patterns\n",
      "start get explainer for batch_idx 40\n",
      "as_chirps for batch_idx 54\n",
      "start mining for batch_idx 54 with support = 0.3\n"
     ]
    },
    {
     "name": "stderr",
     "output_type": "stream",
     "text": [
      "/home/julianhatwell/Documents/github/explain_te/CHIRPS/structures.py:1445: RuntimeWarning: invalid value encountered in true_divide\n",
      "  np.histogram(uppers, upper_bins)[0]).round(5) # can result in nans if no value falls into bin\n",
      "/home/julianhatwell/Documents/github/explain_te/CHIRPS/structures.py:1450: RuntimeWarning: invalid value encountered in true_divide\n",
      "  np.histogram(lowers, lower_bins)[0]).round(5) # can result in nans\n"
     ]
    },
    {
     "name": "stdout",
     "output_type": "stream",
     "text": [
      "found 21 patterns from 590 for batch_idx 54\n",
      "start score sort for batch_idx 54 (21) patterns\n",
      "start merge rule for batch_idx 54 (21) patterns\n",
      "[('relationship_Other-relative', False, 0.5), ('lcapitalgain', True, 8.56553)]\n",
      "0.9708372530573848 0.030916117052300515 0.48066205968856135 0.4399047996826656\n",
      "merge complete for batch_idx 51 (19) patterns\n",
      "start get explainer for batch_idx 51\n",
      "[('maritalstatus_Never-married', False, 0.5)]\n",
      "0.9550782997762863 0.30597736258241237 0.6914547896410506 0.46255184191266163\n",
      "merge complete for batch_idx 52 (16) patterns\n",
      "start get explainer for batch_idx 52\n",
      "as_chirps for batch_idx 55\n",
      "start mining for batch_idx 55 with support = 0.3\n"
     ]
    },
    {
     "name": "stderr",
     "output_type": "stream",
     "text": [
      "/home/julianhatwell/Documents/github/explain_te/CHIRPS/structures.py:1445: RuntimeWarning: invalid value encountered in true_divide\n",
      "  np.histogram(uppers, upper_bins)[0]).round(5) # can result in nans if no value falls into bin\n",
      "/home/julianhatwell/Documents/github/explain_te/CHIRPS/structures.py:1450: RuntimeWarning: invalid value encountered in true_divide\n",
      "  np.histogram(lowers, lower_bins)[0]).round(5) # can result in nans\n"
     ]
    },
    {
     "name": "stdout",
     "output_type": "stream",
     "text": [
      "found 13 patterns from 598 for batch_idx 55\n",
      "start score sort for batch_idx 55 (13) patterns\n",
      "start merge rule for batch_idx 55 (13) patterns\n",
      "as_chirps for batch_idx 56\n",
      "start mining for batch_idx 56 with support = 0.3\n"
     ]
    },
    {
     "name": "stderr",
     "output_type": "stream",
     "text": [
      "/home/julianhatwell/Documents/github/explain_te/CHIRPS/structures.py:1450: RuntimeWarning: invalid value encountered in true_divide\n",
      "  np.histogram(lowers, lower_bins)[0]).round(5) # can result in nans\n"
     ]
    },
    {
     "name": "stdout",
     "output_type": "stream",
     "text": [
      "found 76 patterns from 401 for batch_idx 56\n",
      "start score sort for batch_idx 56 (76) patterns\n",
      "start merge rule for batch_idx 56 (76) patterns\n",
      "[('lcapitalgain', False, 8.53555), ('relationship_Husband', False, 0.5)]\n",
      "0.9872262773722628 0.03198120739094067 0.3745635244756738 0.3020951302378256\n",
      "merge complete for batch_idx 55 (13) patterns\n",
      "start get explainer for batch_idx 55\n",
      "as_chirps for batch_idx 57\n",
      "start mining for batch_idx 57 with support = 0.3\n",
      "[('relationship_Other-relative', False, 0.5), ('lcapitalgain', True, 8.52018)]\n",
      "0.9717514124293786 0.030890924098394505 0.40671191688564323 0.3120638085742772\n",
      "merge complete for batch_idx 54 (21) patterns\n",
      "start get explainer for batch_idx 54\n"
     ]
    },
    {
     "name": "stderr",
     "output_type": "stream",
     "text": [
      "/home/julianhatwell/Documents/github/explain_te/CHIRPS/structures.py:1445: RuntimeWarning: invalid value encountered in true_divide\n",
      "  np.histogram(uppers, upper_bins)[0]).round(5) # can result in nans if no value falls into bin\n",
      "/home/julianhatwell/Documents/github/explain_te/CHIRPS/structures.py:1450: RuntimeWarning: invalid value encountered in true_divide\n",
      "  np.histogram(lowers, lower_bins)[0]).round(5) # can result in nans\n"
     ]
    },
    {
     "name": "stdout",
     "output_type": "stream",
     "text": [
      "[('educationnum', True, 12.65517), ('maritalstatus_Married-civ-spouse', True, 0.5), ('lcapitalgain', True, 8.7679), ('lcapitalloss', True, 7.6328)]\n",
      "0.9785073381094804 0.4039927273361834 0.65747817700707 0.5597231972720892\n",
      "merge complete for batch_idx 48 (48) patterns\n",
      "start get explainer for batch_idx 48\n",
      "[('educationnum', True, 12.66608), ('maritalstatus_Married-civ-spouse', True, 0.5), ('lcapitalgain', True, 8.75052)]\n",
      "0.9768826135105205 0.4046437686538785 0.785784583821791 0.5101129498292619\n",
      "merge complete for batch_idx 53 (17) patterns\n",
      "start get explainer for batch_idx 53\n",
      "found 609 patterns from 444 for batch_idx 57\n",
      "start score sort for batch_idx 57 (609) patterns\n",
      "as_chirps for batch_idx 58\n",
      "start mining for batch_idx 58 with support = 0.3\n"
     ]
    },
    {
     "name": "stderr",
     "output_type": "stream",
     "text": [
      "/home/julianhatwell/Documents/github/explain_te/CHIRPS/structures.py:1450: RuntimeWarning: invalid value encountered in true_divide\n",
      "  np.histogram(lowers, lower_bins)[0]).round(5) # can result in nans\n",
      "/home/julianhatwell/Documents/github/explain_te/CHIRPS/structures.py:1445: RuntimeWarning: invalid value encountered in true_divide\n",
      "  np.histogram(uppers, upper_bins)[0]).round(5) # can result in nans if no value falls into bin\n"
     ]
    },
    {
     "name": "stdout",
     "output_type": "stream",
     "text": [
      "found 16 patterns from 535 for batch_idx 58\n",
      "start score sort for batch_idx 58 (16) patterns\n",
      "start merge rule for batch_idx 58 (16) patterns\n",
      "as_chirps for batch_idx 59\n",
      "start mining for batch_idx 59 with support = 0.3\n"
     ]
    },
    {
     "name": "stderr",
     "output_type": "stream",
     "text": [
      "/home/julianhatwell/Documents/github/explain_te/CHIRPS/structures.py:1445: RuntimeWarning: invalid value encountered in true_divide\n",
      "  np.histogram(uppers, upper_bins)[0]).round(5) # can result in nans if no value falls into bin\n",
      "/home/julianhatwell/Documents/github/explain_te/CHIRPS/structures.py:1450: RuntimeWarning: invalid value encountered in true_divide\n",
      "  np.histogram(lowers, lower_bins)[0]).round(5) # can result in nans\n"
     ]
    },
    {
     "name": "stdout",
     "output_type": "stream",
     "text": [
      "as_chirps for batch_idx 60\n",
      "start mining for batch_idx 60 with support = 0.3\n",
      "found 529 patterns from 441 for batch_idx 59\n",
      "start score sort for batch_idx 59 (529) patterns\n"
     ]
    },
    {
     "name": "stderr",
     "output_type": "stream",
     "text": [
      "/home/julianhatwell/Documents/github/explain_te/CHIRPS/structures.py:1445: RuntimeWarning: invalid value encountered in true_divide\n",
      "  np.histogram(uppers, upper_bins)[0]).round(5) # can result in nans if no value falls into bin\n",
      "/home/julianhatwell/Documents/github/explain_te/CHIRPS/structures.py:1450: RuntimeWarning: invalid value encountered in true_divide\n",
      "  np.histogram(lowers, lower_bins)[0]).round(5) # can result in nans\n"
     ]
    },
    {
     "name": "stdout",
     "output_type": "stream",
     "text": [
      "found 91 patterns from 524 for batch_idx 60\n",
      "start score sort for batch_idx 60 (91) patterns\n",
      "start merge rule for batch_idx 60 (91) patterns\n",
      "start merge rule for batch_idx 57 (609) patterns\n",
      "[('educationnum', True, 12.7112), ('maritalstatus_Married-civ-spouse', True, 0.5), ('lcapitalgain', True, 8.80821), ('lcapitalloss', True, 7.6266)]\n",
      "0.9784467774455955 0.4041078190829062 0.4887879644041976 0.38608138717488094\n",
      "merge complete for batch_idx 47 (57) patterns\n",
      "start get explainer for batch_idx 47\n",
      "as_chirps for batch_idx 61\n",
      "start mining for batch_idx 61 with support = 0.3\n",
      "start merge rule for batch_idx 59 (529) patterns\n"
     ]
    },
    {
     "name": "stderr",
     "output_type": "stream",
     "text": [
      "/home/julianhatwell/Documents/github/explain_te/CHIRPS/structures.py:1445: RuntimeWarning: invalid value encountered in true_divide\n",
      "  np.histogram(uppers, upper_bins)[0]).round(5) # can result in nans if no value falls into bin\n",
      "/home/julianhatwell/Documents/github/explain_te/CHIRPS/structures.py:1450: RuntimeWarning: invalid value encountered in true_divide\n",
      "  np.histogram(lowers, lower_bins)[0]).round(5) # can result in nans\n"
     ]
    },
    {
     "name": "stdout",
     "output_type": "stream",
     "text": [
      "found 492 patterns from 590 for batch_idx 61\n",
      "start score sort for batch_idx 61 (492) patterns\n",
      "start merge rule for batch_idx 61 (492) patterns\n",
      "[('relationship_Husband', True, 0.5), ('lcapitalgain', True, 8.53613), ('occupation_Exec-managerial', True, 0.5), ('occupation_Prof-specialty', True, 0.5), ('lcapitalloss', True, 7.51419)]\n",
      "0.9596103896103896 0.4148027528692124 0.3635693373372448 0.49478308621636474\n",
      "merge complete for batch_idx 58 (16) patterns\n",
      "start get explainer for batch_idx 58\n",
      "as_chirps for batch_idx 62\n",
      "start mining for batch_idx 62 with support = 0.3\n"
     ]
    },
    {
     "name": "stderr",
     "output_type": "stream",
     "text": [
      "/home/julianhatwell/Documents/github/explain_te/CHIRPS/structures.py:1445: RuntimeWarning: invalid value encountered in true_divide\n",
      "  np.histogram(uppers, upper_bins)[0]).round(5) # can result in nans if no value falls into bin\n",
      "/home/julianhatwell/Documents/github/explain_te/CHIRPS/structures.py:1450: RuntimeWarning: invalid value encountered in true_divide\n",
      "  np.histogram(lowers, lower_bins)[0]).round(5) # can result in nans\n"
     ]
    },
    {
     "name": "stdout",
     "output_type": "stream",
     "text": [
      "found 20 patterns from 498 for batch_idx 62\n",
      "start score sort for batch_idx 62 (20) patterns\n",
      "start merge rule for batch_idx 62 (20) patterns\n",
      "[('lcapitalgain', True, 8.71684), ('maritalstatus_Never-married', False, 0.5), ('occupation_Prof-specialty', True, 0.5), ('occupation_Exec-managerial', True, 0.5)]\n",
      "0.9848603790512505 0.25631991751957917 0.17809987339516672 0.17383259911894264\n",
      "merge complete for batch_idx 56 (76) patterns\n",
      "start get explainer for batch_idx 56\n",
      "as_chirps for batch_idx 63\n",
      "start mining for batch_idx 63 with support = 0.3\n"
     ]
    },
    {
     "name": "stderr",
     "output_type": "stream",
     "text": [
      "/home/julianhatwell/Documents/github/explain_te/CHIRPS/structures.py:1450: RuntimeWarning: invalid value encountered in true_divide\n",
      "  np.histogram(lowers, lower_bins)[0]).round(5) # can result in nans\n",
      "/home/julianhatwell/Documents/github/explain_te/CHIRPS/structures.py:1445: RuntimeWarning: invalid value encountered in true_divide\n",
      "  np.histogram(uppers, upper_bins)[0]).round(5) # can result in nans if no value falls into bin\n"
     ]
    },
    {
     "name": "stdout",
     "output_type": "stream",
     "text": [
      "found 19 patterns from 599 for batch_idx 63\n",
      "start score sort for batch_idx 63 (19) patterns\n",
      "start merge rule for batch_idx 63 (19) patterns\n",
      "[('relationship_Unmarried', False, 0.5), ('lcapitalgain', True, 8.86963)]\n",
      "0.9535805264647609 0.10114049708378159 0.31468864890905757 0.3822277847309137\n",
      "merge complete for batch_idx 62 (20) patterns\n",
      "start get explainer for batch_idx 62\n",
      "as_chirps for batch_idx 64\n",
      "start mining for batch_idx 64 with support = 0.3\n"
     ]
    },
    {
     "name": "stderr",
     "output_type": "stream",
     "text": [
      "/home/julianhatwell/Documents/github/explain_te/CHIRPS/structures.py:1445: RuntimeWarning: invalid value encountered in true_divide\n",
      "  np.histogram(uppers, upper_bins)[0]).round(5) # can result in nans if no value falls into bin\n",
      "/home/julianhatwell/Documents/github/explain_te/CHIRPS/structures.py:1450: RuntimeWarning: invalid value encountered in true_divide\n",
      "  np.histogram(lowers, lower_bins)[0]).round(5) # can result in nans\n"
     ]
    },
    {
     "name": "stdout",
     "output_type": "stream",
     "text": [
      "found 28 patterns from 599 for batch_idx 64\n",
      "start score sort for batch_idx 64 (28) patterns\n",
      "start merge rule for batch_idx 64 (28) patterns\n",
      "[('lcapitalgain', True, 8.7562), ('maritalstatus_Never-married', False, 0.5), ('lcapitalloss', True, 7.56573), ('educationnum', True, 13.5)]\n",
      "0.9783216109451778 0.29487823226938664 0.29041843784014293 0.21091290661070308\n",
      "merge complete for batch_idx 60 (91) patterns\n",
      "start get explainer for batch_idx 60\n",
      "as_chirps for batch_idx 65\n",
      "start mining for batch_idx 65 with support = 0.3\n"
     ]
    },
    {
     "name": "stderr",
     "output_type": "stream",
     "text": [
      "/home/julianhatwell/Documents/github/explain_te/CHIRPS/structures.py:1445: RuntimeWarning: invalid value encountered in true_divide\n",
      "  np.histogram(uppers, upper_bins)[0]).round(5) # can result in nans if no value falls into bin\n",
      "/home/julianhatwell/Documents/github/explain_te/CHIRPS/structures.py:1450: RuntimeWarning: invalid value encountered in true_divide\n",
      "  np.histogram(lowers, lower_bins)[0]).round(5) # can result in nans\n"
     ]
    },
    {
     "name": "stdout",
     "output_type": "stream",
     "text": [
      "found 248 patterns from 366 for batch_idx 65\n",
      "start score sort for batch_idx 65 (248) patterns\n",
      "start merge rule for batch_idx 65 (248) patterns\n",
      "[('hoursperweek', True, 43.39688), ('maritalstatus_Married-civ-spouse', True, 0.5), ('lcapitalloss', True, 7.62043), ('lcapitalgain', True, 8.52135)]\n",
      "0.9759203841603452 0.4017891665116675 0.7609753863405638 0.5439892545332436\n",
      "merge complete for batch_idx 63 (19) patterns\n",
      "start get explainer for batch_idx 63\n",
      "as_chirps for batch_idx 66\n",
      "start mining for batch_idx 66 with support = 0.3\n"
     ]
    },
    {
     "name": "stderr",
     "output_type": "stream",
     "text": [
      "/home/julianhatwell/Documents/github/explain_te/CHIRPS/structures.py:1445: RuntimeWarning: invalid value encountered in true_divide\n",
      "  np.histogram(uppers, upper_bins)[0]).round(5) # can result in nans if no value falls into bin\n",
      "/home/julianhatwell/Documents/github/explain_te/CHIRPS/structures.py:1450: RuntimeWarning: invalid value encountered in true_divide\n",
      "  np.histogram(lowers, lower_bins)[0]).round(5) # can result in nans\n"
     ]
    },
    {
     "name": "stdout",
     "output_type": "stream",
     "text": [
      "reduced 5 patterns out of 408 by numeric redundancy\n",
      "found 403 patterns from 314 for batch_idx 66\n",
      "start score sort for batch_idx 66 (403) patterns\n",
      "[('maritalstatus_Married-civ-spouse', True, 0.5), ('lcapitalgain', True, 8.70778), ('educationnum', True, 12.66279)]\n",
      "0.9769502318820517 0.40466952740698575 0.6620267957446649 0.5037243947858474\n",
      "merge complete for batch_idx 64 (28) patterns\n",
      "start get explainer for batch_idx 64\n",
      "as_chirps for batch_idx 67\n",
      "start mining for batch_idx 67 with support = 0.3\n"
     ]
    },
    {
     "name": "stderr",
     "output_type": "stream",
     "text": [
      "/home/julianhatwell/Documents/github/explain_te/CHIRPS/structures.py:1450: RuntimeWarning: invalid value encountered in true_divide\n",
      "  np.histogram(lowers, lower_bins)[0]).round(5) # can result in nans\n"
     ]
    },
    {
     "name": "stdout",
     "output_type": "stream",
     "text": [
      "found 80 patterns from 596 for batch_idx 67\n",
      "start score sort for batch_idx 67 (80) patterns\n",
      "[('educationnum', True, 9.5), ('hoursperweek', True, 43.36858), ('lcapitalgain', True, 8.38101), ('lcapitalloss', True, 7.432)]\n",
      "0.9477592382283567 0.3093363635454026 0.37244674620248486 0.37273825966850826\n",
      "merge complete for batch_idx 50 (915) patterns\n",
      "start get explainer for batch_idx 50\n",
      "start merge rule for batch_idx 66 (403) patterns\n",
      "start merge rule for batch_idx 67 (80) patterns\n",
      "as_chirps for batch_idx 68\n",
      "start mining for batch_idx 68 with support = 0.3\n"
     ]
    },
    {
     "name": "stderr",
     "output_type": "stream",
     "text": [
      "/home/julianhatwell/Documents/github/explain_te/CHIRPS/structures.py:1450: RuntimeWarning: invalid value encountered in true_divide\n",
      "  np.histogram(lowers, lower_bins)[0]).round(5) # can result in nans\n",
      "/home/julianhatwell/Documents/github/explain_te/CHIRPS/structures.py:1445: RuntimeWarning: invalid value encountered in true_divide\n",
      "  np.histogram(uppers, upper_bins)[0]).round(5) # can result in nans if no value falls into bin\n"
     ]
    },
    {
     "name": "stdout",
     "output_type": "stream",
     "text": [
      "found 56 patterns from 597 for batch_idx 68\n",
      "start score sort for batch_idx 68 (56) patterns\n",
      "start merge rule for batch_idx 68 (56) patterns\n",
      "[('hoursperweek', True, 43.10309), ('lcapitalgain', True, 8.37102), ('lcapitalloss', True, 7.4365), ('occupation_Exec-managerial', True, 0.5), ('occupation_Prof-specialty', True, 0.5), ('occupation_Tech-support', True, 0.5), ('occupation_Protective-serv', True, 0.5), ('occupation_Farming-fishing', True, 0.5), ('occupation_Transport-moving', True, 0.5), ('occupation_Adm-clerical', True, 0.5), ('occupation_Sales', True, 0.5), ('educationnum', True, 10.5034)]\n",
      "0.9637271937445699 0.2578672666639627 0.13263641405971704 0.12310067001922109\n",
      "merge complete for batch_idx 32 (1158) patterns\n",
      "start get explainer for batch_idx 32\n",
      "as_chirps for batch_idx 69\n",
      "start mining for batch_idx 69 with support = 0.3\n"
     ]
    },
    {
     "name": "stderr",
     "output_type": "stream",
     "text": [
      "/home/julianhatwell/Documents/github/explain_te/CHIRPS/structures.py:1450: RuntimeWarning: invalid value encountered in true_divide\n",
      "  np.histogram(lowers, lower_bins)[0]).round(5) # can result in nans\n",
      "/home/julianhatwell/Documents/github/explain_te/CHIRPS/structures.py:1445: RuntimeWarning: invalid value encountered in true_divide\n",
      "  np.histogram(uppers, upper_bins)[0]).round(5) # can result in nans if no value falls into bin\n"
     ]
    },
    {
     "name": "stdout",
     "output_type": "stream",
     "text": [
      "found 25 patterns from 583 for batch_idx 69\n",
      "start score sort for batch_idx 69 (25) patterns\n",
      "start merge rule for batch_idx 69 (25) patterns\n",
      "[('lcapitalgain', True, 8.76859), ('maritalstatus_Never-married', False, 0.5)]\n",
      "0.9665215024496462 0.3072431112309414 0.5133908726394436 0.356124458448208\n",
      "merge complete for batch_idx 68 (56) patterns\n",
      "start get explainer for batch_idx 68\n",
      "as_chirps for batch_idx 70\n",
      "start mining for batch_idx 70 with support = 0.3\n"
     ]
    },
    {
     "name": "stderr",
     "output_type": "stream",
     "text": [
      "/home/julianhatwell/Documents/github/explain_te/CHIRPS/structures.py:1450: RuntimeWarning: invalid value encountered in true_divide\n",
      "  np.histogram(lowers, lower_bins)[0]).round(5) # can result in nans\n",
      "/home/julianhatwell/Documents/github/explain_te/CHIRPS/structures.py:1445: RuntimeWarning: invalid value encountered in true_divide\n",
      "  np.histogram(uppers, upper_bins)[0]).round(5) # can result in nans if no value falls into bin\n"
     ]
    },
    {
     "name": "stdout",
     "output_type": "stream",
     "text": [
      "found 30 patterns from 583 for batch_idx 70\n",
      "start score sort for batch_idx 70 (30) patterns\n",
      "start merge rule for batch_idx 70 (30) patterns\n",
      "[('lcapitalgain', True, 8.46452), ('educationnum', True, 8.00235)]\n",
      "0.957752808988764 0.127009294413257 0.6049622435194885 0.36793867688718535\n",
      "merge complete for batch_idx 69 (25) patterns\n",
      "start get explainer for batch_idx 69\n",
      "as_chirps for batch_idx 71\n",
      "start mining for batch_idx 71 with support = 0.3\n"
     ]
    },
    {
     "name": "stderr",
     "output_type": "stream",
     "text": [
      "/home/julianhatwell/Documents/github/explain_te/CHIRPS/structures.py:1445: RuntimeWarning: invalid value encountered in true_divide\n",
      "  np.histogram(uppers, upper_bins)[0]).round(5) # can result in nans if no value falls into bin\n",
      "/home/julianhatwell/Documents/github/explain_te/CHIRPS/structures.py:1450: RuntimeWarning: invalid value encountered in true_divide\n",
      "  np.histogram(lowers, lower_bins)[0]).round(5) # can result in nans\n"
     ]
    },
    {
     "name": "stdout",
     "output_type": "stream",
     "text": [
      "found 188 patterns from 502 for batch_idx 71\n",
      "start score sort for batch_idx 71 (188) patterns\n",
      "start merge rule for batch_idx 71 (188) patterns\n",
      "[('lcapitalgain', True, 8.6906), ('maritalstatus_Married-civ-spouse', True, 0.5), ('educationnum', True, 12.81579)]\n",
      "0.9769502318820517 0.40466952740698575 0.7244391909338586 0.503475238922676\n",
      "merge complete for batch_idx 70 (30) patterns\n",
      "start get explainer for batch_idx 70\n",
      "[('educationnum', True, 9.73855), ('hoursperweek', True, 43.625), ('lcapitalgain', True, 8.50702), ('lcapitalloss', True, 7.45292), ('workclass_Self-emp-inc', True, 0.5), ('workclass_Federal-gov', True, 0.5), ('workclass_Local-gov', True, 0.5)]\n",
      "0.955893536121673 0.2895276776759875 0.22261441960251466 0.16027820526585768\n",
      "merge complete for batch_idx 59 (529) patterns\n",
      "start get explainer for batch_idx 59\n",
      "as_chirps for batch_idx 72\n",
      "start mining for batch_idx 72 with support = 0.3\n"
     ]
    },
    {
     "name": "stderr",
     "output_type": "stream",
     "text": [
      "/home/julianhatwell/Documents/github/explain_te/CHIRPS/structures.py:1445: RuntimeWarning: invalid value encountered in true_divide\n",
      "  np.histogram(uppers, upper_bins)[0]).round(5) # can result in nans if no value falls into bin\n",
      "/home/julianhatwell/Documents/github/explain_te/CHIRPS/structures.py:1450: RuntimeWarning: invalid value encountered in true_divide\n",
      "  np.histogram(lowers, lower_bins)[0]).round(5) # can result in nans\n"
     ]
    },
    {
     "name": "stdout",
     "output_type": "stream",
     "text": [
      "found 117 patterns from 394 for batch_idx 72\n",
      "start score sort for batch_idx 72 (117) patterns\n",
      "as_chirps for batch_idx 73\n",
      "start mining for batch_idx 73 with support = 0.3\n"
     ]
    },
    {
     "name": "stderr",
     "output_type": "stream",
     "text": [
      "/home/julianhatwell/Documents/github/explain_te/CHIRPS/structures.py:1445: RuntimeWarning: invalid value encountered in true_divide\n",
      "  np.histogram(uppers, upper_bins)[0]).round(5) # can result in nans if no value falls into bin\n",
      "/home/julianhatwell/Documents/github/explain_te/CHIRPS/structures.py:1450: RuntimeWarning: invalid value encountered in true_divide\n",
      "  np.histogram(lowers, lower_bins)[0]).round(5) # can result in nans\n"
     ]
    },
    {
     "name": "stdout",
     "output_type": "stream",
     "text": [
      "start merge rule for batch_idx 72 (117) patterns\n",
      "reduced 1 patterns out of 209 by numeric redundancy\n",
      "found 208 patterns from 471 for batch_idx 73\n",
      "start score sort for batch_idx 73 (208) patterns\n",
      "start merge rule for batch_idx 73 (208) patterns\n",
      "[('age', True, 29.16036), ('lcapitalgain', True, 8.53583), ('lcapitalloss', True, 7.45197)]\n",
      "0.9621479761784597 0.2759351335634528 0.32236253115926145 0.19466357752843416\n",
      "merge complete for batch_idx 61 (492) patterns\n",
      "start get explainer for batch_idx 61\n",
      "as_chirps for batch_idx 74\n",
      "start mining for batch_idx 74 with support = 0.3\n"
     ]
    },
    {
     "name": "stderr",
     "output_type": "stream",
     "text": [
      "/home/julianhatwell/Documents/github/explain_te/CHIRPS/structures.py:1450: RuntimeWarning: invalid value encountered in true_divide\n",
      "  np.histogram(lowers, lower_bins)[0]).round(5) # can result in nans\n",
      "/home/julianhatwell/Documents/github/explain_te/CHIRPS/structures.py:1445: RuntimeWarning: invalid value encountered in true_divide\n",
      "  np.histogram(uppers, upper_bins)[0]).round(5) # can result in nans if no value falls into bin\n"
     ]
    },
    {
     "name": "stdout",
     "output_type": "stream",
     "text": [
      "found 23 patterns from 596 for batch_idx 74\n",
      "start score sort for batch_idx 74 (23) patterns\n",
      "[('lcapitalgain', True, 8.71835), ('maritalstatus_Never-married', False, 0.5), ('lcapitalloss', True, 7.63577)]\n",
      "0.96917183509668 0.30689098312018487 0.6621186994019613 0.5538992101457336\n",
      "merge complete for batch_idx 67 (80) patterns\n",
      "start get explainer for batch_idx 67\n",
      "start merge rule for batch_idx 74 (23) patterns\n",
      "as_chirps for batch_idx 75\n",
      "start mining for batch_idx 75 with support = 0.3\n"
     ]
    },
    {
     "name": "stderr",
     "output_type": "stream",
     "text": [
      "/home/julianhatwell/Documents/github/explain_te/CHIRPS/structures.py:1445: RuntimeWarning: invalid value encountered in true_divide\n",
      "  np.histogram(uppers, upper_bins)[0]).round(5) # can result in nans if no value falls into bin\n",
      "/home/julianhatwell/Documents/github/explain_te/CHIRPS/structures.py:1450: RuntimeWarning: invalid value encountered in true_divide\n",
      "  np.histogram(lowers, lower_bins)[0]).round(5) # can result in nans\n"
     ]
    },
    {
     "name": "stdout",
     "output_type": "stream",
     "text": [
      "reduced 6 patterns out of 587 by numeric redundancy\n",
      "found 581 patterns from 524 for batch_idx 75\n",
      "start score sort for batch_idx 75 (581) patterns\n",
      "[('hoursperweek', False, 46.01901), ('occupation_Exec-managerial', False, 0.5), ('relationship_Husband', False, 0.5), ('workclass_Private', False, 0.5), ('lfnlwgt', False, 11.82612), ('age', False, 30.57614), ('nativecountry_United-States', False, 0.5)]\n",
      "0.892271662763466 0.012409038297266159 0.25657366516303487 0.1590913849052653\n",
      "merge complete for batch_idx 66 (403) patterns\n",
      "start get explainer for batch_idx 66\n",
      "start merge rule for batch_idx 75 (581) patterns\n",
      "start mining for batch_idx 76 with support = 0.3\n",
      "as_chirps for batch_idx 76\n"
     ]
    },
    {
     "name": "stderr",
     "output_type": "stream",
     "text": [
      "/home/julianhatwell/Documents/github/explain_te/CHIRPS/structures.py:1445: RuntimeWarning: invalid value encountered in true_divide\n",
      "  np.histogram(uppers, upper_bins)[0]).round(5) # can result in nans if no value falls into bin\n",
      "/home/julianhatwell/Documents/github/explain_te/CHIRPS/structures.py:1450: RuntimeWarning: invalid value encountered in true_divide\n",
      "  np.histogram(lowers, lower_bins)[0]).round(5) # can result in nans\n"
     ]
    },
    {
     "name": "stdout",
     "output_type": "stream",
     "text": [
      "reduced 11 patterns out of 679 by numeric redundancy\n",
      "found 668 patterns from 536 for batch_idx 76\n",
      "start score sort for batch_idx 76 (668) patterns\n",
      "[('educationnum', False, 12.20914), ('hoursperweek', False, 35.2992), ('relationship_Husband', False, 0.5), ('occupation_Other-service', True, 0.5), ('occupation_Craft-repair', True, 0.5), ('occupation_Farming-fishing', True, 0.5), ('occupation_Machine-op-inspct', True, 0.5), ('occupation_Transport-moving', True, 0.5), ('occupation_Handlers-cleaners', True, 0.5), ('age', False, 35.11598), ('workclass_Private', False, 0.5), ('race_Black', True, 0.5)]\n",
      "0.8892782060266293 0.041429509838411226 0.26247777544625805 0.1331528207569625\n",
      "merge complete for batch_idx 65 (248) patterns\n",
      "start get explainer for batch_idx 65\n",
      "as_chirps for batch_idx 77\n",
      "start mining for batch_idx 77 with support = 0.3\n"
     ]
    },
    {
     "name": "stderr",
     "output_type": "stream",
     "text": [
      "/home/julianhatwell/Documents/github/explain_te/CHIRPS/structures.py:1445: RuntimeWarning: invalid value encountered in true_divide\n",
      "  np.histogram(uppers, upper_bins)[0]).round(5) # can result in nans if no value falls into bin\n",
      "/home/julianhatwell/Documents/github/explain_te/CHIRPS/structures.py:1450: RuntimeWarning: invalid value encountered in true_divide\n",
      "  np.histogram(lowers, lower_bins)[0]).round(5) # can result in nans\n"
     ]
    },
    {
     "name": "stdout",
     "output_type": "stream",
     "text": [
      "start merge rule for batch_idx 76 (668) patterns\n",
      "[('lcapitalgain', True, 8.46793), ('educationnum', True, 9.82641), ('lcapitalloss', True, 7.47578), ('relationship_Husband', True, 0.5)]\n",
      "0.9698887191795766 0.2586692944763883 0.3783322895576151 0.3718144383332855\n",
      "merge complete for batch_idx 71 (188) patterns\n",
      "start get explainer for batch_idx 71\n",
      "reduced 1 patterns out of 809 by numeric redundancy\n",
      "found 808 patterns from 287 for batch_idx 77\n",
      "start score sort for batch_idx 77 (808) patterns\n",
      "as_chirps for batch_idx 78\n",
      "start mining for batch_idx 78 with support = 0.3\n"
     ]
    },
    {
     "name": "stderr",
     "output_type": "stream",
     "text": [
      "/home/julianhatwell/Documents/github/explain_te/CHIRPS/structures.py:1445: RuntimeWarning: invalid value encountered in true_divide\n",
      "  np.histogram(uppers, upper_bins)[0]).round(5) # can result in nans if no value falls into bin\n",
      "/home/julianhatwell/Documents/github/explain_te/CHIRPS/structures.py:1450: RuntimeWarning: invalid value encountered in true_divide\n",
      "  np.histogram(lowers, lower_bins)[0]).round(5) # can result in nans\n"
     ]
    },
    {
     "name": "stdout",
     "output_type": "stream",
     "text": [
      "found 50 patterns from 575 for batch_idx 78\n",
      "start score sort for batch_idx 78 (50) patterns\n",
      "start merge rule for batch_idx 78 (50) patterns\n",
      "[('maritalstatus_Never-married', False, 0.5), ('lcapitalloss', True, 7.63477), ('lcapitalgain', True, 8.51098)]\n",
      "0.9691662105455209 0.30683499133344516 0.5136301295617842 0.48095857328627156\n",
      "merge complete for batch_idx 74 (23) patterns\n",
      "start get explainer for batch_idx 74\n",
      "as_chirps for batch_idx 79\n",
      "start mining for batch_idx 79 with support = 0.3\n"
     ]
    },
    {
     "name": "stderr",
     "output_type": "stream",
     "text": [
      "/home/julianhatwell/Documents/github/explain_te/CHIRPS/structures.py:1445: RuntimeWarning: invalid value encountered in true_divide\n",
      "  np.histogram(uppers, upper_bins)[0]).round(5) # can result in nans if no value falls into bin\n",
      "/home/julianhatwell/Documents/github/explain_te/CHIRPS/structures.py:1450: RuntimeWarning: invalid value encountered in true_divide\n",
      "  np.histogram(lowers, lower_bins)[0]).round(5) # can result in nans\n"
     ]
    },
    {
     "name": "stdout",
     "output_type": "stream",
     "text": [
      "start merge rule for batch_idx 77 (808) patterns\n",
      "found 812 patterns from 565 for batch_idx 79\n",
      "start score sort for batch_idx 79 (812) patterns\n",
      "start merge rule for batch_idx 79 (812) patterns\n",
      "[('hoursperweek', True, 43.20732), ('lcapitalgain', True, 8.4314), ('lcapitalloss', True, 7.46167), ('occupation_Exec-managerial', True, 0.5), ('occupation_Prof-specialty', True, 0.5), ('occupation_Tech-support', True, 0.5), ('occupation_Craft-repair', True, 0.5), ('educationnum', True, 11.49675)]\n",
      "0.9481980258627286 0.349333338157516 0.424661973704995 0.35648778178805973\n",
      "merge complete for batch_idx 72 (117) patterns\n",
      "start get explainer for batch_idx 72\n",
      "as_chirps for batch_idx 80\n",
      "start mining for batch_idx 80 with support = 0.3\n"
     ]
    },
    {
     "name": "stderr",
     "output_type": "stream",
     "text": [
      "/home/julianhatwell/Documents/github/explain_te/CHIRPS/structures.py:1450: RuntimeWarning: invalid value encountered in true_divide\n",
      "  np.histogram(lowers, lower_bins)[0]).round(5) # can result in nans\n"
     ]
    },
    {
     "name": "stdout",
     "output_type": "stream",
     "text": [
      "found 40 patterns from 504 for batch_idx 80\n",
      "start score sort for batch_idx 80 (40) patterns\n",
      "start merge rule for batch_idx 80 (40) patterns\n",
      "[('maritalstatus_Never-married', False, 0.5), ('lcapitalgain', True, 8.73451)]\n",
      "0.9665215024496462 0.3072431112309414 0.4530016310756275 0.3479649571089615\n",
      "merge complete for batch_idx 78 (50) patterns\n",
      "start get explainer for batch_idx 78\n",
      "as_chirps for batch_idx 81\n",
      "start mining for batch_idx 81 with support = 0.3\n"
     ]
    },
    {
     "name": "stderr",
     "output_type": "stream",
     "text": [
      "/home/julianhatwell/Documents/github/explain_te/CHIRPS/structures.py:1450: RuntimeWarning: invalid value encountered in true_divide\n",
      "  np.histogram(lowers, lower_bins)[0]).round(5) # can result in nans\n",
      "/home/julianhatwell/Documents/github/explain_te/CHIRPS/structures.py:1445: RuntimeWarning: invalid value encountered in true_divide\n",
      "  np.histogram(uppers, upper_bins)[0]).round(5) # can result in nans if no value falls into bin\n"
     ]
    },
    {
     "name": "stdout",
     "output_type": "stream",
     "text": [
      "found 37 patterns from 549 for batch_idx 81\n",
      "start score sort for batch_idx 81 (37) patterns\n",
      "start merge rule for batch_idx 81 (37) patterns\n",
      "[('age', False, 29.75128), ('educationnum', False, 13.06346), ('hoursperweek', False, 45.49342), ('occupation_Exec-managerial', False, 0.5), ('relationship_Husband', False, 0.5), ('nativecountry_United-States', False, 0.5)]\n",
      "0.957345971563981 0.006110916010318832 0.19285636617506596 0.12746011877812993\n",
      "merge complete for batch_idx 73 (208) patterns\n",
      "start get explainer for batch_idx 73\n",
      "as_chirps for batch_idx 82\n",
      "start mining for batch_idx 82 with support = 0.3\n"
     ]
    },
    {
     "name": "stderr",
     "output_type": "stream",
     "text": [
      "/home/julianhatwell/Documents/github/explain_te/CHIRPS/structures.py:1450: RuntimeWarning: invalid value encountered in true_divide\n",
      "  np.histogram(lowers, lower_bins)[0]).round(5) # can result in nans\n",
      "/home/julianhatwell/Documents/github/explain_te/CHIRPS/structures.py:1445: RuntimeWarning: invalid value encountered in true_divide\n",
      "  np.histogram(uppers, upper_bins)[0]).round(5) # can result in nans if no value falls into bin\n"
     ]
    },
    {
     "name": "stdout",
     "output_type": "stream",
     "text": [
      "found 10 patterns from 600 for batch_idx 82\n",
      "start score sort for batch_idx 82 (10) patterns\n",
      "start merge rule for batch_idx 82 (10) patterns\n",
      "[('occupation_Other-service', False, 0.5), ('lcapitalgain', True, 8.73736)]\n",
      "0.9665983006152945 0.09833811597442325 0.25905582091497054 0.3138772298006296\n",
      "merge complete for batch_idx 80 (40) patterns\n",
      "start get explainer for batch_idx 80\n",
      "as_chirps for batch_idx 83\n",
      "start mining for batch_idx 83 with support = 0.3\n"
     ]
    },
    {
     "name": "stderr",
     "output_type": "stream",
     "text": [
      "/home/julianhatwell/Documents/github/explain_te/CHIRPS/structures.py:1450: RuntimeWarning: invalid value encountered in true_divide\n",
      "  np.histogram(lowers, lower_bins)[0]).round(5) # can result in nans\n",
      "/home/julianhatwell/Documents/github/explain_te/CHIRPS/structures.py:1445: RuntimeWarning: invalid value encountered in true_divide\n",
      "  np.histogram(uppers, upper_bins)[0]).round(5) # can result in nans if no value falls into bin\n"
     ]
    },
    {
     "name": "stdout",
     "output_type": "stream",
     "text": [
      "found 119 patterns from 462 for batch_idx 83\n",
      "start score sort for batch_idx 83 (119) patterns\n",
      "[('relationship_Own-child', False, 0.5)]\n",
      "0.9851823708206687 0.15240703040646597 0.5923924454765905 0.3168067226890756\n",
      "merge complete for batch_idx 82 (10) patterns\n",
      "start get explainer for batch_idx 82\n",
      "start merge rule for batch_idx 83 (119) patterns\n",
      "as_chirps for batch_idx 84\n",
      "start mining for batch_idx 84 with support = 0.3\n"
     ]
    },
    {
     "name": "stderr",
     "output_type": "stream",
     "text": [
      "/home/julianhatwell/Documents/github/explain_te/CHIRPS/structures.py:1445: RuntimeWarning: invalid value encountered in true_divide\n",
      "  np.histogram(uppers, upper_bins)[0]).round(5) # can result in nans if no value falls into bin\n",
      "/home/julianhatwell/Documents/github/explain_te/CHIRPS/structures.py:1450: RuntimeWarning: invalid value encountered in true_divide\n",
      "  np.histogram(lowers, lower_bins)[0]).round(5) # can result in nans\n"
     ]
    },
    {
     "name": "stdout",
     "output_type": "stream",
     "text": [
      "reduced 4 patterns out of 695 by numeric redundancy\n",
      "found 691 patterns from 453 for batch_idx 84\n",
      "start score sort for batch_idx 84 (691) patterns\n",
      "[('educationnum', True, 8.90578), ('lcapitalgain', True, 8.03238), ('lcapitalloss', True, 7.44773)]\n",
      "0.9629715343670446 0.12377594926365403 0.1472993609779822 0.123280183172095\n",
      "merge complete for batch_idx 57 (609) patterns\n",
      "start get explainer for batch_idx 57\n",
      "as_chirps for batch_idx 85\n",
      "start mining for batch_idx 85 with support = 0.3\n"
     ]
    },
    {
     "name": "stderr",
     "output_type": "stream",
     "text": [
      "/home/julianhatwell/Documents/github/explain_te/CHIRPS/structures.py:1450: RuntimeWarning: invalid value encountered in true_divide\n",
      "  np.histogram(lowers, lower_bins)[0]).round(5) # can result in nans\n"
     ]
    },
    {
     "name": "stdout",
     "output_type": "stream",
     "text": [
      "found 59 patterns from 595 for batch_idx 85\n",
      "start score sort for batch_idx 85 (59) patterns\n",
      "start merge rule for batch_idx 85 (59) patterns\n",
      "start merge rule for batch_idx 84 (691) patterns\n",
      "[('educationnum', True, 12.83083), ('maritalstatus_Married-civ-spouse', True, 0.5), ('maritalstatus_Divorced', True, 0.5), ('lcapitalgain', True, 8.6832), ('lcapitalloss', True, 7.63389)]\n",
      "0.9849554234769688 0.30845698130402893 0.6412632148234707 0.5441425042257184\n",
      "merge complete for batch_idx 81 (37) patterns\n",
      "start get explainer for batch_idx 81\n",
      "as_chirps for batch_idx 86\n",
      "start mining for batch_idx 86 with support = 0.3\n"
     ]
    },
    {
     "name": "stderr",
     "output_type": "stream",
     "text": [
      "/home/julianhatwell/Documents/github/explain_te/CHIRPS/structures.py:1445: RuntimeWarning: invalid value encountered in true_divide\n",
      "  np.histogram(uppers, upper_bins)[0]).round(5) # can result in nans if no value falls into bin\n",
      "/home/julianhatwell/Documents/github/explain_te/CHIRPS/structures.py:1450: RuntimeWarning: invalid value encountered in true_divide\n",
      "  np.histogram(lowers, lower_bins)[0]).round(5) # can result in nans\n"
     ]
    },
    {
     "name": "stdout",
     "output_type": "stream",
     "text": [
      "found 32 patterns from 544 for batch_idx 86\n",
      "start score sort for batch_idx 86 (32) patterns\n",
      "start merge rule for batch_idx 86 (32) patterns\n",
      "[('educationnum', False, 9.15714), ('hoursperweek', False, 43.8855), ('occupation_Exec-managerial', False, 0.5), ('relationship_Husband', False, 0.5), ('workclass_Private', False, 0.5), ('age', False, 35.37829), ('race_White', False, 0.5), ('nativecountry_United-States', False, 0.5)]\n",
      "0.9177215189873418 0.013785001653768364 0.24616501734894716 0.12257401959931051\n",
      "merge complete for batch_idx 75 (581) patterns\n",
      "start get explainer for batch_idx 75\n",
      "as_chirps for batch_idx 87\n",
      "start mining for batch_idx 87 with support = 0.3\n"
     ]
    },
    {
     "name": "stderr",
     "output_type": "stream",
     "text": [
      "/home/julianhatwell/Documents/github/explain_te/CHIRPS/structures.py:1450: RuntimeWarning: invalid value encountered in true_divide\n",
      "  np.histogram(lowers, lower_bins)[0]).round(5) # can result in nans\n",
      "/home/julianhatwell/Documents/github/explain_te/CHIRPS/structures.py:1445: RuntimeWarning: invalid value encountered in true_divide\n",
      "  np.histogram(uppers, upper_bins)[0]).round(5) # can result in nans if no value falls into bin\n"
     ]
    },
    {
     "name": "stdout",
     "output_type": "stream",
     "text": [
      "found 15 patterns from 600 for batch_idx 87\n",
      "start score sort for batch_idx 87 (15) patterns\n",
      "start merge rule for batch_idx 87 (15) patterns\n",
      "[('occupation_Other-service', False, 0.5), ('lcapitalgain', True, 8.55281), ('lcapitalloss', True, 7.47228)]\n",
      "0.9697777777777777 0.09739325364260037 0.8037947963876517 0.5747415066469719\n",
      "merge complete for batch_idx 86 (32) patterns\n",
      "start get explainer for batch_idx 86\n",
      "as_chirps for batch_idx 88\n",
      "start mining for batch_idx 88 with support = 0.3\n"
     ]
    },
    {
     "name": "stderr",
     "output_type": "stream",
     "text": [
      "/home/julianhatwell/Documents/github/explain_te/CHIRPS/structures.py:1445: RuntimeWarning: invalid value encountered in true_divide\n",
      "  np.histogram(uppers, upper_bins)[0]).round(5) # can result in nans if no value falls into bin\n",
      "/home/julianhatwell/Documents/github/explain_te/CHIRPS/structures.py:1450: RuntimeWarning: invalid value encountered in true_divide\n",
      "  np.histogram(lowers, lower_bins)[0]).round(5) # can result in nans\n"
     ]
    },
    {
     "name": "stdout",
     "output_type": "stream",
     "text": [
      "found 969 patterns from 591 for batch_idx 88\n",
      "start score sort for batch_idx 88 (969) patterns\n",
      "start merge rule for batch_idx 88 (969) patterns\n",
      "[('educationnum', True, 9.72378), ('lcapitalgain', True, 8.43814), ('occupation_Exec-managerial', True, 0.5), ('occupation_Prof-specialty', True, 0.5), ('occupation_Tech-support', True, 0.5), ('occupation_Transport-moving', True, 0.5), ('lcapitalloss', True, 7.46493), ('workclass_Self-emp-inc', True, 0.5), ('workclass_Federal-gov', True, 0.5)]\n",
      "0.9461310782241015 0.317836606898617 0.3847907579541456 0.3263137080429087\n",
      "merge complete for batch_idx 83 (119) patterns\n",
      "start get explainer for batch_idx 83\n",
      "as_chirps for batch_idx 89\n",
      "start mining for batch_idx 89 with support = 0.3\n"
     ]
    },
    {
     "name": "stderr",
     "output_type": "stream",
     "text": [
      "/home/julianhatwell/Documents/github/explain_te/CHIRPS/structures.py:1445: RuntimeWarning: invalid value encountered in true_divide\n",
      "  np.histogram(uppers, upper_bins)[0]).round(5) # can result in nans if no value falls into bin\n",
      "/home/julianhatwell/Documents/github/explain_te/CHIRPS/structures.py:1450: RuntimeWarning: invalid value encountered in true_divide\n",
      "  np.histogram(lowers, lower_bins)[0]).round(5) # can result in nans\n"
     ]
    },
    {
     "name": "stdout",
     "output_type": "stream",
     "text": [
      "found 82 patterns from 411 for batch_idx 89\n",
      "start score sort for batch_idx 89 (82) patterns\n",
      "start merge rule for batch_idx 89 (82) patterns\n",
      "[('relationship_Own-child', False, 0.5), ('lcapitalloss', True, 7.61986), ('lcapitalgain', True, 9.06699)]\n",
      "0.988914373088685 0.1518695509442325 0.6619428820287673 0.6322463768115941\n",
      "merge complete for batch_idx 87 (15) patterns\n",
      "start get explainer for batch_idx 87\n",
      "as_chirps for batch_idx 90\n",
      "start mining for batch_idx 90 with support = 0.3\n"
     ]
    },
    {
     "name": "stderr",
     "output_type": "stream",
     "text": [
      "/home/julianhatwell/Documents/github/explain_te/CHIRPS/structures.py:1450: RuntimeWarning: invalid value encountered in true_divide\n",
      "  np.histogram(lowers, lower_bins)[0]).round(5) # can result in nans\n",
      "/home/julianhatwell/Documents/github/explain_te/CHIRPS/structures.py:1445: RuntimeWarning: invalid value encountered in true_divide\n",
      "  np.histogram(uppers, upper_bins)[0]).round(5) # can result in nans if no value falls into bin\n"
     ]
    },
    {
     "name": "stdout",
     "output_type": "stream",
     "text": [
      "found 19 patterns from 600 for batch_idx 90\n",
      "start score sort for batch_idx 90 (19) patterns\n",
      "start merge rule for batch_idx 90 (19) patterns\n",
      "[('educationnum', True, 12.68835), ('maritalstatus_Married-civ-spouse', True, 0.5), ('maritalstatus_Divorced', True, 0.5), ('lcapitalgain', True, 8.76557), ('lcapitalloss', True, 7.60969)]\n",
      "0.9848639613706008 0.30844555364911 0.7802846870319979 0.6766150069050179\n",
      "merge complete for batch_idx 85 (59) patterns\n",
      "start get explainer for batch_idx 85\n",
      "as_chirps for batch_idx 91\n",
      "start mining for batch_idx 91 with support = 0.3\n"
     ]
    },
    {
     "name": "stderr",
     "output_type": "stream",
     "text": [
      "/home/julianhatwell/Documents/github/explain_te/CHIRPS/structures.py:1445: RuntimeWarning: invalid value encountered in true_divide\n",
      "  np.histogram(uppers, upper_bins)[0]).round(5) # can result in nans if no value falls into bin\n",
      "/home/julianhatwell/Documents/github/explain_te/CHIRPS/structures.py:1450: RuntimeWarning: invalid value encountered in true_divide\n",
      "  np.histogram(lowers, lower_bins)[0]).round(5) # can result in nans\n"
     ]
    },
    {
     "name": "stdout",
     "output_type": "stream",
     "text": [
      "found 124 patterns from 500 for batch_idx 91\n",
      "start score sort for batch_idx 91 (124) patterns\n",
      "start merge rule for batch_idx 91 (124) patterns\n",
      "[('educationnum', False, 12.13262), ('occupation_Exec-managerial', False, 0.5), ('relationship_Husband', False, 0.5), ('workclass_Private', False, 0.5), ('age', False, 29.0657), ('hoursperweek', True, 66.31818), ('nativecountry_United-States', False, 0.5)]\n",
      "0.9325337331334332 0.019417233824862337 0.15472860695532678 0.08927181686025162\n",
      "merge complete for batch_idx 76 (668) patterns\n",
      "start get explainer for batch_idx 76\n",
      "as_chirps for batch_idx 92\n",
      "start mining for batch_idx 92 with support = 0.3\n"
     ]
    },
    {
     "name": "stderr",
     "output_type": "stream",
     "text": [
      "/home/julianhatwell/Documents/github/explain_te/CHIRPS/structures.py:1450: RuntimeWarning: invalid value encountered in true_divide\n",
      "  np.histogram(lowers, lower_bins)[0]).round(5) # can result in nans\n",
      "/home/julianhatwell/Documents/github/explain_te/CHIRPS/structures.py:1445: RuntimeWarning: invalid value encountered in true_divide\n",
      "  np.histogram(uppers, upper_bins)[0]).round(5) # can result in nans if no value falls into bin\n"
     ]
    },
    {
     "name": "stdout",
     "output_type": "stream",
     "text": [
      "found 20 patterns from 466 for batch_idx 92\n",
      "start score sort for batch_idx 92 (20) patterns\n",
      "start merge rule for batch_idx 92 (20) patterns\n",
      "[('lcapitalgain', True, 9.06609), ('lcapitalloss', True, 7.6198), ('maritalstatus_Never-married', False, 0.5)]\n",
      "0.9664880573971483 0.3069364257297127 0.4881421811200284 0.4403606102635229\n",
      "merge complete for batch_idx 90 (19) patterns\n",
      "start get explainer for batch_idx 90\n",
      "as_chirps for batch_idx 93\n",
      "start mining for batch_idx 93 with support = 0.3\n"
     ]
    },
    {
     "name": "stderr",
     "output_type": "stream",
     "text": [
      "/home/julianhatwell/Documents/github/explain_te/CHIRPS/structures.py:1450: RuntimeWarning: invalid value encountered in true_divide\n",
      "  np.histogram(lowers, lower_bins)[0]).round(5) # can result in nans\n",
      "/home/julianhatwell/Documents/github/explain_te/CHIRPS/structures.py:1445: RuntimeWarning: invalid value encountered in true_divide\n",
      "  np.histogram(uppers, upper_bins)[0]).round(5) # can result in nans if no value falls into bin\n"
     ]
    },
    {
     "name": "stdout",
     "output_type": "stream",
     "text": [
      "found 50 patterns from 538 for batch_idx 93\n",
      "start score sort for batch_idx 93 (50) patterns\n",
      "start merge rule for batch_idx 93 (50) patterns\n",
      "[('relationship_Unmarried', False, 0.5), ('lcapitalgain', True, 8.88257)]\n",
      "0.9535805264647609 0.10114049708378159 0.24984263805281293 0.2848170398689241\n",
      "merge complete for batch_idx 92 (20) patterns\n",
      "start get explainer for batch_idx 92\n",
      "as_chirps for batch_idx 94\n",
      "start mining for batch_idx 94 with support = 0.3\n"
     ]
    },
    {
     "name": "stderr",
     "output_type": "stream",
     "text": [
      "/home/julianhatwell/Documents/github/explain_te/CHIRPS/structures.py:1445: RuntimeWarning: invalid value encountered in true_divide\n",
      "  np.histogram(uppers, upper_bins)[0]).round(5) # can result in nans if no value falls into bin\n",
      "/home/julianhatwell/Documents/github/explain_te/CHIRPS/structures.py:1450: RuntimeWarning: invalid value encountered in true_divide\n",
      "  np.histogram(lowers, lower_bins)[0]).round(5) # can result in nans\n"
     ]
    },
    {
     "name": "stdout",
     "output_type": "stream",
     "text": [
      "reduced 2 patterns out of 291 by numeric redundancy\n",
      "found 289 patterns from 549 for batch_idx 94\n",
      "start score sort for batch_idx 94 (289) patterns\n",
      "start merge rule for batch_idx 94 (289) patterns\n",
      "[('lcapitalgain', True, 8.42477), ('lcapitalloss', True, 7.46761), ('occupation_Exec-managerial', True, 0.5), ('occupation_Prof-specialty', True, 0.5), ('occupation_Craft-repair', True, 0.5), ('hoursperweek', True, 43.56584), ('workclass_Federal-gov', True, 0.5)]\n",
      "0.9267926988265971 0.3845825316107547 0.16144497956643772 0.20505640451236096\n",
      "merge complete for batch_idx 89 (82) patterns\n",
      "start get explainer for batch_idx 89\n",
      "as_chirps for batch_idx 95\n",
      "start mining for batch_idx 95 with support = 0.3\n"
     ]
    },
    {
     "name": "stderr",
     "output_type": "stream",
     "text": [
      "/home/julianhatwell/Documents/github/explain_te/CHIRPS/structures.py:1450: RuntimeWarning: invalid value encountered in true_divide\n",
      "  np.histogram(lowers, lower_bins)[0]).round(5) # can result in nans\n",
      "/home/julianhatwell/Documents/github/explain_te/CHIRPS/structures.py:1445: RuntimeWarning: invalid value encountered in true_divide\n",
      "  np.histogram(uppers, upper_bins)[0]).round(5) # can result in nans if no value falls into bin\n"
     ]
    },
    {
     "name": "stdout",
     "output_type": "stream",
     "text": [
      "found 65 patterns from 587 for batch_idx 95\n",
      "start score sort for batch_idx 95 (65) patterns\n",
      "start merge rule for batch_idx 95 (65) patterns\n",
      "[('educationnum', True, 10.91638), ('hoursperweek', True, 43.66912), ('lcapitalgain', True, 8.43604), ('lcapitalloss', True, 7.45369), ('occupation_Exec-managerial', True, 0.5)]\n",
      "0.9404068857589984 0.41067161839238103 0.014913778538139199 0.034586754110917\n",
      "merge complete for batch_idx 77 (808) patterns\n",
      "start get explainer for batch_idx 77\n",
      "[('age', True, 32.30102), ('lcapitalgain', True, 8.62361), ('lcapitalloss', True, 7.49121), ('relationship_Husband', True, 0.5)]\n",
      "0.972741742936729 0.28375295235512127 0.6357675758556202 0.45534150612959723\n",
      "merge complete for batch_idx 93 (50) patterns\n",
      "start get explainer for batch_idx 93\n",
      "as_chirps for batch_idx 96\n",
      "start mining for batch_idx 96 with support = 0.3\n"
     ]
    },
    {
     "name": "stderr",
     "output_type": "stream",
     "text": [
      "/home/julianhatwell/Documents/github/explain_te/CHIRPS/structures.py:1450: RuntimeWarning: invalid value encountered in true_divide\n",
      "  np.histogram(lowers, lower_bins)[0]).round(5) # can result in nans\n"
     ]
    },
    {
     "name": "stdout",
     "output_type": "stream",
     "text": [
      "found 115 patterns from 579 for batch_idx 96\n",
      "start score sort for batch_idx 96 (115) patterns\n",
      "as_chirps for batch_idx 97\n",
      "start mining for batch_idx 97 with support = 0.3\n"
     ]
    },
    {
     "name": "stderr",
     "output_type": "stream",
     "text": [
      "/home/julianhatwell/Documents/github/explain_te/CHIRPS/structures.py:1445: RuntimeWarning: invalid value encountered in true_divide\n",
      "  np.histogram(uppers, upper_bins)[0]).round(5) # can result in nans if no value falls into bin\n"
     ]
    },
    {
     "name": "stdout",
     "output_type": "stream",
     "text": [
      "start merge rule for batch_idx 96 (115) patterns\n"
     ]
    },
    {
     "name": "stderr",
     "output_type": "stream",
     "text": [
      "/home/julianhatwell/Documents/github/explain_te/CHIRPS/structures.py:1450: RuntimeWarning: invalid value encountered in true_divide\n",
      "  np.histogram(lowers, lower_bins)[0]).round(5) # can result in nans\n"
     ]
    },
    {
     "name": "stdout",
     "output_type": "stream",
     "text": [
      "found 13 patterns from 550 for batch_idx 97\n",
      "start score sort for batch_idx 97 (13) patterns\n",
      "start merge rule for batch_idx 97 (13) patterns\n",
      "[('educationnum', True, 7.88799), ('lcapitalgain', True, 8.42383), ('lcapitalloss', True, 7.46894)]\n",
      "0.9612343789849528 0.11242926318828804 0.34782433403434554 0.26413213726327783\n",
      "merge complete for batch_idx 95 (65) patterns\n",
      "start get explainer for batch_idx 95\n",
      "as_chirps for batch_idx 98\n",
      "start mining for batch_idx 98 with support = 0.3\n"
     ]
    },
    {
     "name": "stderr",
     "output_type": "stream",
     "text": [
      "/home/julianhatwell/Documents/github/explain_te/CHIRPS/structures.py:1450: RuntimeWarning: invalid value encountered in true_divide\n",
      "  np.histogram(lowers, lower_bins)[0]).round(5) # can result in nans\n",
      "/home/julianhatwell/Documents/github/explain_te/CHIRPS/structures.py:1445: RuntimeWarning: invalid value encountered in true_divide\n",
      "  np.histogram(uppers, upper_bins)[0]).round(5) # can result in nans if no value falls into bin\n"
     ]
    },
    {
     "name": "stdout",
     "output_type": "stream",
     "text": [
      "found 22 patterns from 600 for batch_idx 98\n",
      "start score sort for batch_idx 98 (22) patterns\n",
      "start merge rule for batch_idx 98 (22) patterns\n",
      "[('lcapitalloss', False, 7.48944), ('educationnum', False, 11.95822), ('maritalstatus_Married-civ-spouse', False, 0.5)]\n",
      "0.96 0.01236426761910171 0.7893874040092735 0.5702127659574469\n",
      "merge complete for batch_idx 97 (13) patterns\n",
      "start get explainer for batch_idx 97\n",
      "as_chirps for batch_idx 99\n",
      "start mining for batch_idx 99 with support = 0.3\n"
     ]
    },
    {
     "name": "stderr",
     "output_type": "stream",
     "text": [
      "/home/julianhatwell/Documents/github/explain_te/CHIRPS/structures.py:1445: RuntimeWarning: invalid value encountered in true_divide\n",
      "  np.histogram(uppers, upper_bins)[0]).round(5) # can result in nans if no value falls into bin\n",
      "/home/julianhatwell/Documents/github/explain_te/CHIRPS/structures.py:1450: RuntimeWarning: invalid value encountered in true_divide\n",
      "  np.histogram(lowers, lower_bins)[0]).round(5) # can result in nans\n"
     ]
    },
    {
     "name": "stdout",
     "output_type": "stream",
     "text": [
      "found 89 patterns from 483 for batch_idx 99\n",
      "start score sort for batch_idx 99 (89) patterns\n",
      "start merge rule for batch_idx 99 (89) patterns\n",
      "[('lcapitalgain', True, 8.77661), ('maritalstatus_Married-civ-spouse', True, 0.5), ('educationnum', True, 12.4969), ('lcapitalloss', True, 7.58843)]\n",
      "0.9784488771097782 0.40289667750201913 0.26859918267443916 0.24096851883708936\n",
      "merge complete for batch_idx 91 (124) patterns\n",
      "start get explainer for batch_idx 91\n",
      "[('educationnum', True, 9.5), ('hoursperweek', True, 43.39735), ('lcapitalgain', True, 8.3653), ('lcapitalloss', True, 7.43551)]\n",
      "0.9477592382283567 0.3093363635454026 0.25817216997869447 0.26269572526987184\n",
      "merge complete for batch_idx 88 (969) patterns\n",
      "start get explainer for batch_idx 88\n",
      "[('age', True, 37.71951), ('educationnum', True, 9.61739), ('lcapitalgain', True, 8.38135), ('lcapitalloss', True, 7.43935), ('hoursperweek', True, 52.94503)]\n",
      "0.9709473684210527 0.20288813393408106 0.28252475100244445 0.23396637608966353\n",
      "merge complete for batch_idx 84 (691) patterns\n",
      "start get explainer for batch_idx 84\n",
      "[('lcapitalloss', True, 7.65423), ('maritalstatus_Never-married', False, 0.5)]\n",
      "0.9576324547989565 0.30567160394961196 0.5444942090691934 0.43278257604205783\n",
      "merge complete for batch_idx 98 (22) patterns\n",
      "start get explainer for batch_idx 98\n",
      "[('educationnum', False, 11.19137), ('occupation_Exec-managerial', False, 0.5), ('relationship_Husband', False, 0.5), ('workclass_Private', False, 0.5), ('nativecountry_United-States', False, 0.5), ('age', False, 31.60231)]\n",
      "0.9307359307359307 0.02017410141520348 0.26284406750166117 0.1590856576992902\n",
      "merge complete for batch_idx 94 (289) patterns\n",
      "start get explainer for batch_idx 94\n",
      "[('educationnum', False, 12.04637), ('occupation_Exec-managerial', False, 0.5), ('relationship_Husband', False, 0.5), ('workclass_Self-emp-not-inc', True, 0.5), ('hoursperweek', False, 35.56691), ('nativecountry_United-States', False, 0.5), ('age', False, 43.13522)]\n",
      "0.9098039215686274 0.014832450482379316 0.30615173920262545 0.17842630217953462\n",
      "merge complete for batch_idx 99 (89) patterns\n",
      "start get explainer for batch_idx 99\n",
      "[('lcapitalgain', True, 8.76718), ('maritalstatus_Married-civ-spouse', True, 0.5), ('educationnum', True, 12.47937), ('lcapitalloss', True, 7.62994)]\n",
      "0.9785073381094804 0.4039927273361834 0.11628917244659963 0.12388143176733776\n",
      "merge complete for batch_idx 96 (115) patterns\n",
      "start get explainer for batch_idx 96\n",
      "[('educationnum', False, 12.16188), ('relationship_Husband', False, 0.5), ('workclass_Private', False, 0.5), ('age', False, 33.90093), ('hoursperweek', False, 35.04772), ('nativecountry_United-States', False, 0.5), ('occupation_Farming-fishing', True, 0.5), ('occupation_Other-service', True, 0.5), ('occupation_Handlers-cleaners', True, 0.5), ('occupation_Transport-moving', True, 0.5), ('occupation_Craft-repair', True, 0.5), ('occupation_Adm-clerical', True, 0.5), ('occupation_Machine-op-inspct', True, 0.5), ('lfnlwgt', False, 11.61566), ('race_Black', True, 0.5)]\n",
      "0.9269759450171822 0.033877436482748526 0.23378583707070108 0.11600745029184241\n",
      "merge complete for batch_idx 79 (812) patterns\n",
      "start get explainer for batch_idx 79\n",
      "CHIRPS time elapsed: 516.5808 seconds\n",
      "CHIRPS with async = True\n",
      "\n",
      "Evaluating found explanations\n",
      "Results saved to /datadisk/whiteboxing/benchmarks2/adult/rf_sensitivity/wcts_majority_sp_0.3_ap_0.5_dpb_4_dpeq_False_sf_5_w_kldiv_RandomForest_CHIRPS_rnst_123\n",
      "CHIRPS batch results eval time elapsed: 31.8868 seconds\n",
      "\n",
      "Sensitivity round: 2\n",
      "Beginning benchmark for adult data.\n",
      "Hyper-parameter settings: {'alpha_paths': 0.1, 'disc_path_bins': 4, 'disc_path_eqcounts': False, 'score_func': 5, 'weighting': 'kldiv', 'support_paths': 0.3, 'precis_threshold': 0.99, 'merging_bootstraps': 20, 'pruning_bootstraps': 20, 'which_trees': 'majority', 'delta': 0.09}\n",
      "\n",
      "Prepare Unseen Data and Predictions for CHIRPS benchmark\n",
      "Walking forest for 100 instances... (please wait)\n",
      "Forest Walk with async = True\n",
      "Forest Walk time elapsed: 5.4469 seconds\n",
      "\n",
      "Running CHIRPS on a batch of 100 instances... (please wait)\n",
      "as_chirps for batch_idx 0\n",
      "start mining for batch_idx 0 with support = 0.3\n"
     ]
    },
    {
     "name": "stderr",
     "output_type": "stream",
     "text": [
      "/home/julianhatwell/Documents/github/explain_te/CHIRPS/structures.py:1450: RuntimeWarning: invalid value encountered in true_divide\n",
      "  np.histogram(lowers, lower_bins)[0]).round(5) # can result in nans\n",
      "/home/julianhatwell/Documents/github/explain_te/CHIRPS/structures.py:1445: RuntimeWarning: invalid value encountered in true_divide\n",
      "  np.histogram(uppers, upper_bins)[0]).round(5) # can result in nans if no value falls into bin\n"
     ]
    },
    {
     "name": "stdout",
     "output_type": "stream",
     "text": [
      "found 29 patterns from 444 for batch_idx 0\n",
      "start score sort for batch_idx 0 (29) patterns\n",
      "start merge rule for batch_idx 0 (29) patterns\n",
      "as_chirps for batch_idx 1\n",
      "start mining for batch_idx 1 with support = 0.3\n"
     ]
    },
    {
     "name": "stderr",
     "output_type": "stream",
     "text": [
      "/home/julianhatwell/Documents/github/explain_te/CHIRPS/structures.py:1450: RuntimeWarning: invalid value encountered in true_divide\n",
      "  np.histogram(lowers, lower_bins)[0]).round(5) # can result in nans\n",
      "/home/julianhatwell/Documents/github/explain_te/CHIRPS/structures.py:1445: RuntimeWarning: invalid value encountered in true_divide\n",
      "  np.histogram(uppers, upper_bins)[0]).round(5) # can result in nans if no value falls into bin\n"
     ]
    },
    {
     "name": "stdout",
     "output_type": "stream",
     "text": [
      "found 114 patterns from 448 for batch_idx 1\n",
      "start score sort for batch_idx 1 (114) patterns\n",
      "as_chirps for batch_idx 2\n",
      "start mining for batch_idx 2 with support = 0.3\n",
      "start merge rule for batch_idx 2 (45) patterns\n",
      "start score sort for batch_idx 2 (45) patterns\n"
     ]
    },
    {
     "name": "stderr",
     "output_type": "stream",
     "text": [
      "/home/julianhatwell/Documents/github/explain_te/CHIRPS/structures.py:1445: RuntimeWarning: invalid value encountered in true_divide\n",
      "  np.histogram(uppers, upper_bins)[0]).round(5) # can result in nans if no value falls into bin\n",
      "/home/julianhatwell/Documents/github/explain_te/CHIRPS/structures.py:1450: RuntimeWarning: invalid value encountered in true_divide\n",
      "  np.histogram(lowers, lower_bins)[0]).round(5) # can result in nans\n"
     ]
    },
    {
     "name": "stdout",
     "output_type": "stream",
     "text": [
      "start merge rule for batch_idx 1 (114) patterns\n",
      "found 45 patterns from 338 for batch_idx 2\n",
      "as_chirps for batch_idx 3\n",
      "start mining for batch_idx 3 with support = 0.3\n"
     ]
    },
    {
     "name": "stderr",
     "output_type": "stream",
     "text": [
      "/home/julianhatwell/Documents/github/explain_te/CHIRPS/structures.py:1445: RuntimeWarning: invalid value encountered in true_divide\n",
      "  np.histogram(uppers, upper_bins)[0]).round(5) # can result in nans if no value falls into bin\n",
      "/home/julianhatwell/Documents/github/explain_te/CHIRPS/structures.py:1450: RuntimeWarning: invalid value encountered in true_divide\n",
      "  np.histogram(lowers, lower_bins)[0]).round(5) # can result in nans\n"
     ]
    },
    {
     "name": "stdout",
     "output_type": "stream",
     "text": [
      "as_chirps for batch_idx 4\n",
      "start mining for batch_idx 4 with support = 0.3\n",
      "found 822 patterns from 418 for batch_idx 3\n",
      "start score sort for batch_idx 3 (822) patterns\n"
     ]
    },
    {
     "name": "stderr",
     "output_type": "stream",
     "text": [
      "/home/julianhatwell/Documents/github/explain_te/CHIRPS/structures.py:1450: RuntimeWarning: invalid value encountered in true_divide\n",
      "  np.histogram(lowers, lower_bins)[0]).round(5) # can result in nans\n",
      "/home/julianhatwell/Documents/github/explain_te/CHIRPS/structures.py:1445: RuntimeWarning: invalid value encountered in true_divide\n",
      "  np.histogram(uppers, upper_bins)[0]).round(5) # can result in nans if no value falls into bin\n"
     ]
    },
    {
     "name": "stdout",
     "output_type": "stream",
     "text": [
      "reduced 1 patterns out of 119 by numeric redundancy\n",
      "found 118 patterns from 372 for batch_idx 4\n",
      "start score sort for batch_idx 4 (118) patterns\n",
      "as_chirps for batch_idx 5\n"
     ]
    },
    {
     "name": "stderr",
     "output_type": "stream",
     "text": [
      "/home/julianhatwell/Documents/github/explain_te/CHIRPS/structures.py:1450: RuntimeWarning: invalid value encountered in true_divide\n",
      "  np.histogram(lowers, lower_bins)[0]).round(5) # can result in nans\n"
     ]
    },
    {
     "name": "stdout",
     "output_type": "stream",
     "text": [
      "start mining for batch_idx 5 with support = 0.3\n"
     ]
    },
    {
     "name": "stderr",
     "output_type": "stream",
     "text": [
      "/home/julianhatwell/Documents/github/explain_te/CHIRPS/structures.py:1445: RuntimeWarning: invalid value encountered in true_divide\n",
      "  np.histogram(uppers, upper_bins)[0]).round(5) # can result in nans if no value falls into bin\n"
     ]
    },
    {
     "name": "stdout",
     "output_type": "stream",
     "text": [
      "start merge rule for batch_idx 4 (118) patterns\n",
      "reduced 1 patterns out of 434 by numeric redundancy\n",
      "found 433 patterns from 504 for batch_idx 5\n",
      "start score sort for batch_idx 5 (433) patterns\n",
      "as_chirps for batch_idx 6\n",
      "start mining for batch_idx 6 with support = 0.3\n"
     ]
    },
    {
     "name": "stderr",
     "output_type": "stream",
     "text": [
      "/home/julianhatwell/Documents/github/explain_te/CHIRPS/structures.py:1445: RuntimeWarning: invalid value encountered in true_divide\n",
      "  np.histogram(uppers, upper_bins)[0]).round(5) # can result in nans if no value falls into bin\n",
      "/home/julianhatwell/Documents/github/explain_te/CHIRPS/structures.py:1450: RuntimeWarning: invalid value encountered in true_divide\n",
      "  np.histogram(lowers, lower_bins)[0]).round(5) # can result in nans\n"
     ]
    },
    {
     "name": "stdout",
     "output_type": "stream",
     "text": [
      "as_chirps for batch_idx 7\n",
      "start mining for batch_idx 7 with support = 0.3\n"
     ]
    },
    {
     "name": "stderr",
     "output_type": "stream",
     "text": [
      "/home/julianhatwell/Documents/github/explain_te/CHIRPS/structures.py:1445: RuntimeWarning: invalid value encountered in true_divide\n",
      "  np.histogram(uppers, upper_bins)[0]).round(5) # can result in nans if no value falls into bin\n",
      "/home/julianhatwell/Documents/github/explain_te/CHIRPS/structures.py:1450: RuntimeWarning: invalid value encountered in true_divide\n",
      "  np.histogram(lowers, lower_bins)[0]).round(5) # can result in nans\n"
     ]
    },
    {
     "name": "stdout",
     "output_type": "stream",
     "text": [
      "reduced 10 patterns out of 568 by numeric redundancy\n",
      "found 558 patterns from 582 for batch_idx 6\n",
      "start score sort for batch_idx 6 (558) patterns\n",
      "reduced 1 patterns out of 522 by numeric redundancy\n",
      "found 521 patterns from 448 for batch_idx 7\n",
      "start score sort for batch_idx 7 (521) patterns\n",
      "start merge rule for batch_idx 5 (433) patterns\n",
      "start merge rule for batch_idx 3 (822) patterns\n",
      "start merge rule for batch_idx 7 (521) patterns\n",
      "start merge rule for batch_idx 6 (558) patterns\n",
      "[('maritalstatus_Married-civ-spouse', True, 0.5), ('lcapitalgain', True, 8.74734), ('educationnum', True, 12.29536)]\n",
      "0.9768826135105205 0.4046437686538785 0.45657637777831195 0.4641426282051282\n",
      "merge complete for batch_idx 0 (29) patterns\n",
      "start get explainer for batch_idx 0\n",
      "as_chirps for batch_idx 8\n",
      "start mining for batch_idx 8 with support = 0.3\n"
     ]
    },
    {
     "name": "stderr",
     "output_type": "stream",
     "text": [
      "/home/julianhatwell/Documents/github/explain_te/CHIRPS/structures.py:1450: RuntimeWarning: invalid value encountered in true_divide\n",
      "  np.histogram(lowers, lower_bins)[0]).round(5) # can result in nans\n",
      "/home/julianhatwell/Documents/github/explain_te/CHIRPS/structures.py:1445: RuntimeWarning: invalid value encountered in true_divide\n",
      "  np.histogram(uppers, upper_bins)[0]).round(5) # can result in nans if no value falls into bin\n"
     ]
    },
    {
     "name": "stdout",
     "output_type": "stream",
     "text": [
      "found 33 patterns from 585 for batch_idx 8\n",
      "start score sort for batch_idx 8 (33) patterns\n",
      "start merge rule for batch_idx 8 (33) patterns\n",
      "[('lcapitalgain', True, 8.69966), ('lcapitalloss', True, 7.58616), ('maritalstatus_Never-married', False, 0.5)]\n",
      "0.9690362770245511 0.3055471802384325 0.22054916627569487 0.2681184668989547\n",
      "merge complete for batch_idx 2 (45) patterns\n",
      "start get explainer for batch_idx 2\n",
      "as_chirps for batch_idx 9\n",
      "start mining for batch_idx 9 with support = 0.3\n"
     ]
    },
    {
     "name": "stderr",
     "output_type": "stream",
     "text": [
      "/home/julianhatwell/Documents/github/explain_te/CHIRPS/structures.py:1445: RuntimeWarning: invalid value encountered in true_divide\n",
      "  np.histogram(uppers, upper_bins)[0]).round(5) # can result in nans if no value falls into bin\n",
      "/home/julianhatwell/Documents/github/explain_te/CHIRPS/structures.py:1450: RuntimeWarning: invalid value encountered in true_divide\n",
      "  np.histogram(lowers, lower_bins)[0]).round(5) # can result in nans\n"
     ]
    },
    {
     "name": "stdout",
     "output_type": "stream",
     "text": [
      "reduced 1 patterns out of 1040 by numeric redundancy\n",
      "found 1039 patterns from 555 for batch_idx 9\n",
      "start score sort for batch_idx 9 (1039) patterns\n",
      "[('educationnum', False, 13.05405), ('occupation_Exec-managerial', False, 0.5), ('relationship_Husband', False, 0.5), ('hoursperweek', False, 44.90078)]\n",
      "0.9304029304029304 0.007920713669111694 0.1791395118089204 0.11933982225983915\n",
      "merge complete for batch_idx 4 (118) patterns\n",
      "start get explainer for batch_idx 4\n",
      "[('lcapitalgain', True, 8.80293), ('relationship_Unmarried', False, 0.5), ('educationnum', True, 12.68499)]\n",
      "0.9740863787375416 0.08712283304117249 0.2609731167173994 0.32367149758454095\n",
      "merge complete for batch_idx 8 (33) patterns\n",
      "start get explainer for batch_idx 8\n",
      "start merge rule for batch_idx 9 (1039) patterns\n",
      "as_chirps for batch_idx 10\n",
      "start mining for batch_idx 10 with support = 0.3\n"
     ]
    },
    {
     "name": "stderr",
     "output_type": "stream",
     "text": [
      "/home/julianhatwell/Documents/github/explain_te/CHIRPS/structures.py:1445: RuntimeWarning: invalid value encountered in true_divide\n",
      "  np.histogram(uppers, upper_bins)[0]).round(5) # can result in nans if no value falls into bin\n",
      "/home/julianhatwell/Documents/github/explain_te/CHIRPS/structures.py:1450: RuntimeWarning: invalid value encountered in true_divide\n",
      "  np.histogram(lowers, lower_bins)[0]).round(5) # can result in nans\n"
     ]
    },
    {
     "name": "stdout",
     "output_type": "stream",
     "text": [
      "reduced 6 patterns out of 587 by numeric redundancy\n",
      "found 581 patterns from 369 for batch_idx 10\n",
      "start score sort for batch_idx 10 (581) patterns\n",
      "as_chirps for batch_idx 11\n",
      "start mining for batch_idx 11 with support = 0.3\n"
     ]
    },
    {
     "name": "stderr",
     "output_type": "stream",
     "text": [
      "/home/julianhatwell/Documents/github/explain_te/CHIRPS/structures.py:1445: RuntimeWarning: invalid value encountered in true_divide\n",
      "  np.histogram(uppers, upper_bins)[0]).round(5) # can result in nans if no value falls into bin\n",
      "/home/julianhatwell/Documents/github/explain_te/CHIRPS/structures.py:1450: RuntimeWarning: invalid value encountered in true_divide\n",
      "  np.histogram(lowers, lower_bins)[0]).round(5) # can result in nans\n"
     ]
    },
    {
     "name": "stdout",
     "output_type": "stream",
     "text": [
      "found 59 patterns from 401 for batch_idx 11\n",
      "start score sort for batch_idx 11 (59) patterns\n",
      "start merge rule for batch_idx 11 (59) patterns\n",
      "[('lcapitalgain', True, 8.69379), ('maritalstatus_Married-civ-spouse', True, 0.5), ('occupation_Exec-managerial', True, 0.5), ('occupation_Prof-specialty', True, 0.5), ('lcapitalloss', True, 7.58438)]\n",
      "0.977191381851358 0.3995469154444064 0.09968847184390725 0.13391906283280094\n",
      "merge complete for batch_idx 1 (114) patterns\n",
      "start get explainer for batch_idx 1\n",
      "as_chirps for batch_idx 12\n",
      "start mining for batch_idx 12 with support = 0.3\n"
     ]
    },
    {
     "name": "stderr",
     "output_type": "stream",
     "text": [
      "/home/julianhatwell/Documents/github/explain_te/CHIRPS/structures.py:1450: RuntimeWarning: invalid value encountered in true_divide\n",
      "  np.histogram(lowers, lower_bins)[0]).round(5) # can result in nans\n",
      "/home/julianhatwell/Documents/github/explain_te/CHIRPS/structures.py:1445: RuntimeWarning: invalid value encountered in true_divide\n",
      "  np.histogram(uppers, upper_bins)[0]).round(5) # can result in nans if no value falls into bin\n"
     ]
    },
    {
     "name": "stdout",
     "output_type": "stream",
     "text": [
      "found 13 patterns from 565 for batch_idx 12\n",
      "start score sort for batch_idx 12 (13) patterns\n",
      "start merge rule for batch_idx 12 (13) patterns\n",
      "start merge rule for batch_idx 10 (581) patterns\n",
      "[('lcapitalgain', True, 8.78101), ('maritalstatus_Never-married', False, 0.5)]\n",
      "0.9665245395990202 0.3072709917310531 0.8514015745404295 0.6521449950116395\n",
      "merge complete for batch_idx 12 (13) patterns\n",
      "start get explainer for batch_idx 12\n",
      "as_chirps for batch_idx 13\n",
      "start mining for batch_idx 13 with support = 0.3\n"
     ]
    },
    {
     "name": "stderr",
     "output_type": "stream",
     "text": [
      "/home/julianhatwell/Documents/github/explain_te/CHIRPS/structures.py:1445: RuntimeWarning: invalid value encountered in true_divide\n",
      "  np.histogram(uppers, upper_bins)[0]).round(5) # can result in nans if no value falls into bin\n",
      "/home/julianhatwell/Documents/github/explain_te/CHIRPS/structures.py:1450: RuntimeWarning: invalid value encountered in true_divide\n",
      "  np.histogram(lowers, lower_bins)[0]).round(5) # can result in nans\n"
     ]
    },
    {
     "name": "stdout",
     "output_type": "stream",
     "text": [
      "found 26 patterns from 568 for batch_idx 13\n",
      "start score sort for batch_idx 13 (26) patterns\n",
      "start merge rule for batch_idx 13 (26) patterns\n",
      "[('educationnum', False, 12.00729), ('lcapitalloss', False, 7.49282), ('maritalstatus_Married-civ-spouse', False, 0.5)]\n",
      "0.9670886075949368 0.011489115206202842 0.36267984984282153 0.15786819098856758\n",
      "merge complete for batch_idx 13 (26) patterns\n",
      "start get explainer for batch_idx 13\n",
      "as_chirps for batch_idx 14\n",
      "start mining for batch_idx 14 with support = 0.3\n"
     ]
    },
    {
     "name": "stderr",
     "output_type": "stream",
     "text": [
      "/home/julianhatwell/Documents/github/explain_te/CHIRPS/structures.py:1445: RuntimeWarning: invalid value encountered in true_divide\n",
      "  np.histogram(uppers, upper_bins)[0]).round(5) # can result in nans if no value falls into bin\n",
      "/home/julianhatwell/Documents/github/explain_te/CHIRPS/structures.py:1450: RuntimeWarning: invalid value encountered in true_divide\n",
      "  np.histogram(lowers, lower_bins)[0]).round(5) # can result in nans\n"
     ]
    },
    {
     "name": "stdout",
     "output_type": "stream",
     "text": [
      "[('hoursperweek', True, 29.29275), ('lcapitalgain', True, 8.45829), ('workclass_Self-emp-inc', True, 0.5), ('workclass_Self-emp-not-inc', True, 0.5), ('educationnum', True, 13.5)]\n",
      "0.9645658642142277 0.10629193130435358 0.10481732708234785 0.18484814014332837\n",
      "merge complete for batch_idx 11 (59) patterns\n",
      "start get explainer for batch_idx 11\n",
      "found 425 patterns from 343 for batch_idx 14\n",
      "start score sort for batch_idx 14 (425) patterns\n",
      "as_chirps for batch_idx 15\n",
      "start mining for batch_idx 15 with support = 0.3\n"
     ]
    },
    {
     "name": "stderr",
     "output_type": "stream",
     "text": [
      "/home/julianhatwell/Documents/github/explain_te/CHIRPS/structures.py:1450: RuntimeWarning: invalid value encountered in true_divide\n",
      "  np.histogram(lowers, lower_bins)[0]).round(5) # can result in nans\n",
      "/home/julianhatwell/Documents/github/explain_te/CHIRPS/structures.py:1445: RuntimeWarning: invalid value encountered in true_divide\n",
      "  np.histogram(uppers, upper_bins)[0]).round(5) # can result in nans if no value falls into bin\n"
     ]
    },
    {
     "name": "stdout",
     "output_type": "stream",
     "text": [
      "found 58 patterns from 600 for batch_idx 15\n",
      "start score sort for batch_idx 15 (58) patterns\n",
      "start merge rule for batch_idx 15 (58) patterns\n",
      "start merge rule for batch_idx 14 (425) patterns\n",
      "[('educationnum', True, 9.68108), ('lcapitalgain', True, 4.00362), ('lcapitalloss', True, 7.45173), ('occupation_Exec-managerial', True, 0.5), ('occupation_Prof-specialty', True, 0.5), ('occupation_Farming-fishing', True, 0.5), ('occupation_Transport-moving', True, 0.5), ('occupation_Protective-serv', True, 0.5), ('workclass_Self-emp-inc', True, 0.5), ('workclass_Federal-gov', True, 0.5)]\n",
      "0.9498831229546517 0.2914790483960218 0.1354631041188767 0.11053991053991051\n",
      "merge complete for batch_idx 5 (433) patterns\n",
      "start get explainer for batch_idx 5\n",
      "as_chirps for batch_idx 16\n",
      "start mining for batch_idx 16 with support = 0.3\n"
     ]
    },
    {
     "name": "stderr",
     "output_type": "stream",
     "text": [
      "/home/julianhatwell/Documents/github/explain_te/CHIRPS/structures.py:1445: RuntimeWarning: invalid value encountered in true_divide\n",
      "  np.histogram(uppers, upper_bins)[0]).round(5) # can result in nans if no value falls into bin\n",
      "/home/julianhatwell/Documents/github/explain_te/CHIRPS/structures.py:1450: RuntimeWarning: invalid value encountered in true_divide\n",
      "  np.histogram(lowers, lower_bins)[0]).round(5) # can result in nans\n"
     ]
    },
    {
     "name": "stdout",
     "output_type": "stream",
     "text": [
      "found 95 patterns from 570 for batch_idx 16\n",
      "start score sort for batch_idx 16 (95) patterns\n",
      "start merge rule for batch_idx 16 (95) patterns\n",
      "[('educationnum', True, 9.80797), ('hoursperweek', True, 42.64031), ('lcapitalgain', True, 8.34003), ('lcapitalloss', True, 7.44466)]\n",
      "0.9478627227244799 0.3080464530375645 0.45152275359205896 0.3743230780145199\n",
      "merge complete for batch_idx 9 (1039) patterns\n",
      "start get explainer for batch_idx 9\n",
      "as_chirps for batch_idx 17\n",
      "start mining for batch_idx 17 with support = 0.3\n"
     ]
    },
    {
     "name": "stderr",
     "output_type": "stream",
     "text": [
      "/home/julianhatwell/Documents/github/explain_te/CHIRPS/structures.py:1445: RuntimeWarning: invalid value encountered in true_divide\n",
      "  np.histogram(uppers, upper_bins)[0]).round(5) # can result in nans if no value falls into bin\n",
      "/home/julianhatwell/Documents/github/explain_te/CHIRPS/structures.py:1450: RuntimeWarning: invalid value encountered in true_divide\n",
      "  np.histogram(lowers, lower_bins)[0]).round(5) # can result in nans\n"
     ]
    },
    {
     "name": "stdout",
     "output_type": "stream",
     "text": [
      "found 23 patterns from 416 for batch_idx 17\n",
      "start score sort for batch_idx 17 (23) patterns\n",
      "start merge rule for batch_idx 17 (23) patterns\n",
      "[('maritalstatus_Divorced', False, 0.5), ('educationnum', True, 12.5), ('lcapitalgain', True, 8.99), ('lcapitalloss', True, 7.62799), ('lfnlwgt', False, 10.48897)]\n",
      "0.9594557067481255 0.10332940296451384 0.39018775248699183 0.24490932230353166\n",
      "merge complete for batch_idx 15 (58) patterns\n",
      "start get explainer for batch_idx 15\n",
      "as_chirps for batch_idx 18\n",
      "start mining for batch_idx 18 with support = 0.3\n"
     ]
    },
    {
     "name": "stderr",
     "output_type": "stream",
     "text": [
      "/home/julianhatwell/Documents/github/explain_te/CHIRPS/structures.py:1445: RuntimeWarning: invalid value encountered in true_divide\n",
      "  np.histogram(uppers, upper_bins)[0]).round(5) # can result in nans if no value falls into bin\n",
      "/home/julianhatwell/Documents/github/explain_te/CHIRPS/structures.py:1450: RuntimeWarning: invalid value encountered in true_divide\n",
      "  np.histogram(lowers, lower_bins)[0]).round(5) # can result in nans\n"
     ]
    },
    {
     "name": "stdout",
     "output_type": "stream",
     "text": [
      "found 14 patterns from 480 for batch_idx 18\n",
      "start score sort for batch_idx 18 (14) patterns\n",
      "start merge rule for batch_idx 18 (14) patterns\n",
      "[('educationnum', False, 12.12173), ('occupation_Exec-managerial', False, 0.5), ('relationship_Husband', False, 0.5), ('age', False, 29.38701), ('hoursperweek', True, 65.70137), ('workclass_Private', False, 0.5), ('nativecountry_United-States', False, 0.5), ('race_White', False, 0.5)]\n",
      "0.9346811819595645 0.0187185973272004 0.1802837572230182 0.10483258766333398\n",
      "merge complete for batch_idx 6 (558) patterns\n",
      "start get explainer for batch_idx 6\n",
      "as_chirps for batch_idx 19\n",
      "start mining for batch_idx 19 with support = 0.3\n"
     ]
    },
    {
     "name": "stderr",
     "output_type": "stream",
     "text": [
      "/home/julianhatwell/Documents/github/explain_te/CHIRPS/structures.py:1445: RuntimeWarning: invalid value encountered in true_divide\n",
      "  np.histogram(uppers, upper_bins)[0]).round(5) # can result in nans if no value falls into bin\n",
      "/home/julianhatwell/Documents/github/explain_te/CHIRPS/structures.py:1450: RuntimeWarning: invalid value encountered in true_divide\n",
      "  np.histogram(lowers, lower_bins)[0]).round(5) # can result in nans\n"
     ]
    },
    {
     "name": "stdout",
     "output_type": "stream",
     "text": [
      "found 217 patterns from 520 for batch_idx 19\n",
      "start score sort for batch_idx 19 (217) patterns\n",
      "start merge rule for batch_idx 19 (217) patterns\n",
      "[('lcapitalgain', True, 8.71971), ('maritalstatus_Never-married', False, 0.5), ('educationnum', True, 13.5), ('lcapitalloss', True, 7.7563)]\n",
      "0.9778862722573234 0.2965488809712735 0.1730356551519311 0.3955142231947484\n",
      "merge complete for batch_idx 17 (23) patterns\n",
      "start get explainer for batch_idx 17\n",
      "as_chirps for batch_idx 20\n",
      "start mining for batch_idx 20 with support = 0.3\n"
     ]
    },
    {
     "name": "stderr",
     "output_type": "stream",
     "text": [
      "/home/julianhatwell/Documents/github/explain_te/CHIRPS/structures.py:1450: RuntimeWarning: invalid value encountered in true_divide\n",
      "  np.histogram(lowers, lower_bins)[0]).round(5) # can result in nans\n",
      "/home/julianhatwell/Documents/github/explain_te/CHIRPS/structures.py:1445: RuntimeWarning: invalid value encountered in true_divide\n",
      "  np.histogram(uppers, upper_bins)[0]).round(5) # can result in nans if no value falls into bin\n"
     ]
    },
    {
     "name": "stdout",
     "output_type": "stream",
     "text": [
      "[('educationnum', False, 9.89211), ('occupation_Exec-managerial', False, 0.5), ('relationship_Husband', False, 0.5), ('workclass_Private', False, 0.5), ('nativecountry_United-States', False, 0.5), ('age', False, 36.13208), ('age', True, 61.23), ('hoursperweek', False, 35.89336), ('race_White', False, 0.5), ('lfnlwgt', False, 11.92945)]\n",
      "0.9370786516853933 0.012943454183650107 0.28460309642770215 0.15029985472876498\n",
      "merge complete for batch_idx 10 (581) patterns\n",
      "start get explainer for batch_idx 10\n",
      "[('lcapitalgain', True, 8.71883), ('relationship_Own-child', False, 0.5)]\n",
      "0.9889228418640184 0.15198570356445754 0.5955926269881404 0.5323943661971832\n",
      "merge complete for batch_idx 18 (14) patterns\n",
      "start get explainer for batch_idx 18\n",
      "found 36 patterns from 578 for batch_idx 20\n",
      "start score sort for batch_idx 20 (36) patterns\n",
      "start merge rule for batch_idx 20 (36) patterns\n",
      "as_chirps for batch_idx 21\n",
      "start mining for batch_idx 21 with support = 0.3\n"
     ]
    },
    {
     "name": "stderr",
     "output_type": "stream",
     "text": [
      "/home/julianhatwell/Documents/github/explain_te/CHIRPS/structures.py:1445: RuntimeWarning: invalid value encountered in true_divide\n",
      "  np.histogram(uppers, upper_bins)[0]).round(5) # can result in nans if no value falls into bin\n",
      "/home/julianhatwell/Documents/github/explain_te/CHIRPS/structures.py:1450: RuntimeWarning: invalid value encountered in true_divide\n",
      "  np.histogram(lowers, lower_bins)[0]).round(5) # can result in nans\n"
     ]
    },
    {
     "name": "stdout",
     "output_type": "stream",
     "text": [
      "found 145 patterns from 494 for batch_idx 21\n",
      "start score sort for batch_idx 21 (145) patterns\n",
      "as_chirps for batch_idx 22\n",
      "start mining for batch_idx 22 with support = 0.3\n"
     ]
    },
    {
     "name": "stderr",
     "output_type": "stream",
     "text": [
      "/home/julianhatwell/Documents/github/explain_te/CHIRPS/structures.py:1450: RuntimeWarning: invalid value encountered in true_divide\n",
      "  np.histogram(lowers, lower_bins)[0]).round(5) # can result in nans\n",
      "/home/julianhatwell/Documents/github/explain_te/CHIRPS/structures.py:1445: RuntimeWarning: invalid value encountered in true_divide\n",
      "  np.histogram(uppers, upper_bins)[0]).round(5) # can result in nans if no value falls into bin\n"
     ]
    },
    {
     "name": "stdout",
     "output_type": "stream",
     "text": [
      "found 15 patterns from 600 for batch_idx 22\n",
      "start score sort for batch_idx 22 (15) patterns\n",
      "start merge rule for batch_idx 22 (15) patterns\n",
      "start merge rule for batch_idx 21 (145) patterns\n",
      "[('lcapitalgain', True, 8.73433), ('maritalstatus_Never-married', False, 0.5), ('lcapitalloss', True, 7.61275), ('hoursperweek', True, 49.41053)]\n",
      "0.9806973848069739 0.2751633462293861 0.3444213042828939 0.26600866634569076\n",
      "merge complete for batch_idx 16 (95) patterns\n",
      "start get explainer for batch_idx 16\n",
      "as_chirps for batch_idx 23\n",
      "start mining for batch_idx 23 with support = 0.3\n"
     ]
    },
    {
     "name": "stderr",
     "output_type": "stream",
     "text": [
      "/home/julianhatwell/Documents/github/explain_te/CHIRPS/structures.py:1445: RuntimeWarning: invalid value encountered in true_divide\n",
      "  np.histogram(uppers, upper_bins)[0]).round(5) # can result in nans if no value falls into bin\n",
      "/home/julianhatwell/Documents/github/explain_te/CHIRPS/structures.py:1450: RuntimeWarning: invalid value encountered in true_divide\n",
      "  np.histogram(lowers, lower_bins)[0]).round(5) # can result in nans\n"
     ]
    },
    {
     "name": "stdout",
     "output_type": "stream",
     "text": [
      "[('educationnum', True, 10.52463), ('hoursperweek', True, 44.43959), ('lcapitalgain', True, 4.0565), ('lcapitalloss', True, 7.45894), ('occupation_Exec-managerial', True, 0.5), ('occupation_Prof-specialty', True, 0.5), ('occupation_Transport-moving', True, 0.5), ('occupation_Farming-fishing', True, 0.5), ('occupation_Tech-support', True, 0.5), ('occupation_Protective-serv', True, 0.5), ('occupation_Adm-clerical', True, 0.5), ('workclass_Federal-gov', True, 0.5), ('workclass_Self-emp-inc', True, 0.5)]\n",
      "0.9627817745803358 0.28986128702999436 0.1766227939412475 0.14076556502311444\n",
      "merge complete for batch_idx 7 (521) patterns\n",
      "start get explainer for batch_idx 7\n",
      "found 635 patterns from 505 for batch_idx 23\n",
      "start score sort for batch_idx 23 (635) patterns\n",
      "as_chirps for batch_idx 24\n",
      "start mining for batch_idx 24 with support = 0.3\n"
     ]
    },
    {
     "name": "stderr",
     "output_type": "stream",
     "text": [
      "/home/julianhatwell/Documents/github/explain_te/CHIRPS/structures.py:1445: RuntimeWarning: invalid value encountered in true_divide\n",
      "  np.histogram(uppers, upper_bins)[0]).round(5) # can result in nans if no value falls into bin\n",
      "/home/julianhatwell/Documents/github/explain_te/CHIRPS/structures.py:1450: RuntimeWarning: invalid value encountered in true_divide\n",
      "  np.histogram(lowers, lower_bins)[0]).round(5) # can result in nans\n"
     ]
    },
    {
     "name": "stdout",
     "output_type": "stream",
     "text": [
      "found 85 patterns from 483 for batch_idx 24\n",
      "start score sort for batch_idx 24 (85) patterns\n",
      "start merge rule for batch_idx 24 (85) patterns\n",
      "[('relationship_Own-child', False, 0.5), ('lcapitalloss', True, 7.65246), ('lcapitalgain', True, 9.0168)]\n",
      "0.9892925430210325 0.1518503956633814 0.5968287959700062 0.5555258228525555\n",
      "merge complete for batch_idx 22 (15) patterns\n",
      "start get explainer for batch_idx 22\n",
      "start merge rule for batch_idx 23 (635) patterns\n",
      "as_chirps for batch_idx 25\n",
      "start mining for batch_idx 25 with support = 0.3\n"
     ]
    },
    {
     "name": "stderr",
     "output_type": "stream",
     "text": [
      "/home/julianhatwell/Documents/github/explain_te/CHIRPS/structures.py:1445: RuntimeWarning: invalid value encountered in true_divide\n",
      "  np.histogram(uppers, upper_bins)[0]).round(5) # can result in nans if no value falls into bin\n",
      "/home/julianhatwell/Documents/github/explain_te/CHIRPS/structures.py:1450: RuntimeWarning: invalid value encountered in true_divide\n",
      "  np.histogram(lowers, lower_bins)[0]).round(5) # can result in nans\n"
     ]
    },
    {
     "name": "stdout",
     "output_type": "stream",
     "text": [
      "reduced 2 patterns out of 351 by numeric redundancy\n",
      "found 349 patterns from 552 for batch_idx 25\n",
      "start score sort for batch_idx 25 (349) patterns\n",
      "start merge rule for batch_idx 25 (349) patterns\n",
      "[('maritalstatus_Never-married', False, 0.5), ('lcapitalgain', True, 8.96219), ('educationnum', True, 13.5)]\n",
      "0.9765356734070966 0.29704259288740376 0.39520832169891346 0.19415922122949725\n",
      "merge complete for batch_idx 20 (36) patterns\n",
      "start get explainer for batch_idx 20\n",
      "as_chirps for batch_idx 26\n",
      "start mining for batch_idx 26 with support = 0.3\n"
     ]
    },
    {
     "name": "stderr",
     "output_type": "stream",
     "text": [
      "/home/julianhatwell/Documents/github/explain_te/CHIRPS/structures.py:1450: RuntimeWarning: invalid value encountered in true_divide\n",
      "  np.histogram(lowers, lower_bins)[0]).round(5) # can result in nans\n",
      "/home/julianhatwell/Documents/github/explain_te/CHIRPS/structures.py:1445: RuntimeWarning: invalid value encountered in true_divide\n",
      "  np.histogram(uppers, upper_bins)[0]).round(5) # can result in nans if no value falls into bin\n"
     ]
    },
    {
     "name": "stdout",
     "output_type": "stream",
     "text": [
      "found 18 patterns from 597 for batch_idx 26\n",
      "start score sort for batch_idx 26 (18) patterns\n",
      "start merge rule for batch_idx 26 (18) patterns\n",
      "[('educationnum', True, 9.5), ('hoursperweek', True, 43.63095), ('lcapitalgain', True, 8.35911), ('lcapitalloss', True, 7.44466)]\n",
      "0.9477592382283567 0.3093363635454026 0.24412344595016872 0.17229837424290695\n",
      "merge complete for batch_idx 3 (822) patterns\n",
      "start get explainer for batch_idx 3\n",
      "as_chirps for batch_idx 27\n",
      "start mining for batch_idx 27 with support = 0.3\n"
     ]
    },
    {
     "name": "stderr",
     "output_type": "stream",
     "text": [
      "/home/julianhatwell/Documents/github/explain_te/CHIRPS/structures.py:1450: RuntimeWarning: invalid value encountered in true_divide\n",
      "  np.histogram(lowers, lower_bins)[0]).round(5) # can result in nans\n",
      "/home/julianhatwell/Documents/github/explain_te/CHIRPS/structures.py:1445: RuntimeWarning: invalid value encountered in true_divide\n",
      "  np.histogram(uppers, upper_bins)[0]).round(5) # can result in nans if no value falls into bin\n"
     ]
    },
    {
     "name": "stdout",
     "output_type": "stream",
     "text": [
      "reduced 2 patterns out of 168 by numeric redundancy\n",
      "found 166 patterns from 462 for batch_idx 27\n",
      "start score sort for batch_idx 27 (166) patterns\n",
      "start merge rule for batch_idx 27 (166) patterns\n",
      "[('lcapitalloss', True, 7.63772), ('maritalstatus_Never-married', False, 0.5), ('lcapitalgain', True, 8.98622)]\n",
      "0.9691284946726163 0.307326045482275 0.9673668706007 0.7414282594452937\n",
      "merge complete for batch_idx 26 (18) patterns\n",
      "start get explainer for batch_idx 26\n",
      "as_chirps for batch_idx 28\n",
      "start mining for batch_idx 28 with support = 0.3\n"
     ]
    },
    {
     "name": "stderr",
     "output_type": "stream",
     "text": [
      "/home/julianhatwell/Documents/github/explain_te/CHIRPS/structures.py:1445: RuntimeWarning: invalid value encountered in true_divide\n",
      "  np.histogram(uppers, upper_bins)[0]).round(5) # can result in nans if no value falls into bin\n",
      "/home/julianhatwell/Documents/github/explain_te/CHIRPS/structures.py:1450: RuntimeWarning: invalid value encountered in true_divide\n",
      "  np.histogram(lowers, lower_bins)[0]).round(5) # can result in nans\n"
     ]
    },
    {
     "name": "stdout",
     "output_type": "stream",
     "text": [
      "found 81 patterns from 600 for batch_idx 28\n",
      "start score sort for batch_idx 28 (81) patterns\n",
      "start merge rule for batch_idx 28 (81) patterns\n",
      "[('age', True, 30.01688), ('lcapitalgain', True, 8.42253), ('lcapitalloss', True, 7.45864)]\n",
      "0.9542697153523099 0.29385859882865273 0.29873917526147054 0.2276777114236178\n",
      "merge complete for batch_idx 19 (217) patterns\n",
      "start get explainer for batch_idx 19\n",
      "[('age', True, 32.38141), ('lcapitalgain', True, 8.44625), ('hoursperweek', True, 43.56645), ('lcapitalloss', True, 7.46299)]\n",
      "0.9614725163893091 0.2758997003884778 0.5181514265489089 0.3528362939972263\n",
      "merge complete for batch_idx 24 (85) patterns\n",
      "start get explainer for batch_idx 24\n",
      "as_chirps for batch_idx 29\n",
      "start mining for batch_idx 29 with support = 0.3\n"
     ]
    },
    {
     "name": "stderr",
     "output_type": "stream",
     "text": [
      "/home/julianhatwell/Documents/github/explain_te/CHIRPS/structures.py:1445: RuntimeWarning: invalid value encountered in true_divide\n",
      "  np.histogram(uppers, upper_bins)[0]).round(5) # can result in nans if no value falls into bin\n",
      "/home/julianhatwell/Documents/github/explain_te/CHIRPS/structures.py:1450: RuntimeWarning: invalid value encountered in true_divide\n",
      "  np.histogram(lowers, lower_bins)[0]).round(5) # can result in nans\n"
     ]
    },
    {
     "name": "stdout",
     "output_type": "stream",
     "text": [
      "found 84 patterns from 596 for batch_idx 29\n",
      "start score sort for batch_idx 29 (84) patterns\n",
      "start merge rule for batch_idx 29 (84) patterns\n",
      "as_chirps for batch_idx 30\n",
      "start mining for batch_idx 30 with support = 0.3\n"
     ]
    },
    {
     "name": "stderr",
     "output_type": "stream",
     "text": [
      "/home/julianhatwell/Documents/github/explain_te/CHIRPS/structures.py:1445: RuntimeWarning: invalid value encountered in true_divide\n",
      "  np.histogram(uppers, upper_bins)[0]).round(5) # can result in nans if no value falls into bin\n",
      "/home/julianhatwell/Documents/github/explain_te/CHIRPS/structures.py:1450: RuntimeWarning: invalid value encountered in true_divide\n",
      "  np.histogram(lowers, lower_bins)[0]).round(5) # can result in nans\n"
     ]
    },
    {
     "name": "stdout",
     "output_type": "stream",
     "text": [
      "found 131 patterns from 558 for batch_idx 30\n",
      "start score sort for batch_idx 30 (131) patterns\n",
      "start merge rule for batch_idx 30 (131) patterns\n",
      "[('hoursperweek', True, 43.45321), ('occupation_Exec-managerial', True, 0.5), ('occupation_Prof-specialty', True, 0.5), ('occupation_Tech-support', True, 0.5), ('lcapitalgain', True, 8.401), ('lcapitalloss', True, 7.466), ('educationnum', True, 11.52778), ('workclass_Federal-gov', True, 0.5), ('workclass_Self-emp-inc', True, 0.5)]\n",
      "0.9494186428430664 0.40164919821190775 0.22251021071618038 0.2746982394095485\n",
      "merge complete for batch_idx 21 (145) patterns\n",
      "start get explainer for batch_idx 21\n",
      "as_chirps for batch_idx 31\n",
      "start mining for batch_idx 31 with support = 0.3\n"
     ]
    },
    {
     "name": "stderr",
     "output_type": "stream",
     "text": [
      "/home/julianhatwell/Documents/github/explain_te/CHIRPS/structures.py:1450: RuntimeWarning: invalid value encountered in true_divide\n",
      "  np.histogram(lowers, lower_bins)[0]).round(5) # can result in nans\n",
      "/home/julianhatwell/Documents/github/explain_te/CHIRPS/structures.py:1445: RuntimeWarning: invalid value encountered in true_divide\n",
      "  np.histogram(uppers, upper_bins)[0]).round(5) # can result in nans if no value falls into bin\n"
     ]
    },
    {
     "name": "stdout",
     "output_type": "stream",
     "text": [
      "found 11 patterns from 598 for batch_idx 31\n",
      "start score sort for batch_idx 31 (11) patterns\n",
      "start merge rule for batch_idx 31 (11) patterns\n",
      "[('educationnum', True, 9.75), ('lcapitalgain', True, 8.38703), ('hoursperweek', True, 43.87075), ('lcapitalloss', True, 7.4345)]\n",
      "0.9462759462759462 0.30908177996140535 0.22210881182136105 0.1593236484877353\n",
      "merge complete for batch_idx 25 (349) patterns\n",
      "start get explainer for batch_idx 25\n",
      "as_chirps for batch_idx 32\n",
      "start mining for batch_idx 32 with support = 0.3\n"
     ]
    },
    {
     "name": "stderr",
     "output_type": "stream",
     "text": [
      "/home/julianhatwell/Documents/github/explain_te/CHIRPS/structures.py:1445: RuntimeWarning: invalid value encountered in true_divide\n",
      "  np.histogram(uppers, upper_bins)[0]).round(5) # can result in nans if no value falls into bin\n",
      "/home/julianhatwell/Documents/github/explain_te/CHIRPS/structures.py:1450: RuntimeWarning: invalid value encountered in true_divide\n",
      "  np.histogram(lowers, lower_bins)[0]).round(5) # can result in nans\n"
     ]
    },
    {
     "name": "stdout",
     "output_type": "stream",
     "text": [
      "found 1158 patterns from 477 for batch_idx 32\n",
      "start score sort for batch_idx 32 (1158) patterns\n",
      "[('maritalstatus_Never-married', False, 0.5), ('educationnum', True, 12.49321)]\n",
      "0.9813964170877354 0.24943586097277318 0.7715567409787054 0.5326560232220611\n",
      "merge complete for batch_idx 31 (11) patterns\n",
      "start get explainer for batch_idx 31\n",
      "as_chirps for batch_idx 33\n",
      "start mining for batch_idx 33 with support = 0.3\n"
     ]
    },
    {
     "name": "stderr",
     "output_type": "stream",
     "text": [
      "/home/julianhatwell/Documents/github/explain_te/CHIRPS/structures.py:1450: RuntimeWarning: invalid value encountered in true_divide\n",
      "  np.histogram(lowers, lower_bins)[0]).round(5) # can result in nans\n",
      "/home/julianhatwell/Documents/github/explain_te/CHIRPS/structures.py:1445: RuntimeWarning: invalid value encountered in true_divide\n",
      "  np.histogram(uppers, upper_bins)[0]).round(5) # can result in nans if no value falls into bin\n"
     ]
    },
    {
     "name": "stdout",
     "output_type": "stream",
     "text": [
      "found 31 patterns from 511 for batch_idx 33\n",
      "start score sort for batch_idx 33 (31) patterns\n",
      "start merge rule for batch_idx 33 (31) patterns\n",
      "[('lcapitalgain', True, 8.4476), ('occupation_Handlers-cleaners', False, 0.5)]\n",
      "0.9514426460239268 0.04114703965817629 0.43789355250596923 0.40929276617609284\n",
      "merge complete for batch_idx 30 (131) patterns\n",
      "start get explainer for batch_idx 30\n",
      "as_chirps for batch_idx 34\n",
      "start mining for batch_idx 34 with support = 0.3\n"
     ]
    },
    {
     "name": "stderr",
     "output_type": "stream",
     "text": [
      "/home/julianhatwell/Documents/github/explain_te/CHIRPS/structures.py:1450: RuntimeWarning: invalid value encountered in true_divide\n",
      "  np.histogram(lowers, lower_bins)[0]).round(5) # can result in nans\n",
      "/home/julianhatwell/Documents/github/explain_te/CHIRPS/structures.py:1445: RuntimeWarning: invalid value encountered in true_divide\n",
      "  np.histogram(uppers, upper_bins)[0]).round(5) # can result in nans if no value falls into bin\n"
     ]
    },
    {
     "name": "stdout",
     "output_type": "stream",
     "text": [
      "reduced 2 patterns out of 267 by numeric redundancy\n",
      "found 265 patterns from 500 for batch_idx 34\n",
      "start score sort for batch_idx 34 (265) patterns\n",
      "start merge rule for batch_idx 34 (265) patterns\n",
      "[('educationnum', True, 12.71981), ('lcapitalgain', True, 8.76456), ('maritalstatus_Never-married', False, 0.5)]\n",
      "0.9869333950046254 0.249293793260188 0.36277069779839743 0.24894240156199154\n",
      "merge complete for batch_idx 28 (81) patterns\n",
      "start get explainer for batch_idx 28\n",
      "start merge rule for batch_idx 32 (1158) patterns\n",
      "[('educationnum', True, 8.46867), ('lcapitalgain', True, 8.47994), ('lcapitalloss', True, 7.45615)]\n",
      "0.9614507299270073 0.12543463056796295 0.3215518506716908 0.25609798531612094\n",
      "merge complete for batch_idx 27 (166) patterns\n",
      "start get explainer for batch_idx 27\n",
      "as_chirps for batch_idx 35\n",
      "start mining for batch_idx 35 with support = 0.3\n"
     ]
    },
    {
     "name": "stderr",
     "output_type": "stream",
     "text": [
      "/home/julianhatwell/Documents/github/explain_te/CHIRPS/structures.py:1450: RuntimeWarning: invalid value encountered in true_divide\n",
      "  np.histogram(lowers, lower_bins)[0]).round(5) # can result in nans\n",
      "/home/julianhatwell/Documents/github/explain_te/CHIRPS/structures.py:1445: RuntimeWarning: invalid value encountered in true_divide\n",
      "  np.histogram(uppers, upper_bins)[0]).round(5) # can result in nans if no value falls into bin\n"
     ]
    },
    {
     "name": "stdout",
     "output_type": "stream",
     "text": [
      "found 22 patterns from 591 for batch_idx 35\n",
      "start score sort for batch_idx 35 (22) patterns\n",
      "start merge rule for batch_idx 35 (22) patterns\n",
      "as_chirps for batch_idx 36\n",
      "start mining for batch_idx 36 with support = 0.3\n"
     ]
    },
    {
     "name": "stderr",
     "output_type": "stream",
     "text": [
      "/home/julianhatwell/Documents/github/explain_te/CHIRPS/structures.py:1445: RuntimeWarning: invalid value encountered in true_divide\n",
      "  np.histogram(uppers, upper_bins)[0]).round(5) # can result in nans if no value falls into bin\n",
      "/home/julianhatwell/Documents/github/explain_te/CHIRPS/structures.py:1450: RuntimeWarning: invalid value encountered in true_divide\n",
      "  np.histogram(lowers, lower_bins)[0]).round(5) # can result in nans\n"
     ]
    },
    {
     "name": "stdout",
     "output_type": "stream",
     "text": [
      "found 20 patterns from 378 for batch_idx 36\n",
      "start score sort for batch_idx 36 (20) patterns\n",
      "start merge rule for batch_idx 36 (20) patterns\n",
      "[('educationnum', False, 12.89636), ('maritalstatus_Married-civ-spouse', False, 0.5), ('occupation_Exec-managerial', False, 0.5), ('age', False, 26.41139), ('race_White', False, 0.5)]\n",
      "0.8524046434494196 0.03497755630542816 0.6511345496149887 0.32990559676331754\n",
      "merge complete for batch_idx 33 (31) patterns\n",
      "start get explainer for batch_idx 33\n",
      "as_chirps for batch_idx 37\n",
      "start mining for batch_idx 37 with support = 0.3\n"
     ]
    },
    {
     "name": "stderr",
     "output_type": "stream",
     "text": [
      "/home/julianhatwell/Documents/github/explain_te/CHIRPS/structures.py:1450: RuntimeWarning: invalid value encountered in true_divide\n",
      "  np.histogram(lowers, lower_bins)[0]).round(5) # can result in nans\n",
      "/home/julianhatwell/Documents/github/explain_te/CHIRPS/structures.py:1445: RuntimeWarning: invalid value encountered in true_divide\n",
      "  np.histogram(uppers, upper_bins)[0]).round(5) # can result in nans if no value falls into bin\n"
     ]
    },
    {
     "name": "stdout",
     "output_type": "stream",
     "text": [
      "found 28 patterns from 427 for batch_idx 37\n",
      "start score sort for batch_idx 37 (28) patterns\n",
      "start merge rule for batch_idx 37 (28) patterns\n",
      "[('educationnum', False, 10.68705), ('lcapitalloss', False, 7.50278), ('relationship_Husband', False, 0.5)]\n",
      "0.9445843828715366 0.011543635493956407 0.6476073315850464 0.32321601549886986\n",
      "merge complete for batch_idx 36 (20) patterns\n",
      "start get explainer for batch_idx 36\n",
      "[('lcapitalgain', True, 8.75902), ('maritalstatus_Married-civ-spouse', True, 0.5)]\n",
      "0.9521936627520496 0.4700518313758765 0.4187826471754157 0.4349341595662278\n",
      "merge complete for batch_idx 35 (22) patterns\n",
      "start get explainer for batch_idx 35\n",
      "as_chirps for batch_idx 38\n",
      "start mining for batch_idx 38 with support = 0.3\n"
     ]
    },
    {
     "name": "stderr",
     "output_type": "stream",
     "text": [
      "/home/julianhatwell/Documents/github/explain_te/CHIRPS/structures.py:1450: RuntimeWarning: invalid value encountered in true_divide\n",
      "  np.histogram(lowers, lower_bins)[0]).round(5) # can result in nans\n",
      "/home/julianhatwell/Documents/github/explain_te/CHIRPS/structures.py:1445: RuntimeWarning: invalid value encountered in true_divide\n",
      "  np.histogram(uppers, upper_bins)[0]).round(5) # can result in nans if no value falls into bin\n"
     ]
    },
    {
     "name": "stdout",
     "output_type": "stream",
     "text": [
      "found 35 patterns from 596 for batch_idx 38\n",
      "start score sort for batch_idx 38 (35) patterns\n",
      "start merge rule for batch_idx 38 (35) patterns\n",
      "as_chirps for batch_idx 39\n",
      "start mining for batch_idx 39 with support = 0.3\n"
     ]
    },
    {
     "name": "stderr",
     "output_type": "stream",
     "text": [
      "/home/julianhatwell/Documents/github/explain_te/CHIRPS/structures.py:1450: RuntimeWarning: invalid value encountered in true_divide\n",
      "  np.histogram(lowers, lower_bins)[0]).round(5) # can result in nans\n"
     ]
    },
    {
     "name": "stdout",
     "output_type": "stream",
     "text": [
      "found 27 patterns from 567 for batch_idx 39\n",
      "start score sort for batch_idx 39 (27) patterns\n",
      "start merge rule for batch_idx 39 (27) patterns\n",
      "[('educationnum', False, 9.20238), ('hoursperweek', False, 35.98551), ('relationship_Husband', False, 0.5), ('occupation_Other-service', True, 0.5), ('occupation_Machine-op-inspct', True, 0.5), ('occupation_Farming-fishing', True, 0.5), ('occupation_Handlers-cleaners', True, 0.5), ('occupation_Craft-repair', True, 0.5), ('occupation_Transport-moving', True, 0.5), ('occupation_Tech-support', True, 0.5), ('age', False, 39.45522), ('age', True, 60.42793), ('lfnlwgt', False, 11.93918), ('workclass_Private', False, 0.5), ('nativecountry_United-States', False, 0.5)]\n",
      "0.8598233995584988 0.026313425464307996 0.13468622413246054 0.08239273289524536\n",
      "merge complete for batch_idx 14 (425) patterns\n",
      "start get explainer for batch_idx 14\n",
      "[('lcapitalgain', True, 8.77237), ('maritalstatus_Never-married', False, 0.5), ('lcapitalloss', True, 7.61742)]\n",
      "0.96917183509668 0.30689098312018487 0.5783560473971135 0.46210448859455494\n",
      "merge complete for batch_idx 29 (84) patterns\n",
      "start get explainer for batch_idx 29\n",
      "as_chirps for batch_idx 40\n",
      "start mining for batch_idx 40 with support = 0.3\n"
     ]
    },
    {
     "name": "stderr",
     "output_type": "stream",
     "text": [
      "/home/julianhatwell/Documents/github/explain_te/CHIRPS/structures.py:1445: RuntimeWarning: invalid value encountered in true_divide\n",
      "  np.histogram(uppers, upper_bins)[0]).round(5) # can result in nans if no value falls into bin\n",
      "/home/julianhatwell/Documents/github/explain_te/CHIRPS/structures.py:1450: RuntimeWarning: invalid value encountered in true_divide\n",
      "  np.histogram(lowers, lower_bins)[0]).round(5) # can result in nans\n"
     ]
    },
    {
     "name": "stdout",
     "output_type": "stream",
     "text": [
      "found 217 patterns from 297 for batch_idx 40\n",
      "start score sort for batch_idx 40 (217) patterns\n",
      "as_chirps for batch_idx 41\n",
      "start mining for batch_idx 41 with support = 0.3\n"
     ]
    },
    {
     "name": "stderr",
     "output_type": "stream",
     "text": [
      "/home/julianhatwell/Documents/github/explain_te/CHIRPS/structures.py:1445: RuntimeWarning: invalid value encountered in true_divide\n",
      "  np.histogram(uppers, upper_bins)[0]).round(5) # can result in nans if no value falls into bin\n",
      "/home/julianhatwell/Documents/github/explain_te/CHIRPS/structures.py:1450: RuntimeWarning: invalid value encountered in true_divide\n",
      "  np.histogram(lowers, lower_bins)[0]).round(5) # can result in nans\n"
     ]
    },
    {
     "name": "stdout",
     "output_type": "stream",
     "text": [
      "found 79 patterns from 598 for batch_idx 41\n",
      "start score sort for batch_idx 41 (79) patterns\n",
      "start merge rule for batch_idx 40 (217) patterns\n",
      "start merge rule for batch_idx 41 (79) patterns\n",
      "[('age', True, 39.69712), ('educationnum', True, 9.66713), ('lcapitalgain', True, 8.38749), ('lcapitalloss', True, 7.44188)]\n",
      "0.955560864890694 0.23323844806281968 0.1537090918553131 0.14085960564047467\n",
      "merge complete for batch_idx 23 (635) patterns\n",
      "start get explainer for batch_idx 23\n",
      "as_chirps for batch_idx 42\n",
      "start mining for batch_idx 42 with support = 0.3\n"
     ]
    },
    {
     "name": "stderr",
     "output_type": "stream",
     "text": [
      "/home/julianhatwell/Documents/github/explain_te/CHIRPS/structures.py:1450: RuntimeWarning: invalid value encountered in true_divide\n",
      "  np.histogram(lowers, lower_bins)[0]).round(5) # can result in nans\n",
      "/home/julianhatwell/Documents/github/explain_te/CHIRPS/structures.py:1445: RuntimeWarning: invalid value encountered in true_divide\n",
      "  np.histogram(uppers, upper_bins)[0]).round(5) # can result in nans if no value falls into bin\n"
     ]
    },
    {
     "name": "stdout",
     "output_type": "stream",
     "text": [
      "found 43 patterns from 596 for batch_idx 42\n",
      "start score sort for batch_idx 42 (43) patterns\n",
      "start merge rule for batch_idx 42 (43) patterns\n",
      "[('maritalstatus_Married-civ-spouse', True, 0.5), ('educationnum', True, 12.67692), ('lcapitalloss', True, 7.61965), ('lcapitalgain', True, 8.68568)]\n",
      "0.9785754034501948 0.4040181287424267 0.6344907431890767 0.6212539851222104\n",
      "merge complete for batch_idx 37 (28) patterns\n",
      "start get explainer for batch_idx 37\n",
      "[('lcapitalgain', True, 8.48695), ('occupation_Other-service', False, 0.5)]\n",
      "0.9665492957746479 0.0981939674608284 0.447569771957284 0.31776014306471445\n",
      "merge complete for batch_idx 41 (79) patterns\n",
      "start get explainer for batch_idx 41\n",
      "as_chirps for batch_idx 43\n",
      "start mining for batch_idx 43 with support = 0.3\n"
     ]
    },
    {
     "name": "stderr",
     "output_type": "stream",
     "text": [
      "/home/julianhatwell/Documents/github/explain_te/CHIRPS/structures.py:1445: RuntimeWarning: invalid value encountered in true_divide\n",
      "  np.histogram(uppers, upper_bins)[0]).round(5) # can result in nans if no value falls into bin\n",
      "/home/julianhatwell/Documents/github/explain_te/CHIRPS/structures.py:1450: RuntimeWarning: invalid value encountered in true_divide\n",
      "  np.histogram(lowers, lower_bins)[0]).round(5) # can result in nans\n"
     ]
    },
    {
     "name": "stdout",
     "output_type": "stream",
     "text": [
      "found 26 patterns from 595 for batch_idx 43\n",
      "start score sort for batch_idx 43 (26) patterns\n",
      "start merge rule for batch_idx 43 (26) patterns\n",
      "as_chirps for batch_idx 44\n",
      "start mining for batch_idx 44 with support = 0.3\n"
     ]
    },
    {
     "name": "stderr",
     "output_type": "stream",
     "text": [
      "/home/julianhatwell/Documents/github/explain_te/CHIRPS/structures.py:1445: RuntimeWarning: invalid value encountered in true_divide\n",
      "  np.histogram(uppers, upper_bins)[0]).round(5) # can result in nans if no value falls into bin\n",
      "/home/julianhatwell/Documents/github/explain_te/CHIRPS/structures.py:1450: RuntimeWarning: invalid value encountered in true_divide\n",
      "  np.histogram(lowers, lower_bins)[0]).round(5) # can result in nans\n"
     ]
    },
    {
     "name": "stdout",
     "output_type": "stream",
     "text": [
      "found 15 patterns from 504 for batch_idx 44\n",
      "start score sort for batch_idx 44 (15) patterns\n",
      "start merge rule for batch_idx 44 (15) patterns\n",
      "[('maritalstatus_Never-married', False, 0.5), ('lcapitalgain', True, 8.96338), ('lcapitalloss', True, 7.64948)]\n",
      "0.9692167577413479 0.3073389174141023 0.4639880710166915 0.30551514349953707\n",
      "merge complete for batch_idx 38 (35) patterns\n",
      "start get explainer for batch_idx 38\n",
      "[('relationship_Own-child', False, 0.5)]\n",
      "0.9851823708206687 0.15240703040646597 0.3852964750094393 0.3146984924623116\n",
      "merge complete for batch_idx 44 (15) patterns\n",
      "start get explainer for batch_idx 44\n",
      "as_chirps for batch_idx 45\n",
      "start mining for batch_idx 45 with support = 0.3\n"
     ]
    },
    {
     "name": "stderr",
     "output_type": "stream",
     "text": [
      "/home/julianhatwell/Documents/github/explain_te/CHIRPS/structures.py:1450: RuntimeWarning: invalid value encountered in true_divide\n",
      "  np.histogram(lowers, lower_bins)[0]).round(5) # can result in nans\n",
      "/home/julianhatwell/Documents/github/explain_te/CHIRPS/structures.py:1445: RuntimeWarning: invalid value encountered in true_divide\n",
      "  np.histogram(uppers, upper_bins)[0]).round(5) # can result in nans if no value falls into bin\n"
     ]
    },
    {
     "name": "stdout",
     "output_type": "stream",
     "text": [
      "found 28 patterns from 598 for batch_idx 45\n",
      "start score sort for batch_idx 45 (28) patterns\n",
      "start merge rule for batch_idx 45 (28) patterns\n",
      "as_chirps for batch_idx 46\n",
      "start mining for batch_idx 46 with support = 0.3\n"
     ]
    },
    {
     "name": "stderr",
     "output_type": "stream",
     "text": [
      "/home/julianhatwell/Documents/github/explain_te/CHIRPS/structures.py:1450: RuntimeWarning: invalid value encountered in true_divide\n",
      "  np.histogram(lowers, lower_bins)[0]).round(5) # can result in nans\n"
     ]
    },
    {
     "name": "stdout",
     "output_type": "stream",
     "text": [
      "found 21 patterns from 599 for batch_idx 46\n",
      "start score sort for batch_idx 46 (21) patterns\n",
      "start merge rule for batch_idx 46 (21) patterns\n",
      "[('educationnum', True, 12.75857), ('maritalstatus_Married-civ-spouse', True, 0.5), ('maritalstatus_Divorced', True, 0.5), ('lcapitalgain', True, 8.68779), ('lcapitalloss', True, 7.60561)]\n",
      "0.9849554234769688 0.30845698130402893 0.6728256653676086 0.6241001028453891\n",
      "merge complete for batch_idx 39 (27) patterns\n",
      "start get explainer for batch_idx 39\n",
      "[('lcapitalgain', True, 8.73565), ('maritalstatus_Never-married', False, 0.5)]\n",
      "0.9665215024496462 0.3072431112309414 0.6237413926461141 0.4180506626404966\n",
      "merge complete for batch_idx 43 (26) patterns\n",
      "start get explainer for batch_idx 43\n",
      "as_chirps for batch_idx 47\n",
      "start mining for batch_idx 47 with support = 0.3\n"
     ]
    },
    {
     "name": "stderr",
     "output_type": "stream",
     "text": [
      "/home/julianhatwell/Documents/github/explain_te/CHIRPS/structures.py:1450: RuntimeWarning: invalid value encountered in true_divide\n",
      "  np.histogram(lowers, lower_bins)[0]).round(5) # can result in nans\n",
      "/home/julianhatwell/Documents/github/explain_te/CHIRPS/structures.py:1445: RuntimeWarning: invalid value encountered in true_divide\n",
      "  np.histogram(uppers, upper_bins)[0]).round(5) # can result in nans if no value falls into bin\n"
     ]
    },
    {
     "name": "stdout",
     "output_type": "stream",
     "text": [
      "found 57 patterns from 600 for batch_idx 47\n",
      "start score sort for batch_idx 47 (57) patterns\n",
      "start merge rule for batch_idx 47 (57) patterns\n",
      "as_chirps for batch_idx 48\n",
      "start mining for batch_idx 48 with support = 0.3\n"
     ]
    },
    {
     "name": "stderr",
     "output_type": "stream",
     "text": [
      "/home/julianhatwell/Documents/github/explain_te/CHIRPS/structures.py:1450: RuntimeWarning: invalid value encountered in true_divide\n",
      "  np.histogram(lowers, lower_bins)[0]).round(5) # can result in nans\n"
     ]
    },
    {
     "name": "stdout",
     "output_type": "stream",
     "text": [
      "found 48 patterns from 553 for batch_idx 48\n",
      "start score sort for batch_idx 48 (48) patterns\n",
      "start merge rule for batch_idx 48 (48) patterns\n",
      "[('lcapitalgain', True, 8.97195), ('maritalstatus_Never-married', False, 0.5), ('lcapitalloss', True, 7.65312)]\n",
      "0.9692167577413479 0.3073389174141023 0.4171758887218902 0.2629845174041946\n",
      "merge complete for batch_idx 42 (43) patterns\n",
      "start get explainer for batch_idx 42\n",
      "as_chirps for batch_idx 49\n",
      "start mining for batch_idx 49 with support = 0.3\n"
     ]
    },
    {
     "name": "stderr",
     "output_type": "stream",
     "text": [
      "/home/julianhatwell/Documents/github/explain_te/CHIRPS/structures.py:1445: RuntimeWarning: invalid value encountered in true_divide\n",
      "  np.histogram(uppers, upper_bins)[0]).round(5) # can result in nans if no value falls into bin\n",
      "/home/julianhatwell/Documents/github/explain_te/CHIRPS/structures.py:1450: RuntimeWarning: invalid value encountered in true_divide\n",
      "  np.histogram(lowers, lower_bins)[0]).round(5) # can result in nans\n"
     ]
    },
    {
     "name": "stdout",
     "output_type": "stream",
     "text": [
      "found 10 patterns from 590 for batch_idx 49\n",
      "start score sort for batch_idx 49 (10) patterns\n",
      "start merge rule for batch_idx 49 (10) patterns\n",
      "[('educationnum', True, 12.80994), ('maritalstatus_Married-civ-spouse', True, 0.5)]\n",
      "0.9686387291153109 0.40227356135279374 0.47666203647015803 0.2948960302457467\n",
      "merge complete for batch_idx 45 (28) patterns\n",
      "start get explainer for batch_idx 45\n",
      "[('educationnum', True, 7.99737), ('lcapitalgain', True, 8.38842), ('lcapitalloss', True, 7.46683), ('occupation_Exec-managerial', True, 0.5), ('workclass_Self-emp-inc', True, 0.5)]\n",
      "0.9672698243746674 0.10815853264801352 0.32321187400659923 0.20097085347226581\n",
      "merge complete for batch_idx 34 (265) patterns\n",
      "start get explainer for batch_idx 34\n",
      "as_chirps for batch_idx 50\n",
      "start mining for batch_idx 50 with support = 0.3\n"
     ]
    },
    {
     "name": "stderr",
     "output_type": "stream",
     "text": [
      "/home/julianhatwell/Documents/github/explain_te/CHIRPS/structures.py:1445: RuntimeWarning: invalid value encountered in true_divide\n",
      "  np.histogram(uppers, upper_bins)[0]).round(5) # can result in nans if no value falls into bin\n",
      "/home/julianhatwell/Documents/github/explain_te/CHIRPS/structures.py:1450: RuntimeWarning: invalid value encountered in true_divide\n",
      "  np.histogram(lowers, lower_bins)[0]).round(5) # can result in nans\n"
     ]
    },
    {
     "name": "stdout",
     "output_type": "stream",
     "text": [
      "as_chirps for batch_idx 51\n",
      "start mining for batch_idx 51 with support = 0.3\n"
     ]
    },
    {
     "name": "stderr",
     "output_type": "stream",
     "text": [
      "/home/julianhatwell/Documents/github/explain_te/CHIRPS/structures.py:1450: RuntimeWarning: invalid value encountered in true_divide\n",
      "  np.histogram(lowers, lower_bins)[0]).round(5) # can result in nans\n",
      "/home/julianhatwell/Documents/github/explain_te/CHIRPS/structures.py:1445: RuntimeWarning: invalid value encountered in true_divide\n",
      "  np.histogram(uppers, upper_bins)[0]).round(5) # can result in nans if no value falls into bin\n"
     ]
    },
    {
     "name": "stdout",
     "output_type": "stream",
     "text": [
      "found 19 patterns from 329 for batch_idx 51\n",
      "start score sort for batch_idx 51 (19) patterns\n",
      "start merge rule for batch_idx 51 (19) patterns\n",
      "[('lcapitalgain', True, 8.79337), ('maritalstatus_Married-civ-spouse', True, 0.5), ('educationnum', True, 12.49839)]\n",
      "0.9768906109458244 0.40478382256799106 0.6981763903143595 0.6481409759876064\n",
      "merge complete for batch_idx 46 (21) patterns\n",
      "start get explainer for batch_idx 46\n",
      "found 915 patterns from 512 for batch_idx 50\n",
      "start score sort for batch_idx 50 (915) patterns\n",
      "as_chirps for batch_idx 52\n",
      "start mining for batch_idx 52 with support = 0.3\n"
     ]
    },
    {
     "name": "stderr",
     "output_type": "stream",
     "text": [
      "/home/julianhatwell/Documents/github/explain_te/CHIRPS/structures.py:1450: RuntimeWarning: invalid value encountered in true_divide\n",
      "  np.histogram(lowers, lower_bins)[0]).round(5) # can result in nans\n",
      "/home/julianhatwell/Documents/github/explain_te/CHIRPS/structures.py:1445: RuntimeWarning: invalid value encountered in true_divide\n",
      "  np.histogram(uppers, upper_bins)[0]).round(5) # can result in nans if no value falls into bin\n"
     ]
    },
    {
     "name": "stdout",
     "output_type": "stream",
     "text": [
      "found 16 patterns from 600 for batch_idx 52\n",
      "start score sort for batch_idx 52 (16) patterns\n",
      "start merge rule for batch_idx 52 (16) patterns\n",
      "[('maritalstatus_Never-married', False, 0.5), ('educationnum', True, 12.5), ('lcapitalgain', True, 9.03497)]\n",
      "0.9869439630271519 0.24949562723576302 0.9633926654223584 0.621771950735002\n",
      "merge complete for batch_idx 49 (10) patterns\n",
      "start get explainer for batch_idx 49\n",
      "as_chirps for batch_idx 53\n",
      "start mining for batch_idx 53 with support = 0.3\n"
     ]
    },
    {
     "name": "stderr",
     "output_type": "stream",
     "text": [
      "/home/julianhatwell/Documents/github/explain_te/CHIRPS/structures.py:1450: RuntimeWarning: invalid value encountered in true_divide\n",
      "  np.histogram(lowers, lower_bins)[0]).round(5) # can result in nans\n",
      "/home/julianhatwell/Documents/github/explain_te/CHIRPS/structures.py:1445: RuntimeWarning: invalid value encountered in true_divide\n",
      "  np.histogram(uppers, upper_bins)[0]).round(5) # can result in nans if no value falls into bin\n"
     ]
    },
    {
     "name": "stdout",
     "output_type": "stream",
     "text": [
      "found 17 patterns from 567 for batch_idx 53\n",
      "start score sort for batch_idx 53 (17) patterns\n",
      "start merge rule for batch_idx 53 (17) patterns\n",
      "start merge rule for batch_idx 50 (915) patterns\n",
      "[('relationship_Other-relative', False, 0.5), ('lcapitalgain', True, 8.56553)]\n",
      "0.9708372530573848 0.030916117052300515 0.4806621767169663 0.4399047996826656\n",
      "merge complete for batch_idx 51 (19) patterns\n",
      "start get explainer for batch_idx 51\n",
      "[('maritalstatus_Never-married', False, 0.5)]\n",
      "0.9550782997762863 0.30597736258241237 0.691454921465234 0.46255184191266163\n",
      "merge complete for batch_idx 52 (16) patterns\n",
      "start get explainer for batch_idx 52\n",
      "as_chirps for batch_idx 54\n",
      "start mining for batch_idx 54 with support = 0.3\n",
      "as_chirps for batch_idx 55\n",
      "start mining for batch_idx 55 with support = 0.3\n"
     ]
    },
    {
     "name": "stderr",
     "output_type": "stream",
     "text": [
      "/home/julianhatwell/Documents/github/explain_te/CHIRPS/structures.py:1445: RuntimeWarning: invalid value encountered in true_divide\n",
      "  np.histogram(uppers, upper_bins)[0]).round(5) # can result in nans if no value falls into bin\n",
      "/home/julianhatwell/Documents/github/explain_te/CHIRPS/structures.py:1450: RuntimeWarning: invalid value encountered in true_divide\n",
      "  np.histogram(lowers, lower_bins)[0]).round(5) # can result in nans\n"
     ]
    },
    {
     "name": "stdout",
     "output_type": "stream",
     "text": [
      "found 13 patterns from 598 for batch_idx 55\n",
      "start score sort for batch_idx 55 (13) patterns\n"
     ]
    },
    {
     "name": "stderr",
     "output_type": "stream",
     "text": [
      "/home/julianhatwell/Documents/github/explain_te/CHIRPS/structures.py:1445: RuntimeWarning: invalid value encountered in true_divide\n",
      "  np.histogram(uppers, upper_bins)[0]).round(5) # can result in nans if no value falls into bin\n",
      "/home/julianhatwell/Documents/github/explain_te/CHIRPS/structures.py:1450: RuntimeWarning: invalid value encountered in true_divide\n",
      "  np.histogram(lowers, lower_bins)[0]).round(5) # can result in nans\n"
     ]
    },
    {
     "name": "stdout",
     "output_type": "stream",
     "text": [
      "start merge rule for batch_idx 55 (13) patterns\n",
      "found 21 patterns from 590 for batch_idx 54\n",
      "start score sort for batch_idx 54 (21) patterns\n",
      "[('hoursperweek', True, 42.63372), ('lcapitalgain', True, 8.4156), ('occupation_Exec-managerial', True, 0.5), ('occupation_Prof-specialty', True, 0.5), ('occupation_Sales', True, 0.5), ('occupation_Craft-repair', True, 0.5), ('occupation_Transport-moving', True, 0.5), ('occupation_Tech-support', True, 0.5), ('lcapitalloss', True, 7.4652), ('educationnum', True, 13.49457)]\n",
      "0.9426795580110497 0.31019379128882446 0.03135157282962099 0.1268479573564321\n",
      "merge complete for batch_idx 40 (217) patterns\n",
      "start get explainer for batch_idx 40\n",
      "start merge rule for batch_idx 54 (21) patterns\n",
      "as_chirps for batch_idx 56\n",
      "start mining for batch_idx 56 with support = 0.3\n"
     ]
    },
    {
     "name": "stderr",
     "output_type": "stream",
     "text": [
      "/home/julianhatwell/Documents/github/explain_te/CHIRPS/structures.py:1450: RuntimeWarning: invalid value encountered in true_divide\n",
      "  np.histogram(lowers, lower_bins)[0]).round(5) # can result in nans\n"
     ]
    },
    {
     "name": "stdout",
     "output_type": "stream",
     "text": [
      "found 76 patterns from 401 for batch_idx 56\n",
      "start score sort for batch_idx 56 (76) patterns\n",
      "start merge rule for batch_idx 56 (76) patterns\n",
      "[('lcapitalgain', False, 8.53555), ('relationship_Husband', False, 0.5)]\n",
      "0.9872262773722628 0.03198120739094067 0.37456347027380354 0.3020951302378256\n",
      "merge complete for batch_idx 55 (13) patterns\n",
      "start get explainer for batch_idx 55\n",
      "as_chirps for batch_idx 57\n",
      "start mining for batch_idx 57 with support = 0.3\n",
      "[('educationnum', True, 12.65517), ('maritalstatus_Married-civ-spouse', True, 0.5), ('lcapitalgain', True, 8.7679), ('lcapitalloss', True, 7.6328)]\n",
      "0.9785073381094804 0.4039927273361834 0.65747817700707 0.5597231972720892\n",
      "merge complete for batch_idx 48 (48) patterns\n",
      "start get explainer for batch_idx 48\n"
     ]
    },
    {
     "name": "stderr",
     "output_type": "stream",
     "text": [
      "/home/julianhatwell/Documents/github/explain_te/CHIRPS/structures.py:1445: RuntimeWarning: invalid value encountered in true_divide\n",
      "  np.histogram(uppers, upper_bins)[0]).round(5) # can result in nans if no value falls into bin\n",
      "/home/julianhatwell/Documents/github/explain_te/CHIRPS/structures.py:1450: RuntimeWarning: invalid value encountered in true_divide\n",
      "  np.histogram(lowers, lower_bins)[0]).round(5) # can result in nans\n"
     ]
    },
    {
     "name": "stdout",
     "output_type": "stream",
     "text": [
      "[('educationnum', True, 12.66608), ('maritalstatus_Married-civ-spouse', True, 0.5), ('lcapitalgain', True, 8.75052)]\n",
      "0.9768826135105205 0.4046437686538785 0.785784583821791 0.5101129498292619\n",
      "merge complete for batch_idx 53 (17) patterns\n",
      "start get explainer for batch_idx 53\n",
      "as_chirps for batch_idx 58\n",
      "start mining for batch_idx 58 with support = 0.3\n"
     ]
    },
    {
     "name": "stderr",
     "output_type": "stream",
     "text": [
      "/home/julianhatwell/Documents/github/explain_te/CHIRPS/structures.py:1450: RuntimeWarning: invalid value encountered in true_divide\n",
      "  np.histogram(lowers, lower_bins)[0]).round(5) # can result in nans\n"
     ]
    },
    {
     "name": "stdout",
     "output_type": "stream",
     "text": [
      "found 609 patterns from 444 for batch_idx 57\n",
      "start score sort for batch_idx 57 (609) patterns\n"
     ]
    },
    {
     "name": "stderr",
     "output_type": "stream",
     "text": [
      "/home/julianhatwell/Documents/github/explain_te/CHIRPS/structures.py:1445: RuntimeWarning: invalid value encountered in true_divide\n",
      "  np.histogram(uppers, upper_bins)[0]).round(5) # can result in nans if no value falls into bin\n"
     ]
    },
    {
     "name": "stdout",
     "output_type": "stream",
     "text": [
      "found 16 patterns from 535 for batch_idx 58\n",
      "start score sort for batch_idx 58 (16) patterns\n",
      "start merge rule for batch_idx 58 (16) patterns\n",
      "as_chirps for batch_idx 59\n",
      "start mining for batch_idx 59 with support = 0.3\n",
      "[('relationship_Other-relative', False, 0.5), ('lcapitalgain', True, 8.52018)]\n",
      "0.9717514124293786 0.030890924098394505 0.4067120006651672 0.3120638085742772\n",
      "merge complete for batch_idx 54 (21) patterns\n",
      "start get explainer for batch_idx 54\n"
     ]
    },
    {
     "name": "stderr",
     "output_type": "stream",
     "text": [
      "/home/julianhatwell/Documents/github/explain_te/CHIRPS/structures.py:1445: RuntimeWarning: invalid value encountered in true_divide\n",
      "  np.histogram(uppers, upper_bins)[0]).round(5) # can result in nans if no value falls into bin\n",
      "/home/julianhatwell/Documents/github/explain_te/CHIRPS/structures.py:1450: RuntimeWarning: invalid value encountered in true_divide\n",
      "  np.histogram(lowers, lower_bins)[0]).round(5) # can result in nans\n"
     ]
    },
    {
     "name": "stdout",
     "output_type": "stream",
     "text": [
      "found 529 patterns from 441 for batch_idx 59\n",
      "start score sort for batch_idx 59 (529) patterns\n",
      "as_chirps for batch_idx 60\n",
      "start mining for batch_idx 60 with support = 0.3\n"
     ]
    },
    {
     "name": "stderr",
     "output_type": "stream",
     "text": [
      "/home/julianhatwell/Documents/github/explain_te/CHIRPS/structures.py:1445: RuntimeWarning: invalid value encountered in true_divide\n",
      "  np.histogram(uppers, upper_bins)[0]).round(5) # can result in nans if no value falls into bin\n",
      "/home/julianhatwell/Documents/github/explain_te/CHIRPS/structures.py:1450: RuntimeWarning: invalid value encountered in true_divide\n",
      "  np.histogram(lowers, lower_bins)[0]).round(5) # can result in nans\n"
     ]
    },
    {
     "name": "stdout",
     "output_type": "stream",
     "text": [
      "found 91 patterns from 524 for batch_idx 60\n",
      "start score sort for batch_idx 60 (91) patterns\n",
      "start merge rule for batch_idx 60 (91) patterns\n",
      "start merge rule for batch_idx 57 (609) patterns\n",
      "start merge rule for batch_idx 59 (529) patterns\n",
      "[('educationnum', True, 12.7112), ('maritalstatus_Married-civ-spouse', True, 0.5), ('lcapitalgain', True, 8.80821), ('lcapitalloss', True, 7.6266)]\n",
      "0.9784467774455955 0.4041078190829062 0.4887879644041976 0.38608138717488094\n",
      "merge complete for batch_idx 47 (57) patterns\n",
      "start get explainer for batch_idx 47\n",
      "as_chirps for batch_idx 61\n",
      "start mining for batch_idx 61 with support = 0.3\n"
     ]
    },
    {
     "name": "stderr",
     "output_type": "stream",
     "text": [
      "/home/julianhatwell/Documents/github/explain_te/CHIRPS/structures.py:1445: RuntimeWarning: invalid value encountered in true_divide\n",
      "  np.histogram(uppers, upper_bins)[0]).round(5) # can result in nans if no value falls into bin\n",
      "/home/julianhatwell/Documents/github/explain_te/CHIRPS/structures.py:1450: RuntimeWarning: invalid value encountered in true_divide\n",
      "  np.histogram(lowers, lower_bins)[0]).round(5) # can result in nans\n"
     ]
    },
    {
     "name": "stdout",
     "output_type": "stream",
     "text": [
      "found 492 patterns from 590 for batch_idx 61\n",
      "start score sort for batch_idx 61 (492) patterns\n",
      "[('relationship_Husband', True, 0.5), ('lcapitalgain', True, 8.53613), ('occupation_Exec-managerial', True, 0.5), ('occupation_Prof-specialty', True, 0.5), ('lcapitalloss', True, 7.51419)]\n",
      "0.9596103896103896 0.4148027528692124 0.3635694373688032 0.49478308621636474\n",
      "merge complete for batch_idx 58 (16) patterns\n",
      "start get explainer for batch_idx 58\n",
      "as_chirps for batch_idx 62\n",
      "start mining for batch_idx 62 with support = 0.3\n"
     ]
    },
    {
     "name": "stderr",
     "output_type": "stream",
     "text": [
      "/home/julianhatwell/Documents/github/explain_te/CHIRPS/structures.py:1445: RuntimeWarning: invalid value encountered in true_divide\n",
      "  np.histogram(uppers, upper_bins)[0]).round(5) # can result in nans if no value falls into bin\n",
      "/home/julianhatwell/Documents/github/explain_te/CHIRPS/structures.py:1450: RuntimeWarning: invalid value encountered in true_divide\n",
      "  np.histogram(lowers, lower_bins)[0]).round(5) # can result in nans\n"
     ]
    },
    {
     "name": "stdout",
     "output_type": "stream",
     "text": [
      "found 20 patterns from 498 for batch_idx 62\n",
      "start score sort for batch_idx 62 (20) patterns\n",
      "start merge rule for batch_idx 62 (20) patterns\n",
      "start merge rule for batch_idx 61 (492) patterns\n",
      "[('lcapitalgain', True, 8.71684), ('maritalstatus_Never-married', False, 0.5), ('occupation_Prof-specialty', True, 0.5), ('occupation_Exec-managerial', True, 0.5)]\n",
      "0.9848603790512505 0.25631991751957917 0.17809980960274305 0.17383259911894264\n",
      "merge complete for batch_idx 56 (76) patterns\n",
      "start get explainer for batch_idx 56\n",
      "as_chirps for batch_idx 63\n",
      "start mining for batch_idx 63 with support = 0.3\n"
     ]
    },
    {
     "name": "stderr",
     "output_type": "stream",
     "text": [
      "/home/julianhatwell/Documents/github/explain_te/CHIRPS/structures.py:1450: RuntimeWarning: invalid value encountered in true_divide\n",
      "  np.histogram(lowers, lower_bins)[0]).round(5) # can result in nans\n",
      "/home/julianhatwell/Documents/github/explain_te/CHIRPS/structures.py:1445: RuntimeWarning: invalid value encountered in true_divide\n",
      "  np.histogram(uppers, upper_bins)[0]).round(5) # can result in nans if no value falls into bin\n"
     ]
    },
    {
     "name": "stdout",
     "output_type": "stream",
     "text": [
      "found 19 patterns from 599 for batch_idx 63\n",
      "start score sort for batch_idx 63 (19) patterns\n",
      "start merge rule for batch_idx 63 (19) patterns\n",
      "[('relationship_Unmarried', False, 0.5), ('lcapitalgain', True, 8.86963)]\n",
      "0.9535805264647609 0.10114049708378159 0.31468864890905757 0.3822277847309137\n",
      "merge complete for batch_idx 62 (20) patterns\n",
      "start get explainer for batch_idx 62\n",
      "as_chirps for batch_idx 64\n",
      "start mining for batch_idx 64 with support = 0.3\n"
     ]
    },
    {
     "name": "stderr",
     "output_type": "stream",
     "text": [
      "/home/julianhatwell/Documents/github/explain_te/CHIRPS/structures.py:1445: RuntimeWarning: invalid value encountered in true_divide\n",
      "  np.histogram(uppers, upper_bins)[0]).round(5) # can result in nans if no value falls into bin\n",
      "/home/julianhatwell/Documents/github/explain_te/CHIRPS/structures.py:1450: RuntimeWarning: invalid value encountered in true_divide\n",
      "  np.histogram(lowers, lower_bins)[0]).round(5) # can result in nans\n"
     ]
    },
    {
     "name": "stdout",
     "output_type": "stream",
     "text": [
      "found 28 patterns from 599 for batch_idx 64\n",
      "start score sort for batch_idx 64 (28) patterns\n",
      "start merge rule for batch_idx 64 (28) patterns\n",
      "[('lcapitalgain', True, 8.7562), ('maritalstatus_Never-married', False, 0.5), ('lcapitalloss', True, 7.56573), ('educationnum', True, 13.5)]\n",
      "0.9783216109451778 0.29487823226938664 0.29041843754966357 0.21091290661070308\n",
      "merge complete for batch_idx 60 (91) patterns\n",
      "start get explainer for batch_idx 60\n",
      "as_chirps for batch_idx 65\n",
      "start mining for batch_idx 65 with support = 0.3\n"
     ]
    },
    {
     "name": "stderr",
     "output_type": "stream",
     "text": [
      "/home/julianhatwell/Documents/github/explain_te/CHIRPS/structures.py:1445: RuntimeWarning: invalid value encountered in true_divide\n",
      "  np.histogram(uppers, upper_bins)[0]).round(5) # can result in nans if no value falls into bin\n",
      "/home/julianhatwell/Documents/github/explain_te/CHIRPS/structures.py:1450: RuntimeWarning: invalid value encountered in true_divide\n",
      "  np.histogram(lowers, lower_bins)[0]).round(5) # can result in nans\n"
     ]
    },
    {
     "name": "stdout",
     "output_type": "stream",
     "text": [
      "found 248 patterns from 366 for batch_idx 65\n",
      "start score sort for batch_idx 65 (248) patterns\n",
      "start merge rule for batch_idx 65 (248) patterns\n",
      "[('hoursperweek', True, 43.39688), ('maritalstatus_Married-civ-spouse', True, 0.5), ('lcapitalloss', True, 7.62043), ('lcapitalgain', True, 8.52135)]\n",
      "0.9759203841603452 0.4017891665116675 0.7609753863405638 0.5439892545332436\n",
      "merge complete for batch_idx 63 (19) patterns\n",
      "start get explainer for batch_idx 63\n",
      "[('educationnum', True, 9.5), ('hoursperweek', True, 43.36858), ('lcapitalgain', True, 8.38101), ('lcapitalloss', True, 7.432)]\n",
      "0.9477592382283567 0.3093363635454026 0.37244674620248486 0.37273825966850826\n",
      "merge complete for batch_idx 50 (915) patterns\n",
      "start get explainer for batch_idx 50\n",
      "as_chirps for batch_idx 66\n",
      "start mining for batch_idx 66 with support = 0.3\n"
     ]
    },
    {
     "name": "stderr",
     "output_type": "stream",
     "text": [
      "/home/julianhatwell/Documents/github/explain_te/CHIRPS/structures.py:1445: RuntimeWarning: invalid value encountered in true_divide\n",
      "  np.histogram(uppers, upper_bins)[0]).round(5) # can result in nans if no value falls into bin\n",
      "/home/julianhatwell/Documents/github/explain_te/CHIRPS/structures.py:1450: RuntimeWarning: invalid value encountered in true_divide\n",
      "  np.histogram(lowers, lower_bins)[0]).round(5) # can result in nans\n"
     ]
    },
    {
     "name": "stdout",
     "output_type": "stream",
     "text": [
      "[('maritalstatus_Married-civ-spouse', True, 0.5), ('lcapitalgain', True, 8.70778), ('educationnum', True, 12.66279)]\n",
      "0.9769502318820517 0.40466952740698575 0.6620267957446649 0.5037243947858474\n",
      "merge complete for batch_idx 64 (28) patterns\n",
      "start get explainer for batch_idx 64\n",
      "as_chirps for batch_idx 67\n",
      "start mining for batch_idx 67 with support = 0.3\n"
     ]
    },
    {
     "name": "stderr",
     "output_type": "stream",
     "text": [
      "/home/julianhatwell/Documents/github/explain_te/CHIRPS/structures.py:1450: RuntimeWarning: invalid value encountered in true_divide\n",
      "  np.histogram(lowers, lower_bins)[0]).round(5) # can result in nans\n"
     ]
    },
    {
     "name": "stdout",
     "output_type": "stream",
     "text": [
      "reduced 5 patterns out of 408 by numeric redundancy\n",
      "found 403 patterns from 314 for batch_idx 66\n",
      "start score sort for batch_idx 66 (403) patterns\n",
      "found 80 patterns from 596 for batch_idx 67\n",
      "start score sort for batch_idx 67 (80) patterns\n",
      "as_chirps for batch_idx 68\n",
      "start mining for batch_idx 68 with support = 0.3\n"
     ]
    },
    {
     "name": "stderr",
     "output_type": "stream",
     "text": [
      "/home/julianhatwell/Documents/github/explain_te/CHIRPS/structures.py:1450: RuntimeWarning: invalid value encountered in true_divide\n",
      "  np.histogram(lowers, lower_bins)[0]).round(5) # can result in nans\n",
      "/home/julianhatwell/Documents/github/explain_te/CHIRPS/structures.py:1445: RuntimeWarning: invalid value encountered in true_divide\n",
      "  np.histogram(uppers, upper_bins)[0]).round(5) # can result in nans if no value falls into bin\n"
     ]
    },
    {
     "name": "stdout",
     "output_type": "stream",
     "text": [
      "start merge rule for batch_idx 67 (80) patterns\n",
      "found 56 patterns from 597 for batch_idx 68\n",
      "start score sort for batch_idx 68 (56) patterns\n",
      "start merge rule for batch_idx 68 (56) patterns\n",
      "start merge rule for batch_idx 66 (403) patterns\n",
      "[('hoursperweek', True, 43.10309), ('lcapitalgain', True, 8.37102), ('lcapitalloss', True, 7.4365), ('occupation_Exec-managerial', True, 0.5), ('occupation_Prof-specialty', True, 0.5), ('occupation_Tech-support', True, 0.5), ('occupation_Protective-serv', True, 0.5), ('occupation_Farming-fishing', True, 0.5), ('occupation_Transport-moving', True, 0.5), ('occupation_Adm-clerical', True, 0.5), ('occupation_Sales', True, 0.5), ('educationnum', True, 10.5034)]\n",
      "0.9637271937445699 0.2578672666639627 0.1326364081347021 0.12310067001922109\n",
      "merge complete for batch_idx 32 (1158) patterns\n",
      "start get explainer for batch_idx 32\n",
      "as_chirps for batch_idx 69\n",
      "start mining for batch_idx 69 with support = 0.3\n"
     ]
    },
    {
     "name": "stderr",
     "output_type": "stream",
     "text": [
      "/home/julianhatwell/Documents/github/explain_te/CHIRPS/structures.py:1450: RuntimeWarning: invalid value encountered in true_divide\n",
      "  np.histogram(lowers, lower_bins)[0]).round(5) # can result in nans\n",
      "/home/julianhatwell/Documents/github/explain_te/CHIRPS/structures.py:1445: RuntimeWarning: invalid value encountered in true_divide\n",
      "  np.histogram(uppers, upper_bins)[0]).round(5) # can result in nans if no value falls into bin\n"
     ]
    },
    {
     "name": "stdout",
     "output_type": "stream",
     "text": [
      "found 25 patterns from 583 for batch_idx 69\n",
      "start score sort for batch_idx 69 (25) patterns\n",
      "start merge rule for batch_idx 69 (25) patterns\n",
      "[('lcapitalgain', True, 8.76859), ('maritalstatus_Never-married', False, 0.5)]\n",
      "0.9665215024496462 0.3072431112309414 0.5133909215041147 0.356124458448208\n",
      "merge complete for batch_idx 68 (56) patterns\n",
      "start get explainer for batch_idx 68\n",
      "as_chirps for batch_idx 70\n",
      "start mining for batch_idx 70 with support = 0.3\n"
     ]
    },
    {
     "name": "stderr",
     "output_type": "stream",
     "text": [
      "/home/julianhatwell/Documents/github/explain_te/CHIRPS/structures.py:1450: RuntimeWarning: invalid value encountered in true_divide\n",
      "  np.histogram(lowers, lower_bins)[0]).round(5) # can result in nans\n",
      "/home/julianhatwell/Documents/github/explain_te/CHIRPS/structures.py:1445: RuntimeWarning: invalid value encountered in true_divide\n",
      "  np.histogram(uppers, upper_bins)[0]).round(5) # can result in nans if no value falls into bin\n"
     ]
    },
    {
     "name": "stdout",
     "output_type": "stream",
     "text": [
      "found 30 patterns from 583 for batch_idx 70\n",
      "start score sort for batch_idx 70 (30) patterns\n",
      "start merge rule for batch_idx 70 (30) patterns\n",
      "[('lcapitalgain', True, 8.46452), ('educationnum', True, 8.00235)]\n",
      "0.957752808988764 0.127009294413257 0.6049622435194885 0.36793867688718535\n",
      "merge complete for batch_idx 69 (25) patterns\n",
      "start get explainer for batch_idx 69\n",
      "as_chirps for batch_idx 71\n",
      "start mining for batch_idx 71 with support = 0.3\n"
     ]
    },
    {
     "name": "stderr",
     "output_type": "stream",
     "text": [
      "/home/julianhatwell/Documents/github/explain_te/CHIRPS/structures.py:1445: RuntimeWarning: invalid value encountered in true_divide\n",
      "  np.histogram(uppers, upper_bins)[0]).round(5) # can result in nans if no value falls into bin\n",
      "/home/julianhatwell/Documents/github/explain_te/CHIRPS/structures.py:1450: RuntimeWarning: invalid value encountered in true_divide\n",
      "  np.histogram(lowers, lower_bins)[0]).round(5) # can result in nans\n"
     ]
    },
    {
     "name": "stdout",
     "output_type": "stream",
     "text": [
      "found 188 patterns from 502 for batch_idx 71\n",
      "start score sort for batch_idx 71 (188) patterns\n",
      "start merge rule for batch_idx 71 (188) patterns\n",
      "[('lcapitalgain', True, 8.6906), ('maritalstatus_Married-civ-spouse', True, 0.5), ('educationnum', True, 12.81579)]\n",
      "0.9769502318820517 0.40466952740698575 0.7244391909338586 0.503475238922676\n",
      "merge complete for batch_idx 70 (30) patterns\n",
      "start get explainer for batch_idx 70\n",
      "as_chirps for batch_idx 72\n",
      "start mining for batch_idx 72 with support = 0.3\n"
     ]
    },
    {
     "name": "stderr",
     "output_type": "stream",
     "text": [
      "/home/julianhatwell/Documents/github/explain_te/CHIRPS/structures.py:1445: RuntimeWarning: invalid value encountered in true_divide\n",
      "  np.histogram(uppers, upper_bins)[0]).round(5) # can result in nans if no value falls into bin\n",
      "/home/julianhatwell/Documents/github/explain_te/CHIRPS/structures.py:1450: RuntimeWarning: invalid value encountered in true_divide\n",
      "  np.histogram(lowers, lower_bins)[0]).round(5) # can result in nans\n"
     ]
    },
    {
     "name": "stdout",
     "output_type": "stream",
     "text": [
      "found 117 patterns from 394 for batch_idx 72\n",
      "start score sort for batch_idx 72 (117) patterns\n",
      "start merge rule for batch_idx 72 (117) patterns\n",
      "[('lcapitalgain', True, 8.71835), ('maritalstatus_Never-married', False, 0.5), ('lcapitalloss', True, 7.63577)]\n",
      "0.96917183509668 0.30689098312018487 0.6621187789485669 0.5538992101457336\n",
      "merge complete for batch_idx 67 (80) patterns\n",
      "start get explainer for batch_idx 67\n",
      "[('educationnum', True, 9.73855), ('hoursperweek', True, 43.625), ('lcapitalgain', True, 8.50702), ('lcapitalloss', True, 7.45292), ('workclass_Self-emp-inc', True, 0.5), ('workclass_Federal-gov', True, 0.5), ('workclass_Local-gov', True, 0.5)]\n",
      "0.955893536121673 0.2895276776759875 0.22261439528053523 0.16027820526585768\n",
      "merge complete for batch_idx 59 (529) patterns\n",
      "start get explainer for batch_idx 59\n",
      "as_chirps for batch_idx 73\n",
      "start mining for batch_idx 73 with support = 0.3\n"
     ]
    },
    {
     "name": "stderr",
     "output_type": "stream",
     "text": [
      "/home/julianhatwell/Documents/github/explain_te/CHIRPS/structures.py:1445: RuntimeWarning: invalid value encountered in true_divide\n",
      "  np.histogram(uppers, upper_bins)[0]).round(5) # can result in nans if no value falls into bin\n",
      "/home/julianhatwell/Documents/github/explain_te/CHIRPS/structures.py:1450: RuntimeWarning: invalid value encountered in true_divide\n",
      "  np.histogram(lowers, lower_bins)[0]).round(5) # can result in nans\n"
     ]
    },
    {
     "name": "stdout",
     "output_type": "stream",
     "text": [
      "reduced 1 patterns out of 209 by numeric redundancy\n",
      "found 208 patterns from 471 for batch_idx 73\n",
      "start score sort for batch_idx 73 (208) patterns\n",
      "as_chirps for batch_idx 74\n",
      "start mining for batch_idx 74 with support = 0.3\n"
     ]
    },
    {
     "name": "stderr",
     "output_type": "stream",
     "text": [
      "/home/julianhatwell/Documents/github/explain_te/CHIRPS/structures.py:1450: RuntimeWarning: invalid value encountered in true_divide\n",
      "  np.histogram(lowers, lower_bins)[0]).round(5) # can result in nans\n",
      "/home/julianhatwell/Documents/github/explain_te/CHIRPS/structures.py:1445: RuntimeWarning: invalid value encountered in true_divide\n",
      "  np.histogram(uppers, upper_bins)[0]).round(5) # can result in nans if no value falls into bin\n"
     ]
    },
    {
     "name": "stdout",
     "output_type": "stream",
     "text": [
      "[('age', True, 29.16036), ('lcapitalgain', True, 8.53583), ('lcapitalloss', True, 7.45197)]\n",
      "0.9621479761784597 0.2759351335634528 0.32236253115926145 0.19466357752843416\n",
      "merge complete for batch_idx 61 (492) patterns\n",
      "start get explainer for batch_idx 61\n",
      "found 23 patterns from 596 for batch_idx 74\n",
      "start score sort for batch_idx 74 (23) patterns\n",
      "start merge rule for batch_idx 74 (23) patterns\n",
      "start merge rule for batch_idx 73 (208) patterns\n",
      "as_chirps for batch_idx 75\n",
      "start mining for batch_idx 75 with support = 0.3\n"
     ]
    },
    {
     "name": "stderr",
     "output_type": "stream",
     "text": [
      "/home/julianhatwell/Documents/github/explain_te/CHIRPS/structures.py:1445: RuntimeWarning: invalid value encountered in true_divide\n",
      "  np.histogram(uppers, upper_bins)[0]).round(5) # can result in nans if no value falls into bin\n",
      "/home/julianhatwell/Documents/github/explain_te/CHIRPS/structures.py:1450: RuntimeWarning: invalid value encountered in true_divide\n",
      "  np.histogram(lowers, lower_bins)[0]).round(5) # can result in nans\n"
     ]
    },
    {
     "name": "stdout",
     "output_type": "stream",
     "text": [
      "reduced 6 patterns out of 587 by numeric redundancy\n",
      "found 581 patterns from 524 for batch_idx 75\n",
      "start score sort for batch_idx 75 (581) patterns\n",
      "start merge rule for batch_idx 75 (581) patterns\n",
      "[('hoursperweek', False, 46.01901), ('occupation_Exec-managerial', False, 0.5), ('relationship_Husband', False, 0.5), ('workclass_Private', False, 0.5), ('lfnlwgt', False, 11.82612), ('age', False, 30.57614), ('nativecountry_United-States', False, 0.5)]\n",
      "0.892271662763466 0.012409038297266159 0.25657366516303487 0.1590913849052653\n",
      "merge complete for batch_idx 66 (403) patterns\n",
      "start get explainer for batch_idx 66\n",
      "as_chirps for batch_idx 76\n",
      "start mining for batch_idx 76 with support = 0.3\n"
     ]
    },
    {
     "name": "stderr",
     "output_type": "stream",
     "text": [
      "/home/julianhatwell/Documents/github/explain_te/CHIRPS/structures.py:1445: RuntimeWarning: invalid value encountered in true_divide\n",
      "  np.histogram(uppers, upper_bins)[0]).round(5) # can result in nans if no value falls into bin\n",
      "/home/julianhatwell/Documents/github/explain_te/CHIRPS/structures.py:1450: RuntimeWarning: invalid value encountered in true_divide\n",
      "  np.histogram(lowers, lower_bins)[0]).round(5) # can result in nans\n"
     ]
    },
    {
     "name": "stdout",
     "output_type": "stream",
     "text": [
      "reduced 11 patterns out of 679 by numeric redundancy\n",
      "found 668 patterns from 536 for batch_idx 76\n",
      "start score sort for batch_idx 76 (668) patterns\n",
      "[('educationnum', False, 12.20914), ('hoursperweek', False, 35.2992), ('relationship_Husband', False, 0.5), ('occupation_Other-service', True, 0.5), ('occupation_Craft-repair', True, 0.5), ('occupation_Farming-fishing', True, 0.5), ('occupation_Machine-op-inspct', True, 0.5), ('occupation_Transport-moving', True, 0.5), ('occupation_Handlers-cleaners', True, 0.5), ('age', False, 35.11598), ('workclass_Private', False, 0.5), ('race_Black', True, 0.5)]\n",
      "0.8892782060266293 0.041429509838411226 0.26247777544625805 0.1331528207569625\n",
      "merge complete for batch_idx 65 (248) patterns\n",
      "start get explainer for batch_idx 65\n",
      "as_chirps for batch_idx 77\n",
      "start mining for batch_idx 77 with support = 0.3\n"
     ]
    },
    {
     "name": "stderr",
     "output_type": "stream",
     "text": [
      "/home/julianhatwell/Documents/github/explain_te/CHIRPS/structures.py:1445: RuntimeWarning: invalid value encountered in true_divide\n",
      "  np.histogram(uppers, upper_bins)[0]).round(5) # can result in nans if no value falls into bin\n",
      "/home/julianhatwell/Documents/github/explain_te/CHIRPS/structures.py:1450: RuntimeWarning: invalid value encountered in true_divide\n",
      "  np.histogram(lowers, lower_bins)[0]).round(5) # can result in nans\n"
     ]
    },
    {
     "name": "stdout",
     "output_type": "stream",
     "text": [
      "[('lcapitalgain', True, 8.46793), ('educationnum', True, 9.82641), ('lcapitalloss', True, 7.47578), ('relationship_Husband', True, 0.5)]\n",
      "0.9698887191795766 0.2586692944763883 0.3783322895576151 0.3718144383332855\n",
      "reduced 1 patterns out of 809 by numeric redundancy\n",
      "merge complete for batch_idx 71 (188) patterns\n",
      "found 808 patterns from 287 for batch_idx 77\n",
      "start score sort for batch_idx 77 (808) patterns\n",
      "start get explainer for batch_idx 71\n",
      "as_chirps for batch_idx 78\n",
      "start mining for batch_idx 78 with support = 0.3\n"
     ]
    },
    {
     "name": "stderr",
     "output_type": "stream",
     "text": [
      "/home/julianhatwell/Documents/github/explain_te/CHIRPS/structures.py:1445: RuntimeWarning: invalid value encountered in true_divide\n",
      "  np.histogram(uppers, upper_bins)[0]).round(5) # can result in nans if no value falls into bin\n",
      "/home/julianhatwell/Documents/github/explain_te/CHIRPS/structures.py:1450: RuntimeWarning: invalid value encountered in true_divide\n",
      "  np.histogram(lowers, lower_bins)[0]).round(5) # can result in nans\n"
     ]
    },
    {
     "name": "stdout",
     "output_type": "stream",
     "text": [
      "found 50 patterns from 575 for batch_idx 78\n",
      "start score sort for batch_idx 78 (50) patterns\n",
      "start merge rule for batch_idx 78 (50) patterns\n",
      "start merge rule for batch_idx 76 (668) patterns\n",
      "start merge rule for batch_idx 77 (808) patterns\n",
      "[('maritalstatus_Never-married', False, 0.5), ('lcapitalloss', True, 7.63477), ('lcapitalgain', True, 8.51098)]\n",
      "0.9691662105455209 0.30683499133344516 0.5136301628929918 0.48095857328627156\n",
      "merge complete for batch_idx 74 (23) patterns\n",
      "start get explainer for batch_idx 74\n",
      "as_chirps for batch_idx 79\n",
      "start mining for batch_idx 79 with support = 0.3\n"
     ]
    },
    {
     "name": "stderr",
     "output_type": "stream",
     "text": [
      "/home/julianhatwell/Documents/github/explain_te/CHIRPS/structures.py:1445: RuntimeWarning: invalid value encountered in true_divide\n",
      "  np.histogram(uppers, upper_bins)[0]).round(5) # can result in nans if no value falls into bin\n",
      "/home/julianhatwell/Documents/github/explain_te/CHIRPS/structures.py:1450: RuntimeWarning: invalid value encountered in true_divide\n",
      "  np.histogram(lowers, lower_bins)[0]).round(5) # can result in nans\n"
     ]
    },
    {
     "name": "stdout",
     "output_type": "stream",
     "text": [
      "found 812 patterns from 565 for batch_idx 79\n",
      "start score sort for batch_idx 79 (812) patterns\n",
      "start merge rule for batch_idx 79 (812) patterns\n",
      "[('hoursperweek', True, 43.20732), ('lcapitalgain', True, 8.4314), ('lcapitalloss', True, 7.46167), ('occupation_Exec-managerial', True, 0.5), ('occupation_Prof-specialty', True, 0.5), ('occupation_Tech-support', True, 0.5), ('occupation_Craft-repair', True, 0.5), ('educationnum', True, 11.49675)]\n",
      "0.9481980258627286 0.349333338157516 0.424661973704995 0.35648778178805973\n",
      "merge complete for batch_idx 72 (117) patterns\n",
      "start get explainer for batch_idx 72\n",
      "as_chirps for batch_idx 80\n",
      "start mining for batch_idx 80 with support = 0.3\n"
     ]
    },
    {
     "name": "stderr",
     "output_type": "stream",
     "text": [
      "/home/julianhatwell/Documents/github/explain_te/CHIRPS/structures.py:1450: RuntimeWarning: invalid value encountered in true_divide\n",
      "  np.histogram(lowers, lower_bins)[0]).round(5) # can result in nans\n"
     ]
    },
    {
     "name": "stdout",
     "output_type": "stream",
     "text": [
      "found 40 patterns from 504 for batch_idx 80\n",
      "start score sort for batch_idx 80 (40) patterns\n",
      "start merge rule for batch_idx 80 (40) patterns\n",
      "[('maritalstatus_Never-married', False, 0.5), ('lcapitalgain', True, 8.73451)]\n",
      "0.9665215024496462 0.3072431112309414 0.4530016310756275 0.3479649571089615\n",
      "merge complete for batch_idx 78 (50) patterns\n",
      "start get explainer for batch_idx 78\n",
      "as_chirps for batch_idx 81\n",
      "start mining for batch_idx 81 with support = 0.3\n"
     ]
    },
    {
     "name": "stderr",
     "output_type": "stream",
     "text": [
      "/home/julianhatwell/Documents/github/explain_te/CHIRPS/structures.py:1450: RuntimeWarning: invalid value encountered in true_divide\n",
      "  np.histogram(lowers, lower_bins)[0]).round(5) # can result in nans\n",
      "/home/julianhatwell/Documents/github/explain_te/CHIRPS/structures.py:1445: RuntimeWarning: invalid value encountered in true_divide\n",
      "  np.histogram(uppers, upper_bins)[0]).round(5) # can result in nans if no value falls into bin\n"
     ]
    },
    {
     "name": "stdout",
     "output_type": "stream",
     "text": [
      "found 37 patterns from 549 for batch_idx 81\n",
      "start score sort for batch_idx 81 (37) patterns\n",
      "start merge rule for batch_idx 81 (37) patterns\n",
      "[('age', False, 29.75128), ('educationnum', False, 13.06346), ('hoursperweek', False, 45.49342), ('occupation_Exec-managerial', False, 0.5), ('relationship_Husband', False, 0.5), ('nativecountry_United-States', False, 0.5)]\n",
      "0.957345971563981 0.006110916010318832 0.19285638331958782 0.12746011877812993\n",
      "merge complete for batch_idx 73 (208) patterns\n",
      "start get explainer for batch_idx 73\n",
      "as_chirps for batch_idx 82\n",
      "start mining for batch_idx 82 with support = 0.3\n"
     ]
    },
    {
     "name": "stderr",
     "output_type": "stream",
     "text": [
      "/home/julianhatwell/Documents/github/explain_te/CHIRPS/structures.py:1450: RuntimeWarning: invalid value encountered in true_divide\n",
      "  np.histogram(lowers, lower_bins)[0]).round(5) # can result in nans\n",
      "/home/julianhatwell/Documents/github/explain_te/CHIRPS/structures.py:1445: RuntimeWarning: invalid value encountered in true_divide\n",
      "  np.histogram(uppers, upper_bins)[0]).round(5) # can result in nans if no value falls into bin\n"
     ]
    },
    {
     "name": "stdout",
     "output_type": "stream",
     "text": [
      "found 10 patterns from 600 for batch_idx 82\n",
      "start score sort for batch_idx 82 (10) patterns\n",
      "start merge rule for batch_idx 82 (10) patterns\n",
      "[('occupation_Other-service', False, 0.5), ('lcapitalgain', True, 8.73736)]\n",
      "0.9665983006152945 0.09833811597442325 0.25905582091497054 0.3138772298006296\n",
      "merge complete for batch_idx 80 (40) patterns\n",
      "start get explainer for batch_idx 80\n",
      "as_chirps for batch_idx 83\n",
      "start mining for batch_idx 83 with support = 0.3\n"
     ]
    },
    {
     "name": "stderr",
     "output_type": "stream",
     "text": [
      "/home/julianhatwell/Documents/github/explain_te/CHIRPS/structures.py:1450: RuntimeWarning: invalid value encountered in true_divide\n",
      "  np.histogram(lowers, lower_bins)[0]).round(5) # can result in nans\n",
      "/home/julianhatwell/Documents/github/explain_te/CHIRPS/structures.py:1445: RuntimeWarning: invalid value encountered in true_divide\n",
      "  np.histogram(uppers, upper_bins)[0]).round(5) # can result in nans if no value falls into bin\n"
     ]
    },
    {
     "name": "stdout",
     "output_type": "stream",
     "text": [
      "found 119 patterns from 462 for batch_idx 83\n",
      "start score sort for batch_idx 83 (119) patterns\n",
      "start merge rule for batch_idx 83 (119) patterns\n",
      "[('relationship_Own-child', False, 0.5)]\n",
      "0.9851823708206687 0.15240703040646597 0.5923924454765905 0.3168067226890756\n",
      "merge complete for batch_idx 82 (10) patterns\n",
      "start get explainer for batch_idx 82\n",
      "as_chirps for batch_idx 84\n",
      "start mining for batch_idx 84 with support = 0.3\n"
     ]
    },
    {
     "name": "stderr",
     "output_type": "stream",
     "text": [
      "/home/julianhatwell/Documents/github/explain_te/CHIRPS/structures.py:1445: RuntimeWarning: invalid value encountered in true_divide\n",
      "  np.histogram(uppers, upper_bins)[0]).round(5) # can result in nans if no value falls into bin\n",
      "/home/julianhatwell/Documents/github/explain_te/CHIRPS/structures.py:1450: RuntimeWarning: invalid value encountered in true_divide\n",
      "  np.histogram(lowers, lower_bins)[0]).round(5) # can result in nans\n"
     ]
    },
    {
     "name": "stdout",
     "output_type": "stream",
     "text": [
      "reduced 4 patterns out of 695 by numeric redundancy\n",
      "found 691 patterns from 453 for batch_idx 84\n",
      "start score sort for batch_idx 84 (691) patterns\n",
      "[('educationnum', True, 8.90578), ('lcapitalgain', True, 8.03238), ('lcapitalloss', True, 7.44773)]\n",
      "0.9629715343670446 0.12377594926365403 0.1472993609779822 0.123280183172095\n",
      "merge complete for batch_idx 57 (609) patterns\n",
      "start get explainer for batch_idx 57\n",
      "as_chirps for batch_idx 85\n",
      "start mining for batch_idx 85 with support = 0.3\n"
     ]
    },
    {
     "name": "stderr",
     "output_type": "stream",
     "text": [
      "/home/julianhatwell/Documents/github/explain_te/CHIRPS/structures.py:1450: RuntimeWarning: invalid value encountered in true_divide\n",
      "  np.histogram(lowers, lower_bins)[0]).round(5) # can result in nans\n"
     ]
    },
    {
     "name": "stdout",
     "output_type": "stream",
     "text": [
      "found 59 patterns from 595 for batch_idx 85\n",
      "start score sort for batch_idx 85 (59) patterns\n",
      "start merge rule for batch_idx 85 (59) patterns\n",
      "[('educationnum', True, 12.83083), ('maritalstatus_Married-civ-spouse', True, 0.5), ('maritalstatus_Divorced', True, 0.5), ('lcapitalgain', True, 8.6832), ('lcapitalloss', True, 7.63389)]\n",
      "0.9849554234769688 0.30845698130402893 0.6412632148234707 0.5441425042257184\n",
      "merge complete for batch_idx 81 (37) patterns\n",
      "start get explainer for batch_idx 81\n",
      "as_chirps for batch_idx 86\n",
      "start mining for batch_idx 86 with support = 0.3\n"
     ]
    },
    {
     "name": "stderr",
     "output_type": "stream",
     "text": [
      "/home/julianhatwell/Documents/github/explain_te/CHIRPS/structures.py:1445: RuntimeWarning: invalid value encountered in true_divide\n",
      "  np.histogram(uppers, upper_bins)[0]).round(5) # can result in nans if no value falls into bin\n"
     ]
    },
    {
     "name": "stdout",
     "output_type": "stream",
     "text": [
      "start merge rule for batch_idx 84 (691) patterns\n"
     ]
    },
    {
     "name": "stderr",
     "output_type": "stream",
     "text": [
      "/home/julianhatwell/Documents/github/explain_te/CHIRPS/structures.py:1450: RuntimeWarning: invalid value encountered in true_divide\n",
      "  np.histogram(lowers, lower_bins)[0]).round(5) # can result in nans\n"
     ]
    },
    {
     "name": "stdout",
     "output_type": "stream",
     "text": [
      "found 32 patterns from 544 for batch_idx 86\n",
      "start score sort for batch_idx 86 (32) patterns\n",
      "start merge rule for batch_idx 86 (32) patterns\n",
      "[('occupation_Other-service', False, 0.5), ('lcapitalgain', True, 8.55281), ('lcapitalloss', True, 7.47228)]\n",
      "0.9697777777777777 0.09739325364260037 0.8037947963876517 0.5747415066469719\n",
      "merge complete for batch_idx 86 (32) patterns\n",
      "start get explainer for batch_idx 86\n",
      "as_chirps for batch_idx 87\n",
      "start mining for batch_idx 87 with support = 0.3\n"
     ]
    },
    {
     "name": "stderr",
     "output_type": "stream",
     "text": [
      "/home/julianhatwell/Documents/github/explain_te/CHIRPS/structures.py:1450: RuntimeWarning: invalid value encountered in true_divide\n",
      "  np.histogram(lowers, lower_bins)[0]).round(5) # can result in nans\n",
      "/home/julianhatwell/Documents/github/explain_te/CHIRPS/structures.py:1445: RuntimeWarning: invalid value encountered in true_divide\n",
      "  np.histogram(uppers, upper_bins)[0]).round(5) # can result in nans if no value falls into bin\n"
     ]
    },
    {
     "name": "stdout",
     "output_type": "stream",
     "text": [
      "found 15 patterns from 600 for batch_idx 87\n",
      "start score sort for batch_idx 87 (15) patterns\n",
      "start merge rule for batch_idx 87 (15) patterns\n",
      "[('educationnum', False, 9.15714), ('hoursperweek', False, 43.8855), ('occupation_Exec-managerial', False, 0.5), ('relationship_Husband', False, 0.5), ('workclass_Private', False, 0.5), ('age', False, 35.37829), ('race_White', False, 0.5), ('nativecountry_United-States', False, 0.5)]\n",
      "0.9177215189873418 0.013785001653768364 0.24616502933429482 0.12257401959931051\n",
      "merge complete for batch_idx 75 (581) patterns\n",
      "start get explainer for batch_idx 75\n",
      "as_chirps for batch_idx 88\n",
      "start mining for batch_idx 88 with support = 0.3\n"
     ]
    },
    {
     "name": "stderr",
     "output_type": "stream",
     "text": [
      "/home/julianhatwell/Documents/github/explain_te/CHIRPS/structures.py:1445: RuntimeWarning: invalid value encountered in true_divide\n",
      "  np.histogram(uppers, upper_bins)[0]).round(5) # can result in nans if no value falls into bin\n",
      "/home/julianhatwell/Documents/github/explain_te/CHIRPS/structures.py:1450: RuntimeWarning: invalid value encountered in true_divide\n",
      "  np.histogram(lowers, lower_bins)[0]).round(5) # can result in nans\n"
     ]
    },
    {
     "name": "stdout",
     "output_type": "stream",
     "text": [
      "found 969 patterns from 591 for batch_idx 88\n",
      "start score sort for batch_idx 88 (969) patterns\n",
      "[('educationnum', True, 9.72378), ('lcapitalgain', True, 8.43814), ('occupation_Exec-managerial', True, 0.5), ('occupation_Prof-specialty', True, 0.5), ('occupation_Tech-support', True, 0.5), ('occupation_Transport-moving', True, 0.5), ('lcapitalloss', True, 7.46493), ('workclass_Self-emp-inc', True, 0.5), ('workclass_Federal-gov', True, 0.5)]\n",
      "0.9461310782241015 0.317836606898617 0.3847907579541456 0.3263137080429087\n",
      "merge complete for batch_idx 83 (119) patterns\n",
      "start get explainer for batch_idx 83\n",
      "as_chirps for batch_idx 89\n",
      "start mining for batch_idx 89 with support = 0.3\n"
     ]
    },
    {
     "name": "stderr",
     "output_type": "stream",
     "text": [
      "/home/julianhatwell/Documents/github/explain_te/CHIRPS/structures.py:1445: RuntimeWarning: invalid value encountered in true_divide\n",
      "  np.histogram(uppers, upper_bins)[0]).round(5) # can result in nans if no value falls into bin\n",
      "/home/julianhatwell/Documents/github/explain_te/CHIRPS/structures.py:1450: RuntimeWarning: invalid value encountered in true_divide\n",
      "  np.histogram(lowers, lower_bins)[0]).round(5) # can result in nans\n"
     ]
    },
    {
     "name": "stdout",
     "output_type": "stream",
     "text": [
      "found 82 patterns from 411 for batch_idx 89\n",
      "start score sort for batch_idx 89 (82) patterns\n",
      "start merge rule for batch_idx 88 (969) patterns\n",
      "start merge rule for batch_idx 89 (82) patterns\n",
      "[('relationship_Own-child', False, 0.5), ('lcapitalloss', True, 7.61986), ('lcapitalgain', True, 9.06699)]\n",
      "0.988914373088685 0.1518695509442325 0.6619429895019145 0.6322463768115941\n",
      "merge complete for batch_idx 87 (15) patterns\n",
      "start get explainer for batch_idx 87\n",
      "as_chirps for batch_idx 90\n",
      "start mining for batch_idx 90 with support = 0.3\n"
     ]
    },
    {
     "name": "stderr",
     "output_type": "stream",
     "text": [
      "/home/julianhatwell/Documents/github/explain_te/CHIRPS/structures.py:1450: RuntimeWarning: invalid value encountered in true_divide\n",
      "  np.histogram(lowers, lower_bins)[0]).round(5) # can result in nans\n",
      "/home/julianhatwell/Documents/github/explain_te/CHIRPS/structures.py:1445: RuntimeWarning: invalid value encountered in true_divide\n",
      "  np.histogram(uppers, upper_bins)[0]).round(5) # can result in nans if no value falls into bin\n"
     ]
    },
    {
     "name": "stdout",
     "output_type": "stream",
     "text": [
      "found 19 patterns from 600 for batch_idx 90\n",
      "start score sort for batch_idx 90 (19) patterns\n",
      "start merge rule for batch_idx 90 (19) patterns\n",
      "[('educationnum', True, 12.68835), ('maritalstatus_Married-civ-spouse', True, 0.5), ('maritalstatus_Divorced', True, 0.5), ('lcapitalgain', True, 8.76557), ('lcapitalloss', True, 7.60969)]\n",
      "0.9848639613706008 0.30844555364911 0.7802846870319979 0.6766150069050179\n",
      "merge complete for batch_idx 85 (59) patterns\n",
      "start get explainer for batch_idx 85\n",
      "as_chirps for batch_idx 91\n",
      "start mining for batch_idx 91 with support = 0.3\n"
     ]
    },
    {
     "name": "stderr",
     "output_type": "stream",
     "text": [
      "/home/julianhatwell/Documents/github/explain_te/CHIRPS/structures.py:1445: RuntimeWarning: invalid value encountered in true_divide\n",
      "  np.histogram(uppers, upper_bins)[0]).round(5) # can result in nans if no value falls into bin\n",
      "/home/julianhatwell/Documents/github/explain_te/CHIRPS/structures.py:1450: RuntimeWarning: invalid value encountered in true_divide\n",
      "  np.histogram(lowers, lower_bins)[0]).round(5) # can result in nans\n"
     ]
    },
    {
     "name": "stdout",
     "output_type": "stream",
     "text": [
      "found 124 patterns from 500 for batch_idx 91\n",
      "start score sort for batch_idx 91 (124) patterns\n",
      "start merge rule for batch_idx 91 (124) patterns\n",
      "[('educationnum', False, 12.13262), ('occupation_Exec-managerial', False, 0.5), ('relationship_Husband', False, 0.5), ('workclass_Private', False, 0.5), ('age', False, 29.0657), ('hoursperweek', True, 66.31818), ('nativecountry_United-States', False, 0.5)]\n",
      "0.9325337331334332 0.019417233824862337 0.15472860695532678 0.08927181686025162\n",
      "merge complete for batch_idx 76 (668) patterns\n",
      "start get explainer for batch_idx 76\n",
      "as_chirps for batch_idx 92\n",
      "start mining for batch_idx 92 with support = 0.3\n"
     ]
    },
    {
     "name": "stderr",
     "output_type": "stream",
     "text": [
      "/home/julianhatwell/Documents/github/explain_te/CHIRPS/structures.py:1450: RuntimeWarning: invalid value encountered in true_divide\n",
      "  np.histogram(lowers, lower_bins)[0]).round(5) # can result in nans\n",
      "/home/julianhatwell/Documents/github/explain_te/CHIRPS/structures.py:1445: RuntimeWarning: invalid value encountered in true_divide\n",
      "  np.histogram(uppers, upper_bins)[0]).round(5) # can result in nans if no value falls into bin\n"
     ]
    },
    {
     "name": "stdout",
     "output_type": "stream",
     "text": [
      "found 20 patterns from 466 for batch_idx 92\n",
      "start score sort for batch_idx 92 (20) patterns\n",
      "start merge rule for batch_idx 92 (20) patterns\n",
      "[('lcapitalgain', True, 9.06609), ('lcapitalloss', True, 7.6198), ('maritalstatus_Never-married', False, 0.5)]\n",
      "0.9664880573971483 0.3069364257297127 0.4881421811200284 0.4403606102635229\n",
      "merge complete for batch_idx 90 (19) patterns\n",
      "start get explainer for batch_idx 90\n",
      "as_chirps for batch_idx 93\n",
      "start mining for batch_idx 93 with support = 0.3\n"
     ]
    },
    {
     "name": "stderr",
     "output_type": "stream",
     "text": [
      "/home/julianhatwell/Documents/github/explain_te/CHIRPS/structures.py:1450: RuntimeWarning: invalid value encountered in true_divide\n",
      "  np.histogram(lowers, lower_bins)[0]).round(5) # can result in nans\n",
      "/home/julianhatwell/Documents/github/explain_te/CHIRPS/structures.py:1445: RuntimeWarning: invalid value encountered in true_divide\n",
      "  np.histogram(uppers, upper_bins)[0]).round(5) # can result in nans if no value falls into bin\n"
     ]
    },
    {
     "name": "stdout",
     "output_type": "stream",
     "text": [
      "found 50 patterns from 538 for batch_idx 93\n",
      "start score sort for batch_idx 93 (50) patterns\n",
      "start merge rule for batch_idx 93 (50) patterns\n",
      "[('lcapitalgain', True, 8.42477), ('lcapitalloss', True, 7.46761), ('occupation_Exec-managerial', True, 0.5), ('occupation_Prof-specialty', True, 0.5), ('occupation_Craft-repair', True, 0.5), ('hoursperweek', True, 43.56584), ('workclass_Federal-gov', True, 0.5)]\n",
      "0.9267926988265971 0.3845825316107547 0.16144497956643772 0.20505640451236096\n",
      "merge complete for batch_idx 89 (82) patterns\n",
      "start get explainer for batch_idx 89\n",
      "[('relationship_Unmarried', False, 0.5), ('lcapitalgain', True, 8.88257)]\n",
      "0.9535805264647609 0.10114049708378159 0.24984263805281293 0.2848170398689241\n",
      "merge complete for batch_idx 92 (20) patterns\n",
      "start get explainer for batch_idx 92\n",
      "as_chirps for batch_idx 94\n",
      "start mining for batch_idx 94 with support = 0.3\n"
     ]
    },
    {
     "name": "stderr",
     "output_type": "stream",
     "text": [
      "/home/julianhatwell/Documents/github/explain_te/CHIRPS/structures.py:1445: RuntimeWarning: invalid value encountered in true_divide\n",
      "  np.histogram(uppers, upper_bins)[0]).round(5) # can result in nans if no value falls into bin\n",
      "/home/julianhatwell/Documents/github/explain_te/CHIRPS/structures.py:1450: RuntimeWarning: invalid value encountered in true_divide\n",
      "  np.histogram(lowers, lower_bins)[0]).round(5) # can result in nans\n"
     ]
    },
    {
     "name": "stdout",
     "output_type": "stream",
     "text": [
      "reduced 2 patterns out of 291 by numeric redundancy\n",
      "found 289 patterns from 549 for batch_idx 94\n",
      "start score sort for batch_idx 94 (289) patterns\n",
      "as_chirps for batch_idx 95\n",
      "start mining for batch_idx 95 with support = 0.3\n"
     ]
    },
    {
     "name": "stderr",
     "output_type": "stream",
     "text": [
      "/home/julianhatwell/Documents/github/explain_te/CHIRPS/structures.py:1450: RuntimeWarning: invalid value encountered in true_divide\n",
      "  np.histogram(lowers, lower_bins)[0]).round(5) # can result in nans\n",
      "/home/julianhatwell/Documents/github/explain_te/CHIRPS/structures.py:1445: RuntimeWarning: invalid value encountered in true_divide\n",
      "  np.histogram(uppers, upper_bins)[0]).round(5) # can result in nans if no value falls into bin\n"
     ]
    },
    {
     "name": "stdout",
     "output_type": "stream",
     "text": [
      "found 65 patterns from 587 for batch_idx 95\n",
      "start score sort for batch_idx 95 (65) patterns\n",
      "start merge rule for batch_idx 95 (65) patterns\n",
      "start merge rule for batch_idx 94 (289) patterns\n",
      "[('educationnum', True, 10.91638), ('hoursperweek', True, 43.66912), ('lcapitalgain', True, 8.43604), ('lcapitalloss', True, 7.45369), ('occupation_Exec-managerial', True, 0.5)]\n",
      "0.9404068857589984 0.41067161839238103 0.014913778538139199 0.034586754110917\n",
      "merge complete for batch_idx 77 (808) patterns\n",
      "start get explainer for batch_idx 77\n",
      "as_chirps for batch_idx 96\n",
      "start mining for batch_idx 96 with support = 0.3\n"
     ]
    },
    {
     "name": "stderr",
     "output_type": "stream",
     "text": [
      "/home/julianhatwell/Documents/github/explain_te/CHIRPS/structures.py:1450: RuntimeWarning: invalid value encountered in true_divide\n",
      "  np.histogram(lowers, lower_bins)[0]).round(5) # can result in nans\n"
     ]
    },
    {
     "name": "stdout",
     "output_type": "stream",
     "text": [
      "found 115 patterns from 579 for batch_idx 96\n",
      "start score sort for batch_idx 96 (115) patterns\n",
      "[('age', True, 32.30102), ('lcapitalgain', True, 8.62361), ('lcapitalloss', True, 7.49121), ('relationship_Husband', True, 0.5)]\n",
      "0.972741742936729 0.28375295235512127 0.6357675758556202 0.45534150612959723\n",
      "merge complete for batch_idx 93 (50) patterns\n",
      "start get explainer for batch_idx 93\n",
      "start merge rule for batch_idx 96 (115) patterns\n",
      "as_chirps for batch_idx 97\n",
      "start mining for batch_idx 97 with support = 0.3\n"
     ]
    },
    {
     "name": "stderr",
     "output_type": "stream",
     "text": [
      "/home/julianhatwell/Documents/github/explain_te/CHIRPS/structures.py:1445: RuntimeWarning: invalid value encountered in true_divide\n",
      "  np.histogram(uppers, upper_bins)[0]).round(5) # can result in nans if no value falls into bin\n",
      "/home/julianhatwell/Documents/github/explain_te/CHIRPS/structures.py:1450: RuntimeWarning: invalid value encountered in true_divide\n",
      "  np.histogram(lowers, lower_bins)[0]).round(5) # can result in nans\n"
     ]
    },
    {
     "name": "stdout",
     "output_type": "stream",
     "text": [
      "found 13 patterns from 550 for batch_idx 97\n",
      "start score sort for batch_idx 97 (13) patterns\n",
      "start merge rule for batch_idx 97 (13) patterns\n",
      "[('educationnum', True, 7.88799), ('lcapitalgain', True, 8.42383), ('lcapitalloss', True, 7.46894)]\n",
      "0.9612343789849528 0.11242926318828804 0.3478242610526499 0.26413213726327783\n",
      "merge complete for batch_idx 95 (65) patterns\n",
      "start get explainer for batch_idx 95\n",
      "[('lcapitalloss', False, 7.48944), ('educationnum', False, 11.95822), ('maritalstatus_Married-civ-spouse', False, 0.5)]\n",
      "0.96 0.01236426761910171 0.7893874040092735 0.5702127659574469\n",
      "merge complete for batch_idx 97 (13) patterns\n",
      "start get explainer for batch_idx 97\n",
      "as_chirps for batch_idx 98\n",
      "start mining for batch_idx 98 with support = 0.3\n"
     ]
    },
    {
     "name": "stderr",
     "output_type": "stream",
     "text": [
      "/home/julianhatwell/Documents/github/explain_te/CHIRPS/structures.py:1450: RuntimeWarning: invalid value encountered in true_divide\n",
      "  np.histogram(lowers, lower_bins)[0]).round(5) # can result in nans\n",
      "/home/julianhatwell/Documents/github/explain_te/CHIRPS/structures.py:1445: RuntimeWarning: invalid value encountered in true_divide\n",
      "  np.histogram(uppers, upper_bins)[0]).round(5) # can result in nans if no value falls into bin\n"
     ]
    },
    {
     "name": "stdout",
     "output_type": "stream",
     "text": [
      "[('lcapitalgain', True, 8.77661), ('maritalstatus_Married-civ-spouse', True, 0.5), ('educationnum', True, 12.4969), ('lcapitalloss', True, 7.58843)]\n",
      "0.9784488771097782 0.40289667750201913 0.26859918267443916 0.24096851883708936\n",
      "merge complete for batch_idx 91 (124) patterns\n",
      "start get explainer for batch_idx 91\n",
      "found 22 patterns from 600 for batch_idx 98\n",
      "start score sort for batch_idx 98 (22) patterns\n",
      "start merge rule for batch_idx 98 (22) patterns\n",
      "as_chirps for batch_idx 99\n",
      "start mining for batch_idx 99 with support = 0.3\n"
     ]
    },
    {
     "name": "stderr",
     "output_type": "stream",
     "text": [
      "/home/julianhatwell/Documents/github/explain_te/CHIRPS/structures.py:1445: RuntimeWarning: invalid value encountered in true_divide\n",
      "  np.histogram(uppers, upper_bins)[0]).round(5) # can result in nans if no value falls into bin\n",
      "/home/julianhatwell/Documents/github/explain_te/CHIRPS/structures.py:1450: RuntimeWarning: invalid value encountered in true_divide\n",
      "  np.histogram(lowers, lower_bins)[0]).round(5) # can result in nans\n"
     ]
    },
    {
     "name": "stdout",
     "output_type": "stream",
     "text": [
      "found 89 patterns from 483 for batch_idx 99\n",
      "start score sort for batch_idx 99 (89) patterns\n",
      "start merge rule for batch_idx 99 (89) patterns\n",
      "[('educationnum', True, 9.5), ('hoursperweek', True, 43.39735), ('lcapitalgain', True, 8.3653), ('lcapitalloss', True, 7.43551)]\n",
      "0.9477592382283567 0.3093363635454026 0.25817218676025205 0.26269572526987184\n",
      "merge complete for batch_idx 88 (969) patterns\n",
      "start get explainer for batch_idx 88\n",
      "[('age', True, 37.71951), ('educationnum', True, 9.61739), ('lcapitalgain', True, 8.38135), ('lcapitalloss', True, 7.43935), ('hoursperweek', True, 52.94503)]\n",
      "0.9709473684210527 0.20288813393408106 0.28252475100244445 0.23396637608966353\n",
      "merge complete for batch_idx 84 (691) patterns\n",
      "start get explainer for batch_idx 84\n",
      "[('lcapitalloss', True, 7.65423), ('maritalstatus_Never-married', False, 0.5)]\n",
      "0.9576324547989565 0.30567160394961196 0.5444942090691934 0.43278257604205783\n",
      "merge complete for batch_idx 98 (22) patterns\n",
      "start get explainer for batch_idx 98\n",
      "[('educationnum', False, 12.04637), ('occupation_Exec-managerial', False, 0.5), ('relationship_Husband', False, 0.5), ('workclass_Self-emp-not-inc', True, 0.5), ('hoursperweek', False, 35.56691), ('nativecountry_United-States', False, 0.5), ('age', False, 43.13522)]\n",
      "0.9098039215686274 0.014832450482379316 0.30615173920262545 0.17842630217953462\n",
      "merge complete for batch_idx 99 (89) patterns\n",
      "start get explainer for batch_idx 99\n",
      "[('educationnum', False, 11.19137), ('occupation_Exec-managerial', False, 0.5), ('relationship_Husband', False, 0.5), ('workclass_Private', False, 0.5), ('nativecountry_United-States', False, 0.5), ('age', False, 31.60231)]\n",
      "0.9307359307359307 0.02017410141520348 0.26284403624255276 0.1590856576992902\n",
      "merge complete for batch_idx 94 (289) patterns\n",
      "start get explainer for batch_idx 94\n",
      "[('lcapitalgain', True, 8.76718), ('maritalstatus_Married-civ-spouse', True, 0.5), ('educationnum', True, 12.47937), ('lcapitalloss', True, 7.62994)]\n",
      "0.9785073381094804 0.4039927273361834 0.11628917244659963 0.12388143176733776\n",
      "merge complete for batch_idx 96 (115) patterns\n",
      "start get explainer for batch_idx 96\n",
      "[('educationnum', False, 12.16188), ('relationship_Husband', False, 0.5), ('workclass_Private', False, 0.5), ('age', False, 33.90093), ('hoursperweek', False, 35.04772), ('nativecountry_United-States', False, 0.5), ('occupation_Farming-fishing', True, 0.5), ('occupation_Other-service', True, 0.5), ('occupation_Handlers-cleaners', True, 0.5), ('occupation_Transport-moving', True, 0.5), ('occupation_Craft-repair', True, 0.5), ('occupation_Adm-clerical', True, 0.5), ('occupation_Machine-op-inspct', True, 0.5), ('lfnlwgt', False, 11.61566), ('race_Black', True, 0.5)]\n",
      "0.9269759450171822 0.033877436482748526 0.23378583707070108 0.11600745029184241\n",
      "merge complete for batch_idx 79 (812) patterns\n",
      "start get explainer for batch_idx 79\n",
      "CHIRPS time elapsed: 536.8513 seconds\n",
      "CHIRPS with async = True\n",
      "\n",
      "Evaluating found explanations\n",
      "Results saved to /datadisk/whiteboxing/benchmarks2/adult/rf_sensitivity/wcts_majority_sp_0.3_ap_0.1_dpb_4_dpeq_False_sf_5_w_kldiv_RandomForest_CHIRPS_rnst_123\n",
      "CHIRPS batch results eval time elapsed: 32.2107 seconds\n",
      "\n",
      "Sensitivity round: 3\n",
      "Beginning benchmark for adult data.\n",
      "Hyper-parameter settings: {'alpha_paths': 0.9, 'disc_path_bins': 8, 'disc_path_eqcounts': False, 'score_func': 5, 'weighting': 'kldiv', 'support_paths': 0.3, 'precis_threshold': 0.99, 'merging_bootstraps': 20, 'pruning_bootstraps': 20, 'which_trees': 'majority', 'delta': 0.09}\n",
      "\n",
      "Prepare Unseen Data and Predictions for CHIRPS benchmark\n",
      "Walking forest for 100 instances... (please wait)\n",
      "Forest Walk with async = True\n",
      "Forest Walk time elapsed: 6.0622 seconds\n",
      "\n",
      "Running CHIRPS on a batch of 100 instances... (please wait)\n",
      "as_chirps for batch_idx 0\n",
      "start mining for batch_idx 0 with support = 0.3\n"
     ]
    },
    {
     "name": "stderr",
     "output_type": "stream",
     "text": [
      "/home/julianhatwell/Documents/github/explain_te/CHIRPS/structures.py:1445: RuntimeWarning: invalid value encountered in true_divide\n",
      "  np.histogram(uppers, upper_bins)[0]).round(5) # can result in nans if no value falls into bin\n",
      "/home/julianhatwell/Documents/github/explain_te/CHIRPS/structures.py:1450: RuntimeWarning: invalid value encountered in true_divide\n",
      "  np.histogram(lowers, lower_bins)[0]).round(5) # can result in nans\n"
     ]
    },
    {
     "name": "stdout",
     "output_type": "stream",
     "text": [
      "found 20 patterns from 444 for batch_idx 0\n",
      "start score sort for batch_idx 0 (20) patterns\n",
      "start merge rule for batch_idx 0 (20) patterns\n",
      "as_chirps for batch_idx 1\n",
      "start mining for batch_idx 1 with support = 0.3\n"
     ]
    },
    {
     "name": "stderr",
     "output_type": "stream",
     "text": [
      "/home/julianhatwell/Documents/github/explain_te/CHIRPS/structures.py:1445: RuntimeWarning: invalid value encountered in true_divide\n",
      "  np.histogram(uppers, upper_bins)[0]).round(5) # can result in nans if no value falls into bin\n",
      "/home/julianhatwell/Documents/github/explain_te/CHIRPS/structures.py:1450: RuntimeWarning: invalid value encountered in true_divide\n",
      "  np.histogram(lowers, lower_bins)[0]).round(5) # can result in nans\n"
     ]
    },
    {
     "name": "stdout",
     "output_type": "stream",
     "text": [
      "found 79 patterns from 448 for batch_idx 1\n",
      "start score sort for batch_idx 1 (79) patterns\n",
      "as_chirps for batch_idx 2\n",
      "start mining for batch_idx 2 with support = 0.3\n"
     ]
    },
    {
     "name": "stderr",
     "output_type": "stream",
     "text": [
      "/home/julianhatwell/Documents/github/explain_te/CHIRPS/structures.py:1445: RuntimeWarning: invalid value encountered in true_divide\n",
      "  np.histogram(uppers, upper_bins)[0]).round(5) # can result in nans if no value falls into bin\n"
     ]
    },
    {
     "name": "stdout",
     "output_type": "stream",
     "text": [
      "start merge rule for batch_idx 1 (79) patterns\n"
     ]
    },
    {
     "name": "stderr",
     "output_type": "stream",
     "text": [
      "/home/julianhatwell/Documents/github/explain_te/CHIRPS/structures.py:1450: RuntimeWarning: invalid value encountered in true_divide\n",
      "  np.histogram(lowers, lower_bins)[0]).round(5) # can result in nans\n"
     ]
    },
    {
     "name": "stdout",
     "output_type": "stream",
     "text": [
      "found 31 patterns from 338 for batch_idx 2\n",
      "start score sort for batch_idx 2 (31) patterns\n",
      "start merge rule for batch_idx 2 (31) patterns\n",
      "as_chirps for batch_idx 3\n",
      "start mining for batch_idx 3 with support = 0.3\n"
     ]
    },
    {
     "name": "stderr",
     "output_type": "stream",
     "text": [
      "/home/julianhatwell/Documents/github/explain_te/CHIRPS/structures.py:1445: RuntimeWarning: invalid value encountered in true_divide\n",
      "  np.histogram(uppers, upper_bins)[0]).round(5) # can result in nans if no value falls into bin\n",
      "/home/julianhatwell/Documents/github/explain_te/CHIRPS/structures.py:1450: RuntimeWarning: invalid value encountered in true_divide\n",
      "  np.histogram(lowers, lower_bins)[0]).round(5) # can result in nans\n"
     ]
    },
    {
     "name": "stdout",
     "output_type": "stream",
     "text": [
      "as_chirps for batch_idx 4\n",
      "start mining for batch_idx 4 with support = 0.3\n"
     ]
    },
    {
     "name": "stderr",
     "output_type": "stream",
     "text": [
      "/home/julianhatwell/Documents/github/explain_te/CHIRPS/structures.py:1445: RuntimeWarning: invalid value encountered in true_divide\n",
      "  np.histogram(uppers, upper_bins)[0]).round(5) # can result in nans if no value falls into bin\n",
      "/home/julianhatwell/Documents/github/explain_te/CHIRPS/structures.py:1450: RuntimeWarning: invalid value encountered in true_divide\n",
      "  np.histogram(lowers, lower_bins)[0]).round(5) # can result in nans\n"
     ]
    },
    {
     "name": "stdout",
     "output_type": "stream",
     "text": [
      "reduced 2 patterns out of 619 by numeric redundancy\n",
      "found 617 patterns from 418 for batch_idx 3\n",
      "start score sort for batch_idx 3 (617) patterns\n",
      "found 68 patterns from 372 for batch_idx 4\n",
      "start score sort for batch_idx 4 (68) patterns\n",
      "start merge rule for batch_idx 4 (68) patterns\n",
      "as_chirps for batch_idx 5\n",
      "start mining for batch_idx 5 with support = 0.3\n"
     ]
    },
    {
     "name": "stderr",
     "output_type": "stream",
     "text": [
      "/home/julianhatwell/Documents/github/explain_te/CHIRPS/structures.py:1445: RuntimeWarning: invalid value encountered in true_divide\n",
      "  np.histogram(uppers, upper_bins)[0]).round(5) # can result in nans if no value falls into bin\n",
      "/home/julianhatwell/Documents/github/explain_te/CHIRPS/structures.py:1450: RuntimeWarning: invalid value encountered in true_divide\n",
      "  np.histogram(lowers, lower_bins)[0]).round(5) # can result in nans\n"
     ]
    },
    {
     "name": "stdout",
     "output_type": "stream",
     "text": [
      "found 225 patterns from 504 for batch_idx 5\n",
      "start score sort for batch_idx 5 (225) patterns\n",
      "as_chirps for batch_idx 6\n",
      "start mining for batch_idx 6 with support = 0.3\n"
     ]
    },
    {
     "name": "stderr",
     "output_type": "stream",
     "text": [
      "/home/julianhatwell/Documents/github/explain_te/CHIRPS/structures.py:1445: RuntimeWarning: invalid value encountered in true_divide\n",
      "  np.histogram(uppers, upper_bins)[0]).round(5) # can result in nans if no value falls into bin\n",
      "/home/julianhatwell/Documents/github/explain_te/CHIRPS/structures.py:1450: RuntimeWarning: invalid value encountered in true_divide\n",
      "  np.histogram(lowers, lower_bins)[0]).round(5) # can result in nans\n"
     ]
    },
    {
     "name": "stdout",
     "output_type": "stream",
     "text": [
      "as_chirps for batch_idx 7\n",
      "start mining for batch_idx 7 with support = 0.3\n"
     ]
    },
    {
     "name": "stderr",
     "output_type": "stream",
     "text": [
      "/home/julianhatwell/Documents/github/explain_te/CHIRPS/structures.py:1445: RuntimeWarning: invalid value encountered in true_divide\n",
      "  np.histogram(uppers, upper_bins)[0]).round(5) # can result in nans if no value falls into bin\n",
      "/home/julianhatwell/Documents/github/explain_te/CHIRPS/structures.py:1450: RuntimeWarning: invalid value encountered in true_divide\n",
      "  np.histogram(lowers, lower_bins)[0]).round(5) # can result in nans\n"
     ]
    },
    {
     "name": "stdout",
     "output_type": "stream",
     "text": [
      "reduced 13 patterns out of 355 by numeric redundancy\n",
      "found 342 patterns from 582 for batch_idx 6\n",
      "start score sort for batch_idx 6 (342) patterns\n",
      "start merge rule for batch_idx 5 (225) patterns\n",
      "reduced 1 patterns out of 315 by numeric redundancy\n",
      "found 314 patterns from 448 for batch_idx 7\n",
      "start score sort for batch_idx 7 (314) patterns\n",
      "start merge rule for batch_idx 3 (617) patterns\n",
      "start merge rule for batch_idx 7 (314) patterns\n",
      "start merge rule for batch_idx 6 (342) patterns\n",
      "[('maritalstatus_Married-civ-spouse', True, 0.5), ('educationnum', True, 12.5), ('lcapitalgain', True, 8.92674)]\n",
      "0.97678916827853 0.40532031560398557 0.37488722490534965 0.30856041838700793\n",
      "merge complete for batch_idx 0 (20) patterns\n",
      "start get explainer for batch_idx 0\n",
      "as_chirps for batch_idx 8\n",
      "start mining for batch_idx 8 with support = 0.3\n"
     ]
    },
    {
     "name": "stderr",
     "output_type": "stream",
     "text": [
      "/home/julianhatwell/Documents/github/explain_te/CHIRPS/structures.py:1450: RuntimeWarning: invalid value encountered in true_divide\n",
      "  np.histogram(lowers, lower_bins)[0]).round(5) # can result in nans\n",
      "/home/julianhatwell/Documents/github/explain_te/CHIRPS/structures.py:1445: RuntimeWarning: invalid value encountered in true_divide\n",
      "  np.histogram(uppers, upper_bins)[0]).round(5) # can result in nans if no value falls into bin\n"
     ]
    },
    {
     "name": "stdout",
     "output_type": "stream",
     "text": [
      "found 27 patterns from 585 for batch_idx 8\n",
      "start score sort for batch_idx 8 (27) patterns\n",
      "start merge rule for batch_idx 8 (27) patterns\n",
      "[('lcapitalgain', True, 8.46602), ('maritalstatus_Never-married', False, 0.5), ('occupation_Prof-specialty', True, 0.5)]\n",
      "0.9777481542247745 0.2773514183007692 0.19743363073521905 0.18688275512788044\n",
      "merge complete for batch_idx 2 (31) patterns\n",
      "start get explainer for batch_idx 2\n",
      "[('educationnum', False, 13.5), ('workclass_Self-emp-inc', False, 0.5), ('relationship_Husband', False, 0.5)]\n",
      "0.888235294117647 0.004910257920334924 0.26511305854083284 0.11315110881897886\n",
      "merge complete for batch_idx 4 (68) patterns\n",
      "start get explainer for batch_idx 4\n",
      "as_chirps for batch_idx 9\n",
      "start mining for batch_idx 9 with support = 0.3\n"
     ]
    },
    {
     "name": "stderr",
     "output_type": "stream",
     "text": [
      "/home/julianhatwell/Documents/github/explain_te/CHIRPS/structures.py:1445: RuntimeWarning: invalid value encountered in true_divide\n",
      "  np.histogram(uppers, upper_bins)[0]).round(5) # can result in nans if no value falls into bin\n",
      "/home/julianhatwell/Documents/github/explain_te/CHIRPS/structures.py:1450: RuntimeWarning: invalid value encountered in true_divide\n",
      "  np.histogram(lowers, lower_bins)[0]).round(5) # can result in nans\n"
     ]
    },
    {
     "name": "stdout",
     "output_type": "stream",
     "text": [
      "as_chirps for batch_idx 10\n",
      "start mining for batch_idx 10 with support = 0.3\n"
     ]
    },
    {
     "name": "stderr",
     "output_type": "stream",
     "text": [
      "/home/julianhatwell/Documents/github/explain_te/CHIRPS/structures.py:1445: RuntimeWarning: invalid value encountered in true_divide\n",
      "  np.histogram(uppers, upper_bins)[0]).round(5) # can result in nans if no value falls into bin\n",
      "/home/julianhatwell/Documents/github/explain_te/CHIRPS/structures.py:1450: RuntimeWarning: invalid value encountered in true_divide\n",
      "  np.histogram(lowers, lower_bins)[0]).round(5) # can result in nans\n"
     ]
    },
    {
     "name": "stdout",
     "output_type": "stream",
     "text": [
      "reduced 3 patterns out of 501 by numeric redundancy\n",
      "found 498 patterns from 555 for batch_idx 9\n",
      "start score sort for batch_idx 9 (498) patterns\n",
      "reduced 6 patterns out of 369 by numeric redundancy\n",
      "found 363 patterns from 369 for batch_idx 10\n",
      "start score sort for batch_idx 10 (363) patterns\n",
      "start merge rule for batch_idx 10 (363) patterns\n",
      "start merge rule for batch_idx 9 (498) patterns\n",
      "[('lcapitalgain', True, 8.7645), ('relationship_Unmarried', False, 0.5), ('educationnum', True, 12.5)]\n",
      "0.9743675099866844 0.08696022532863851 0.30020573219855445 0.3893216488153196\n",
      "merge complete for batch_idx 8 (27) patterns\n",
      "start get explainer for batch_idx 8\n",
      "as_chirps for batch_idx 11\n",
      "start mining for batch_idx 11 with support = 0.3\n"
     ]
    },
    {
     "name": "stderr",
     "output_type": "stream",
     "text": [
      "/home/julianhatwell/Documents/github/explain_te/CHIRPS/structures.py:1445: RuntimeWarning: invalid value encountered in true_divide\n",
      "  np.histogram(uppers, upper_bins)[0]).round(5) # can result in nans if no value falls into bin\n",
      "/home/julianhatwell/Documents/github/explain_te/CHIRPS/structures.py:1450: RuntimeWarning: invalid value encountered in true_divide\n",
      "  np.histogram(lowers, lower_bins)[0]).round(5) # can result in nans\n"
     ]
    },
    {
     "name": "stdout",
     "output_type": "stream",
     "text": [
      "found 37 patterns from 401 for batch_idx 11\n",
      "start score sort for batch_idx 11 (37) patterns\n",
      "start merge rule for batch_idx 11 (37) patterns\n",
      "[('lcapitalgain', True, 8.68147), ('maritalstatus_Married-civ-spouse', True, 0.5), ('educationnum', True, 13.5), ('lcapitalloss', True, 7.59942)]\n",
      "0.9664837434354163 0.4598830610677798 0.11630992831592996 0.23028966775640528\n",
      "merge complete for batch_idx 1 (79) patterns\n",
      "start get explainer for batch_idx 1\n",
      "as_chirps for batch_idx 12\n",
      "start mining for batch_idx 12 with support = 0.3\n"
     ]
    },
    {
     "name": "stderr",
     "output_type": "stream",
     "text": [
      "/home/julianhatwell/Documents/github/explain_te/CHIRPS/structures.py:1450: RuntimeWarning: invalid value encountered in true_divide\n",
      "  np.histogram(lowers, lower_bins)[0]).round(5) # can result in nans\n",
      "/home/julianhatwell/Documents/github/explain_te/CHIRPS/structures.py:1445: RuntimeWarning: invalid value encountered in true_divide\n",
      "  np.histogram(uppers, upper_bins)[0]).round(5) # can result in nans if no value falls into bin\n"
     ]
    },
    {
     "name": "stdout",
     "output_type": "stream",
     "text": [
      "found 12 patterns from 565 for batch_idx 12\n",
      "start score sort for batch_idx 12 (12) patterns\n",
      "start merge rule for batch_idx 12 (12) patterns\n",
      "[('age', True, 26.38761)]\n",
      "0.9780953652998531 0.21439723043673325 0.871275028089994 0.5905909797822706\n",
      "merge complete for batch_idx 12 (12) patterns\n",
      "start get explainer for batch_idx 12\n",
      "as_chirps for batch_idx 13\n",
      "start mining for batch_idx 13 with support = 0.3\n"
     ]
    },
    {
     "name": "stderr",
     "output_type": "stream",
     "text": [
      "/home/julianhatwell/Documents/github/explain_te/CHIRPS/structures.py:1445: RuntimeWarning: invalid value encountered in true_divide\n",
      "  np.histogram(uppers, upper_bins)[0]).round(5) # can result in nans if no value falls into bin\n",
      "/home/julianhatwell/Documents/github/explain_te/CHIRPS/structures.py:1450: RuntimeWarning: invalid value encountered in true_divide\n",
      "  np.histogram(lowers, lower_bins)[0]).round(5) # can result in nans\n"
     ]
    },
    {
     "name": "stdout",
     "output_type": "stream",
     "text": [
      "found 24 patterns from 568 for batch_idx 13\n",
      "start score sort for batch_idx 13 (24) patterns\n",
      "start merge rule for batch_idx 13 (24) patterns\n",
      "[('educationnum', True, 9.5), ('lcapitalgain', True, 8.37872), ('lcapitalloss', True, 7.45173), ('occupation_Exec-managerial', True, 0.5), ('occupation_Prof-specialty', True, 0.5), ('occupation_Sales', True, 0.5), ('occupation_Tech-support', True, 0.5), ('occupation_Transport-moving', True, 0.5), ('occupation_Protective-serv', True, 0.5), ('workclass_Self-emp-inc', True, 0.5), ('workclass_Federal-gov', True, 0.5)]\n",
      "0.9551859099804305 0.28149782563366976 0.2531030459812255 0.25122419587133954\n",
      "merge complete for batch_idx 5 (225) patterns\n",
      "start get explainer for batch_idx 5\n",
      "as_chirps for batch_idx 14\n",
      "start mining for batch_idx 14 with support = 0.3\n"
     ]
    },
    {
     "name": "stderr",
     "output_type": "stream",
     "text": [
      "/home/julianhatwell/Documents/github/explain_te/CHIRPS/structures.py:1445: RuntimeWarning: invalid value encountered in true_divide\n",
      "  np.histogram(uppers, upper_bins)[0]).round(5) # can result in nans if no value falls into bin\n",
      "/home/julianhatwell/Documents/github/explain_te/CHIRPS/structures.py:1450: RuntimeWarning: invalid value encountered in true_divide\n",
      "  np.histogram(lowers, lower_bins)[0]).round(5) # can result in nans\n"
     ]
    },
    {
     "name": "stdout",
     "output_type": "stream",
     "text": [
      "found 246 patterns from 343 for batch_idx 14\n",
      "start score sort for batch_idx 14 (246) patterns\n",
      "start merge rule for batch_idx 14 (246) patterns\n",
      "[('hoursperweek', True, 42.30838), ('lcapitalgain', True, 8.01853), ('lcapitalloss', True, 7.45035), ('educationnum', True, 9.50174)]\n",
      "0.9486474501108647 0.30548481576595304 0.6219261899921525 0.6310074027652658\n",
      "merge complete for batch_idx 9 (498) patterns\n",
      "start get explainer for batch_idx 9\n",
      "[('hoursperweek', True, 31.08148), ('lcapitalgain', True, 8.55357), ('lcapitalloss', True, 7.48406), ('educationnum', True, 13.5)]\n",
      "0.9566569484936832 0.14618445268367197 0.058510882087775974 0.23531499556344276\n",
      "merge complete for batch_idx 11 (37) patterns\n",
      "start get explainer for batch_idx 11\n",
      "as_chirps for batch_idx 15\n",
      "start mining for batch_idx 15 with support = 0.3\n"
     ]
    },
    {
     "name": "stderr",
     "output_type": "stream",
     "text": [
      "/home/julianhatwell/Documents/github/explain_te/CHIRPS/structures.py:1445: RuntimeWarning: invalid value encountered in true_divide\n",
      "  np.histogram(uppers, upper_bins)[0]).round(5) # can result in nans if no value falls into bin\n",
      "/home/julianhatwell/Documents/github/explain_te/CHIRPS/structures.py:1450: RuntimeWarning: invalid value encountered in true_divide\n",
      "  np.histogram(lowers, lower_bins)[0]).round(5) # can result in nans\n"
     ]
    },
    {
     "name": "stdout",
     "output_type": "stream",
     "text": [
      "found 46 patterns from 600 for batch_idx 15\n",
      "start score sort for batch_idx 15 (46) patterns\n",
      "start merge rule for batch_idx 15 (46) patterns\n",
      "as_chirps for batch_idx 16\n",
      "start mining for batch_idx 16 with support = 0.3\n"
     ]
    },
    {
     "name": "stderr",
     "output_type": "stream",
     "text": [
      "/home/julianhatwell/Documents/github/explain_te/CHIRPS/structures.py:1450: RuntimeWarning: invalid value encountered in true_divide\n",
      "  np.histogram(lowers, lower_bins)[0]).round(5) # can result in nans\n",
      "/home/julianhatwell/Documents/github/explain_te/CHIRPS/structures.py:1445: RuntimeWarning: invalid value encountered in true_divide\n",
      "  np.histogram(uppers, upper_bins)[0]).round(5) # can result in nans if no value falls into bin\n"
     ]
    },
    {
     "name": "stdout",
     "output_type": "stream",
     "text": [
      "found 67 patterns from 570 for batch_idx 16\n",
      "start score sort for batch_idx 16 (67) patterns\n",
      "start merge rule for batch_idx 16 (67) patterns\n"
     ]
    }
   ],
   "source": [
    "# Optional Memory and Computation Cost Management\n",
    "# CHIRPS is time economical but memory intensive to compute for lots of instances at once.\n",
    "forest_walk_async=True\n",
    "chirps_explanation_async=True\n",
    "n_cores = mp.cpu_count()-2\n",
    "\n",
    "# How many instances from the test set do you want to explain?\n",
    "# A number bigger than the test set will be interpreted as 'all'\n",
    "n_instances = 100\n",
    "start_instance = 0 # here can opt to start at a specific instance, diagnostic if something crashes\n",
    "\n",
    "model = 'RandomForest'\n",
    "# model = 'AdaBoost1'\n",
    "# model = 'AdaBoost2'\n",
    "# model = 'GBM'\n",
    "\n",
    "# prepare data\n",
    "datasets = [\n",
    "#         ds.car,\n",
    "#         ds.cardio,\n",
    "#         ds.credit,\n",
    "#         ds.german,\n",
    "#         ds.lending_tiny_samp,\n",
    "#         ds.nursery,\n",
    "#         ds.bankmark,\n",
    "#         ds.rcdv,\n",
    "        ds.adult,\n",
    "       ]\n",
    "\n",
    "# location to save results\n",
    "project_dir = '/datadisk/whiteboxing/benchmarks2'\n",
    "# project_dir = 'V:\\\\whiteboxing\\\\tests' # defaults to a directory \"whiteboxing\" in the working directory\n",
    "# project_dir = 'C:\\\\Users\\\\Crutt\\\\Documents\\\\whiteboxing\\\\tests'\n",
    "\n",
    "random_state_splits = 123 # change this if you want to try different splits of the data into test / train\n",
    "random_state_rf = 123 # change this if you want to try with different forest construction\n",
    "random_state_exp = 123 # change this if you want to try with different runs of the explainer algorithm (affects bootstrap eval)\n",
    "\n",
    "verbose = True\n",
    "\n",
    "# CHIRPS default parameters - see papers for details\n",
    "precis_threshold = 0.99\n",
    "merging_bootstraps = 20 # how many training bootstraps to test improvement in growing rule?\n",
    "pruning_bootstraps = 20 # how many training bootstraps to test deterioration in pruning rule?\n",
    "delta = 0.09 # pruning deterioration tolerance paramater\n",
    "\n",
    "tuning = {'override' : False}\n",
    "\n",
    "if model == 'RandomForest':\n",
    "    tuning.update({'grid' : {'n_estimators': [(i + 1) * 200 for i in range(8)], 'max_depth' : [32]}})\n",
    "    benchmark_items = rp.benchmarking_prep(datasets, model, tuning, project_dir,\n",
    "                                           random_state=random_state_rf,\n",
    "                                           random_state_splits=random_state_splits,\n",
    "                                           start_instance=start_instance,\n",
    "                                           verbose=verbose, n_cores=n_cores)\n",
    "\n",
    "    alpha_paths = np.tile([0.9, 0.5, 0.1], 24)\n",
    "    disc_path_bins = np.tile(np.repeat([4, 8], 3), 12)\n",
    "    score_func = np.tile(np.repeat([5, 3, 1], 6), 4)\n",
    "    support_paths = np.tile(np.repeat([0.3, 0.2], 18), 2)\n",
    "    weighting = np.repeat(['kldiv', 'nothing'], 36)\n",
    "\n",
    "    kwargs_grid = {k : {'alpha_paths' : ap, 'disc_path_bins' : dpb, 'disc_path_eqcounts' : False,\n",
    "                        'score_func' : sf, 'weighting' : w, 'support_paths' : sp,\n",
    "                        'precis_threshold' : precis_threshold,\n",
    "                        'merging_bootstraps' : merging_bootstraps,\n",
    "                        'pruning_bootstraps' : pruning_bootstraps,\n",
    "                        'which_trees' : 'majority',\n",
    "                        'delta' : delta} \n",
    "        for k, ap, dpb, sf, w, sp in zip(range(72), alpha_paths, disc_path_bins, score_func, weighting, support_paths)}\n",
    "    \n",
    "    \n",
    "    for kwargs in kwargs_grid:\n",
    "        bi_copy = rp.deepcopy(benchmark_items) # to avoid running down the internal counters\n",
    "        control = {'method' : 'CHIRPS', 'model' : model,\n",
    "                    'n_instances' : n_instances,\n",
    "                    'random_state' : random_state_exp,\n",
    "                    'kwargs' : kwargs_grid[kwargs],\n",
    "                    'forest_walk_async' : forest_walk_async,\n",
    "                    'chirps_explanation_async' : chirps_explanation_async,\n",
    "                    'n_cores' : n_cores,\n",
    "                    'save_sensitivity_path' : 'rf_sensitivity'}\n",
    "        \n",
    "        print('Sensitivity round: ' + str(kwargs))\n",
    "        rp.do_benchmarking(bi_copy, verbose, **control)\n",
    "        \n",
    "elif model in ('AdaBoost1', 'AdaBoost2'):\n",
    "    if model == 'AdaBoost1':\n",
    "        algo = 'SAMME'\n",
    "        save_sensitivity_path = 'ada1_sensitivity'\n",
    "        support_paths = np.tile(np.tile([0.05, 0.02, 0.01], 16), 2)\n",
    "        n_kwargs = 36\n",
    "    else:\n",
    "        algo = 'SAMME.R'\n",
    "        save_sensitivity_path = 'ada2_sensitivity'\n",
    "        support_paths = np.tile(np.tile([0.005, 0.002, 0.001], 16), 2)\n",
    "        n_kwargs = 72\n",
    "        \n",
    "    max_depth = [i for i in range(1, 5)]\n",
    "    tuning.update({'grid' : {'base_estimator' : [rp.DecisionTreeClassifier(max_depth=d) for d in max_depth],\n",
    "                            'n_estimators': [(i + 1) * 200 for i in range(8)], 'algorithm': [algo]}})\n",
    "    benchmark_items = rp.benchmarking_prep(datasets, model, tuning, project_dir,\n",
    "                                           random_state=123, random_state_splits=123,\n",
    "                                           start_instance=start_instance,\n",
    "                                           verbose=verbose, n_cores=n_cores)\n",
    "    \n",
    "    disc_path_bins = np.tile(np.tile(np.repeat([4, 8], 3), 6), 2)\n",
    "    disc_path_eqcounts = np.tile(np.tile(np.repeat([True, False], 6), 6), 2)\n",
    "    weighting = np.tile(np.repeat(['chisq', 'kldiv', 'nothing'], 12), 2)\n",
    "    which_trees = np.repeat(['majority', 'conf_weighted'], 36)\n",
    "\n",
    "    kwargs_grid = {k : {'paths_lengths_threshold' : 5, 'alpha_paths' : 0.0,\n",
    "                        'disc_path_bins' : dpb, 'disc_path_eqcounts' : dpeq,\n",
    "                        'score_func' : 1, 'weighting' : w, 'support_paths' : sp,\n",
    "                        'merging_bootstraps' : merging_bootstraps,\n",
    "                        'pruning_bootstraps' : pruning_bootstraps,\n",
    "                        'which_trees' : wchtr,\n",
    "                        'delta' : delta} \n",
    "    for k, dpb, dpeq, w, sp, wchtr \\\n",
    "                   in zip(range(n_kwargs), disc_path_bins, disc_path_eqcounts, weighting, support_paths, which_trees)}\n",
    "\n",
    "    for kwargs in kwargs_grid: # range(24, 36): #\n",
    "        bi_copy = rp.deepcopy(benchmark_items) # to avoid running down the internal counters\n",
    "        control = {'method' : 'CHIRPS', 'model' : model,\n",
    "                    'n_instances' : n_instances,\n",
    "                    'random_state' : random_state_exp,\n",
    "                    'kwargs' : kwargs_grid[kwargs],\n",
    "                    'forest_walk_async' : forest_walk_async,\n",
    "                    'chirps_explanation_async' : chirps_explanation_async,\n",
    "                    'n_cores' : n_cores,\n",
    "                    'save_sensitivity_path' : save_sensitivity_path}\n",
    "        \n",
    "        print('Sensitivity round: ' + str(kwargs))\n",
    "        rp.do_benchmarking(bi_copy, verbose, **control)\n",
    "else:\n",
    "    print(model + ' not implemented')"
   ]
  },
  {
   "cell_type": "code",
   "execution_count": null,
   "metadata": {},
   "outputs": [],
   "source": []
  }
 ],
 "metadata": {
  "kernelspec": {
   "display_name": "Python 3",
   "language": "python",
   "name": "python3"
  },
  "language_info": {
   "codemirror_mode": {
    "name": "ipython",
    "version": 3
   },
   "file_extension": ".py",
   "mimetype": "text/x-python",
   "name": "python",
   "nbconvert_exporter": "python",
   "pygments_lexer": "ipython3",
   "version": "3.7.4"
  }
 },
 "nbformat": 4,
 "nbformat_minor": 2
}
