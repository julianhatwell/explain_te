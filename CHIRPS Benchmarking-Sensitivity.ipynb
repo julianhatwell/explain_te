{
 "cells": [
  {
   "cell_type": "markdown",
   "metadata": {},
   "source": [
    "# prologue"
   ]
  },
  {
   "cell_type": "markdown",
   "metadata": {},
   "source": [
    "### set up notebook and load package"
   ]
  },
  {
   "cell_type": "code",
   "execution_count": 1,
   "metadata": {
    "scrolled": false
   },
   "outputs": [],
   "source": [
    "# load what we need\n",
    "import numpy as np\n",
    "import CHIRPS.datasets as ds\n",
    "import CHIRPS.datasets_proprietary as dsp\n",
    "import CHIRPS.reproducible as rp\n",
    "import multiprocessing as mp"
   ]
  },
  {
   "cell_type": "markdown",
   "metadata": {},
   "source": [
    "## Sensitivity Analysis"
   ]
  },
  {
   "cell_type": "code",
   "execution_count": 2,
   "metadata": {
    "scrolled": false
   },
   "outputs": [
    {
     "name": "stdout",
     "output_type": "stream",
     "text": [
      "Preprocessing bankmark data and model for bankmark with random state = 123\n",
      "Split data into main train-test and build forest\n"
     ]
    },
    {
     "name": "stderr",
     "output_type": "stream",
     "text": [
      "/home/julianhatwell/anaconda3/envs/B3/lib/python3.7/site-packages/sklearn/preprocessing/_encoders.py:415: FutureWarning: The handling of integer data will change in version 0.22. Currently, the categories are determined based on the range [0, max(values)], while in the future they will be determined based on the unique values.\n",
      "If you want the future behaviour and silence this warning, you can specify \"categories='auto'\".\n",
      "In case you used a LabelEncoder before this OneHotEncoder to convert the categories to integers, then you can now use the OneHotEncoder directly.\n",
      "  warnings.warn(msg, FutureWarning)\n"
     ]
    },
    {
     "name": "stdout",
     "output_type": "stream",
     "text": [
      "Train main model\n",
      "using previous tuning parameters\n",
      "Best OOB Accuracy Estimate during tuning: 0.9202\n",
      "Best parameters:{'learning_rate': 0.1, 'max_depth': 4, 'n_estimators': 800, 'subsample': 0.5, 'random_state': 123}\n",
      "\n",
      "\n",
      "Sensitivity round: 0\n",
      "Beginning benchmark for bankmark data.\n",
      "Hyper-parameter settings: {'paths_lengths_threshold': 5, 'alpha_paths': 0.0, 'disc_path_bins': 4, 'disc_path_eqcounts': True, 'score_func': 1, 'weighting': 'kldiv', 'support_paths': 0.05, 'merging_bootstraps': 20, 'pruning_bootstraps': 20, 'which_trees': 'targetclass', 'delta': 0.2}\n",
      "\n",
      "Prepare Unseen Data and Predictions for CHIRPS benchmark\n",
      "Walking forest for 100 instances... (please wait)\n",
      "Forest Walk with async = True\n",
      "Forest Walk time elapsed: 2.8694 seconds\n",
      "\n",
      "Running GBHIPS on a batch of 100 instances... (please wait)\n",
      "target class\n",
      "0\n",
      "Working on GBHIPS for instance 0 of 100\n",
      "800\n",
      "100\n",
      "as_chirps for batch_idx 0\n",
      "start mining for batch_idx 0 with support = 0.05\n"
     ]
    },
    {
     "name": "stderr",
     "output_type": "stream",
     "text": [
      "/home/julianhatwell/Documents/github/explain_te/CHIRPS/structures.py:1535: RuntimeWarning: invalid value encountered in true_divide\n",
      "  np.histogram(uppers, upper_bins)[0]).round(5) # can result in nans if no value falls into bin\n",
      "/home/julianhatwell/Documents/github/explain_te/CHIRPS/structures.py:1540: RuntimeWarning: invalid value encountered in true_divide\n",
      "  np.histogram(lowers, lower_bins)[0]).round(5) # can result in nans\n"
     ]
    },
    {
     "name": "stdout",
     "output_type": "stream",
     "text": [
      "found 6 patterns from 78 trees for batch_idx 0\n",
      "start score sort for batch_idx 0 (6) patterns\n",
      "start merge rule for batch_idx 0 (6) patterns\n",
      "[('nr.employed', False, 5088.0)]\n",
      "0.9512125125556034 0.4850689833487866 0.410501991059384 0.5326522081121445\n",
      "merge complete for batch_idx 0 (6) patterns\n",
      "start get explainer for batch_idx 0\n",
      "target class\n",
      "0\n",
      "800\n",
      "100\n",
      "as_chirps for batch_idx 1\n",
      "start mining for batch_idx 1 with support = 0.05\n"
     ]
    },
    {
     "name": "stderr",
     "output_type": "stream",
     "text": [
      "/home/julianhatwell/Documents/github/explain_te/CHIRPS/structures.py:1535: RuntimeWarning: invalid value encountered in true_divide\n",
      "  np.histogram(uppers, upper_bins)[0]).round(5) # can result in nans if no value falls into bin\n",
      "/home/julianhatwell/Documents/github/explain_te/CHIRPS/structures.py:1540: RuntimeWarning: invalid value encountered in true_divide\n",
      "  np.histogram(lowers, lower_bins)[0]).round(5) # can result in nans\n"
     ]
    },
    {
     "name": "stdout",
     "output_type": "stream",
     "text": [
      "found 3 patterns from 81 trees for batch_idx 1\n",
      "start score sort for batch_idx 1 (3) patterns\n",
      "start merge rule for batch_idx 1 (3) patterns\n",
      "[('duration', True, 521.5), ('nr.employed', False, 5088.0)]\n",
      "0.9880473277527366 0.7071000090308379 0.893589987789476 0.7954876147488071\n",
      "merge complete for batch_idx 1 (3) patterns\n",
      "start get explainer for batch_idx 1\n",
      "target class\n",
      "0\n",
      "800\n",
      "100\n",
      "as_chirps for batch_idx 2\n",
      "start mining for batch_idx 2 with support = 0.05\n"
     ]
    },
    {
     "name": "stderr",
     "output_type": "stream",
     "text": [
      "/home/julianhatwell/Documents/github/explain_te/CHIRPS/structures.py:1535: RuntimeWarning: invalid value encountered in true_divide\n",
      "  np.histogram(uppers, upper_bins)[0]).round(5) # can result in nans if no value falls into bin\n",
      "/home/julianhatwell/Documents/github/explain_te/CHIRPS/structures.py:1540: RuntimeWarning: invalid value encountered in true_divide\n",
      "  np.histogram(lowers, lower_bins)[0]).round(5) # can result in nans\n"
     ]
    },
    {
     "name": "stdout",
     "output_type": "stream",
     "text": [
      "found 3 patterns from 80 trees for batch_idx 2\n",
      "start score sort for batch_idx 2 (3) patterns\n",
      "start merge rule for batch_idx 2 (3) patterns\n",
      "[('duration', True, 521.5), ('nr.employed', False, 5088.0)]\n",
      "0.9880473277527366 0.7071000090308379 0.8945102909052436 0.7968186246305963\n",
      "merge complete for batch_idx 2 (3) patterns\n",
      "start get explainer for batch_idx 2\n",
      "target class\n",
      "0\n",
      "800\n",
      "100\n",
      "as_chirps for batch_idx 3\n",
      "start mining for batch_idx 3 with support = 0.05\n"
     ]
    },
    {
     "name": "stderr",
     "output_type": "stream",
     "text": [
      "/home/julianhatwell/Documents/github/explain_te/CHIRPS/structures.py:1535: RuntimeWarning: invalid value encountered in true_divide\n",
      "  np.histogram(uppers, upper_bins)[0]).round(5) # can result in nans if no value falls into bin\n",
      "/home/julianhatwell/Documents/github/explain_te/CHIRPS/structures.py:1540: RuntimeWarning: invalid value encountered in true_divide\n",
      "  np.histogram(lowers, lower_bins)[0]).round(5) # can result in nans\n"
     ]
    },
    {
     "name": "stdout",
     "output_type": "stream",
     "text": [
      "found 3 patterns from 83 trees for batch_idx 3\n",
      "start score sort for batch_idx 3 (3) patterns\n",
      "start merge rule for batch_idx 3 (3) patterns\n",
      "[('duration', True, 553.5), ('nr.employed', False, 5088.0)]\n",
      "0.9869701664481786 0.7082327540483836 0.8755259997425439 0.7661098606150589\n",
      "merge complete for batch_idx 3 (3) patterns\n",
      "start get explainer for batch_idx 3\n",
      "target class\n",
      "0\n",
      "800\n",
      "100\n",
      "as_chirps for batch_idx 4\n",
      "start mining for batch_idx 4 with support = 0.05\n"
     ]
    },
    {
     "name": "stderr",
     "output_type": "stream",
     "text": [
      "/home/julianhatwell/Documents/github/explain_te/CHIRPS/structures.py:1535: RuntimeWarning: invalid value encountered in true_divide\n",
      "  np.histogram(uppers, upper_bins)[0]).round(5) # can result in nans if no value falls into bin\n",
      "/home/julianhatwell/Documents/github/explain_te/CHIRPS/structures.py:1540: RuntimeWarning: invalid value encountered in true_divide\n",
      "  np.histogram(lowers, lower_bins)[0]).round(5) # can result in nans\n"
     ]
    },
    {
     "name": "stdout",
     "output_type": "stream",
     "text": [
      "found 6 patterns from 81 trees for batch_idx 4\n",
      "start score sort for batch_idx 4 (6) patterns\n",
      "start merge rule for batch_idx 4 (6) patterns\n",
      "[('duration', True, 520.5), ('month_oct', True, 0.5), ('nr.employed', False, 5088.0)]\n",
      "0.988991491592403 0.7118959020029467 0.5668584059538271 0.7941953358001789\n",
      "merge complete for batch_idx 4 (6) patterns\n",
      "start get explainer for batch_idx 4\n",
      "target class\n",
      "1\n",
      "Working on GBHIPS for instance 5 of 100\n",
      "800\n",
      "100\n",
      "as_chirps for batch_idx 5\n",
      "start mining for batch_idx 5 with support = 0.05\n"
     ]
    },
    {
     "name": "stderr",
     "output_type": "stream",
     "text": [
      "/home/julianhatwell/Documents/github/explain_te/CHIRPS/structures.py:1535: RuntimeWarning: invalid value encountered in true_divide\n",
      "  np.histogram(uppers, upper_bins)[0]).round(5) # can result in nans if no value falls into bin\n",
      "/home/julianhatwell/Documents/github/explain_te/CHIRPS/structures.py:1540: RuntimeWarning: invalid value encountered in true_divide\n",
      "  np.histogram(lowers, lower_bins)[0]).round(5) # can result in nans\n"
     ]
    },
    {
     "name": "stdout",
     "output_type": "stream",
     "text": [
      "found 12 patterns from 21 trees for batch_idx 5\n",
      "start score sort for batch_idx 5 (12) patterns\n",
      "start merge rule for batch_idx 5 (12) patterns\n",
      "[('nr.employed', True, 5012.0), ('duration', False, 468.56522), ('poutcome_failure', True, 0.5)]\n",
      "0.8820754716981132 0.006615537342929392 0.755704479419774 0.6991299223110433\n",
      "merge complete for batch_idx 5 (12) patterns\n",
      "start get explainer for batch_idx 5\n",
      "target class\n",
      "0\n",
      "800\n",
      "100\n",
      "as_chirps for batch_idx 6\n",
      "start mining for batch_idx 6 with support = 0.05\n"
     ]
    },
    {
     "name": "stderr",
     "output_type": "stream",
     "text": [
      "/home/julianhatwell/Documents/github/explain_te/CHIRPS/structures.py:1535: RuntimeWarning: invalid value encountered in true_divide\n",
      "  np.histogram(uppers, upper_bins)[0]).round(5) # can result in nans if no value falls into bin\n",
      "/home/julianhatwell/Documents/github/explain_te/CHIRPS/structures.py:1540: RuntimeWarning: invalid value encountered in true_divide\n",
      "  np.histogram(lowers, lower_bins)[0]).round(5) # can result in nans\n"
     ]
    },
    {
     "name": "stdout",
     "output_type": "stream",
     "text": [
      "found 4 patterns from 79 trees for batch_idx 6\n",
      "start score sort for batch_idx 6 (4) patterns\n",
      "start merge rule for batch_idx 6 (4) patterns\n",
      "[('nr.employed', False, 5088.0)]\n",
      "0.9512125125556034 0.4850689833487866 0.3736432821540151 0.36272833241127705\n",
      "merge complete for batch_idx 6 (4) patterns\n",
      "start get explainer for batch_idx 6\n",
      "target class\n",
      "0\n",
      "800\n",
      "100\n",
      "as_chirps for batch_idx 7\n",
      "start mining for batch_idx 7 with support = 0.05\n"
     ]
    },
    {
     "name": "stderr",
     "output_type": "stream",
     "text": [
      "/home/julianhatwell/Documents/github/explain_te/CHIRPS/structures.py:1535: RuntimeWarning: invalid value encountered in true_divide\n",
      "  np.histogram(uppers, upper_bins)[0]).round(5) # can result in nans if no value falls into bin\n",
      "/home/julianhatwell/Documents/github/explain_te/CHIRPS/structures.py:1540: RuntimeWarning: invalid value encountered in true_divide\n",
      "  np.histogram(lowers, lower_bins)[0]).round(5) # can result in nans\n"
     ]
    },
    {
     "name": "stdout",
     "output_type": "stream",
     "text": [
      "found 2 patterns from 83 trees for batch_idx 7\n",
      "start score sort for batch_idx 7 (2) patterns\n",
      "start merge rule for batch_idx 7 (2) patterns\n",
      "[('duration', True, 457.5), ('cons.price.idx', False, 92.84375)]\n",
      "0.9647150663544106 0.5673213812692682 1.0 1.0\n",
      "merge complete for batch_idx 7 (2) patterns\n",
      "start get explainer for batch_idx 7\n",
      "target class\n",
      "0\n",
      "800\n",
      "100\n",
      "as_chirps for batch_idx 8\n",
      "start mining for batch_idx 8 with support = 0.05\n"
     ]
    },
    {
     "name": "stderr",
     "output_type": "stream",
     "text": [
      "/home/julianhatwell/Documents/github/explain_te/CHIRPS/structures.py:1535: RuntimeWarning: invalid value encountered in true_divide\n",
      "  np.histogram(uppers, upper_bins)[0]).round(5) # can result in nans if no value falls into bin\n",
      "/home/julianhatwell/Documents/github/explain_te/CHIRPS/structures.py:1540: RuntimeWarning: invalid value encountered in true_divide\n",
      "  np.histogram(lowers, lower_bins)[0]).round(5) # can result in nans\n"
     ]
    },
    {
     "name": "stdout",
     "output_type": "stream",
     "text": [
      "found 3 patterns from 82 trees for batch_idx 8\n",
      "start score sort for batch_idx 8 (3) patterns\n",
      "start merge rule for batch_idx 8 (3) patterns\n",
      "[('duration', True, 515.75926), ('nr.employed', False, 5088.0)]\n",
      "0.9880961988540069 0.705737207524683 0.8802386433197057 0.7700693791971375\n",
      "merge complete for batch_idx 8 (3) patterns\n",
      "start get explainer for batch_idx 8\n",
      "target class\n",
      "0\n",
      "800\n",
      "100\n",
      "as_chirps for batch_idx 9\n",
      "start mining for batch_idx 9 with support = 0.05\n"
     ]
    },
    {
     "name": "stderr",
     "output_type": "stream",
     "text": [
      "/home/julianhatwell/Documents/github/explain_te/CHIRPS/structures.py:1535: RuntimeWarning: invalid value encountered in true_divide\n",
      "  np.histogram(uppers, upper_bins)[0]).round(5) # can result in nans if no value falls into bin\n",
      "/home/julianhatwell/Documents/github/explain_te/CHIRPS/structures.py:1540: RuntimeWarning: invalid value encountered in true_divide\n",
      "  np.histogram(lowers, lower_bins)[0]).round(5) # can result in nans\n"
     ]
    },
    {
     "name": "stdout",
     "output_type": "stream",
     "text": [
      "found 3 patterns from 78 trees for batch_idx 9\n",
      "start score sort for batch_idx 9 (3) patterns\n",
      "start merge rule for batch_idx 9 (3) patterns\n",
      "[('nr.employed', False, 5088.0)]\n",
      "0.9512125125556034 0.4850689833487866 0.6080658249903298 0.42842839891194134\n",
      "merge complete for batch_idx 9 (3) patterns\n",
      "start get explainer for batch_idx 9\n",
      "target class\n",
      "0\n",
      "Working on GBHIPS for instance 10 of 100\n",
      "800\n",
      "100\n",
      "as_chirps for batch_idx 10\n",
      "start mining for batch_idx 10 with support = 0.05\n"
     ]
    },
    {
     "name": "stderr",
     "output_type": "stream",
     "text": [
      "/home/julianhatwell/Documents/github/explain_te/CHIRPS/structures.py:1535: RuntimeWarning: invalid value encountered in true_divide\n",
      "  np.histogram(uppers, upper_bins)[0]).round(5) # can result in nans if no value falls into bin\n",
      "/home/julianhatwell/Documents/github/explain_te/CHIRPS/structures.py:1540: RuntimeWarning: invalid value encountered in true_divide\n",
      "  np.histogram(lowers, lower_bins)[0]).round(5) # can result in nans\n"
     ]
    },
    {
     "name": "stdout",
     "output_type": "stream",
     "text": [
      "found 7 patterns from 84 trees for batch_idx 10\n",
      "start score sort for batch_idx 10 (7) patterns\n",
      "start merge rule for batch_idx 10 (7) patterns\n",
      "[('nr.employed', False, 5088.0)]\n",
      "0.9512125125556034 0.4850689833487866 0.5082073946343861 0.7416489379393738\n",
      "merge complete for batch_idx 10 (7) patterns\n",
      "start get explainer for batch_idx 10\n",
      "target class\n",
      "0\n",
      "800\n",
      "100\n",
      "as_chirps for batch_idx 11\n",
      "start mining for batch_idx 11 with support = 0.05\n"
     ]
    },
    {
     "name": "stderr",
     "output_type": "stream",
     "text": [
      "/home/julianhatwell/Documents/github/explain_te/CHIRPS/structures.py:1535: RuntimeWarning: invalid value encountered in true_divide\n",
      "  np.histogram(uppers, upper_bins)[0]).round(5) # can result in nans if no value falls into bin\n",
      "/home/julianhatwell/Documents/github/explain_te/CHIRPS/structures.py:1540: RuntimeWarning: invalid value encountered in true_divide\n",
      "  np.histogram(lowers, lower_bins)[0]).round(5) # can result in nans\n"
     ]
    },
    {
     "name": "stdout",
     "output_type": "stream",
     "text": [
      "found 3 patterns from 85 trees for batch_idx 11\n",
      "start score sort for batch_idx 11 (3) patterns\n",
      "start merge rule for batch_idx 11 (3) patterns\n",
      "[('duration', True, 457.5), ('nr.employed', False, 5088.0)]\n",
      "0.9890933311131462 0.6923374078341199 0.8971325863300756 0.7910743962921875\n",
      "merge complete for batch_idx 11 (3) patterns\n",
      "start get explainer for batch_idx 11\n",
      "target class\n",
      "0\n",
      "800\n",
      "100\n",
      "as_chirps for batch_idx 12\n",
      "start mining for batch_idx 12 with support = 0.05\n"
     ]
    },
    {
     "name": "stderr",
     "output_type": "stream",
     "text": [
      "/home/julianhatwell/Documents/github/explain_te/CHIRPS/structures.py:1535: RuntimeWarning: invalid value encountered in true_divide\n",
      "  np.histogram(uppers, upper_bins)[0]).round(5) # can result in nans if no value falls into bin\n",
      "/home/julianhatwell/Documents/github/explain_te/CHIRPS/structures.py:1540: RuntimeWarning: invalid value encountered in true_divide\n",
      "  np.histogram(lowers, lower_bins)[0]).round(5) # can result in nans\n"
     ]
    },
    {
     "name": "stdout",
     "output_type": "stream",
     "text": [
      "found 4 patterns from 80 trees for batch_idx 12\n",
      "start score sort for batch_idx 12 (4) patterns\n",
      "start merge rule for batch_idx 12 (4) patterns\n",
      "[('duration', True, 162.5)]\n",
      "0.9872019022309252 0.42383619886475227 0.8032928747035913 0.7487651759850298\n",
      "merge complete for batch_idx 12 (4) patterns\n",
      "start get explainer for batch_idx 12\n",
      "target class\n",
      "0\n",
      "800\n",
      "100\n",
      "as_chirps for batch_idx 13\n",
      "start mining for batch_idx 13 with support = 0.05\n"
     ]
    },
    {
     "name": "stderr",
     "output_type": "stream",
     "text": [
      "/home/julianhatwell/Documents/github/explain_te/CHIRPS/structures.py:1535: RuntimeWarning: invalid value encountered in true_divide\n",
      "  np.histogram(uppers, upper_bins)[0]).round(5) # can result in nans if no value falls into bin\n",
      "/home/julianhatwell/Documents/github/explain_te/CHIRPS/structures.py:1540: RuntimeWarning: invalid value encountered in true_divide\n",
      "  np.histogram(lowers, lower_bins)[0]).round(5) # can result in nans\n"
     ]
    },
    {
     "name": "stdout",
     "output_type": "stream",
     "text": [
      "found 5 patterns from 75 trees for batch_idx 13\n",
      "start score sort for batch_idx 13 (5) patterns\n",
      "start merge rule for batch_idx 13 (5) patterns\n",
      "[('nr.employed', False, 5138.0)]\n",
      "0.9644427809488163 0.505304155855995 0.35484321416688736 0.40758357067772694\n",
      "merge complete for batch_idx 13 (5) patterns\n",
      "start get explainer for batch_idx 13\n",
      "target class\n",
      "0\n",
      "800\n",
      "100\n",
      "as_chirps for batch_idx 14\n",
      "start mining for batch_idx 14 with support = 0.05\n"
     ]
    },
    {
     "name": "stderr",
     "output_type": "stream",
     "text": [
      "/home/julianhatwell/Documents/github/explain_te/CHIRPS/structures.py:1535: RuntimeWarning: invalid value encountered in true_divide\n",
      "  np.histogram(uppers, upper_bins)[0]).round(5) # can result in nans if no value falls into bin\n",
      "/home/julianhatwell/Documents/github/explain_te/CHIRPS/structures.py:1540: RuntimeWarning: invalid value encountered in true_divide\n",
      "  np.histogram(lowers, lower_bins)[0]).round(5) # can result in nans\n"
     ]
    },
    {
     "name": "stdout",
     "output_type": "stream",
     "text": [
      "found 6 patterns from 91 trees for batch_idx 14\n",
      "start score sort for batch_idx 14 (6) patterns\n",
      "start merge rule for batch_idx 14 (6) patterns\n",
      "[('duration', True, 374.05556)]\n",
      "0.9512071056853308 0.4747506944706078 0.3765999488442951 0.3826033431875686\n",
      "merge complete for batch_idx 14 (6) patterns\n",
      "start get explainer for batch_idx 14\n",
      "target class\n",
      "0\n",
      "Working on GBHIPS for instance 15 of 100\n",
      "800\n",
      "100\n",
      "as_chirps for batch_idx 15\n",
      "start mining for batch_idx 15 with support = 0.05\n"
     ]
    },
    {
     "name": "stderr",
     "output_type": "stream",
     "text": [
      "/home/julianhatwell/Documents/github/explain_te/CHIRPS/structures.py:1535: RuntimeWarning: invalid value encountered in true_divide\n",
      "  np.histogram(uppers, upper_bins)[0]).round(5) # can result in nans if no value falls into bin\n",
      "/home/julianhatwell/Documents/github/explain_te/CHIRPS/structures.py:1540: RuntimeWarning: invalid value encountered in true_divide\n",
      "  np.histogram(lowers, lower_bins)[0]).round(5) # can result in nans\n"
     ]
    },
    {
     "name": "stdout",
     "output_type": "stream",
     "text": [
      "found 5 patterns from 85 trees for batch_idx 15\n",
      "start score sort for batch_idx 15 (5) patterns\n",
      "start merge rule for batch_idx 15 (5) patterns\n",
      "[('nr.employed', False, 5088.0)]\n",
      "0.9512125125556034 0.4850689833487866 0.31683613645435565 0.32924084424081107\n",
      "merge complete for batch_idx 15 (5) patterns\n",
      "start get explainer for batch_idx 15\n",
      "target class\n",
      "0\n",
      "800\n",
      "100\n",
      "as_chirps for batch_idx 16\n",
      "start mining for batch_idx 16 with support = 0.05\n"
     ]
    },
    {
     "name": "stderr",
     "output_type": "stream",
     "text": [
      "/home/julianhatwell/Documents/github/explain_te/CHIRPS/structures.py:1535: RuntimeWarning: invalid value encountered in true_divide\n",
      "  np.histogram(uppers, upper_bins)[0]).round(5) # can result in nans if no value falls into bin\n",
      "/home/julianhatwell/Documents/github/explain_te/CHIRPS/structures.py:1540: RuntimeWarning: invalid value encountered in true_divide\n",
      "  np.histogram(lowers, lower_bins)[0]).round(5) # can result in nans\n"
     ]
    },
    {
     "name": "stdout",
     "output_type": "stream",
     "text": [
      "found 5 patterns from 79 trees for batch_idx 16\n",
      "start score sort for batch_idx 16 (5) patterns\n",
      "start merge rule for batch_idx 16 (5) patterns\n",
      "[('emp.var.rate', False, -1.39990234375)]\n",
      "0.9545766119819038 0.4640797951612059 0.32885004366832077 0.5832511799375985\n",
      "merge complete for batch_idx 16 (5) patterns\n",
      "start get explainer for batch_idx 16\n",
      "target class\n",
      "0\n",
      "800\n",
      "100\n",
      "as_chirps for batch_idx 17\n",
      "start mining for batch_idx 17 with support = 0.05\n"
     ]
    },
    {
     "name": "stderr",
     "output_type": "stream",
     "text": [
      "/home/julianhatwell/Documents/github/explain_te/CHIRPS/structures.py:1535: RuntimeWarning: invalid value encountered in true_divide\n",
      "  np.histogram(uppers, upper_bins)[0]).round(5) # can result in nans if no value falls into bin\n",
      "/home/julianhatwell/Documents/github/explain_te/CHIRPS/structures.py:1540: RuntimeWarning: invalid value encountered in true_divide\n",
      "  np.histogram(lowers, lower_bins)[0]).round(5) # can result in nans\n"
     ]
    },
    {
     "name": "stdout",
     "output_type": "stream",
     "text": [
      "found 9 patterns from 75 trees for batch_idx 17\n",
      "start score sort for batch_idx 17 (9) patterns\n",
      "start merge rule for batch_idx 17 (9) patterns\n",
      "[('euribor3m', False, 3.1904296875)]\n",
      "0.9644411172975249 0.5052805125771321 0.30852542446199216 0.38628102947886517\n",
      "merge complete for batch_idx 17 (9) patterns\n",
      "start get explainer for batch_idx 17\n",
      "target class\n",
      "0\n",
      "800\n",
      "100\n",
      "as_chirps for batch_idx 18\n",
      "start mining for batch_idx 18 with support = 0.05\n"
     ]
    },
    {
     "name": "stderr",
     "output_type": "stream",
     "text": [
      "/home/julianhatwell/Documents/github/explain_te/CHIRPS/structures.py:1535: RuntimeWarning: invalid value encountered in true_divide\n",
      "  np.histogram(uppers, upper_bins)[0]).round(5) # can result in nans if no value falls into bin\n",
      "/home/julianhatwell/Documents/github/explain_te/CHIRPS/structures.py:1540: RuntimeWarning: invalid value encountered in true_divide\n",
      "  np.histogram(lowers, lower_bins)[0]).round(5) # can result in nans\n"
     ]
    },
    {
     "name": "stdout",
     "output_type": "stream",
     "text": [
      "found 4 patterns from 83 trees for batch_idx 18\n",
      "start score sort for batch_idx 18 (4) patterns\n",
      "start merge rule for batch_idx 18 (4) patterns\n",
      "[('nr.employed', False, 5050.0)]\n",
      "0.9392287917737789 0.3823489536179615 0.7027790820703236 0.7387403635798431\n",
      "merge complete for batch_idx 18 (4) patterns\n",
      "start get explainer for batch_idx 18\n",
      "target class\n",
      "0\n",
      "800\n",
      "100\n",
      "as_chirps for batch_idx 19\n",
      "start mining for batch_idx 19 with support = 0.05\n"
     ]
    },
    {
     "name": "stderr",
     "output_type": "stream",
     "text": [
      "/home/julianhatwell/Documents/github/explain_te/CHIRPS/structures.py:1535: RuntimeWarning: invalid value encountered in true_divide\n",
      "  np.histogram(uppers, upper_bins)[0]).round(5) # can result in nans if no value falls into bin\n",
      "/home/julianhatwell/Documents/github/explain_te/CHIRPS/structures.py:1540: RuntimeWarning: invalid value encountered in true_divide\n",
      "  np.histogram(lowers, lower_bins)[0]).round(5) # can result in nans\n"
     ]
    },
    {
     "name": "stdout",
     "output_type": "stream",
     "text": [
      "found 6 patterns from 76 trees for batch_idx 19\n",
      "start score sort for batch_idx 19 (6) patterns\n",
      "start merge rule for batch_idx 19 (6) patterns\n",
      "[('euribor3m', False, 1.275390625)]\n",
      "0.9526658588306574 0.48973622692671354 0.4664217601492787 0.6319395262004264\n",
      "merge complete for batch_idx 19 (6) patterns\n",
      "start get explainer for batch_idx 19\n",
      "target class\n",
      "0\n",
      "Working on GBHIPS for instance 20 of 100\n",
      "800\n",
      "100\n",
      "as_chirps for batch_idx 20\n",
      "start mining for batch_idx 20 with support = 0.05\n"
     ]
    },
    {
     "name": "stderr",
     "output_type": "stream",
     "text": [
      "/home/julianhatwell/Documents/github/explain_te/CHIRPS/structures.py:1535: RuntimeWarning: invalid value encountered in true_divide\n",
      "  np.histogram(uppers, upper_bins)[0]).round(5) # can result in nans if no value falls into bin\n",
      "/home/julianhatwell/Documents/github/explain_te/CHIRPS/structures.py:1540: RuntimeWarning: invalid value encountered in true_divide\n",
      "  np.histogram(lowers, lower_bins)[0]).round(5) # can result in nans\n"
     ]
    },
    {
     "name": "stdout",
     "output_type": "stream",
     "text": [
      "found 3 patterns from 94 trees for batch_idx 20\n",
      "start score sort for batch_idx 20 (3) patterns\n",
      "start merge rule for batch_idx 20 (3) patterns\n",
      "[('duration', True, 408.5), ('age', True, 60.5)]\n",
      "0.9563464371559277 0.5116158399275337 0.9196086053517802 0.9462788674460565\n",
      "merge complete for batch_idx 20 (3) patterns\n",
      "start get explainer for batch_idx 20\n",
      "target class\n",
      "0\n",
      "800\n",
      "100\n",
      "as_chirps for batch_idx 21\n",
      "start mining for batch_idx 21 with support = 0.05\n"
     ]
    },
    {
     "name": "stderr",
     "output_type": "stream",
     "text": [
      "/home/julianhatwell/Documents/github/explain_te/CHIRPS/structures.py:1535: RuntimeWarning: invalid value encountered in true_divide\n",
      "  np.histogram(uppers, upper_bins)[0]).round(5) # can result in nans if no value falls into bin\n",
      "/home/julianhatwell/Documents/github/explain_te/CHIRPS/structures.py:1540: RuntimeWarning: invalid value encountered in true_divide\n",
      "  np.histogram(lowers, lower_bins)[0]).round(5) # can result in nans\n"
     ]
    },
    {
     "name": "stdout",
     "output_type": "stream",
     "text": [
      "found 2 patterns from 54 trees for batch_idx 21\n",
      "start score sort for batch_idx 21 (2) patterns\n",
      "start merge rule for batch_idx 21 (2) patterns\n",
      "[('duration', True, 202.5)]\n",
      "0.9780877619020726 0.4871131752062244 0.9745399463785879 0.9503441337739099\n",
      "merge complete for batch_idx 21 (2) patterns\n",
      "start get explainer for batch_idx 21\n",
      "target class\n",
      "0\n",
      "800\n",
      "100\n",
      "as_chirps for batch_idx 22\n",
      "start mining for batch_idx 22 with support = 0.05\n"
     ]
    },
    {
     "name": "stderr",
     "output_type": "stream",
     "text": [
      "/home/julianhatwell/Documents/github/explain_te/CHIRPS/structures.py:1535: RuntimeWarning: invalid value encountered in true_divide\n",
      "  np.histogram(uppers, upper_bins)[0]).round(5) # can result in nans if no value falls into bin\n",
      "/home/julianhatwell/Documents/github/explain_te/CHIRPS/structures.py:1540: RuntimeWarning: invalid value encountered in true_divide\n",
      "  np.histogram(lowers, lower_bins)[0]).round(5) # can result in nans\n"
     ]
    },
    {
     "name": "stdout",
     "output_type": "stream",
     "text": [
      "found 2 patterns from 91 trees for batch_idx 22\n",
      "start score sort for batch_idx 22 (2) patterns\n",
      "start merge rule for batch_idx 22 (2) patterns\n",
      "[('nr.employed', False, 5088.0)]\n",
      "0.9512125125556034 0.4850689833487866 0.5706994427359233 0.24776419054131707\n",
      "merge complete for batch_idx 22 (2) patterns\n",
      "start get explainer for batch_idx 22\n",
      "target class\n",
      "0\n",
      "800\n",
      "100\n",
      "as_chirps for batch_idx 23\n",
      "start mining for batch_idx 23 with support = 0.05\n"
     ]
    },
    {
     "name": "stderr",
     "output_type": "stream",
     "text": [
      "/home/julianhatwell/Documents/github/explain_te/CHIRPS/structures.py:1535: RuntimeWarning: invalid value encountered in true_divide\n",
      "  np.histogram(uppers, upper_bins)[0]).round(5) # can result in nans if no value falls into bin\n",
      "/home/julianhatwell/Documents/github/explain_te/CHIRPS/structures.py:1540: RuntimeWarning: invalid value encountered in true_divide\n",
      "  np.histogram(lowers, lower_bins)[0]).round(5) # can result in nans\n"
     ]
    },
    {
     "name": "stdout",
     "output_type": "stream",
     "text": [
      "found 11 patterns from 81 trees for batch_idx 23\n",
      "start score sort for batch_idx 23 (11) patterns\n",
      "start merge rule for batch_idx 23 (11) patterns\n",
      "[('duration', True, 393.5)]\n",
      "0.9496463714637147 0.46623050139416294 0.2633574222569279 0.3886977254500591\n",
      "merge complete for batch_idx 23 (11) patterns\n",
      "start get explainer for batch_idx 23\n",
      "target class\n",
      "0\n",
      "800\n",
      "100\n",
      "as_chirps for batch_idx 24\n",
      "start mining for batch_idx 24 with support = 0.05\n"
     ]
    },
    {
     "name": "stderr",
     "output_type": "stream",
     "text": [
      "/home/julianhatwell/Documents/github/explain_te/CHIRPS/structures.py:1535: RuntimeWarning: invalid value encountered in true_divide\n",
      "  np.histogram(uppers, upper_bins)[0]).round(5) # can result in nans if no value falls into bin\n",
      "/home/julianhatwell/Documents/github/explain_te/CHIRPS/structures.py:1540: RuntimeWarning: invalid value encountered in true_divide\n",
      "  np.histogram(lowers, lower_bins)[0]).round(5) # can result in nans\n"
     ]
    },
    {
     "name": "stdout",
     "output_type": "stream",
     "text": [
      "found 7 patterns from 86 trees for batch_idx 24\n",
      "start score sort for batch_idx 24 (7) patterns\n",
      "start merge rule for batch_idx 24 (7) patterns\n",
      "[('euribor3m', False, 3.1904296875)]\n",
      "0.9644411172975249 0.5052805125771321 0.3600550874010341 0.4504150768468299\n",
      "merge complete for batch_idx 24 (7) patterns\n",
      "start get explainer for batch_idx 24\n",
      "target class\n",
      "0\n",
      "Working on GBHIPS for instance 25 of 100\n",
      "800\n",
      "100\n",
      "as_chirps for batch_idx 25\n",
      "start mining for batch_idx 25 with support = 0.05\n"
     ]
    },
    {
     "name": "stderr",
     "output_type": "stream",
     "text": [
      "/home/julianhatwell/Documents/github/explain_te/CHIRPS/structures.py:1535: RuntimeWarning: invalid value encountered in true_divide\n",
      "  np.histogram(uppers, upper_bins)[0]).round(5) # can result in nans if no value falls into bin\n",
      "/home/julianhatwell/Documents/github/explain_te/CHIRPS/structures.py:1540: RuntimeWarning: invalid value encountered in true_divide\n",
      "  np.histogram(lowers, lower_bins)[0]).round(5) # can result in nans\n"
     ]
    },
    {
     "name": "stdout",
     "output_type": "stream",
     "text": [
      "found 6 patterns from 79 trees for batch_idx 25\n",
      "start score sort for batch_idx 25 (6) patterns\n",
      "start merge rule for batch_idx 25 (6) patterns\n",
      "[('duration', True, 265.5)]\n",
      "0.9655556070650411 0.51377593898091 0.8163016368095388 0.7025362687662473\n",
      "merge complete for batch_idx 25 (6) patterns\n",
      "start get explainer for batch_idx 25\n",
      "target class\n",
      "0\n",
      "800\n",
      "100\n",
      "as_chirps for batch_idx 26\n",
      "start mining for batch_idx 26 with support = 0.05\n"
     ]
    },
    {
     "name": "stderr",
     "output_type": "stream",
     "text": [
      "/home/julianhatwell/Documents/github/explain_te/CHIRPS/structures.py:1535: RuntimeWarning: invalid value encountered in true_divide\n",
      "  np.histogram(uppers, upper_bins)[0]).round(5) # can result in nans if no value falls into bin\n",
      "/home/julianhatwell/Documents/github/explain_te/CHIRPS/structures.py:1540: RuntimeWarning: invalid value encountered in true_divide\n",
      "  np.histogram(lowers, lower_bins)[0]).round(5) # can result in nans\n"
     ]
    },
    {
     "name": "stdout",
     "output_type": "stream",
     "text": [
      "found 5 patterns from 95 trees for batch_idx 26\n",
      "start score sort for batch_idx 26 (5) patterns\n",
      "start merge rule for batch_idx 26 (5) patterns\n",
      "[('duration', True, 223.5)]\n",
      "0.9730082489297275 0.5012253625956339 0.6640988430646187 0.40193844132825096\n",
      "merge complete for batch_idx 26 (5) patterns\n",
      "start get explainer for batch_idx 26\n",
      "target class\n",
      "0\n",
      "800\n",
      "100\n",
      "as_chirps for batch_idx 27\n",
      "start mining for batch_idx 27 with support = 0.05\n"
     ]
    },
    {
     "name": "stderr",
     "output_type": "stream",
     "text": [
      "/home/julianhatwell/Documents/github/explain_te/CHIRPS/structures.py:1535: RuntimeWarning: invalid value encountered in true_divide\n",
      "  np.histogram(uppers, upper_bins)[0]).round(5) # can result in nans if no value falls into bin\n",
      "/home/julianhatwell/Documents/github/explain_te/CHIRPS/structures.py:1540: RuntimeWarning: invalid value encountered in true_divide\n",
      "  np.histogram(lowers, lower_bins)[0]).round(5) # can result in nans\n"
     ]
    },
    {
     "name": "stdout",
     "output_type": "stream",
     "text": [
      "found 3 patterns from 93 trees for batch_idx 27\n",
      "start score sort for batch_idx 27 (3) patterns\n",
      "start merge rule for batch_idx 27 (3) patterns\n",
      "[('nr.employed', False, 5088.0)]\n",
      "0.9512125125556034 0.4850689833487866 0.7675405113864152 0.6828301595447661\n",
      "merge complete for batch_idx 27 (3) patterns\n",
      "start get explainer for batch_idx 27\n",
      "target class\n",
      "0\n",
      "800\n",
      "100\n",
      "as_chirps for batch_idx 28\n",
      "start mining for batch_idx 28 with support = 0.05\n"
     ]
    },
    {
     "name": "stderr",
     "output_type": "stream",
     "text": [
      "/home/julianhatwell/Documents/github/explain_te/CHIRPS/structures.py:1535: RuntimeWarning: invalid value encountered in true_divide\n",
      "  np.histogram(uppers, upper_bins)[0]).round(5) # can result in nans if no value falls into bin\n",
      "/home/julianhatwell/Documents/github/explain_te/CHIRPS/structures.py:1540: RuntimeWarning: invalid value encountered in true_divide\n",
      "  np.histogram(lowers, lower_bins)[0]).round(5) # can result in nans\n"
     ]
    },
    {
     "name": "stdout",
     "output_type": "stream",
     "text": [
      "found 8 patterns from 75 trees for batch_idx 28\n",
      "start score sort for batch_idx 28 (8) patterns\n",
      "start merge rule for batch_idx 28 (8) patterns\n",
      "[('duration', True, 77.5)]\n",
      "0.9986244841815681 0.1601175477669646 0.6554490320451948 0.694911677693465\n",
      "merge complete for batch_idx 28 (8) patterns\n",
      "start get explainer for batch_idx 28\n",
      "target class\n",
      "0\n",
      "800\n",
      "100\n",
      "as_chirps for batch_idx 29\n",
      "start mining for batch_idx 29 with support = 0.05\n"
     ]
    },
    {
     "name": "stderr",
     "output_type": "stream",
     "text": [
      "/home/julianhatwell/Documents/github/explain_te/CHIRPS/structures.py:1535: RuntimeWarning: invalid value encountered in true_divide\n",
      "  np.histogram(uppers, upper_bins)[0]).round(5) # can result in nans if no value falls into bin\n",
      "/home/julianhatwell/Documents/github/explain_te/CHIRPS/structures.py:1540: RuntimeWarning: invalid value encountered in true_divide\n",
      "  np.histogram(lowers, lower_bins)[0]).round(5) # can result in nans\n"
     ]
    },
    {
     "name": "stdout",
     "output_type": "stream",
     "text": [
      "found 3 patterns from 72 trees for batch_idx 29\n",
      "start score sort for batch_idx 29 (3) patterns\n",
      "start merge rule for batch_idx 29 (3) patterns\n",
      "[('duration', True, 283.65)]\n",
      "0.9626168224299065 0.5110101746400963 0.42471939237722484 0.5481241739284233\n",
      "merge complete for batch_idx 29 (3) patterns\n",
      "start get explainer for batch_idx 29\n",
      "target class\n",
      "0\n",
      "Working on GBHIPS for instance 30 of 100\n",
      "800\n",
      "100\n",
      "as_chirps for batch_idx 30\n",
      "start mining for batch_idx 30 with support = 0.05\n"
     ]
    },
    {
     "name": "stderr",
     "output_type": "stream",
     "text": [
      "/home/julianhatwell/Documents/github/explain_te/CHIRPS/structures.py:1535: RuntimeWarning: invalid value encountered in true_divide\n",
      "  np.histogram(uppers, upper_bins)[0]).round(5) # can result in nans if no value falls into bin\n",
      "/home/julianhatwell/Documents/github/explain_te/CHIRPS/structures.py:1540: RuntimeWarning: invalid value encountered in true_divide\n",
      "  np.histogram(lowers, lower_bins)[0]).round(5) # can result in nans\n"
     ]
    },
    {
     "name": "stdout",
     "output_type": "stream",
     "text": [
      "found 4 patterns from 80 trees for batch_idx 30\n",
      "start score sort for batch_idx 30 (4) patterns\n",
      "start merge rule for batch_idx 30 (4) patterns\n",
      "[('duration', True, 113.5)]\n",
      "0.9947769314472252 0.285281487849383 0.5387559378259585 0.2709479684282619\n",
      "merge complete for batch_idx 30 (4) patterns\n",
      "start get explainer for batch_idx 30\n",
      "target class\n",
      "0\n",
      "800\n",
      "100\n",
      "as_chirps for batch_idx 31\n",
      "start mining for batch_idx 31 with support = 0.05\n"
     ]
    },
    {
     "name": "stderr",
     "output_type": "stream",
     "text": [
      "/home/julianhatwell/Documents/github/explain_te/CHIRPS/structures.py:1535: RuntimeWarning: invalid value encountered in true_divide\n",
      "  np.histogram(uppers, upper_bins)[0]).round(5) # can result in nans if no value falls into bin\n",
      "/home/julianhatwell/Documents/github/explain_te/CHIRPS/structures.py:1540: RuntimeWarning: invalid value encountered in true_divide\n",
      "  np.histogram(lowers, lower_bins)[0]).round(5) # can result in nans\n"
     ]
    },
    {
     "name": "stdout",
     "output_type": "stream",
     "text": [
      "found 5 patterns from 88 trees for batch_idx 31\n",
      "start score sort for batch_idx 31 (5) patterns\n",
      "start merge rule for batch_idx 31 (5) patterns\n",
      "[('emp.var.rate', False, -1.39990234375)]\n",
      "0.9545766119819038 0.4640797951612059 0.45720714548177444 0.6923687110812551\n",
      "merge complete for batch_idx 31 (5) patterns\n",
      "start get explainer for batch_idx 31\n",
      "target class\n",
      "0\n",
      "800\n",
      "100\n",
      "as_chirps for batch_idx 32\n",
      "start mining for batch_idx 32 with support = 0.05\n"
     ]
    },
    {
     "name": "stderr",
     "output_type": "stream",
     "text": [
      "/home/julianhatwell/Documents/github/explain_te/CHIRPS/structures.py:1535: RuntimeWarning: invalid value encountered in true_divide\n",
      "  np.histogram(uppers, upper_bins)[0]).round(5) # can result in nans if no value falls into bin\n",
      "/home/julianhatwell/Documents/github/explain_te/CHIRPS/structures.py:1540: RuntimeWarning: invalid value encountered in true_divide\n",
      "  np.histogram(lowers, lower_bins)[0]).round(5) # can result in nans\n"
     ]
    },
    {
     "name": "stdout",
     "output_type": "stream",
     "text": [
      "found 5 patterns from 69 trees for batch_idx 32\n",
      "start score sort for batch_idx 32 (5) patterns\n",
      "start merge rule for batch_idx 32 (5) patterns\n",
      "[('duration', True, 296.5)]\n",
      "0.9603351223982196 0.5062705241707643 0.3778996041675587 0.5804719813880196\n",
      "merge complete for batch_idx 32 (5) patterns\n",
      "start get explainer for batch_idx 32\n",
      "target class\n",
      "0\n",
      "800\n",
      "100\n",
      "as_chirps for batch_idx 33\n",
      "start mining for batch_idx 33 with support = 0.05\n"
     ]
    },
    {
     "name": "stderr",
     "output_type": "stream",
     "text": [
      "/home/julianhatwell/Documents/github/explain_te/CHIRPS/structures.py:1535: RuntimeWarning: invalid value encountered in true_divide\n",
      "  np.histogram(uppers, upper_bins)[0]).round(5) # can result in nans if no value falls into bin\n",
      "/home/julianhatwell/Documents/github/explain_te/CHIRPS/structures.py:1540: RuntimeWarning: invalid value encountered in true_divide\n",
      "  np.histogram(lowers, lower_bins)[0]).round(5) # can result in nans\n"
     ]
    },
    {
     "name": "stdout",
     "output_type": "stream",
     "text": [
      "found 3 patterns from 90 trees for batch_idx 33\n",
      "start score sort for batch_idx 33 (3) patterns\n",
      "start merge rule for batch_idx 33 (3) patterns\n",
      "[('euribor3m', False, 1.28857421875)]\n",
      "0.9536911974684521 0.4940318039859219 0.6328823388676947 0.4678286031244413\n",
      "merge complete for batch_idx 33 (3) patterns\n",
      "start get explainer for batch_idx 33\n",
      "target class\n",
      "0\n",
      "800\n",
      "100\n",
      "as_chirps for batch_idx 34\n",
      "start mining for batch_idx 34 with support = 0.05\n"
     ]
    },
    {
     "name": "stderr",
     "output_type": "stream",
     "text": [
      "/home/julianhatwell/Documents/github/explain_te/CHIRPS/structures.py:1535: RuntimeWarning: invalid value encountered in true_divide\n",
      "  np.histogram(uppers, upper_bins)[0]).round(5) # can result in nans if no value falls into bin\n",
      "/home/julianhatwell/Documents/github/explain_te/CHIRPS/structures.py:1540: RuntimeWarning: invalid value encountered in true_divide\n",
      "  np.histogram(lowers, lower_bins)[0]).round(5) # can result in nans\n"
     ]
    },
    {
     "name": "stdout",
     "output_type": "stream",
     "text": [
      "found 1 patterns from 56 trees for batch_idx 34\n",
      "start score sort for batch_idx 34 (1) patterns\n",
      "start merge rule for batch_idx 34 (1) patterns\n",
      "[('duration', True, 201.5)]\n",
      "0.9781585068361037 0.4854621503767041 1.0 1.0\n",
      "merge complete for batch_idx 34 (1) patterns\n",
      "start get explainer for batch_idx 34\n",
      "target class\n",
      "1\n",
      "Working on GBHIPS for instance 35 of 100\n",
      "800\n",
      "100\n",
      "as_chirps for batch_idx 35\n",
      "start mining for batch_idx 35 with support = 0.05\n",
      "found 9 patterns from 17 trees for batch_idx 35\n",
      "start score sort for batch_idx 35 (9) patterns\n",
      "start merge rule for batch_idx 35 (9) patterns\n"
     ]
    },
    {
     "name": "stderr",
     "output_type": "stream",
     "text": [
      "/home/julianhatwell/Documents/github/explain_te/CHIRPS/structures.py:1535: RuntimeWarning: invalid value encountered in true_divide\n",
      "  np.histogram(uppers, upper_bins)[0]).round(5) # can result in nans if no value falls into bin\n",
      "/home/julianhatwell/Documents/github/explain_te/CHIRPS/structures.py:1540: RuntimeWarning: invalid value encountered in true_divide\n",
      "  np.histogram(lowers, lower_bins)[0]).round(5) # can result in nans\n"
     ]
    },
    {
     "name": "stdout",
     "output_type": "stream",
     "text": [
      "[('euribor3m', True, 0.66113), ('duration', False, 448.5)]\n",
      "0.864406779661017 0.0017967109205092298 0.5281745262785092 0.428164982154444\n",
      "merge complete for batch_idx 35 (9) patterns\n",
      "start get explainer for batch_idx 35\n",
      "target class\n",
      "0\n",
      "800\n",
      "100\n",
      "as_chirps for batch_idx 36\n",
      "start mining for batch_idx 36 with support = 0.05\n"
     ]
    },
    {
     "name": "stderr",
     "output_type": "stream",
     "text": [
      "/home/julianhatwell/Documents/github/explain_te/CHIRPS/structures.py:1535: RuntimeWarning: invalid value encountered in true_divide\n",
      "  np.histogram(uppers, upper_bins)[0]).round(5) # can result in nans if no value falls into bin\n",
      "/home/julianhatwell/Documents/github/explain_te/CHIRPS/structures.py:1540: RuntimeWarning: invalid value encountered in true_divide\n",
      "  np.histogram(lowers, lower_bins)[0]).round(5) # can result in nans\n"
     ]
    },
    {
     "name": "stdout",
     "output_type": "stream",
     "text": [
      "found 1 patterns from 97 trees for batch_idx 36\n",
      "start score sort for batch_idx 36 (1) patterns\n",
      "start merge rule for batch_idx 36 (1) patterns\n",
      "[('euribor3m', False, 0.71533)]\n",
      "0.916610081805542 0.14604067446982938 1.0 1.0\n",
      "merge complete for batch_idx 36 (1) patterns\n",
      "start get explainer for batch_idx 36\n",
      "target class\n",
      "0\n",
      "800\n",
      "100\n",
      "as_chirps for batch_idx 37\n",
      "start mining for batch_idx 37 with support = 0.05\n"
     ]
    },
    {
     "name": "stderr",
     "output_type": "stream",
     "text": [
      "/home/julianhatwell/Documents/github/explain_te/CHIRPS/structures.py:1535: RuntimeWarning: invalid value encountered in true_divide\n",
      "  np.histogram(uppers, upper_bins)[0]).round(5) # can result in nans if no value falls into bin\n",
      "/home/julianhatwell/Documents/github/explain_te/CHIRPS/structures.py:1540: RuntimeWarning: invalid value encountered in true_divide\n",
      "  np.histogram(lowers, lower_bins)[0]).round(5) # can result in nans\n"
     ]
    },
    {
     "name": "stdout",
     "output_type": "stream",
     "text": [
      "found 3 patterns from 93 trees for batch_idx 37\n",
      "start score sort for batch_idx 37 (3) patterns\n",
      "start merge rule for batch_idx 37 (3) patterns\n",
      "[('duration', True, 466.5), ('euribor3m', False, 0.88134765625)]\n",
      "0.9735930735930736 0.6242501320351783 1.0 1.0\n",
      "merge complete for batch_idx 37 (3) patterns\n",
      "start get explainer for batch_idx 37\n",
      "target class\n",
      "0\n",
      "800\n",
      "100\n",
      "as_chirps for batch_idx 38\n",
      "start mining for batch_idx 38 with support = 0.05\n"
     ]
    },
    {
     "name": "stderr",
     "output_type": "stream",
     "text": [
      "/home/julianhatwell/Documents/github/explain_te/CHIRPS/structures.py:1535: RuntimeWarning: invalid value encountered in true_divide\n",
      "  np.histogram(uppers, upper_bins)[0]).round(5) # can result in nans if no value falls into bin\n",
      "/home/julianhatwell/Documents/github/explain_te/CHIRPS/structures.py:1540: RuntimeWarning: invalid value encountered in true_divide\n",
      "  np.histogram(lowers, lower_bins)[0]).round(5) # can result in nans\n"
     ]
    },
    {
     "name": "stdout",
     "output_type": "stream",
     "text": [
      "found 4 patterns from 90 trees for batch_idx 38\n",
      "start score sort for batch_idx 38 (4) patterns\n",
      "start merge rule for batch_idx 38 (4) patterns\n",
      "[('month_oct', True, 0.5), ('pdays', False, 12.5)]\n",
      "0.9290587533947142 0.2798194223513219 0.6754596409620819 0.9427795924900396\n",
      "merge complete for batch_idx 38 (4) patterns\n",
      "start get explainer for batch_idx 38\n",
      "target class\n",
      "0\n",
      "800\n",
      "100\n",
      "as_chirps for batch_idx 39\n",
      "start mining for batch_idx 39 with support = 0.05\n"
     ]
    },
    {
     "name": "stderr",
     "output_type": "stream",
     "text": [
      "/home/julianhatwell/Documents/github/explain_te/CHIRPS/structures.py:1535: RuntimeWarning: invalid value encountered in true_divide\n",
      "  np.histogram(uppers, upper_bins)[0]).round(5) # can result in nans if no value falls into bin\n",
      "/home/julianhatwell/Documents/github/explain_te/CHIRPS/structures.py:1540: RuntimeWarning: invalid value encountered in true_divide\n",
      "  np.histogram(lowers, lower_bins)[0]).round(5) # can result in nans\n"
     ]
    },
    {
     "name": "stdout",
     "output_type": "stream",
     "text": [
      "found 4 patterns from 85 trees for batch_idx 39\n",
      "start score sort for batch_idx 39 (4) patterns\n",
      "start merge rule for batch_idx 39 (4) patterns\n",
      "[('duration', True, 406.48413)]\n",
      "0.9483878318332004 0.4584564498396657 0.8134232662082423 0.6476493053173562\n",
      "merge complete for batch_idx 39 (4) patterns\n",
      "start get explainer for batch_idx 39\n",
      "target class\n",
      "0\n",
      "Working on GBHIPS for instance 40 of 100\n",
      "800\n",
      "100\n",
      "as_chirps for batch_idx 40\n",
      "start mining for batch_idx 40 with support = 0.05\n"
     ]
    },
    {
     "name": "stderr",
     "output_type": "stream",
     "text": [
      "/home/julianhatwell/Documents/github/explain_te/CHIRPS/structures.py:1535: RuntimeWarning: invalid value encountered in true_divide\n",
      "  np.histogram(uppers, upper_bins)[0]).round(5) # can result in nans if no value falls into bin\n",
      "/home/julianhatwell/Documents/github/explain_te/CHIRPS/structures.py:1540: RuntimeWarning: invalid value encountered in true_divide\n",
      "  np.histogram(lowers, lower_bins)[0]).round(5) # can result in nans\n"
     ]
    },
    {
     "name": "stdout",
     "output_type": "stream",
     "text": [
      "found 2 patterns from 77 trees for batch_idx 40\n",
      "start score sort for batch_idx 40 (2) patterns\n",
      "start merge rule for batch_idx 40 (2) patterns\n",
      "[('duration', True, 334.5)]\n",
      "0.9557518488085456 0.4951787578547331 0.5806659413223716 0.27783941017331965\n",
      "merge complete for batch_idx 40 (2) patterns\n",
      "start get explainer for batch_idx 40\n",
      "target class\n",
      "0\n",
      "800\n",
      "100\n",
      "as_chirps for batch_idx 41\n",
      "start mining for batch_idx 41 with support = 0.05\n"
     ]
    },
    {
     "name": "stderr",
     "output_type": "stream",
     "text": [
      "/home/julianhatwell/Documents/github/explain_te/CHIRPS/structures.py:1535: RuntimeWarning: invalid value encountered in true_divide\n",
      "  np.histogram(uppers, upper_bins)[0]).round(5) # can result in nans if no value falls into bin\n",
      "/home/julianhatwell/Documents/github/explain_te/CHIRPS/structures.py:1540: RuntimeWarning: invalid value encountered in true_divide\n",
      "  np.histogram(lowers, lower_bins)[0]).round(5) # can result in nans\n"
     ]
    },
    {
     "name": "stdout",
     "output_type": "stream",
     "text": [
      "found 3 patterns from 59 trees for batch_idx 41\n",
      "start score sort for batch_idx 41 (3) patterns\n",
      "start merge rule for batch_idx 41 (3) patterns\n",
      "[('duration', True, 242.5)]\n",
      "0.9697477335435554 0.510636427762481 0.5391735645722485 0.37488758644462267\n",
      "merge complete for batch_idx 41 (3) patterns\n",
      "start get explainer for batch_idx 41\n",
      "target class\n",
      "0\n",
      "800\n",
      "100\n",
      "as_chirps for batch_idx 42\n",
      "start mining for batch_idx 42 with support = 0.05\n"
     ]
    },
    {
     "name": "stderr",
     "output_type": "stream",
     "text": [
      "/home/julianhatwell/Documents/github/explain_te/CHIRPS/structures.py:1535: RuntimeWarning: invalid value encountered in true_divide\n",
      "  np.histogram(uppers, upper_bins)[0]).round(5) # can result in nans if no value falls into bin\n",
      "/home/julianhatwell/Documents/github/explain_te/CHIRPS/structures.py:1540: RuntimeWarning: invalid value encountered in true_divide\n",
      "  np.histogram(lowers, lower_bins)[0]).round(5) # can result in nans\n"
     ]
    },
    {
     "name": "stdout",
     "output_type": "stream",
     "text": [
      "found 10 patterns from 90 trees for batch_idx 42\n",
      "start score sort for batch_idx 42 (10) patterns\n",
      "start merge rule for batch_idx 42 (10) patterns\n",
      "[('duration', True, 265.5)]\n",
      "0.9655556070650411 0.51377593898091 0.2944533583065153 0.3060383264030814\n",
      "merge complete for batch_idx 42 (10) patterns\n",
      "start get explainer for batch_idx 42\n",
      "target class\n",
      "0\n",
      "800\n",
      "100\n",
      "as_chirps for batch_idx 43\n",
      "start mining for batch_idx 43 with support = 0.05\n"
     ]
    },
    {
     "name": "stderr",
     "output_type": "stream",
     "text": [
      "/home/julianhatwell/Documents/github/explain_te/CHIRPS/structures.py:1535: RuntimeWarning: invalid value encountered in true_divide\n",
      "  np.histogram(uppers, upper_bins)[0]).round(5) # can result in nans if no value falls into bin\n",
      "/home/julianhatwell/Documents/github/explain_te/CHIRPS/structures.py:1540: RuntimeWarning: invalid value encountered in true_divide\n",
      "  np.histogram(lowers, lower_bins)[0]).round(5) # can result in nans\n"
     ]
    },
    {
     "name": "stdout",
     "output_type": "stream",
     "text": [
      "found 6 patterns from 72 trees for batch_idx 43\n",
      "start score sort for batch_idx 43 (6) patterns\n",
      "start merge rule for batch_idx 43 (6) patterns\n",
      "[('duration', True, 263.5)]\n",
      "0.9659604190919674 0.5141695012770179 0.5790252560654621 0.40718090224657166\n",
      "merge complete for batch_idx 43 (6) patterns\n",
      "start get explainer for batch_idx 43\n",
      "target class\n",
      "1\n",
      "800\n",
      "100\n",
      "as_chirps for batch_idx 44\n",
      "start mining for batch_idx 44 with support = 0.05\n",
      "found 3 patterns from 12 trees for batch_idx 44\n",
      "start score sort for batch_idx 44 (3) patterns\n",
      "start merge rule for batch_idx 44 (3) patterns\n"
     ]
    },
    {
     "name": "stderr",
     "output_type": "stream",
     "text": [
      "/home/julianhatwell/Documents/github/explain_te/CHIRPS/structures.py:1535: RuntimeWarning: invalid value encountered in true_divide\n",
      "  np.histogram(uppers, upper_bins)[0]).round(5) # can result in nans if no value falls into bin\n",
      "/home/julianhatwell/Documents/github/explain_te/CHIRPS/structures.py:1540: RuntimeWarning: invalid value encountered in true_divide\n",
      "  np.histogram(lowers, lower_bins)[0]).round(5) # can result in nans\n"
     ]
    },
    {
     "name": "stdout",
     "output_type": "stream",
     "text": [
      "[('euribor3m', True, 1.28857), ('day_of_week_tue', False, 0.5)]\n",
      "0.4180064308681672 0.028798811357819837 1.0 1.0\n",
      "merge complete for batch_idx 44 (3) patterns\n",
      "start get explainer for batch_idx 44\n",
      "target class\n",
      "0\n",
      "Working on GBHIPS for instance 45 of 100\n",
      "800\n",
      "100\n",
      "as_chirps for batch_idx 45\n",
      "start mining for batch_idx 45 with support = 0.05\n"
     ]
    },
    {
     "name": "stderr",
     "output_type": "stream",
     "text": [
      "/home/julianhatwell/Documents/github/explain_te/CHIRPS/structures.py:1535: RuntimeWarning: invalid value encountered in true_divide\n",
      "  np.histogram(uppers, upper_bins)[0]).round(5) # can result in nans if no value falls into bin\n",
      "/home/julianhatwell/Documents/github/explain_te/CHIRPS/structures.py:1540: RuntimeWarning: invalid value encountered in true_divide\n",
      "  np.histogram(lowers, lower_bins)[0]).round(5) # can result in nans\n"
     ]
    },
    {
     "name": "stdout",
     "output_type": "stream",
     "text": [
      "found 3 patterns from 57 trees for batch_idx 45\n",
      "start score sort for batch_idx 45 (3) patterns\n",
      "start merge rule for batch_idx 45 (3) patterns\n",
      "[('emp.var.rate', False, 0.49981689453125)]\n",
      "0.9656138837986418 0.4621729485981387 0.450739471115269 0.2243789966151804\n",
      "merge complete for batch_idx 45 (3) patterns\n",
      "start get explainer for batch_idx 45\n",
      "target class\n",
      "0\n",
      "800\n",
      "100\n",
      "as_chirps for batch_idx 46\n",
      "start mining for batch_idx 46 with support = 0.05\n"
     ]
    },
    {
     "name": "stderr",
     "output_type": "stream",
     "text": [
      "/home/julianhatwell/Documents/github/explain_te/CHIRPS/structures.py:1535: RuntimeWarning: invalid value encountered in true_divide\n",
      "  np.histogram(uppers, upper_bins)[0]).round(5) # can result in nans if no value falls into bin\n",
      "/home/julianhatwell/Documents/github/explain_te/CHIRPS/structures.py:1540: RuntimeWarning: invalid value encountered in true_divide\n",
      "  np.histogram(lowers, lower_bins)[0]).round(5) # can result in nans\n"
     ]
    },
    {
     "name": "stdout",
     "output_type": "stream",
     "text": [
      "found 2 patterns from 57 trees for batch_idx 46\n",
      "start score sort for batch_idx 46 (2) patterns\n",
      "start merge rule for batch_idx 46 (2) patterns\n",
      "[('emp.var.rate', False, -2.35009765625)]\n",
      "0.9250534605071111 0.25280183256318794 1.0 1.0\n",
      "merge complete for batch_idx 46 (2) patterns\n",
      "start get explainer for batch_idx 46\n",
      "target class\n",
      "0\n",
      "800\n",
      "100\n",
      "as_chirps for batch_idx 47\n",
      "start mining for batch_idx 47 with support = 0.05\n"
     ]
    },
    {
     "name": "stderr",
     "output_type": "stream",
     "text": [
      "/home/julianhatwell/Documents/github/explain_te/CHIRPS/structures.py:1535: RuntimeWarning: invalid value encountered in true_divide\n",
      "  np.histogram(uppers, upper_bins)[0]).round(5) # can result in nans if no value falls into bin\n",
      "/home/julianhatwell/Documents/github/explain_te/CHIRPS/structures.py:1540: RuntimeWarning: invalid value encountered in true_divide\n",
      "  np.histogram(lowers, lower_bins)[0]).round(5) # can result in nans\n"
     ]
    },
    {
     "name": "stdout",
     "output_type": "stream",
     "text": [
      "found 3 patterns from 87 trees for batch_idx 47\n",
      "start score sort for batch_idx 47 (3) patterns\n",
      "start merge rule for batch_idx 47 (3) patterns\n",
      "[('duration', True, 430.5)]\n",
      "0.9464358983923309 0.4453089248707301 0.8709116833867058 0.7565729557185883\n",
      "merge complete for batch_idx 47 (3) patterns\n",
      "start get explainer for batch_idx 47\n",
      "target class\n",
      "0\n",
      "800\n",
      "100\n",
      "as_chirps for batch_idx 48\n",
      "start mining for batch_idx 48 with support = 0.05\n"
     ]
    },
    {
     "name": "stderr",
     "output_type": "stream",
     "text": [
      "/home/julianhatwell/Documents/github/explain_te/CHIRPS/structures.py:1535: RuntimeWarning: invalid value encountered in true_divide\n",
      "  np.histogram(uppers, upper_bins)[0]).round(5) # can result in nans if no value falls into bin\n",
      "/home/julianhatwell/Documents/github/explain_te/CHIRPS/structures.py:1540: RuntimeWarning: invalid value encountered in true_divide\n",
      "  np.histogram(lowers, lower_bins)[0]).round(5) # can result in nans\n"
     ]
    },
    {
     "name": "stdout",
     "output_type": "stream",
     "text": [
      "found 4 patterns from 86 trees for batch_idx 48\n",
      "start score sort for batch_idx 48 (4) patterns\n",
      "start merge rule for batch_idx 48 (4) patterns\n",
      "[('duration', True, 221.5)]\n",
      "0.9732513531977508 0.4995373177795439 0.517291750432112 0.294897676863341\n",
      "merge complete for batch_idx 48 (4) patterns\n",
      "start get explainer for batch_idx 48\n",
      "target class\n",
      "0\n",
      "800\n",
      "100\n",
      "as_chirps for batch_idx 49\n",
      "start mining for batch_idx 49 with support = 0.05\n"
     ]
    },
    {
     "name": "stderr",
     "output_type": "stream",
     "text": [
      "/home/julianhatwell/Documents/github/explain_te/CHIRPS/structures.py:1535: RuntimeWarning: invalid value encountered in true_divide\n",
      "  np.histogram(uppers, upper_bins)[0]).round(5) # can result in nans if no value falls into bin\n",
      "/home/julianhatwell/Documents/github/explain_te/CHIRPS/structures.py:1540: RuntimeWarning: invalid value encountered in true_divide\n",
      "  np.histogram(lowers, lower_bins)[0]).round(5) # can result in nans\n"
     ]
    },
    {
     "name": "stdout",
     "output_type": "stream",
     "text": [
      "found 3 patterns from 99 trees for batch_idx 49\n",
      "start score sort for batch_idx 49 (3) patterns\n",
      "start merge rule for batch_idx 49 (3) patterns\n",
      "[('duration', True, 800.5), ('age', True, 73.5)]\n",
      "0.9298984805255126 0.2884292788962215 1.0 1.0\n",
      "merge complete for batch_idx 49 (3) patterns\n",
      "start get explainer for batch_idx 49\n",
      "target class\n",
      "0\n",
      "Working on GBHIPS for instance 50 of 100\n",
      "800\n",
      "100\n",
      "as_chirps for batch_idx 50\n",
      "start mining for batch_idx 50 with support = 0.05\n"
     ]
    },
    {
     "name": "stderr",
     "output_type": "stream",
     "text": [
      "/home/julianhatwell/Documents/github/explain_te/CHIRPS/structures.py:1535: RuntimeWarning: invalid value encountered in true_divide\n",
      "  np.histogram(uppers, upper_bins)[0]).round(5) # can result in nans if no value falls into bin\n",
      "/home/julianhatwell/Documents/github/explain_te/CHIRPS/structures.py:1540: RuntimeWarning: invalid value encountered in true_divide\n",
      "  np.histogram(lowers, lower_bins)[0]).round(5) # can result in nans\n"
     ]
    },
    {
     "name": "stdout",
     "output_type": "stream",
     "text": [
      "found 5 patterns from 97 trees for batch_idx 50\n",
      "start score sort for batch_idx 50 (5) patterns\n",
      "start merge rule for batch_idx 50 (5) patterns\n",
      "[('nr.employed', False, 4978.0), ('pdays', False, 5.5), ('euribor3m', False, 0.73046875), ('poutcome_success', True, 0.5)]\n",
      "0.9373708633946415 0.3635725079656422 0.7291025085245416 0.9311890839953627\n",
      "merge complete for batch_idx 50 (5) patterns\n",
      "start get explainer for batch_idx 50\n",
      "target class\n",
      "1\n",
      "800\n",
      "100\n",
      "as_chirps for batch_idx 51\n",
      "start mining for batch_idx 51 with support = 0.05\n",
      "found 1 patterns from 12 trees for batch_idx 51\n",
      "start score sort for batch_idx 51 (1) patterns\n",
      "start merge rule for batch_idx 51 (1) patterns\n"
     ]
    },
    {
     "name": "stderr",
     "output_type": "stream",
     "text": [
      "/home/julianhatwell/Documents/github/explain_te/CHIRPS/structures.py:1535: RuntimeWarning: invalid value encountered in true_divide\n",
      "  np.histogram(uppers, upper_bins)[0]).round(5) # can result in nans if no value falls into bin\n",
      "/home/julianhatwell/Documents/github/explain_te/CHIRPS/structures.py:1540: RuntimeWarning: invalid value encountered in true_divide\n",
      "  np.histogram(lowers, lower_bins)[0]).round(5) # can result in nans\n"
     ]
    },
    {
     "name": "stdout",
     "output_type": "stream",
     "text": [
      "[('age', True, 31.5)]\n",
      "0.1273532668881506 0.17766867637918735 1.0 1.0\n",
      "merge complete for batch_idx 51 (1) patterns\n",
      "start get explainer for batch_idx 51\n",
      "target class\n",
      "0\n",
      "800\n",
      "100\n",
      "as_chirps for batch_idx 52\n",
      "start mining for batch_idx 52 with support = 0.05\n"
     ]
    },
    {
     "name": "stderr",
     "output_type": "stream",
     "text": [
      "/home/julianhatwell/Documents/github/explain_te/CHIRPS/structures.py:1535: RuntimeWarning: invalid value encountered in true_divide\n",
      "  np.histogram(uppers, upper_bins)[0]).round(5) # can result in nans if no value falls into bin\n",
      "/home/julianhatwell/Documents/github/explain_te/CHIRPS/structures.py:1540: RuntimeWarning: invalid value encountered in true_divide\n",
      "  np.histogram(lowers, lower_bins)[0]).round(5) # can result in nans\n"
     ]
    },
    {
     "name": "stdout",
     "output_type": "stream",
     "text": [
      "found 2 patterns from 100 trees for batch_idx 52\n",
      "start score sort for batch_idx 52 (2) patterns\n",
      "start merge rule for batch_idx 52 (2) patterns\n",
      "[('age', False, 21.5), ('euribor3m', False, 0.6396484375)]\n",
      "0.9068762902969668 0.03307544927066674 1.0 0.9999999999999999\n",
      "merge complete for batch_idx 52 (2) patterns\n",
      "start get explainer for batch_idx 52\n",
      "target class\n",
      "0\n",
      "800\n",
      "100\n",
      "as_chirps for batch_idx 53\n",
      "start mining for batch_idx 53 with support = 0.05\n"
     ]
    },
    {
     "name": "stderr",
     "output_type": "stream",
     "text": [
      "/home/julianhatwell/Documents/github/explain_te/CHIRPS/structures.py:1535: RuntimeWarning: invalid value encountered in true_divide\n",
      "  np.histogram(uppers, upper_bins)[0]).round(5) # can result in nans if no value falls into bin\n",
      "/home/julianhatwell/Documents/github/explain_te/CHIRPS/structures.py:1540: RuntimeWarning: invalid value encountered in true_divide\n",
      "  np.histogram(lowers, lower_bins)[0]).round(5) # can result in nans\n"
     ]
    },
    {
     "name": "stdout",
     "output_type": "stream",
     "text": [
      "found 2 patterns from 84 trees for batch_idx 53\n",
      "start score sort for batch_idx 53 (2) patterns\n",
      "start merge rule for batch_idx 53 (2) patterns\n",
      "[('duration', True, 448.5)]\n",
      "0.9456120943952803 0.4394741942816801 0.4855492639692778 0.943820719774967\n",
      "merge complete for batch_idx 53 (2) patterns\n",
      "start get explainer for batch_idx 53\n",
      "target class\n",
      "1\n",
      "800\n",
      "100\n",
      "as_chirps for batch_idx 54\n",
      "start mining for batch_idx 54 with support = 0.05\n",
      "found 2 patterns from 17 trees for batch_idx 54\n",
      "start score sort for batch_idx 54 (2) patterns\n",
      "start merge rule for batch_idx 54 (2) patterns\n"
     ]
    },
    {
     "name": "stderr",
     "output_type": "stream",
     "text": [
      "/home/julianhatwell/Documents/github/explain_te/CHIRPS/structures.py:1535: RuntimeWarning: invalid value encountered in true_divide\n",
      "  np.histogram(uppers, upper_bins)[0]).round(5) # can result in nans if no value falls into bin\n",
      "/home/julianhatwell/Documents/github/explain_te/CHIRPS/structures.py:1540: RuntimeWarning: invalid value encountered in true_divide\n",
      "  np.histogram(lowers, lower_bins)[0]).round(5) # can result in nans\n"
     ]
    },
    {
     "name": "stdout",
     "output_type": "stream",
     "text": [
      "[('euribor3m', True, 1.29492)]\n",
      "0.2969376302709636 0.1665386710115848 0.9595829081073014 0.9223059824609899\n",
      "merge complete for batch_idx 54 (2) patterns\n",
      "start get explainer for batch_idx 54\n",
      "target class\n",
      "0\n",
      "Working on GBHIPS for instance 55 of 100\n",
      "800\n",
      "100\n",
      "[{'path': {'feature_idx': [54, 54, 54, 54], 'feature_name': ['duration', 'duration', 'duration', 'duration'], 'feature_value': [24.0, 24.0, 24.0, 24.0], 'threshold': [1737.5, 1616.5, 1364.5, 1300.0], 'leq_threshold': [True, True, True, True]}, 'estimator_weight': 0.000503548028069302, 'pred_class': 1, 'pred_value': 0.000503548028069302, 'agree_sign_delta': False, 'forest_pred_class': 0, 'forest_pred_probas': 0.001079904105317782, 'forest_pred_lodds': -6.8298025455387315, 'prior_probas': 0.11253350149771402, 'prior_lodds': -2.0651198040663528, 'delta_lodds': -4.764682741472379}, {'path': {'feature_idx': [54, 54, 54, 54], 'feature_name': ['duration', 'duration', 'duration', 'duration'], 'feature_value': [157.0, 157.0, 157.0, 157.0], 'threshold': [1737.5, 1616.5, 1364.5, 1300.0], 'leq_threshold': [True, True, True, True]}, 'estimator_weight': 0.000503548028069302, 'pred_class': 1, 'pred_value': 0.000503548028069302, 'agree_sign_delta': False, 'forest_pred_class': 0, 'forest_pred_probas': 0.0018458508699013198, 'forest_pred_lodds': -6.292967375148486, 'prior_probas': 0.11253350149771402, 'prior_lodds': -2.0651198040663528, 'delta_lodds': -4.227847571082133}, {'path': {'feature_idx': [54, 54, 54, 54], 'feature_name': ['duration', 'duration', 'duration', 'duration'], 'feature_value': [622.0, 622.0, 622.0, 622.0], 'threshold': [1737.5, 1616.5, 1364.5, 1300.0], 'leq_threshold': [True, True, True, True]}, 'estimator_weight': 0.000503548028069302, 'pred_class': 1, 'pred_value': 0.000503548028069302, 'agree_sign_delta': True, 'forest_pred_class': 0, 'forest_pred_probas': 0.19114957591660098, 'forest_pred_lodds': -1.4425577685293234, 'prior_probas': 0.11253350149771402, 'prior_lodds': -2.0651198040663528, 'delta_lodds': 0.6225620355370294}, {'path': {'feature_idx': [54, 54, 54, 54], 'feature_name': ['duration', 'duration', 'duration', 'duration'], 'feature_value': [608.0, 608.0, 608.0, 608.0], 'threshold': [1737.5, 1616.5, 1364.5, 1300.0], 'leq_threshold': [True, True, True, True]}, 'estimator_weight': 0.000503548028069302, 'pred_class': 1, 'pred_value': 0.000503548028069302, 'agree_sign_delta': False, 'forest_pred_class': 0, 'forest_pred_probas': 0.026337836460229438, 'forest_pred_lodds': -3.6100578347944823, 'prior_probas': 0.11253350149771402, 'prior_lodds': -2.0651198040663528, 'delta_lodds': -1.5449380307281295}, {'path': {'feature_idx': [54, 54, 54, 54], 'feature_name': ['duration', 'duration', 'duration', 'duration'], 'feature_value': [66.0, 66.0, 66.0, 66.0], 'threshold': [1737.5, 1616.5, 1364.5, 1300.0], 'leq_threshold': [True, True, True, True]}, 'estimator_weight': 0.000503548028069302, 'pred_class': 1, 'pred_value': 0.000503548028069302, 'agree_sign_delta': False, 'forest_pred_class': 0, 'forest_pred_probas': 0.0010056377671267742, 'forest_pred_lodds': -6.901127200824785, 'prior_probas': 0.11253350149771402, 'prior_lodds': -2.0651198040663528, 'delta_lodds': -4.836007396758433}, {'path': {'feature_idx': [54, 54, 54, 54], 'feature_name': ['duration', 'duration', 'duration', 'duration'], 'feature_value': [700.0, 700.0, 700.0, 700.0], 'threshold': [1737.5, 1616.5, 1364.5, 1300.0], 'leq_threshold': [True, True, True, True]}, 'estimator_weight': 0.000503548028069302, 'pred_class': 1, 'pred_value': 0.000503548028069302, 'agree_sign_delta': True, 'forest_pred_class': 1, 'forest_pred_probas': 0.842650239842132, 'forest_pred_lodds': 1.6780808733000099, 'prior_probas': 0.11253350149771402, 'prior_lodds': -2.0651198040663528, 'delta_lodds': 3.743200677366363}, {'path': {'feature_idx': [54, 54, 54, 54], 'feature_name': ['duration', 'duration', 'duration', 'duration'], 'feature_value': [264.0, 264.0, 264.0, 264.0], 'threshold': [1737.5, 1616.5, 1364.5, 1300.0], 'leq_threshold': [True, True, True, True]}, 'estimator_weight': 0.000503548028069302, 'pred_class': 1, 'pred_value': 0.000503548028069302, 'agree_sign_delta': False, 'forest_pred_class': 0, 'forest_pred_probas': 0.00355059019865405, 'forest_pred_lodds': -5.6370845276670725, 'prior_probas': 0.11253350149771402, 'prior_lodds': -2.0651198040663528, 'delta_lodds': -3.5719647236007197}, {'path': {'feature_idx': [54, 54, 54, 54], 'feature_name': ['duration', 'duration', 'duration', 'duration'], 'feature_value': [504.0, 504.0, 504.0, 504.0], 'threshold': [1737.5, 1616.5, 1364.5, 1300.0], 'leq_threshold': [True, True, True, True]}, 'estimator_weight': 0.000503548028069302, 'pred_class': 1, 'pred_value': 0.000503548028069302, 'agree_sign_delta': True, 'forest_pred_class': 0, 'forest_pred_probas': 0.12559058757461877, 'forest_pred_lodds': -1.940521389709847, 'prior_probas': 0.11253350149771402, 'prior_lodds': -2.0651198040663528, 'delta_lodds': 0.12459841435650576}, {'path': {'feature_idx': [54, 54, 54, 54], 'feature_name': ['duration', 'duration', 'duration', 'duration'], 'feature_value': [214.0, 214.0, 214.0, 214.0], 'threshold': [1737.5, 1616.5, 1364.5, 1300.0], 'leq_threshold': [True, True, True, True]}, 'estimator_weight': 0.000503548028069302, 'pred_class': 1, 'pred_value': 0.000503548028069302, 'agree_sign_delta': False, 'forest_pred_class': 0, 'forest_pred_probas': 0.0018285651271910662, 'forest_pred_lodds': -6.302393464191972, 'prior_probas': 0.11253350149771402, 'prior_lodds': -2.0651198040663528, 'delta_lodds': -4.23727366012562}, {'path': {'feature_idx': [54, 54, 54, 54], 'feature_name': ['duration', 'duration', 'duration', 'duration'], 'feature_value': [414.0, 414.0, 414.0, 414.0], 'threshold': [1737.5, 1616.5, 1364.5, 1300.0], 'leq_threshold': [True, True, True, True]}, 'estimator_weight': 0.000503548028069302, 'pred_class': 1, 'pred_value': 0.000503548028069302, 'agree_sign_delta': False, 'forest_pred_class': 0, 'forest_pred_probas': 0.027035193983695267, 'forest_pred_lodds': -3.5832084128539754, 'prior_probas': 0.11253350149771402, 'prior_lodds': -2.0651198040663528, 'delta_lodds': -1.5180886087876226}, {'path': {'feature_idx': [54, 54, 54, 54], 'feature_name': ['duration', 'duration', 'duration', 'duration'], 'feature_value': [60.0, 60.0, 60.0, 60.0], 'threshold': [1737.5, 1616.5, 1364.5, 1300.0], 'leq_threshold': [True, True, True, True]}, 'estimator_weight': 0.000503548028069302, 'pred_class': 1, 'pred_value': 0.000503548028069302, 'agree_sign_delta': False, 'forest_pred_class': 0, 'forest_pred_probas': 0.0009766668747490357, 'forest_pred_lodds': -6.930387787443064, 'prior_probas': 0.11253350149771402, 'prior_lodds': -2.0651198040663528, 'delta_lodds': -4.865267983376711}, {'path': {'feature_idx': [54, 54, 54, 54], 'feature_name': ['duration', 'duration', 'duration', 'duration'], 'feature_value': [187.0, 187.0, 187.0, 187.0], 'threshold': [1737.5, 1616.5, 1364.5, 1300.0], 'leq_threshold': [True, True, True, True]}, 'estimator_weight': 0.000503548028069302, 'pred_class': 1, 'pred_value': 0.000503548028069302, 'agree_sign_delta': False, 'forest_pred_class': 0, 'forest_pred_probas': 0.006661581307420681, 'forest_pred_lodds': -5.004714520391347, 'prior_probas': 0.11253350149771402, 'prior_lodds': -2.0651198040663528, 'delta_lodds': -2.939594716324994}, {'path': {'feature_idx': [54, 54, 54, 54], 'feature_name': ['duration', 'duration', 'duration', 'duration'], 'feature_value': [20.0, 20.0, 20.0, 20.0], 'threshold': [1737.5, 1616.5, 1364.5, 1300.0], 'leq_threshold': [True, True, True, True]}, 'estimator_weight': 0.000503548028069302, 'pred_class': 1, 'pred_value': 0.000503548028069302, 'agree_sign_delta': False, 'forest_pred_class': 0, 'forest_pred_probas': 0.00086263828295437, 'forest_pred_lodds': -7.0546520832774195, 'prior_probas': 0.11253350149771402, 'prior_lodds': -2.0651198040663528, 'delta_lodds': -4.989532279211067}, {'path': {'feature_idx': [54, 54, 54, 54], 'feature_name': ['duration', 'duration', 'duration', 'duration'], 'feature_value': [709.0, 709.0, 709.0, 709.0], 'threshold': [1737.5, 1616.5, 1364.5, 1300.0], 'leq_threshold': [True, True, True, True]}, 'estimator_weight': 0.000503548028069302, 'pred_class': 1, 'pred_value': 0.000503548028069302, 'agree_sign_delta': True, 'forest_pred_class': 0, 'forest_pred_probas': 0.4259453408806592, 'forest_pred_lodds': -0.2984135864872039, 'prior_probas': 0.11253350149771402, 'prior_lodds': -2.0651198040663528, 'delta_lodds': 1.7667062175791488}, {'path': {'feature_idx': [54, 54, 54, 54], 'feature_name': ['duration', 'duration', 'duration', 'duration'], 'feature_value': [54.0, 54.0, 54.0, 54.0], 'threshold': [1737.5, 1616.5, 1364.5, 1300.0], 'leq_threshold': [True, True, True, True]}, 'estimator_weight': 0.000503548028069302, 'pred_class': 1, 'pred_value': 0.000503548028069302, 'agree_sign_delta': False, 'forest_pred_class': 0, 'forest_pred_probas': 0.0009296700485538134, 'forest_pred_lodds': -6.979750718810095, 'prior_probas': 0.11253350149771402, 'prior_lodds': -2.0651198040663528, 'delta_lodds': -4.914630914743743}, {'path': {'feature_idx': [54, 54, 54, 54], 'feature_name': ['duration', 'duration', 'duration', 'duration'], 'feature_value': [114.0, 114.0, 114.0, 114.0], 'threshold': [1737.5, 1616.5, 1364.5, 1300.0], 'leq_threshold': [True, True, True, True]}, 'estimator_weight': 0.000503548028069302, 'pred_class': 1, 'pred_value': 0.000503548028069302, 'agree_sign_delta': False, 'forest_pred_class': 0, 'forest_pred_probas': 0.002212674818518174, 'forest_pred_lodds': -6.111338043783638, 'prior_probas': 0.11253350149771402, 'prior_lodds': -2.0651198040663528, 'delta_lodds': -4.046218239717286}, {'path': {'feature_idx': [54, 54, 54, 54], 'feature_name': ['duration', 'duration', 'duration', 'duration'], 'feature_value': [65.0, 65.0, 65.0, 65.0], 'threshold': [1737.5, 1616.5, 1364.5, 1300.0], 'leq_threshold': [True, True, True, True]}, 'estimator_weight': 0.000503548028069302, 'pred_class': 1, 'pred_value': 0.000503548028069302, 'agree_sign_delta': False, 'forest_pred_class': 0, 'forest_pred_probas': 0.004179458163019587, 'forest_pred_lodds': -5.47338545040929, 'prior_probas': 0.11253350149771402, 'prior_lodds': -2.0651198040663528, 'delta_lodds': -3.408265646342937}, {'path': {'feature_idx': [54, 54, 54, 54], 'feature_name': ['duration', 'duration', 'duration', 'duration'], 'feature_value': [212.0, 212.0, 212.0, 212.0], 'threshold': [1737.5, 1616.5, 1364.5, 1300.0], 'leq_threshold': [True, True, True, True]}, 'estimator_weight': 0.000503548028069302, 'pred_class': 1, 'pred_value': 0.000503548028069302, 'agree_sign_delta': False, 'forest_pred_class': 0, 'forest_pred_probas': 0.001704331186516051, 'forest_pred_lodds': -6.372876725964829, 'prior_probas': 0.11253350149771402, 'prior_lodds': -2.0651198040663528, 'delta_lodds': -4.307756921898477}, {'path': {'feature_idx': [54, 54, 54, 54], 'feature_name': ['duration', 'duration', 'duration', 'duration'], 'feature_value': [90.0, 90.0, 90.0, 90.0], 'threshold': [1737.5, 1616.5, 1364.5, 1300.0], 'leq_threshold': [True, True, True, True]}, 'estimator_weight': 0.000503548028069302, 'pred_class': 1, 'pred_value': 0.000503548028069302, 'agree_sign_delta': False, 'forest_pred_class': 0, 'forest_pred_probas': 0.0016692035686438258, 'forest_pred_lodds': -6.393738073071399, 'prior_probas': 0.11253350149771402, 'prior_lodds': -2.0651198040663528, 'delta_lodds': -4.328618269005046}, {'path': {'feature_idx': [54, 54, 54, 54], 'feature_name': ['duration', 'duration', 'duration', 'duration'], 'feature_value': [87.0, 87.0, 87.0, 87.0], 'threshold': [1737.5, 1616.5, 1364.5, 1300.0], 'leq_threshold': [True, True, True, True]}, 'estimator_weight': 0.000503548028069302, 'pred_class': 1, 'pred_value': 0.000503548028069302, 'agree_sign_delta': False, 'forest_pred_class': 0, 'forest_pred_probas': 0.0017019452490261153, 'forest_pred_lodds': -6.374280022754942, 'prior_probas': 0.11253350149771402, 'prior_lodds': -2.0651198040663528, 'delta_lodds': -4.309160218688589}, {'path': {'feature_idx': [54, 54, 54, 54], 'feature_name': ['duration', 'duration', 'duration', 'duration'], 'feature_value': [48.0, 48.0, 48.0, 48.0], 'threshold': [1737.5, 1616.5, 1364.5, 1300.0], 'leq_threshold': [True, True, True, True]}, 'estimator_weight': 0.000503548028069302, 'pred_class': 1, 'pred_value': 0.000503548028069302, 'agree_sign_delta': False, 'forest_pred_class': 0, 'forest_pred_probas': 0.001298514817586956, 'forest_pred_lodds': -6.64523475699738, 'prior_probas': 0.11253350149771402, 'prior_lodds': -2.0651198040663528, 'delta_lodds': -4.5801149529310266}, {'path': {'feature_idx': [54, 54, 54, 54], 'feature_name': ['duration', 'duration', 'duration', 'duration'], 'feature_value': [299.0, 299.0, 299.0, 299.0], 'threshold': [1737.5, 1616.5, 1364.5, 1300.0], 'leq_threshold': [True, True, True, True]}, 'estimator_weight': 0.000503548028069302, 'pred_class': 1, 'pred_value': 0.000503548028069302, 'agree_sign_delta': False, 'forest_pred_class': 0, 'forest_pred_probas': 0.00460111424776572, 'forest_pred_lodds': -5.37684504508904, 'prior_probas': 0.11253350149771402, 'prior_lodds': -2.0651198040663528, 'delta_lodds': -3.3117252410226876}, {'path': {'feature_idx': [54, 54, 54, 54], 'feature_name': ['duration', 'duration', 'duration', 'duration'], 'feature_value': [88.0, 88.0, 88.0, 88.0], 'threshold': [1737.5, 1616.5, 1364.5, 1300.0], 'leq_threshold': [True, True, True, True]}, 'estimator_weight': 0.000503548028069302, 'pred_class': 1, 'pred_value': 0.000503548028069302, 'agree_sign_delta': False, 'forest_pred_class': 0, 'forest_pred_probas': 0.0010906187794148107, 'forest_pred_lodds': -6.819918842341332, 'prior_probas': 0.11253350149771402, 'prior_lodds': -2.0651198040663528, 'delta_lodds': -4.75479903827498}, {'path': {'feature_idx': [54, 54, 54, 54], 'feature_name': ['duration', 'duration', 'duration', 'duration'], 'feature_value': [323.0, 323.0, 323.0, 323.0], 'threshold': [1737.5, 1616.5, 1364.5, 1300.0], 'leq_threshold': [True, True, True, True]}, 'estimator_weight': 0.000503548028069302, 'pred_class': 1, 'pred_value': 0.000503548028069302, 'agree_sign_delta': False, 'forest_pred_class': 0, 'forest_pred_probas': 0.005647551494400944, 'forest_pred_lodds': -5.1708696323644725, 'prior_probas': 0.11253350149771402, 'prior_lodds': -2.0651198040663528, 'delta_lodds': -3.1057498282981197}, {'path': {'feature_idx': [54, 54, 54, 54], 'feature_name': ['duration', 'duration', 'duration', 'duration'], 'feature_value': [310.0, 310.0, 310.0, 310.0], 'threshold': [1737.5, 1616.5, 1364.5, 1300.0], 'leq_threshold': [True, True, True, True]}, 'estimator_weight': 0.000503548028069302, 'pred_class': 1, 'pred_value': 0.000503548028069302, 'agree_sign_delta': False, 'forest_pred_class': 0, 'forest_pred_probas': 0.004151464480590924, 'forest_pred_lodds': -5.480134014366632, 'prior_probas': 0.11253350149771402, 'prior_lodds': -2.0651198040663528, 'delta_lodds': -3.415014210300279}, {'path': {'feature_idx': [54, 54, 54, 54], 'feature_name': ['duration', 'duration', 'duration', 'duration'], 'feature_value': [250.0, 250.0, 250.0, 250.0], 'threshold': [1737.5, 1616.5, 1364.5, 1300.0], 'leq_threshold': [True, True, True, True]}, 'estimator_weight': 0.000503548028069302, 'pred_class': 1, 'pred_value': 0.000503548028069302, 'agree_sign_delta': False, 'forest_pred_class': 0, 'forest_pred_probas': 0.0023202402646272657, 'forest_pred_lodds': -6.063761600133777, 'prior_probas': 0.11253350149771402, 'prior_lodds': -2.0651198040663528, 'delta_lodds': -3.998641796067424}, {'path': {'feature_idx': [54, 54, 54, 54], 'feature_name': ['duration', 'duration', 'duration', 'duration'], 'feature_value': [62.0, 62.0, 62.0, 62.0], 'threshold': [1737.5, 1616.5, 1364.5, 1300.0], 'leq_threshold': [True, True, True, True]}, 'estimator_weight': 0.000503548028069302, 'pred_class': 1, 'pred_value': 0.000503548028069302, 'agree_sign_delta': False, 'forest_pred_class': 0, 'forest_pred_probas': 0.0008989002676873587, 'forest_pred_lodds': -7.013439162069789, 'prior_probas': 0.11253350149771402, 'prior_lodds': -2.0651198040663528, 'delta_lodds': -4.948319358003436}, {'path': {'feature_idx': [54, 54, 54, 54], 'feature_name': ['duration', 'duration', 'duration', 'duration'], 'feature_value': [47.0, 47.0, 47.0, 47.0], 'threshold': [1737.5, 1616.5, 1364.5, 1300.0], 'leq_threshold': [True, True, True, True]}, 'estimator_weight': 0.000503548028069302, 'pred_class': 1, 'pred_value': 0.000503548028069302, 'agree_sign_delta': False, 'forest_pred_class': 0, 'forest_pred_probas': 0.0012518061293150921, 'forest_pred_lodds': -6.681915276791314, 'prior_probas': 0.11253350149771402, 'prior_lodds': -2.0651198040663528, 'delta_lodds': -4.616795472724961}, {'path': {'feature_idx': [54, 54, 54, 54], 'feature_name': ['duration', 'duration', 'duration', 'duration'], 'feature_value': [144.0, 144.0, 144.0, 144.0], 'threshold': [1737.5, 1616.5, 1364.5, 1300.0], 'leq_threshold': [True, True, True, True]}, 'estimator_weight': 0.000503548028069302, 'pred_class': 1, 'pred_value': 0.000503548028069302, 'agree_sign_delta': False, 'forest_pred_class': 0, 'forest_pred_probas': 0.021300540389306327, 'forest_pred_lodds': -3.827492165497993, 'prior_probas': 0.11253350149771402, 'prior_lodds': -2.0651198040663528, 'delta_lodds': -1.7623723614316402}, {'path': {'feature_idx': [54, 54, 54, 54], 'feature_name': ['duration', 'duration', 'duration', 'duration'], 'feature_value': [278.0, 278.0, 278.0, 278.0], 'threshold': [1737.5, 1616.5, 1364.5, 1300.0], 'leq_threshold': [True, True, True, True]}, 'estimator_weight': 0.000503548028069302, 'pred_class': 1, 'pred_value': 0.000503548028069302, 'agree_sign_delta': False, 'forest_pred_class': 0, 'forest_pred_probas': 0.005464183164296896, 'forest_pred_lodds': -5.204061468840348, 'prior_probas': 0.11253350149771402, 'prior_lodds': -2.0651198040663528, 'delta_lodds': -3.1389416647739954}, {'path': {'feature_idx': [54, 54, 54, 54], 'feature_name': ['duration', 'duration', 'duration', 'duration'], 'feature_value': [445.0, 445.0, 445.0, 445.0], 'threshold': [1737.5, 1616.5, 1364.5, 1300.0], 'leq_threshold': [True, True, True, True]}, 'estimator_weight': 0.000503548028069302, 'pred_class': 1, 'pred_value': 0.000503548028069302, 'agree_sign_delta': False, 'forest_pred_class': 0, 'forest_pred_probas': 0.019975497060168792, 'forest_pred_lodds': -3.89307119889556, 'prior_probas': 0.11253350149771402, 'prior_lodds': -2.0651198040663528, 'delta_lodds': -1.8279513948292072}, {'path': {'feature_idx': [54, 54, 54, 54], 'feature_name': ['duration', 'duration', 'duration', 'duration'], 'feature_value': [154.0, 154.0, 154.0, 154.0], 'threshold': [1737.5, 1616.5, 1364.5, 1300.0], 'leq_threshold': [True, True, True, True]}, 'estimator_weight': 0.000503548028069302, 'pred_class': 1, 'pred_value': 0.000503548028069302, 'agree_sign_delta': False, 'forest_pred_class': 0, 'forest_pred_probas': 0.0056366455579216395, 'forest_pred_lodds': -5.172813558251948, 'prior_probas': 0.11253350149771402, 'prior_lodds': -2.0651198040663528, 'delta_lodds': -3.1076937541855956}, {'path': {'feature_idx': [54, 54, 54, 54], 'feature_name': ['duration', 'duration', 'duration', 'duration'], 'feature_value': [163.0, 163.0, 163.0, 163.0], 'threshold': [1737.5, 1616.5, 1364.5, 1300.0], 'leq_threshold': [True, True, True, True]}, 'estimator_weight': 0.000503548028069302, 'pred_class': 1, 'pred_value': 0.000503548028069302, 'agree_sign_delta': False, 'forest_pred_class': 0, 'forest_pred_probas': 0.0014770291144424106, 'forest_pred_lodds': -6.5162444427528765, 'prior_probas': 0.11253350149771402, 'prior_lodds': -2.0651198040663528, 'delta_lodds': -4.451124638686524}, {'path': {'feature_idx': [54, 54, 54, 54], 'feature_name': ['duration', 'duration', 'duration', 'duration'], 'feature_value': [153.0, 153.0, 153.0, 153.0], 'threshold': [1737.5, 1616.5, 1364.5, 1300.0], 'leq_threshold': [True, True, True, True]}, 'estimator_weight': 0.000503548028069302, 'pred_class': 1, 'pred_value': 0.000503548028069302, 'agree_sign_delta': False, 'forest_pred_class': 0, 'forest_pred_probas': 0.0018570735375395327, 'forest_pred_lodds': -6.286894597176373, 'prior_probas': 0.11253350149771402, 'prior_lodds': -2.0651198040663528, 'delta_lodds': -4.22177479311002}, {'path': {'feature_idx': [54, 54, 54, 54], 'feature_name': ['duration', 'duration', 'duration', 'duration'], 'feature_value': [301.0, 301.0, 301.0, 301.0], 'threshold': [1737.5, 1616.5, 1364.5, 1300.0], 'leq_threshold': [True, True, True, True]}, 'estimator_weight': 0.000503548028069302, 'pred_class': 1, 'pred_value': 0.000503548028069302, 'agree_sign_delta': False, 'forest_pred_class': 0, 'forest_pred_probas': 0.005430659709781504, 'forest_pred_lodds': -5.210249199554203, 'prior_probas': 0.11253350149771402, 'prior_lodds': -2.0651198040663528, 'delta_lodds': -3.14512939548785}, {'path': {'feature_idx': [54, 54, 54, 54], 'feature_name': ['duration', 'duration', 'duration', 'duration'], 'feature_value': [227.0, 227.0, 227.0, 227.0], 'threshold': [1737.5, 1616.5, 1364.5, 1300.0], 'leq_threshold': [True, True, True, True]}, 'estimator_weight': 0.000503548028069302, 'pred_class': 1, 'pred_value': 0.000503548028069302, 'agree_sign_delta': True, 'forest_pred_class': 1, 'forest_pred_probas': 0.531050501630677, 'forest_pred_lodds': 0.12436204010336573, 'prior_probas': 0.11253350149771402, 'prior_lodds': -2.0651198040663528, 'delta_lodds': 2.1894818441697184}, {'path': {'feature_idx': [54, 54, 54, 54], 'feature_name': ['duration', 'duration', 'duration', 'duration'], 'feature_value': [402.0, 402.0, 402.0, 402.0], 'threshold': [1737.5, 1616.5, 1364.5, 1300.0], 'leq_threshold': [True, True, True, True]}, 'estimator_weight': 0.000503548028069302, 'pred_class': 1, 'pred_value': 0.000503548028069302, 'agree_sign_delta': False, 'forest_pred_class': 0, 'forest_pred_probas': 0.025656465291850675, 'forest_pred_lodds': -3.6369683484786255, 'prior_probas': 0.11253350149771402, 'prior_lodds': -2.0651198040663528, 'delta_lodds': -1.5718485444122727}, {'path': {'feature_idx': [54, 54, 54, 54], 'feature_name': ['duration', 'duration', 'duration', 'duration'], 'feature_value': [153.0, 153.0, 153.0, 153.0], 'threshold': [1737.5, 1616.5, 1364.5, 1300.0], 'leq_threshold': [True, True, True, True]}, 'estimator_weight': 0.000503548028069302, 'pred_class': 1, 'pred_value': 0.000503548028069302, 'agree_sign_delta': False, 'forest_pred_class': 0, 'forest_pred_probas': 0.0017891197122221704, 'forest_pred_lodds': -6.3242408388764, 'prior_probas': 0.11253350149771402, 'prior_lodds': -2.0651198040663528, 'delta_lodds': -4.259121034810047}, {'path': {'feature_idx': [54, 54, 54, 54], 'feature_name': ['duration', 'duration', 'duration', 'duration'], 'feature_value': [185.0, 185.0, 185.0, 185.0], 'threshold': [1737.5, 1616.5, 1364.5, 1300.0], 'leq_threshold': [True, True, True, True]}, 'estimator_weight': 0.000503548028069302, 'pred_class': 1, 'pred_value': 0.000503548028069302, 'agree_sign_delta': False, 'forest_pred_class': 0, 'forest_pred_probas': 0.0016239694361796125, 'forest_pred_lodds': -6.421256568002292, 'prior_probas': 0.11253350149771402, 'prior_lodds': -2.0651198040663528, 'delta_lodds': -4.35613676393594}, {'path': {'feature_idx': [54, 54, 54, 54], 'feature_name': ['duration', 'duration', 'duration', 'duration'], 'feature_value': [172.0, 172.0, 172.0, 172.0], 'threshold': [1737.5, 1616.5, 1364.5, 1300.0], 'leq_threshold': [True, True, True, True]}, 'estimator_weight': 0.000503548028069302, 'pred_class': 1, 'pred_value': 0.000503548028069302, 'agree_sign_delta': False, 'forest_pred_class': 0, 'forest_pred_probas': 0.001805419468491629, 'forest_pred_lodds': -6.315155270477621, 'prior_probas': 0.11253350149771402, 'prior_lodds': -2.0651198040663528, 'delta_lodds': -4.250035466411267}, {'path': {'feature_idx': [54, 54, 54, 54], 'feature_name': ['duration', 'duration', 'duration', 'duration'], 'feature_value': [253.0, 253.0, 253.0, 253.0], 'threshold': [1737.5, 1616.5, 1364.5, 1300.0], 'leq_threshold': [True, True, True, True]}, 'estimator_weight': 0.000503548028069302, 'pred_class': 1, 'pred_value': 0.000503548028069302, 'agree_sign_delta': False, 'forest_pred_class': 0, 'forest_pred_probas': 0.0029862151042491783, 'forest_pred_lodds': -5.810757862126893, 'prior_probas': 0.11253350149771402, 'prior_lodds': -2.0651198040663528, 'delta_lodds': -3.7456380580605404}, {'path': {'feature_idx': [54, 54, 54, 54], 'feature_name': ['duration', 'duration', 'duration', 'duration'], 'feature_value': [172.0, 172.0, 172.0, 172.0], 'threshold': [1737.5, 1616.5, 1364.5, 1300.0], 'leq_threshold': [True, True, True, True]}, 'estimator_weight': 0.000503548028069302, 'pred_class': 1, 'pred_value': 0.000503548028069302, 'agree_sign_delta': False, 'forest_pred_class': 0, 'forest_pred_probas': 0.001540232786064712, 'forest_pred_lodds': -6.474280294033843, 'prior_probas': 0.11253350149771402, 'prior_lodds': -2.0651198040663528, 'delta_lodds': -4.4091604899674905}, {'path': {'feature_idx': [54, 54, 54, 54], 'feature_name': ['duration', 'duration', 'duration', 'duration'], 'feature_value': [191.0, 191.0, 191.0, 191.0], 'threshold': [1737.5, 1616.5, 1364.5, 1300.0], 'leq_threshold': [True, True, True, True]}, 'estimator_weight': 0.000503548028069302, 'pred_class': 1, 'pred_value': 0.000503548028069302, 'agree_sign_delta': False, 'forest_pred_class': 0, 'forest_pred_probas': 0.0014293062066016557, 'forest_pred_lodds': -6.549135794013021, 'prior_probas': 0.11253350149771402, 'prior_lodds': -2.0651198040663528, 'delta_lodds': -4.484015989946668}, {'path': {'feature_idx': [54, 54, 54, 54], 'feature_name': ['duration', 'duration', 'duration', 'duration'], 'feature_value': [191.0, 191.0, 191.0, 191.0], 'threshold': [1737.5, 1616.5, 1364.5, 1300.0], 'leq_threshold': [True, True, True, True]}, 'estimator_weight': 0.000503548028069302, 'pred_class': 1, 'pred_value': 0.000503548028069302, 'agree_sign_delta': False, 'forest_pred_class': 0, 'forest_pred_probas': 0.0014617488090884864, 'forest_pred_lodds': -6.526658927418968, 'prior_probas': 0.11253350149771402, 'prior_lodds': -2.0651198040663528, 'delta_lodds': -4.461539123352615}, {'path': {'feature_idx': [54, 54, 54, 54], 'feature_name': ['duration', 'duration', 'duration', 'duration'], 'feature_value': [706.0, 706.0, 706.0, 706.0], 'threshold': [1737.5, 1616.5, 1364.5, 1300.0], 'leq_threshold': [True, True, True, True]}, 'estimator_weight': 0.000503548028069302, 'pred_class': 1, 'pred_value': 0.000503548028069302, 'agree_sign_delta': True, 'forest_pred_class': 1, 'forest_pred_probas': 0.7700856325502085, 'forest_pred_lodds': 1.2087947956074936, 'prior_probas': 0.11253350149771402, 'prior_lodds': -2.0651198040663528, 'delta_lodds': 3.273914599673846}, {'path': {'feature_idx': [54, 54, 54, 54], 'feature_name': ['duration', 'duration', 'duration', 'duration'], 'feature_value': [121.0, 121.0, 121.0, 121.0], 'threshold': [1737.5, 1616.5, 1364.5, 1300.0], 'leq_threshold': [True, True, True, True]}, 'estimator_weight': 0.000503548028069302, 'pred_class': 1, 'pred_value': 0.000503548028069302, 'agree_sign_delta': False, 'forest_pred_class': 0, 'forest_pred_probas': 0.001837877325544519, 'forest_pred_lodds': -6.2973044324287715, 'prior_probas': 0.11253350149771402, 'prior_lodds': -2.0651198040663528, 'delta_lodds': -4.232184628362418}, {'path': {'feature_idx': [54, 54, 54, 54], 'feature_name': ['duration', 'duration', 'duration', 'duration'], 'feature_value': [241.0, 241.0, 241.0, 241.0], 'threshold': [1737.5, 1616.5, 1364.5, 1300.0], 'leq_threshold': [True, True, True, True]}, 'estimator_weight': 0.000503548028069302, 'pred_class': 1, 'pred_value': 0.000503548028069302, 'agree_sign_delta': False, 'forest_pred_class': 0, 'forest_pred_probas': 0.002892971318198265, 'forest_pred_lodds': -5.842574003196618, 'prior_probas': 0.11253350149771402, 'prior_lodds': -2.0651198040663528, 'delta_lodds': -3.7774541991302653}, {'path': {'feature_idx': [54, 54, 54, 54], 'feature_name': ['duration', 'duration', 'duration', 'duration'], 'feature_value': [197.0, 197.0, 197.0, 197.0], 'threshold': [1737.5, 1616.5, 1364.5, 1300.0], 'leq_threshold': [True, True, True, True]}, 'estimator_weight': 0.000503548028069302, 'pred_class': 1, 'pred_value': 0.000503548028069302, 'agree_sign_delta': True, 'forest_pred_class': 0, 'forest_pred_probas': 0.21414465505057315, 'forest_pred_lodds': -1.3001209911420433, 'prior_probas': 0.11253350149771402, 'prior_lodds': -2.0651198040663528, 'delta_lodds': 0.7649988129243095}, {'path': {'feature_idx': [54, 54, 54, 54], 'feature_name': ['duration', 'duration', 'duration', 'duration'], 'feature_value': [64.0, 64.0, 64.0, 64.0], 'threshold': [1737.5, 1616.5, 1364.5, 1300.0], 'leq_threshold': [True, True, True, True]}, 'estimator_weight': 0.000503548028069302, 'pred_class': 1, 'pred_value': 0.000503548028069302, 'agree_sign_delta': False, 'forest_pred_class': 0, 'forest_pred_probas': 0.004661662693383012, 'forest_pred_lodds': -5.363710531198722, 'prior_probas': 0.11253350149771402, 'prior_lodds': -2.0651198040663528, 'delta_lodds': -3.298590727132369}, {'path': {'feature_idx': [54, 54, 54, 54], 'feature_name': ['duration', 'duration', 'duration', 'duration'], 'feature_value': [9.0, 9.0, 9.0, 9.0], 'threshold': [1737.5, 1616.5, 1364.5, 1300.0], 'leq_threshold': [True, True, True, True]}, 'estimator_weight': 0.000503548028069302, 'pred_class': 1, 'pred_value': 0.000503548028069302, 'agree_sign_delta': False, 'forest_pred_class': 0, 'forest_pred_probas': 0.0008498717744830653, 'forest_pred_lodds': -7.069574840288542, 'prior_probas': 0.11253350149771402, 'prior_lodds': -2.0651198040663528, 'delta_lodds': -5.00445503622219}, {'path': {'feature_idx': [54, 54, 54, 54], 'feature_name': ['duration', 'duration', 'duration', 'duration'], 'feature_value': [253.0, 253.0, 253.0, 253.0], 'threshold': [1737.5, 1616.5, 1364.5, 1300.0], 'leq_threshold': [True, True, True, True]}, 'estimator_weight': 0.000503548028069302, 'pred_class': 1, 'pred_value': 0.000503548028069302, 'agree_sign_delta': False, 'forest_pred_class': 0, 'forest_pred_probas': 0.002557163542076803, 'forest_pred_lodds': -5.966296187473827, 'prior_probas': 0.11253350149771402, 'prior_lodds': -2.0651198040663528, 'delta_lodds': -3.9011763834074746}, {'path': {'feature_idx': [54, 54, 54, 54], 'feature_name': ['duration', 'duration', 'duration', 'duration'], 'feature_value': [1037.0, 1037.0, 1037.0, 1037.0], 'threshold': [1737.5, 1616.5, 1364.5, 1300.0], 'leq_threshold': [True, True, True, True]}, 'estimator_weight': 0.000503548028069302, 'pred_class': 1, 'pred_value': 0.000503548028069302, 'agree_sign_delta': True, 'forest_pred_class': 1, 'forest_pred_probas': 0.6511554420698727, 'forest_pred_lodds': 0.6241219577721396, 'prior_probas': 0.11253350149771402, 'prior_lodds': -2.0651198040663528, 'delta_lodds': 2.6892417618384923}, {'path': {'feature_idx': [54, 54, 54, 54], 'feature_name': ['duration', 'duration', 'duration', 'duration'], 'feature_value': [61.0, 61.0, 61.0, 61.0], 'threshold': [1737.5, 1616.5, 1364.5, 1300.0], 'leq_threshold': [True, True, True, True]}, 'estimator_weight': 0.000503548028069302, 'pred_class': 1, 'pred_value': 0.000503548028069302, 'agree_sign_delta': False, 'forest_pred_class': 0, 'forest_pred_probas': 0.003302082137312427, 'forest_pred_lodds': -5.7098945127326495, 'prior_probas': 0.11253350149771402, 'prior_lodds': -2.0651198040663528, 'delta_lodds': -3.6447747086662967}, {'path': {'feature_idx': [54, 54, 54, 54], 'feature_name': ['duration', 'duration', 'duration', 'duration'], 'feature_value': [135.0, 135.0, 135.0, 135.0], 'threshold': [1737.5, 1616.5, 1364.5, 1300.0], 'leq_threshold': [True, True, True, True]}, 'estimator_weight': 0.000503548028069302, 'pred_class': 1, 'pred_value': 0.000503548028069302, 'agree_sign_delta': False, 'forest_pred_class': 0, 'forest_pred_probas': 0.001609526638942796, 'forest_pred_lodds': -6.4302043329766025, 'prior_probas': 0.11253350149771402, 'prior_lodds': -2.0651198040663528, 'delta_lodds': -4.36508452891025}, {'path': {'feature_idx': [54, 54, 54, 54], 'feature_name': ['duration', 'duration', 'duration', 'duration'], 'feature_value': [458.0, 458.0, 458.0, 458.0], 'threshold': [1737.5, 1616.5, 1364.5, 1300.0], 'leq_threshold': [True, True, True, True]}, 'estimator_weight': 0.000503548028069302, 'pred_class': 1, 'pred_value': 0.000503548028069302, 'agree_sign_delta': True, 'forest_pred_class': 1, 'forest_pred_probas': 0.9496773432673947, 'forest_pred_lodds': 2.937666880487039, 'prior_probas': 0.11253350149771402, 'prior_lodds': -2.0651198040663528, 'delta_lodds': 5.002786684553392}, {'path': {'feature_idx': [54, 54, 54, 54], 'feature_name': ['duration', 'duration', 'duration', 'duration'], 'feature_value': [178.0, 178.0, 178.0, 178.0], 'threshold': [1737.5, 1616.5, 1364.5, 1300.0], 'leq_threshold': [True, True, True, True]}, 'estimator_weight': 0.000503548028069302, 'pred_class': 1, 'pred_value': 0.000503548028069302, 'agree_sign_delta': False, 'forest_pred_class': 0, 'forest_pred_probas': 0.01215157712692199, 'forest_pred_lodds': -4.398070301785847, 'prior_probas': 0.11253350149771402, 'prior_lodds': -2.0651198040663528, 'delta_lodds': -2.332950497719494}, {'path': {'feature_idx': [54, 54, 54, 54], 'feature_name': ['duration', 'duration', 'duration', 'duration'], 'feature_value': [43.0, 43.0, 43.0, 43.0], 'threshold': [1737.5, 1616.5, 1364.5, 1300.0], 'leq_threshold': [True, True, True, True]}, 'estimator_weight': 0.000503548028069302, 'pred_class': 1, 'pred_value': 0.000503548028069302, 'agree_sign_delta': False, 'forest_pred_class': 0, 'forest_pred_probas': 0.009737989530255127, 'forest_pred_lodds': -4.6219348825365945, 'prior_probas': 0.11253350149771402, 'prior_lodds': -2.0651198040663528, 'delta_lodds': -2.5568150784702417}, {'path': {'feature_idx': [54, 54, 54, 54], 'feature_name': ['duration', 'duration', 'duration', 'duration'], 'feature_value': [154.0, 154.0, 154.0, 154.0], 'threshold': [1737.5, 1616.5, 1364.5, 1300.0], 'leq_threshold': [True, True, True, True]}, 'estimator_weight': 0.000503548028069302, 'pred_class': 1, 'pred_value': 0.000503548028069302, 'agree_sign_delta': False, 'forest_pred_class': 0, 'forest_pred_probas': 0.0015641780965941216, 'forest_pred_lodds': -6.458829368139045, 'prior_probas': 0.11253350149771402, 'prior_lodds': -2.0651198040663528, 'delta_lodds': -4.393709564072692}, {'path': {'feature_idx': [54, 54, 54, 54], 'feature_name': ['duration', 'duration', 'duration', 'duration'], 'feature_value': [383.0, 383.0, 383.0, 383.0], 'threshold': [1737.5, 1616.5, 1364.5, 1300.0], 'leq_threshold': [True, True, True, True]}, 'estimator_weight': 0.000503548028069302, 'pred_class': 1, 'pred_value': 0.000503548028069302, 'agree_sign_delta': False, 'forest_pred_class': 0, 'forest_pred_probas': 0.07403328431706394, 'forest_pred_lodds': -2.5263235096650076, 'prior_probas': 0.11253350149771402, 'prior_lodds': -2.0651198040663528, 'delta_lodds': -0.46120370559865487}, {'path': {'feature_idx': [54, 54, 54, 54], 'feature_name': ['duration', 'duration', 'duration', 'duration'], 'feature_value': [9.0, 9.0, 9.0, 9.0], 'threshold': [1737.5, 1616.5, 1364.5, 1300.0], 'leq_threshold': [True, True, True, True]}, 'estimator_weight': 0.000503548028069302, 'pred_class': 1, 'pred_value': 0.000503548028069302, 'agree_sign_delta': False, 'forest_pred_class': 0, 'forest_pred_probas': 0.003111819077613044, 'forest_pred_lodds': -5.769431140515369, 'prior_probas': 0.11253350149771402, 'prior_lodds': -2.0651198040663528, 'delta_lodds': -3.7043113364490163}, {'path': {'feature_idx': [54, 54, 54, 54], 'feature_name': ['duration', 'duration', 'duration', 'duration'], 'feature_value': [11.0, 11.0, 11.0, 11.0], 'threshold': [1737.5, 1616.5, 1364.5, 1300.0], 'leq_threshold': [True, True, True, True]}, 'estimator_weight': 0.000503548028069302, 'pred_class': 1, 'pred_value': 0.000503548028069302, 'agree_sign_delta': False, 'forest_pred_class': 0, 'forest_pred_probas': 0.0011849937597495197, 'forest_pred_lodds': -6.73683207402306, 'prior_probas': 0.11253350149771402, 'prior_lodds': -2.0651198040663528, 'delta_lodds': -4.671712269956707}, {'path': {'feature_idx': [54, 54, 54, 54], 'feature_name': ['duration', 'duration', 'duration', 'duration'], 'feature_value': [518.0, 518.0, 518.0, 518.0], 'threshold': [1737.5, 1616.5, 1364.5, 1300.0], 'leq_threshold': [True, True, True, True]}, 'estimator_weight': 0.000503548028069302, 'pred_class': 1, 'pred_value': 0.000503548028069302, 'agree_sign_delta': False, 'forest_pred_class': 0, 'forest_pred_probas': 0.07486015709645769, 'forest_pred_lodds': -2.514323106592209, 'prior_probas': 0.11253350149771402, 'prior_lodds': -2.0651198040663528, 'delta_lodds': -0.44920330252585616}, {'path': {'feature_idx': [54, 54, 54, 54], 'feature_name': ['duration', 'duration', 'duration', 'duration'], 'feature_value': [135.0, 135.0, 135.0, 135.0], 'threshold': [1737.5, 1616.5, 1364.5, 1300.0], 'leq_threshold': [True, True, True, True]}, 'estimator_weight': 0.000503548028069302, 'pred_class': 1, 'pred_value': 0.000503548028069302, 'agree_sign_delta': False, 'forest_pred_class': 0, 'forest_pred_probas': 0.0054001551397895465, 'forest_pred_lodds': -5.2159128075503345, 'prior_probas': 0.11253350149771402, 'prior_lodds': -2.0651198040663528, 'delta_lodds': -3.1507930034839817}, {'path': {'feature_idx': [54, 54, 54, 54], 'feature_name': ['duration', 'duration', 'duration', 'duration'], 'feature_value': [90.0, 90.0, 90.0, 90.0], 'threshold': [1737.5, 1616.5, 1364.5, 1300.0], 'leq_threshold': [True, True, True, True]}, 'estimator_weight': 0.000503548028069302, 'pred_class': 1, 'pred_value': 0.000503548028069302, 'agree_sign_delta': False, 'forest_pred_class': 0, 'forest_pred_probas': 0.0012550632626223304, 'forest_pred_lodds': -6.6793134476907206, 'prior_probas': 0.11253350149771402, 'prior_lodds': -2.0651198040663528, 'delta_lodds': -4.614193643624368}, {'path': {'feature_idx': [54, 54, 54, 54], 'feature_name': ['duration', 'duration', 'duration', 'duration'], 'feature_value': [745.0, 745.0, 745.0, 745.0], 'threshold': [1737.5, 1616.5, 1364.5, 1300.0], 'leq_threshold': [True, True, True, True]}, 'estimator_weight': 0.000503548028069302, 'pred_class': 1, 'pred_value': 0.000503548028069302, 'agree_sign_delta': True, 'forest_pred_class': 1, 'forest_pred_probas': 0.7369585917521101, 'forest_pred_lodds': 1.0302202401487306, 'prior_probas': 0.11253350149771402, 'prior_lodds': -2.0651198040663528, 'delta_lodds': 3.0953400442150834}, {'path': {'feature_idx': [54, 54, 54, 54], 'feature_name': ['duration', 'duration', 'duration', 'duration'], 'feature_value': [201.0, 201.0, 201.0, 201.0], 'threshold': [1737.5, 1616.5, 1364.5, 1300.0], 'leq_threshold': [True, True, True, True]}, 'estimator_weight': 0.000503548028069302, 'pred_class': 1, 'pred_value': 0.000503548028069302, 'agree_sign_delta': False, 'forest_pred_class': 0, 'forest_pred_probas': 0.0015568081116570291, 'forest_pred_lodds': -6.463559614881225, 'prior_probas': 0.11253350149771402, 'prior_lodds': -2.0651198040663528, 'delta_lodds': -4.398439810814873}, {'path': {'feature_idx': [54, 54, 54, 54], 'feature_name': ['duration', 'duration', 'duration', 'duration'], 'feature_value': [185.0, 185.0, 185.0, 185.0], 'threshold': [1737.5, 1616.5, 1364.5, 1300.0], 'leq_threshold': [True, True, True, True]}, 'estimator_weight': 0.000503548028069302, 'pred_class': 1, 'pred_value': 0.000503548028069302, 'agree_sign_delta': False, 'forest_pred_class': 0, 'forest_pred_probas': 0.0018180447048619128, 'forest_pred_lodds': -6.308173994042193, 'prior_probas': 0.11253350149771402, 'prior_lodds': -2.0651198040663528, 'delta_lodds': -4.24305418997584}, {'path': {'feature_idx': [54, 54, 54, 54], 'feature_name': ['duration', 'duration', 'duration', 'duration'], 'feature_value': [81.0, 81.0, 81.0, 81.0], 'threshold': [1737.5, 1616.5, 1364.5, 1300.0], 'leq_threshold': [True, True, True, True]}, 'estimator_weight': 0.000503548028069302, 'pred_class': 1, 'pred_value': 0.000503548028069302, 'agree_sign_delta': False, 'forest_pred_class': 0, 'forest_pred_probas': 0.0016538731599767007, 'forest_pred_lodds': -6.402980129837132, 'prior_probas': 0.11253350149771402, 'prior_lodds': -2.0651198040663528, 'delta_lodds': -4.337860325770778}, {'path': {'feature_idx': [54, 54, 54, 54], 'feature_name': ['duration', 'duration', 'duration', 'duration'], 'feature_value': [91.0, 91.0, 91.0, 91.0], 'threshold': [1737.5, 1616.5, 1364.5, 1300.0], 'leq_threshold': [True, True, True, True]}, 'estimator_weight': 0.000503548028069302, 'pred_class': 1, 'pred_value': 0.000503548028069302, 'agree_sign_delta': False, 'forest_pred_class': 0, 'forest_pred_probas': 0.011722412787138951, 'forest_pred_lodds': -4.434460984833312, 'prior_probas': 0.11253350149771402, 'prior_lodds': -2.0651198040663528, 'delta_lodds': -2.3693411807669595}, {'path': {'feature_idx': [54, 54, 54, 54], 'feature_name': ['duration', 'duration', 'duration', 'duration'], 'feature_value': [68.0, 68.0, 68.0, 68.0], 'threshold': [1737.5, 1616.5, 1364.5, 1300.0], 'leq_threshold': [True, True, True, True]}, 'estimator_weight': 0.000503548028069302, 'pred_class': 1, 'pred_value': 0.000503548028069302, 'agree_sign_delta': False, 'forest_pred_class': 0, 'forest_pred_probas': 0.0018528717674440123, 'forest_pred_lodds': -6.289163946290431, 'prior_probas': 0.11253350149771402, 'prior_lodds': -2.0651198040663528, 'delta_lodds': -4.224044142224079}, {'path': {'feature_idx': [54, 54, 54, 54], 'feature_name': ['duration', 'duration', 'duration', 'duration'], 'feature_value': [350.0, 350.0, 350.0, 350.0], 'threshold': [1737.5, 1616.5, 1364.5, 1300.0], 'leq_threshold': [True, True, True, True]}, 'estimator_weight': 0.000503548028069302, 'pred_class': 1, 'pred_value': 0.000503548028069302, 'agree_sign_delta': True, 'forest_pred_class': 0, 'forest_pred_probas': 0.1388541850433406, 'forest_pred_lodds': -1.8248394913890438, 'prior_probas': 0.11253350149771402, 'prior_lodds': -2.0651198040663528, 'delta_lodds': 0.24028031267730898}, {'path': {'feature_idx': [54, 54, 54, 54], 'feature_name': ['duration', 'duration', 'duration', 'duration'], 'feature_value': [276.0, 276.0, 276.0, 276.0], 'threshold': [1737.5, 1616.5, 1364.5, 1300.0], 'leq_threshold': [True, True, True, True]}, 'estimator_weight': 0.000503548028069302, 'pred_class': 1, 'pred_value': 0.000503548028069302, 'agree_sign_delta': False, 'forest_pred_class': 0, 'forest_pred_probas': 0.004242460957132336, 'forest_pred_lodds': -5.458360277967077, 'prior_probas': 0.11253350149771402, 'prior_lodds': -2.0651198040663528, 'delta_lodds': -3.393240473900724}, {'path': {'feature_idx': [54, 54, 54, 54], 'feature_name': ['duration', 'duration', 'duration', 'duration'], 'feature_value': [213.0, 213.0, 213.0, 213.0], 'threshold': [1737.5, 1616.5, 1364.5, 1300.0], 'leq_threshold': [True, True, True, True]}, 'estimator_weight': 0.000503548028069302, 'pred_class': 1, 'pred_value': 0.000503548028069302, 'agree_sign_delta': False, 'forest_pred_class': 0, 'forest_pred_probas': 0.0022260806497060243, 'forest_pred_lodds': -6.105284233959258, 'prior_probas': 0.11253350149771402, 'prior_lodds': -2.0651198040663528, 'delta_lodds': -4.040164429892906}, {'path': {'feature_idx': [54, 54, 54, 54], 'feature_name': ['duration', 'duration', 'duration', 'duration'], 'feature_value': [247.0, 247.0, 247.0, 247.0], 'threshold': [1737.5, 1616.5, 1364.5, 1300.0], 'leq_threshold': [True, True, True, True]}, 'estimator_weight': 0.000503548028069302, 'pred_class': 1, 'pred_value': 0.000503548028069302, 'agree_sign_delta': False, 'forest_pred_class': 0, 'forest_pred_probas': 0.015572895751447288, 'forest_pred_lodds': -4.146527900608131, 'prior_probas': 0.11253350149771402, 'prior_lodds': -2.0651198040663528, 'delta_lodds': -2.0814080965417783}, {'path': {'feature_idx': [54, 54, 54, 54], 'feature_name': ['duration', 'duration', 'duration', 'duration'], 'feature_value': [446.0, 446.0, 446.0, 446.0], 'threshold': [1737.5, 1616.5, 1364.5, 1300.0], 'leq_threshold': [True, True, True, True]}, 'estimator_weight': 0.000503548028069302, 'pred_class': 1, 'pred_value': 0.000503548028069302, 'agree_sign_delta': False, 'forest_pred_class': 0, 'forest_pred_probas': 0.036497640373407386, 'forest_pred_lodds': -3.273327325672275, 'prior_probas': 0.11253350149771402, 'prior_lodds': -2.0651198040663528, 'delta_lodds': -1.2082075216059223}, {'path': {'feature_idx': [54, 54, 54, 54], 'feature_name': ['duration', 'duration', 'duration', 'duration'], 'feature_value': [186.0, 186.0, 186.0, 186.0], 'threshold': [1737.5, 1616.5, 1364.5, 1300.0], 'leq_threshold': [True, True, True, True]}, 'estimator_weight': 0.000503548028069302, 'pred_class': 1, 'pred_value': 0.000503548028069302, 'agree_sign_delta': False, 'forest_pred_class': 0, 'forest_pred_probas': 0.0017260929601852328, 'forest_pred_lodds': -6.360167244656135, 'prior_probas': 0.11253350149771402, 'prior_lodds': -2.0651198040663528, 'delta_lodds': -4.295047440589782}, {'path': {'feature_idx': [54, 54, 54, 54], 'feature_name': ['duration', 'duration', 'duration', 'duration'], 'feature_value': [110.0, 110.0, 110.0, 110.0], 'threshold': [1737.5, 1616.5, 1364.5, 1300.0], 'leq_threshold': [True, True, True, True]}, 'estimator_weight': 0.000503548028069302, 'pred_class': 1, 'pred_value': 0.000503548028069302, 'agree_sign_delta': False, 'forest_pred_class': 0, 'forest_pred_probas': 0.0012952509070157416, 'forest_pred_lodds': -6.647754761537039, 'prior_probas': 0.11253350149771402, 'prior_lodds': -2.0651198040663528, 'delta_lodds': -4.582634957470686}, {'path': {'feature_idx': [54, 54, 54, 54], 'feature_name': ['duration', 'duration', 'duration', 'duration'], 'feature_value': [355.0, 355.0, 355.0, 355.0], 'threshold': [1737.5, 1616.5, 1364.5, 1300.0], 'leq_threshold': [True, True, True, True]}, 'estimator_weight': 0.000503548028069302, 'pred_class': 1, 'pred_value': 0.000503548028069302, 'agree_sign_delta': True, 'forest_pred_class': 1, 'forest_pred_probas': 0.962230318582451, 'forest_pred_lodds': 3.2377471365287107, 'prior_probas': 0.11253350149771402, 'prior_lodds': -2.0651198040663528, 'delta_lodds': 5.302866940595063}, {'path': {'feature_idx': [54, 54, 54, 54], 'feature_name': ['duration', 'duration', 'duration', 'duration'], 'feature_value': [173.0, 173.0, 173.0, 173.0], 'threshold': [1737.5, 1616.5, 1364.5, 1300.0], 'leq_threshold': [True, True, True, True]}, 'estimator_weight': 0.000503548028069302, 'pred_class': 1, 'pred_value': 0.000503548028069302, 'agree_sign_delta': True, 'forest_pred_class': 0, 'forest_pred_probas': 0.16361580123050057, 'forest_pred_lodds': -1.6315670713786417, 'prior_probas': 0.11253350149771402, 'prior_lodds': -2.0651198040663528, 'delta_lodds': 0.4335527326877111}, {'path': {'feature_idx': [54, 54, 54, 54], 'feature_name': ['duration', 'duration', 'duration', 'duration'], 'feature_value': [22.0, 22.0, 22.0, 22.0], 'threshold': [1737.5, 1616.5, 1364.5, 1300.0], 'leq_threshold': [True, True, True, True]}, 'estimator_weight': 0.000503548028069302, 'pred_class': 1, 'pred_value': 0.000503548028069302, 'agree_sign_delta': False, 'forest_pred_class': 0, 'forest_pred_probas': 0.0018863064699614874, 'forest_pred_lodds': -6.27124652285723, 'prior_probas': 0.11253350149771402, 'prior_lodds': -2.0651198040663528, 'delta_lodds': -4.206126718790877}, {'path': {'feature_idx': [54, 54, 54, 54], 'feature_name': ['duration', 'duration', 'duration', 'duration'], 'feature_value': [323.0, 323.0, 323.0, 323.0], 'threshold': [1737.5, 1616.5, 1364.5, 1300.0], 'leq_threshold': [True, True, True, True]}, 'estimator_weight': 0.000503548028069302, 'pred_class': 1, 'pred_value': 0.000503548028069302, 'agree_sign_delta': False, 'forest_pred_class': 0, 'forest_pred_probas': 0.05216204954970521, 'forest_pred_lodds': -2.8998283389391126, 'prior_probas': 0.11253350149771402, 'prior_lodds': -2.0651198040663528, 'delta_lodds': -0.8347085348727599}, {'path': {'feature_idx': [54, 54, 54, 54], 'feature_name': ['duration', 'duration', 'duration', 'duration'], 'feature_value': [149.0, 149.0, 149.0, 149.0], 'threshold': [1737.5, 1616.5, 1364.5, 1300.0], 'leq_threshold': [True, True, True, True]}, 'estimator_weight': 0.000503548028069302, 'pred_class': 1, 'pred_value': 0.000503548028069302, 'agree_sign_delta': False, 'forest_pred_class': 0, 'forest_pred_probas': 0.0017919272247194863, 'forest_pred_lodds': -6.322670041812848, 'prior_probas': 0.11253350149771402, 'prior_lodds': -2.0651198040663528, 'delta_lodds': -4.257550237746495}, {'path': {'feature_idx': [54, 54, 54, 54], 'feature_name': ['duration', 'duration', 'duration', 'duration'], 'feature_value': [180.0, 180.0, 180.0, 180.0], 'threshold': [1737.5, 1616.5, 1364.5, 1300.0], 'leq_threshold': [True, True, True, True]}, 'estimator_weight': 0.000503548028069302, 'pred_class': 1, 'pred_value': 0.000503548028069302, 'agree_sign_delta': False, 'forest_pred_class': 0, 'forest_pred_probas': 0.0014136073756862108, 'forest_pred_lodds': -6.560195811849771, 'prior_probas': 0.11253350149771402, 'prior_lodds': -2.0651198040663528, 'delta_lodds': -4.4950760077834175}, {'path': {'feature_idx': [54, 54, 54, 54], 'feature_name': ['duration', 'duration', 'duration', 'duration'], 'feature_value': [113.0, 113.0, 113.0, 113.0], 'threshold': [1737.5, 1616.5, 1364.5, 1300.0], 'leq_threshold': [True, True, True, True]}, 'estimator_weight': 0.000503548028069302, 'pred_class': 1, 'pred_value': 0.000503548028069302, 'agree_sign_delta': False, 'forest_pred_class': 0, 'forest_pred_probas': 0.012795480173821715, 'forest_pred_lodds': -4.34578523442385, 'prior_probas': 0.11253350149771402, 'prior_lodds': -2.0651198040663528, 'delta_lodds': -2.2806654303574976}, {'path': {'feature_idx': [54, 54, 54, 54], 'feature_name': ['duration', 'duration', 'duration', 'duration'], 'feature_value': [81.0, 81.0, 81.0, 81.0], 'threshold': [1737.5, 1616.5, 1364.5, 1300.0], 'leq_threshold': [True, True, True, True]}, 'estimator_weight': 0.000503548028069302, 'pred_class': 1, 'pred_value': 0.000503548028069302, 'agree_sign_delta': False, 'forest_pred_class': 0, 'forest_pred_probas': 0.0010063348242946633, 'forest_pred_lodds': -6.900433593829491, 'prior_probas': 0.11253350149771402, 'prior_lodds': -2.0651198040663528, 'delta_lodds': -4.835313789763138}, {'path': {'feature_idx': [54, 54, 54, 54], 'feature_name': ['duration', 'duration', 'duration', 'duration'], 'feature_value': [128.0, 128.0, 128.0, 128.0], 'threshold': [1737.5, 1616.5, 1364.5, 1300.0], 'leq_threshold': [True, True, True, True]}, 'estimator_weight': 0.000503548028069302, 'pred_class': 1, 'pred_value': 0.000503548028069302, 'agree_sign_delta': False, 'forest_pred_class': 0, 'forest_pred_probas': 0.0012828563730578658, 'forest_pred_lodds': -6.65738246585206, 'prior_probas': 0.11253350149771402, 'prior_lodds': -2.0651198040663528, 'delta_lodds': -4.592262661785707}, {'path': {'feature_idx': [54, 54, 54, 54], 'feature_name': ['duration', 'duration', 'duration', 'duration'], 'feature_value': [746.0, 746.0, 746.0, 746.0], 'threshold': [1737.5, 1616.5, 1364.5, 1300.0], 'leq_threshold': [True, True, True, True]}, 'estimator_weight': 0.000503548028069302, 'pred_class': 1, 'pred_value': 0.000503548028069302, 'agree_sign_delta': True, 'forest_pred_class': 1, 'forest_pred_probas': 0.8383826052867845, 'forest_pred_lodds': 1.646242784994311, 'prior_probas': 0.11253350149771402, 'prior_lodds': -2.0651198040663528, 'delta_lodds': 3.7113625890606636}, {'path': {'feature_idx': [54, 54, 54, 54], 'feature_name': ['duration', 'duration', 'duration', 'duration'], 'feature_value': [361.0, 361.0, 361.0, 361.0], 'threshold': [1737.5, 1616.5, 1364.5, 1300.0], 'leq_threshold': [True, True, True, True]}, 'estimator_weight': 0.000503548028069302, 'pred_class': 1, 'pred_value': 0.000503548028069302, 'agree_sign_delta': False, 'forest_pred_class': 0, 'forest_pred_probas': 0.008746969833851443, 'forest_pred_lodds': -4.730262494169023, 'prior_probas': 0.11253350149771402, 'prior_lodds': -2.0651198040663528, 'delta_lodds': -2.66514269010267}, {'path': {'feature_idx': [54, 54, 54, 54], 'feature_name': ['duration', 'duration', 'duration', 'duration'], 'feature_value': [246.0, 246.0, 246.0, 246.0], 'threshold': [1737.5, 1616.5, 1364.5, 1300.0], 'leq_threshold': [True, True, True, True]}, 'estimator_weight': 0.000503548028069302, 'pred_class': 1, 'pred_value': 0.000503548028069302, 'agree_sign_delta': False, 'forest_pred_class': 0, 'forest_pred_probas': 0.006717216639080416, 'forest_pred_lodds': -4.996341522181066, 'prior_probas': 0.11253350149771402, 'prior_lodds': -2.0651198040663528, 'delta_lodds': -2.931221718114713}, {'path': {'feature_idx': [54, 54, 54, 54], 'feature_name': ['duration', 'duration', 'duration', 'duration'], 'feature_value': [267.0, 267.0, 267.0, 267.0], 'threshold': [1737.5, 1616.5, 1364.5, 1300.0], 'leq_threshold': [True, True, True, True]}, 'estimator_weight': 0.000503548028069302, 'pred_class': 1, 'pred_value': 0.000503548028069302, 'agree_sign_delta': False, 'forest_pred_class': 0, 'forest_pred_probas': 0.0061351997902250105, 'forest_pred_lodds': -5.087558538243562, 'prior_probas': 0.11253350149771402, 'prior_lodds': -2.0651198040663528, 'delta_lodds': -3.0224387341772094}, {'path': {'feature_idx': [54, 54, 54, 54], 'feature_name': ['duration', 'duration', 'duration', 'duration'], 'feature_value': [337.0, 337.0, 337.0, 337.0], 'threshold': [1737.5, 1616.5, 1364.5, 1300.0], 'leq_threshold': [True, True, True, True]}, 'estimator_weight': 0.000503548028069302, 'pred_class': 1, 'pred_value': 0.000503548028069302, 'agree_sign_delta': False, 'forest_pred_class': 0, 'forest_pred_probas': 0.005588226551327094, 'forest_pred_lodds': -5.181489396833953, 'prior_probas': 0.11253350149771402, 'prior_lodds': -2.0651198040663528, 'delta_lodds': -3.1163695927676005}, {'path': {'feature_idx': [54, 54, 54, 54], 'feature_name': ['duration', 'duration', 'duration', 'duration'], 'feature_value': [295.0, 295.0, 295.0, 295.0], 'threshold': [1737.5, 1616.5, 1364.5, 1300.0], 'leq_threshold': [True, True, True, True]}, 'estimator_weight': 0.000503548028069302, 'pred_class': 1, 'pred_value': 0.000503548028069302, 'agree_sign_delta': False, 'forest_pred_class': 0, 'forest_pred_probas': 0.007798994258454211, 'forest_pred_lodds': -4.845930929356342, 'prior_probas': 0.11253350149771402, 'prior_lodds': -2.0651198040663528, 'delta_lodds': -2.7808111252899894}, {'path': {'feature_idx': [54, 54, 54, 54], 'feature_name': ['duration', 'duration', 'duration', 'duration'], 'feature_value': [322.0, 322.0, 322.0, 322.0], 'threshold': [1737.5, 1616.5, 1364.5, 1300.0], 'leq_threshold': [True, True, True, True]}, 'estimator_weight': 0.000503548028069302, 'pred_class': 1, 'pred_value': 0.000503548028069302, 'agree_sign_delta': False, 'forest_pred_class': 0, 'forest_pred_probas': 0.012952677334313625, 'forest_pred_lodds': -4.333415473507918, 'prior_probas': 0.11253350149771402, 'prior_lodds': -2.0651198040663528, 'delta_lodds': -2.268295669441565}, {'path': {'feature_idx': [54, 54, 54, 54], 'feature_name': ['duration', 'duration', 'duration', 'duration'], 'feature_value': [356.0, 356.0, 356.0, 356.0], 'threshold': [1737.5, 1616.5, 1364.5, 1300.0], 'leq_threshold': [True, True, True, True]}, 'estimator_weight': 0.000503548028069302, 'pred_class': 1, 'pred_value': 0.000503548028069302, 'agree_sign_delta': False, 'forest_pred_class': 0, 'forest_pred_probas': 0.010008461518128951, 'forest_pred_lodds': -4.594265509081793, 'prior_probas': 0.11253350149771402, 'prior_lodds': -2.0651198040663528, 'delta_lodds': -2.52914570501544}, {'path': {'feature_idx': [54, 54, 54, 54], 'feature_name': ['duration', 'duration', 'duration', 'duration'], 'feature_value': [31.0, 31.0, 31.0, 31.0], 'threshold': [1737.5, 1616.5, 1364.5, 1300.0], 'leq_threshold': [True, True, True, True]}, 'estimator_weight': 0.000503548028069302, 'pred_class': 1, 'pred_value': 0.000503548028069302, 'agree_sign_delta': False, 'forest_pred_class': 0, 'forest_pred_probas': 0.0011589871503479962, 'forest_pred_lodds': -6.759049142234472, 'prior_probas': 0.11253350149771402, 'prior_lodds': -2.0651198040663528, 'delta_lodds': -4.69392933816812}, {'path': {'feature_idx': [54, 54, 54, 54], 'feature_name': ['duration', 'duration', 'duration', 'duration'], 'feature_value': [652.0, 652.0, 652.0, 652.0], 'threshold': [1737.5, 1616.5, 1364.5, 1300.0], 'leq_threshold': [True, True, True, True]}, 'estimator_weight': 0.000503548028069302, 'pred_class': 1, 'pred_value': 0.000503548028069302, 'agree_sign_delta': True, 'forest_pred_class': 0, 'forest_pred_probas': 0.2358699191854922, 'forest_pred_lodds': -1.1754575743470246, 'prior_probas': 0.11253350149771402, 'prior_lodds': -2.0651198040663528, 'delta_lodds': 0.8896622297193282}, {'path': {'feature_idx': [54, 54, 54, 54], 'feature_name': ['duration', 'duration', 'duration', 'duration'], 'feature_value': [44.0, 44.0, 44.0, 44.0], 'threshold': [1737.5, 1616.5, 1364.5, 1300.0], 'leq_threshold': [True, True, True, True]}, 'estimator_weight': 0.000503548028069302, 'pred_class': 1, 'pred_value': 0.000503548028069302, 'agree_sign_delta': False, 'forest_pred_class': 0, 'forest_pred_probas': 0.003747317228024128, 'forest_pred_lodds': -5.582960744873839, 'prior_probas': 0.11253350149771402, 'prior_lodds': -2.0651198040663528, 'delta_lodds': -3.517840940807486}, {'path': {'feature_idx': [54, 54, 54, 54], 'feature_name': ['duration', 'duration', 'duration', 'duration'], 'feature_value': [208.0, 208.0, 208.0, 208.0], 'threshold': [1737.5, 1616.5, 1364.5, 1300.0], 'leq_threshold': [True, True, True, True]}, 'estimator_weight': 0.000503548028069302, 'pred_class': 1, 'pred_value': 0.000503548028069302, 'agree_sign_delta': False, 'forest_pred_class': 0, 'forest_pred_probas': 0.0017966714957745199, 'forest_pred_lodds': -6.320021207471971, 'prior_probas': 0.11253350149771402, 'prior_lodds': -2.0651198040663528, 'delta_lodds': -4.2549014034056185}, {'path': {'feature_idx': [54, 54, 54, 54], 'feature_name': ['duration', 'duration', 'duration', 'duration'], 'feature_value': [493.0, 493.0, 493.0, 493.0], 'threshold': [1737.5, 1616.5, 1364.5, 1300.0], 'leq_threshold': [True, True, True, True]}, 'estimator_weight': 0.000503548028069302, 'pred_class': 1, 'pred_value': 0.000503548028069302, 'agree_sign_delta': False, 'forest_pred_class': 0, 'forest_pred_probas': 0.0360068634296786, 'forest_pred_lodds': -3.287374603735913, 'prior_probas': 0.11253350149771402, 'prior_lodds': -2.0651198040663528, 'delta_lodds': -1.2222547996695603}, {'path': {'feature_idx': [54, 54, 54, 54], 'feature_name': ['duration', 'duration', 'duration', 'duration'], 'feature_value': [226.0, 226.0, 226.0, 226.0], 'threshold': [1737.5, 1616.5, 1364.5, 1300.0], 'leq_threshold': [True, True, True, True]}, 'estimator_weight': 0.000503548028069302, 'pred_class': 1, 'pred_value': 0.000503548028069302, 'agree_sign_delta': False, 'forest_pred_class': 0, 'forest_pred_probas': 0.0031512266238322094, 'forest_pred_lodds': -5.756807295357666, 'prior_probas': 0.11253350149771402, 'prior_lodds': -2.0651198040663528, 'delta_lodds': -3.691687491291313}]\n"
     ]
    },
    {
     "ename": "ValueError",
     "evalue": "not enough values to unpack (expected 3, got 0)",
     "output_type": "error",
     "traceback": [
      "\u001b[0;31m---------------------------------------------------------------------------\u001b[0m",
      "\u001b[0;31mValueError\u001b[0m                                Traceback (most recent call last)",
      "\u001b[0;32m<ipython-input-2-da498822da49>\u001b[0m in \u001b[0;36m<module>\u001b[0;34m\u001b[0m\n\u001b[1;32m    171\u001b[0m \u001b[0;34m\u001b[0m\u001b[0m\n\u001b[1;32m    172\u001b[0m         \u001b[0mprint\u001b[0m\u001b[0;34m(\u001b[0m\u001b[0;34m'Sensitivity round: '\u001b[0m \u001b[0;34m+\u001b[0m \u001b[0mstr\u001b[0m\u001b[0;34m(\u001b[0m\u001b[0mkwargs\u001b[0m\u001b[0;34m)\u001b[0m\u001b[0;34m)\u001b[0m\u001b[0;34m\u001b[0m\u001b[0;34m\u001b[0m\u001b[0m\n\u001b[0;32m--> 173\u001b[0;31m         \u001b[0mrp\u001b[0m\u001b[0;34m.\u001b[0m\u001b[0mdo_benchmarking\u001b[0m\u001b[0;34m(\u001b[0m\u001b[0mbi_copy\u001b[0m\u001b[0;34m,\u001b[0m \u001b[0mverbose\u001b[0m\u001b[0;34m,\u001b[0m \u001b[0;34m**\u001b[0m\u001b[0mcontrol\u001b[0m\u001b[0;34m)\u001b[0m\u001b[0;34m\u001b[0m\u001b[0;34m\u001b[0m\u001b[0m\n\u001b[0m\u001b[1;32m    174\u001b[0m \u001b[0;34m\u001b[0m\u001b[0m\n\u001b[1;32m    175\u001b[0m \u001b[0mprint\u001b[0m\u001b[0;34m(\u001b[0m\u001b[0;34m'finished'\u001b[0m\u001b[0;34m)\u001b[0m\u001b[0;34m\u001b[0m\u001b[0;34m\u001b[0m\u001b[0m\n",
      "\u001b[0;32m~/Documents/github/explain_te/CHIRPS/reproducible.py\u001b[0m in \u001b[0;36mdo_benchmarking\u001b[0;34m(benchmark_items, verbose, **control)\u001b[0m\n\u001b[1;32m   1496\u001b[0m                                 \u001b[0mrandom_state\u001b[0m\u001b[0;34m=\u001b[0m\u001b[0mcontrol\u001b[0m\u001b[0;34m[\u001b[0m\u001b[0;34m'random_state'\u001b[0m\u001b[0;34m]\u001b[0m\u001b[0;34m,\u001b[0m\u001b[0;34m\u001b[0m\u001b[0;34m\u001b[0m\u001b[0m\n\u001b[1;32m   1497\u001b[0m                                 \u001b[0mverbose\u001b[0m\u001b[0;34m=\u001b[0m\u001b[0mverbose\u001b[0m\u001b[0;34m,\u001b[0m\u001b[0;34m\u001b[0m\u001b[0;34m\u001b[0m\u001b[0m\n\u001b[0;32m-> 1498\u001b[0;31m                                 **control['kwargs'])\n\u001b[0m\u001b[1;32m   1499\u001b[0m         \u001b[0;32mif\u001b[0m \u001b[0mcontrol\u001b[0m\u001b[0;34m[\u001b[0m\u001b[0;34m'method'\u001b[0m\u001b[0;34m]\u001b[0m \u001b[0;34m==\u001b[0m \u001b[0;34m'Anchors'\u001b[0m\u001b[0;34m:\u001b[0m\u001b[0;34m\u001b[0m\u001b[0;34m\u001b[0m\u001b[0m\n\u001b[1;32m   1500\u001b[0m             Anchors_benchmark(forest=benchmark_items[b]['anchors']['forest'],\n",
      "\u001b[0;32m~/Documents/github/explain_te/CHIRPS/reproducible.py\u001b[0m in \u001b[0;36mCHIRPS_benchmark\u001b[0;34m(forest, ds_container, meta_data, model, n_instances, forest_walk_async, explanation_async, save_path, save_sensitivity_path, dataset_name, random_state, verbose, n_cores, **kwargs)\u001b[0m\n\u001b[1;32m    145\u001b[0m                             \u001b[0mexplanation_async\u001b[0m\u001b[0;34m=\u001b[0m\u001b[0mexplanation_async\u001b[0m\u001b[0;34m,\u001b[0m\u001b[0;34m\u001b[0m\u001b[0;34m\u001b[0m\u001b[0m\n\u001b[1;32m    146\u001b[0m                             \u001b[0mrandom_state\u001b[0m\u001b[0;34m=\u001b[0m\u001b[0mrandom_state\u001b[0m\u001b[0;34m,\u001b[0m \u001b[0mn_cores\u001b[0m\u001b[0;34m=\u001b[0m\u001b[0mn_cores\u001b[0m\u001b[0;34m,\u001b[0m\u001b[0;34m\u001b[0m\u001b[0;34m\u001b[0m\u001b[0m\n\u001b[0;32m--> 147\u001b[0;31m                             **kwargs)\n\u001b[0m\u001b[1;32m    148\u001b[0m \u001b[0;34m\u001b[0m\u001b[0m\n\u001b[1;32m    149\u001b[0m     \u001b[0mce_end_time\u001b[0m \u001b[0;34m=\u001b[0m \u001b[0mtimeit\u001b[0m\u001b[0;34m.\u001b[0m\u001b[0mdefault_timer\u001b[0m\u001b[0;34m(\u001b[0m\u001b[0;34m)\u001b[0m\u001b[0;34m\u001b[0m\u001b[0;34m\u001b[0m\u001b[0m\n",
      "\u001b[0;32m~/Documents/github/explain_te/CHIRPS/structures.py\u001b[0m in \u001b[0;36mrun_explanations\u001b[0;34m(self, target_classes, explanation_async, random_state, n_cores, **kwargs)\u001b[0m\n\u001b[1;32m   2588\u001b[0m                 \u001b[0;31m# filtering by the chosen set of trees - default: majority voting\u001b[0m\u001b[0;34m\u001b[0m\u001b[0;34m\u001b[0m\u001b[0;34m\u001b[0m\u001b[0m\n\u001b[1;32m   2589\u001b[0m                 \u001b[0;31m# use deepcopy to ensure by_value, not by_reference instantiation\u001b[0m\u001b[0;34m\u001b[0m\u001b[0;34m\u001b[0m\u001b[0;34m\u001b[0m\u001b[0m\n\u001b[0;32m-> 2590\u001b[0;31m                 \u001b[0me_builder\u001b[0m \u001b[0;34m=\u001b[0m \u001b[0mself\u001b[0m\u001b[0;34m.\u001b[0m\u001b[0mget_explanation_builder\u001b[0m\u001b[0;34m(\u001b[0m\u001b[0mi\u001b[0m\u001b[0;34m,\u001b[0m \u001b[0mtarget_classes\u001b[0m\u001b[0;34m[\u001b[0m\u001b[0mi\u001b[0m\u001b[0;34m]\u001b[0m\u001b[0;34m,\u001b[0m \u001b[0mdeepcopy\u001b[0m\u001b[0;34m(\u001b[0m\u001b[0mself\u001b[0m\u001b[0;34m.\u001b[0m\u001b[0mmeta_data\u001b[0m\u001b[0;34m)\u001b[0m\u001b[0;34m,\u001b[0m \u001b[0mrandom_state\u001b[0m\u001b[0;34m=\u001b[0m\u001b[0mrandom_state\u001b[0m\u001b[0;34m,\u001b[0m \u001b[0mwhich_trees\u001b[0m\u001b[0;34m=\u001b[0m\u001b[0moptions\u001b[0m\u001b[0;34m[\u001b[0m\u001b[0;34m'which_trees'\u001b[0m\u001b[0;34m]\u001b[0m\u001b[0;34m)\u001b[0m\u001b[0;34m\u001b[0m\u001b[0;34m\u001b[0m\u001b[0m\n\u001b[0m\u001b[1;32m   2591\u001b[0m                 \u001b[0;31m# run the chirps process on each instance paths\u001b[0m\u001b[0;34m\u001b[0m\u001b[0;34m\u001b[0m\u001b[0;34m\u001b[0m\u001b[0m\n\u001b[1;32m   2592\u001b[0m                 \u001b[0m_\u001b[0m\u001b[0;34m,\u001b[0m \u001b[0mexp\u001b[0m \u001b[0;34m=\u001b[0m\u001b[0;31m \u001b[0m\u001b[0;31m\\\u001b[0m\u001b[0;34m\u001b[0m\u001b[0;34m\u001b[0m\u001b[0m\n",
      "\u001b[0;32m~/Documents/github/explain_te/CHIRPS/structures.py\u001b[0m in \u001b[0;36mget_explanation_builder\u001b[0;34m(self, batch_idx, target_class, meta_data, random_state, feature_values, which_trees)\u001b[0m\n\u001b[1;32m   2492\u001b[0m             \u001b[0;32mif\u001b[0m \u001b[0mlen\u001b[0m\u001b[0;34m(\u001b[0m\u001b[0;34m[\u001b[0m\u001b[0mself\u001b[0m\u001b[0;34m.\u001b[0m\u001b[0mpath_detail\u001b[0m\u001b[0;34m[\u001b[0m\u001b[0mtarget_class_slice\u001b[0m\u001b[0;34m]\u001b[0m\u001b[0;34m[\u001b[0m\u001b[0mbatch_idx\u001b[0m\u001b[0;34m]\u001b[0m\u001b[0;34m[\u001b[0m\u001b[0mpd\u001b[0m\u001b[0;34m]\u001b[0m \u001b[0;32mfor\u001b[0m \u001b[0mpd\u001b[0m \u001b[0;32min\u001b[0m \u001b[0mrange\u001b[0m\u001b[0;34m(\u001b[0m\u001b[0mself\u001b[0m\u001b[0;34m.\u001b[0m\u001b[0mn_paths\u001b[0m\u001b[0;34m)\u001b[0m \u001b[0;32mif\u001b[0m \u001b[0mself\u001b[0m\u001b[0;34m.\u001b[0m\u001b[0mpath_detail\u001b[0m\u001b[0;34m[\u001b[0m\u001b[0mtarget_class_slice\u001b[0m\u001b[0;34m]\u001b[0m\u001b[0;34m[\u001b[0m\u001b[0mbatch_idx\u001b[0m\u001b[0;34m]\u001b[0m\u001b[0;34m[\u001b[0m\u001b[0mpd\u001b[0m\u001b[0;34m]\u001b[0m\u001b[0;34m[\u001b[0m\u001b[0;34m'pred_class'\u001b[0m\u001b[0;34m]\u001b[0m  \u001b[0;34m==\u001b[0m \u001b[0mtarget_class\u001b[0m\u001b[0;34m]\u001b[0m\u001b[0;34m)\u001b[0m \u001b[0;34m==\u001b[0m \u001b[0;36m0\u001b[0m\u001b[0;34m:\u001b[0m\u001b[0;34m\u001b[0m\u001b[0;34m\u001b[0m\u001b[0m\n\u001b[1;32m   2493\u001b[0m                 \u001b[0mprint\u001b[0m\u001b[0;34m(\u001b[0m\u001b[0;34m[\u001b[0m\u001b[0mself\u001b[0m\u001b[0;34m.\u001b[0m\u001b[0mpath_detail\u001b[0m\u001b[0;34m[\u001b[0m\u001b[0mtarget_class_slice\u001b[0m\u001b[0;34m]\u001b[0m\u001b[0;34m[\u001b[0m\u001b[0mbatch_idx\u001b[0m\u001b[0;34m]\u001b[0m\u001b[0;34m[\u001b[0m\u001b[0mpd\u001b[0m\u001b[0;34m]\u001b[0m \u001b[0;32mfor\u001b[0m \u001b[0mpd\u001b[0m \u001b[0;32min\u001b[0m \u001b[0mrange\u001b[0m\u001b[0;34m(\u001b[0m\u001b[0mself\u001b[0m\u001b[0;34m.\u001b[0m\u001b[0mn_paths\u001b[0m\u001b[0;34m)\u001b[0m\u001b[0;34m]\u001b[0m\u001b[0;34m)\u001b[0m\u001b[0;34m\u001b[0m\u001b[0;34m\u001b[0m\u001b[0m\n\u001b[0;32m-> 2494\u001b[0;31m             \u001b[0mpaths_info\u001b[0m\u001b[0;34m,\u001b[0m \u001b[0mpaths_weights\u001b[0m\u001b[0;34m,\u001b[0m \u001b[0mpred_class\u001b[0m \u001b[0;34m=\u001b[0m \u001b[0;34m[\u001b[0m\u001b[0mi\u001b[0m \u001b[0;32mfor\u001b[0m \u001b[0mi\u001b[0m \u001b[0;32min\u001b[0m \u001b[0mmap\u001b[0m\u001b[0;34m(\u001b[0m\u001b[0mlist\u001b[0m\u001b[0;34m,\u001b[0m \u001b[0mzip\u001b[0m\u001b[0;34m(\u001b[0m\u001b[0;34m*\u001b[0m\u001b[0;34m[\u001b[0m\u001b[0mitemgetter\u001b[0m\u001b[0;34m(\u001b[0m\u001b[0;34m'path'\u001b[0m\u001b[0;34m,\u001b[0m \u001b[0;34m'estimator_weight'\u001b[0m\u001b[0;34m,\u001b[0m \u001b[0;34m'pred_class'\u001b[0m\u001b[0;34m)\u001b[0m\u001b[0;34m(\u001b[0m\u001b[0mself\u001b[0m\u001b[0;34m.\u001b[0m\u001b[0mpath_detail\u001b[0m\u001b[0;34m[\u001b[0m\u001b[0mtarget_class_slice\u001b[0m\u001b[0;34m]\u001b[0m\u001b[0;34m[\u001b[0m\u001b[0mbatch_idx\u001b[0m\u001b[0;34m]\u001b[0m\u001b[0;34m[\u001b[0m\u001b[0mpd\u001b[0m\u001b[0;34m]\u001b[0m\u001b[0;34m)\u001b[0m \u001b[0;32mfor\u001b[0m \u001b[0mpd\u001b[0m \u001b[0;32min\u001b[0m \u001b[0mrange\u001b[0m\u001b[0;34m(\u001b[0m\u001b[0mself\u001b[0m\u001b[0;34m.\u001b[0m\u001b[0mn_paths\u001b[0m\u001b[0;34m)\u001b[0m \u001b[0;32mif\u001b[0m \u001b[0mself\u001b[0m\u001b[0;34m.\u001b[0m\u001b[0mpath_detail\u001b[0m\u001b[0;34m[\u001b[0m\u001b[0mtarget_class_slice\u001b[0m\u001b[0;34m]\u001b[0m\u001b[0;34m[\u001b[0m\u001b[0mbatch_idx\u001b[0m\u001b[0;34m]\u001b[0m\u001b[0;34m[\u001b[0m\u001b[0mpd\u001b[0m\u001b[0;34m]\u001b[0m\u001b[0;34m[\u001b[0m\u001b[0;34m'pred_class'\u001b[0m\u001b[0;34m]\u001b[0m  \u001b[0;34m==\u001b[0m \u001b[0mtarget_class\u001b[0m\u001b[0;34m]\u001b[0m\u001b[0;34m)\u001b[0m\u001b[0;34m)\u001b[0m\u001b[0;34m]\u001b[0m\u001b[0;34m\u001b[0m\u001b[0;34m\u001b[0m\u001b[0m\n\u001b[0m\u001b[1;32m   2495\u001b[0m \u001b[0;34m\u001b[0m\u001b[0m\n\u001b[1;32m   2496\u001b[0m         \u001b[0;31m# path formatting - should it be on values level or features level\u001b[0m\u001b[0;34m\u001b[0m\u001b[0;34m\u001b[0m\u001b[0;34m\u001b[0m\u001b[0m\n",
      "\u001b[0;31mValueError\u001b[0m: not enough values to unpack (expected 3, got 0)"
     ]
    }
   ],
   "source": [
    "# Optional Memory and Computation Cost Management\n",
    "# CHIRPS is time economical but memory intensive to compute for lots of instances at once.\n",
    "forest_walk_async=True\n",
    "explanation_async=False\n",
    "n_cores = mp.cpu_count()-2\n",
    "\n",
    "# How many instances from the test set do you want to explain?\n",
    "# A number bigger than the test set will be interpreted as 'all'\n",
    "n_instances = 100\n",
    "start_instance = 0 # here can opt to start at a specific instance, diagnostic if something crashes\n",
    "\n",
    "# model = 'RandomForest'\n",
    "# model = 'AdaBoost1'\n",
    "# model = 'AdaBoost2'\n",
    "model = 'GBM'\n",
    "\n",
    "# prepare data\n",
    "datasets = [\n",
    "#         ds.adult,\n",
    "        ds.bankmark,\n",
    "#         ds.car,\n",
    "#         ds.cardio,\n",
    "#         ds.credit,\n",
    "#         ds.german,\n",
    "#         ds.lending_tiny_samp,\n",
    "#         ds.nursery,\n",
    "#         ds.rcdv,\n",
    "       ]\n",
    "\n",
    "# location to save results\n",
    "project_dir = '/datadisk/whiteboxing/2020/GBM'\n",
    "# project_dir = 'V:\\\\whiteboxing\\\\2020\\\\GBM' # defaults to a directory \"whiteboxing\" in the working directory\n",
    "# project_dir = 'C:\\\\Users\\\\Crutt\\\\Documents\\\\whiteboxing\\\\2020\\\\GBM'\n",
    "\n",
    "random_state_splits = 123 # change this if you want to try different splits of the data into test / train\n",
    "random_state_rf = 123 # change this if you want to try with different forest construction\n",
    "random_state_exp = 123 # change this if you want to try with different runs of the explainer algorithm (affects bootstrap eval)\n",
    "\n",
    "verbose = True\n",
    "\n",
    "# CHIRPS default parameters - see papers for details\n",
    "precis_threshold = 0.99\n",
    "merging_bootstraps = 20 # how many training bootstraps to test improvement in growing rule?\n",
    "pruning_bootstraps = 20 # how many training bootstraps to test deterioration in pruning rule?\n",
    "delta = 0.2 # pruning deterioration tolerance paramater\n",
    "\n",
    "tuning = {'override' : False}\n",
    "\n",
    "if model == 'RandomForest':\n",
    "    tuning.update({'grid' : {'n_estimators': [(i + 1) * 200 for i in range(8)], 'max_depth' : [32]}})\n",
    "    benchmark_items = rp.benchmarking_prep(datasets, model, tuning, project_dir,\n",
    "                                           random_state=random_state_rf,\n",
    "                                           random_state_splits=random_state_splits,\n",
    "                                           start_instance=start_instance,\n",
    "                                           verbose=verbose, n_cores=n_cores)\n",
    "\n",
    "    alpha_paths = np.tile([0.9, 0.5, 0.1], 24)\n",
    "    disc_path_bins = np.tile(np.repeat([4, 8], 3), 12)\n",
    "    score_func = np.tile(np.repeat([5, 3, 1], 6), 4)\n",
    "    support_paths = np.tile(np.repeat([0.3, 0.2], 18), 2)\n",
    "    weighting = np.repeat(['kldiv', 'nothing'], 36)\n",
    "\n",
    "    kwargs_grid = {k : {'alpha_paths' : ap, 'disc_path_bins' : dpb, 'disc_path_eqcounts' : False,\n",
    "                        'score_func' : sf, 'weighting' : w, 'support_paths' : sp,\n",
    "                        'precis_threshold' : precis_threshold,\n",
    "                        'merging_bootstraps' : merging_bootstraps,\n",
    "                        'pruning_bootstraps' : pruning_bootstraps,\n",
    "                        'which_trees' : 'majority',\n",
    "                        'delta' : delta} \n",
    "        for k, ap, dpb, sf, w, sp in zip(range(72), alpha_paths, disc_path_bins, score_func, weighting, support_paths)}\n",
    "    \n",
    "    \n",
    "    for kwargs in kwargs_grid:\n",
    "        bi_copy = rp.deepcopy(benchmark_items) # to avoid running down the internal counters\n",
    "        control = {'method' : 'CHIRPS', 'model' : model,\n",
    "                    'n_instances' : n_instances,\n",
    "                    'random_state' : random_state_exp,\n",
    "                    'kwargs' : kwargs_grid[kwargs],\n",
    "                    'forest_walk_async' : forest_walk_async,\n",
    "                    'explanation_async' : explanation_async,\n",
    "                    'n_cores' : n_cores,\n",
    "                    'save_sensitivity_path' : 'rf_sensitivity'}\n",
    "        \n",
    "        print('Sensitivity round: ' + str(kwargs))\n",
    "        rp.do_benchmarking(bi_copy, verbose, **control)\n",
    "        \n",
    "elif model in ('AdaBoost1', 'AdaBoost2'):\n",
    "    if model == 'AdaBoost1':\n",
    "        algo = 'SAMME'\n",
    "        save_sensitivity_path = 'ada1_sensitivity'\n",
    "        support_paths = np.tile(np.tile([0.05, 0.02, 0.01], 16), 2)\n",
    "        n_kwargs = 36\n",
    "    else:\n",
    "        algo = 'SAMME.R'\n",
    "        save_sensitivity_path = 'ada2_sensitivity'\n",
    "        support_paths = np.tile(np.tile([0.005, 0.002, 0.001], 16), 2)\n",
    "        n_kwargs = 72\n",
    "        \n",
    "    max_depth = [i for i in range(1, 5)]\n",
    "    tuning.update({'grid' : {'base_estimator' : [rp.DecisionTreeClassifier(max_depth=d) for d in max_depth],\n",
    "                            'n_estimators': [(i + 1) * 200 for i in range(8)], 'algorithm': [algo]}})\n",
    "    benchmark_items = rp.benchmarking_prep(datasets, model, tuning, project_dir,\n",
    "                                           random_state=123, random_state_splits=123,\n",
    "                                           start_instance=start_instance,\n",
    "                                           verbose=verbose, n_cores=n_cores)\n",
    "    \n",
    "    disc_path_bins = np.tile(np.tile(np.repeat([4, 8], 3), 6), 2)\n",
    "    disc_path_eqcounts = np.tile(np.tile(np.repeat([True, False], 6), 6), 2)\n",
    "    weighting = np.tile(np.repeat(['chisq', 'kldiv', 'nothing'], 12), 2)\n",
    "    which_trees = np.repeat(['majority', 'conf_weighted'], 36)\n",
    "\n",
    "    kwargs_grid = {k : {'paths_lengths_threshold' : 5, 'alpha_paths' : 0.0,\n",
    "                        'disc_path_bins' : dpb, 'disc_path_eqcounts' : dpeq,\n",
    "                        'score_func' : 1, 'weighting' : w, 'support_paths' : sp,\n",
    "                        'merging_bootstraps' : merging_bootstraps,\n",
    "                        'pruning_bootstraps' : pruning_bootstraps,\n",
    "                        'which_trees' : wchtr,\n",
    "                        'delta' : delta} \n",
    "    for k, dpb, dpeq, w, sp, wchtr \\\n",
    "                   in zip(range(n_kwargs), disc_path_bins, disc_path_eqcounts, weighting, support_paths, which_trees)}\n",
    "\n",
    "    for kwargs in kwargs_grid: # range(39, 72): # \n",
    "        bi_copy = rp.deepcopy(benchmark_items) # to avoid running down the internal counters\n",
    "        control = {'method' : 'CHIRPS', 'model' : model,\n",
    "                    'n_instances' : n_instances,\n",
    "                    'random_state' : random_state_exp,\n",
    "                    'kwargs' : kwargs_grid[kwargs],\n",
    "                    'forest_walk_async' : forest_walk_async,\n",
    "                    'explanation_async' : explanation_async,\n",
    "                    'n_cores' : n_cores,\n",
    "                    'save_sensitivity_path' : save_sensitivity_path}\n",
    "        \n",
    "        print('Sensitivity round: ' + str(kwargs))\n",
    "        rp.do_benchmarking(bi_copy, verbose, **control)\n",
    "\n",
    "else: # GBM\n",
    "    tuning.update({'grid' : {'subsample' : [(i + 1) * 0.25 for i in range(3)],\n",
    "                    'n_estimators': [i * 200 for i in range(1, 9)],\n",
    "                    'max_depth' : [i for i in range(1, 5)],\n",
    "                    'learning_rate': np.full(4, 10.0)**[i for i in range(-3, 1)]}})\n",
    "    benchmark_items = rp.benchmarking_prep(datasets, model, tuning, project_dir,\n",
    "                                           random_state=random_state_rf,\n",
    "                                           random_state_splits=random_state_splits,\n",
    "                                           start_instance=start_instance,\n",
    "                                           verbose=verbose, n_cores=n_cores)\n",
    "\n",
    "    support_paths = np.tile([0.05, 0.1], 4)\n",
    "    disc_path_bins = np.tile(np.repeat([4, 8], 2), 2)\n",
    "    disc_path_eqcounts = np.repeat([True, False], 4)\n",
    "\n",
    "    kwargs_grid = {k : {'paths_lengths_threshold' : 5, 'alpha_paths' : 0.0,\n",
    "                    'disc_path_bins' : dpb, 'disc_path_eqcounts' : dpeq,\n",
    "                    'score_func' : 1, 'weighting' : 'kldiv',\n",
    "                    'support_paths' : sp,\n",
    "                    'merging_bootstraps' : merging_bootstraps,\n",
    "                    'pruning_bootstraps' : pruning_bootstraps,\n",
    "                    'which_trees' : 'targetclass',\n",
    "                    'delta' : 0.2} \n",
    "        for k, dpb, dpeq, sp in zip(range(16), disc_path_bins, disc_path_eqcounts, support_paths)}\n",
    "    \n",
    "    for kwargs in kwargs_grid: # range(39, 72): # \n",
    "        bi_copy = rp.deepcopy(benchmark_items) # to avoid running down the internal counters\n",
    "        control = {'method' : 'CHIRPS', 'model' : model,\n",
    "                    'n_instances' : n_instances,\n",
    "                    'random_state' : random_state_exp,\n",
    "                    'kwargs' : kwargs_grid[kwargs],\n",
    "                    'forest_walk_async' : forest_walk_async,\n",
    "                    'explanation_async' : explanation_async,\n",
    "                    'n_cores' : n_cores,\n",
    "                    'save_sensitivity_path' : 'gbm_sensitivity'}\n",
    "\n",
    "        print('Sensitivity round: ' + str(kwargs))\n",
    "        rp.do_benchmarking(bi_copy, verbose, **control)\n",
    "    \n",
    "print('finished')"
   ]
  },
  {
   "cell_type": "code",
   "execution_count": null,
   "metadata": {},
   "outputs": [],
   "source": [
    "a = [{'path': {'feature_idx': [54, 54, 54, 54], 'feature_name': ['duration', 'duration', 'duration', 'duration'], 'feature_value': [24.0, 24.0, 24.0, 24.0], 'threshold': [1737.5, 1616.5, 1364.5, 1300.0], 'leq_threshold': [True, True, True, True]}, 'estimator_weight': 0.000503548028069302, 'pred_class': 1, 'pred_value': 0.000503548028069302, 'agree_sign_delta': False, 'forest_pred_class': 0, 'forest_pred_probas': 0.001079904105317782, 'forest_pred_lodds': -6.8298025455387315, 'prior_probas': 0.11253350149771402, 'prior_lodds': -2.0651198040663528, 'delta_lodds': -4.764682741472379}, {'path': {'feature_idx': [54, 54, 54, 54], 'feature_name': ['duration', 'duration', 'duration', 'duration'], 'feature_value': [157.0, 157.0, 157.0, 157.0], 'threshold': [1737.5, 1616.5, 1364.5, 1300.0], 'leq_threshold': [True, True, True, True]}, 'estimator_weight': 0.000503548028069302, 'pred_class': 1, 'pred_value': 0.000503548028069302, 'agree_sign_delta': False, 'forest_pred_class': 0, 'forest_pred_probas': 0.0018458508699013198, 'forest_pred_lodds': -6.292967375148486, 'prior_probas': 0.11253350149771402, 'prior_lodds': -2.0651198040663528, 'delta_lodds': -4.227847571082133}, {'path': {'feature_idx': [54, 54, 54, 54], 'feature_name': ['duration', 'duration', 'duration', 'duration'], 'feature_value': [622.0, 622.0, 622.0, 622.0], 'threshold': [1737.5, 1616.5, 1364.5, 1300.0], 'leq_threshold': [True, True, True, True]}, 'estimator_weight': 0.000503548028069302, 'pred_class': 1, 'pred_value': 0.000503548028069302, 'agree_sign_delta': True, 'forest_pred_class': 0, 'forest_pred_probas': 0.19114957591660098, 'forest_pred_lodds': -1.4425577685293234, 'prior_probas': 0.11253350149771402, 'prior_lodds': -2.0651198040663528, 'delta_lodds': 0.6225620355370294}, {'path': {'feature_idx': [54, 54, 54, 54], 'feature_name': ['duration', 'duration', 'duration', 'duration'], 'feature_value': [608.0, 608.0, 608.0, 608.0], 'threshold': [1737.5, 1616.5, 1364.5, 1300.0], 'leq_threshold': [True, True, True, True]}, 'estimator_weight': 0.000503548028069302, 'pred_class': 1, 'pred_value': 0.000503548028069302, 'agree_sign_delta': False, 'forest_pred_class': 0, 'forest_pred_probas': 0.026337836460229438, 'forest_pred_lodds': -3.6100578347944823, 'prior_probas': 0.11253350149771402, 'prior_lodds': -2.0651198040663528, 'delta_lodds': -1.5449380307281295}, {'path': {'feature_idx': [54, 54, 54, 54], 'feature_name': ['duration', 'duration', 'duration', 'duration'], 'feature_value': [66.0, 66.0, 66.0, 66.0], 'threshold': [1737.5, 1616.5, 1364.5, 1300.0], 'leq_threshold': [True, True, True, True]}, 'estimator_weight': 0.000503548028069302, 'pred_class': 1, 'pred_value': 0.000503548028069302, 'agree_sign_delta': False, 'forest_pred_class': 0, 'forest_pred_probas': 0.0010056377671267742, 'forest_pred_lodds': -6.901127200824785, 'prior_probas': 0.11253350149771402, 'prior_lodds': -2.0651198040663528, 'delta_lodds': -4.836007396758433}, {'path': {'feature_idx': [54, 54, 54, 54], 'feature_name': ['duration', 'duration', 'duration', 'duration'], 'feature_value': [700.0, 700.0, 700.0, 700.0], 'threshold': [1737.5, 1616.5, 1364.5, 1300.0], 'leq_threshold': [True, True, True, True]}, 'estimator_weight': 0.000503548028069302, 'pred_class': 1, 'pred_value': 0.000503548028069302, 'agree_sign_delta': True, 'forest_pred_class': 1, 'forest_pred_probas': 0.842650239842132, 'forest_pred_lodds': 1.6780808733000099, 'prior_probas': 0.11253350149771402, 'prior_lodds': -2.0651198040663528, 'delta_lodds': 3.743200677366363}, {'path': {'feature_idx': [54, 54, 54, 54], 'feature_name': ['duration', 'duration', 'duration', 'duration'], 'feature_value': [264.0, 264.0, 264.0, 264.0], 'threshold': [1737.5, 1616.5, 1364.5, 1300.0], 'leq_threshold': [True, True, True, True]}, 'estimator_weight': 0.000503548028069302, 'pred_class': 1, 'pred_value': 0.000503548028069302, 'agree_sign_delta': False, 'forest_pred_class': 0, 'forest_pred_probas': 0.00355059019865405, 'forest_pred_lodds': -5.6370845276670725, 'prior_probas': 0.11253350149771402, 'prior_lodds': -2.0651198040663528, 'delta_lodds': -3.5719647236007197}, {'path': {'feature_idx': [54, 54, 54, 54], 'feature_name': ['duration', 'duration', 'duration', 'duration'], 'feature_value': [504.0, 504.0, 504.0, 504.0], 'threshold': [1737.5, 1616.5, 1364.5, 1300.0], 'leq_threshold': [True, True, True, True]}, 'estimator_weight': 0.000503548028069302, 'pred_class': 1, 'pred_value': 0.000503548028069302, 'agree_sign_delta': True, 'forest_pred_class': 0, 'forest_pred_probas': 0.12559058757461877, 'forest_pred_lodds': -1.940521389709847, 'prior_probas': 0.11253350149771402, 'prior_lodds': -2.0651198040663528, 'delta_lodds': 0.12459841435650576}, {'path': {'feature_idx': [54, 54, 54, 54], 'feature_name': ['duration', 'duration', 'duration', 'duration'], 'feature_value': [214.0, 214.0, 214.0, 214.0], 'threshold': [1737.5, 1616.5, 1364.5, 1300.0], 'leq_threshold': [True, True, True, True]}, 'estimator_weight': 0.000503548028069302, 'pred_class': 1, 'pred_value': 0.000503548028069302, 'agree_sign_delta': False, 'forest_pred_class': 0, 'forest_pred_probas': 0.0018285651271910662, 'forest_pred_lodds': -6.302393464191972, 'prior_probas': 0.11253350149771402, 'prior_lodds': -2.0651198040663528, 'delta_lodds': -4.23727366012562}, {'path': {'feature_idx': [54, 54, 54, 54], 'feature_name': ['duration', 'duration', 'duration', 'duration'], 'feature_value': [414.0, 414.0, 414.0, 414.0], 'threshold': [1737.5, 1616.5, 1364.5, 1300.0], 'leq_threshold': [True, True, True, True]}, 'estimator_weight': 0.000503548028069302, 'pred_class': 1, 'pred_value': 0.000503548028069302, 'agree_sign_delta': False, 'forest_pred_class': 0, 'forest_pred_probas': 0.027035193983695267, 'forest_pred_lodds': -3.5832084128539754, 'prior_probas': 0.11253350149771402, 'prior_lodds': -2.0651198040663528, 'delta_lodds': -1.5180886087876226}, {'path': {'feature_idx': [54, 54, 54, 54], 'feature_name': ['duration', 'duration', 'duration', 'duration'], 'feature_value': [60.0, 60.0, 60.0, 60.0], 'threshold': [1737.5, 1616.5, 1364.5, 1300.0], 'leq_threshold': [True, True, True, True]}, 'estimator_weight': 0.000503548028069302, 'pred_class': 1, 'pred_value': 0.000503548028069302, 'agree_sign_delta': False, 'forest_pred_class': 0, 'forest_pred_probas': 0.0009766668747490357, 'forest_pred_lodds': -6.930387787443064, 'prior_probas': 0.11253350149771402, 'prior_lodds': -2.0651198040663528, 'delta_lodds': -4.865267983376711}, {'path': {'feature_idx': [54, 54, 54, 54], 'feature_name': ['duration', 'duration', 'duration', 'duration'], 'feature_value': [187.0, 187.0, 187.0, 187.0], 'threshold': [1737.5, 1616.5, 1364.5, 1300.0], 'leq_threshold': [True, True, True, True]}, 'estimator_weight': 0.000503548028069302, 'pred_class': 1, 'pred_value': 0.000503548028069302, 'agree_sign_delta': False, 'forest_pred_class': 0, 'forest_pred_probas': 0.006661581307420681, 'forest_pred_lodds': -5.004714520391347, 'prior_probas': 0.11253350149771402, 'prior_lodds': -2.0651198040663528, 'delta_lodds': -2.939594716324994}, {'path': {'feature_idx': [54, 54, 54, 54], 'feature_name': ['duration', 'duration', 'duration', 'duration'], 'feature_value': [20.0, 20.0, 20.0, 20.0], 'threshold': [1737.5, 1616.5, 1364.5, 1300.0], 'leq_threshold': [True, True, True, True]}, 'estimator_weight': 0.000503548028069302, 'pred_class': 1, 'pred_value': 0.000503548028069302, 'agree_sign_delta': False, 'forest_pred_class': 0, 'forest_pred_probas': 0.00086263828295437, 'forest_pred_lodds': -7.0546520832774195, 'prior_probas': 0.11253350149771402, 'prior_lodds': -2.0651198040663528, 'delta_lodds': -4.989532279211067}, {'path': {'feature_idx': [54, 54, 54, 54], 'feature_name': ['duration', 'duration', 'duration', 'duration'], 'feature_value': [709.0, 709.0, 709.0, 709.0], 'threshold': [1737.5, 1616.5, 1364.5, 1300.0], 'leq_threshold': [True, True, True, True]}, 'estimator_weight': 0.000503548028069302, 'pred_class': 1, 'pred_value': 0.000503548028069302, 'agree_sign_delta': True, 'forest_pred_class': 0, 'forest_pred_probas': 0.4259453408806592, 'forest_pred_lodds': -0.2984135864872039, 'prior_probas': 0.11253350149771402, 'prior_lodds': -2.0651198040663528, 'delta_lodds': 1.7667062175791488}, {'path': {'feature_idx': [54, 54, 54, 54], 'feature_name': ['duration', 'duration', 'duration', 'duration'], 'feature_value': [54.0, 54.0, 54.0, 54.0], 'threshold': [1737.5, 1616.5, 1364.5, 1300.0], 'leq_threshold': [True, True, True, True]}, 'estimator_weight': 0.000503548028069302, 'pred_class': 1, 'pred_value': 0.000503548028069302, 'agree_sign_delta': False, 'forest_pred_class': 0, 'forest_pred_probas': 0.0009296700485538134, 'forest_pred_lodds': -6.979750718810095, 'prior_probas': 0.11253350149771402, 'prior_lodds': -2.0651198040663528, 'delta_lodds': -4.914630914743743}, {'path': {'feature_idx': [54, 54, 54, 54], 'feature_name': ['duration', 'duration', 'duration', 'duration'], 'feature_value': [114.0, 114.0, 114.0, 114.0], 'threshold': [1737.5, 1616.5, 1364.5, 1300.0], 'leq_threshold': [True, True, True, True]}, 'estimator_weight': 0.000503548028069302, 'pred_class': 1, 'pred_value': 0.000503548028069302, 'agree_sign_delta': False, 'forest_pred_class': 0, 'forest_pred_probas': 0.002212674818518174, 'forest_pred_lodds': -6.111338043783638, 'prior_probas': 0.11253350149771402, 'prior_lodds': -2.0651198040663528, 'delta_lodds': -4.046218239717286}, {'path': {'feature_idx': [54, 54, 54, 54], 'feature_name': ['duration', 'duration', 'duration', 'duration'], 'feature_value': [65.0, 65.0, 65.0, 65.0], 'threshold': [1737.5, 1616.5, 1364.5, 1300.0], 'leq_threshold': [True, True, True, True]}, 'estimator_weight': 0.000503548028069302, 'pred_class': 1, 'pred_value': 0.000503548028069302, 'agree_sign_delta': False, 'forest_pred_class': 0, 'forest_pred_probas': 0.004179458163019587, 'forest_pred_lodds': -5.47338545040929, 'prior_probas': 0.11253350149771402, 'prior_lodds': -2.0651198040663528, 'delta_lodds': -3.408265646342937}, {'path': {'feature_idx': [54, 54, 54, 54], 'feature_name': ['duration', 'duration', 'duration', 'duration'], 'feature_value': [212.0, 212.0, 212.0, 212.0], 'threshold': [1737.5, 1616.5, 1364.5, 1300.0], 'leq_threshold': [True, True, True, True]}, 'estimator_weight': 0.000503548028069302, 'pred_class': 1, 'pred_value': 0.000503548028069302, 'agree_sign_delta': False, 'forest_pred_class': 0, 'forest_pred_probas': 0.001704331186516051, 'forest_pred_lodds': -6.372876725964829, 'prior_probas': 0.11253350149771402, 'prior_lodds': -2.0651198040663528, 'delta_lodds': -4.307756921898477}, {'path': {'feature_idx': [54, 54, 54, 54], 'feature_name': ['duration', 'duration', 'duration', 'duration'], 'feature_value': [90.0, 90.0, 90.0, 90.0], 'threshold': [1737.5, 1616.5, 1364.5, 1300.0], 'leq_threshold': [True, True, True, True]}, 'estimator_weight': 0.000503548028069302, 'pred_class': 1, 'pred_value': 0.000503548028069302, 'agree_sign_delta': False, 'forest_pred_class': 0, 'forest_pred_probas': 0.0016692035686438258, 'forest_pred_lodds': -6.393738073071399, 'prior_probas': 0.11253350149771402, 'prior_lodds': -2.0651198040663528, 'delta_lodds': -4.328618269005046}, {'path': {'feature_idx': [54, 54, 54, 54], 'feature_name': ['duration', 'duration', 'duration', 'duration'], 'feature_value': [87.0, 87.0, 87.0, 87.0], 'threshold': [1737.5, 1616.5, 1364.5, 1300.0], 'leq_threshold': [True, True, True, True]}, 'estimator_weight': 0.000503548028069302, 'pred_class': 1, 'pred_value': 0.000503548028069302, 'agree_sign_delta': False, 'forest_pred_class': 0, 'forest_pred_probas': 0.0017019452490261153, 'forest_pred_lodds': -6.374280022754942, 'prior_probas': 0.11253350149771402, 'prior_lodds': -2.0651198040663528, 'delta_lodds': -4.309160218688589}, {'path': {'feature_idx': [54, 54, 54, 54], 'feature_name': ['duration', 'duration', 'duration', 'duration'], 'feature_value': [48.0, 48.0, 48.0, 48.0], 'threshold': [1737.5, 1616.5, 1364.5, 1300.0], 'leq_threshold': [True, True, True, True]}, 'estimator_weight': 0.000503548028069302, 'pred_class': 1, 'pred_value': 0.000503548028069302, 'agree_sign_delta': False, 'forest_pred_class': 0, 'forest_pred_probas': 0.001298514817586956, 'forest_pred_lodds': -6.64523475699738, 'prior_probas': 0.11253350149771402, 'prior_lodds': -2.0651198040663528, 'delta_lodds': -4.5801149529310266}, {'path': {'feature_idx': [54, 54, 54, 54], 'feature_name': ['duration', 'duration', 'duration', 'duration'], 'feature_value': [299.0, 299.0, 299.0, 299.0], 'threshold': [1737.5, 1616.5, 1364.5, 1300.0], 'leq_threshold': [True, True, True, True]}, 'estimator_weight': 0.000503548028069302, 'pred_class': 1, 'pred_value': 0.000503548028069302, 'agree_sign_delta': False, 'forest_pred_class': 0, 'forest_pred_probas': 0.00460111424776572, 'forest_pred_lodds': -5.37684504508904, 'prior_probas': 0.11253350149771402, 'prior_lodds': -2.0651198040663528, 'delta_lodds': -3.3117252410226876}, {'path': {'feature_idx': [54, 54, 54, 54], 'feature_name': ['duration', 'duration', 'duration', 'duration'], 'feature_value': [88.0, 88.0, 88.0, 88.0], 'threshold': [1737.5, 1616.5, 1364.5, 1300.0], 'leq_threshold': [True, True, True, True]}, 'estimator_weight': 0.000503548028069302, 'pred_class': 1, 'pred_value': 0.000503548028069302, 'agree_sign_delta': False, 'forest_pred_class': 0, 'forest_pred_probas': 0.0010906187794148107, 'forest_pred_lodds': -6.819918842341332, 'prior_probas': 0.11253350149771402, 'prior_lodds': -2.0651198040663528, 'delta_lodds': -4.75479903827498}, {'path': {'feature_idx': [54, 54, 54, 54], 'feature_name': ['duration', 'duration', 'duration', 'duration'], 'feature_value': [323.0, 323.0, 323.0, 323.0], 'threshold': [1737.5, 1616.5, 1364.5, 1300.0], 'leq_threshold': [True, True, True, True]}, 'estimator_weight': 0.000503548028069302, 'pred_class': 1, 'pred_value': 0.000503548028069302, 'agree_sign_delta': False, 'forest_pred_class': 0, 'forest_pred_probas': 0.005647551494400944, 'forest_pred_lodds': -5.1708696323644725, 'prior_probas': 0.11253350149771402, 'prior_lodds': -2.0651198040663528, 'delta_lodds': -3.1057498282981197}, {'path': {'feature_idx': [54, 54, 54, 54], 'feature_name': ['duration', 'duration', 'duration', 'duration'], 'feature_value': [310.0, 310.0, 310.0, 310.0], 'threshold': [1737.5, 1616.5, 1364.5, 1300.0], 'leq_threshold': [True, True, True, True]}, 'estimator_weight': 0.000503548028069302, 'pred_class': 1, 'pred_value': 0.000503548028069302, 'agree_sign_delta': False, 'forest_pred_class': 0, 'forest_pred_probas': 0.004151464480590924, 'forest_pred_lodds': -5.480134014366632, 'prior_probas': 0.11253350149771402, 'prior_lodds': -2.0651198040663528, 'delta_lodds': -3.415014210300279}, {'path': {'feature_idx': [54, 54, 54, 54], 'feature_name': ['duration', 'duration', 'duration', 'duration'], 'feature_value': [250.0, 250.0, 250.0, 250.0], 'threshold': [1737.5, 1616.5, 1364.5, 1300.0], 'leq_threshold': [True, True, True, True]}, 'estimator_weight': 0.000503548028069302, 'pred_class': 1, 'pred_value': 0.000503548028069302, 'agree_sign_delta': False, 'forest_pred_class': 0, 'forest_pred_probas': 0.0023202402646272657, 'forest_pred_lodds': -6.063761600133777, 'prior_probas': 0.11253350149771402, 'prior_lodds': -2.0651198040663528, 'delta_lodds': -3.998641796067424}, {'path': {'feature_idx': [54, 54, 54, 54], 'feature_name': ['duration', 'duration', 'duration', 'duration'], 'feature_value': [62.0, 62.0, 62.0, 62.0], 'threshold': [1737.5, 1616.5, 1364.5, 1300.0], 'leq_threshold': [True, True, True, True]}, 'estimator_weight': 0.000503548028069302, 'pred_class': 1, 'pred_value': 0.000503548028069302, 'agree_sign_delta': False, 'forest_pred_class': 0, 'forest_pred_probas': 0.0008989002676873587, 'forest_pred_lodds': -7.013439162069789, 'prior_probas': 0.11253350149771402, 'prior_lodds': -2.0651198040663528, 'delta_lodds': -4.948319358003436}, {'path': {'feature_idx': [54, 54, 54, 54], 'feature_name': ['duration', 'duration', 'duration', 'duration'], 'feature_value': [47.0, 47.0, 47.0, 47.0], 'threshold': [1737.5, 1616.5, 1364.5, 1300.0], 'leq_threshold': [True, True, True, True]}, 'estimator_weight': 0.000503548028069302, 'pred_class': 1, 'pred_value': 0.000503548028069302, 'agree_sign_delta': False, 'forest_pred_class': 0, 'forest_pred_probas': 0.0012518061293150921, 'forest_pred_lodds': -6.681915276791314, 'prior_probas': 0.11253350149771402, 'prior_lodds': -2.0651198040663528, 'delta_lodds': -4.616795472724961}, {'path': {'feature_idx': [54, 54, 54, 54], 'feature_name': ['duration', 'duration', 'duration', 'duration'], 'feature_value': [144.0, 144.0, 144.0, 144.0], 'threshold': [1737.5, 1616.5, 1364.5, 1300.0], 'leq_threshold': [True, True, True, True]}, 'estimator_weight': 0.000503548028069302, 'pred_class': 1, 'pred_value': 0.000503548028069302, 'agree_sign_delta': False, 'forest_pred_class': 0, 'forest_pred_probas': 0.021300540389306327, 'forest_pred_lodds': -3.827492165497993, 'prior_probas': 0.11253350149771402, 'prior_lodds': -2.0651198040663528, 'delta_lodds': -1.7623723614316402}, {'path': {'feature_idx': [54, 54, 54, 54], 'feature_name': ['duration', 'duration', 'duration', 'duration'], 'feature_value': [278.0, 278.0, 278.0, 278.0], 'threshold': [1737.5, 1616.5, 1364.5, 1300.0], 'leq_threshold': [True, True, True, True]}, 'estimator_weight': 0.000503548028069302, 'pred_class': 1, 'pred_value': 0.000503548028069302, 'agree_sign_delta': False, 'forest_pred_class': 0, 'forest_pred_probas': 0.005464183164296896, 'forest_pred_lodds': -5.204061468840348, 'prior_probas': 0.11253350149771402, 'prior_lodds': -2.0651198040663528, 'delta_lodds': -3.1389416647739954}, {'path': {'feature_idx': [54, 54, 54, 54], 'feature_name': ['duration', 'duration', 'duration', 'duration'], 'feature_value': [445.0, 445.0, 445.0, 445.0], 'threshold': [1737.5, 1616.5, 1364.5, 1300.0], 'leq_threshold': [True, True, True, True]}, 'estimator_weight': 0.000503548028069302, 'pred_class': 1, 'pred_value': 0.000503548028069302, 'agree_sign_delta': False, 'forest_pred_class': 0, 'forest_pred_probas': 0.019975497060168792, 'forest_pred_lodds': -3.89307119889556, 'prior_probas': 0.11253350149771402, 'prior_lodds': -2.0651198040663528, 'delta_lodds': -1.8279513948292072}, {'path': {'feature_idx': [54, 54, 54, 54], 'feature_name': ['duration', 'duration', 'duration', 'duration'], 'feature_value': [154.0, 154.0, 154.0, 154.0], 'threshold': [1737.5, 1616.5, 1364.5, 1300.0], 'leq_threshold': [True, True, True, True]}, 'estimator_weight': 0.000503548028069302, 'pred_class': 1, 'pred_value': 0.000503548028069302, 'agree_sign_delta': False, 'forest_pred_class': 0, 'forest_pred_probas': 0.0056366455579216395, 'forest_pred_lodds': -5.172813558251948, 'prior_probas': 0.11253350149771402, 'prior_lodds': -2.0651198040663528, 'delta_lodds': -3.1076937541855956}, {'path': {'feature_idx': [54, 54, 54, 54], 'feature_name': ['duration', 'duration', 'duration', 'duration'], 'feature_value': [163.0, 163.0, 163.0, 163.0], 'threshold': [1737.5, 1616.5, 1364.5, 1300.0], 'leq_threshold': [True, True, True, True]}, 'estimator_weight': 0.000503548028069302, 'pred_class': 1, 'pred_value': 0.000503548028069302, 'agree_sign_delta': False, 'forest_pred_class': 0, 'forest_pred_probas': 0.0014770291144424106, 'forest_pred_lodds': -6.5162444427528765, 'prior_probas': 0.11253350149771402, 'prior_lodds': -2.0651198040663528, 'delta_lodds': -4.451124638686524}, {'path': {'feature_idx': [54, 54, 54, 54], 'feature_name': ['duration', 'duration', 'duration', 'duration'], 'feature_value': [153.0, 153.0, 153.0, 153.0], 'threshold': [1737.5, 1616.5, 1364.5, 1300.0], 'leq_threshold': [True, True, True, True]}, 'estimator_weight': 0.000503548028069302, 'pred_class': 1, 'pred_value': 0.000503548028069302, 'agree_sign_delta': False, 'forest_pred_class': 0, 'forest_pred_probas': 0.0018570735375395327, 'forest_pred_lodds': -6.286894597176373, 'prior_probas': 0.11253350149771402, 'prior_lodds': -2.0651198040663528, 'delta_lodds': -4.22177479311002}, {'path': {'feature_idx': [54, 54, 54, 54], 'feature_name': ['duration', 'duration', 'duration', 'duration'], 'feature_value': [301.0, 301.0, 301.0, 301.0], 'threshold': [1737.5, 1616.5, 1364.5, 1300.0], 'leq_threshold': [True, True, True, True]}, 'estimator_weight': 0.000503548028069302, 'pred_class': 1, 'pred_value': 0.000503548028069302, 'agree_sign_delta': False, 'forest_pred_class': 0, 'forest_pred_probas': 0.005430659709781504, 'forest_pred_lodds': -5.210249199554203, 'prior_probas': 0.11253350149771402, 'prior_lodds': -2.0651198040663528, 'delta_lodds': -3.14512939548785}, {'path': {'feature_idx': [54, 54, 54, 54], 'feature_name': ['duration', 'duration', 'duration', 'duration'], 'feature_value': [227.0, 227.0, 227.0, 227.0], 'threshold': [1737.5, 1616.5, 1364.5, 1300.0], 'leq_threshold': [True, True, True, True]}, 'estimator_weight': 0.000503548028069302, 'pred_class': 1, 'pred_value': 0.000503548028069302, 'agree_sign_delta': True, 'forest_pred_class': 1, 'forest_pred_probas': 0.531050501630677, 'forest_pred_lodds': 0.12436204010336573, 'prior_probas': 0.11253350149771402, 'prior_lodds': -2.0651198040663528, 'delta_lodds': 2.1894818441697184}, {'path': {'feature_idx': [54, 54, 54, 54], 'feature_name': ['duration', 'duration', 'duration', 'duration'], 'feature_value': [402.0, 402.0, 402.0, 402.0], 'threshold': [1737.5, 1616.5, 1364.5, 1300.0], 'leq_threshold': [True, True, True, True]}, 'estimator_weight': 0.000503548028069302, 'pred_class': 1, 'pred_value': 0.000503548028069302, 'agree_sign_delta': False, 'forest_pred_class': 0, 'forest_pred_probas': 0.025656465291850675, 'forest_pred_lodds': -3.6369683484786255, 'prior_probas': 0.11253350149771402, 'prior_lodds': -2.0651198040663528, 'delta_lodds': -1.5718485444122727}, {'path': {'feature_idx': [54, 54, 54, 54], 'feature_name': ['duration', 'duration', 'duration', 'duration'], 'feature_value': [153.0, 153.0, 153.0, 153.0], 'threshold': [1737.5, 1616.5, 1364.5, 1300.0], 'leq_threshold': [True, True, True, True]}, 'estimator_weight': 0.000503548028069302, 'pred_class': 1, 'pred_value': 0.000503548028069302, 'agree_sign_delta': False, 'forest_pred_class': 0, 'forest_pred_probas': 0.0017891197122221704, 'forest_pred_lodds': -6.3242408388764, 'prior_probas': 0.11253350149771402, 'prior_lodds': -2.0651198040663528, 'delta_lodds': -4.259121034810047}, {'path': {'feature_idx': [54, 54, 54, 54], 'feature_name': ['duration', 'duration', 'duration', 'duration'], 'feature_value': [185.0, 185.0, 185.0, 185.0], 'threshold': [1737.5, 1616.5, 1364.5, 1300.0], 'leq_threshold': [True, True, True, True]}, 'estimator_weight': 0.000503548028069302, 'pred_class': 1, 'pred_value': 0.000503548028069302, 'agree_sign_delta': False, 'forest_pred_class': 0, 'forest_pred_probas': 0.0016239694361796125, 'forest_pred_lodds': -6.421256568002292, 'prior_probas': 0.11253350149771402, 'prior_lodds': -2.0651198040663528, 'delta_lodds': -4.35613676393594}, {'path': {'feature_idx': [54, 54, 54, 54], 'feature_name': ['duration', 'duration', 'duration', 'duration'], 'feature_value': [172.0, 172.0, 172.0, 172.0], 'threshold': [1737.5, 1616.5, 1364.5, 1300.0], 'leq_threshold': [True, True, True, True]}, 'estimator_weight': 0.000503548028069302, 'pred_class': 1, 'pred_value': 0.000503548028069302, 'agree_sign_delta': False, 'forest_pred_class': 0, 'forest_pred_probas': 0.001805419468491629, 'forest_pred_lodds': -6.315155270477621, 'prior_probas': 0.11253350149771402, 'prior_lodds': -2.0651198040663528, 'delta_lodds': -4.250035466411267}, {'path': {'feature_idx': [54, 54, 54, 54], 'feature_name': ['duration', 'duration', 'duration', 'duration'], 'feature_value': [253.0, 253.0, 253.0, 253.0], 'threshold': [1737.5, 1616.5, 1364.5, 1300.0], 'leq_threshold': [True, True, True, True]}, 'estimator_weight': 0.000503548028069302, 'pred_class': 1, 'pred_value': 0.000503548028069302, 'agree_sign_delta': False, 'forest_pred_class': 0, 'forest_pred_probas': 0.0029862151042491783, 'forest_pred_lodds': -5.810757862126893, 'prior_probas': 0.11253350149771402, 'prior_lodds': -2.0651198040663528, 'delta_lodds': -3.7456380580605404}, {'path': {'feature_idx': [54, 54, 54, 54], 'feature_name': ['duration', 'duration', 'duration', 'duration'], 'feature_value': [172.0, 172.0, 172.0, 172.0], 'threshold': [1737.5, 1616.5, 1364.5, 1300.0], 'leq_threshold': [True, True, True, True]}, 'estimator_weight': 0.000503548028069302, 'pred_class': 1, 'pred_value': 0.000503548028069302, 'agree_sign_delta': False, 'forest_pred_class': 0, 'forest_pred_probas': 0.001540232786064712, 'forest_pred_lodds': -6.474280294033843, 'prior_probas': 0.11253350149771402, 'prior_lodds': -2.0651198040663528, 'delta_lodds': -4.4091604899674905}, {'path': {'feature_idx': [54, 54, 54, 54], 'feature_name': ['duration', 'duration', 'duration', 'duration'], 'feature_value': [191.0, 191.0, 191.0, 191.0], 'threshold': [1737.5, 1616.5, 1364.5, 1300.0], 'leq_threshold': [True, True, True, True]}, 'estimator_weight': 0.000503548028069302, 'pred_class': 1, 'pred_value': 0.000503548028069302, 'agree_sign_delta': False, 'forest_pred_class': 0, 'forest_pred_probas': 0.0014293062066016557, 'forest_pred_lodds': -6.549135794013021, 'prior_probas': 0.11253350149771402, 'prior_lodds': -2.0651198040663528, 'delta_lodds': -4.484015989946668}, {'path': {'feature_idx': [54, 54, 54, 54], 'feature_name': ['duration', 'duration', 'duration', 'duration'], 'feature_value': [191.0, 191.0, 191.0, 191.0], 'threshold': [1737.5, 1616.5, 1364.5, 1300.0], 'leq_threshold': [True, True, True, True]}, 'estimator_weight': 0.000503548028069302, 'pred_class': 1, 'pred_value': 0.000503548028069302, 'agree_sign_delta': False, 'forest_pred_class': 0, 'forest_pred_probas': 0.0014617488090884864, 'forest_pred_lodds': -6.526658927418968, 'prior_probas': 0.11253350149771402, 'prior_lodds': -2.0651198040663528, 'delta_lodds': -4.461539123352615}, {'path': {'feature_idx': [54, 54, 54, 54], 'feature_name': ['duration', 'duration', 'duration', 'duration'], 'feature_value': [706.0, 706.0, 706.0, 706.0], 'threshold': [1737.5, 1616.5, 1364.5, 1300.0], 'leq_threshold': [True, True, True, True]}, 'estimator_weight': 0.000503548028069302, 'pred_class': 1, 'pred_value': 0.000503548028069302, 'agree_sign_delta': True, 'forest_pred_class': 1, 'forest_pred_probas': 0.7700856325502085, 'forest_pred_lodds': 1.2087947956074936, 'prior_probas': 0.11253350149771402, 'prior_lodds': -2.0651198040663528, 'delta_lodds': 3.273914599673846}, {'path': {'feature_idx': [54, 54, 54, 54], 'feature_name': ['duration', 'duration', 'duration', 'duration'], 'feature_value': [121.0, 121.0, 121.0, 121.0], 'threshold': [1737.5, 1616.5, 1364.5, 1300.0], 'leq_threshold': [True, True, True, True]}, 'estimator_weight': 0.000503548028069302, 'pred_class': 1, 'pred_value': 0.000503548028069302, 'agree_sign_delta': False, 'forest_pred_class': 0, 'forest_pred_probas': 0.001837877325544519, 'forest_pred_lodds': -6.2973044324287715, 'prior_probas': 0.11253350149771402, 'prior_lodds': -2.0651198040663528, 'delta_lodds': -4.232184628362418}, {'path': {'feature_idx': [54, 54, 54, 54], 'feature_name': ['duration', 'duration', 'duration', 'duration'], 'feature_value': [241.0, 241.0, 241.0, 241.0], 'threshold': [1737.5, 1616.5, 1364.5, 1300.0], 'leq_threshold': [True, True, True, True]}, 'estimator_weight': 0.000503548028069302, 'pred_class': 1, 'pred_value': 0.000503548028069302, 'agree_sign_delta': False, 'forest_pred_class': 0, 'forest_pred_probas': 0.002892971318198265, 'forest_pred_lodds': -5.842574003196618, 'prior_probas': 0.11253350149771402, 'prior_lodds': -2.0651198040663528, 'delta_lodds': -3.7774541991302653}, {'path': {'feature_idx': [54, 54, 54, 54], 'feature_name': ['duration', 'duration', 'duration', 'duration'], 'feature_value': [197.0, 197.0, 197.0, 197.0], 'threshold': [1737.5, 1616.5, 1364.5, 1300.0], 'leq_threshold': [True, True, True, True]}, 'estimator_weight': 0.000503548028069302, 'pred_class': 1, 'pred_value': 0.000503548028069302, 'agree_sign_delta': True, 'forest_pred_class': 0, 'forest_pred_probas': 0.21414465505057315, 'forest_pred_lodds': -1.3001209911420433, 'prior_probas': 0.11253350149771402, 'prior_lodds': -2.0651198040663528, 'delta_lodds': 0.7649988129243095}, {'path': {'feature_idx': [54, 54, 54, 54], 'feature_name': ['duration', 'duration', 'duration', 'duration'], 'feature_value': [64.0, 64.0, 64.0, 64.0], 'threshold': [1737.5, 1616.5, 1364.5, 1300.0], 'leq_threshold': [True, True, True, True]}, 'estimator_weight': 0.000503548028069302, 'pred_class': 1, 'pred_value': 0.000503548028069302, 'agree_sign_delta': False, 'forest_pred_class': 0, 'forest_pred_probas': 0.004661662693383012, 'forest_pred_lodds': -5.363710531198722, 'prior_probas': 0.11253350149771402, 'prior_lodds': -2.0651198040663528, 'delta_lodds': -3.298590727132369}, {'path': {'feature_idx': [54, 54, 54, 54], 'feature_name': ['duration', 'duration', 'duration', 'duration'], 'feature_value': [9.0, 9.0, 9.0, 9.0], 'threshold': [1737.5, 1616.5, 1364.5, 1300.0], 'leq_threshold': [True, True, True, True]}, 'estimator_weight': 0.000503548028069302, 'pred_class': 1, 'pred_value': 0.000503548028069302, 'agree_sign_delta': False, 'forest_pred_class': 0, 'forest_pred_probas': 0.0008498717744830653, 'forest_pred_lodds': -7.069574840288542, 'prior_probas': 0.11253350149771402, 'prior_lodds': -2.0651198040663528, 'delta_lodds': -5.00445503622219}, {'path': {'feature_idx': [54, 54, 54, 54], 'feature_name': ['duration', 'duration', 'duration', 'duration'], 'feature_value': [253.0, 253.0, 253.0, 253.0], 'threshold': [1737.5, 1616.5, 1364.5, 1300.0], 'leq_threshold': [True, True, True, True]}, 'estimator_weight': 0.000503548028069302, 'pred_class': 1, 'pred_value': 0.000503548028069302, 'agree_sign_delta': False, 'forest_pred_class': 0, 'forest_pred_probas': 0.002557163542076803, 'forest_pred_lodds': -5.966296187473827, 'prior_probas': 0.11253350149771402, 'prior_lodds': -2.0651198040663528, 'delta_lodds': -3.9011763834074746}, {'path': {'feature_idx': [54, 54, 54, 54], 'feature_name': ['duration', 'duration', 'duration', 'duration'], 'feature_value': [1037.0, 1037.0, 1037.0, 1037.0], 'threshold': [1737.5, 1616.5, 1364.5, 1300.0], 'leq_threshold': [True, True, True, True]}, 'estimator_weight': 0.000503548028069302, 'pred_class': 1, 'pred_value': 0.000503548028069302, 'agree_sign_delta': True, 'forest_pred_class': 1, 'forest_pred_probas': 0.6511554420698727, 'forest_pred_lodds': 0.6241219577721396, 'prior_probas': 0.11253350149771402, 'prior_lodds': -2.0651198040663528, 'delta_lodds': 2.6892417618384923}, {'path': {'feature_idx': [54, 54, 54, 54], 'feature_name': ['duration', 'duration', 'duration', 'duration'], 'feature_value': [61.0, 61.0, 61.0, 61.0], 'threshold': [1737.5, 1616.5, 1364.5, 1300.0], 'leq_threshold': [True, True, True, True]}, 'estimator_weight': 0.000503548028069302, 'pred_class': 1, 'pred_value': 0.000503548028069302, 'agree_sign_delta': False, 'forest_pred_class': 0, 'forest_pred_probas': 0.003302082137312427, 'forest_pred_lodds': -5.7098945127326495, 'prior_probas': 0.11253350149771402, 'prior_lodds': -2.0651198040663528, 'delta_lodds': -3.6447747086662967}, {'path': {'feature_idx': [54, 54, 54, 54], 'feature_name': ['duration', 'duration', 'duration', 'duration'], 'feature_value': [135.0, 135.0, 135.0, 135.0], 'threshold': [1737.5, 1616.5, 1364.5, 1300.0], 'leq_threshold': [True, True, True, True]}, 'estimator_weight': 0.000503548028069302, 'pred_class': 1, 'pred_value': 0.000503548028069302, 'agree_sign_delta': False, 'forest_pred_class': 0, 'forest_pred_probas': 0.001609526638942796, 'forest_pred_lodds': -6.4302043329766025, 'prior_probas': 0.11253350149771402, 'prior_lodds': -2.0651198040663528, 'delta_lodds': -4.36508452891025}, {'path': {'feature_idx': [54, 54, 54, 54], 'feature_name': ['duration', 'duration', 'duration', 'duration'], 'feature_value': [458.0, 458.0, 458.0, 458.0], 'threshold': [1737.5, 1616.5, 1364.5, 1300.0], 'leq_threshold': [True, True, True, True]}, 'estimator_weight': 0.000503548028069302, 'pred_class': 1, 'pred_value': 0.000503548028069302, 'agree_sign_delta': True, 'forest_pred_class': 1, 'forest_pred_probas': 0.9496773432673947, 'forest_pred_lodds': 2.937666880487039, 'prior_probas': 0.11253350149771402, 'prior_lodds': -2.0651198040663528, 'delta_lodds': 5.002786684553392}, {'path': {'feature_idx': [54, 54, 54, 54], 'feature_name': ['duration', 'duration', 'duration', 'duration'], 'feature_value': [178.0, 178.0, 178.0, 178.0], 'threshold': [1737.5, 1616.5, 1364.5, 1300.0], 'leq_threshold': [True, True, True, True]}, 'estimator_weight': 0.000503548028069302, 'pred_class': 1, 'pred_value': 0.000503548028069302, 'agree_sign_delta': False, 'forest_pred_class': 0, 'forest_pred_probas': 0.01215157712692199, 'forest_pred_lodds': -4.398070301785847, 'prior_probas': 0.11253350149771402, 'prior_lodds': -2.0651198040663528, 'delta_lodds': -2.332950497719494}, {'path': {'feature_idx': [54, 54, 54, 54], 'feature_name': ['duration', 'duration', 'duration', 'duration'], 'feature_value': [43.0, 43.0, 43.0, 43.0], 'threshold': [1737.5, 1616.5, 1364.5, 1300.0], 'leq_threshold': [True, True, True, True]}, 'estimator_weight': 0.000503548028069302, 'pred_class': 1, 'pred_value': 0.000503548028069302, 'agree_sign_delta': False, 'forest_pred_class': 0, 'forest_pred_probas': 0.009737989530255127, 'forest_pred_lodds': -4.6219348825365945, 'prior_probas': 0.11253350149771402, 'prior_lodds': -2.0651198040663528, 'delta_lodds': -2.5568150784702417}, {'path': {'feature_idx': [54, 54, 54, 54], 'feature_name': ['duration', 'duration', 'duration', 'duration'], 'feature_value': [154.0, 154.0, 154.0, 154.0], 'threshold': [1737.5, 1616.5, 1364.5, 1300.0], 'leq_threshold': [True, True, True, True]}, 'estimator_weight': 0.000503548028069302, 'pred_class': 1, 'pred_value': 0.000503548028069302, 'agree_sign_delta': False, 'forest_pred_class': 0, 'forest_pred_probas': 0.0015641780965941216, 'forest_pred_lodds': -6.458829368139045, 'prior_probas': 0.11253350149771402, 'prior_lodds': -2.0651198040663528, 'delta_lodds': -4.393709564072692}, {'path': {'feature_idx': [54, 54, 54, 54], 'feature_name': ['duration', 'duration', 'duration', 'duration'], 'feature_value': [383.0, 383.0, 383.0, 383.0], 'threshold': [1737.5, 1616.5, 1364.5, 1300.0], 'leq_threshold': [True, True, True, True]}, 'estimator_weight': 0.000503548028069302, 'pred_class': 1, 'pred_value': 0.000503548028069302, 'agree_sign_delta': False, 'forest_pred_class': 0, 'forest_pred_probas': 0.07403328431706394, 'forest_pred_lodds': -2.5263235096650076, 'prior_probas': 0.11253350149771402, 'prior_lodds': -2.0651198040663528, 'delta_lodds': -0.46120370559865487}, {'path': {'feature_idx': [54, 54, 54, 54], 'feature_name': ['duration', 'duration', 'duration', 'duration'], 'feature_value': [9.0, 9.0, 9.0, 9.0], 'threshold': [1737.5, 1616.5, 1364.5, 1300.0], 'leq_threshold': [True, True, True, True]}, 'estimator_weight': 0.000503548028069302, 'pred_class': 1, 'pred_value': 0.000503548028069302, 'agree_sign_delta': False, 'forest_pred_class': 0, 'forest_pred_probas': 0.003111819077613044, 'forest_pred_lodds': -5.769431140515369, 'prior_probas': 0.11253350149771402, 'prior_lodds': -2.0651198040663528, 'delta_lodds': -3.7043113364490163}, {'path': {'feature_idx': [54, 54, 54, 54], 'feature_name': ['duration', 'duration', 'duration', 'duration'], 'feature_value': [11.0, 11.0, 11.0, 11.0], 'threshold': [1737.5, 1616.5, 1364.5, 1300.0], 'leq_threshold': [True, True, True, True]}, 'estimator_weight': 0.000503548028069302, 'pred_class': 1, 'pred_value': 0.000503548028069302, 'agree_sign_delta': False, 'forest_pred_class': 0, 'forest_pred_probas': 0.0011849937597495197, 'forest_pred_lodds': -6.73683207402306, 'prior_probas': 0.11253350149771402, 'prior_lodds': -2.0651198040663528, 'delta_lodds': -4.671712269956707}, {'path': {'feature_idx': [54, 54, 54, 54], 'feature_name': ['duration', 'duration', 'duration', 'duration'], 'feature_value': [518.0, 518.0, 518.0, 518.0], 'threshold': [1737.5, 1616.5, 1364.5, 1300.0], 'leq_threshold': [True, True, True, True]}, 'estimator_weight': 0.000503548028069302, 'pred_class': 1, 'pred_value': 0.000503548028069302, 'agree_sign_delta': False, 'forest_pred_class': 0, 'forest_pred_probas': 0.07486015709645769, 'forest_pred_lodds': -2.514323106592209, 'prior_probas': 0.11253350149771402, 'prior_lodds': -2.0651198040663528, 'delta_lodds': -0.44920330252585616}, {'path': {'feature_idx': [54, 54, 54, 54], 'feature_name': ['duration', 'duration', 'duration', 'duration'], 'feature_value': [135.0, 135.0, 135.0, 135.0], 'threshold': [1737.5, 1616.5, 1364.5, 1300.0], 'leq_threshold': [True, True, True, True]}, 'estimator_weight': 0.000503548028069302, 'pred_class': 1, 'pred_value': 0.000503548028069302, 'agree_sign_delta': False, 'forest_pred_class': 0, 'forest_pred_probas': 0.0054001551397895465, 'forest_pred_lodds': -5.2159128075503345, 'prior_probas': 0.11253350149771402, 'prior_lodds': -2.0651198040663528, 'delta_lodds': -3.1507930034839817}, {'path': {'feature_idx': [54, 54, 54, 54], 'feature_name': ['duration', 'duration', 'duration', 'duration'], 'feature_value': [90.0, 90.0, 90.0, 90.0], 'threshold': [1737.5, 1616.5, 1364.5, 1300.0], 'leq_threshold': [True, True, True, True]}, 'estimator_weight': 0.000503548028069302, 'pred_class': 1, 'pred_value': 0.000503548028069302, 'agree_sign_delta': False, 'forest_pred_class': 0, 'forest_pred_probas': 0.0012550632626223304, 'forest_pred_lodds': -6.6793134476907206, 'prior_probas': 0.11253350149771402, 'prior_lodds': -2.0651198040663528, 'delta_lodds': -4.614193643624368}, {'path': {'feature_idx': [54, 54, 54, 54], 'feature_name': ['duration', 'duration', 'duration', 'duration'], 'feature_value': [745.0, 745.0, 745.0, 745.0], 'threshold': [1737.5, 1616.5, 1364.5, 1300.0], 'leq_threshold': [True, True, True, True]}, 'estimator_weight': 0.000503548028069302, 'pred_class': 1, 'pred_value': 0.000503548028069302, 'agree_sign_delta': True, 'forest_pred_class': 1, 'forest_pred_probas': 0.7369585917521101, 'forest_pred_lodds': 1.0302202401487306, 'prior_probas': 0.11253350149771402, 'prior_lodds': -2.0651198040663528, 'delta_lodds': 3.0953400442150834}, {'path': {'feature_idx': [54, 54, 54, 54], 'feature_name': ['duration', 'duration', 'duration', 'duration'], 'feature_value': [201.0, 201.0, 201.0, 201.0], 'threshold': [1737.5, 1616.5, 1364.5, 1300.0], 'leq_threshold': [True, True, True, True]}, 'estimator_weight': 0.000503548028069302, 'pred_class': 1, 'pred_value': 0.000503548028069302, 'agree_sign_delta': False, 'forest_pred_class': 0, 'forest_pred_probas': 0.0015568081116570291, 'forest_pred_lodds': -6.463559614881225, 'prior_probas': 0.11253350149771402, 'prior_lodds': -2.0651198040663528, 'delta_lodds': -4.398439810814873}, {'path': {'feature_idx': [54, 54, 54, 54], 'feature_name': ['duration', 'duration', 'duration', 'duration'], 'feature_value': [185.0, 185.0, 185.0, 185.0], 'threshold': [1737.5, 1616.5, 1364.5, 1300.0], 'leq_threshold': [True, True, True, True]}, 'estimator_weight': 0.000503548028069302, 'pred_class': 1, 'pred_value': 0.000503548028069302, 'agree_sign_delta': False, 'forest_pred_class': 0, 'forest_pred_probas': 0.0018180447048619128, 'forest_pred_lodds': -6.308173994042193, 'prior_probas': 0.11253350149771402, 'prior_lodds': -2.0651198040663528, 'delta_lodds': -4.24305418997584}, {'path': {'feature_idx': [54, 54, 54, 54], 'feature_name': ['duration', 'duration', 'duration', 'duration'], 'feature_value': [81.0, 81.0, 81.0, 81.0], 'threshold': [1737.5, 1616.5, 1364.5, 1300.0], 'leq_threshold': [True, True, True, True]}, 'estimator_weight': 0.000503548028069302, 'pred_class': 1, 'pred_value': 0.000503548028069302, 'agree_sign_delta': False, 'forest_pred_class': 0, 'forest_pred_probas': 0.0016538731599767007, 'forest_pred_lodds': -6.402980129837132, 'prior_probas': 0.11253350149771402, 'prior_lodds': -2.0651198040663528, 'delta_lodds': -4.337860325770778}, {'path': {'feature_idx': [54, 54, 54, 54], 'feature_name': ['duration', 'duration', 'duration', 'duration'], 'feature_value': [91.0, 91.0, 91.0, 91.0], 'threshold': [1737.5, 1616.5, 1364.5, 1300.0], 'leq_threshold': [True, True, True, True]}, 'estimator_weight': 0.000503548028069302, 'pred_class': 1, 'pred_value': 0.000503548028069302, 'agree_sign_delta': False, 'forest_pred_class': 0, 'forest_pred_probas': 0.011722412787138951, 'forest_pred_lodds': -4.434460984833312, 'prior_probas': 0.11253350149771402, 'prior_lodds': -2.0651198040663528, 'delta_lodds': -2.3693411807669595}, {'path': {'feature_idx': [54, 54, 54, 54], 'feature_name': ['duration', 'duration', 'duration', 'duration'], 'feature_value': [68.0, 68.0, 68.0, 68.0], 'threshold': [1737.5, 1616.5, 1364.5, 1300.0], 'leq_threshold': [True, True, True, True]}, 'estimator_weight': 0.000503548028069302, 'pred_class': 1, 'pred_value': 0.000503548028069302, 'agree_sign_delta': False, 'forest_pred_class': 0, 'forest_pred_probas': 0.0018528717674440123, 'forest_pred_lodds': -6.289163946290431, 'prior_probas': 0.11253350149771402, 'prior_lodds': -2.0651198040663528, 'delta_lodds': -4.224044142224079}, {'path': {'feature_idx': [54, 54, 54, 54], 'feature_name': ['duration', 'duration', 'duration', 'duration'], 'feature_value': [350.0, 350.0, 350.0, 350.0], 'threshold': [1737.5, 1616.5, 1364.5, 1300.0], 'leq_threshold': [True, True, True, True]}, 'estimator_weight': 0.000503548028069302, 'pred_class': 1, 'pred_value': 0.000503548028069302, 'agree_sign_delta': True, 'forest_pred_class': 0, 'forest_pred_probas': 0.1388541850433406, 'forest_pred_lodds': -1.8248394913890438, 'prior_probas': 0.11253350149771402, 'prior_lodds': -2.0651198040663528, 'delta_lodds': 0.24028031267730898}, {'path': {'feature_idx': [54, 54, 54, 54], 'feature_name': ['duration', 'duration', 'duration', 'duration'], 'feature_value': [276.0, 276.0, 276.0, 276.0], 'threshold': [1737.5, 1616.5, 1364.5, 1300.0], 'leq_threshold': [True, True, True, True]}, 'estimator_weight': 0.000503548028069302, 'pred_class': 1, 'pred_value': 0.000503548028069302, 'agree_sign_delta': False, 'forest_pred_class': 0, 'forest_pred_probas': 0.004242460957132336, 'forest_pred_lodds': -5.458360277967077, 'prior_probas': 0.11253350149771402, 'prior_lodds': -2.0651198040663528, 'delta_lodds': -3.393240473900724}, {'path': {'feature_idx': [54, 54, 54, 54], 'feature_name': ['duration', 'duration', 'duration', 'duration'], 'feature_value': [213.0, 213.0, 213.0, 213.0], 'threshold': [1737.5, 1616.5, 1364.5, 1300.0], 'leq_threshold': [True, True, True, True]}, 'estimator_weight': 0.000503548028069302, 'pred_class': 1, 'pred_value': 0.000503548028069302, 'agree_sign_delta': False, 'forest_pred_class': 0, 'forest_pred_probas': 0.0022260806497060243, 'forest_pred_lodds': -6.105284233959258, 'prior_probas': 0.11253350149771402, 'prior_lodds': -2.0651198040663528, 'delta_lodds': -4.040164429892906}, {'path': {'feature_idx': [54, 54, 54, 54], 'feature_name': ['duration', 'duration', 'duration', 'duration'], 'feature_value': [247.0, 247.0, 247.0, 247.0], 'threshold': [1737.5, 1616.5, 1364.5, 1300.0], 'leq_threshold': [True, True, True, True]}, 'estimator_weight': 0.000503548028069302, 'pred_class': 1, 'pred_value': 0.000503548028069302, 'agree_sign_delta': False, 'forest_pred_class': 0, 'forest_pred_probas': 0.015572895751447288, 'forest_pred_lodds': -4.146527900608131, 'prior_probas': 0.11253350149771402, 'prior_lodds': -2.0651198040663528, 'delta_lodds': -2.0814080965417783}, {'path': {'feature_idx': [54, 54, 54, 54], 'feature_name': ['duration', 'duration', 'duration', 'duration'], 'feature_value': [446.0, 446.0, 446.0, 446.0], 'threshold': [1737.5, 1616.5, 1364.5, 1300.0], 'leq_threshold': [True, True, True, True]}, 'estimator_weight': 0.000503548028069302, 'pred_class': 1, 'pred_value': 0.000503548028069302, 'agree_sign_delta': False, 'forest_pred_class': 0, 'forest_pred_probas': 0.036497640373407386, 'forest_pred_lodds': -3.273327325672275, 'prior_probas': 0.11253350149771402, 'prior_lodds': -2.0651198040663528, 'delta_lodds': -1.2082075216059223}, {'path': {'feature_idx': [54, 54, 54, 54], 'feature_name': ['duration', 'duration', 'duration', 'duration'], 'feature_value': [186.0, 186.0, 186.0, 186.0], 'threshold': [1737.5, 1616.5, 1364.5, 1300.0], 'leq_threshold': [True, True, True, True]}, 'estimator_weight': 0.000503548028069302, 'pred_class': 1, 'pred_value': 0.000503548028069302, 'agree_sign_delta': False, 'forest_pred_class': 0, 'forest_pred_probas': 0.0017260929601852328, 'forest_pred_lodds': -6.360167244656135, 'prior_probas': 0.11253350149771402, 'prior_lodds': -2.0651198040663528, 'delta_lodds': -4.295047440589782}, {'path': {'feature_idx': [54, 54, 54, 54], 'feature_name': ['duration', 'duration', 'duration', 'duration'], 'feature_value': [110.0, 110.0, 110.0, 110.0], 'threshold': [1737.5, 1616.5, 1364.5, 1300.0], 'leq_threshold': [True, True, True, True]}, 'estimator_weight': 0.000503548028069302, 'pred_class': 1, 'pred_value': 0.000503548028069302, 'agree_sign_delta': False, 'forest_pred_class': 0, 'forest_pred_probas': 0.0012952509070157416, 'forest_pred_lodds': -6.647754761537039, 'prior_probas': 0.11253350149771402, 'prior_lodds': -2.0651198040663528, 'delta_lodds': -4.582634957470686}, {'path': {'feature_idx': [54, 54, 54, 54], 'feature_name': ['duration', 'duration', 'duration', 'duration'], 'feature_value': [355.0, 355.0, 355.0, 355.0], 'threshold': [1737.5, 1616.5, 1364.5, 1300.0], 'leq_threshold': [True, True, True, True]}, 'estimator_weight': 0.000503548028069302, 'pred_class': 1, 'pred_value': 0.000503548028069302, 'agree_sign_delta': True, 'forest_pred_class': 1, 'forest_pred_probas': 0.962230318582451, 'forest_pred_lodds': 3.2377471365287107, 'prior_probas': 0.11253350149771402, 'prior_lodds': -2.0651198040663528, 'delta_lodds': 5.302866940595063}, {'path': {'feature_idx': [54, 54, 54, 54], 'feature_name': ['duration', 'duration', 'duration', 'duration'], 'feature_value': [173.0, 173.0, 173.0, 173.0], 'threshold': [1737.5, 1616.5, 1364.5, 1300.0], 'leq_threshold': [True, True, True, True]}, 'estimator_weight': 0.000503548028069302, 'pred_class': 1, 'pred_value': 0.000503548028069302, 'agree_sign_delta': True, 'forest_pred_class': 0, 'forest_pred_probas': 0.16361580123050057, 'forest_pred_lodds': -1.6315670713786417, 'prior_probas': 0.11253350149771402, 'prior_lodds': -2.0651198040663528, 'delta_lodds': 0.4335527326877111}, {'path': {'feature_idx': [54, 54, 54, 54], 'feature_name': ['duration', 'duration', 'duration', 'duration'], 'feature_value': [22.0, 22.0, 22.0, 22.0], 'threshold': [1737.5, 1616.5, 1364.5, 1300.0], 'leq_threshold': [True, True, True, True]}, 'estimator_weight': 0.000503548028069302, 'pred_class': 1, 'pred_value': 0.000503548028069302, 'agree_sign_delta': False, 'forest_pred_class': 0, 'forest_pred_probas': 0.0018863064699614874, 'forest_pred_lodds': -6.27124652285723, 'prior_probas': 0.11253350149771402, 'prior_lodds': -2.0651198040663528, 'delta_lodds': -4.206126718790877}, {'path': {'feature_idx': [54, 54, 54, 54], 'feature_name': ['duration', 'duration', 'duration', 'duration'], 'feature_value': [323.0, 323.0, 323.0, 323.0], 'threshold': [1737.5, 1616.5, 1364.5, 1300.0], 'leq_threshold': [True, True, True, True]}, 'estimator_weight': 0.000503548028069302, 'pred_class': 1, 'pred_value': 0.000503548028069302, 'agree_sign_delta': False, 'forest_pred_class': 0, 'forest_pred_probas': 0.05216204954970521, 'forest_pred_lodds': -2.8998283389391126, 'prior_probas': 0.11253350149771402, 'prior_lodds': -2.0651198040663528, 'delta_lodds': -0.8347085348727599}, {'path': {'feature_idx': [54, 54, 54, 54], 'feature_name': ['duration', 'duration', 'duration', 'duration'], 'feature_value': [149.0, 149.0, 149.0, 149.0], 'threshold': [1737.5, 1616.5, 1364.5, 1300.0], 'leq_threshold': [True, True, True, True]}, 'estimator_weight': 0.000503548028069302, 'pred_class': 1, 'pred_value': 0.000503548028069302, 'agree_sign_delta': False, 'forest_pred_class': 0, 'forest_pred_probas': 0.0017919272247194863, 'forest_pred_lodds': -6.322670041812848, 'prior_probas': 0.11253350149771402, 'prior_lodds': -2.0651198040663528, 'delta_lodds': -4.257550237746495}, {'path': {'feature_idx': [54, 54, 54, 54], 'feature_name': ['duration', 'duration', 'duration', 'duration'], 'feature_value': [180.0, 180.0, 180.0, 180.0], 'threshold': [1737.5, 1616.5, 1364.5, 1300.0], 'leq_threshold': [True, True, True, True]}, 'estimator_weight': 0.000503548028069302, 'pred_class': 1, 'pred_value': 0.000503548028069302, 'agree_sign_delta': False, 'forest_pred_class': 0, 'forest_pred_probas': 0.0014136073756862108, 'forest_pred_lodds': -6.560195811849771, 'prior_probas': 0.11253350149771402, 'prior_lodds': -2.0651198040663528, 'delta_lodds': -4.4950760077834175}, {'path': {'feature_idx': [54, 54, 54, 54], 'feature_name': ['duration', 'duration', 'duration', 'duration'], 'feature_value': [113.0, 113.0, 113.0, 113.0], 'threshold': [1737.5, 1616.5, 1364.5, 1300.0], 'leq_threshold': [True, True, True, True]}, 'estimator_weight': 0.000503548028069302, 'pred_class': 1, 'pred_value': 0.000503548028069302, 'agree_sign_delta': False, 'forest_pred_class': 0, 'forest_pred_probas': 0.012795480173821715, 'forest_pred_lodds': -4.34578523442385, 'prior_probas': 0.11253350149771402, 'prior_lodds': -2.0651198040663528, 'delta_lodds': -2.2806654303574976}, {'path': {'feature_idx': [54, 54, 54, 54], 'feature_name': ['duration', 'duration', 'duration', 'duration'], 'feature_value': [81.0, 81.0, 81.0, 81.0], 'threshold': [1737.5, 1616.5, 1364.5, 1300.0], 'leq_threshold': [True, True, True, True]}, 'estimator_weight': 0.000503548028069302, 'pred_class': 1, 'pred_value': 0.000503548028069302, 'agree_sign_delta': False, 'forest_pred_class': 0, 'forest_pred_probas': 0.0010063348242946633, 'forest_pred_lodds': -6.900433593829491, 'prior_probas': 0.11253350149771402, 'prior_lodds': -2.0651198040663528, 'delta_lodds': -4.835313789763138}, {'path': {'feature_idx': [54, 54, 54, 54], 'feature_name': ['duration', 'duration', 'duration', 'duration'], 'feature_value': [128.0, 128.0, 128.0, 128.0], 'threshold': [1737.5, 1616.5, 1364.5, 1300.0], 'leq_threshold': [True, True, True, True]}, 'estimator_weight': 0.000503548028069302, 'pred_class': 1, 'pred_value': 0.000503548028069302, 'agree_sign_delta': False, 'forest_pred_class': 0, 'forest_pred_probas': 0.0012828563730578658, 'forest_pred_lodds': -6.65738246585206, 'prior_probas': 0.11253350149771402, 'prior_lodds': -2.0651198040663528, 'delta_lodds': -4.592262661785707}, {'path': {'feature_idx': [54, 54, 54, 54], 'feature_name': ['duration', 'duration', 'duration', 'duration'], 'feature_value': [746.0, 746.0, 746.0, 746.0], 'threshold': [1737.5, 1616.5, 1364.5, 1300.0], 'leq_threshold': [True, True, True, True]}, 'estimator_weight': 0.000503548028069302, 'pred_class': 1, 'pred_value': 0.000503548028069302, 'agree_sign_delta': True, 'forest_pred_class': 1, 'forest_pred_probas': 0.8383826052867845, 'forest_pred_lodds': 1.646242784994311, 'prior_probas': 0.11253350149771402, 'prior_lodds': -2.0651198040663528, 'delta_lodds': 3.7113625890606636}, {'path': {'feature_idx': [54, 54, 54, 54], 'feature_name': ['duration', 'duration', 'duration', 'duration'], 'feature_value': [361.0, 361.0, 361.0, 361.0], 'threshold': [1737.5, 1616.5, 1364.5, 1300.0], 'leq_threshold': [True, True, True, True]}, 'estimator_weight': 0.000503548028069302, 'pred_class': 1, 'pred_value': 0.000503548028069302, 'agree_sign_delta': False, 'forest_pred_class': 0, 'forest_pred_probas': 0.008746969833851443, 'forest_pred_lodds': -4.730262494169023, 'prior_probas': 0.11253350149771402, 'prior_lodds': -2.0651198040663528, 'delta_lodds': -2.66514269010267}, {'path': {'feature_idx': [54, 54, 54, 54], 'feature_name': ['duration', 'duration', 'duration', 'duration'], 'feature_value': [246.0, 246.0, 246.0, 246.0], 'threshold': [1737.5, 1616.5, 1364.5, 1300.0], 'leq_threshold': [True, True, True, True]}, 'estimator_weight': 0.000503548028069302, 'pred_class': 1, 'pred_value': 0.000503548028069302, 'agree_sign_delta': False, 'forest_pred_class': 0, 'forest_pred_probas': 0.006717216639080416, 'forest_pred_lodds': -4.996341522181066, 'prior_probas': 0.11253350149771402, 'prior_lodds': -2.0651198040663528, 'delta_lodds': -2.931221718114713}, {'path': {'feature_idx': [54, 54, 54, 54], 'feature_name': ['duration', 'duration', 'duration', 'duration'], 'feature_value': [267.0, 267.0, 267.0, 267.0], 'threshold': [1737.5, 1616.5, 1364.5, 1300.0], 'leq_threshold': [True, True, True, True]}, 'estimator_weight': 0.000503548028069302, 'pred_class': 1, 'pred_value': 0.000503548028069302, 'agree_sign_delta': False, 'forest_pred_class': 0, 'forest_pred_probas': 0.0061351997902250105, 'forest_pred_lodds': -5.087558538243562, 'prior_probas': 0.11253350149771402, 'prior_lodds': -2.0651198040663528, 'delta_lodds': -3.0224387341772094}, {'path': {'feature_idx': [54, 54, 54, 54], 'feature_name': ['duration', 'duration', 'duration', 'duration'], 'feature_value': [337.0, 337.0, 337.0, 337.0], 'threshold': [1737.5, 1616.5, 1364.5, 1300.0], 'leq_threshold': [True, True, True, True]}, 'estimator_weight': 0.000503548028069302, 'pred_class': 1, 'pred_value': 0.000503548028069302, 'agree_sign_delta': False, 'forest_pred_class': 0, 'forest_pred_probas': 0.005588226551327094, 'forest_pred_lodds': -5.181489396833953, 'prior_probas': 0.11253350149771402, 'prior_lodds': -2.0651198040663528, 'delta_lodds': -3.1163695927676005}, {'path': {'feature_idx': [54, 54, 54, 54], 'feature_name': ['duration', 'duration', 'duration', 'duration'], 'feature_value': [295.0, 295.0, 295.0, 295.0], 'threshold': [1737.5, 1616.5, 1364.5, 1300.0], 'leq_threshold': [True, True, True, True]}, 'estimator_weight': 0.000503548028069302, 'pred_class': 1, 'pred_value': 0.000503548028069302, 'agree_sign_delta': False, 'forest_pred_class': 0, 'forest_pred_probas': 0.007798994258454211, 'forest_pred_lodds': -4.845930929356342, 'prior_probas': 0.11253350149771402, 'prior_lodds': -2.0651198040663528, 'delta_lodds': -2.7808111252899894}, {'path': {'feature_idx': [54, 54, 54, 54], 'feature_name': ['duration', 'duration', 'duration', 'duration'], 'feature_value': [322.0, 322.0, 322.0, 322.0], 'threshold': [1737.5, 1616.5, 1364.5, 1300.0], 'leq_threshold': [True, True, True, True]}, 'estimator_weight': 0.000503548028069302, 'pred_class': 1, 'pred_value': 0.000503548028069302, 'agree_sign_delta': False, 'forest_pred_class': 0, 'forest_pred_probas': 0.012952677334313625, 'forest_pred_lodds': -4.333415473507918, 'prior_probas': 0.11253350149771402, 'prior_lodds': -2.0651198040663528, 'delta_lodds': -2.268295669441565}, {'path': {'feature_idx': [54, 54, 54, 54], 'feature_name': ['duration', 'duration', 'duration', 'duration'], 'feature_value': [356.0, 356.0, 356.0, 356.0], 'threshold': [1737.5, 1616.5, 1364.5, 1300.0], 'leq_threshold': [True, True, True, True]}, 'estimator_weight': 0.000503548028069302, 'pred_class': 1, 'pred_value': 0.000503548028069302, 'agree_sign_delta': False, 'forest_pred_class': 0, 'forest_pred_probas': 0.010008461518128951, 'forest_pred_lodds': -4.594265509081793, 'prior_probas': 0.11253350149771402, 'prior_lodds': -2.0651198040663528, 'delta_lodds': -2.52914570501544}, {'path': {'feature_idx': [54, 54, 54, 54], 'feature_name': ['duration', 'duration', 'duration', 'duration'], 'feature_value': [31.0, 31.0, 31.0, 31.0], 'threshold': [1737.5, 1616.5, 1364.5, 1300.0], 'leq_threshold': [True, True, True, True]}, 'estimator_weight': 0.000503548028069302, 'pred_class': 1, 'pred_value': 0.000503548028069302, 'agree_sign_delta': False, 'forest_pred_class': 0, 'forest_pred_probas': 0.0011589871503479962, 'forest_pred_lodds': -6.759049142234472, 'prior_probas': 0.11253350149771402, 'prior_lodds': -2.0651198040663528, 'delta_lodds': -4.69392933816812}, {'path': {'feature_idx': [54, 54, 54, 54], 'feature_name': ['duration', 'duration', 'duration', 'duration'], 'feature_value': [652.0, 652.0, 652.0, 652.0], 'threshold': [1737.5, 1616.5, 1364.5, 1300.0], 'leq_threshold': [True, True, True, True]}, 'estimator_weight': 0.000503548028069302, 'pred_class': 1, 'pred_value': 0.000503548028069302, 'agree_sign_delta': True, 'forest_pred_class': 0, 'forest_pred_probas': 0.2358699191854922, 'forest_pred_lodds': -1.1754575743470246, 'prior_probas': 0.11253350149771402, 'prior_lodds': -2.0651198040663528, 'delta_lodds': 0.8896622297193282}, {'path': {'feature_idx': [54, 54, 54, 54], 'feature_name': ['duration', 'duration', 'duration', 'duration'], 'feature_value': [44.0, 44.0, 44.0, 44.0], 'threshold': [1737.5, 1616.5, 1364.5, 1300.0], 'leq_threshold': [True, True, True, True]}, 'estimator_weight': 0.000503548028069302, 'pred_class': 1, 'pred_value': 0.000503548028069302, 'agree_sign_delta': False, 'forest_pred_class': 0, 'forest_pred_probas': 0.003747317228024128, 'forest_pred_lodds': -5.582960744873839, 'prior_probas': 0.11253350149771402, 'prior_lodds': -2.0651198040663528, 'delta_lodds': -3.517840940807486}, {'path': {'feature_idx': [54, 54, 54, 54], 'feature_name': ['duration', 'duration', 'duration', 'duration'], 'feature_value': [208.0, 208.0, 208.0, 208.0], 'threshold': [1737.5, 1616.5, 1364.5, 1300.0], 'leq_threshold': [True, True, True, True]}, 'estimator_weight': 0.000503548028069302, 'pred_class': 1, 'pred_value': 0.000503548028069302, 'agree_sign_delta': False, 'forest_pred_class': 0, 'forest_pred_probas': 0.0017966714957745199, 'forest_pred_lodds': -6.320021207471971, 'prior_probas': 0.11253350149771402, 'prior_lodds': -2.0651198040663528, 'delta_lodds': -4.2549014034056185}, {'path': {'feature_idx': [54, 54, 54, 54], 'feature_name': ['duration', 'duration', 'duration', 'duration'], 'feature_value': [493.0, 493.0, 493.0, 493.0], 'threshold': [1737.5, 1616.5, 1364.5, 1300.0], 'leq_threshold': [True, True, True, True]}, 'estimator_weight': 0.000503548028069302, 'pred_class': 1, 'pred_value': 0.000503548028069302, 'agree_sign_delta': False, 'forest_pred_class': 0, 'forest_pred_probas': 0.0360068634296786, 'forest_pred_lodds': -3.287374603735913, 'prior_probas': 0.11253350149771402, 'prior_lodds': -2.0651198040663528, 'delta_lodds': -1.2222547996695603}, {'path': {'feature_idx': [54, 54, 54, 54], 'feature_name': ['duration', 'duration', 'duration', 'duration'], 'feature_value': [226.0, 226.0, 226.0, 226.0], 'threshold': [1737.5, 1616.5, 1364.5, 1300.0], 'leq_threshold': [True, True, True, True]}, 'estimator_weight': 0.000503548028069302, 'pred_class': 1, 'pred_value': 0.000503548028069302, 'agree_sign_delta': False, 'forest_pred_class': 0, 'forest_pred_probas': 0.0031512266238322094, 'forest_pred_lodds': -5.756807295357666, 'prior_probas': 0.11253350149771402, 'prior_lodds': -2.0651198040663528, 'delta_lodds': -3.691687491291313}]"
   ]
  },
  {
   "cell_type": "code",
   "execution_count": null,
   "metadata": {},
   "outputs": [],
   "source": [
    "a"
   ]
  },
  {
   "cell_type": "code",
   "execution_count": null,
   "metadata": {},
   "outputs": [],
   "source": [
    "paths_info, paths_weights, pred_class = [i for i in map(list, zip(*[itemgetter('path', 'estimator_weight', 'pred_class')(a[target_class_slice][batch_idx][pd]) for pd in a])]"
   ]
  },
  {
   "cell_type": "code",
   "execution_count": null,
   "metadata": {},
   "outputs": [],
   "source": [
    "from operator import itemgetter\n",
    "paths_info, paths_weights, pred_class = [i for i in map(list, zip(*[itemgetter('path', 'estimator_weight', 'pred_class')(a[pd]) for pd in range(len(a))]))]"
   ]
  },
  {
   "cell_type": "code",
   "execution_count": null,
   "metadata": {},
   "outputs": [],
   "source": [
    "len(paths_info)"
   ]
  },
  {
   "cell_type": "code",
   "execution_count": null,
   "metadata": {},
   "outputs": [],
   "source": []
  }
 ],
 "metadata": {
  "kernelspec": {
   "display_name": "Python 3",
   "language": "python",
   "name": "python3"
  },
  "language_info": {
   "codemirror_mode": {
    "name": "ipython",
    "version": 3
   },
   "file_extension": ".py",
   "mimetype": "text/x-python",
   "name": "python",
   "nbconvert_exporter": "python",
   "pygments_lexer": "ipython3",
   "version": "3.7.4"
  }
 },
 "nbformat": 4,
 "nbformat_minor": 2
}
