{
 "cells": [
  {
   "cell_type": "markdown",
   "metadata": {},
   "source": [
    "# prologue"
   ]
  },
  {
   "cell_type": "markdown",
   "metadata": {},
   "source": [
    "### set up notebook and load package"
   ]
  },
  {
   "cell_type": "code",
   "execution_count": 1,
   "metadata": {},
   "outputs": [
    {
     "name": "stderr",
     "output_type": "stream",
     "text": [
      "C:\\ProgramData\\Anaconda3\\envs\\B3\\lib\\site-packages\\dask\\config.py:168: YAMLLoadWarning: calling yaml.load() without Loader=... is deprecated, as the default Loader is unsafe. Please read https://msg.pyyaml.org/load for full details.\n",
      "  data = yaml.load(f.read()) or {}\n",
      "C:\\ProgramData\\Anaconda3\\envs\\B3\\lib\\site-packages\\distributed\\config.py:20: YAMLLoadWarning: calling yaml.load() without Loader=... is deprecated, as the default Loader is unsafe. Please read https://msg.pyyaml.org/load for full details.\n",
      "  defaults = yaml.load(f)\n"
     ]
    }
   ],
   "source": [
    "# for notebook plotting\n",
    "%matplotlib inline \n",
    "\n",
    "# load what we need\n",
    "import time\n",
    "import timeit\n",
    "import CHIRPS.structures as strcts\n",
    "import CHIRPS.datasets as ds\n",
    "import CHIRPS.datasets_proprietary as dsp\n",
    "import CHIRPS.routines as rt\n",
    "\n",
    "# demo datasets that ship with package. all from UCI unless stated otherwise\n",
    "# import CHIRPS.datasets as ds\n",
    "# ds.adult_data, ds.adult_samp_data, ds.adult_small_samp_data Large dataset ships with manageable sub samples\n",
    "# ds.bankmark_data, ds.bankmark_samp_data\n",
    "# ds.car_data\n",
    "# ds.cardio_data this is the cardiotocography dataset\n",
    "# ds.credit_data\n",
    "# ds.german_data\n",
    "# ds.lending_data, ds.lending_samp_data, ds.lending_small_samp_data, ds.lending_tiny_samp_data from Kaggle. see datasets_from_source file for links\n",
    "# ds.nursery_data, ds.nursery_samp_data\n",
    "# ds.rcdv_data, ds.rcdv_samp_data from US government see datasets_from_source file for links"
   ]
  },
  {
   "cell_type": "markdown",
   "metadata": {},
   "source": [
    "### common config - can be ommitted if defaults are OK"
   ]
  },
  {
   "cell_type": "code",
   "execution_count": 2,
   "metadata": {},
   "outputs": [],
   "source": [
    "project_dir = '/datadisk/whiteboxing/examples'\n",
    "# project_dir = 'V:\\\\whiteboxing\\\\examples' # defaults to a directory \"whiteboxing\" in the working directory\n",
    "# project_dir = 'C:\\\\Users\\\\Crutt\\\\Documents\\\\whiteboxing\\\\exampada'\n",
    "\n",
    "random_state_splits = 123 # one off for splitting the data into test / train\n",
    "random_state = 123 # for everything else - e.g. building a new rf with same data"
   ]
  },
  {
   "cell_type": "markdown",
   "metadata": {},
   "source": [
    "# Build a Random Forest Model to Predict and Explain\n",
    "First, a wrapper is created for the dataset. Use one that ships with the package, or create your own.\n",
    "Then split the data into training and (hold out) test set using the convenience functions in the package. These return an object that contain the split data in various representations, such as Pandas DataFrames and encoded, sparse matrices."
   ]
  },
  {
   "cell_type": "code",
   "execution_count": 3,
   "metadata": {},
   "outputs": [],
   "source": [
    "# load one of the included datasets\n",
    "# project_dir will default to directory name CHIRPS in the working directory if not given\n",
    "# random_state will default to 123\n",
    "#mydata = dsp.usoc2(random_state=random_state_splits, project_dir=project_dir)\n",
    "\n",
    "# class imbalance\n",
    "#import pandas_ml\n",
    "#meta_data['get_label'](meta_data['class_col'], 4)"
   ]
  },
  {
   "cell_type": "code",
   "execution_count": 4,
   "metadata": {
    "scrolled": false
   },
   "outputs": [
    {
     "name": "stderr",
     "output_type": "stream",
     "text": [
      "C:\\ProgramData\\Anaconda3\\envs\\B3\\lib\\site-packages\\sklearn\\preprocessing\\_encoders.py:371: FutureWarning: The handling of integer data will change in version 0.22. Currently, the categories are determined based on the range [0, max(values)], while in the future they will be determined based on the unique values.\n",
      "If you want the future behaviour and silence this warning, you can specify \"categories='auto'\".\n",
      "In case you used a LabelEncoder before this OneHotEncoder to convert the categories to integers, then you can now use the OneHotEncoder directly.\n",
      "  warnings.warn(msg, FutureWarning)\n"
     ]
    },
    {
     "name": "stdout",
     "output_type": "stream",
     "text": [
      "using previous tuning parameters\n",
      "Best OOB Accuracy Estimate during tuning: 0.8138\n",
      "Best parameters:{'algorithm': 'SAMME.R', 'base_estimator': DecisionTreeClassifier(class_weight=None, criterion='gini', max_depth=1,\n",
      "            max_features=None, max_leaf_nodes=None,\n",
      "            min_impurity_decrease=0.0, min_impurity_split=None,\n",
      "            min_samples_leaf=1, min_samples_split=2,\n",
      "            min_weight_fraction_leaf=0.0, presort=False, random_state=None,\n",
      "            splitter='best'), 'n_estimators': 200, 'random_state': 123}\n",
      "\n",
      "Confusion matrix, without normalization\n",
      "[[139  41]\n",
      " [ 35 163]]\n"
     ]
    },
    {
     "data": {
      "image/png": "[encoded data removed]",
      "text/plain": [
       "<Figure size 432x288 with 2 Axes>"
      ]
     },
     "metadata": {
      "needs_background": "light"
     },
     "output_type": "display_data"
    },
    {
     "name": "stdout",
     "output_type": "stream",
     "text": [
      "Normalized confusion matrix\n",
      "[[0.77 0.23]\n",
      " [0.18 0.82]]\n"
     ]
    },
    {
     "data": {
      "image/png": "[encoded data removed]",
      "text/plain": [
       "<Figure size 432x288 with 2 Axes>"
      ]
     },
     "metadata": {
      "needs_background": "light"
     },
     "output_type": "display_data"
    }
   ],
   "source": [
    "# load one of the included datasets\n",
    "# project_dir will default to directory name CHIRPS in the working directory if not given\n",
    "# random_state will default to 123\n",
    "#mydata = dsp.usoc2(random_state=random_state_splits, project_dir=project_dir)\n",
    "mydata = ds.mhtech14(random_state=random_state_splits, project_dir=project_dir)\n",
    "\n",
    "meta_data = mydata.get_meta()\n",
    "save_path = meta_data['get_save_path']()\n",
    "\n",
    "# split the data. here using a basic sampling method.\n",
    "# the returned object is a wrapper class that contains\n",
    "# the train and test splits for X and y\n",
    "\n",
    "# also the the encoded versions of X_train and X_test that the rf will use\n",
    "# this is because we prefer onehot encoded over allowing categorical vars to be represented as integer\n",
    "# scikit would treat these as ordinal, which is inappropriate\n",
    "\n",
    "# also some meta-data: priors for y, the indexes from the input data\n",
    "\n",
    "# also some convenience functions for leave-one-out testing\n",
    "\n",
    "# train test split - one off hard-coded random state.\n",
    "# random state can be ommitted \n",
    "# and will default to the state held in the dataset container\n",
    "# which defaults to 123 if ommitted in the constructor\n",
    "train_index, test_index = mydata.get_tt_split_idx(random_state=random_state_splits)\n",
    "# optionally, indexes can be ommitted and will default to scikit's train_test_split method\n",
    "tt = mydata.tt_split(train_index, test_index)\n",
    "\n",
    "# build model, tuned for high accuracy\n",
    "# model = 'RandomForest'\n",
    "# model = 'AdaBoost1'\n",
    "model = 'AdaBoost2'\n",
    "# model = 'GBM'\n",
    "\n",
    "# decide if to run the whole tuning routine again (long for Adaboost)\n",
    "# RF routine has a default tuning grid, so can leave as None, or come up with some other options\n",
    "tuning = {'grid' : None, 'override' : False}\n",
    "if model == 'RandomForest':\n",
    "    which_trees = 'majority'\n",
    "    tuning.update({'grid' : None}) # defaults to n_trees [200, 400, ..., 1600]\n",
    "\n",
    "elif model in ('AdaBoost1', 'AdaBoost2'):\n",
    "    if model == 'AdaBoost1':\n",
    "        # classic (and multi-class) AdaBoost\n",
    "        algo = 'SAMME'\n",
    "        which_trees = 'majority'\n",
    "    else:\n",
    "        algo = 'SAMME.R'\n",
    "        which_trees = 'conf_weighted'\n",
    "    max_depth = [i for i in range(1, 5)]\n",
    "    tuning.update({'grid' : {'base_estimator' : [rt.DecisionTreeClassifier(max_depth=d) for d in max_depth],\n",
    "                            'n_estimators': [(i + 1) * 200 for i in range(8)], 'algorithm': [algo]}})\n",
    "    \n",
    "else: # GBM - not fully implemented yet\n",
    "    stop # ValueError\n",
    "\n",
    "rf = rt.forest_prep(ds_container=tt,\n",
    "                    meta_data=meta_data,\n",
    "                    # override_tuning=True,\n",
    "                    model=model,\n",
    "                    tuning_grid=tuning['grid'],\n",
    "                    save_path=save_path,\n",
    "                    plot_cm=True, plot_cm_norm=True)"
   ]
  },
  {
   "cell_type": "markdown",
   "metadata": {},
   "source": [
    "# Preparing unseen data\n",
    "\n",
    "Again note:\n",
    "test set has never been \"seen\" by random forest during training\n",
    "test set has been only used to assess model (random forest) accuracy - no additional tuning after this\n",
    "test set has not be involved in generating the explainer"
   ]
  },
  {
   "cell_type": "markdown",
   "metadata": {},
   "source": [
    "## optional: memory and computation cost management\n",
    "#### CHIRPS is time economical but memory intensive to compute for lots of instances at once\n",
    "option 1: choose a smaller number of instances to explain"
   ]
  },
  {
   "cell_type": "code",
   "execution_count": 5,
   "metadata": {},
   "outputs": [],
   "source": [
    "# control for async processes - each tree walk can be done in its own core\n",
    "# and so can each explanation (e.g. rule conditions merge by hill-climbing)\n",
    "# these will default to false if not passed explicitly to the explainer function\n",
    "# on a multi-core machine there should be a good speed up for large batches\n",
    "# when the batch_size advantage exceeds the overhead of setting up multi-processing\n",
    "# timings will be printed to screen so you can see if it helps\n",
    "forest_walk_async=True\n",
    "chirps_explanation_async=True\n",
    "\n",
    "# how many instances to explain in total from a test/unseen set\n",
    "# doesn't matter if you don't know how large the dataset is\n",
    "# this function prevents you maxing out, or put n_instances = None for whole dataset\n",
    "n_instances = rt.n_instance_ceiling(ds_container=tt, n_instances=1)\n",
    "\n",
    "# this gets the next batch out of the data_split_container according to the required number of instances\n",
    "# all formats can be extracted, depending on the requirement\n",
    "# unencoded, encoded (sparse matrix is the type returned by scikit), ordinary dense matrix also available\n",
    "# tt.current_row_test = 0\n",
    "instances, _, instances_enc, instances_enc_matrix, labels = tt.get_next(n_instances, which_split='test') # default"
   ]
  },
  {
   "cell_type": "markdown",
   "metadata": {},
   "source": [
    "option 2: just run the whole test set"
   ]
  },
  {
   "cell_type": "code",
   "execution_count": 6,
   "metadata": {},
   "outputs": [],
   "source": [
    "# instances = tt.X_test; instances_enc = tt.X_test_enc; instances_enc_matrix = tt.X_test_enc_matrix; labels = tt.y_test"
   ]
  },
  {
   "cell_type": "markdown",
   "metadata": {},
   "source": [
    "## Make predictions from the decision forest on the unseen data\n",
    "Important point, no compromise on model accuracy"
   ]
  },
  {
   "cell_type": "code",
   "execution_count": 7,
   "metadata": {},
   "outputs": [],
   "source": [
    "# get all the model predictions for the test instance(s) we're looking at\n",
    "preds_idx = labels.index\n",
    "preds = rf.predict(X=instances_enc)"
   ]
  },
  {
   "cell_type": "markdown",
   "metadata": {},
   "source": [
    "# CHIRPS Step 1:\n",
    "## Extract Tree Prediction Paths\n",
    "### Fit a forest_walker object to the dataset and decision forest\n",
    "This is a wrapper will extracts the paths of all the given instances. For CHIRPS, we want a large sample. The whole training set or other representative sample will do.\n",
    "\n",
    "It can also report interesting statistics (treating the forest as a set of random tree-structured variables)."
   ]
  },
  {
   "cell_type": "code",
   "execution_count": 8,
   "metadata": {},
   "outputs": [],
   "source": [
    "# wrapper object needs the decision forest itself and the dataset meta data (we have a convenience function for this)\n",
    "f_walker = strcts.forest_walker(forest = rf, meta_data=meta_data)"
   ]
  },
  {
   "cell_type": "markdown",
   "metadata": {},
   "source": [
    "Now the work of extracting all the paths for each instance is done"
   ]
  },
  {
   "cell_type": "code",
   "execution_count": 9,
   "metadata": {
    "scrolled": false
   },
   "outputs": [
    {
     "name": "stdout",
     "output_type": "stream",
     "text": [
      "Walking forest for 1 instances... (please wait)\n",
      "Forest Walk with async = True\n",
      "Forest Walk time elapsed: 0.7198 seconds\n"
     ]
    }
   ],
   "source": [
    "print('Walking forest for ' + str(len(labels)) + ' instances... (please wait)')\n",
    "\n",
    "# set the timer\n",
    "forest_walk_start_time = timeit.default_timer()\n",
    "\n",
    "# do the walk - creates a paths_container (even for just one instance) as a new property\n",
    "# requires the X instances in a matrix (dense, ordinary numpy matrix) - this is available in the data_split_container\n",
    "f_walker.forest_walk(instances = instances_enc_matrix\n",
    "                    , labels = preds # we're explaining the prediction, not the true label!\n",
    "                    , forest_walk_async = forest_walk_async)\n",
    "\n",
    "# stop the timer\n",
    "forest_walk_end_time = timeit.default_timer()\n",
    "forest_walk_elapsed_time = forest_walk_end_time - forest_walk_start_time\n",
    "\n",
    "print('Forest Walk with async = ' + str(forest_walk_async))\n",
    "print('Forest Walk time elapsed:', \"{:0.4f}\".format(forest_walk_elapsed_time), 'seconds')"
   ]
  },
  {
   "cell_type": "markdown",
   "metadata": {},
   "source": [
    "# CHIRPS Steps 2-4: \n",
    "## Freqent pattern mining of paths.\n",
    "## Score and sort mined path segments.\n",
    "## Merge path segments into one rule.\n",
    "\n",
    "This is a wrapper object that will execute steps 2-4 on all the instance-paths in the batch_paths_container.\n",
    "\n",
    "Note that true_divide warnings are OK. It just means that a continuous variable is unbounded in some way i.e. no greater/less than discontinuity is used in the CHIRPS explanation.\n",
    "\n",
    "Note also, here we are using the training set to create the explainers. We could use a different dataset as long as it is representative of the training set that built the decision forest. Most important that we don't use the dataset that we wish to explain."
   ]
  },
  {
   "cell_type": "code",
   "execution_count": 10,
   "metadata": {
    "scrolled": false
   },
   "outputs": [
    {
     "name": "stdout",
     "output_type": "stream",
     "text": [
      "Running CHIRPS on a batch of 1 instances... (please wait)\n",
      "Working on CHIRPS for instance 0 of 1\n",
      "[[0.2064965197215763, 0.7935034802784237], [0.3152602335830355, 0.6847397664169644], [0.6082772257774582, 0.39172277422254176], [0.4358585444069457, 0.5641414555930542], [0.6030372045048895, 0.39696279549511043], [0.5635950302258742, 0.43640496977412585], [0.4167953332784721, 0.583204666721528], [0.5508498813970915, 0.4491501186029085], [0.5461091372248794, 0.45389086277512064], [0.44199531141489035, 0.5580046885851098], [0.4056992939980243, 0.5943007060019757], [0.5074924124625045, 0.4925075875374956], [0.44899456297535, 0.55100543702465], [0.530106673258065, 0.469893326741935], [0.4741525724000168, 0.5258474275999832], [0.3891746136037189, 0.6108253863962811], [0.4783882138724184, 0.5216117861275816], [0.5257319244009827, 0.47426807559901724], [0.5161961301443531, 0.4838038698556469], [0.5224516749268898, 0.47754832507311024], [0.4821681685885949, 0.5178318314114051], [0.4827558059666144, 0.5172441940333856], [0.4839932893153056, 0.5160067106846944], [0.512100969931106, 0.48789903006889396], [0.503654532903823, 0.49634546709617705], [0.5083549539631278, 0.4916450460368723], [0.5262087452333427, 0.47379125476665734], [0.4286625166173469, 0.571337483382653], [0.4938314846819179, 0.506168515318082], [0.48831008616956756, 0.5116899138304324], [0.4782105433734458, 0.5217894566265542], [0.47751584278525244, 0.5224841572147476], [0.5204575122810283, 0.4795424877189718], [0.48707379128229156, 0.5129262087177083], [0.48408472860940904, 0.5159152713905909], [0.4785943956432761, 0.521405604356724], [0.5113687118836363, 0.48863128811636375], [0.5284342716852067, 0.4715657283147933], [0.4949567966225263, 0.5050432033774738], [0.4813192887629866, 0.5186807112370134], [0.5192052796654478, 0.4807947203345521], [0.48079472033455173, 0.5192052796654482], [0.5030299374970083, 0.4969700625029917], [0.49826617184374095, 0.501733828156259], [0.5030682488672562, 0.4969317511327438], [0.507223465379087, 0.492776534620913], [0.4935105331296796, 0.5064894668703204], [0.4932010474906286, 0.5067989525093715], [0.5152787793808682, 0.48472122061913187], [0.49079983246092695, 0.5092001675390732], [0.5053312907139039, 0.494668709286096], [0.5071367778147831, 0.49286322218521694], [0.4923546967478159, 0.5076453032521842], [0.5174798999458572, 0.4825201000541428], [0.5102416678287254, 0.48975833217127474], [0.4903993331965912, 0.5096006668034088], [0.4923058306008116, 0.5076941693991884], [0.4994818122430132, 0.5005181877569869], [0.5108006142434905, 0.4891993857565094], [0.516094859405774, 0.48390514059422585], [0.51426686477925, 0.48573313522074996], [0.49071761109498113, 0.5092823889050188], [0.5165149340697535, 0.4834850659302465], [0.5040289663842363, 0.4959710336157636], [0.5089403423027079, 0.49105965769729204], [0.4924632223707111, 0.5075367776292888], [0.4569873193012618, 0.5430126806987381], [0.5099683323167004, 0.49003166768329964], [0.4965134262078446, 0.5034865737921553], [0.4630376081614963, 0.5369623918385036], [0.5072650622494753, 0.49273493775052474], [0.5017861337111768, 0.49821386628882325], [0.49749304404020517, 0.5025069559597949], [0.5025069559597947, 0.4974930440402054], [0.49815637658693657, 0.5018436234130634], [0.501250208635699, 0.4987497913643009], [0.4993999324042213, 0.5006000675957787], [0.5003552174599685, 0.49964478254003164], [0.5091872578852374, 0.49081274211476245], [0.481533966336493, 0.5184660336635071], [0.5121838783917888, 0.4878161216082112], [0.4878161216082111, 0.5121838783917889], [0.49964215469851264, 0.5003578453014874], [0.5004956137702686, 0.49950438622973137], [0.4987623261027185, 0.5012376738972816], [0.49571932294443405, 0.504280677055566], [0.5033085313752748, 0.49669146862472535], [0.4985848574245748, 0.5014151425754252], [0.5017210356028468, 0.49827896439715325], [0.4972043731381661, 0.5027956268618339], [0.49386681877579525, 0.5061331812242047], [0.504080568454224, 0.49591943154577595], [0.4958912661638009, 0.5041087338361991], [0.46373816322220435, 0.5362618367777957], [0.5088708892545714, 0.49112911074542853], [0.49478175757501325, 0.5052182424249868], [0.49723147814373136, 0.5027685218562686], [0.4923686952909975, 0.5076313047090024], [0.5052311395455885, 0.4947688604544115], [0.5090380586456388, 0.4909619413543612], [0.492802775154866, 0.5071972248451341], [0.5027504223977881, 0.4972495776022119], [0.4987386265990623, 0.5012613734009377], [0.5014217585254749, 0.49857824147452506], [0.4931660497509642, 0.5068339502490359], [0.4929815566970096, 0.5070184433029905], [0.4901781727170988, 0.5098218272829013], [0.4919228651981334, 0.5080771348018667], [0.47372290146170254, 0.5262770985382974], [0.4834026254121269, 0.5165973745878731], [0.49065992934771624, 0.5093400706522838], [0.4927166911627843, 0.5072833088372157], [0.5067915792990689, 0.493208420700931], [0.49110430477093153, 0.5088956952290683], [0.5045008912932367, 0.4954991087067633], [0.5036120871300016, 0.4963879128699983], [0.49509356385996656, 0.5049064361400335], [0.5049064361400337, 0.4950935638599663], [0.49624695474256364, 0.5037530452574364], [0.5037530452574361, 0.49624695474256386], [0.4953988701262143, 0.5046011298737858], [0.49907081204265774, 0.5009291879573423], [0.5012277761570416, 0.4987722238429584], [0.4990185548378243, 0.5009814451621757], [0.5094154899089866, 0.4905845100910135], [0.4921846057089237, 0.5078153942910764], [0.5069713996200107, 0.4930286003799892], [0.5013546337773519, 0.4986453662226481], [0.5053634596900785, 0.49463654030992144], [0.4947898251876014, 0.5052101748123986], [0.5037368913271177, 0.49626310867288237], [0.49140980391569433, 0.5085901960843057], [0.5079949641616176, 0.49200503583838245], [0.4926919395199325, 0.5073080604800676], [0.5064982272993823, 0.4935017727006177], [0.49561284530419897, 0.504387154695801], [0.490846260942091, 0.509153739057909], [0.5003720517586951, 0.49962794824130485], [0.49442256164214965, 0.5055774383578503], [0.5076332518419677, 0.4923667481580322], [0.49381660709881664, 0.5061833929011833], [0.5052477888941861, 0.49475221110581385], [0.4921489837209203, 0.5078510162790796], [0.5106243862899722, 0.4893756137100278], [0.5055814238957868, 0.4944185761042132], [0.4938489352514286, 0.5061510647485714], [0.5077558796242654, 0.49224412037573456], [0.49400543707993766, 0.5059945629200623], [0.49709031880631044, 0.5029096811936895], [0.5019810135312872, 0.49801898646871284], [0.49794037678226144, 0.5020596232177386], [0.5020596232177387, 0.49794037678226144], [0.4891738517477028, 0.5108261482522971], [0.5071112171009214, 0.49288878289907856], [0.5123950865517352, 0.4876049134482648], [0.4982402923555116, 0.5017597076444884], [0.5010122471572072, 0.49898775284279273], [0.4991111987990888, 0.5008888012009113], [0.5008888012009111, 0.49911119879908894], [0.5007679449249736, 0.4992320550750264], [0.493288984345143, 0.5067110156548569], [0.5061368139591174, 0.4938631860408827], [0.5056463880891576, 0.4943536119108424], [0.49635824482620294, 0.5036417551737971], [0.4938209384620191, 0.5061790615379809], [0.4970444815500579, 0.5029555184499421], [0.4808353542813906, 0.5191646457186093], [0.49920859200674217, 0.5007914079932578], [0.5080436044808666, 0.4919563955191333], [0.5031934169307558, 0.49680658306924425], [0.49431605127283396, 0.5056839487271662], [0.5067664230913382, 0.49323357690866176], [0.4943717578399799, 0.5056282421600202], [0.5034509420706197, 0.49654905792938026], [0.4975778802358296, 0.5024221197641704], [0.501682130013203, 0.49831786998679695], [0.4984446184174485, 0.5015553815825515], [0.507173704836527, 0.49282629516347304], [0.4922697504097206, 0.5077302495902793], [0.5071674330935807, 0.4928325669064193], [0.4928325669064193, 0.5071674330935807], [0.5077302495902796, 0.49226975040972043], [0.506260628203738, 0.4937393717962621], [0.4922415395033342, 0.5077584604966658], [0.5062369158718502, 0.49376308412814984], [0.49376308412815, 0.50623691587185], [0.49316182197713576, 0.5068381780228642], [0.5055795780988979, 0.4944204219011022], [0.4954577436480061, 0.5045422563519939], [0.5046475190071809, 0.4953524809928191], [0.495352480992819, 0.504647519007181], [0.5017747514487825, 0.4982252485512175], [0.5164858285801599, 0.48351417141984004], [0.49906904746428377, 0.5009309525357163], [0.5021996777673013, 0.49780032223269854], [0.49721241998573246, 0.5027875800142676], [0.5041733364269277, 0.4958266635730722], [0.49468902036038537, 0.5053109796396146], [0.5055701848800944, 0.49442981511990564], [0.5045746407192164, 0.4954253592807836]]\n",
      "[ 99.22073298 100.77926702]\n",
      "{'labels': [0, 1], 'counts': array([ 99.22073298, 100.77926702]), 'p_counts': array([0.49610366, 0.50389634])}\n"
     ]
    },
    {
     "name": "stderr",
     "output_type": "stream",
     "text": [
      "C:\\Users\\id126493\\Documents\\GitHub\\explain_te\\CHIRPS\\structures.py:1339: RuntimeWarning: invalid value encountered in true_divide\n",
      "  np.histogram(uppers, upper_bins)[0]).round(5) # can result in nans if no value falls into bin\n",
      "C:\\Users\\id126493\\Documents\\GitHub\\explain_te\\CHIRPS\\structures.py:1344: RuntimeWarning: invalid value encountered in true_divide\n",
      "  np.histogram(lowers, lower_bins)[0]).round(5) # can result in nans\n"
     ]
    },
    {
     "name": "stdout",
     "output_type": "stream",
     "text": [
      "CHIRPS time elapsed: 0.9347 seconds\n",
      "CHIRPS with async = False\n"
     ]
    }
   ],
   "source": [
    "chirps_explanation_async=False\n",
    "# get what the model predicts on the training sample\n",
    "sample_labels = rf.predict(tt.X_train_enc)\n",
    "\n",
    "# build CHIRPS and a rule for each instance represented in the path detail\n",
    "CHIRPS = strcts.CHIRPS_container(f_walker.path_detail,\n",
    "                                forest=rf,\n",
    "                                sample_instances=tt.X_train_enc, # any representative sample can be used\n",
    "                                # sample_labels=tt.y_train,  # any representative sample can be used\n",
    "                                sample_labels=sample_labels,\n",
    "                                meta_data=meta_data)\n",
    "\n",
    "print('Running CHIRPS on a batch of ' + str(len(labels)) + ' instances... (please wait)')\n",
    "# start a timer\n",
    "ce_start_time = timeit.default_timer()\n",
    "\n",
    "CHIRPS.batch_run_CHIRPS(target_classes=preds, # we're explaining the prediction, not the true label!\n",
    "                        chirps_explanation_async=chirps_explanation_async,\n",
    "                        random_state=random_state,\n",
    "                        which_trees=which_trees,\n",
    "                        alpha_paths=0.0,\n",
    "                        support_paths=0.01,\n",
    "                        score_func=1,\n",
    "                        disc_path_bins=4,\n",
    "                        merging_bootstraps=20,\n",
    "                        pruning_bootstraps=20,\n",
    "                        delta=0.02,\n",
    "                        weighting='chisq')\n",
    "\n",
    "ce_end_time = timeit.default_timer()\n",
    "ce_elapsed_time = ce_end_time - ce_start_time\n",
    "print('CHIRPS time elapsed:', \"{:0.4f}\".format(ce_elapsed_time), 'seconds')\n",
    "print('CHIRPS with async = ' + str(chirps_explanation_async))"
   ]
  },
  {
   "cell_type": "markdown",
   "metadata": {},
   "source": [
    "# Viewing and Evaluating CHIRPS explanations\n",
    "Evaluation is done using unseen data to see how well the explanations generalise. The data_split_container object (tt) has a  leave-one-out function that is used during the routine to ensure that the datum we are explaining is excluded from the evaluation."
   ]
  },
  {
   "cell_type": "code",
   "execution_count": 11,
   "metadata": {
    "scrolled": false
   },
   "outputs": [
    {
     "name": "stdout",
     "output_type": "stream",
     "text": [
      "evaluating found explanations\n",
      "\n",
      "INSTANCE RESULTS\n",
      "['instance id: 871 with true class label: 1 (Yes)']\n",
      "\n",
      "Model Results for Instance\n",
      "['target (predicted) class: 1 (Yes)']\n",
      "target class prior (training data): 0.5493757094211124\n",
      "forest vote share (unseen instance): 0.525\n",
      "forest vote margin (unseen instance): 0.050000000000000044\n",
      "confidence weighted forest vote share (unseen instance): 0.5038963350872726\n",
      "confidence weighted forest vote margin (unseen instance): 0.007792670174545269\n",
      "\n",
      "rule: age > 28.35714 AND region_APAC False AND work_interfere <= 1.5\n",
      "rule cardinality: 3\n",
      "Fraction of total points of rule: 0.10769888368677144\n",
      "Fraction of total weight of rule: 0.37323289843009905\n",
      "\n",
      "Estimated Results - Rule Training Sample. Algorithm: greedy_stab\n",
      "rule coverage (training data): 0.31214528944381387\n",
      "rule xcoverage (training data): 0.31179138321995464\n",
      "rule precision (training data): 0.9490909090909091\n",
      "rule stability (training data): 0.9424460431654677\n",
      "rule recall (training data): 0.5392561983471075\n",
      "rule f1 score (training data): 0.6877470355731226\n",
      "rule NPV (training data): 0.964735516372796\n",
      "rule lift (training data): 5.534540564169114\n",
      "prior (training data): [0.45062429 0.54937571]\n",
      "prior counts (training data): [397. 484.]\n",
      "rule posterior (training data): [0.05090909 0.94909091]\n",
      "rule posterior counts (training data): [ 14. 261.]\n",
      "rule chisq p-value (training data): 2.903617022885246e-33\n",
      "rule Kullback-Leibler divergence (training data): 0.40787682500825856\n",
      "\n",
      "Results - Previously Unseen Sample\n",
      "target class prior (unseen data): 0.46153846153846156\n",
      "rule coverage (unseen data): 0.2864721485411141\n",
      "rule xcoverage (unseen data): 0.2868421052631579\n",
      "rule precision (unseen data): 0.9259259259259259\n",
      "rule stability (unseen data): 0.9099099099099099\n",
      "rule recall (unseen data): 0.49261083743842365\n",
      "rule f1 score (unseen data): 0.6430868167202572\n",
      "rule NPV (unseen data): 0.9540229885057471\n",
      "rule lift (unseen data): 6.002596511855772\n",
      "prior (unseen data): [0.53846154 0.46153846]\n",
      "prior counts (unseen data): [174. 203.]\n",
      "rule posterior (unseen data): [0.07407407 0.92592593]\n",
      "rule posterior counts (unseen data): [  8. 100.]\n",
      "rule chisq p-value (unseen data): 5.222048326636159e-13\n",
      "rule Kullback-Leibler divergence (unseen data): 0.3664055796329283\n",
      "Evaluation Time: 0.9305588400000007\n",
      "\n",
      "COUNTER FACTUAL RESULTS\n",
      "Feature Reversed: age\n",
      "rule: age <= 28.35714 AND region_APAC False AND work_interfere <= 1.5\n",
      "rule coverage (training data): 0.15209988649262202\n",
      "rule xcoverage (training data): 0.15271493212669685\n",
      "rule precision (training data): 0.8059701492537313\n",
      "rule stability (training data): 0.7956204379562044\n",
      "rule recall (training data): 0.2460136674259681\n",
      "rule f1 score (training data): 0.37696335078534027\n",
      "rule NPV (training data): 0.9411764705882353\n",
      "rule lift (training data): 10.634117516318046\n",
      "prior (training data): [0.50170261 0.49829739]\n",
      "prior counts (training data): [442. 439.]\n",
      "rule posterior (training data): [0.19402985 0.80597015]\n",
      "rule posterior counts (training data): [ 26. 108.]\n",
      "rule chisq p-value (training data): 5.2562001885376416e-11\n",
      "rule Kullback-Leibler divergence from original: 0.00011308927996937345\n",
      "predictions for this rule complement\n",
      "['instance specific. expected class: 1 (Yes)']\n",
      "classes: [0, 1]\n",
      "counts: [ 17. 360.]\n",
      "proba: [0.04509284 0.95490716]\n",
      "['allowed values. expected class: 1 (Yes)']\n",
      "classes: [0, 1]\n",
      "counts: [ 17. 360.]\n",
      "proba: [0.04509284 0.95490716]\n",
      "\n",
      "Feature Reversed: region\n",
      "rule: age > 28.35714 AND region_APAC True AND work_interfere <= 1.5\n",
      "rule coverage (training data): 0.011350737797956867\n",
      "rule xcoverage (training data): 0.012443438914027148\n",
      "rule precision (training data): 0.5\n",
      "rule stability (training data): 0.46153846153846156\n",
      "rule recall (training data): 0.011389521640091117\n",
      "rule f1 score (training data): 0.022271714922049\n",
      "rule NPV (training data): 0.9886877828054299\n",
      "rule lift (training data): 88.40102505694762\n",
      "prior (training data): [0.50170261 0.49829739]\n",
      "prior counts (training data): [442. 439.]\n",
      "rule posterior (training data): [0.5 0.5]\n",
      "rule posterior counts (training data): [5. 5.]\n",
      "rule chisq p-value (training data): 0.7586062861431122\n",
      "rule Kullback-Leibler divergence from original: 0.19274470895236337\n",
      "predictions for this rule complement\n",
      "['instance specific. expected class: 1 (Yes)']\n",
      "classes: [0, 1]\n",
      "counts: [  0. 377.]\n",
      "proba: [0. 1.]\n",
      "['allowed values. expected class: 1 (Yes)']\n",
      "classes: [0, 1]\n",
      "counts: [  0. 377.]\n",
      "proba: [0. 1.]\n",
      "\n",
      "Feature Reversed: work_interfere\n",
      "rule: age > 28.35714 AND region_APAC False AND work_interfere > 1.5\n",
      "rule coverage (training data): 0.32349602724177073\n",
      "rule xcoverage (training data): 0.3235294117647059\n",
      "rule precision (training data): 0.23508771929824562\n",
      "rule stability (training data): 0.2361111111111111\n",
      "rule recall (training data): 0.15261958997722094\n",
      "rule f1 score (training data): 0.1850828729281768\n",
      "rule NPV (training data): 0.5067873303167421\n",
      "rule lift (training data): 1.458385639597535\n",
      "prior (training data): [0.50170261 0.49829739]\n",
      "prior counts (training data): [442. 439.]\n",
      "rule posterior (training data): [0.76491228 0.23508772]\n",
      "rule posterior counts (training data): [218.  67.]\n",
      "rule chisq p-value (training data): 1.1236007805679913e-14\n",
      "rule Kullback-Leibler divergence from original: 0.7114334432187341\n",
      "predictions for this rule complement\n",
      "['instance specific. expected class: 0 (No)']\n",
      "classes: [0, 1]\n",
      "counts: [248. 129.]\n",
      "proba: [0.65782493 0.34217507]\n",
      "['allowed values. expected class: 0 (No)']\n",
      "classes: [0, 1]\n",
      "counts: [218. 159.]\n",
      "proba: [0.57824934 0.42175066]\n",
      "\n",
      "CHIRPS batch results eval time elapsed: 0.1958 seconds\n"
     ]
    }
   ],
   "source": [
    "# iterate over all the test instances to determine the various scores using leave-one-out testing\n",
    "print('evaluating found explanations')\n",
    "print()\n",
    "results_start_time = timeit.default_timer()\n",
    "\n",
    "save_results_file = model + '_CHIRPS_rnst_' + str(random_state)\n",
    "\n",
    "rt.evaluate_CHIRPS_explainers(CHIRPS, tt, labels.index, # for full batch runs: tt.y_test.index,\n",
    "                              forest=rf,\n",
    "                              meta_data=meta_data,\n",
    "                              model=model,\n",
    "                              eval_start_time=results_start_time,\n",
    "                              print_to_screen=True, # set True when running single instances\n",
    "                              eval_alt_labelings=True,\n",
    "                              eval_rule_complements=True,\n",
    "                              save_results_path=save_path,\n",
    "                              dataset_name='test',\n",
    "                              save_results_file=save_results_file,\n",
    "                              save_CHIRPS=False)\n",
    "\n",
    "results_end_time = timeit.default_timer()\n",
    "results_elapsed_time = results_end_time - results_start_time\n",
    "print('CHIRPS batch results eval time elapsed:', \"{:0.4f}\".format(results_elapsed_time), 'seconds')\n",
    "# this completes the CHIRPS runs"
   ]
  },
  {
   "cell_type": "code",
   "execution_count": null,
   "metadata": {},
   "outputs": [],
   "source": []
  }
 ],
 "metadata": {
  "kernelspec": {
   "display_name": "Python 3",
   "language": "python",
   "name": "python3"
  },
  "language_info": {
   "codemirror_mode": {
    "name": "ipython",
    "version": 3
   },
   "file_extension": ".py",
   "mimetype": "text/x-python",
   "name": "python",
   "nbconvert_exporter": "python",
   "pygments_lexer": "ipython3",
   "version": "3.7.3"
  }
 },
 "nbformat": 4,
 "nbformat_minor": 2
}
