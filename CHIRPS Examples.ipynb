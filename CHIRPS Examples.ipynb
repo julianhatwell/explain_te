{
 "cells": [
  {
   "cell_type": "code",
   "execution_count": 1,
   "metadata": {},
   "outputs": [],
   "source": [
    "# prologue\n",
    "\n",
    "# for notebook plotting\n",
    "%matplotlib inline \n",
    "\n",
    "# load what we need\n",
    "import time\n",
    "import timeit\n",
    "import CHIRPS.structures as strcts\n",
    "import CHIRPS.datasets as ds\n",
    "import CHIRPS.routines as rt\n",
    "\n",
    "# common config - can be ommitted\n",
    "project_dir = 'V:\\\\whiteboxing'\n",
    "random_state_splits = 123 # for splitting the data into test / train\n",
    "random_state = 123 # for everything else - you might want to build a new rf with same data\n",
    "n_instances = 10000 # how many instances to explain in total from the test set, high setting will complete the test set\n",
    "\n",
    "# control for memory intensive process - how many instances to explain at a time from the test set\n",
    "batch_size = 5 # make this smaller for a less powerful machine, high setting will complete the test set in one run\n",
    "\n",
    "# control for async processes - each tree walk can be done in its own core\n",
    "# and so can each explanation (e.g. rule conditions merge by hill-climbing)\n",
    "# these will default to false if not passed explicitly to the explainer function\n",
    "# timings will be printed to screen so you can see if it helps\n",
    "forest_walk_async=True\n",
    "chirps_explanation_async=False"
   ]
  },
  {
   "cell_type": "code",
   "execution_count": 2,
   "metadata": {},
   "outputs": [
    {
     "name": "stdout",
     "output_type": "stream",
     "text": [
      "using previous tuning parameters\n"
     ]
    }
   ],
   "source": [
    "# load one of the included datasets\n",
    "# project_dir will default to directory name CHIRPS in the working directory if not given\n",
    "# random_state will default to 123\n",
    "mydata = ds.cardio_data(random_state=random_state, project_dir=project_dir)\n",
    "\n",
    "# split the data. here using a basic sampling method.\n",
    "# the returned object is a dictionary containing:\n",
    "# the train and test splits for X and y\n",
    "# also the the encoded version of X_train and the encoder function\n",
    "# also some meta-data: priors for y, the indexes from the input data\n",
    "\n",
    "# train test split - one off hard-coded random state.\n",
    "# random state can be ommitted \n",
    "# and will default to the state held in the dataset container\n",
    "# which defaults to 123 if ommitted in the constructor\n",
    "train_index, test_index = mydata.get_tt_split_idx(random_state=random_state_splits)\n",
    "# optionally, indexes can be ommitted and will default to scikit's train_test_split method\n",
    "tt = mydata.tt_split(train_index, test_index)\n",
    "\n",
    "# build a random forest, tuned for high accuracy\n",
    "\n",
    "################ PARAMETER TUNING ###################\n",
    "############ Only runs when required ################\n",
    "#####################################################\n",
    "\n",
    "best_params = rt.tune_rf(\n",
    " X=tt.X_train_enc,\n",
    " y=tt.y_train,\n",
    " save_path = mydata.make_save_path(), # override_tuning=False, # default\n",
    " random_state=mydata.random_state) \n",
    "\n",
    "#####################################################\n",
    "\n",
    "# train a rf model. there are two outputs. both are models for prediction\n",
    "# according to best practice, categorical variables are first onehot encoded\n",
    "# because if you leave the integer encoded values, scikit treats nominal as ordinal\n",
    "# so the first return value is the bare model output by scikit which simply predicts\n",
    "# and the second is a pipeline which first performs the above encoding, then predicts\n",
    "# piplines are for convenience, so it is easy to predict from the original dataset\n",
    "rf = rt.train_rf(\n",
    " X=tt.X_train_enc,\n",
    " y=tt.y_train,\n",
    " best_params=best_params,\n",
    " random_state=mydata.random_state)"
   ]
  },
  {
   "cell_type": "code",
   "execution_count": 3,
   "metadata": {},
   "outputs": [
    {
     "name": "stdout",
     "output_type": "stream",
     "text": [
      "Confusion matrix, without normalization\n",
      "[[483   3  10]\n",
      " [  6  48   3]\n",
      " [ 19   2  64]]\n"
     ]
    },
    {
     "data": {
      "image/png": "[encoded data removed]",
      "text/plain": [
       "<Figure size 432x288 with 2 Axes>"
      ]
     },
     "metadata": {},
     "output_type": "display_data"
    },
    {
     "name": "stdout",
     "output_type": "stream",
     "text": [
      "Normalized confusion matrix\n",
      "[[0.97 0.01 0.02]\n",
      " [0.11 0.84 0.05]\n",
      " [0.22 0.02 0.75]]\n"
     ]
    },
    {
     "data": {
      "image/png": "[encoded data removed]",
      "text/plain": [
       "<Figure size 432x288 with 2 Axes>"
      ]
     },
     "metadata": {},
     "output_type": "display_data"
    }
   ],
   "source": [
    "# evaluate the model and plot a confusion matrix\n",
    "# the outputs of this function are:\n",
    "# cm - confusion matrix as 2d array\n",
    "# acc - accuracy of model = correctly classified instance / total number instances\n",
    "# coka - Cohen's kappa score. Accuracy adjusted for probability of correct by random guess. Useful for multiclass problems\n",
    "# prfs - precision, recall, f-score, support with the following signatures as a 2d array\n",
    "# 0 <= p, r, f <= 1. s = number of instances for each true class label (row sums of cm)\n",
    "cm, acc, coka, prfs = rt.evaluate_model(prediction_model=rf, X=tt.X_test_enc, y=tt.y_test,\n",
    "             class_names=mydata.get_label(mydata.class_col, [i for i in range(len(mydata.class_names))]).tolist(),\n",
    "             plot_cm=True, plot_cm_norm=True)"
   ]
  },
  {
   "cell_type": "code",
   "execution_count": 4,
   "metadata": {},
   "outputs": [],
   "source": [
    "# optional step - to control how many instance CHIRPS processes in one go:\n",
    "# CHIRPS is time economical but memory intensive to compute for lots of instances at once\n",
    "# the number of instances can be controlled from the n_instances and batch_size settings at the top\n",
    "# the following will set things up to process the whole test set\n",
    "n_instances = min(n_instances, len(tt.y_test))\n",
    "batch_size = min(batch_size, len(tt.y_test))\n",
    "n_batches = int(batch_size / n_instances) \n",
    "n_instances, n_batches\n",
    "\n",
    "# this gets the next batch out of the batch_getter (whole test set with the current settings)\n",
    "# all formats can be extracted, depending on the requirement\n",
    "# unencoded, encoded (sparse matrix is the type returned by scikit), ordinary dense matrix also available\n",
    "instances, instances_enc, instances_enc_matrix, labels = tt.get_next(batch_size, which_split='train') # default\n",
    "\n",
    "# alternatively, just run this line for the whole test set\n",
    "# instances = tt.X_train; instances_enc = tt.X_train_enc; instances_enc_matrix = tt.X_train_enc_matrix; labels = tt.y_train"
   ]
  },
  {
   "cell_type": "code",
   "execution_count": 13,
   "metadata": {},
   "outputs": [],
   "source": [
    "# CHIRPS step 1 uses rf prediction to walk each tree and generate a path per tree per instance\n",
    "# to facilitate this we have a wrapper object for the rf and the data container that gets all the structure\n",
    "kwargs = mydata.get_meta()\n",
    "\n",
    "f_walker = strcts.forest_walker(forest = rf, **kwargs)"
   ]
  },
  {
   "cell_type": "code",
   "execution_count": 6,
   "metadata": {},
   "outputs": [
    {
     "name": "stdout",
     "output_type": "stream",
     "text": [
      "Walking forest for 5 instances... (please wait)\n",
      "Forest Walk time elapsed: 1.6089 seconds\n",
      "Forest Walk with async = True\n"
     ]
    }
   ],
   "source": [
    "# here the work of extracting all the paths for each instance is done\n",
    "print('Walking forest for ' + str(len(labels)) + ' instances... (please wait)')\n",
    "\n",
    "# set the timer\n",
    "forest_walk_start_time = timeit.default_timer()\n",
    "\n",
    "# do the walk - returns a batch_paths_container\n",
    "# requires the X instances in a matrix (dense, ordinary np) - this is available in the data_split_container\n",
    "bp_container = f_walker.forest_walk(instances = instances_enc_matrix\n",
    "                        , labels = labels\n",
    "                        , forest_walk_async = forest_walk_async)\n",
    "\n",
    "# stop the timer\n",
    "forest_walk_end_time = timeit.default_timer()\n",
    "forest_walk_elapsed_time = forest_walk_end_time - forest_walk_start_time\n",
    "\n",
    "print('Forest Walk time elapsed:', \"{:0.4f}\".format(forest_walk_elapsed_time), 'seconds')\n",
    "print('Forest Walk with async = ' + str(forest_walk_async))"
   ]
  },
  {
   "cell_type": "code",
   "execution_count": 7,
   "metadata": {},
   "outputs": [
    {
     "name": "stdout",
     "output_type": "stream",
     "text": [
      "Running CHIRPS on a batch of 5 instances... (please wait)\n"
     ]
    },
    {
     "name": "stderr",
     "output_type": "stream",
     "text": [
      "C:\\Users\\id126493\\Documents\\GitHub\\explain_te\\CHIRPS\\structures.py:354: RuntimeWarning: invalid value encountered in true_divide\n",
      "  np.histogram(uppers, upper_bins)[0]).round(5)\n",
      "C:\\Users\\id126493\\Documents\\GitHub\\explain_te\\CHIRPS\\structures.py:358: RuntimeWarning: invalid value encountered in true_divide\n",
      "  np.histogram(lowers, lower_bins)[0]).round(5)\n"
     ]
    },
    {
     "name": "stdout",
     "output_type": "stream",
     "text": [
      "CHIRPS time elapsed: 1.2412 seconds\n",
      "CHIRPS with async = False\n"
     ]
    },
    {
     "data": {
      "text/plain": [
       "[<CHIRPS.async_structures.CHIRPS_container at 0x1e82c32e470>,\n",
       " <CHIRPS.async_structures.CHIRPS_container at 0x1e82add5e80>,\n",
       " <CHIRPS.async_structures.CHIRPS_container at 0x1e82d1e23c8>,\n",
       " <CHIRPS.async_structures.CHIRPS_container at 0x1e82d2b2278>,\n",
       " <CHIRPS.async_structures.CHIRPS_container at 0x1e82d490b70>]"
      ]
     },
     "execution_count": 7,
     "metadata": {},
     "output_type": "execute_result"
    }
   ],
   "source": [
    "# build CHIRPS and a rule for each instance represented in the batch paths container\n",
    "CHIRPS = strcts.batch_CHIRPS_container(bp_container,\n",
    "                                data_container=mydata,\n",
    "                                forest=rf,\n",
    "                                sample_instances=tt.X_train_enc, # any representative sample can be used\n",
    "                                sample_labels=tt.y_train  # any representative sample can be used\n",
    "                                )\n",
    "print('Running CHIRPS on a batch of ' + str(len(labels)) + ' instances... (please wait)')\n",
    "# start a timer\n",
    "ce_start_time = timeit.default_timer()\n",
    "\n",
    "CHIRPS.build_CHIRPS(chirps_explanation_async=chirps_explanation_async) # all the defaults\n",
    "\n",
    "ce_end_time = timeit.default_timer()\n",
    "ce_elapsed_time = ce_end_time - ce_start_time\n",
    "print('CHIRPS time elapsed:', \"{:0.4f}\".format(ce_elapsed_time), 'seconds')\n",
    "print('CHIRPS with async = ' + str(chirps_explanation_async))\n",
    "\n",
    "CHIRPS.CHIRPS_containers"
   ]
  },
  {
   "cell_type": "code",
   "execution_count": 8,
   "metadata": {},
   "outputs": [],
   "source": [
    "# important point:\n",
    "# test set has never been \"seen\" by random forest during training\n",
    "# test set has been used to assess model (random forest) accuracy - no additional tuning after this\n",
    "\n",
    "# test set has been used to create an explainer *one instance at a time*\n",
    "# rest of test set was not \"seen\" during construction of each explainer\n",
    "\n",
    "# to score each explainer, we use test set, leaving out the individual instance being explained\n",
    "# the data_split_container has a convenience funtion for this\n",
    "\n",
    "# get all the model predictions\n",
    "pred_instances = tt.X_test_enc\n",
    "pred_indices = tt.y_test.index\n",
    "pred_labels = rf.predict(X=pred_instances)\n"
   ]
  },
  {
   "cell_type": "code",
   "execution_count": 9,
   "metadata": {},
   "outputs": [
    {
     "name": "stdout",
     "output_type": "stream",
     "text": [
      "evaluating found explanations\n"
     ]
    }
   ],
   "source": [
    "# iterate over all the test instances to determine the various scores using leave-one-out testing\n",
    "print('evaluating found explanations')\n",
    "results_start_time = timeit.default_timer()\n",
    "\n",
    "headers = ['instance_id', 'result_set',\n",
    "                'pretty rule', 'rule length',\n",
    "                'pred class', 'pred class label',\n",
    "                'target class', 'target class label',\n",
    "                'majority voting trees', 'majority vote share', 'pred prior',\n",
    "                'precision(tr)', 'recall(tr)', 'f1(tr)',\n",
    "                'accuracy(tr)', 'lift(tr)',\n",
    "                'total coverage(tr)',\n",
    "                'precision(tt)', 'recall(tt)', 'f1(tt)',\n",
    "                'accuracy(tt)', 'lift(tt)',\n",
    "                'total coverage(tt)', 'model_acc', 'model_ck']\n",
    "output = [[]] * len(CHIRPS.CHIRPS_containers)\n",
    "\n",
    "for i, c in enumerate(CHIRPS.CHIRPS_containers):\n",
    "    \n",
    "    # instance meta data\n",
    "    instance_id = pred_indices[i]\n",
    "    mc = c.major_class\n",
    "    mc_lab = c.major_class_label\n",
    "    tc = c.target_class\n",
    "    tc_lab = c.target_class_label\n",
    "    vt = c.model_votes['counts'][tc]\n",
    "    mvs = c.model_posterior[tc]\n",
    "    prior = c.posterior[0][tc]\n",
    "    rule = c.pruned_rule\n",
    "    pretty_rule = c.prettify_rule()\n",
    "    rule_len = len(rule)\n",
    "    # final metrics from rule merge step (usually based on training set)\n",
    "    tr_prec = list(reversed(c.posterior))[tc]\n",
    "    tr_recall = list(reversed(c.recall))[tc]\n",
    "    tr_f1 = list(reversed(c.f1))[tc]\n",
    "    tr_acc = list(reversed(c.accuracy))[tc]\n",
    "    tr_lift = list(reversed(c.lift))[tc]\n",
    "    tr_coverage = list(reversed(c.coverage))\n",
    "    \n",
    "#     # get test sample by leave-one-out on current instance\n",
    "    instances, enc_instances, labels = tt.get_loo_instances(instance_id)\n",
    "#     rt = strcts.rule_tester(data_container=mydata, rule=rule,\n",
    "#                         sample_instances=enc_instances,\n",
    "#                         sample_labels=labels)\n",
    "    # then evaluating rule metrics on test set\n",
    "#     eval_rule = rt.evaluate_rule()\n",
    "#     print(eval_rule)\n",
    "    # collect results\n",
    "#     tt_prec = eval_rule['post'][tc]\n",
    "#     tt_recall = eval_rule['recall'][tc]\n",
    "#     tt_f1 = eval_rule['f1'][tc]\n",
    "#     tt_acc = eval_rule['accuracy'][tc]\n",
    "#     tt_lift = eval_rule['lift'][tc]\n",
    "#     tt_coverage = eval_rule['coverage']"
   ]
  },
  {
   "cell_type": "code",
   "execution_count": 10,
   "metadata": {},
   "outputs": [
    {
     "data": {
      "text/plain": [
       "'ASTV <= 59.73205 AND Mean > 107.80275 AND DP <= 0.0014 AND Median <= 151.35294'"
      ]
     },
     "execution_count": 10,
     "metadata": {},
     "output_type": "execute_result"
    }
   ],
   "source": [
    "c.prettify_rule()"
   ]
  },
  {
   "cell_type": "code",
   "execution_count": 11,
   "metadata": {},
   "outputs": [
    {
     "ename": "NameError",
     "evalue": "name 'explainers' is not defined",
     "output_type": "error",
     "traceback": [
      "\u001b[1;31m---------------------------------------------------------------------------\u001b[0m",
      "\u001b[1;31mNameError\u001b[0m                                 Traceback (most recent call last)",
      "\u001b[1;32m<ipython-input-11-df6fc0aa4df4>\u001b[0m in \u001b[0;36m<module>\u001b[1;34m()\u001b[0m\n\u001b[0;32m      1\u001b[0m \u001b[1;33m\u001b[0m\u001b[0m\n\u001b[1;32m----> 2\u001b[1;33m \u001b[1;32mfor\u001b[0m \u001b[0mi\u001b[0m \u001b[1;32min\u001b[0m \u001b[0mrange\u001b[0m\u001b[1;33m(\u001b[0m\u001b[0mlen\u001b[0m\u001b[1;33m(\u001b[0m\u001b[0mexplainers\u001b[0m\u001b[1;33m)\u001b[0m\u001b[1;33m)\u001b[0m\u001b[1;33m:\u001b[0m\u001b[1;33m\u001b[0m\u001b[0m\n\u001b[0m\u001b[0;32m      3\u001b[0m     \u001b[1;32mfor\u001b[0m \u001b[0mj\u001b[0m\u001b[1;33m,\u001b[0m \u001b[0mrs\u001b[0m \u001b[1;32min\u001b[0m \u001b[0menumerate\u001b[0m\u001b[1;33m(\u001b[0m\u001b[0mresult_sets\u001b[0m\u001b[1;33m)\u001b[0m\u001b[1;33m:\u001b[0m\u001b[1;33m\u001b[0m\u001b[0m\n\u001b[0;32m      4\u001b[0m \u001b[1;33m\u001b[0m\u001b[0m\n\u001b[0;32m      5\u001b[0m \u001b[1;33m\u001b[0m\u001b[0m\n",
      "\u001b[1;31mNameError\u001b[0m: name 'explainers' is not defined"
     ]
    }
   ],
   "source": [
    "\n",
    "for i in range(len(explainers)):\n",
    "    for j, rs in enumerate(result_sets):\n",
    "        \n",
    "\n",
    "\n",
    "\n",
    "\n",
    "        output[j * len(explainers) + i] = [instance_id,\n",
    "                rs,\n",
    "                pretty_rule,\n",
    "                rule_len,\n",
    "                mc,\n",
    "                mc_lab,\n",
    "                tc,\n",
    "                tc_lab,\n",
    "                vt,\n",
    "                mvs,\n",
    "                prior,\n",
    "                tr_prec,\n",
    "                tr_recall,\n",
    "                tr_f1,\n",
    "                tr_acc,\n",
    "                tr_lift,\n",
    "                tr_coverage,\n",
    "                tt_prec,\n",
    "                tt_recall,\n",
    "                tt_f1,\n",
    "                tt_acc,\n",
    "                tt_lift,\n",
    "                tt_coverage,\n",
    "                acc,\n",
    "                coka]\n",
    "\n",
    "wbres_end_time = timeit.default_timer()\n",
    "wbres_elapsed_time = wbres_end_time - wbres_start_time\n",
    "print('CHIRPS batch results eval time elapsed:', \"{:0.4f}\".format(wbres_elapsed_time), 'seconds')\n",
    "# this completes the CHIRPS runs"
   ]
  }
 ],
 "metadata": {
  "kernelspec": {
   "display_name": "Python 3",
   "language": "python",
   "name": "python3"
  },
  "language_info": {
   "codemirror_mode": {
    "name": "ipython",
    "version": 3
   },
   "file_extension": ".py",
   "mimetype": "text/x-python",
   "name": "python",
   "nbconvert_exporter": "python",
   "pygments_lexer": "ipython3",
   "version": "3.6.5"
  }
 },
 "nbformat": 4,
 "nbformat_minor": 2
}
