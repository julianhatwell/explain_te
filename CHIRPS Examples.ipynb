{
 "cells": [
  {
   "cell_type": "markdown",
   "metadata": {},
   "source": [
    "# prologue"
   ]
  },
  {
   "cell_type": "markdown",
   "metadata": {},
   "source": [
    "### set up notebook and load package"
   ]
  },
  {
   "cell_type": "code",
   "execution_count": 1,
   "metadata": {},
   "outputs": [],
   "source": [
    "# for notebook plotting\n",
    "%matplotlib inline \n",
    "\n",
    "# load what we need\n",
    "import time\n",
    "import timeit\n",
    "import CHIRPS.structures as strcts\n",
    "import CHIRPS.datasets as ds\n",
    "import CHIRPS.routines as rt\n",
    "from pandas import Series\n",
    "\n",
    "# demo datasets that ship with package. all from UCI unless stated otherwise\n",
    "# ds.adult_data, ds.adult_samp_data, ds.adult_small_samp_data Large dataset ships with manageable sub samples\n",
    "# ds.bankmark_data, ds.bankmark_samp_data\n",
    "# ds.car_data\n",
    "# ds.cardio_data this is the cardiotocography dataset\n",
    "# ds.credit_data\n",
    "# ds.german_data\n",
    "# ds.lending_data, ds.lending_samp_data, ds.lending_small_samp_data, ds.lending_tiny_samp_data from Kaggle. see datasets_from_source file for links\n",
    "# ds.nursery_data, ds.nursery_samp_data\n",
    "# ds.rcdv_data, ds.rcdv_samp_data from US government see datasets_from_source file for links"
   ]
  },
  {
   "cell_type": "markdown",
   "metadata": {},
   "source": [
    "### common config - can be ommitted if defaults are OK"
   ]
  },
  {
   "cell_type": "code",
   "execution_count": 2,
   "metadata": {},
   "outputs": [],
   "source": [
    "project_dir = 'V:\\\\whiteboxing' # defaults to a directory \"whiteboxing\" in the working directory\n",
    "random_state_splits = 123 # one off for splitting the data into test / train\n",
    "random_state = 123 # for everything else - e.g. building a new rf with same data"
   ]
  },
  {
   "cell_type": "markdown",
   "metadata": {},
   "source": [
    "# Build a Random Forest Model to Predict and Explain\n",
    "First, a wrapper is created for the dataset. Use one that ships with the package, or create your own.\n",
    "Then split the data into training and (hold out) test set using the convenience functions in the package. These return an object that contain the split data in various representations, such as Pandas DataFrames and encoded, sparse matrices."
   ]
  },
  {
   "cell_type": "code",
   "execution_count": 3,
   "metadata": {},
   "outputs": [
    {
     "name": "stdout",
     "output_type": "stream",
     "text": [
      "using previous tuning parameters\n"
     ]
    },
    {
     "data": {
      "text/plain": [
       "RandomForestClassifier(bootstrap=True, class_weight=None, criterion='gini',\n",
       "            max_depth=None, max_features='auto', max_leaf_nodes=None,\n",
       "            min_impurity_decrease=0.0, min_impurity_split=None,\n",
       "            min_samples_leaf=1, min_samples_split=2,\n",
       "            min_weight_fraction_leaf=0.0, n_estimators=200, n_jobs=1,\n",
       "            oob_score=True, random_state=123, verbose=0, warm_start=False)"
      ]
     },
     "execution_count": 3,
     "metadata": {},
     "output_type": "execute_result"
    }
   ],
   "source": [
    "# load one of the included datasets\n",
    "# project_dir will default to directory name CHIRPS in the working directory if not given\n",
    "# random_state will default to 123\n",
    "mydata = ds.car_data(random_state=random_state, project_dir=project_dir)\n",
    "meta_data = mydata.get_meta()\n",
    "save_path = meta_data['get_save_path']()\n",
    "\n",
    "# split the data. here using a basic sampling method.\n",
    "# the returned object is a wrapper class that contains\n",
    "# the train and test splits for X and y\n",
    "\n",
    "# also the the encoded versions of X_train and X_test that the rf will use\n",
    "# this is because we prefer onehot encoded over allowing categorical vars to be represented as integer\n",
    "# scikit would treat these as ordinal, which is inappropriate\n",
    "\n",
    "# also some meta-data: priors for y, the indexes from the input data\n",
    "\n",
    "# also some convenience functions for leave-one-out testing\n",
    "\n",
    "# train test split - one off hard-coded random state.\n",
    "# random state can be ommitted \n",
    "# and will default to the state held in the dataset container\n",
    "# which defaults to 123 if ommitted in the constructor\n",
    "train_index, test_index = mydata.get_tt_split_idx(random_state=random_state_splits)\n",
    "# optionally, indexes can be ommitted and will default to scikit's train_test_split method\n",
    "tt = mydata.tt_split(train_index, test_index)\n",
    "\n",
    "# build a random forest, tuned for high accuracy\n",
    "\n",
    "####################### PARAMETER TUNING #######################\n",
    "################### Only runs when required ####################\n",
    "### Use the override_tuning = True to force a new tuning run ###\n",
    "################################################################\n",
    "\n",
    "best_params, _ = rt.tune_rf(\n",
    " X=tt.X_train_enc,\n",
    " y=tt.y_train,\n",
    " save_path=save_path, # override_tuning=False, # default\n",
    " random_state=mydata.random_state)\n",
    "\n",
    "#### best_params are save to json at the save_path location ####\n",
    "################################################################\n",
    "\n",
    "# train a rf model. use onehot encoded training data\n",
    "# so that cat vars are not converted to ordinal\n",
    "# this is recommended practice with scikit-learn\n",
    "# the data_split_container is a convenience wrapper with everything you need\n",
    "\n",
    "rf = rt.RandomForestClassifier(random_state=random_state, oob_score=True, **best_params)\n",
    "rf.fit(X=tt.X_train_enc, y=tt.y_train)    "
   ]
  },
  {
   "cell_type": "markdown",
   "metadata": {},
   "source": [
    "# Evaluate the model and plot a confusion matrix"
   ]
  },
  {
   "cell_type": "code",
   "execution_count": 4,
   "metadata": {
    "scrolled": false
   },
   "outputs": [
    {
     "name": "stdout",
     "output_type": "stream",
     "text": [
      "Confusion matrix, without normalization\n",
      "[[157   7]\n",
      " [  6 348]]\n"
     ]
    },
    {
     "data": {
      "image/png": "[encoded data removed]",
      "text/plain": [
       "<Figure size 432x288 with 2 Axes>"
      ]
     },
     "metadata": {},
     "output_type": "display_data"
    },
    {
     "name": "stdout",
     "output_type": "stream",
     "text": [
      "Normalized confusion matrix\n",
      "[[0.96 0.04]\n",
      " [0.02 0.98]]\n"
     ]
    },
    {
     "data": {
      "image/png": "[encoded data removed]",
      "text/plain": [
       "<Figure size 432x288 with 2 Axes>"
      ]
     },
     "metadata": {},
     "output_type": "display_data"
    }
   ],
   "source": [
    "# the outputs of this function are:\n",
    "# cm - confusion matrix as 2d array\n",
    "# acc - accuracy of model = correctly classified instance / total number instances\n",
    "# coka - Cohen's kappa score. Accuracy adjusted for probability of correct by random guess. Useful for multiclass problems\n",
    "# prfs - precision, recall, f-score, support with the following signatures as a 2d array\n",
    "# 0 <= p, r, f <= 1. s = number of instances for each true class label (row sums of cm)\n",
    "test_metrics = rt.evaluate_model(y_true=tt.y_test, y_pred=rf.predict(tt.X_test_enc),\n",
    "            class_names=meta_data['get_label'](meta_data['class_col']\n",
    "                                                , [i for i in range(len(meta_data['class_names']))]),\n",
    "            plot_cm=True, plot_cm_norm=True, # False here will output the metrics and suppress the plots\n",
    "            save_path=save_path, random_state=random_state)"
   ]
  },
  {
   "cell_type": "markdown",
   "metadata": {},
   "source": [
    "# Preparing unseen data\n",
    "\n",
    "Again note:\n",
    "test set has never been \"seen\" by random forest during training\n",
    "test set has been only used to assess model (random forest) accuracy - no additional tuning after this\n",
    "test set has not be involved in generating the explainer"
   ]
  },
  {
   "cell_type": "markdown",
   "metadata": {},
   "source": [
    "## optional: memory and computation cost management\n",
    "#### CHIRPS is time economical but memory intensive to compute for lots of instances at once\n",
    "option 1: choose a smaller number of instances to explain"
   ]
  },
  {
   "cell_type": "code",
   "execution_count": 5,
   "metadata": {},
   "outputs": [],
   "source": [
    "# control for async processes - each tree walk can be done in its own core\n",
    "# and so can each explanation (e.g. rule conditions merge by hill-climbing)\n",
    "# these will default to false if not passed explicitly to the explainer function\n",
    "# on a multi-core machine there should be a good speed up for large batches\n",
    "# when the batch_size advantage exceeds the overhead of setting up multi-processing\n",
    "# timings will be printed to screen so you can see if it helps\n",
    "forest_walk_async=True\n",
    "chirps_explanation_async=False\n",
    "\n",
    "# the number of instances can be controlled by\n",
    "# batch_size - how many instances to explain at one time\n",
    "batch_size = 1\n",
    "# how many instances to explain in total from a test/unseen set\n",
    "n_instances = 10000 \n",
    "\n",
    "# this will normalise the above parameters to the size of the dataset\n",
    "n_instances, n_batches = rt.batch_instance_ceiling(ds_container=tt, n_instances=n_instances, batch_size=batch_size)\n",
    "\n",
    "# this gets the next batch out of the data_split_container according to the required number of instances\n",
    "# all formats can be extracted, depending on the requirement\n",
    "# unencoded, encoded (sparse matrix is the type returned by scikit), ordinary dense matrix also available\n",
    "instances, _, instances_enc, instances_enc_matrix, labels = tt.get_next(batch_size, which_split='test') # default"
   ]
  },
  {
   "cell_type": "markdown",
   "metadata": {},
   "source": [
    "option 2: just run the whole test set"
   ]
  },
  {
   "cell_type": "code",
   "execution_count": 6,
   "metadata": {},
   "outputs": [],
   "source": [
    "# instances = tt.X_test; instances_enc = tt.X_test_enc; instances_enc_matrix = tt.X_test_enc_matrix; labels = tt.y_test"
   ]
  },
  {
   "cell_type": "markdown",
   "metadata": {},
   "source": [
    "## Make predictions from the decision forest on the unseen data\n",
    "Important point, no compromise on model accuracy"
   ]
  },
  {
   "cell_type": "code",
   "execution_count": 7,
   "metadata": {},
   "outputs": [],
   "source": [
    "# get all the model predictions for the test instance(s) we're looking at\n",
    "preds_idx = labels.index\n",
    "preds = rf.predict(X=instances_enc)"
   ]
  },
  {
   "cell_type": "markdown",
   "metadata": {},
   "source": [
    "# CHIRPS Step 1:\n",
    "## Extract Tree Prediction Paths\n",
    "### Fit a forest_walker object to the dataset and decision forest\n",
    "This is a wrapper will extracts the paths of all the given instances. For CHIRPS, we want a large sample. The whole training set or other representative sample will do.\n",
    "\n",
    "It can also report interesting statistics (treating the forest as a set of random tree-structured variables)."
   ]
  },
  {
   "cell_type": "code",
   "execution_count": 8,
   "metadata": {},
   "outputs": [],
   "source": [
    "# wrapper object needs the decision forest itself and the dataset meta data (we have a convenience function for this)\n",
    "f_walker = strcts.forest_walker(forest = rf, meta_data=meta_data)"
   ]
  },
  {
   "cell_type": "markdown",
   "metadata": {},
   "source": [
    "Now the work of extracting all the paths for each instance is done"
   ]
  },
  {
   "cell_type": "code",
   "execution_count": 9,
   "metadata": {
    "scrolled": true
   },
   "outputs": [
    {
     "name": "stdout",
     "output_type": "stream",
     "text": [
      "Walking forest for 1 instances... (please wait)\n",
      "Forest Walk with async = True\n",
      "Forest Walk time elapsed: 0.8522 seconds\n"
     ]
    }
   ],
   "source": [
    "print('Walking forest for ' + str(len(labels)) + ' instances... (please wait)')\n",
    "\n",
    "# set the timer\n",
    "forest_walk_start_time = timeit.default_timer()\n",
    "\n",
    "# do the walk - returns a batch_paths_container (even for just one instance)\n",
    "# requires the X instances in a matrix (dense, ordinary numpy matrix) - this is available in the data_split_container\n",
    "bp_container = f_walker.forest_walk(instances = instances_enc_matrix\n",
    "                        , labels = preds # we're explaining the prediction, not the true label!\n",
    "                        , forest_walk_async = forest_walk_async)\n",
    "\n",
    "# stop the timer\n",
    "forest_walk_end_time = timeit.default_timer()\n",
    "forest_walk_elapsed_time = forest_walk_end_time - forest_walk_start_time\n",
    "\n",
    "print('Forest Walk with async = ' + str(forest_walk_async))\n",
    "print('Forest Walk time elapsed:', \"{:0.4f}\".format(forest_walk_elapsed_time), 'seconds')"
   ]
  },
  {
   "cell_type": "markdown",
   "metadata": {},
   "source": [
    "# CHIRPS Steps 2-4: \n",
    "## Freqent pattern mining of paths.\n",
    "## Score and sort mined path segments.\n",
    "## Merge path segments into one rule.\n",
    "\n",
    "This is a wrapper object that will execute steps 2-4 on all the instance-paths in the batch_paths_container.\n",
    "\n",
    "Note that true_divide warnings are OK. It just means that a continuous variable is unbounded in some way i.e. no greater/less than discontinuity is used in the CHIRPS explanation.\n",
    "\n",
    "Note also, here we are using the training set to create the explainers. We could use a different dataset as long as it is representative of the training set that built the decision forest. Most important that we don't use the dataset that we wish to explain."
   ]
  },
  {
   "cell_type": "code",
   "execution_count": 10,
   "metadata": {
    "scrolled": false
   },
   "outputs": [
    {
     "name": "stdout",
     "output_type": "stream",
     "text": [
      "Running CHIRPS on a batch of 1 instances... (please wait)\n",
      "CHIRPS time elapsed: 0.5103 seconds\n",
      "CHIRPS with async = False\n"
     ]
    }
   ],
   "source": [
    "# get what the model predicts on the training sample\n",
    "sample_labels = Series(rf.predict(tt.X_train_enc), index = tt.y_train.index)\n",
    "\n",
    "# build CHIRPS and a rule for each instance represented in the batch paths container\n",
    "CHIRPS = strcts.batch_CHIRPS_explainer(bp_container,\n",
    "                                forest=rf,\n",
    "                                sample_instances=tt.X_train_enc, # any representative sample can be used\n",
    "                                # sample_labels=tt.y_train,  # any representative sample can be used\n",
    "                                sample_labels=sample_labels,\n",
    "                                meta_data=meta_data)\n",
    "\n",
    "print('Running CHIRPS on a batch of ' + str(len(labels)) + ' instances... (please wait)')\n",
    "# start a timer\n",
    "ce_start_time = timeit.default_timer()\n",
    "\n",
    "CHIRPS.batch_run_CHIRPS(chirps_explanation_async=chirps_explanation_async, alpha_paths=0.4)\n",
    "\n",
    "ce_end_time = timeit.default_timer()\n",
    "ce_elapsed_time = ce_end_time - ce_start_time\n",
    "print('CHIRPS time elapsed:', \"{:0.4f}\".format(ce_elapsed_time), 'seconds')\n",
    "print('CHIRPS with async = ' + str(chirps_explanation_async))"
   ]
  },
  {
   "cell_type": "markdown",
   "metadata": {},
   "source": [
    "# Viewing and Evaluating CHIRPS explanations\n",
    "Evaluation is done using unseen data to see how well the explanations generalise. The data_split_container object (tt) has a  leave-one-out function that is used during the routine to ensure that the datum we are explaining is excluded from the evaluation."
   ]
  },
  {
   "cell_type": "code",
   "execution_count": 11,
   "metadata": {
    "scrolled": false
   },
   "outputs": [
    {
     "name": "stdout",
     "output_type": "stream",
     "text": [
      "evaluating found explanations\n",
      "\n",
      "INSTANCE RESULTS\n",
      "instance id: 1633 with true class label: 0 (acc)\n",
      "\n",
      "Model Results for Instance\n",
      "target (predicted) class: 0 (acc)\n",
      "target class prior (training data): 0.29256198347107437\n",
      "forest vote share (unseen instance): 0.765\n",
      "forest vote margin (unseen instance): 0.53\n",
      "rule: maint_vhigh False AND persons_2 False AND safety_low False AND lug_boot_small False AND buying_vhigh False\n",
      "rule cardinality: 5\n",
      "\n",
      "Estimated Results - Rule Training Sample. Algorith: greedy_stab\n",
      "rule coverage (training data): 0.16198347107438016\n",
      "rule xcoverage (training data): 0.16184971098265896\n",
      "rule precision (training data): 0.9642857142857143\n",
      "rule stability (training data): 0.9593908629441624\n",
      "rule recall (training data): 0.5338983050847458\n",
      "rule f1 score (training data): 0.6872727272727274\n",
      "rule lift (training data): 20.347784997776355\n",
      "prior (training data): [0.29256198 0.70743802]\n",
      "prior counts (training data): [354 856]\n",
      "rule posterior (training data): [0.96428571 0.03571429]\n",
      "rule posterior counts (training data): [189   7]\n",
      "rule chisq p-value (training data): 3.4999813117655006e-71\n",
      "\n",
      "Results - Previously Unseen Sample\n",
      "target class prior (unseen data): 0.6866537717601547\n",
      "rule coverage (unseen data): 0.1760154738878143\n",
      "rule xcoverage (unseen data): 0.17567567567567569\n",
      "rule precision (unseen data): 0.989010989010989\n",
      "rule stability (unseen data): 0.9782608695652174\n",
      "rule recall (unseen data): 0.5555555555555556\n",
      "rule f1 score (unseen data): 0.7114624505928854\n",
      "rule lift (unseen data): 17.9318788659448\n",
      "prior (unseen data): [0.68665377 0.31334623]\n",
      "prior counts (unseen data): [162 355]\n",
      "rule posterior (unseen data): [0.98901099 0.01098901]\n",
      "rule posterior counts (unseen data): [90  1]\n",
      "rule chisq p-value (unseen data): 6.530138903720173e-33\n",
      "\n",
      "RULE COMPLEMENT RESULTS\n",
      "Feature Reversed: maint\n",
      "rule: maint_vhigh True AND persons_2 False AND safety_low False AND lug_boot_small False AND buying_vhigh False\n",
      "rule coverage (unseen data): 0.05415860735009671\n",
      "rule xcoverage (unseen data): 0.05405405405405406\n",
      "rule precision (unseen data): 0.6785714285714286\n",
      "rule stability (unseen data): 0.6551724137931034\n",
      "rule recall (unseen data): 0.11728395061728394\n",
      "rule f1 score (unseen data): 0.2\n",
      "rule lift (unseen data): 39.98559933232553\n",
      "prior (unseen data): [0.68665377 0.31334623]\n",
      "prior counts (unseen data): [162 355]\n",
      "rule posterior (unseen data): [0.67857143 0.32142857]\n",
      "rule posterior counts (unseen data): [19  9]\n",
      "rule chisq p-value (unseen data): 0.00015026447142611288\n",
      "predictions for this rule complement\n",
      "instance specific. expected class: 1 (unacc)\n",
      "classes: [0, 1]\n",
      "counts: [  0 517]\n",
      "proba: [0. 1.]\n",
      "allowed values. expected class: 1 (unacc)\n",
      "classes: [0, 1]\n",
      "counts: [253 264]\n",
      "proba: [0.4893617 0.5106383]\n",
      "\n",
      "Feature Reversed: persons\n",
      "rule: maint_vhigh False AND persons_2 True AND safety_low False AND lug_boot_small False AND buying_vhigh False\n",
      "rule coverage (unseen data): 0.08317214700193423\n",
      "rule xcoverage (unseen data): 0.08301158301158301\n",
      "rule precision (unseen data): 0.0\n",
      "rule stability (unseen data): 0.0\n",
      "rule recall (unseen data): 0.0\n",
      "rule f1 score (unseen data): 0.0\n",
      "rule lift (unseen data): 0.0\n",
      "prior (unseen data): [0.68665377 0.31334623]\n",
      "prior counts (unseen data): [162 355]\n",
      "rule posterior (unseen data): [0. 1.]\n",
      "rule posterior counts (unseen data): [ 0 43]\n",
      "rule chisq p-value (unseen data): 2.926763792590241e-05\n",
      "predictions for this rule complement\n",
      "instance specific. expected class: 1 (unacc)\n",
      "classes: [0, 1]\n",
      "counts: [  0 517]\n",
      "proba: [0. 1.]\n",
      "allowed values. expected class: 1 (unacc)\n",
      "classes: [0, 1]\n",
      "counts: [  0 517]\n",
      "proba: [0. 1.]\n",
      "\n",
      "Feature Reversed: safety\n",
      "rule: maint_vhigh False AND persons_2 False AND safety_low True AND lug_boot_small False AND buying_vhigh False\n",
      "rule coverage (unseen data): 0.07930367504835589\n",
      "rule xcoverage (unseen data): 0.07915057915057915\n",
      "rule precision (unseen data): 0.0\n",
      "rule stability (unseen data): 0.0\n",
      "rule recall (unseen data): 0.0\n",
      "rule f1 score (unseen data): 0.0\n",
      "rule lift (unseen data): 0.0\n",
      "prior (unseen data): [0.68665377 0.31334623]\n",
      "prior counts (unseen data): [162 355]\n",
      "rule posterior (unseen data): [0. 1.]\n",
      "rule posterior counts (unseen data): [ 0 41]\n",
      "rule chisq p-value (unseen data): 4.581231094882246e-05\n",
      "predictions for this rule complement\n",
      "instance specific. expected class: 1 (unacc)\n",
      "classes: [0, 1]\n",
      "counts: [  0 517]\n",
      "proba: [0. 1.]\n",
      "allowed values. expected class: 1 (unacc)\n",
      "classes: [0, 1]\n",
      "counts: [  0 517]\n",
      "proba: [0. 1.]\n",
      "\n",
      "Feature Reversed: lug_boot\n",
      "rule: maint_vhigh False AND persons_2 False AND safety_low False AND lug_boot_small True AND buying_vhigh False\n",
      "rule coverage (unseen data): 0.08704061895551257\n",
      "rule xcoverage (unseen data): 0.08687258687258688\n",
      "rule precision (unseen data): 0.6444444444444445\n",
      "rule stability (unseen data): 0.6304347826086957\n",
      "rule recall (unseen data): 0.17901234567901234\n",
      "rule f1 score (unseen data): 0.2801932367149758\n",
      "rule lift (unseen data): 23.62865721688767\n",
      "prior (unseen data): [0.68665377 0.31334623]\n",
      "prior counts (unseen data): [162 355]\n",
      "rule posterior (unseen data): [0.64444444 0.35555556]\n",
      "rule posterior counts (unseen data): [29 16]\n",
      "rule chisq p-value (unseen data): 1.4678962626769824e-05\n",
      "predictions for this rule complement\n",
      "instance specific. expected class: 0 (acc)\n",
      "classes: [0, 1]\n",
      "counts: [517   0]\n",
      "proba: [1. 0.]\n",
      "allowed values. expected class: 1 (acc)\n",
      "classes: [0, 1]\n",
      "counts: [183 334]\n",
      "proba: [0.35396518 0.64603482]\n",
      "\n",
      "Feature Reversed: buying\n",
      "rule: maint_vhigh False AND persons_2 False AND safety_low False AND lug_boot_small False AND buying_vhigh True\n",
      "rule coverage (unseen data): 0.05415860735009671\n",
      "rule xcoverage (unseen data): 0.05405405405405406\n",
      "rule precision (unseen data): 0.6071428571428571\n",
      "rule stability (unseen data): 0.5862068965517241\n",
      "rule recall (unseen data): 0.10493827160493827\n",
      "rule f1 score (unseen data): 0.1789473684210526\n",
      "rule lift (unseen data): 35.77658887629126\n",
      "prior (unseen data): [0.68665377 0.31334623]\n",
      "prior counts (unseen data): [162 355]\n",
      "rule posterior (unseen data): [0.60714286 0.39285714]\n",
      "rule posterior counts (unseen data): [17 11]\n",
      "rule chisq p-value (unseen data): 0.00254885078337168\n",
      "predictions for this rule complement\n",
      "instance specific. expected class: 1 (unacc)\n",
      "classes: [0, 1]\n",
      "counts: [  0 517]\n",
      "proba: [0. 1.]\n",
      "allowed values. expected class: 0 (unacc)\n",
      "classes: [0, 1]\n",
      "counts: [270 247]\n",
      "proba: [0.52224371 0.47775629]\n",
      "\n",
      "\n",
      "CHIRPS batch results eval time elapsed: 0.2258 seconds\n"
     ]
    }
   ],
   "source": [
    "# iterate over all the test instances to determine the various scores using leave-one-out testing\n",
    "print('evaluating found explanations')\n",
    "print()\n",
    "results_start_time = timeit.default_timer()\n",
    "\n",
    "rt.evaluate_CHIRPS_explainers(CHIRPS, tt, preds_idx, # the indices here are used to iterate through the leave-one-out function\n",
    "                              forest=rf,\n",
    "                              print_to_screen=True,\n",
    "                              eval_alt_labelings=True,\n",
    "                              eval_rule_complements=True,\n",
    "                              save_results_path=meta_data['get_save_path'](),\n",
    "                              save_results_file='results' + '_rnst_' + str(mydata.random_state),\n",
    "                              save_CHIRPS=True)\n",
    "\n",
    "results_end_time = timeit.default_timer()\n",
    "results_elapsed_time = results_end_time - results_start_time\n",
    "print('CHIRPS batch results eval time elapsed:', \"{:0.4f}\".format(results_elapsed_time), 'seconds')\n",
    "# this completes the CHIRPS runs"
   ]
  },
  {
   "cell_type": "code",
   "execution_count": 12,
   "metadata": {},
   "outputs": [
    {
     "data": {
      "text/plain": [
       "array([[0.29256198, 0.70743802],\n",
       "       [0.77525253, 0.22474747],\n",
       "       [0.87878788, 0.12121212],\n",
       "       [0.96428571, 0.03571429]])"
      ]
     },
     "execution_count": 12,
     "metadata": {},
     "output_type": "execute_result"
    }
   ],
   "source": [
    "CHIRPS.CHIRPS_explainers[0].posterior"
   ]
  },
  {
   "cell_type": "code",
   "execution_count": 13,
   "metadata": {},
   "outputs": [
    {
     "data": {
      "text/plain": [
       "array([0], dtype=int64)"
      ]
     },
     "execution_count": 13,
     "metadata": {},
     "output_type": "execute_result"
    }
   ],
   "source": [
    "preds"
   ]
  },
  {
   "cell_type": "code",
   "execution_count": 14,
   "metadata": {},
   "outputs": [
    {
     "data": {
      "text/plain": [
       "array([1, 1, 1, ..., 1, 0, 1], dtype=int64)"
      ]
     },
     "execution_count": 14,
     "metadata": {},
     "output_type": "execute_result"
    }
   ],
   "source": [
    "rf.predict(tt.X_train_enc)"
   ]
  },
  {
   "cell_type": "code",
   "execution_count": null,
   "metadata": {},
   "outputs": [],
   "source": []
  },
  {
   "cell_type": "code",
   "execution_count": null,
   "metadata": {},
   "outputs": [],
   "source": []
  },
  {
   "cell_type": "code",
   "execution_count": null,
   "metadata": {},
   "outputs": [],
   "source": [
    "\n",
    "        "
   ]
  },
  {
   "cell_type": "code",
   "execution_count": null,
   "metadata": {},
   "outputs": [],
   "source": []
  }
 ],
 "metadata": {
  "kernelspec": {
   "display_name": "Python 3",
   "language": "python",
   "name": "python3"
  },
  "language_info": {
   "codemirror_mode": {
    "name": "ipython",
    "version": 3
   },
   "file_extension": ".py",
   "mimetype": "text/x-python",
   "name": "python",
   "nbconvert_exporter": "python",
   "pygments_lexer": "ipython3",
   "version": "3.6.5"
  }
 },
 "nbformat": 4,
 "nbformat_minor": 2
}
