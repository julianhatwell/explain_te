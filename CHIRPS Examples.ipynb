{
 "cells": [
  {
   "cell_type": "markdown",
   "metadata": {},
   "source": [
    "# prologue"
   ]
  },
  {
   "cell_type": "markdown",
   "metadata": {},
   "source": [
    "### set up notebook and load package"
   ]
  },
  {
   "cell_type": "code",
   "execution_count": 1,
   "metadata": {},
   "outputs": [
    {
     "name": "stderr",
     "output_type": "stream",
     "text": [
      "C:\\ProgramData\\Anaconda3\\envs\\B3\\lib\\site-packages\\dask\\config.py:168: YAMLLoadWarning: calling yaml.load() without Loader=... is deprecated, as the default Loader is unsafe. Please read https://msg.pyyaml.org/load for full details.\n",
      "  data = yaml.load(f.read()) or {}\n",
      "C:\\ProgramData\\Anaconda3\\envs\\B3\\lib\\site-packages\\distributed\\config.py:20: YAMLLoadWarning: calling yaml.load() without Loader=... is deprecated, as the default Loader is unsafe. Please read https://msg.pyyaml.org/load for full details.\n",
      "  defaults = yaml.load(f)\n"
     ]
    }
   ],
   "source": [
    "# for notebook plotting\n",
    "%matplotlib inline \n",
    "\n",
    "# load what we need\n",
    "import time\n",
    "import timeit\n",
    "import CHIRPS.structures as strcts\n",
    "import CHIRPS.datasets as ds\n",
    "import CHIRPS.datasets_proprietary as dsp\n",
    "import CHIRPS.routines as rt\n",
    "\n",
    "# demo datasets that ship with package. all from UCI unless stated otherwise\n",
    "# import CHIRPS.datasets as ds\n",
    "# ds.adult_data, ds.adult_samp_data, ds.adult_small_samp_data Large dataset ships with manageable sub samples\n",
    "# ds.bankmark_data, ds.bankmark_samp_data\n",
    "# ds.car_data\n",
    "# ds.cardio_data this is the cardiotocography dataset\n",
    "# ds.credit_data\n",
    "# ds.german_data\n",
    "# ds.lending_data, ds.lending_samp_data, ds.lending_small_samp_data, ds.lending_tiny_samp_data from Kaggle. see datasets_from_source file for links\n",
    "# ds.nursery_data, ds.nursery_samp_data\n",
    "# ds.rcdv_data, ds.rcdv_samp_data from US government see datasets_from_source file for links"
   ]
  },
  {
   "cell_type": "markdown",
   "metadata": {},
   "source": [
    "### common config - can be ommitted if defaults are OK"
   ]
  },
  {
   "cell_type": "code",
   "execution_count": 2,
   "metadata": {},
   "outputs": [],
   "source": [
    "# project_dir = '/datadisk/whiteboxing/examples'\n",
    "project_dir = 'V:\\\\whiteboxing\\\\examples' # defaults to a directory \"whiteboxing\" in the working directory\n",
    "# project_dir = 'C:\\\\Users\\\\Crutt\\\\Documents\\\\whiteboxing\\\\exampada'\n",
    "\n",
    "random_state_splits = 123 # one off for splitting the data into test / train\n",
    "random_state = 123 # for everything else - e.g. building a new rf with same data"
   ]
  },
  {
   "cell_type": "markdown",
   "metadata": {},
   "source": [
    "# Build a Random Forest Model to Predict and Explain\n",
    "First, a wrapper is created for the dataset. Use one that ships with the package, or create your own.\n",
    "Then split the data into training and (hold out) test set using the convenience functions in the package. These return an object that contain the split data in various representations, such as Pandas DataFrames and encoded, sparse matrices."
   ]
  },
  {
   "cell_type": "code",
   "execution_count": 3,
   "metadata": {},
   "outputs": [],
   "source": [
    "# load one of the included datasets\n",
    "# project_dir will default to directory name CHIRPS in the working directory if not given\n",
    "# random_state will default to 123\n",
    "#mydata = dsp.usoc2(random_state=random_state_splits, project_dir=project_dir)\n",
    "\n",
    "# class imbalance\n",
    "#import pandas_ml\n",
    "#meta_data['get_label'](meta_data['class_col'], 4)"
   ]
  },
  {
   "cell_type": "code",
   "execution_count": 24,
   "metadata": {
    "scrolled": false
   },
   "outputs": [
    {
     "name": "stderr",
     "output_type": "stream",
     "text": [
      "C:\\ProgramData\\Anaconda3\\envs\\B3\\lib\\site-packages\\sklearn\\preprocessing\\_encoders.py:371: FutureWarning: The handling of integer data will change in version 0.22. Currently, the categories are determined based on the range [0, max(values)], while in the future they will be determined based on the unique values.\n",
      "If you want the future behaviour and silence this warning, you can specify \"categories='auto'\".\n",
      "In case you used a LabelEncoder before this OneHotEncoder to convert the categories to integers, then you can now use the OneHotEncoder directly.\n",
      "  warnings.warn(msg, FutureWarning)\n"
     ]
    },
    {
     "name": "stdout",
     "output_type": "stream",
     "text": [
      "using previous tuning parameters\n",
      "Best OOB Accuracy Estimate during tuning: 0.8654\n",
      "Best parameters:{'algorithm': 'SAMME', 'base_estimator': DecisionTreeClassifier(class_weight=None, criterion='gini', max_depth=1,\n",
      "            max_features=None, max_leaf_nodes=None,\n",
      "            min_impurity_decrease=0.0, min_impurity_split=None,\n",
      "            min_samples_leaf=1, min_samples_split=2,\n",
      "            min_weight_fraction_leaf=0.0, presort=False, random_state=None,\n",
      "            splitter='best'), 'n_estimators': 200, 'random_state': 123}\n",
      "\n",
      "Confusion matrix, without normalization\n",
      "[[176  28]\n",
      " [ 24 202]]\n"
     ]
    },
    {
     "data": {
      "image/png": "[encoded data removed]",
      "text/plain": [
       "<Figure size 432x288 with 2 Axes>"
      ]
     },
     "metadata": {
      "needs_background": "light"
     },
     "output_type": "display_data"
    },
    {
     "name": "stdout",
     "output_type": "stream",
     "text": [
      "Normalized confusion matrix\n",
      "[[0.86 0.14]\n",
      " [0.11 0.89]]\n"
     ]
    },
    {
     "data": {
      "image/png": "[encoded data removed]",
      "text/plain": [
       "<Figure size 432x288 with 2 Axes>"
      ]
     },
     "metadata": {
      "needs_background": "light"
     },
     "output_type": "display_data"
    }
   ],
   "source": [
    "# load one of the included datasets\n",
    "# project_dir will default to directory name CHIRPS in the working directory if not given\n",
    "# random_state will default to 123\n",
    "#mydata = dsp.usoc2(random_state=random_state_splits, project_dir=project_dir)\n",
    "#mydata = ds.mhtech14(random_state=random_state_splits, project_dir=project_dir)\n",
    "mydata = ds.mh2tech16(random_state=random_state_splits, project_dir=project_dir)\n",
    "\n",
    "meta_data = mydata.get_meta()\n",
    "save_path = meta_data['get_save_path']()\n",
    "\n",
    "# split the data. here using a basic sampling method.\n",
    "# the returned object is a wrapper class that contains\n",
    "# the train and test splits for X and y\n",
    "\n",
    "# also the the encoded versions of X_train and X_test that the rf will use\n",
    "# this is because we prefer onehot encoded over allowing categorical vars to be represented as integer\n",
    "# scikit would treat these as ordinal, which is inappropriate\n",
    "\n",
    "# also some meta-data: priors for y, the indexes from the input data\n",
    "\n",
    "# also some convenience functions for leave-one-out testing\n",
    "\n",
    "# train test split - one off hard-coded random state.\n",
    "# random state can be ommitted \n",
    "# and will default to the state held in the dataset container\n",
    "# which defaults to 123 if ommitted in the constructor\n",
    "train_index, test_index = mydata.get_tt_split_idx(random_state=random_state_splits)\n",
    "# optionally, indexes can be ommitted and will default to scikit's train_test_split method\n",
    "tt = mydata.tt_split(train_index, test_index)\n",
    "\n",
    "# build model, tuned for high accuracy\n",
    "# model = 'RandomForest'\n",
    "model = 'AdaBoost1'\n",
    "# model = 'AdaBoost2'\n",
    "# model = 'GBM'\n",
    "\n",
    "# decide if to run the whole tuning routine again (long for Adaboost)\n",
    "# RF routine has a default tuning grid, so can leave as None, or come up with some other options\n",
    "tuning = {'grid' : None, 'override' : False}\n",
    "if model == 'RandomForest':\n",
    "    which_trees = 'majority'\n",
    "    tuning.update({'grid' : None}) # defaults to n_trees [200, 400, ..., 1600]\n",
    "\n",
    "elif model in ('AdaBoost1', 'AdaBoost2'):\n",
    "    if model == 'AdaBoost1':\n",
    "        # classic (and multi-class) AdaBoost\n",
    "        algo = 'SAMME'\n",
    "        which_trees = 'majority'\n",
    "    else:\n",
    "        algo = 'SAMME.R'\n",
    "        which_trees = 'conf_weighted'\n",
    "    max_depth = [i for i in range(1, 5)]\n",
    "    tuning.update({'grid' : {'base_estimator' : [rt.DecisionTreeClassifier(max_depth=d) for d in max_depth],\n",
    "                            'n_estimators': [(i + 1) * 200 for i in range(8)], 'algorithm': [algo]}})\n",
    "    \n",
    "else: # GBM - not fully implemented yet\n",
    "    stop # ValueError\n",
    "\n",
    "rf = rt.forest_prep(ds_container=tt,\n",
    "                    meta_data=meta_data,\n",
    "                    # override_tuning=True,\n",
    "                    model=model,\n",
    "                    tuning_grid=tuning['grid'],\n",
    "                    save_path=save_path,\n",
    "                    plot_cm=True, plot_cm_norm=True)"
   ]
  },
  {
   "cell_type": "markdown",
   "metadata": {},
   "source": [
    "# Preparing unseen data\n",
    "\n",
    "Again note:\n",
    "test set has never been \"seen\" by random forest during training\n",
    "test set has been only used to assess model (random forest) accuracy - no additional tuning after this\n",
    "test set has not be involved in generating the explainer"
   ]
  },
  {
   "cell_type": "markdown",
   "metadata": {},
   "source": [
    "## optional: memory and computation cost management\n",
    "#### CHIRPS is time economical but memory intensive to compute for lots of instances at once\n",
    "option 1: choose a smaller number of instances to explain"
   ]
  },
  {
   "cell_type": "code",
   "execution_count": 17,
   "metadata": {},
   "outputs": [],
   "source": [
    "# control for async processes - each tree walk can be done in its own core\n",
    "# and so can each explanation (e.g. rule conditions merge by hill-climbing)\n",
    "# these will default to false if not passed explicitly to the explainer function\n",
    "# on a multi-core machine there should be a good speed up for large batches\n",
    "# when the batch_size advantage exceeds the overhead of setting up multi-processing\n",
    "# timings will be printed to screen so you can see if it helps\n",
    "forest_walk_async=True\n",
    "chirps_explanation_async=True\n",
    "\n",
    "# how many instances to explain in total from a test/unseen set\n",
    "# doesn't matter if you don't know how large the dataset is\n",
    "# this function prevents you maxing out, or put n_instances = None for whole dataset\n",
    "n_instances = rt.n_instance_ceiling(ds_container=tt, n_instances=1)\n",
    "\n",
    "# this gets the next batch out of the data_split_container according to the required number of instances\n",
    "# all formats can be extracted, depending on the requirement\n",
    "# unencoded, encoded (sparse matrix is the type returned by scikit), ordinary dense matrix also available\n",
    "# tt.current_row_test = 0\n",
    "instances, _, instances_enc, instances_enc_matrix, labels = tt.get_next(n_instances, which_split='test') # default"
   ]
  },
  {
   "cell_type": "markdown",
   "metadata": {},
   "source": [
    "option 2: just run the whole test set"
   ]
  },
  {
   "cell_type": "code",
   "execution_count": 18,
   "metadata": {},
   "outputs": [],
   "source": [
    "# instances = tt.X_test; instances_enc = tt.X_test_enc; instances_enc_matrix = tt.X_test_enc_matrix; labels = tt.y_test"
   ]
  },
  {
   "cell_type": "markdown",
   "metadata": {},
   "source": [
    "## Make predictions from the decision forest on the unseen data\n",
    "Important point, no compromise on model accuracy"
   ]
  },
  {
   "cell_type": "code",
   "execution_count": 19,
   "metadata": {},
   "outputs": [],
   "source": [
    "# get all the model predictions for the test instance(s) we're looking at\n",
    "preds_idx = labels.index\n",
    "preds = rf.predict(X=instances_enc)"
   ]
  },
  {
   "cell_type": "markdown",
   "metadata": {},
   "source": [
    "# CHIRPS Step 1:\n",
    "## Extract Tree Prediction Paths\n",
    "### Fit a forest_walker object to the dataset and decision forest\n",
    "This is a wrapper will extracts the paths of all the given instances. For CHIRPS, we want a large sample. The whole training set or other representative sample will do.\n",
    "\n",
    "It can also report interesting statistics (treating the forest as a set of random tree-structured variables)."
   ]
  },
  {
   "cell_type": "code",
   "execution_count": 20,
   "metadata": {},
   "outputs": [],
   "source": [
    "# wrapper object needs the decision forest itself and the dataset meta data (we have a convenience function for this)\n",
    "f_walker = strcts.forest_walker(forest = rf, meta_data=meta_data)"
   ]
  },
  {
   "cell_type": "markdown",
   "metadata": {},
   "source": [
    "Now the work of extracting all the paths for each instance is done"
   ]
  },
  {
   "cell_type": "code",
   "execution_count": 21,
   "metadata": {
    "scrolled": false
   },
   "outputs": [
    {
     "name": "stdout",
     "output_type": "stream",
     "text": [
      "Walking forest for 1 instances... (please wait)\n",
      "Forest Walk with async = True\n",
      "Forest Walk time elapsed: 3.6798 seconds\n"
     ]
    }
   ],
   "source": [
    "print('Walking forest for ' + str(len(labels)) + ' instances... (please wait)')\n",
    "\n",
    "# set the timer\n",
    "forest_walk_start_time = timeit.default_timer()\n",
    "\n",
    "# do the walk - creates a paths_container (even for just one instance) as a new property\n",
    "# requires the X instances in a matrix (dense, ordinary numpy matrix) - this is available in the data_split_container\n",
    "f_walker.forest_walk(instances = instances_enc_matrix\n",
    "                    , labels = preds # we're explaining the prediction, not the true label!\n",
    "                    , forest_walk_async = forest_walk_async)\n",
    "\n",
    "# stop the timer\n",
    "forest_walk_end_time = timeit.default_timer()\n",
    "forest_walk_elapsed_time = forest_walk_end_time - forest_walk_start_time\n",
    "\n",
    "print('Forest Walk with async = ' + str(forest_walk_async))\n",
    "print('Forest Walk time elapsed:', \"{:0.4f}\".format(forest_walk_elapsed_time), 'seconds')"
   ]
  },
  {
   "cell_type": "markdown",
   "metadata": {},
   "source": [
    "# CHIRPS Steps 2-4: \n",
    "## Freqent pattern mining of paths.\n",
    "## Score and sort mined path segments.\n",
    "## Merge path segments into one rule.\n",
    "\n",
    "This is a wrapper object that will execute steps 2-4 on all the instance-paths in the batch_paths_container.\n",
    "\n",
    "Note that true_divide warnings are OK. It just means that a continuous variable is unbounded in some way i.e. no greater/less than discontinuity is used in the CHIRPS explanation.\n",
    "\n",
    "Note also, here we are using the training set to create the explainers. We could use a different dataset as long as it is representative of the training set that built the decision forest. Most important that we don't use the dataset that we wish to explain."
   ]
  },
  {
   "cell_type": "code",
   "execution_count": 22,
   "metadata": {
    "scrolled": false
   },
   "outputs": [
    {
     "name": "stdout",
     "output_type": "stream",
     "text": [
      "Running CHIRPS on a batch of 1 instances... (please wait)\n",
      "Working on CHIRPS for instance 0 of 1\n"
     ]
    },
    {
     "name": "stderr",
     "output_type": "stream",
     "text": [
      "C:\\Users\\id126493\\Documents\\GitHub\\explain_te\\CHIRPS\\structures.py:1347: RuntimeWarning: invalid value encountered in true_divide\n",
      "  np.histogram(uppers, upper_bins)[0]).round(5) # can result in nans if no value falls into bin\n",
      "C:\\Users\\id126493\\Documents\\GitHub\\explain_te\\CHIRPS\\structures.py:1352: RuntimeWarning: invalid value encountered in true_divide\n",
      "  np.histogram(lowers, lower_bins)[0]).round(5) # can result in nans\n"
     ]
    },
    {
     "name": "stdout",
     "output_type": "stream",
     "text": [
      "CHIRPS time elapsed: 2.7836 seconds\n",
      "CHIRPS with async = False\n"
     ]
    }
   ],
   "source": [
    "chirps_explanation_async=False\n",
    "# get what the model predicts on the training sample\n",
    "sample_labels = rf.predict(tt.X_train_enc)\n",
    "\n",
    "# build CHIRPS and a rule for each instance represented in the path detail\n",
    "CHIRPS = strcts.CHIRPS_container(f_walker.path_detail,\n",
    "                                forest=rf,\n",
    "                                sample_instances=tt.X_train_enc, # any representative sample can be used\n",
    "                                # sample_labels=tt.y_train,  # any representative sample can be used\n",
    "                                sample_labels=sample_labels,\n",
    "                                meta_data=meta_data)\n",
    "\n",
    "print('Running CHIRPS on a batch of ' + str(len(labels)) + ' instances... (please wait)')\n",
    "# start a timer\n",
    "ce_start_time = timeit.default_timer()\n",
    "\n",
    "CHIRPS.batch_run_CHIRPS(target_classes=preds, # we're explaining the prediction, not the true label!\n",
    "                        chirps_explanation_async=chirps_explanation_async,\n",
    "                        random_state=random_state,\n",
    "                        which_trees=which_trees,\n",
    "                        alpha_paths=0.0,\n",
    "                        support_paths=0.01,\n",
    "                        score_func=1,\n",
    "                        disc_path_bins=4,\n",
    "                        merging_bootstraps=20,\n",
    "                        pruning_bootstraps=20,\n",
    "                        delta=0.02,\n",
    "                        weighting='chisq')\n",
    "\n",
    "ce_end_time = timeit.default_timer()\n",
    "ce_elapsed_time = ce_end_time - ce_start_time\n",
    "print('CHIRPS time elapsed:', \"{:0.4f}\".format(ce_elapsed_time), 'seconds')\n",
    "print('CHIRPS with async = ' + str(chirps_explanation_async))"
   ]
  },
  {
   "cell_type": "markdown",
   "metadata": {},
   "source": [
    "# Viewing and Evaluating CHIRPS explanations\n",
    "Evaluation is done using unseen data to see how well the explanations generalise. The data_split_container object (tt) has a  leave-one-out function that is used during the routine to ensure that the datum we are explaining is excluded from the evaluation."
   ]
  },
  {
   "cell_type": "code",
   "execution_count": 23,
   "metadata": {
    "scrolled": false
   },
   "outputs": [
    {
     "name": "stdout",
     "output_type": "stream",
     "text": [
      "evaluating found explanations\n",
      "\n",
      "INSTANCE RESULTS\n",
      "['instance id: 650 with true class label: 1 (yes)']\n",
      "\n",
      "Model Results for Instance\n",
      "['target (predicted) class: 0 (no)']\n",
      "target class prior (training data): 0.423728813559322\n",
      "forest vote share (unseen instance): 0.5357564138601896\n",
      "forest vote margin (unseen instance): 0.07151282772037909\n",
      "confidence weighted forest vote share (unseen instance): 0.4982030125392598\n",
      "confidence weighted forest vote margin (unseen instance): -0.0035939749214803918\n",
      "\n",
      "rule: What is your age? <= 60.0 AND Do you know local or online resources to seek help for a mental health disorder?_not sure True AND What US state or territory do you work in?_Pennsylvania False AND What US state or territory do you work in?_north Carolina False AND Have you had a mental health disorder in the past?_yes False AND How many employees does your company or organization have? <= 63.0 AND Do you know the options for mental health care available under your employer-provided coverage?_yes False\n",
      "rule cardinality: 7\n",
      "Fraction of total points of rule: 0.159038893613345\n",
      "Fraction of total weight of rule: 0.2511994698064814\n",
      "\n",
      "Estimated Results - Rule Training Sample. Algorithm: greedy_stab\n",
      "rule coverage (training data): 0.1984047856430708\n",
      "rule xcoverage (training data): 0.19820717131474103\n",
      "rule precision (training data): 0.949748743718593\n",
      "rule stability (training data): 0.9405940594059405\n",
      "rule recall (training data): 0.4447058823529412\n",
      "rule f1 score (training data): 0.6057692307692307\n",
      "rule NPV (training data): 0.9826989619377162\n",
      "rule lift (training data): 11.297141991363853\n",
      "prior (training data): [0.42372881 0.57627119]\n",
      "prior counts (training data): [425. 578.]\n",
      "rule posterior (training data): [0.94974874 0.05025126]\n",
      "rule posterior counts (training data): [189.  10.]\n",
      "rule chisq p-value (training data): 1.9868976295388292e-41\n",
      "rule Kullback-Leibler divergence (training data): 0.6439555424942951\n",
      "\n",
      "Results - Previously Unseen Sample\n",
      "target class prior (unseen data): 0.6037296037296037\n",
      "rule coverage (unseen data): 0.1655011655011655\n",
      "rule xcoverage (unseen data): 0.16666666666666666\n",
      "rule precision (unseen data): 0.9577464788732394\n",
      "rule stability (unseen data): 0.9324324324324325\n",
      "rule recall (unseen data): 0.4\n",
      "rule f1 score (unseen data): 0.5643153526970954\n",
      "rule NPV (unseen data): 0.9884169884169884\n",
      "rule lift (unseen data): 14.603531045427491\n",
      "prior (unseen data): [0.6037296 0.3962704]\n",
      "prior counts (unseen data): [170. 259.]\n",
      "rule posterior (unseen data): [0.95774648 0.04225352]\n",
      "rule posterior counts (unseen data): [68.  3.]\n",
      "rule chisq p-value (unseen data): 5.311079921319537e-18\n",
      "rule Kullback-Leibler divergence (unseen data): 0.7328272196704048\n",
      "Evaluation Time: 2.776611989014782\n",
      "\n",
      "COUNTER FACTUAL RESULTS\n",
      "Feature Reversed: What is your age?\n",
      "rule: What is your age? > 60.0 AND Do you know local or online resources to seek help for a mental health disorder?_not sure True AND What US state or territory do you work in?_Pennsylvania False AND What US state or territory do you work in?_north Carolina False AND Have you had a mental health disorder in the past?_yes False AND How many employees does your company or organization have? <= 63.0 AND Do you know the options for mental health care available under your employer-provided coverage?_yes False\n",
      "rule coverage (training data): 0.0009970089730807576\n",
      "rule xcoverage (training data): 0.0019880715705765406\n",
      "rule precision (training data): 0.0\n",
      "rule stability (training data): 0.25\n",
      "rule recall (training data): 0.0\n",
      "rule f1 score (training data): 0.0\n",
      "rule NPV (training data): 0.9982547993019197\n",
      "rule lift (training data): 0.0\n",
      "prior (training data): [0.42871386 0.57128614]\n",
      "prior counts (training data): [430. 573.]\n",
      "rule posterior (training data): [0. 1.]\n",
      "rule posterior counts (training data): [0. 1.]\n",
      "rule chisq p-value (training data): 0.8847133206539967\n",
      "rule Kullback-Leibler divergence from original: 16.890273492983113\n",
      "predictions for this rule complement\n",
      "note: this combination does not exist in the unseen data sample                                     \n",
      "exercise caution when interpreting the results.\n",
      "['instance specific. expected class: 1 (yes)']\n",
      "classes: [0, 1]\n",
      "counts: [  0. 429.]\n",
      "proba: [0. 1.]\n",
      "['allowed values. expected class: 1 (yes)']\n",
      "classes: [0, 1]\n",
      "counts: [  0. 429.]\n",
      "proba: [0. 1.]\n",
      "\n",
      "Feature Reversed: Do you know local or online resources to seek help for a mental health disorder?\n",
      "rule: What is your age? <= 60.0 AND Do you know local or online resources to seek help for a mental health disorder?_not sure False AND What US state or territory do you work in?_Pennsylvania False AND What US state or territory do you work in?_north Carolina False AND Have you had a mental health disorder in the past?_yes False AND How many employees does your company or organization have? <= 63.0 AND Do you know the options for mental health care available under your employer-provided coverage?_yes False\n",
      "rule coverage (training data): 0.058823529411764705\n",
      "rule xcoverage (training data): 0.05964214711729622\n",
      "rule precision (training data): 0.5932203389830508\n",
      "rule stability (training data): 0.5806451612903226\n",
      "rule recall (training data): 0.08139534883720931\n",
      "rule f1 score (training data): 0.14314928425357873\n",
      "rule NPV (training data): 0.9581151832460733\n",
      "rule lift (training data): 23.52325581395349\n",
      "prior (training data): [0.42871386 0.57128614]\n",
      "prior counts (training data): [430. 573.]\n",
      "rule posterior (training data): [0.59322034 0.40677966]\n",
      "rule posterior counts (training data): [35. 24.]\n",
      "rule chisq p-value (training data): 0.019274589538495507\n",
      "rule Kullback-Leibler divergence from original: 0.15505350355271688\n",
      "predictions for this rule complement\n",
      "['instance specific. expected class: 0 (no)']\n",
      "classes: [0, 1]\n",
      "counts: [429.   0.]\n",
      "proba: [1. 0.]\n",
      "['allowed values. expected class: 0 (no)']\n",
      "classes: [0, 1]\n",
      "counts: [388.  41.]\n",
      "proba: [0.9044289 0.0955711]\n",
      "\n",
      "Feature Reversed: What US state or territory do you work in?\n",
      "rule: What is your age? <= 60.0 AND Do you know local or online resources to seek help for a mental health disorder?_not sure True AND Have you had a mental health disorder in the past?_yes False AND How many employees does your company or organization have? <= 63.0 AND Do you know the options for mental health care available under your employer-provided coverage?_yes False AND What US state or territory do you work in?_Alabama False AND What US state or territory do you work in?_Alaska False AND What US state or territory do you work in?_Arizona False AND What US state or territory do you work in?_California False AND What US state or territory do you work in?_Colorado False AND What US state or territory do you work in?_Connecticut False AND What US state or territory do you work in?_Delaware False AND What US state or territory do you work in?_District of Columbia False AND What US state or territory do you work in?_Florida False AND What US state or territory do you work in?_Georgia False AND What US state or territory do you work in?_Hawaii False AND What US state or territory do you work in?_Idaho False AND What US state or territory do you work in?_Illinois False AND What US state or territory do you work in?_Indiana False AND What US state or territory do you work in?_Iowa False AND What US state or territory do you work in?_Kansas False AND What US state or territory do you work in?_Kentucky False AND What US state or territory do you work in?_Louisiana False AND What US state or territory do you work in?_Maine False AND What US state or territory do you work in?_Maryland False AND What US state or territory do you work in?_Massachusetts False AND What US state or territory do you work in?_Michigan False AND What US state or territory do you work in?_Minnesota False AND What US state or territory do you work in?_Missouri False AND What US state or territory do you work in?_Montana False AND What US state or territory do you work in?_Nebraska False AND What US state or territory do you work in?_Nevada False AND What US state or territory do you work in?_New Hampshire False AND What US state or territory do you work in?_New Jersey False AND What US state or territory do you work in?_New Mexico False AND What US state or territory do you work in?_New York False AND What US state or territory do you work in?_Ohio False AND What US state or territory do you work in?_Oklahoma False AND What US state or territory do you work in?_Oregon False AND What US state or territory do you work in?_Rhode Island False AND What US state or territory do you work in?_South Carolina False AND What US state or territory do you work in?_South Dakota False AND What US state or territory do you work in?_Tennessee False AND What US state or territory do you work in?_Texas False AND What US state or territory do you work in?_Utah False AND What US state or territory do you work in?_Vermont False AND What US state or territory do you work in?_Virginia False AND What US state or territory do you work in?_Washington False AND What US state or territory do you work in?_West Virginia False AND What US state or territory do you work in?_Wisconsin False AND What US state or territory do you work in?_non-US False AND What US state or territory do you work in?_north Dakota False\n",
      "rule coverage (training data): 0.003988035892323031\n",
      "rule xcoverage (training data): 0.004970178926441352\n",
      "rule precision (training data): 0.75\n",
      "rule stability (training data): 0.5714285714285714\n",
      "rule recall (training data): 0.0069767441860465115\n",
      "rule f1 score (training data): 0.013824884792626727\n",
      "rule NPV (training data): 0.9982547993019197\n",
      "rule lift (training data): 438.6667151162791\n",
      "prior (training data): [0.42871386 0.57128614]\n",
      "prior counts (training data): [430. 573.]\n",
      "rule posterior (training data): [0.75 0.25]\n",
      "rule posterior counts (training data): [3. 1.]\n",
      "rule chisq p-value (training data): 0.42989583658388575\n",
      "rule Kullback-Leibler divergence from original: 0.029287674683838402\n",
      "predictions for this rule complement\n",
      "['instance specific. expected class: 0 (no)']\n",
      "classes: [0, 1]\n",
      "counts: [429.   0.]\n",
      "proba: [1. 0.]\n",
      "['allowed values. expected class: 0 (no)']\n",
      "classes: [0, 1]\n",
      "counts: [429.   0.]\n",
      "proba: [1. 0.]\n",
      "\n",
      "Feature Reversed: Have you had a mental health disorder in the past?\n",
      "rule: What is your age? <= 60.0 AND Do you know local or online resources to seek help for a mental health disorder?_not sure True AND What US state or territory do you work in?_Pennsylvania False AND What US state or territory do you work in?_north Carolina False AND Have you had a mental health disorder in the past?_yes True AND How many employees does your company or organization have? <= 63.0 AND Do you know the options for mental health care available under your employer-provided coverage?_yes False\n",
      "rule coverage (training data): 0.14755732801595214\n",
      "rule xcoverage (training data): 0.1481113320079523\n",
      "rule precision (training data): 0.16891891891891891\n",
      "rule stability (training data): 0.17218543046357615\n",
      "rule recall (training data): 0.05813953488372093\n",
      "rule f1 score (training data): 0.08650519031141868\n",
      "rule NPV (training data): 0.7853403141361257\n",
      "rule lift (training data): 2.670238100293883\n",
      "prior (training data): [0.42871386 0.57128614]\n",
      "prior counts (training data): [430. 573.]\n",
      "rule posterior (training data): [0.16891892 0.83108108]\n",
      "rule posterior counts (training data): [ 25. 123.]\n",
      "rule chisq p-value (training data): 2.7743486246456648e-09\n",
      "rule Kullback-Leibler divergence from original: 1.114124624262683\n",
      "predictions for this rule complement\n",
      "['instance specific. expected class: 1 (yes)']\n",
      "classes: [0, 1]\n",
      "counts: [  0. 429.]\n",
      "proba: [0. 1.]\n",
      "['allowed values. expected class: 1 (yes)']\n",
      "classes: [0, 1]\n",
      "counts: [  0. 429.]\n",
      "proba: [0. 1.]\n",
      "\n",
      "Feature Reversed: How many employees does your company or organization have?\n",
      "rule: What is your age? <= 60.0 AND Do you know local or online resources to seek help for a mental health disorder?_not sure True AND What US state or territory do you work in?_Pennsylvania False AND What US state or territory do you work in?_north Carolina False AND Have you had a mental health disorder in the past?_yes False AND How many employees does your company or organization have? > 63.0 AND Do you know the options for mental health care available under your employer-provided coverage?_yes False\n",
      "rule coverage (training data): 0.15254237288135594\n",
      "rule xcoverage (training data): 0.15308151093439365\n",
      "rule precision (training data): 0.7777777777777778\n",
      "rule stability (training data): 0.7692307692307693\n",
      "rule recall (training data): 0.27674418604651163\n",
      "rule f1 score (training data): 0.4082332761578044\n",
      "rule NPV (training data): 0.9406631762652705\n",
      "rule lift (training data): 11.893166810221073\n",
      "prior (training data): [0.42871386 0.57128614]\n",
      "prior counts (training data): [430. 573.]\n",
      "rule posterior (training data): [0.77777778 0.22222222]\n",
      "rule posterior counts (training data): [119.  34.]\n",
      "rule chisq p-value (training data): 1.6273862508421892e-15\n",
      "rule Kullback-Leibler divergence from original: 0.01615878130964265\n",
      "predictions for this rule complement\n",
      "['instance specific. expected class: 0 (no)']\n",
      "classes: [0, 1]\n",
      "counts: [429.   0.]\n",
      "proba: [1. 0.]\n",
      "['allowed values. expected class: 0 (no)']\n",
      "classes: [0, 1]\n",
      "counts: [429.   0.]\n",
      "proba: [1. 0.]\n",
      "\n",
      "Feature Reversed: Do you know the options for mental health care available under your employer-provided coverage?\n",
      "rule: What is your age? <= 60.0 AND Do you know local or online resources to seek help for a mental health disorder?_not sure True AND What US state or territory do you work in?_Pennsylvania False AND What US state or territory do you work in?_north Carolina False AND Have you had a mental health disorder in the past?_yes False AND How many employees does your company or organization have? <= 63.0 AND Do you know the options for mental health care available under your employer-provided coverage?_yes True\n",
      "rule coverage (training data): 0.03290129611166501\n",
      "rule xcoverage (training data): 0.033797216699801194\n",
      "rule precision (training data): 0.6666666666666666\n",
      "rule stability (training data): 0.6388888888888888\n",
      "rule recall (training data): 0.05116279069767442\n",
      "rule f1 score (training data): 0.09503239740820735\n",
      "rule NPV (training data): 0.9808027923211169\n",
      "rule lift (training data): 47.26375381724219\n",
      "prior (training data): [0.42871386 0.57128614]\n",
      "prior counts (training data): [430. 573.]\n",
      "rule posterior (training data): [0.66666667 0.33333333]\n",
      "rule posterior counts (training data): [22. 11.]\n",
      "rule chisq p-value (training data): 0.011286269626992832\n",
      "rule Kullback-Leibler divergence from original: 0.0859452715000271\n",
      "predictions for this rule complement\n",
      "['instance specific. expected class: 0 (no)']\n",
      "classes: [0, 1]\n",
      "counts: [429.   0.]\n",
      "proba: [1. 0.]\n",
      "['allowed values. expected class: 0 (no)']\n",
      "classes: [0, 1]\n",
      "counts: [429.   0.]\n",
      "proba: [1. 0.]\n",
      "\n",
      "CHIRPS batch results eval time elapsed: 2.5727 seconds\n"
     ]
    }
   ],
   "source": [
    "# iterate over all the test instances to determine the various scores using leave-one-out testing\n",
    "print('evaluating found explanations')\n",
    "print()\n",
    "results_start_time = timeit.default_timer()\n",
    "\n",
    "save_results_file = model + '_CHIRPS_rnst_' + str(random_state)\n",
    "\n",
    "rt.evaluate_CHIRPS_explainers(CHIRPS, tt, labels.index, # for full batch runs: tt.y_test.index,\n",
    "                              forest=rf,\n",
    "                              meta_data=meta_data,\n",
    "                              model=model,\n",
    "                              eval_start_time=results_start_time,\n",
    "                              print_to_screen=True, # set True when running single instances\n",
    "                              eval_alt_labelings=True,\n",
    "                              eval_rule_complements=True,\n",
    "                              save_results_path=save_path,\n",
    "                              dataset_name='test',\n",
    "                              save_results_file=save_results_file,\n",
    "                              save_CHIRPS=False)\n",
    "\n",
    "results_end_time = timeit.default_timer()\n",
    "results_elapsed_time = results_end_time - results_start_time\n",
    "print('CHIRPS batch results eval time elapsed:', \"{:0.4f}\".format(results_elapsed_time), 'seconds')\n",
    "# this completes the CHIRPS runs"
   ]
  },
  {
   "cell_type": "code",
   "execution_count": null,
   "metadata": {},
   "outputs": [],
   "source": []
  }
 ],
 "metadata": {
  "kernelspec": {
   "display_name": "Python 3",
   "language": "python",
   "name": "python3"
  },
  "language_info": {
   "codemirror_mode": {
    "name": "ipython",
    "version": 3
   },
   "file_extension": ".py",
   "mimetype": "text/x-python",
   "name": "python",
   "nbconvert_exporter": "python",
   "pygments_lexer": "ipython3",
   "version": "3.7.3"
  }
 },
 "nbformat": 4,
 "nbformat_minor": 2
}
