{
 "cells": [
  {
   "cell_type": "markdown",
   "metadata": {},
   "source": [
    "# prologue"
   ]
  },
  {
   "cell_type": "markdown",
   "metadata": {},
   "source": [
    "### set up notebook and load package"
   ]
  },
  {
   "cell_type": "code",
   "execution_count": 1,
   "metadata": {},
   "outputs": [
    {
     "name": "stderr",
     "output_type": "stream",
     "text": [
      "C:\\ProgramData\\Anaconda3\\envs\\B3\\lib\\site-packages\\dask\\config.py:168: YAMLLoadWarning: calling yaml.load() without Loader=... is deprecated, as the default Loader is unsafe. Please read https://msg.pyyaml.org/load for full details.\n",
      "  data = yaml.load(f.read()) or {}\n",
      "C:\\ProgramData\\Anaconda3\\envs\\B3\\lib\\site-packages\\distributed\\config.py:20: YAMLLoadWarning: calling yaml.load() without Loader=... is deprecated, as the default Loader is unsafe. Please read https://msg.pyyaml.org/load for full details.\n",
      "  defaults = yaml.load(f)\n"
     ]
    }
   ],
   "source": [
    "# for notebook plotting\n",
    "%matplotlib inline \n",
    "\n",
    "# load what we need\n",
    "import time\n",
    "import timeit\n",
    "import CHIRPS.structures as strcts\n",
    "import CHIRPS.datasets as ds\n",
    "import CHIRPS.datasets_proprietary as dsp\n",
    "import CHIRPS.routines as rt\n",
    "\n",
    "# demo datasets that ship with package. all from UCI unless stated otherwise\n",
    "# import CHIRPS.datasets as ds\n",
    "# ds.adult_data, ds.adult_samp_data, ds.adult_small_samp_data Large dataset ships with manageable sub samples\n",
    "# ds.bankmark_data, ds.bankmark_samp_data\n",
    "# ds.car_data\n",
    "# ds.cardio_data this is the cardiotocography dataset\n",
    "# ds.credit_data\n",
    "# ds.german_data\n",
    "# ds.lending_data, ds.lending_samp_data, ds.lending_small_samp_data, ds.lending_tiny_samp_data from Kaggle. see datasets_from_source file for links\n",
    "# ds.nursery_data, ds.nursery_samp_data\n",
    "# ds.rcdv_data, ds.rcdv_samp_data from US government see datasets_from_source file for links"
   ]
  },
  {
   "cell_type": "markdown",
   "metadata": {},
   "source": [
    "### common config - can be ommitted if defaults are OK"
   ]
  },
  {
   "cell_type": "code",
   "execution_count": 2,
   "metadata": {},
   "outputs": [],
   "source": [
    "# project_dir = '/datadisk/whiteboxing/examples'\n",
    "project_dir = 'V:\\\\whiteboxing\\\\examples' # defaults to a directory \"whiteboxing\" in the working directory\n",
    "# project_dir = 'C:\\\\Users\\\\Crutt\\\\Documents\\\\whiteboxing\\\\exampada'\n",
    "\n",
    "random_state_splits = 123 # one off for splitting the data into test / train\n",
    "random_state = 123 # for everything else - e.g. building a new rf with same data"
   ]
  },
  {
   "cell_type": "markdown",
   "metadata": {},
   "source": [
    "# Build a Random Forest Model to Predict and Explain\n",
    "First, a wrapper is created for the dataset. Use one that ships with the package, or create your own.\n",
    "Then split the data into training and (hold out) test set using the convenience functions in the package. These return an object that contain the split data in various representations, such as Pandas DataFrames and encoded, sparse matrices."
   ]
  },
  {
   "cell_type": "code",
   "execution_count": 3,
   "metadata": {},
   "outputs": [],
   "source": [
    "datasets = [\n",
    "            ds.breast,\n",
    "            ds.cardio,\n",
    "            ds.diaretino,\n",
    "            ds.heart,\n",
    "            ds.mhtech14,\n",
    "            ds.mh2tech16,\n",
    "            ds.readmit,\n",
    "            ds.thyroid,\n",
    "            dsp.usoc2,\n",
    "           ]"
   ]
  },
  {
   "cell_type": "code",
   "execution_count": 4,
   "metadata": {
    "scrolled": false
   },
   "outputs": [
    {
     "name": "stderr",
     "output_type": "stream",
     "text": [
      "C:\\ProgramData\\Anaconda3\\envs\\B3\\lib\\site-packages\\sklearn\\preprocessing\\_encoders.py:371: FutureWarning: The handling of integer data will change in version 0.22. Currently, the categories are determined based on the range [0, max(values)], while in the future they will be determined based on the unique values.\n",
      "If you want the future behaviour and silence this warning, you can specify \"categories='auto'\".\n",
      "In case you used a LabelEncoder before this OneHotEncoder to convert the categories to integers, then you can now use the OneHotEncoder directly.\n",
      "  warnings.warn(msg, FutureWarning)\n"
     ]
    },
    {
     "name": "stdout",
     "output_type": "stream",
     "text": [
      "using previous tuning parameters\n",
      "Best OOB Accuracy Estimate during tuning: 1.0000\n",
      "Best parameters:{'algorithm': 'SAMME', 'base_estimator': DecisionTreeClassifier(class_weight=None, criterion='gini', max_depth=3,\n",
      "            max_features=None, max_leaf_nodes=None,\n",
      "            min_impurity_decrease=0.0, min_impurity_split=None,\n",
      "            min_samples_leaf=1, min_samples_split=2,\n",
      "            min_weight_fraction_leaf=0.0, presort=False, random_state=None,\n",
      "            splitter='best'), 'n_estimators': 400, 'random_state': 123}\n",
      "\n",
      "Confusion matrix, without normalization\n",
      "[[164   0]\n",
      " [  0 354]]\n"
     ]
    },
    {
     "data": {
      "image/png": "[encoded data removed]",
      "text/plain": [
       "<Figure size 432x288 with 2 Axes>"
      ]
     },
     "metadata": {
      "needs_background": "light"
     },
     "output_type": "display_data"
    },
    {
     "name": "stdout",
     "output_type": "stream",
     "text": [
      "Normalized confusion matrix\n",
      "[[1. 0.]\n",
      " [0. 1.]]\n"
     ]
    },
    {
     "data": {
      "image/png": "[encoded data removed]",
      "text/plain": [
       "<Figure size 432x288 with 2 Axes>"
      ]
     },
     "metadata": {
      "needs_background": "light"
     },
     "output_type": "display_data"
    }
   ],
   "source": [
    "# load one of the included datasets\n",
    "# project_dir will default to directory name CHIRPS in the working directory if not given\n",
    "# random_state will default to 123\n",
    "override_tuning = False\n",
    "mydata = ds.car(random_state=random_state_splits, project_dir=project_dir)\n",
    "\n",
    "meta_data = mydata.get_meta()\n",
    "save_path = meta_data['get_save_path']()\n",
    "\n",
    "# split the data. here using a basic sampling method.\n",
    "# the returned object is a wrapper class that contains\n",
    "# the train and test splits for X and y\n",
    "\n",
    "# also the the encoded versions of X_train and X_test that the rf will use\n",
    "# this is because we prefer onehot encoded over allowing categorical vars to be represented as integer\n",
    "# scikit would treat these as ordinal, which is inappropriate\n",
    "\n",
    "# also some meta-data: priors for y, the indexes from the input data\n",
    "\n",
    "# also some convenience functions for leave-one-out testing\n",
    "\n",
    "# train test split - one off hard-coded random state.\n",
    "# random state can be ommitted \n",
    "# and will default to the state held in the dataset container\n",
    "# which defaults to 123 if ommitted in the constructor\n",
    "train_index, test_index = mydata.get_tt_split_idx(random_state=random_state_splits)\n",
    "# optionally, indexes can be ommitted and will default to scikit's train_test_split method\n",
    "tt = mydata.tt_split(train_index, test_index)\n",
    "\n",
    "# build model, tuned for high accuracy\n",
    "# model = 'RandomForest'\n",
    "model = 'AdaBoost1'\n",
    "# model = 'AdaBoost2'\n",
    "# model = 'GBM'\n",
    "\n",
    "# decide if to run the whole tuning routine again (long for Adaboost)\n",
    "# RF routine has a default tuning grid, so can leave as None, or come up with some other options\n",
    "tuning = {'grid' : None, 'override' : override_tuning}\n",
    "if model == 'RandomForest':\n",
    "    which_trees = 'majority'\n",
    "    tuning.update({'grid' : {'n_estimators': [(i + 1) * 200 for i in range(8)],\n",
    "                            'max_depth' : [32]}})\n",
    "\n",
    "elif model in ('AdaBoost1', 'AdaBoost2'):\n",
    "    if model == 'AdaBoost1':\n",
    "        # classic (and multi-class) AdaBoost\n",
    "        algo = 'SAMME'\n",
    "        which_trees = 'majority'\n",
    "    else:\n",
    "        algo = 'SAMME.R'\n",
    "        which_trees = 'conf_weighted'\n",
    "    max_depth = [i for i in range(1, 5)]\n",
    "    tuning.update({'grid' : {'base_estimator' : [rt.DecisionTreeClassifier(max_depth=d) for d in max_depth],\n",
    "                            'n_estimators': [(i + 1) * 200 for i in range(8)], 'algorithm': [algo]}})\n",
    "    \n",
    "else: # GBM - not fully implemented yet\n",
    "    stop # ValueError\n",
    "\n",
    "rf = rt.forest_prep(ds_container=tt,\n",
    "                    meta_data=meta_data,\n",
    "                    override_tuning=override_tuning,\n",
    "                    model=model,\n",
    "                    tuning_grid=tuning['grid'],\n",
    "                    save_path=save_path,\n",
    "                    plot_cm=True, plot_cm_norm=True)"
   ]
  },
  {
   "cell_type": "markdown",
   "metadata": {},
   "source": [
    "# Preparing unseen data\n",
    "\n",
    "Again note:\n",
    "test set has never been \"seen\" by random forest during training\n",
    "test set has been only used to assess model (random forest) accuracy - no additional tuning after this\n",
    "test set has not be involved in generating the explainer"
   ]
  },
  {
   "cell_type": "markdown",
   "metadata": {},
   "source": [
    "## optional: memory and computation cost management\n",
    "#### CHIRPS is time economical but memory intensive to compute for lots of instances at once\n",
    "option 1: choose a smaller number of instances to explain"
   ]
  },
  {
   "cell_type": "code",
   "execution_count": 5,
   "metadata": {},
   "outputs": [],
   "source": [
    "# control for async processes - each tree walk can be done in its own core\n",
    "# and so can each explanation (e.g. rule conditions merge by hill-climbing)\n",
    "# these will default to false if not passed explicitly to the explainer function\n",
    "# on a multi-core machine there should be a good speed up for large batches\n",
    "# when the batch_size advantage exceeds the overhead of setting up multi-processing\n",
    "# timings will be printed to screen so you can see if it helps\n",
    "forest_walk_async=True\n",
    "chirps_explanation_async=True\n",
    "\n",
    "# how many instances to explain in total from a test/unseen set\n",
    "# doesn't matter if you don't know how large the dataset is\n",
    "# this function prevents you maxing out, or put n_instances = None for whole dataset\n",
    "n_instances = rt.n_instance_ceiling(ds_container=tt, n_instances=1)\n",
    "\n",
    "# this gets the next batch out of the data_split_container according to the required number of instances\n",
    "# all formats can be extracted, depending on the requirement\n",
    "# unencoded, encoded (sparse matrix is the type returned by scikit), ordinary dense matrix also available\n",
    "tt.current_row_test = 0\n",
    "instances, _, instances_enc, instances_enc_matrix, labels = tt.get_next(n_instances, which_split='test') # default"
   ]
  },
  {
   "cell_type": "markdown",
   "metadata": {},
   "source": [
    "option 2: just run the whole test set"
   ]
  },
  {
   "cell_type": "code",
   "execution_count": 6,
   "metadata": {},
   "outputs": [],
   "source": [
    "# instances = tt.X_test; instances_enc = tt.X_test_enc; instances_enc_matrix = tt.X_test_enc_matrix; labels = tt.y_test"
   ]
  },
  {
   "cell_type": "markdown",
   "metadata": {},
   "source": [
    "## Make predictions from the decision forest on the unseen data\n",
    "Important point, no compromise on model accuracy"
   ]
  },
  {
   "cell_type": "code",
   "execution_count": 7,
   "metadata": {},
   "outputs": [],
   "source": [
    "# get all the model predictions for the test instance(s) we're looking at\n",
    "preds_idx = labels.index\n",
    "preds = rf.predict(X=instances_enc)"
   ]
  },
  {
   "cell_type": "markdown",
   "metadata": {},
   "source": [
    "# CHIRPS Step 1:\n",
    "## Extract Tree Prediction Paths\n",
    "### Fit a forest_walker object to the dataset and decision forest\n",
    "This is a wrapper will extracts the paths of all the given instances. For CHIRPS, we want a large sample. The whole training set or other representative sample will do.\n",
    "\n",
    "It can also report interesting statistics (treating the forest as a set of random tree-structured variables)."
   ]
  },
  {
   "cell_type": "code",
   "execution_count": 8,
   "metadata": {},
   "outputs": [],
   "source": [
    "# wrapper object needs the decision forest itself and the dataset meta data (we have a convenience function for this)\n",
    "f_walker = strcts.classification_trees_walker(forest = rf, meta_data=meta_data)"
   ]
  },
  {
   "cell_type": "markdown",
   "metadata": {},
   "source": [
    "Now the work of extracting all the paths for each instance is done"
   ]
  },
  {
   "cell_type": "code",
   "execution_count": 9,
   "metadata": {
    "scrolled": false
   },
   "outputs": [
    {
     "name": "stdout",
     "output_type": "stream",
     "text": [
      "Walking forest for 1 instances... (please wait)\n",
      "Forest Walk with async = True\n",
      "Forest Walk time elapsed: 0.6948 seconds\n"
     ]
    }
   ],
   "source": [
    "print('Walking forest for ' + str(len(labels)) + ' instances... (please wait)')\n",
    "\n",
    "# set the timer\n",
    "forest_walk_start_time = timeit.default_timer()\n",
    "\n",
    "# do the walk - creates a paths_container (even for just one instance) as a new property\n",
    "# requires the X instances in a matrix (dense, ordinary numpy matrix) - this is available in the data_split_container\n",
    "f_walker.forest_walk(instances = instances_enc_matrix\n",
    "                    , labels = preds # we're explaining the prediction, not the true label!\n",
    "                    , forest_walk_async = forest_walk_async)\n",
    "\n",
    "# stop the timer\n",
    "forest_walk_end_time = timeit.default_timer()\n",
    "forest_walk_elapsed_time = forest_walk_end_time - forest_walk_start_time\n",
    "\n",
    "print('Forest Walk with async = ' + str(forest_walk_async))\n",
    "print('Forest Walk time elapsed:', \"{:0.4f}\".format(forest_walk_elapsed_time), 'seconds')"
   ]
  },
  {
   "cell_type": "markdown",
   "metadata": {},
   "source": [
    "# CHIRPS Steps 2-4: \n",
    "## Freqent pattern mining of paths.\n",
    "## Score and sort mined path segments.\n",
    "## Merge path segments into one rule.\n",
    "\n",
    "This is a wrapper object that will execute steps 2-4 on all the instance-paths in the batch_paths_container.\n",
    "\n",
    "Note that true_divide warnings are OK. It just means that a continuous variable is unbounded in some way i.e. no greater/less than discontinuity is used in the CHIRPS explanation.\n",
    "\n",
    "Note also, here we are using the training set to create the explainers. We could use a different dataset as long as it is representative of the training set that built the decision forest. Most important that we don't use the dataset that we wish to explain."
   ]
  },
  {
   "cell_type": "code",
   "execution_count": 10,
   "metadata": {
    "scrolled": false
   },
   "outputs": [
    {
     "name": "stdout",
     "output_type": "stream",
     "text": [
      "Running CHIRPS on a batch of 1 instances... (please wait)\n",
      "Working on CHIRPS for instance 0 of 1\n",
      "as_chirps for batch_idx 0\n",
      "start mining for batch_idx 0 with support = 0.1\n",
      "found 48 patterns from 983 for batch_idx 0\n",
      "start score sort for batch_idx 0 (48) patterns\n",
      "start merge rule for batch_idx 0 (48) patterns\n",
      "[('maint_vhigh', True, 0.5), ('maint_high', True, 0.5), ('persons_2', True, 0.5), ('safety_low', True, 0.5), ('lug_boot_small', True, 0.5)]\n",
      "0.95 0.14554360471835487 0.5954609303000724 0.6176211453744493\n",
      "merge complete for batch_idx 0 (48) patterns\n",
      "start get explainer for batch_idx 0\n",
      "CHIRPS time elapsed: 1.0320 seconds\n",
      "CHIRPS with async = False\n"
     ]
    }
   ],
   "source": [
    "chirps_explanation_async=False\n",
    "# get what the model predicts on the training sample\n",
    "sample_labels = rf.predict(tt.X_train_enc)\n",
    "\n",
    "# build CHIRPS and a rule for each instance represented in the path detail\n",
    "CHIRPS = strcts.CHIRPS_container(f_walker.path_detail,\n",
    "                                forest=rf,\n",
    "                                sample_instances=tt.X_train_enc, # any representative sample can be used\n",
    "                                # sample_labels=tt.y_train,  # any representative sample can be used\n",
    "                                sample_labels=sample_labels,\n",
    "                                meta_data=meta_data)\n",
    "\n",
    "print('Running CHIRPS on a batch of ' + str(len(labels)) + ' instances... (please wait)')\n",
    "# start a timer\n",
    "ce_start_time = timeit.default_timer()\n",
    "\n",
    "CHIRPS.batch_run_CHIRPS(target_classes=preds, # we're explaining the prediction, not the true label!\n",
    "                        chirps_explanation_async=chirps_explanation_async,\n",
    "                        random_state=random_state,\n",
    "                        which_trees=which_trees,\n",
    "                        alpha_paths=0.0,\n",
    "                        support_paths=0.1,\n",
    "                        score_func=1,\n",
    "                        precis_threshold=0.99,\n",
    "                        disc_path_bins=4,\n",
    "                        merging_bootstraps=20,\n",
    "                        pruning_bootstraps=20,\n",
    "                        delta=0.09,\n",
    "                        weighting='kldiv')\n",
    "\n",
    "ce_end_time = timeit.default_timer()\n",
    "ce_elapsed_time = ce_end_time - ce_start_time\n",
    "print('CHIRPS time elapsed:', \"{:0.4f}\".format(ce_elapsed_time), 'seconds')\n",
    "print('CHIRPS with async = ' + str(chirps_explanation_async))"
   ]
  },
  {
   "cell_type": "markdown",
   "metadata": {},
   "source": [
    "# Viewing and Evaluating CHIRPS explanations\n",
    "Evaluation is done using unseen data to see how well the explanations generalise. The data_split_container object (tt) has a  leave-one-out function that is used during the routine to ensure that the datum we are explaining is excluded from the evaluation."
   ]
  },
  {
   "cell_type": "code",
   "execution_count": 11,
   "metadata": {
    "scrolled": false
   },
   "outputs": [
    {
     "name": "stdout",
     "output_type": "stream",
     "text": [
      "evaluating found explanations\n",
      "\n",
      "INSTANCE RESULTS\n",
      "['instance id: 1633 with true class label: 0 (acc)']\n",
      "\n",
      "Model Results for Instance\n",
      "['target (predicted) class: 0 (acc)']\n",
      "target class prior (training data): 0.29256198347107437\n",
      "forest vote share (unseen instance): 0.5826347722444047\n",
      "forest vote margin (unseen instance): 0.16526954448880976\n",
      "confidence weighted forest vote share (unseen instance): 0.5292279757759837\n",
      "confidence weighted forest vote margin (unseen instance): 0.05845595155196737\n",
      "\n",
      "rule: maint_vhigh False AND maint_high False AND persons_2 False AND safety_low False AND lug_boot_small False\n",
      "rule cardinality: 4\n",
      "Fraction of total points of rule: 0.5954609303000724\n",
      "Fraction of total weight of rule: 0.6176211453744493\n",
      "\n",
      "Estimated Results - Rule Training Sample. Algorithm: greedy_stab\n",
      "rule coverage (training data): 0.07184145334434351\n",
      "rule xcoverage (training data): 0.0717230008244023\n",
      "rule precision (training data): 1.0\n",
      "rule stability (training data): 0.9775280898876404\n",
      "rule recall (training data): 0.24293785310734464\n",
      "rule f1 score (training data): 0.3909090909090909\n",
      "rule NPV (training data): 1.0\n",
      "rule lift (training data): 48.09157797924057\n",
      "prior (training data): [0.29256198 0.70743802]\n",
      "prior counts (training data): [354. 856.]\n",
      "rule posterior (training data): [1. 0.]\n",
      "rule posterior counts (training data): [86.  0.]\n",
      "rule chisq p-value (training data): 3.5142190086304167e-40\n",
      "rule Kullback-Leibler divergence (training data): 1.2290783043768807\n",
      "\n",
      "Results - Previously Unseen Sample\n",
      "target class prior (unseen data): 0.6847195357833655\n",
      "rule coverage (unseen data): 0.1525096525096525\n",
      "rule xcoverage (unseen data): 0.1519230769230769\n",
      "rule precision (unseen data): 0.9358974358974359\n",
      "rule stability (unseen data): 0.9135802469135802\n",
      "rule recall (unseen data): 0.44785276073619634\n",
      "rule f1 score (unseen data): 0.6058091286307054\n",
      "rule NPV (unseen data): 0.9858757062146892\n",
      "rule lift (unseen data): 19.67556156548606\n",
      "prior (unseen data): [0.68471954 0.31528046]\n",
      "prior counts (unseen data): [163. 354.]\n",
      "rule posterior (unseen data): [0.93589744 0.06410256]\n",
      "rule posterior counts (unseen data): [73.  5.]\n",
      "rule chisq p-value (unseen data): 5.724692044475378e-25\n",
      "rule Kullback-Leibler divergence (unseen data): 0.8664682526201197\n",
      "Evaluation Time: 1.0294415\n",
      "\n",
      "COUNTER FACTUAL RESULTS\n",
      "Feature Reversed: maint\n",
      "rule: persons_2 False AND safety_low False AND lug_boot_small False AND maint_low False AND maint_med False\n",
      "rule coverage (training data): 0.14781172584640792\n",
      "rule xcoverage (training data): 0.14756801319043694\n",
      "rule precision (training data): 0.5617977528089888\n",
      "rule stability (training data): 0.5580110497237569\n",
      "rule recall (training data): 0.2824858757062147\n",
      "rule f1 score (training data): 0.37593984962406013\n",
      "rule NPV (training data): 0.9088785046728972\n",
      "rule lift (training data): 13.053515042970236\n",
      "prior (training data): [0.29256198 0.70743802]\n",
      "prior counts (training data): [354. 856.]\n",
      "rule posterior (training data): [0.56179775 0.43820225]\n",
      "rule posterior counts (training data): [100.  78.]\n",
      "rule chisq p-value (training data): 1.6274323628852388e-12\n",
      "rule Kullback-Leibler divergence from original: 0.5766126893941662\n",
      "predictions for this rule complement\n",
      "['instance specific. expected class: 0 (acc)']\n",
      "classes: [0, 1]\n",
      "counts: [274. 243.]\n",
      "proba: [0.52998066 0.47001934]\n",
      "['allowed values. expected class: 0 (acc)']\n",
      "classes: [0, 1]\n",
      "counts: [452.  65.]\n",
      "proba: [0.87427466 0.12572534]\n",
      "\n",
      "Feature Reversed: persons\n",
      "rule: maint_vhigh False AND maint_high False AND persons_2 True AND safety_low False AND lug_boot_small False\n",
      "rule coverage (training data): 0.07431874483897605\n",
      "rule xcoverage (training data): 0.0741962077493817\n",
      "rule precision (training data): 0.0\n",
      "rule stability (training data): 0.010869565217391304\n",
      "rule recall (training data): 0.0\n",
      "rule f1 score (training data): 0.0\n",
      "rule NPV (training data): 0.8960280373831776\n",
      "rule lift (training data): 0.0\n",
      "prior (training data): [0.29256198 0.70743802]\n",
      "prior counts (training data): [354. 856.]\n",
      "rule posterior (training data): [0. 1.]\n",
      "rule posterior counts (training data): [ 0. 89.]\n",
      "rule chisq p-value (training data): 4.648117351758471e-09\n",
      "rule Kullback-Leibler divergence from original: 18.68355298446492\n",
      "predictions for this rule complement\n",
      "['instance specific. expected class: 1 (unacc)']\n",
      "classes: [0, 1]\n",
      "counts: [  0. 517.]\n",
      "proba: [0. 1.]\n",
      "['allowed values. expected class: 1 (unacc)']\n",
      "classes: [0, 1]\n",
      "counts: [  0. 517.]\n",
      "proba: [0. 1.]\n",
      "\n",
      "Feature Reversed: safety\n",
      "rule: maint_vhigh False AND maint_high False AND persons_2 False AND safety_low True AND lug_boot_small False\n",
      "rule coverage (training data): 0.08009909165978531\n",
      "rule xcoverage (training data): 0.07996702390766694\n",
      "rule precision (training data): 0.0\n",
      "rule stability (training data): 0.010101010101010102\n",
      "rule recall (training data): 0.0\n",
      "rule f1 score (training data): 0.0\n",
      "rule NPV (training data): 0.8878504672897196\n",
      "rule lift (training data): 0.0\n",
      "prior (training data): [0.29256198 0.70743802]\n",
      "prior counts (training data): [354. 856.]\n",
      "rule posterior (training data): [0. 1.]\n",
      "rule posterior counts (training data): [ 0. 96.]\n",
      "rule chisq p-value (training data): 1.1436108600404916e-09\n",
      "rule Kullback-Leibler divergence from original: 17.939485328689603\n",
      "predictions for this rule complement\n",
      "['instance specific. expected class: 1 (unacc)']\n",
      "classes: [0, 1]\n",
      "counts: [  0. 517.]\n",
      "proba: [0. 1.]\n",
      "['allowed values. expected class: 1 (unacc)']\n",
      "classes: [0, 1]\n",
      "counts: [  0. 517.]\n",
      "proba: [0. 1.]\n",
      "\n",
      "Feature Reversed: lug_boot\n",
      "rule: maint_vhigh False AND maint_high False AND persons_2 False AND safety_low False AND lug_boot_small True\n",
      "rule coverage (training data): 0.07184145334434351\n",
      "rule xcoverage (training data): 0.0717230008244023\n",
      "rule precision (training data): 0.6511627906976745\n",
      "rule stability (training data): 0.6404494382022472\n",
      "rule recall (training data): 0.15819209039548024\n",
      "rule f1 score (training data): 0.2545454545454546\n",
      "rule NPV (training data): 0.9649532710280374\n",
      "rule lift (training data): 31.315446126017118\n",
      "prior (training data): [0.29256198 0.70743802]\n",
      "prior counts (training data): [354. 856.]\n",
      "rule posterior (training data): [0.65116279 0.34883721]\n",
      "rule posterior counts (training data): [56. 30.]\n",
      "rule chisq p-value (training data): 1.1250782704900217e-11\n",
      "rule Kullback-Leibler divergence from original: 0.4289948825152341\n",
      "predictions for this rule complement\n",
      "['instance specific. expected class: 0 (acc)']\n",
      "classes: [0, 1]\n",
      "counts: [517.   0.]\n",
      "proba: [1. 0.]\n",
      "['allowed values. expected class: 0 (acc)']\n",
      "classes: [0, 1]\n",
      "counts: [260. 257.]\n",
      "proba: [0.50290135 0.49709865]\n",
      "\n",
      "CHIRPS batch results eval time elapsed: 0.2926 seconds\n"
     ]
    }
   ],
   "source": [
    "# iterate over all the test instances to determine the various scores using leave-one-out testing\n",
    "print('evaluating found explanations')\n",
    "print()\n",
    "results_start_time = timeit.default_timer()\n",
    "\n",
    "save_results_file = model + '_CHIRPS_rnst_' + str(random_state)\n",
    "\n",
    "rt.evaluate_explainers(CHIRPS, tt, labels.index, # for full batch runs: tt.y_test.index,\n",
    "                              forest=rf,\n",
    "                              meta_data=meta_data,\n",
    "                              model=model,\n",
    "                              eval_start_time=results_start_time,\n",
    "                              print_to_screen=True, # set True when running single instances\n",
    "                              eval_alt_labelings=True,\n",
    "                              eval_rule_complements=True,\n",
    "                              save_results_path=save_path,\n",
    "                              dataset_name='test',\n",
    "                              save_results_file=save_results_file,\n",
    "                              save_CHIRPS=False)\n",
    "\n",
    "results_end_time = timeit.default_timer()\n",
    "results_elapsed_time = results_end_time - results_start_time\n",
    "print('CHIRPS batch results eval time elapsed:', \"{:0.4f}\".format(results_elapsed_time), 'seconds')\n",
    "# this completes the CHIRPS runs"
   ]
  },
  {
   "cell_type": "code",
   "execution_count": null,
   "metadata": {},
   "outputs": [],
   "source": []
  }
 ],
 "metadata": {
  "kernelspec": {
   "display_name": "Python 3",
   "language": "python",
   "name": "python3"
  },
  "language_info": {
   "codemirror_mode": {
    "name": "ipython",
    "version": 3
   },
   "file_extension": ".py",
   "mimetype": "text/x-python",
   "name": "python",
   "nbconvert_exporter": "python",
   "pygments_lexer": "ipython3",
   "version": "3.7.3"
  }
 },
 "nbformat": 4,
 "nbformat_minor": 2
}
