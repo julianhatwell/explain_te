{
 "cells": [
  {
   "cell_type": "markdown",
   "metadata": {},
   "source": [
    "# prologue"
   ]
  },
  {
   "cell_type": "markdown",
   "metadata": {},
   "source": [
    "### set up notebook and load package"
   ]
  },
  {
   "cell_type": "code",
   "execution_count": 1,
   "metadata": {},
   "outputs": [],
   "source": [
    "# for notebook plotting\n",
    "%matplotlib inline \n",
    "\n",
    "# load what we need\n",
    "import time\n",
    "import timeit\n",
    "import CHIRPS.structures as strcts\n",
    "import CHIRPS.datasets as ds\n",
    "import CHIRPS.datasets_proprietary as dsp\n",
    "import CHIRPS.routines as rt\n",
    "\n",
    "# demo datasets that ship with package. all from UCI unless stated otherwise\n",
    "# import CHIRPS.datasets as ds\n",
    "# ds.adult_data, ds.adult_samp_data, ds.adult_small_samp_data Large dataset ships with manageable sub samples\n",
    "# ds.bankmark_data, ds.bankmark_samp_data\n",
    "# ds.car_data\n",
    "# ds.cardio_data this is the cardiotocography dataset\n",
    "# ds.credit_data\n",
    "# ds.german_data\n",
    "# ds.lending_data, ds.lending_samp_data, ds.lending_small_samp_data, ds.lending_tiny_samp_data from Kaggle. see datasets_from_source file for links\n",
    "# ds.nursery_data, ds.nursery_samp_data\n",
    "# ds.rcdv_data, ds.rcdv_samp_data from US government see datasets_from_source file for links"
   ]
  },
  {
   "cell_type": "markdown",
   "metadata": {},
   "source": [
    "### common config - can be ommitted if defaults are OK"
   ]
  },
  {
   "cell_type": "code",
   "execution_count": 2,
   "metadata": {},
   "outputs": [],
   "source": [
    "project_dir = '/datadisk/whiteboxing/examples'\n",
    "# project_dir = 'V:\\\\whiteboxing\\\\examples' # defaults to a directory \"whiteboxing\" in the working directory\n",
    "# project_dir = 'C:\\\\Users\\\\Crutt\\\\Documents\\\\whiteboxing\\\\exampada'\n",
    "\n",
    "random_state_splits = 123 # one off for splitting the data into test / train\n",
    "random_state = 123 # for everything else - e.g. building a new rf with same data"
   ]
  },
  {
   "cell_type": "markdown",
   "metadata": {},
   "source": [
    "# Build a Random Forest Model to Predict and Explain\n",
    "First, a wrapper is created for the dataset. Use one that ships with the package, or create your own.\n",
    "Then split the data into training and (hold out) test set using the convenience functions in the package. These return an object that contain the split data in various representations, such as Pandas DataFrames and encoded, sparse matrices."
   ]
  },
  {
   "cell_type": "code",
   "execution_count": 3,
   "metadata": {},
   "outputs": [],
   "source": [
    "# load one of the included datasets\n",
    "# project_dir will default to directory name CHIRPS in the working directory if not given\n",
    "# random_state will default to 123\n",
    "#mydata = dsp.usoc2(random_state=random_state_splits, project_dir=project_dir)\n",
    "\n",
    "# class imbalance\n",
    "#import pandas_ml\n",
    "#meta_data['get_label'](meta_data['class_col'], 4)"
   ]
  },
  {
   "cell_type": "code",
   "execution_count": 4,
   "metadata": {
    "scrolled": false
   },
   "outputs": [
    {
     "name": "stdout",
     "output_type": "stream",
     "text": [
      "using previous tuning parameters\n",
      "Best OOB Accuracy Estimate during tuning: 0.6693\n",
      "Best parameters:{'max_depth': 32.0, 'n_estimators': 1400, 'oob_score': True, 'random_state': 123}\n",
      "\n",
      "Confusion matrix, without normalization\n",
      "[[2928  611]\n",
      " [1366  758]]\n"
     ]
    },
    {
     "data": {
      "image/png": "[encoded data removed]",
      "text/plain": [
       "<Figure size 432x288 with 2 Axes>"
      ]
     },
     "metadata": {
      "needs_background": "light"
     },
     "output_type": "display_data"
    },
    {
     "name": "stdout",
     "output_type": "stream",
     "text": [
      "Normalized confusion matrix\n",
      "[[0.83 0.17]\n",
      " [0.64 0.36]]\n"
     ]
    },
    {
     "data": {
      "image/png": "[encoded data removed]",
      "text/plain": [
       "<Figure size 432x288 with 2 Axes>"
      ]
     },
     "metadata": {
      "needs_background": "light"
     },
     "output_type": "display_data"
    }
   ],
   "source": [
    "# load one of the included datasets\n",
    "# project_dir will default to directory name CHIRPS in the working directory if not given\n",
    "# random_state will default to 123\n",
    "#mydata = dsp.usoc2(random_state=random_state_splits, project_dir=project_dir)\n",
    "#mydata = ds.mhtech14(random_state=random_state_splits, project_dir=project_dir)\n",
    "mydata = ds.rcdv(random_state=random_state_splits, project_dir=project_dir)\n",
    "\n",
    "meta_data = mydata.get_meta()\n",
    "save_path = meta_data['get_save_path']()\n",
    "\n",
    "# split the data. here using a basic sampling method.\n",
    "# the returned object is a wrapper class that contains\n",
    "# the train and test splits for X and y\n",
    "\n",
    "# also the the encoded versions of X_train and X_test that the rf will use\n",
    "# this is because we prefer onehot encoded over allowing categorical vars to be represented as integer\n",
    "# scikit would treat these as ordinal, which is inappropriate\n",
    "\n",
    "# also some meta-data: priors for y, the indexes from the input data\n",
    "\n",
    "# also some convenience functions for leave-one-out testing\n",
    "\n",
    "# train test split - one off hard-coded random state.\n",
    "# random state can be ommitted \n",
    "# and will default to the state held in the dataset container\n",
    "# which defaults to 123 if ommitted in the constructor\n",
    "train_index, test_index = mydata.get_tt_split_idx(random_state=random_state_splits)\n",
    "# optionally, indexes can be ommitted and will default to scikit's train_test_split method\n",
    "tt = mydata.tt_split(train_index, test_index)\n",
    "\n",
    "# build model, tuned for high accuracy\n",
    "model = 'RandomForest'\n",
    "# model = 'AdaBoost1'\n",
    "# model = 'AdaBoost2'\n",
    "# model = 'GBM'\n",
    "\n",
    "# decide if to run the whole tuning routine again (long for Adaboost)\n",
    "# RF routine has a default tuning grid, so can leave as None, or come up with some other options\n",
    "tuning = {'grid' : None, 'override' : False}\n",
    "if model == 'RandomForest':\n",
    "    which_trees = 'majority'\n",
    "    tuning.update({'grid' : None}) # defaults to n_trees [200, 400, ..., 1600]\n",
    "\n",
    "elif model in ('AdaBoost1', 'AdaBoost2'):\n",
    "    if model == 'AdaBoost1':\n",
    "        # classic (and multi-class) AdaBoost\n",
    "        algo = 'SAMME'\n",
    "        which_trees = 'majority'\n",
    "    else:\n",
    "        algo = 'SAMME.R'\n",
    "        which_trees = 'conf_weighted'\n",
    "    max_depth = [i for i in range(1, 5)]\n",
    "    tuning.update({'grid' : {'base_estimator' : [rt.DecisionTreeClassifier(max_depth=d) for d in max_depth],\n",
    "                            'n_estimators': [(i + 1) * 200 for i in range(8)], 'algorithm': [algo]}})\n",
    "    \n",
    "else: # GBM - not fully implemented yet\n",
    "    stop # ValueError\n",
    "\n",
    "rf = rt.forest_prep(ds_container=tt,\n",
    "                    meta_data=meta_data,\n",
    "                    # override_tuning=True,\n",
    "                    model=model,\n",
    "                    tuning_grid=tuning['grid'],\n",
    "                    save_path=save_path,\n",
    "                    plot_cm=True, plot_cm_norm=True)"
   ]
  },
  {
   "cell_type": "markdown",
   "metadata": {},
   "source": [
    "# Preparing unseen data\n",
    "\n",
    "Again note:\n",
    "test set has never been \"seen\" by random forest during training\n",
    "test set has been only used to assess model (random forest) accuracy - no additional tuning after this\n",
    "test set has not be involved in generating the explainer"
   ]
  },
  {
   "cell_type": "markdown",
   "metadata": {},
   "source": [
    "## optional: memory and computation cost management\n",
    "#### CHIRPS is time economical but memory intensive to compute for lots of instances at once\n",
    "option 1: choose a smaller number of instances to explain"
   ]
  },
  {
   "cell_type": "code",
   "execution_count": 5,
   "metadata": {},
   "outputs": [],
   "source": [
    "# control for async processes - each tree walk can be done in its own core\n",
    "# and so can each explanation (e.g. rule conditions merge by hill-climbing)\n",
    "# these will default to false if not passed explicitly to the explainer function\n",
    "# on a multi-core machine there should be a good speed up for large batches\n",
    "# when the batch_size advantage exceeds the overhead of setting up multi-processing\n",
    "# timings will be printed to screen so you can see if it helps\n",
    "forest_walk_async=True\n",
    "chirps_explanation_async=True\n",
    "\n",
    "# how many instances to explain in total from a test/unseen set\n",
    "# doesn't matter if you don't know how large the dataset is\n",
    "# this function prevents you maxing out, or put n_instances = None for whole dataset\n",
    "n_instances = rt.n_instance_ceiling(ds_container=tt, n_instances=20)\n",
    "\n",
    "# this gets the next batch out of the data_split_container according to the required number of instances\n",
    "# all formats can be extracted, depending on the requirement\n",
    "# unencoded, encoded (sparse matrix is the type returned by scikit), ordinary dense matrix also available\n",
    "# tt.current_row_test = 0\n",
    "instances, _, instances_enc, instances_enc_matrix, labels = tt.get_next(n_instances, which_split='test') # default"
   ]
  },
  {
   "cell_type": "markdown",
   "metadata": {},
   "source": [
    "option 2: just run the whole test set"
   ]
  },
  {
   "cell_type": "code",
   "execution_count": 6,
   "metadata": {},
   "outputs": [],
   "source": [
    "# instances = tt.X_test; instances_enc = tt.X_test_enc; instances_enc_matrix = tt.X_test_enc_matrix; labels = tt.y_test"
   ]
  },
  {
   "cell_type": "markdown",
   "metadata": {},
   "source": [
    "## Make predictions from the decision forest on the unseen data\n",
    "Important point, no compromise on model accuracy"
   ]
  },
  {
   "cell_type": "code",
   "execution_count": 7,
   "metadata": {},
   "outputs": [],
   "source": [
    "# get all the model predictions for the test instance(s) we're looking at\n",
    "preds_idx = labels.index\n",
    "preds = rf.predict(X=instances_enc)"
   ]
  },
  {
   "cell_type": "markdown",
   "metadata": {},
   "source": [
    "# CHIRPS Step 1:\n",
    "## Extract Tree Prediction Paths\n",
    "### Fit a forest_walker object to the dataset and decision forest\n",
    "This is a wrapper will extracts the paths of all the given instances. For CHIRPS, we want a large sample. The whole training set or other representative sample will do.\n",
    "\n",
    "It can also report interesting statistics (treating the forest as a set of random tree-structured variables)."
   ]
  },
  {
   "cell_type": "code",
   "execution_count": 8,
   "metadata": {},
   "outputs": [],
   "source": [
    "# wrapper object needs the decision forest itself and the dataset meta data (we have a convenience function for this)\n",
    "f_walker = strcts.forest_walker(forest = rf, meta_data=meta_data)"
   ]
  },
  {
   "cell_type": "markdown",
   "metadata": {},
   "source": [
    "Now the work of extracting all the paths for each instance is done"
   ]
  },
  {
   "cell_type": "code",
   "execution_count": 9,
   "metadata": {
    "scrolled": false
   },
   "outputs": [
    {
     "name": "stdout",
     "output_type": "stream",
     "text": [
      "Walking forest for 20 instances... (please wait)\n",
      "Forest Walk with async = True\n",
      "Forest Walk time elapsed: 4.4306 seconds\n"
     ]
    }
   ],
   "source": [
    "print('Walking forest for ' + str(len(labels)) + ' instances... (please wait)')\n",
    "\n",
    "# set the timer\n",
    "forest_walk_start_time = timeit.default_timer()\n",
    "\n",
    "# do the walk - creates a paths_container (even for just one instance) as a new property\n",
    "# requires the X instances in a matrix (dense, ordinary numpy matrix) - this is available in the data_split_container\n",
    "f_walker.forest_walk(instances = instances_enc_matrix\n",
    "                    , labels = preds # we're explaining the prediction, not the true label!\n",
    "                    , forest_walk_async = forest_walk_async)\n",
    "\n",
    "# stop the timer\n",
    "forest_walk_end_time = timeit.default_timer()\n",
    "forest_walk_elapsed_time = forest_walk_end_time - forest_walk_start_time\n",
    "\n",
    "print('Forest Walk with async = ' + str(forest_walk_async))\n",
    "print('Forest Walk time elapsed:', \"{:0.4f}\".format(forest_walk_elapsed_time), 'seconds')"
   ]
  },
  {
   "cell_type": "markdown",
   "metadata": {},
   "source": [
    "# CHIRPS Steps 2-4: \n",
    "## Freqent pattern mining of paths.\n",
    "## Score and sort mined path segments.\n",
    "## Merge path segments into one rule.\n",
    "\n",
    "This is a wrapper object that will execute steps 2-4 on all the instance-paths in the batch_paths_container.\n",
    "\n",
    "Note that true_divide warnings are OK. It just means that a continuous variable is unbounded in some way i.e. no greater/less than discontinuity is used in the CHIRPS explanation.\n",
    "\n",
    "Note also, here we are using the training set to create the explainers. We could use a different dataset as long as it is representative of the training set that built the decision forest. Most important that we don't use the dataset that we wish to explain."
   ]
  },
  {
   "cell_type": "code",
   "execution_count": 10,
   "metadata": {
    "scrolled": false
   },
   "outputs": [
    {
     "name": "stdout",
     "output_type": "stream",
     "text": [
      "Running CHIRPS on a batch of 20 instances... (please wait)\n",
      "as_chirps for batch_idx 0\n",
      "start mining for batch_idx 0\n"
     ]
    },
    {
     "name": "stderr",
     "output_type": "stream",
     "text": [
      "/home/julianhatwell/Documents/github/explain_te/CHIRPS/structures.py:1373: RuntimeWarning: invalid value encountered in true_divide\n",
      "  np.histogram(uppers, upper_bins)[0]).round(5) # can result in nans if no value falls into bin\n",
      "/home/julianhatwell/Documents/github/explain_te/CHIRPS/structures.py:1378: RuntimeWarning: invalid value encountered in true_divide\n",
      "  np.histogram(lowers, lower_bins)[0]).round(5) # can result in nans\n"
     ]
    },
    {
     "name": "stdout",
     "output_type": "stream",
     "text": [
      "found 124 patterns from 919 for batch_idx 0\n",
      "start score sort for batch_idx 0\n",
      "as_chirps for batch_idx 1\n",
      "start mining for batch_idx 1\n"
     ]
    },
    {
     "name": "stderr",
     "output_type": "stream",
     "text": [
      "/home/julianhatwell/Documents/github/explain_te/CHIRPS/structures.py:1373: RuntimeWarning: invalid value encountered in true_divide\n",
      "  np.histogram(uppers, upper_bins)[0]).round(5) # can result in nans if no value falls into bin\n",
      "/home/julianhatwell/Documents/github/explain_te/CHIRPS/structures.py:1378: RuntimeWarning: invalid value encountered in true_divide\n",
      "  np.histogram(lowers, lower_bins)[0]).round(5) # can result in nans\n"
     ]
    },
    {
     "name": "stdout",
     "output_type": "stream",
     "text": [
      "start merge rule for batch_idx 0 (124) patterns\n",
      "as_chirps for batch_idx 2\n",
      "start mining for batch_idx 2\n"
     ]
    },
    {
     "name": "stderr",
     "output_type": "stream",
     "text": [
      "/home/julianhatwell/Documents/github/explain_te/CHIRPS/structures.py:1373: RuntimeWarning: invalid value encountered in true_divide\n",
      "  np.histogram(uppers, upper_bins)[0]).round(5) # can result in nans if no value falls into bin\n",
      "/home/julianhatwell/Documents/github/explain_te/CHIRPS/structures.py:1378: RuntimeWarning: invalid value encountered in true_divide\n",
      "  np.histogram(lowers, lower_bins)[0]).round(5) # can result in nans\n"
     ]
    },
    {
     "name": "stdout",
     "output_type": "stream",
     "text": [
      "as_chirps for batch_idx 3\n",
      "found 2283 patterns from 968 for batch_idx 1\n",
      "start mining for batch_idx 3\n"
     ]
    },
    {
     "name": "stderr",
     "output_type": "stream",
     "text": [
      "/home/julianhatwell/Documents/github/explain_te/CHIRPS/structures.py:1373: RuntimeWarning: invalid value encountered in true_divide\n",
      "  np.histogram(uppers, upper_bins)[0]).round(5) # can result in nans if no value falls into bin\n"
     ]
    },
    {
     "name": "stdout",
     "output_type": "stream",
     "text": [
      "start score sort for batch_idx 1\n"
     ]
    },
    {
     "name": "stderr",
     "output_type": "stream",
     "text": [
      "/home/julianhatwell/Documents/github/explain_te/CHIRPS/structures.py:1378: RuntimeWarning: invalid value encountered in true_divide\n",
      "  np.histogram(lowers, lower_bins)[0]).round(5) # can result in nans\n"
     ]
    },
    {
     "name": "stdout",
     "output_type": "stream",
     "text": [
      "as_chirps for batch_idx 4\n",
      "start mining for batch_idx 4\n"
     ]
    },
    {
     "name": "stderr",
     "output_type": "stream",
     "text": [
      "/home/julianhatwell/Documents/github/explain_te/CHIRPS/structures.py:1373: RuntimeWarning: invalid value encountered in true_divide\n",
      "  np.histogram(uppers, upper_bins)[0]).round(5) # can result in nans if no value falls into bin\n",
      "/home/julianhatwell/Documents/github/explain_te/CHIRPS/structures.py:1378: RuntimeWarning: invalid value encountered in true_divide\n",
      "  np.histogram(lowers, lower_bins)[0]).round(5) # can result in nans\n"
     ]
    },
    {
     "name": "stdout",
     "output_type": "stream",
     "text": [
      "found 5266 patterns from 721 for batch_idx 2\n",
      "start score sort for batch_idx 2\n",
      "as_chirps for batch_idx 5\n",
      "start mining for batch_idx 5\n"
     ]
    },
    {
     "name": "stderr",
     "output_type": "stream",
     "text": [
      "/home/julianhatwell/Documents/github/explain_te/CHIRPS/structures.py:1373: RuntimeWarning: invalid value encountered in true_divide\n",
      "  np.histogram(uppers, upper_bins)[0]).round(5) # can result in nans if no value falls into bin\n",
      "/home/julianhatwell/Documents/github/explain_te/CHIRPS/structures.py:1378: RuntimeWarning: invalid value encountered in true_divide\n",
      "  np.histogram(lowers, lower_bins)[0]).round(5) # can result in nans\n"
     ]
    },
    {
     "name": "stdout",
     "output_type": "stream",
     "text": [
      "found 821 patterns from 987 for batch_idx 4\n",
      "start score sort for batch_idx 4\n",
      "as_chirps for batch_idx 6\n",
      "start mining for batch_idx 6\n",
      "found 3445 patterns from 925 for batch_idx 3\n"
     ]
    },
    {
     "name": "stderr",
     "output_type": "stream",
     "text": [
      "/home/julianhatwell/Documents/github/explain_te/CHIRPS/structures.py:1373: RuntimeWarning: invalid value encountered in true_divide\n",
      "  np.histogram(uppers, upper_bins)[0]).round(5) # can result in nans if no value falls into bin\n"
     ]
    },
    {
     "name": "stdout",
     "output_type": "stream",
     "text": [
      "start score sort for batch_idx 3\n"
     ]
    },
    {
     "name": "stderr",
     "output_type": "stream",
     "text": [
      "/home/julianhatwell/Documents/github/explain_te/CHIRPS/structures.py:1378: RuntimeWarning: invalid value encountered in true_divide\n",
      "  np.histogram(lowers, lower_bins)[0]).round(5) # can result in nans\n"
     ]
    },
    {
     "name": "stdout",
     "output_type": "stream",
     "text": [
      "found 361 patterns from 943 for batch_idx 5\n",
      "start score sort for batch_idx 5\n",
      "as_chirps for batch_idx 7\n",
      "start mining for batch_idx 7\n"
     ]
    },
    {
     "name": "stderr",
     "output_type": "stream",
     "text": [
      "/home/julianhatwell/Documents/github/explain_te/CHIRPS/structures.py:1373: RuntimeWarning: invalid value encountered in true_divide\n",
      "  np.histogram(uppers, upper_bins)[0]).round(5) # can result in nans if no value falls into bin\n",
      "/home/julianhatwell/Documents/github/explain_te/CHIRPS/structures.py:1378: RuntimeWarning: invalid value encountered in true_divide\n",
      "  np.histogram(lowers, lower_bins)[0]).round(5) # can result in nans\n"
     ]
    },
    {
     "name": "stdout",
     "output_type": "stream",
     "text": [
      "start merge rule for batch_idx 5 (361) patterns\n",
      "found 281 patterns from 1174 for batch_idx 7\n",
      "start score sort for batch_idx 7\n",
      "found 1180 patterns from 1091 for batch_idx 6\n",
      "start merge rule for batch_idx 4 (821) patterns\n",
      "start score sort for batch_idx 6\n",
      "as_chirps for batch_idx 8\n",
      "start mining for batch_idx 8\n"
     ]
    },
    {
     "name": "stderr",
     "output_type": "stream",
     "text": [
      "/home/julianhatwell/Documents/github/explain_te/CHIRPS/structures.py:1373: RuntimeWarning: invalid value encountered in true_divide\n",
      "  np.histogram(uppers, upper_bins)[0]).round(5) # can result in nans if no value falls into bin\n",
      "/home/julianhatwell/Documents/github/explain_te/CHIRPS/structures.py:1378: RuntimeWarning: invalid value encountered in true_divide\n",
      "  np.histogram(lowers, lower_bins)[0]).round(5) # can result in nans\n"
     ]
    },
    {
     "name": "stdout",
     "output_type": "stream",
     "text": [
      "start merge rule for batch_idx 7 (281) patterns\n",
      "as_chirps for batch_idx 9\n",
      "start mining for batch_idx 9\n"
     ]
    },
    {
     "name": "stderr",
     "output_type": "stream",
     "text": [
      "/home/julianhatwell/Documents/github/explain_te/CHIRPS/structures.py:1373: RuntimeWarning: invalid value encountered in true_divide\n",
      "  np.histogram(uppers, upper_bins)[0]).round(5) # can result in nans if no value falls into bin\n",
      "/home/julianhatwell/Documents/github/explain_te/CHIRPS/structures.py:1378: RuntimeWarning: invalid value encountered in true_divide\n",
      "  np.histogram(lowers, lower_bins)[0]).round(5) # can result in nans\n"
     ]
    },
    {
     "name": "stdout",
     "output_type": "stream",
     "text": [
      "found 105 patterns from 784 for batch_idx 8\n",
      "start score sort for batch_idx 8\n",
      "start merge rule for batch_idx 8 (105) patterns\n",
      "start merge rule for batch_idx 1 (2283) patterns\n",
      "found 1457 patterns from 1171 for batch_idx 9\n",
      "start score sort for batch_idx 9\n",
      "start merge rule for batch_idx 6 (1180) patterns\n",
      "0.8151951911081905 2 0 0.11988490404888379 0.11352805534204455\n",
      "start merge rule for batch_idx 9 (1457) patterns\n",
      "[('age', True, 246.92397), ('priors', False, 0.375)]\n",
      "merge complete for batch_idx 0\n",
      "start get explainer for batch_idx 0\n",
      "as_chirps for batch_idx 10\n",
      "start mining for batch_idx 10\n"
     ]
    },
    {
     "name": "stderr",
     "output_type": "stream",
     "text": [
      "/home/julianhatwell/Documents/github/explain_te/CHIRPS/structures.py:1373: RuntimeWarning: invalid value encountered in true_divide\n",
      "  np.histogram(uppers, upper_bins)[0]).round(5) # can result in nans if no value falls into bin\n",
      "/home/julianhatwell/Documents/github/explain_te/CHIRPS/structures.py:1378: RuntimeWarning: invalid value encountered in true_divide\n",
      "  np.histogram(lowers, lower_bins)[0]).round(5) # can result in nans\n"
     ]
    },
    {
     "name": "stdout",
     "output_type": "stream",
     "text": [
      "start merge rule for batch_idx 3 (3445) patterns\n",
      "found 1602 patterns from 782 for batch_idx 10\n",
      "start score sort for batch_idx 10\n",
      "0.9559367183074551 3 34 0.10856452322206919 0.10092434374285217\n",
      "start merge rule for batch_idx 2 (5266) patterns\n",
      "0.7618796465097798 5 0 0.06401777607686097 0.08554107305244012\n",
      "[('age', False, 256.75), ('age', False, 575.03571), ('priors', True, 1.69582), ('rule', True, 1.05614)]\n",
      "merge complete for batch_idx 7\n",
      "start get explainer for batch_idx 7\n",
      "start merge rule for batch_idx 10 (1602) patterns\n",
      "[('priors', True, 11.20489)]\n",
      "merge complete for batch_idx 8\n",
      "start get explainer for batch_idx 8\n",
      "as_chirps for batch_idx 11\n",
      "start mining for batch_idx 11\n"
     ]
    },
    {
     "name": "stderr",
     "output_type": "stream",
     "text": [
      "/home/julianhatwell/Documents/github/explain_te/CHIRPS/structures.py:1373: RuntimeWarning: invalid value encountered in true_divide\n",
      "  np.histogram(uppers, upper_bins)[0]).round(5) # can result in nans if no value falls into bin\n",
      "/home/julianhatwell/Documents/github/explain_te/CHIRPS/structures.py:1378: RuntimeWarning: invalid value encountered in true_divide\n",
      "  np.histogram(lowers, lower_bins)[0]).round(5) # can result in nans\n"
     ]
    },
    {
     "name": "stdout",
     "output_type": "stream",
     "text": [
      "as_chirps for batch_idx 12\n",
      "start mining for batch_idx 12\n"
     ]
    },
    {
     "name": "stderr",
     "output_type": "stream",
     "text": [
      "/home/julianhatwell/Documents/github/explain_te/CHIRPS/structures.py:1373: RuntimeWarning: invalid value encountered in true_divide\n",
      "  np.histogram(uppers, upper_bins)[0]).round(5) # can result in nans if no value falls into bin\n",
      "/home/julianhatwell/Documents/github/explain_te/CHIRPS/structures.py:1378: RuntimeWarning: invalid value encountered in true_divide\n",
      "  np.histogram(lowers, lower_bins)[0]).round(5) # can result in nans\n"
     ]
    },
    {
     "name": "stdout",
     "output_type": "stream",
     "text": [
      "found 310 patterns from 1216 for batch_idx 12\n",
      "start score sort for batch_idx 12\n",
      "start merge rule for batch_idx 12 (310) patterns\n",
      "0.7914097139087065 1 0 0.0653312932238043 0.07169751893369991\n",
      "[('priors', True, 2.87858), ('tservd', True, 28.39559), ('white', False, 0.375)]\n",
      "merge complete for batch_idx 5\n",
      "start get explainer for batch_idx 5\n",
      "as_chirps for batch_idx 13\n",
      "start mining for batch_idx 13\n"
     ]
    },
    {
     "name": "stderr",
     "output_type": "stream",
     "text": [
      "/home/julianhatwell/Documents/github/explain_te/CHIRPS/structures.py:1373: RuntimeWarning: invalid value encountered in true_divide\n",
      "  np.histogram(uppers, upper_bins)[0]).round(5) # can result in nans if no value falls into bin\n",
      "/home/julianhatwell/Documents/github/explain_te/CHIRPS/structures.py:1378: RuntimeWarning: invalid value encountered in true_divide\n",
      "  np.histogram(lowers, lower_bins)[0]).round(5) # can result in nans\n"
     ]
    },
    {
     "name": "stdout",
     "output_type": "stream",
     "text": [
      "found 227 patterns from 941 for batch_idx 13\n",
      "start score sort for batch_idx 13\n",
      "start merge rule for batch_idx 13 (227) patterns\n",
      "found 28885 patterns from 826 for batch_idx 11\n",
      "start score sort for batch_idx 11\n",
      "0.8046340055090944 1 0 0.062098881970041896 0.06365852804964815\n",
      "0.9082404480749894 1 0 0.1562613872140391 0.1561888468343899\n",
      "[('age', False, 391.6125), ('priors', True, 3.42275)]\n",
      "merge complete for batch_idx 4\n",
      "start get explainer for batch_idx 4\n",
      "[('male', True, 0.5), ('priors', True, 0.98969), ('rule', True, 1.06046), ('white', False, 0.375)]\n",
      "merge complete for batch_idx 12\n",
      "start get explainer for batch_idx 12\n",
      "as_chirps for batch_idx 14\n",
      "start mining for batch_idx 14\n"
     ]
    },
    {
     "name": "stderr",
     "output_type": "stream",
     "text": [
      "/home/julianhatwell/Documents/github/explain_te/CHIRPS/structures.py:1373: RuntimeWarning: invalid value encountered in true_divide\n",
      "  np.histogram(uppers, upper_bins)[0]).round(5) # can result in nans if no value falls into bin\n",
      "/home/julianhatwell/Documents/github/explain_te/CHIRPS/structures.py:1378: RuntimeWarning: invalid value encountered in true_divide\n",
      "  np.histogram(lowers, lower_bins)[0]).round(5) # can result in nans\n"
     ]
    },
    {
     "name": "stdout",
     "output_type": "stream",
     "text": [
      "as_chirps for batch_idx 15\n",
      "start mining for batch_idx 15\n"
     ]
    },
    {
     "name": "stderr",
     "output_type": "stream",
     "text": [
      "/home/julianhatwell/Documents/github/explain_te/CHIRPS/structures.py:1373: RuntimeWarning: invalid value encountered in true_divide\n",
      "  np.histogram(uppers, upper_bins)[0]).round(5) # can result in nans if no value falls into bin\n",
      "/home/julianhatwell/Documents/github/explain_te/CHIRPS/structures.py:1378: RuntimeWarning: invalid value encountered in true_divide\n",
      "  np.histogram(lowers, lower_bins)[0]).round(5) # can result in nans\n"
     ]
    },
    {
     "name": "stdout",
     "output_type": "stream",
     "text": [
      "found 963 patterns from 736 for batch_idx 14\n",
      "start score sort for batch_idx 14\n",
      "found 662 patterns from 865 for batch_idx 15\n",
      "start score sort for batch_idx 15\n",
      "start merge rule for batch_idx 15 (662) patterns\n",
      "start merge rule for batch_idx 14 (963) patterns\n",
      "0.87840091392957 2 0 0.10610621772355068 0.10079467371362048\n",
      "[('priors', True, 1.04217), ('rule', True, 0.89204)]\n",
      "merge complete for batch_idx 9\n",
      "start get explainer for batch_idx 9\n",
      "as_chirps for batch_idx 16\n",
      "start mining for batch_idx 16\n"
     ]
    },
    {
     "name": "stderr",
     "output_type": "stream",
     "text": [
      "/home/julianhatwell/Documents/github/explain_te/CHIRPS/structures.py:1373: RuntimeWarning: invalid value encountered in true_divide\n",
      "  np.histogram(uppers, upper_bins)[0]).round(5) # can result in nans if no value falls into bin\n",
      "/home/julianhatwell/Documents/github/explain_te/CHIRPS/structures.py:1378: RuntimeWarning: invalid value encountered in true_divide\n",
      "  np.histogram(lowers, lower_bins)[0]).round(5) # can result in nans\n"
     ]
    },
    {
     "name": "stdout",
     "output_type": "stream",
     "text": [
      "found 250 patterns from 707 for batch_idx 16\n",
      "start score sort for batch_idx 16\n",
      "start merge rule for batch_idx 16 (250) patterns\n",
      "0.9098198707313955 4 0 0.030023030342079097 0.03719701321079838\n",
      "[('age', False, 640.8977), ('rule', True, 1.1126), ('priors', True, 9.7832), ('school', True, 10.05271), ('school', False, 5.12214)]\n",
      "merge complete for batch_idx 13\n",
      "start get explainer for batch_idx 13\n",
      "as_chirps for batch_idx 17\n",
      "start mining for batch_idx 17\n"
     ]
    },
    {
     "name": "stderr",
     "output_type": "stream",
     "text": [
      "/home/julianhatwell/Documents/github/explain_te/CHIRPS/structures.py:1373: RuntimeWarning: invalid value encountered in true_divide\n",
      "  np.histogram(uppers, upper_bins)[0]).round(5) # can result in nans if no value falls into bin\n",
      "/home/julianhatwell/Documents/github/explain_te/CHIRPS/structures.py:1378: RuntimeWarning: invalid value encountered in true_divide\n",
      "  np.histogram(lowers, lower_bins)[0]).round(5) # can result in nans\n"
     ]
    },
    {
     "name": "stdout",
     "output_type": "stream",
     "text": [
      "found 1145 patterns from 981 for batch_idx 17\n",
      "start score sort for batch_idx 17\n",
      "start merge rule for batch_idx 17 (1145) patterns\n",
      "0.7478079409073419 4 0 0.012938875827014569 0.013500140286619666\n",
      "[('priors', True, 3.07302), ('tservd', True, 13.59771), ('tservd', False, 3.49102)]\n",
      "merge complete for batch_idx 1\n",
      "start get explainer for batch_idx 1\n",
      "as_chirps for batch_idx 18\n",
      "start mining for batch_idx 18\n"
     ]
    },
    {
     "name": "stderr",
     "output_type": "stream",
     "text": [
      "/home/julianhatwell/Documents/github/explain_te/CHIRPS/structures.py:1373: RuntimeWarning: invalid value encountered in true_divide\n",
      "  np.histogram(uppers, upper_bins)[0]).round(5) # can result in nans if no value falls into bin\n",
      "/home/julianhatwell/Documents/github/explain_te/CHIRPS/structures.py:1378: RuntimeWarning: invalid value encountered in true_divide\n",
      "  np.histogram(lowers, lower_bins)[0]).round(5) # can result in nans\n"
     ]
    },
    {
     "name": "stdout",
     "output_type": "stream",
     "text": [
      "found 285 patterns from 801 for batch_idx 18\n",
      "start score sort for batch_idx 18\n",
      "start merge rule for batch_idx 18 (285) patterns\n",
      "0.8390652771210079 5 0 0.1581922610059706 0.1289519830316876\n",
      "0.8877293704026201 2 0 0.09281340402073304 0.09340958605664486\n",
      "0.802351966071272 3 0 0.07856114242652243 0.0656432265874326\n",
      "[('propty', True, 0.5), ('rule', True, 1.12552)]\n",
      "merge complete for batch_idx 15\n",
      "start get explainer for batch_idx 15\n",
      "[('priors', True, 4.31088), ('rule', True, 7.78326)]\n",
      "merge complete for batch_idx 16\n",
      "start get explainer for batch_idx 16\n",
      "[('age', False, 264.72576), ('priors', True, 1.23164)]\n",
      "merge complete for batch_idx 10\n",
      "start get explainer for batch_idx 10\n",
      "as_chirps for batch_idx 19\n",
      "start mining for batch_idx 19\n"
     ]
    },
    {
     "name": "stderr",
     "output_type": "stream",
     "text": [
      "/home/julianhatwell/Documents/github/explain_te/CHIRPS/structures.py:1373: RuntimeWarning: invalid value encountered in true_divide\n",
      "  np.histogram(uppers, upper_bins)[0]).round(5) # can result in nans if no value falls into bin\n",
      "/home/julianhatwell/Documents/github/explain_te/CHIRPS/structures.py:1378: RuntimeWarning: invalid value encountered in true_divide\n",
      "  np.histogram(lowers, lower_bins)[0]).round(5) # can result in nans\n"
     ]
    },
    {
     "name": "stdout",
     "output_type": "stream",
     "text": [
      "found 275 patterns from 729 for batch_idx 19\n",
      "start score sort for batch_idx 19\n",
      "0.8718786734172091 2 0 0.030258640945456623 0.031376113833713914\n",
      "start merge rule for batch_idx 19 (275) patterns\n",
      "[('age', False, 257.68227), ('age', False, 505.55425), ('priors', True, 1.94217), ('rule', True, 0.9726)]\n",
      "merge complete for batch_idx 6\n",
      "start get explainer for batch_idx 6\n",
      "0.7718163399739055 5 0 0.05504566713921511 0.03813577236918135\n",
      "[('priors', False, 0.375), ('rule', False, 0.375), ('rule', True, 3.21317), ('married', True, 0.5), ('super', True, 0.5), ('tservd', True, 23.98919), ('person', True, 0.5), ('follow', True, 79.5117)]\n",
      "merge complete for batch_idx 14\n",
      "start get explainer for batch_idx 14\n",
      "0.8679408882083761 4 0 0.06664054803789442 0.07914617791685294\n",
      "0.8783934025500736 2 0 0.056092025962815414 0.05811018414255872\n",
      "0.8217166848308569 4 0 0.05208284834734093 0.06712404503417771\n",
      "[('age', False, 367.8238), ('priors', True, 5.00879)]\n",
      "merge complete for batch_idx 18\n",
      "start get explainer for batch_idx 18\n",
      "[('priors', True, 1.16098), ('rule', True, 0.81857)]\n",
      "merge complete for batch_idx 17\n",
      "start get explainer for batch_idx 17\n",
      "[('age', False, 373.13205), ('priors', True, 4.35212)]\n",
      "merge complete for batch_idx 19\n",
      "start get explainer for batch_idx 19\n",
      "start merge rule for batch_idx 11 (28885) patterns\n",
      "0.7763497962790176 3 0 0.002110259765092326 0.0017395693439209668\n",
      "[('age', True, 252.66345), ('tservd', False, 14.65022), ('year', True, 1979.0), ('married', True, 0.5)]\n",
      "merge complete for batch_idx 2\n",
      "start get explainer for batch_idx 2\n",
      "0.827240141501011 2 0 0.029905227409266766 0.03322866882229775\n",
      "[('priors', True, 0.58243), ('rule', True, 0.74848), ('tservd', True, 17.09868), ('white', False, 0.375)]\n",
      "merge complete for batch_idx 3\n",
      "start get explainer for batch_idx 3\n",
      "0.8234546369790877 3 0 0.0054083950941248154 0.004347462991729364\n",
      "[('priors', True, 0.59785), ('rule', True, 0.878)]\n",
      "merge complete for batch_idx 11\n",
      "start get explainer for batch_idx 11\n",
      "CHIRPS time elapsed: 1313.2032 seconds\n",
      "CHIRPS with async = True\n"
     ]
    }
   ],
   "source": [
    "chirps_explanation_async=True\n",
    "# get what the model predicts on the training sample\n",
    "sample_labels = rf.predict(tt.X_train_enc)\n",
    "\n",
    "# build CHIRPS and a rule for each instance represented in the path detail\n",
    "CHIRPS = strcts.CHIRPS_container(f_walker.path_detail,\n",
    "                                forest=rf,\n",
    "                                sample_instances=tt.X_train_enc, # any representative sample can be used\n",
    "                                # sample_labels=tt.y_train,  # any representative sample can be used\n",
    "                                sample_labels=sample_labels,\n",
    "                                meta_data=meta_data)\n",
    "\n",
    "print('Running CHIRPS on a batch of ' + str(len(labels)) + ' instances... (please wait)')\n",
    "# start a timer\n",
    "ce_start_time = timeit.default_timer()\n",
    "\n",
    "CHIRPS.batch_run_CHIRPS(target_classes=preds, # we're explaining the prediction, not the true label!\n",
    "                        chirps_explanation_async=chirps_explanation_async,\n",
    "                        random_state=random_state,\n",
    "                        which_trees=which_trees,\n",
    "                        alpha_paths=0.9,\n",
    "                        support_paths=0.15,\n",
    "                        score_func=1,\n",
    "                        disc_path_bins=4,\n",
    "                        merging_bootstraps=20,\n",
    "                        pruning_bootstraps=20,\n",
    "                        delta=0.1,\n",
    "                        weighting='kldiv')\n",
    "\n",
    "ce_end_time = timeit.default_timer()\n",
    "ce_elapsed_time = ce_end_time - ce_start_time\n",
    "print('CHIRPS time elapsed:', \"{:0.4f}\".format(ce_elapsed_time), 'seconds')\n",
    "print('CHIRPS with async = ' + str(chirps_explanation_async))"
   ]
  },
  {
   "cell_type": "markdown",
   "metadata": {},
   "source": [
    "# Viewing and Evaluating CHIRPS explanations\n",
    "Evaluation is done using unseen data to see how well the explanations generalise. The data_split_container object (tt) has a  leave-one-out function that is used during the routine to ensure that the datum we are explaining is excluded from the evaluation."
   ]
  },
  {
   "cell_type": "code",
   "execution_count": 11,
   "metadata": {
    "scrolled": false
   },
   "outputs": [
    {
     "name": "stdout",
     "output_type": "stream",
     "text": [
      "evaluating found explanations\n",
      "\n",
      "INSTANCE RESULTS\n",
      "['instance id: 12703 with true class label: 0 (N)']\n",
      "\n",
      "Model Results for Instance\n",
      "['target (predicted) class: 1 (Y)']\n",
      "target class prior (training data): 0.3766744872474079\n",
      "forest vote share (unseen instance): 0.6564285714285715\n",
      "forest vote margin (unseen instance): 0.3128571428571429\n",
      "confidence weighted forest vote share (unseen instance): 0.6564285714285715\n",
      "confidence weighted forest vote margin (unseen instance): 0.3128571428571429\n",
      "\n",
      "rule: age <= 246.92397 AND priors > 0.375\n",
      "rule cardinality: 2\n",
      "Fraction of total points of rule: 0.11988490404888379\n",
      "Fraction of total weight of rule: 0.11352805534204455\n",
      "\n",
      "Estimated Results - Rule Training Sample. Algorithm: greedy_stab\n",
      "rule coverage (training data): 0.007871036100809808\n",
      "rule xcoverage (training data): 0.007870440441955501\n",
      "rule precision (training data): 0.8365384615384616\n",
      "rule stability (training data): 0.822429906542056\n",
      "rule recall (training data): 0.017480409885473176\n",
      "rule f1 score (training data): 0.034245227317457196\n",
      "rule NPV (training data): 0.9979358912093249\n",
      "rule lift (training data): 282.15503414449074\n",
      "prior (training data): [0.62332551 0.37667449]\n",
      "prior counts (training data): [8236. 4977.]\n",
      "rule posterior (training data): [0.16346154 0.83653846]\n",
      "rule posterior counts (training data): [17. 87.]\n",
      "rule chisq p-value (training data): 1.710056333906529e-21\n",
      "rule Kullback-Leibler divergence (training data): 0.448674630736497\n",
      "\n",
      "Results - Previously Unseen Sample\n",
      "target class prior (unseen data): 0.24161073825503357\n",
      "rule coverage (unseen data): 0.025432709290003533\n",
      "rule xcoverage (unseen data): 0.02559576345984113\n",
      "rule precision (unseen data): 0.8819444444444444\n",
      "rule stability (unseen data): 0.8707482993197279\n",
      "rule recall (unseen data): 0.09283625730994152\n",
      "rule f1 score (unseen data): 0.167989417989418\n",
      "rule NPV (unseen data): 0.996040987424313\n",
      "rule lift (unseen data): 143.5265908993484\n",
      "prior (unseen data): [0.75838926 0.24161074]\n",
      "prior counts (unseen data): [4294. 1368.]\n",
      "rule posterior (unseen data): [0.11805556 0.88194444]\n",
      "rule posterior counts (unseen data): [ 17. 127.]\n",
      "rule chisq p-value (unseen data): 9.814176674488981e-67\n",
      "rule Kullback-Leibler divergence (unseen data): 0.9223543575175275\n",
      "Evaluation Time: 38.2920889389934\n",
      "\n",
      "COUNTER FACTUAL RESULTS\n",
      "Feature Reversed: age\n",
      "rule: age > 246.92397 AND priors > 0.375\n",
      "rule coverage (training data): 0.3798531749035041\n",
      "rule xcoverage (training data): 0.37984261501210653\n",
      "rule precision (training data): 0.4389320581789201\n",
      "rule stability (training data): 0.43886897650338513\n",
      "rule recall (training data): 0.4423694779116466\n",
      "rule f1 score (training data): 0.4406440644064406\n",
      "rule NPV (training data): 0.6579618608040811\n",
      "rule lift (training data): 3.0658692742270084\n",
      "prior (training data): [0.62309846 0.37690154]\n",
      "prior counts (training data): [8233. 4980.]\n",
      "rule posterior (training data): [0.56106794 0.43893206]\n",
      "rule posterior counts (training data): [2816. 2203.]\n",
      "rule chisq p-value (training data): 2.1839296592789756e-14\n",
      "rule Kullback-Leibler divergence from original: 0.3379157028220434\n",
      "predictions for this rule complement\n",
      "['instance specific. expected class: 0 (N)']\n",
      "classes: [0, 1]\n",
      "counts: [5662.    0.]\n",
      "proba: [1. 0.]\n",
      "['allowed values. expected class: 0 (N)']\n",
      "classes: [0, 1]\n",
      "counts: [5272.  390.]\n",
      "proba: [0.93111975 0.06888025]\n",
      "\n",
      "Feature Reversed: priors\n",
      "rule: age <= 246.92397 AND priors <= 0.375\n",
      "rule coverage (training data): 0.16453492772269734\n",
      "rule xcoverage (training data): 0.1645732445520581\n",
      "rule precision (training data): 0.43054277828886844\n",
      "rule stability (training data): 0.4304088194763436\n",
      "rule recall (training data): 0.18795180722891566\n",
      "rule f1 score (training data): 0.261671792004473\n",
      "rule NPV (training data): 0.849629539657476\n",
      "rule lift (training data): 6.942730326299744\n",
      "prior (training data): [0.62309846 0.37690154]\n",
      "prior counts (training data): [8233. 4980.]\n",
      "rule posterior (training data): [0.56945722 0.43054278]\n",
      "rule posterior counts (training data): [1238.  936.]\n",
      "rule chisq p-value (training data): 2.1323441793760184e-06\n",
      "rule Kullback-Leibler divergence from original: 0.3516329744237614\n",
      "predictions for this rule complement\n",
      "['instance specific. expected class: 1 (Y)']\n",
      "classes: [0, 1]\n",
      "counts: [   0. 5662.]\n",
      "proba: [0. 1.]\n",
      "['allowed values. expected class: 1 (Y)']\n",
      "classes: [0, 1]\n",
      "counts: [ 242. 5420.]\n",
      "proba: [0.04274108 0.95725892]\n",
      "\n"
     ]
    },
    {
     "ename": "AttributeError",
     "evalue": "'numpy.int64' object has no attribute 'absolute'",
     "output_type": "error",
     "traceback": [
      "\u001b[0;31m---------------------------------------------------------------------------\u001b[0m",
      "\u001b[0;31mValueError\u001b[0m                                Traceback (most recent call last)",
      "\u001b[0;32m~/Documents/github/explain_te/CHIRPS/structures.py\u001b[0m in \u001b[0;36mmask_by_instance\u001b[0;34m(self, instance, sample_instances, rule, feature, features, var_dict, var_dict_enc, size, random_state)\u001b[0m\n\u001b[1;32m   1042\u001b[0m                                                         \u001b[0mfeatures\u001b[0m\u001b[0;34m=\u001b[0m\u001b[0;32mNone\u001b[0m\u001b[0;34m,\u001b[0m\u001b[0;34m\u001b[0m\u001b[0;34m\u001b[0m\u001b[0m\n\u001b[0;32m-> 1043\u001b[0;31m                                                         random_state=random_state)\n\u001b[0m\u001b[1;32m   1044\u001b[0m             \u001b[0mmask_cover\u001b[0m \u001b[0;34m=\u001b[0m \u001b[0;32mTrue\u001b[0m\u001b[0;34m\u001b[0m\u001b[0;34m\u001b[0m\u001b[0m\n",
      "\u001b[0;32m~/Documents/github/explain_te/CHIRPS/structures.py\u001b[0m in \u001b[0;36mget_distribution_by_rule\u001b[0;34m(self, sample_instances, size, rule, features, random_state)\u001b[0m\n\u001b[1;32m   1019\u001b[0m         \u001b[0;31m# get a distribution for those instances covered by rule\u001b[0m\u001b[0;34m\u001b[0m\u001b[0;34m\u001b[0m\u001b[0;34m\u001b[0m\u001b[0m\n\u001b[0;32m-> 1020\u001b[0;31m         \u001b[0midx\u001b[0m \u001b[0;34m=\u001b[0m \u001b[0mnp\u001b[0m\u001b[0;34m.\u001b[0m\u001b[0mrandom\u001b[0m\u001b[0;34m.\u001b[0m\u001b[0mchoice\u001b[0m\u001b[0;34m(\u001b[0m\u001b[0mn_instances\u001b[0m\u001b[0;34m,\u001b[0m \u001b[0msize\u001b[0m \u001b[0;34m=\u001b[0m \u001b[0msize\u001b[0m\u001b[0;34m,\u001b[0m \u001b[0mreplace\u001b[0m\u001b[0;34m=\u001b[0m\u001b[0;32mTrue\u001b[0m\u001b[0;34m)\u001b[0m\u001b[0;34m\u001b[0m\u001b[0;34m\u001b[0m\u001b[0m\n\u001b[0m\u001b[1;32m   1021\u001b[0m         \u001b[0mdistributions\u001b[0m \u001b[0;34m=\u001b[0m \u001b[0minstances\u001b[0m\u001b[0;34m[\u001b[0m\u001b[0midx\u001b[0m\u001b[0;34m]\u001b[0m\u001b[0;34m\u001b[0m\u001b[0;34m\u001b[0m\u001b[0m\n",
      "\u001b[0;32mmtrand.pyx\u001b[0m in \u001b[0;36mnumpy.random.mtrand.RandomState.choice\u001b[0;34m()\u001b[0m\n",
      "\u001b[0;31mValueError\u001b[0m: a must be greater than 0 unless no samples are taken",
      "\nDuring handling of the above exception, another exception occurred:\n",
      "\u001b[0;31mValueError\u001b[0m                                Traceback (most recent call last)",
      "\u001b[0;32m~/Documents/github/explain_te/CHIRPS/structures.py\u001b[0m in \u001b[0;36mmask_by_instance\u001b[0;34m(self, instance, sample_instances, rule, feature, features, var_dict, var_dict_enc, size, random_state)\u001b[0m\n\u001b[1;32m   1059\u001b[0m                                                             \u001b[0mfeatures\u001b[0m\u001b[0;34m=\u001b[0m\u001b[0;32mNone\u001b[0m\u001b[0;34m,\u001b[0m\u001b[0;34m\u001b[0m\u001b[0;34m\u001b[0m\u001b[0m\n\u001b[0;32m-> 1060\u001b[0;31m                                                             random_state=random_state)\n\u001b[0m\u001b[1;32m   1061\u001b[0m \u001b[0;34m\u001b[0m\u001b[0m\n",
      "\u001b[0;32m~/Documents/github/explain_te/CHIRPS/structures.py\u001b[0m in \u001b[0;36mget_distribution_by_rule\u001b[0;34m(self, sample_instances, size, rule, features, random_state)\u001b[0m\n\u001b[1;32m   1019\u001b[0m         \u001b[0;31m# get a distribution for those instances covered by rule\u001b[0m\u001b[0;34m\u001b[0m\u001b[0;34m\u001b[0m\u001b[0;34m\u001b[0m\u001b[0m\n\u001b[0;32m-> 1020\u001b[0;31m         \u001b[0midx\u001b[0m \u001b[0;34m=\u001b[0m \u001b[0mnp\u001b[0m\u001b[0;34m.\u001b[0m\u001b[0mrandom\u001b[0m\u001b[0;34m.\u001b[0m\u001b[0mchoice\u001b[0m\u001b[0;34m(\u001b[0m\u001b[0mn_instances\u001b[0m\u001b[0;34m,\u001b[0m \u001b[0msize\u001b[0m \u001b[0;34m=\u001b[0m \u001b[0msize\u001b[0m\u001b[0;34m,\u001b[0m \u001b[0mreplace\u001b[0m\u001b[0;34m=\u001b[0m\u001b[0;32mTrue\u001b[0m\u001b[0;34m)\u001b[0m\u001b[0;34m\u001b[0m\u001b[0;34m\u001b[0m\u001b[0m\n\u001b[0m\u001b[1;32m   1021\u001b[0m         \u001b[0mdistributions\u001b[0m \u001b[0;34m=\u001b[0m \u001b[0minstances\u001b[0m\u001b[0;34m[\u001b[0m\u001b[0midx\u001b[0m\u001b[0;34m]\u001b[0m\u001b[0;34m\u001b[0m\u001b[0;34m\u001b[0m\u001b[0m\n",
      "\u001b[0;32mmtrand.pyx\u001b[0m in \u001b[0;36mnumpy.random.mtrand.RandomState.choice\u001b[0;34m()\u001b[0m\n",
      "\u001b[0;31mValueError\u001b[0m: a must be greater than 0 unless no samples are taken",
      "\nDuring handling of the above exception, another exception occurred:\n",
      "\u001b[0;31mAttributeError\u001b[0m                            Traceback (most recent call last)",
      "\u001b[0;32m<ipython-input-11-fe19cf964f75>\u001b[0m in \u001b[0;36m<module>\u001b[0;34m\u001b[0m\n\u001b[1;32m     17\u001b[0m                               \u001b[0mdataset_name\u001b[0m\u001b[0;34m=\u001b[0m\u001b[0;34m'test'\u001b[0m\u001b[0;34m,\u001b[0m\u001b[0;34m\u001b[0m\u001b[0;34m\u001b[0m\u001b[0m\n\u001b[1;32m     18\u001b[0m                               \u001b[0msave_results_file\u001b[0m\u001b[0;34m=\u001b[0m\u001b[0msave_results_file\u001b[0m\u001b[0;34m,\u001b[0m\u001b[0;34m\u001b[0m\u001b[0;34m\u001b[0m\u001b[0m\n\u001b[0;32m---> 19\u001b[0;31m                               save_CHIRPS=False)\n\u001b[0m\u001b[1;32m     20\u001b[0m \u001b[0;34m\u001b[0m\u001b[0m\n\u001b[1;32m     21\u001b[0m \u001b[0mresults_end_time\u001b[0m \u001b[0;34m=\u001b[0m \u001b[0mtimeit\u001b[0m\u001b[0;34m.\u001b[0m\u001b[0mdefault_timer\u001b[0m\u001b[0;34m(\u001b[0m\u001b[0;34m)\u001b[0m\u001b[0;34m\u001b[0m\u001b[0;34m\u001b[0m\u001b[0m\n",
      "\u001b[0;32m~/Documents/github/explain_te/CHIRPS/routines.py\u001b[0m in \u001b[0;36mevaluate_CHIRPS_explainers\u001b[0;34m(b_CHIRPS_exp, ds_container, instance_idx, forest, meta_data, dataset_name, model, eval_start_time, eval_alt_labelings, eval_rule_complements, print_to_screen, save_results_path, save_results_file, save_CHIRPS)\u001b[0m\n\u001b[1;32m    413\u001b[0m             alt_labelings_results = c.get_alt_labelings(instance=current_instance_enc,\n\u001b[1;32m    414\u001b[0m                                                         \u001b[0msample_instances\u001b[0m\u001b[0;34m=\u001b[0m\u001b[0minstances_enc\u001b[0m\u001b[0;34m,\u001b[0m\u001b[0;34m\u001b[0m\u001b[0;34m\u001b[0m\u001b[0m\n\u001b[0;32m--> 415\u001b[0;31m                                                         forest=forest)\n\u001b[0m\u001b[1;32m    416\u001b[0m         \u001b[0mtrue_class\u001b[0m \u001b[0;34m=\u001b[0m \u001b[0mds_container\u001b[0m\u001b[0;34m.\u001b[0m\u001b[0my_test\u001b[0m\u001b[0;34m.\u001b[0m\u001b[0mloc\u001b[0m\u001b[0;34m[\u001b[0m\u001b[0minstance_id\u001b[0m\u001b[0;34m]\u001b[0m\u001b[0;34m\u001b[0m\u001b[0;34m\u001b[0m\u001b[0m\n\u001b[1;32m    417\u001b[0m         results[i] = [dataset_name,\n",
      "\u001b[0;32m~/Documents/github/explain_te/CHIRPS/structures.py\u001b[0m in \u001b[0;36mget_alt_labelings\u001b[0;34m(self, forest, instance, sample_instances, rule_complements, var_dict, sample_labels)\u001b[0m\n\u001b[1;32m   1156\u001b[0m                                                                                                             \u001b[0msample_instances\u001b[0m\u001b[0;34m=\u001b[0m\u001b[0minstances\u001b[0m\u001b[0;34m,\u001b[0m\u001b[0;34m\u001b[0m\u001b[0;34m\u001b[0m\u001b[0m\n\u001b[1;32m   1157\u001b[0m                                                                                                             \u001b[0mrule\u001b[0m\u001b[0;34m=\u001b[0m\u001b[0mrc\u001b[0m\u001b[0;34m,\u001b[0m \u001b[0mfeature\u001b[0m\u001b[0;34m=\u001b[0m\u001b[0mfeature\u001b[0m\u001b[0;34m,\u001b[0m\u001b[0;34m\u001b[0m\u001b[0;34m\u001b[0m\u001b[0m\n\u001b[0;32m-> 1158\u001b[0;31m                                                                                                             size=size)\n\u001b[0m\u001b[1;32m   1159\u001b[0m             \u001b[0mism_preds\u001b[0m \u001b[0;34m=\u001b[0m \u001b[0mforest\u001b[0m\u001b[0;34m.\u001b[0m\u001b[0mpredict\u001b[0m\u001b[0;34m(\u001b[0m\u001b[0minstance_specific_mask\u001b[0m\u001b[0;34m)\u001b[0m\u001b[0;34m\u001b[0m\u001b[0;34m\u001b[0m\u001b[0m\n\u001b[1;32m   1160\u001b[0m             \u001b[0mism_post\u001b[0m \u001b[0;34m=\u001b[0m \u001b[0mp_count_corrected\u001b[0m\u001b[0;34m(\u001b[0m\u001b[0mism_preds\u001b[0m\u001b[0;34m,\u001b[0m \u001b[0;34m[\u001b[0m\u001b[0mi\u001b[0m \u001b[0;32mfor\u001b[0m \u001b[0mi\u001b[0m \u001b[0;32min\u001b[0m \u001b[0mrange\u001b[0m\u001b[0;34m(\u001b[0m\u001b[0mlen\u001b[0m\u001b[0;34m(\u001b[0m\u001b[0mself\u001b[0m\u001b[0;34m.\u001b[0m\u001b[0mclass_names\u001b[0m\u001b[0;34m)\u001b[0m\u001b[0;34m)\u001b[0m\u001b[0;34m]\u001b[0m\u001b[0;34m)\u001b[0m\u001b[0;34m\u001b[0m\u001b[0;34m\u001b[0m\u001b[0m\n",
      "\u001b[0;32m~/Documents/github/explain_te/CHIRPS/structures.py\u001b[0m in \u001b[0;36mmask_by_instance\u001b[0;34m(self, instance, sample_instances, rule, feature, features, var_dict, var_dict_enc, size, random_state)\u001b[0m\n\u001b[1;32m   1072\u001b[0m                                 \u001b[0;32mfor\u001b[0m \u001b[0mitem\u001b[0m \u001b[0;32min\u001b[0m \u001b[0mflipped_rule_term\u001b[0m\u001b[0;34m:\u001b[0m\u001b[0;34m\u001b[0m\u001b[0;34m\u001b[0m\u001b[0m\n\u001b[1;32m   1073\u001b[0m                                     \u001b[0;32mif\u001b[0m \u001b[0mitem\u001b[0m\u001b[0;34m[\u001b[0m\u001b[0;36m1\u001b[0m\u001b[0;34m]\u001b[0m\u001b[0;34m:\u001b[0m \u001b[0;31m# less than thresh\u001b[0m\u001b[0;34m\u001b[0m\u001b[0;34m\u001b[0m\u001b[0m\n\u001b[0;32m-> 1074\u001b[0;31m                                         \u001b[0mdistance_from_mean\u001b[0m \u001b[0;34m=\u001b[0m \u001b[0mcolumnvec\u001b[0m\u001b[0;34m.\u001b[0m\u001b[0mmean\u001b[0m\u001b[0;34m(\u001b[0m\u001b[0;34m)\u001b[0m \u001b[0;34m-\u001b[0m \u001b[0mcolumnvec\u001b[0m\u001b[0;34m.\u001b[0m\u001b[0mmin\u001b[0m\u001b[0;34m(\u001b[0m\u001b[0;34m)\u001b[0m\u001b[0;34m.\u001b[0m\u001b[0mabsolute\u001b[0m\u001b[0;34m(\u001b[0m\u001b[0;34m)\u001b[0m\u001b[0;34m\u001b[0m\u001b[0;34m\u001b[0m\u001b[0m\n\u001b[0m\u001b[1;32m   1075\u001b[0m                                         \u001b[0mdelta\u001b[0m \u001b[0;34m=\u001b[0m \u001b[0;34m(\u001b[0m\u001b[0;34m(\u001b[0m\u001b[0mdistance_from_mean\u001b[0m \u001b[0;34m*\u001b[0m \u001b[0;36m3.1\u001b[0m \u001b[0;34m/\u001b[0m \u001b[0;36m3\u001b[0m\u001b[0;34m)\u001b[0m \u001b[0;34m-\u001b[0m \u001b[0mdistance_from_mean\u001b[0m\u001b[0;34m)\u001b[0m\u001b[0;34m.\u001b[0m\u001b[0mabsolute\u001b[0m\u001b[0;34m(\u001b[0m\u001b[0;34m)\u001b[0m \u001b[0;31m# we would like a bell curve where the third st.dev reaches 3.1 times the distance from mean\u001b[0m\u001b[0;34m\u001b[0m\u001b[0;34m\u001b[0m\u001b[0m\n\u001b[1;32m   1076\u001b[0m                                         \u001b[0mdist\u001b[0m \u001b[0;34m=\u001b[0m \u001b[0;34m(\u001b[0m\u001b[0mitem\u001b[0m\u001b[0;34m[\u001b[0m\u001b[0;36m2\u001b[0m\u001b[0;34m]\u001b[0m \u001b[0;34m-\u001b[0m \u001b[0;36m0.5\u001b[0m \u001b[0;34m-\u001b[0m \u001b[0mnp\u001b[0m\u001b[0;34m.\u001b[0m\u001b[0mrandom\u001b[0m\u001b[0;34m.\u001b[0m\u001b[0mpoisson\u001b[0m\u001b[0;34m(\u001b[0m\u001b[0mlam\u001b[0m\u001b[0;34m=\u001b[0m\u001b[0mdelta\u001b[0m\u001b[0;34m,\u001b[0m \u001b[0msize\u001b[0m\u001b[0;34m=\u001b[0m\u001b[0msize\u001b[0m\u001b[0;34m)\u001b[0m\u001b[0;34m)\u001b[0m\u001b[0;34m[\u001b[0m\u001b[0;34m:\u001b[0m\u001b[0;34m,\u001b[0m \u001b[0mnp\u001b[0m\u001b[0;34m.\u001b[0m\u001b[0mnewaxis\u001b[0m\u001b[0;34m]\u001b[0m \u001b[0;31m# generate some values\u001b[0m\u001b[0;34m\u001b[0m\u001b[0;34m\u001b[0m\u001b[0m\n",
      "\u001b[0;31mAttributeError\u001b[0m: 'numpy.int64' object has no attribute 'absolute'"
     ]
    }
   ],
   "source": [
    "# iterate over all the test instances to determine the various scores using leave-one-out testing\n",
    "print('evaluating found explanations')\n",
    "print()\n",
    "results_start_time = timeit.default_timer()\n",
    "\n",
    "save_results_file = model + '_CHIRPS_rnst_' + str(random_state)\n",
    "\n",
    "rt.evaluate_CHIRPS_explainers(CHIRPS, tt, labels.index, # for full batch runs: tt.y_test.index,\n",
    "                              forest=rf,\n",
    "                              meta_data=meta_data,\n",
    "                              model=model,\n",
    "                              eval_start_time=results_start_time,\n",
    "                              print_to_screen=True, # set True when running single instances\n",
    "                              eval_alt_labelings=True,\n",
    "                              eval_rule_complements=True,\n",
    "                              save_results_path=save_path,\n",
    "                              dataset_name='test',\n",
    "                              save_results_file=save_results_file,\n",
    "                              save_CHIRPS=False)\n",
    "\n",
    "results_end_time = timeit.default_timer()\n",
    "results_elapsed_time = results_end_time - results_start_time\n",
    "print('CHIRPS batch results eval time elapsed:', \"{:0.4f}\".format(results_elapsed_time), 'seconds')\n",
    "# this completes the CHIRPS runs"
   ]
  },
  {
   "cell_type": "code",
   "execution_count": null,
   "metadata": {},
   "outputs": [],
   "source": []
  }
 ],
 "metadata": {
  "kernelspec": {
   "display_name": "Python 3",
   "language": "python",
   "name": "python3"
  },
  "language_info": {
   "codemirror_mode": {
    "name": "ipython",
    "version": 3
   },
   "file_extension": ".py",
   "mimetype": "text/x-python",
   "name": "python",
   "nbconvert_exporter": "python",
   "pygments_lexer": "ipython3",
   "version": "3.7.4"
  }
 },
 "nbformat": 4,
 "nbformat_minor": 2
}
