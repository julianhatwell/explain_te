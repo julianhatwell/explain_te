{
 "cells": [
  {
   "cell_type": "markdown",
   "metadata": {},
   "source": [
    "# prologue"
   ]
  },
  {
   "cell_type": "markdown",
   "metadata": {},
   "source": [
    "### set up notebook and load package"
   ]
  },
  {
   "cell_type": "code",
   "execution_count": 257,
   "metadata": {},
   "outputs": [],
   "source": [
    "import io\n",
    "import zipfile\n",
    "import urllib\n",
    "import numpy as np\n",
    "import pandas as pd\n",
    "from datetime import datetime\n",
    "import math\n",
    "import julian\n",
    "import re"
   ]
  },
  {
   "cell_type": "code",
   "execution_count": 260,
   "metadata": {},
   "outputs": [],
   "source": [
    "file = '2014.csv'\n",
    "archive = zipfile.ZipFile('CHIRPS/source_datafiles/mhtech.zip', 'r')\n",
    "lines = archive.read(file).decode(\"utf-8\").split('\\n')\n",
    "archive.close()\n",
    "\n",
    "# convert strings to var lists - deal with some free text issues\n",
    "lines = [lines[i].replace(\"Bahamas, The\", \"Bahamas\").replace(\"male, unsure\", \"male unsure\").split(',') for i in range(len(lines))]\n",
    "names = [nm.replace('\"', '') for nm in lines[0]]\n",
    "lines = lines[1:]\n",
    "lines.pop() # empty final row\n",
    "mhtech = pd.DataFrame(lines, columns=names)\n",
    "\n",
    "# not useful, turns out state only valid for USA\n",
    "mhtech.drop(['Timestamp', 'state'], 1, inplace=True)\n",
    "\n",
    "# rename columns for ease\n",
    "ren = {old : new for old, new in zip(mhtech.columns, [lc.lower() for lc in mhtech.columns])}\n",
    "mhtech.rename(columns=ren, inplace=True)\n",
    "\n",
    "# standardise some other responses, getting rid of 'apos in \"Don't know\"\n",
    "for c in mhtech.columns:\n",
    "    mhtech[c] = mhtech[c].str.replace(\"Don't know\", 'Not sure')\n",
    "    mhtech[c] = mhtech[c].str.replace('\"', '')\n",
    "    mhtech[c] = mhtech[c].str.replace('Maybe', 'Not sure')\n",
    "    mhtech[c] = mhtech[c].str.replace('not sure', 'Not sure')\n",
    "    mhtech[c] = mhtech[c].str.replace('Some of them', 'Yes')\n",
    "\n",
    "# make no_emplyees category ordered, and integer while we're at it\n",
    "def min_emps_map(x):\n",
    "    if x == 'More than 1000':\n",
    "        return(1000)\n",
    "    else:\n",
    "        pos = x.find('-')\n",
    "        return(int(x[:pos]))\n",
    "mhtech['no_employees'] = mhtech['no_employees'].apply(min_emps_map)\n",
    "\n",
    "# should be no more missing data\n",
    "# print('missing values')\n",
    "# print(mhtech.isnull().sum())\n",
    "# print()\n",
    "\n",
    "# impute a value for self-employed depending on number of employees\n",
    "mhtech.loc[mhtech['no_employees'] == 1 & mhtech['self_employed'].isnull(), 'self_employed'] = 'Yes'\n",
    "mhtech.loc[mhtech['no_employees'] > 1 & mhtech['self_employed'].isnull(), 'self_employed'] = 'No'\n",
    "\n",
    "# gender has been over-loaded with free text\n",
    "# print('gender options')\n",
    "# print(mhtech.gender.unique())\n",
    "# print()\n",
    "\n",
    "# cleaning gender data for analysis\n",
    "# no disrespect, but we have to reduce the number of categories to make a meaningful analysis\n",
    "# a bigger dataset with greater representation would be a different story\n",
    "def categoriseGender(Gender):\n",
    "    gender=str(Gender).lower().replace('(cis)', '').replace('cis', '').strip()\n",
    "    if re.search('not sure|-|/|\\?|trans|ish', gender):\n",
    "        return('others')\n",
    "    elif re.search('fema', gender) or gender == 'f':\n",
    "        return('female')\n",
    "    elif re.search('ma', gender) or gender == 'm' or gender == 'msle':\n",
    "        return('male')\n",
    "    else:\n",
    "        return('others')\n",
    "\n",
    "mhtech['gender'] = mhtech['gender'].apply(categoriseGender)\n",
    "\n",
    "def likertMap(x):\n",
    "    if x == 'Very difficult' or x == 'Often':\n",
    "        return(0)\n",
    "    elif x == 'Somewhat difficult' or x == 'Sometimes':\n",
    "        return(1)\n",
    "    elif x == 'Not sure':\n",
    "        return(2)\n",
    "    elif x == 'Somewhat easy' or x == 'Rarely':\n",
    "        return(3)\n",
    "    elif x == 'Very easy' or x == 'Never':\n",
    "        return(4)\n",
    "\n",
    "def yesnoMap(x):\n",
    "    if x == 'Yes':\n",
    "        return(1)\n",
    "    elif x == 'No':\n",
    "        return(0)\n",
    "    elif x == 'Not sure':\n",
    "        return(-1)\n",
    "\n",
    "def regionMap(x):\n",
    "    if x in ['United States', 'Canada']:\n",
    "        return('NA')\n",
    "    elif x in ['United Kingdom', 'France', 'Netherlands', 'Switzerland',\n",
    "                'Germany', 'Austria', 'Ireland', 'Belgium']:\n",
    "        return('CE')\n",
    "    elif x in ['Sweden', 'Finland', 'Norway', 'Denmark']:\n",
    "        return('NE')\n",
    "    elif x in ['Italy', 'Spain', 'Portugal', 'Slovenia', 'Greece', 'Bosnia and Herzegovina', 'Croatia']:\n",
    "        return('SE')\n",
    "    elif x in ['Bulgaria', 'Poland', 'Russia', 'Latvia', 'Romania', 'Hungary', 'Moldova', 'Georgia', 'Czech Republic']:\n",
    "        return('EE')\n",
    "    elif x in ['Mexico', 'Brazil', 'Costa Rica', 'Colombia', 'Uruguay', 'Bahamas, The']:\n",
    "        return('CSA')\n",
    "    elif x in ['Nigeria', 'South Africa', 'Zimbabwe', 'Israel']:\n",
    "        return('MEAF')\n",
    "    elif x in ['India', 'China', 'Philippines', 'Thailand', 'Japan', 'Singapore', 'Australia', 'New Zealand']:\n",
    "        return('APAC')\n",
    "    else:\n",
    "        return(x)\n",
    "\n",
    "mhtech['region'] = mhtech.country.apply(regionMap)\n",
    "mhtech.drop('country', 1, inplace=True)\n",
    "mhtech.leave = mhtech.leave.apply(likertMap)\n",
    "# this will also fix the missing vals\n",
    "mhtech.work_interfere = mhtech.work_interfere.fillna('Not sure').apply(likertMap)\n",
    "\n",
    "# code all the binary indep vars\n",
    "for c in mhtech.columns:\n",
    "    if c in ['age', 'gender', 'country', 'leave', 'work_interfere', 'comments', 'no_employees', 'region']:\n",
    "        continue\n",
    "    else:\n",
    "        mhtech[c] = mhtech[c].apply(yesnoMap)\n",
    "        \n",
    "# should be no more missing data\n",
    "# print('missing values')\n",
    "# print(mhtech.isnull().sum())\n",
    "# print()\n",
    "\n",
    "mhtech.to_csv('CHIRPS\\\\datafiles\\\\mhtech14.csv.gz', index=False, compression='gzip')"
   ]
  },
  {
   "cell_type": "code",
   "execution_count": 450,
   "metadata": {
    "scrolled": false
   },
   "outputs": [],
   "source": [
    "file = '2017.csv'\n",
    "archive = zipfile.ZipFile('CHIRPS/source_datafiles/mhtech.zip', 'r')\n",
    "lines = archive.read(file).replace(b\"\\xa0\", b\" \").decode(\"utf-8\", 'ignore').split('\\r\\n')\n",
    "archive.close()\n",
    "# convert strings to var lists - deal with some free text issues\n",
    "lines = [lines[i].replace(\"<strong>\", \"\").replace(\"</strong>\", \"\").\n",
    "         replace(\"Yes - they all did\", \"all\").replace(\"No - none did\", \"none\").\n",
    "         replace(\"Some did\", \"some\").replace(\"Yes - always\", \"Always\").\n",
    "         replace(\"Overall - how\", \"How\").\n",
    "         replace(\"I don't know\", \"Not sure\").replace(\"No - I don't think they would\", \"No\").\n",
    "         replace(\"No - I don't think it would\", \"No\").replace(\"Yes - they do\", \"Definitely\").\n",
    "         replace(\"Yes - I think it would\", \"Yes\").replace(\"Yes - I know several\", \"Several\").\n",
    "         replace(\"Yes - it has\", \"Definitely\").replace(\"No - they do not\", \"Definitely not\").\n",
    "         replace(\"Yes - I know several\", \"Several\").replace(\"I know some\", \"Some\").\n",
    "         replace(\"No - I don't know any\", \"None\").replace(\"Not applicable to me\", \"N/A\").\n",
    "         replace(\"No - at none of my previous employers\", \"No\").replace(\"Some of my previous employers\", \"Some\").\n",
    "         replace(\"Sometimes - if it comes up\", \"Sometimes\").replace(\"No - because it doesn't matter\", \"No need\").\n",
    "         replace(\"No - because it would impact me negatively\", \"No\").replace(\"Yes - I was aware of all of them\", \"All\").\n",
    "         replace(\"I was aware of some\", \"Some\").replace(\"N/A (not currently aware)\", \"No\").\n",
    "         replace(\"No - I only became aware later\", \"No\").replace(\"Yes - I experienced\", \"Yes\").\n",
    "         replace(\"Maybe/Not sure\", \"Not sure\").replace(\"Yes - I observed\", \"Obs\").\n",
    "         replace(\"Yes - at all of my previous employers\", \"Yes\").replace(\"performance - \", \"Yes\").\n",
    "         replace(\"Honestly,I\", \"I\").replace(\"with ,y\", \"with my\").replace(\"pay,ents\", \"payments\").\n",
    "         replace(\"awareness,more\", \"awareness - more\").replace(\"crazy,\", \"crazy\").replace(\"neutral,\", \"neutral\").\n",
    "         replace(\"talk,\", \"talk\").replace(\"1,2,3\", \"1-2-3\").replace(\"A,B,C\", \"A-B-C\").\n",
    "         replace(\" ,eating\", \" - eating\").replace(\"grief,coping\", \"grief - coping\").\n",
    "         split(',') for i in range(len(lines))]\n",
    "names = [nm.replace('\"', '').strip() for nm in lines[0]]\n",
    "lines = lines[1:]\n",
    "\n",
    "lines.pop() # empty final row\n",
    "# for c in range(1):\n",
    "#     names.append('emty_col' + str(c))\n",
    "mhtech17 = pd.DataFrame(lines, columns=names)\n",
    "\n",
    "\n",
    "# mhtech17[[e is not None for e in mhtech17.emty_col0]]\n",
    "# [c for c in mhtech17[[e is not None for e in mhtech17.emty_col0]].loc[487]]\n"
   ]
  },
  {
   "cell_type": "code",
   "execution_count": 451,
   "metadata": {
    "scrolled": false
   },
   "outputs": [],
   "source": [
    "file = '2018.csv'\n",
    "archive = zipfile.ZipFile('CHIRPS/source_datafiles/mhtech.zip', 'r')\n",
    "lines = archive.read(file).replace(b\"\\xa0\", b\" \").decode(\"utf-8\", 'ignore').split('\\r\\n')\n",
    "archive.close()\n",
    "# convert strings to var lists - deal with some free text issues\n",
    "lines = [lines[i].replace(\"<strong>\", \"\").replace(\"</strong>\", \"\").\n",
    "         replace(\"Yes - they all did\", \"all\").replace(\"No - none did\", \"none\").\n",
    "         replace(\"Some did\", \"some\").replace(\"Yes - always\", \"Always\").\n",
    "         replace(\"Overall - how\", \"How\").\n",
    "         replace(\"I don't know\", \"Not sure\").replace(\"No - I don't think they would\", \"No\").\n",
    "         replace(\"No - I don't think it would\", \"No\").replace(\"Yes - they do\", \"Definitely\").\n",
    "         replace(\"Yes - I think it would\", \"Yes\").replace(\"Yes - I know several\", \"Several\").\n",
    "         replace(\"Yes - it has\", \"Definitely\").replace(\"No - they do not\", \"Definitely not\").\n",
    "         replace(\"Yes - I know several\", \"Several\").replace(\"I know some\", \"Some\").\n",
    "         replace(\"No - I don't know any\", \"None\").replace(\"Not applicable to me\", \"N/A\").\n",
    "         replace(\"No - at none of my previous employers\", \"No\").replace(\"Some of my previous employers\", \"Some\").\n",
    "         replace(\"Sometimes - if it comes up\", \"Sometimes\").replace(\"No - because it doesn't matter\", \"No need\").\n",
    "         replace(\"No - because it would impact me negatively\", \"No\").replace(\"Yes - I was aware of all of them\", \"All\").\n",
    "         replace(\"I was aware of some\", \"Some\").replace(\"N/A (not currently aware)\", \"No\").\n",
    "         replace(\"No - I only became aware later\", \"No\").replace(\"Yes - I experienced\", \"Yes\").\n",
    "         replace(\"Maybe/Not sure\", \"Not sure\").replace(\"Yes - I observed\", \"Obs\").\n",
    "         replace(\"Yes - at all of my previous employers\", \"Yes\").replace(\"performance - \", \"Yes\").\n",
    "         replace(\"Honestly,I\", \"I\").replace(\"with ,y\", \"with my\").replace(\"pay,ents\", \"payments\").\n",
    "         replace(\"awareness,more\", \"awareness - more\").replace(\"crazy,\", \"crazy\").replace(\"neutral,\", \"neutral\").\n",
    "         replace(\"talk,\", \"talk\").replace(\"1,2,3\", \"1-2-3\").replace(\"A,B,C\", \"A-B-C\").\n",
    "         replace(\" ,eating\", \" - eating\").replace(\"grief,coping\", \"grief - coping\").\n",
    "         split(',') for i in range(len(lines))]\n",
    "names = [nm.replace('\"', '').strip() for nm in lines[0]]\n",
    "lines = lines[1:]\n",
    "\n",
    "lines.pop() # empty final row\n",
    "mhtech18 = pd.DataFrame(lines, columns=names)"
   ]
  },
  {
   "cell_type": "code",
   "execution_count": 452,
   "metadata": {
    "scrolled": false
   },
   "outputs": [],
   "source": [
    "file = '2016.csv'\n",
    "archive = zipfile.ZipFile('CHIRPS/source_datafiles/mhtech.zip', 'r')\n",
    "lines = archive.read(file).decode(\"utf-8\").split('\\n')\n",
    "archive.close()\n",
    "\n",
    "# convert strings to var lists - deal with some free text issues\n",
    "lines = [lines[i].replace(\"<strong>\", \"\").replace(\"</strong>\", \"\").\n",
    "         replace(\"Yes - they all did\", \"all\").replace(\"No - none did\", \"none\").\n",
    "         replace(\"Some did\", \"some\").replace(\"Yes - always\", \"Always\").\n",
    "         replace(\"Overall - how\", \"How\").\n",
    "         replace(\"I don't know\", \"Not sure\").replace(\"No - I don't think they would\", \"No\").\n",
    "         replace(\"No - I don't think it would\", \"No\").replace(\"Yes - they do\", \"Definitely\").\n",
    "         replace(\"Yes - I think it would\", \"Yes\").replace(\"Yes - I know several\", \"Several\").\n",
    "         replace(\"Yes - it has\", \"Definitely\").replace(\"No - they do not\", \"Definitely not\").\n",
    "         replace(\"Yes - I know several\", \"Several\").replace(\"I know some\", \"Some\").\n",
    "         replace(\"No - I don't know any\", \"None\").replace(\"Not applicable to me\", \"N/A\").\n",
    "         replace(\"No - at none of my previous employers\", \"No\").replace(\"Some of my previous employers\", \"Some\").\n",
    "         replace(\"Sometimes - if it comes up\", \"Sometimes\").replace(\"No - because it doesn't matter\", \"No need\").\n",
    "         replace(\"No - because it would impact me negatively\", \"No\").replace(\"Yes - I was aware of all of them\", \"All\").\n",
    "         replace(\"I was aware of some\", \"Some\").replace(\"N/A (not currently aware)\", \"No\").\n",
    "         replace(\"No - I only became aware later\", \"No\").replace(\"Yes - I experienced\", \"Yes\").\n",
    "         replace(\"Maybe/Not sure\", \"Not sure\").replace(\"Yes - I observed\", \"Obs\").\n",
    "         replace(\"Yes - at all of my previous employers\", \"Yes\").replace(\"performance - \", \"Yes\").\n",
    "         replace(\"Honestly,I\", \"I\").replace(\"with ,y\", \"with my\").replace(\"pay,ents\", \"payments\").\n",
    "         replace(\"awareness,more\", \"awareness - more\").replace(\"crazy,\", \"crazy\").replace(\"neutral,\", \"neutral\").\n",
    "         replace(\"talk,\", \"talk\").replace(\"1,2,3\", \"1-2-3\").replace(\"A,B,C\", \"A-B-C\").\n",
    "         replace(\" ,eating\", \" - eating\").replace(\"grief,coping\", \"grief - coping\").\n",
    "         split(',') for i in range(len(lines))]\n",
    "names = [nm.replace('\"', '').strip() for nm in lines[0]]\n",
    "lines = lines[1:]\n",
    "\n",
    "# np.array(names)[[(\"disorder\" in n) for n in names]]\n",
    "lines.pop() # empty final row\n",
    "mhtech16 = pd.DataFrame(lines, columns=names)\n",
    "\n"
   ]
  },
  {
   "cell_type": "code",
   "execution_count": 3,
   "metadata": {
    "scrolled": false
   },
   "outputs": [
    {
     "name": "stdout",
     "output_type": "stream",
     "text": [
      "Preprocessing usoc2 data and model for usoc2 with random state = 123\n",
      "Split data into main train-test and build forest\n"
     ]
    },
    {
     "name": "stderr",
     "output_type": "stream",
     "text": [
      "C:\\ProgramData\\Anaconda3\\envs\\B3\\lib\\site-packages\\sklearn\\preprocessing\\_encoders.py:371: FutureWarning: The handling of integer data will change in version 0.22. Currently, the categories are determined based on the range [0, max(values)], while in the future they will be determined based on the unique values.\n",
      "If you want the future behaviour and silence this warning, you can specify \"categories='auto'\".\n",
      "In case you used a LabelEncoder before this OneHotEncoder to convert the categories to integers, then you can now use the OneHotEncoder directly.\n",
      "  warnings.warn(msg, FutureWarning)\n"
     ]
    },
    {
     "name": "stdout",
     "output_type": "stream",
     "text": [
      "Train main model\n",
      "Over-riding previous tuning parameters. New grid tuning... (please wait)\n",
      "\n",
      "Finding best params with 10-fold CV\n",
      "0.640 (+/-0.018) for {'algorithm': 'SAMME', 'base_estimator': DecisionTreeClassifier(class_weight=None, criterion='gini', max_depth=1,\n",
      "            max_features=None, max_leaf_nodes=None,\n",
      "            min_impurity_decrease=0.0, min_impurity_split=None,\n",
      "            min_samples_leaf=1, min_samples_split=2,\n",
      "            min_weight_fraction_leaf=0.0, presort=False, random_state=None,\n",
      "            splitter='best'), 'n_estimators': 200}\n",
      "0.640 (+/-0.016) for {'algorithm': 'SAMME', 'base_estimator': DecisionTreeClassifier(class_weight=None, criterion='gini', max_depth=1,\n",
      "            max_features=None, max_leaf_nodes=None,\n",
      "            min_impurity_decrease=0.0, min_impurity_split=None,\n",
      "            min_samples_leaf=1, min_samples_split=2,\n",
      "            min_weight_fraction_leaf=0.0, presort=False, random_state=None,\n",
      "            splitter='best'), 'n_estimators': 400}\n",
      "0.640 (+/-0.015) for {'algorithm': 'SAMME', 'base_estimator': DecisionTreeClassifier(class_weight=None, criterion='gini', max_depth=1,\n",
      "            max_features=None, max_leaf_nodes=None,\n",
      "            min_impurity_decrease=0.0, min_impurity_split=None,\n",
      "            min_samples_leaf=1, min_samples_split=2,\n",
      "            min_weight_fraction_leaf=0.0, presort=False, random_state=None,\n",
      "            splitter='best'), 'n_estimators': 600}\n",
      "0.639 (+/-0.018) for {'algorithm': 'SAMME', 'base_estimator': DecisionTreeClassifier(class_weight=None, criterion='gini', max_depth=1,\n",
      "            max_features=None, max_leaf_nodes=None,\n",
      "            min_impurity_decrease=0.0, min_impurity_split=None,\n",
      "            min_samples_leaf=1, min_samples_split=2,\n",
      "            min_weight_fraction_leaf=0.0, presort=False, random_state=None,\n",
      "            splitter='best'), 'n_estimators': 800}\n",
      "0.638 (+/-0.016) for {'algorithm': 'SAMME', 'base_estimator': DecisionTreeClassifier(class_weight=None, criterion='gini', max_depth=1,\n",
      "            max_features=None, max_leaf_nodes=None,\n",
      "            min_impurity_decrease=0.0, min_impurity_split=None,\n",
      "            min_samples_leaf=1, min_samples_split=2,\n",
      "            min_weight_fraction_leaf=0.0, presort=False, random_state=None,\n",
      "            splitter='best'), 'n_estimators': 1000}\n",
      "0.639 (+/-0.018) for {'algorithm': 'SAMME', 'base_estimator': DecisionTreeClassifier(class_weight=None, criterion='gini', max_depth=1,\n",
      "            max_features=None, max_leaf_nodes=None,\n",
      "            min_impurity_decrease=0.0, min_impurity_split=None,\n",
      "            min_samples_leaf=1, min_samples_split=2,\n",
      "            min_weight_fraction_leaf=0.0, presort=False, random_state=None,\n",
      "            splitter='best'), 'n_estimators': 1200}\n",
      "0.639 (+/-0.019) for {'algorithm': 'SAMME', 'base_estimator': DecisionTreeClassifier(class_weight=None, criterion='gini', max_depth=1,\n",
      "            max_features=None, max_leaf_nodes=None,\n",
      "            min_impurity_decrease=0.0, min_impurity_split=None,\n",
      "            min_samples_leaf=1, min_samples_split=2,\n",
      "            min_weight_fraction_leaf=0.0, presort=False, random_state=None,\n",
      "            splitter='best'), 'n_estimators': 1400}\n",
      "0.639 (+/-0.016) for {'algorithm': 'SAMME', 'base_estimator': DecisionTreeClassifier(class_weight=None, criterion='gini', max_depth=1,\n",
      "            max_features=None, max_leaf_nodes=None,\n",
      "            min_impurity_decrease=0.0, min_impurity_split=None,\n",
      "            min_samples_leaf=1, min_samples_split=2,\n",
      "            min_weight_fraction_leaf=0.0, presort=False, random_state=None,\n",
      "            splitter='best'), 'n_estimators': 1600}\n",
      "0.631 (+/-0.019) for {'algorithm': 'SAMME', 'base_estimator': DecisionTreeClassifier(class_weight=None, criterion='gini', max_depth=2,\n",
      "            max_features=None, max_leaf_nodes=None,\n",
      "            min_impurity_decrease=0.0, min_impurity_split=None,\n",
      "            min_samples_leaf=1, min_samples_split=2,\n",
      "            min_weight_fraction_leaf=0.0, presort=False, random_state=None,\n",
      "            splitter='best'), 'n_estimators': 200}\n",
      "0.632 (+/-0.020) for {'algorithm': 'SAMME', 'base_estimator': DecisionTreeClassifier(class_weight=None, criterion='gini', max_depth=2,\n",
      "            max_features=None, max_leaf_nodes=None,\n",
      "            min_impurity_decrease=0.0, min_impurity_split=None,\n",
      "            min_samples_leaf=1, min_samples_split=2,\n",
      "            min_weight_fraction_leaf=0.0, presort=False, random_state=None,\n",
      "            splitter='best'), 'n_estimators': 400}\n",
      "0.631 (+/-0.019) for {'algorithm': 'SAMME', 'base_estimator': DecisionTreeClassifier(class_weight=None, criterion='gini', max_depth=2,\n",
      "            max_features=None, max_leaf_nodes=None,\n",
      "            min_impurity_decrease=0.0, min_impurity_split=None,\n",
      "            min_samples_leaf=1, min_samples_split=2,\n",
      "            min_weight_fraction_leaf=0.0, presort=False, random_state=None,\n",
      "            splitter='best'), 'n_estimators': 600}\n",
      "0.630 (+/-0.016) for {'algorithm': 'SAMME', 'base_estimator': DecisionTreeClassifier(class_weight=None, criterion='gini', max_depth=2,\n",
      "            max_features=None, max_leaf_nodes=None,\n",
      "            min_impurity_decrease=0.0, min_impurity_split=None,\n",
      "            min_samples_leaf=1, min_samples_split=2,\n",
      "            min_weight_fraction_leaf=0.0, presort=False, random_state=None,\n",
      "            splitter='best'), 'n_estimators': 800}\n",
      "0.629 (+/-0.024) for {'algorithm': 'SAMME', 'base_estimator': DecisionTreeClassifier(class_weight=None, criterion='gini', max_depth=2,\n",
      "            max_features=None, max_leaf_nodes=None,\n",
      "            min_impurity_decrease=0.0, min_impurity_split=None,\n",
      "            min_samples_leaf=1, min_samples_split=2,\n",
      "            min_weight_fraction_leaf=0.0, presort=False, random_state=None,\n",
      "            splitter='best'), 'n_estimators': 1000}\n",
      "0.628 (+/-0.024) for {'algorithm': 'SAMME', 'base_estimator': DecisionTreeClassifier(class_weight=None, criterion='gini', max_depth=2,\n",
      "            max_features=None, max_leaf_nodes=None,\n",
      "            min_impurity_decrease=0.0, min_impurity_split=None,\n",
      "            min_samples_leaf=1, min_samples_split=2,\n",
      "            min_weight_fraction_leaf=0.0, presort=False, random_state=None,\n",
      "            splitter='best'), 'n_estimators': 1200}\n",
      "0.624 (+/-0.028) for {'algorithm': 'SAMME', 'base_estimator': DecisionTreeClassifier(class_weight=None, criterion='gini', max_depth=2,\n",
      "            max_features=None, max_leaf_nodes=None,\n",
      "            min_impurity_decrease=0.0, min_impurity_split=None,\n",
      "            min_samples_leaf=1, min_samples_split=2,\n",
      "            min_weight_fraction_leaf=0.0, presort=False, random_state=None,\n",
      "            splitter='best'), 'n_estimators': 1400}\n",
      "0.626 (+/-0.029) for {'algorithm': 'SAMME', 'base_estimator': DecisionTreeClassifier(class_weight=None, criterion='gini', max_depth=2,\n",
      "            max_features=None, max_leaf_nodes=None,\n",
      "            min_impurity_decrease=0.0, min_impurity_split=None,\n",
      "            min_samples_leaf=1, min_samples_split=2,\n",
      "            min_weight_fraction_leaf=0.0, presort=False, random_state=None,\n",
      "            splitter='best'), 'n_estimators': 1600}\n",
      "0.613 (+/-0.017) for {'algorithm': 'SAMME', 'base_estimator': DecisionTreeClassifier(class_weight=None, criterion='gini', max_depth=3,\n",
      "            max_features=None, max_leaf_nodes=None,\n",
      "            min_impurity_decrease=0.0, min_impurity_split=None,\n",
      "            min_samples_leaf=1, min_samples_split=2,\n",
      "            min_weight_fraction_leaf=0.0, presort=False, random_state=None,\n",
      "            splitter='best'), 'n_estimators': 200}\n",
      "0.606 (+/-0.018) for {'algorithm': 'SAMME', 'base_estimator': DecisionTreeClassifier(class_weight=None, criterion='gini', max_depth=3,\n",
      "            max_features=None, max_leaf_nodes=None,\n",
      "            min_impurity_decrease=0.0, min_impurity_split=None,\n",
      "            min_samples_leaf=1, min_samples_split=2,\n",
      "            min_weight_fraction_leaf=0.0, presort=False, random_state=None,\n",
      "            splitter='best'), 'n_estimators': 400}\n",
      "0.604 (+/-0.031) for {'algorithm': 'SAMME', 'base_estimator': DecisionTreeClassifier(class_weight=None, criterion='gini', max_depth=3,\n",
      "            max_features=None, max_leaf_nodes=None,\n",
      "            min_impurity_decrease=0.0, min_impurity_split=None,\n",
      "            min_samples_leaf=1, min_samples_split=2,\n",
      "            min_weight_fraction_leaf=0.0, presort=False, random_state=None,\n",
      "            splitter='best'), 'n_estimators': 600}\n",
      "0.599 (+/-0.038) for {'algorithm': 'SAMME', 'base_estimator': DecisionTreeClassifier(class_weight=None, criterion='gini', max_depth=3,\n",
      "            max_features=None, max_leaf_nodes=None,\n",
      "            min_impurity_decrease=0.0, min_impurity_split=None,\n",
      "            min_samples_leaf=1, min_samples_split=2,\n",
      "            min_weight_fraction_leaf=0.0, presort=False, random_state=None,\n",
      "            splitter='best'), 'n_estimators': 800}\n",
      "0.599 (+/-0.037) for {'algorithm': 'SAMME', 'base_estimator': DecisionTreeClassifier(class_weight=None, criterion='gini', max_depth=3,\n",
      "            max_features=None, max_leaf_nodes=None,\n",
      "            min_impurity_decrease=0.0, min_impurity_split=None,\n",
      "            min_samples_leaf=1, min_samples_split=2,\n",
      "            min_weight_fraction_leaf=0.0, presort=False, random_state=None,\n",
      "            splitter='best'), 'n_estimators': 1000}\n",
      "0.600 (+/-0.034) for {'algorithm': 'SAMME', 'base_estimator': DecisionTreeClassifier(class_weight=None, criterion='gini', max_depth=3,\n",
      "            max_features=None, max_leaf_nodes=None,\n",
      "            min_impurity_decrease=0.0, min_impurity_split=None,\n",
      "            min_samples_leaf=1, min_samples_split=2,\n",
      "            min_weight_fraction_leaf=0.0, presort=False, random_state=None,\n",
      "            splitter='best'), 'n_estimators': 1200}\n",
      "0.599 (+/-0.035) for {'algorithm': 'SAMME', 'base_estimator': DecisionTreeClassifier(class_weight=None, criterion='gini', max_depth=3,\n",
      "            max_features=None, max_leaf_nodes=None,\n",
      "            min_impurity_decrease=0.0, min_impurity_split=None,\n",
      "            min_samples_leaf=1, min_samples_split=2,\n",
      "            min_weight_fraction_leaf=0.0, presort=False, random_state=None,\n",
      "            splitter='best'), 'n_estimators': 1400}\n",
      "0.598 (+/-0.033) for {'algorithm': 'SAMME', 'base_estimator': DecisionTreeClassifier(class_weight=None, criterion='gini', max_depth=3,\n",
      "            max_features=None, max_leaf_nodes=None,\n",
      "            min_impurity_decrease=0.0, min_impurity_split=None,\n",
      "            min_samples_leaf=1, min_samples_split=2,\n",
      "            min_weight_fraction_leaf=0.0, presort=False, random_state=None,\n",
      "            splitter='best'), 'n_estimators': 1600}\n",
      "0.591 (+/-0.038) for {'algorithm': 'SAMME', 'base_estimator': DecisionTreeClassifier(class_weight=None, criterion='gini', max_depth=4,\n",
      "            max_features=None, max_leaf_nodes=None,\n",
      "            min_impurity_decrease=0.0, min_impurity_split=None,\n",
      "            min_samples_leaf=1, min_samples_split=2,\n",
      "            min_weight_fraction_leaf=0.0, presort=False, random_state=None,\n",
      "            splitter='best'), 'n_estimators': 200}\n",
      "0.588 (+/-0.026) for {'algorithm': 'SAMME', 'base_estimator': DecisionTreeClassifier(class_weight=None, criterion='gini', max_depth=4,\n",
      "            max_features=None, max_leaf_nodes=None,\n",
      "            min_impurity_decrease=0.0, min_impurity_split=None,\n",
      "            min_samples_leaf=1, min_samples_split=2,\n",
      "            min_weight_fraction_leaf=0.0, presort=False, random_state=None,\n",
      "            splitter='best'), 'n_estimators': 400}\n",
      "0.596 (+/-0.026) for {'algorithm': 'SAMME', 'base_estimator': DecisionTreeClassifier(class_weight=None, criterion='gini', max_depth=4,\n",
      "            max_features=None, max_leaf_nodes=None,\n",
      "            min_impurity_decrease=0.0, min_impurity_split=None,\n",
      "            min_samples_leaf=1, min_samples_split=2,\n",
      "            min_weight_fraction_leaf=0.0, presort=False, random_state=None,\n",
      "            splitter='best'), 'n_estimators': 600}\n",
      "0.600 (+/-0.022) for {'algorithm': 'SAMME', 'base_estimator': DecisionTreeClassifier(class_weight=None, criterion='gini', max_depth=4,\n",
      "            max_features=None, max_leaf_nodes=None,\n",
      "            min_impurity_decrease=0.0, min_impurity_split=None,\n",
      "            min_samples_leaf=1, min_samples_split=2,\n",
      "            min_weight_fraction_leaf=0.0, presort=False, random_state=None,\n",
      "            splitter='best'), 'n_estimators': 800}\n",
      "0.598 (+/-0.025) for {'algorithm': 'SAMME', 'base_estimator': DecisionTreeClassifier(class_weight=None, criterion='gini', max_depth=4,\n",
      "            max_features=None, max_leaf_nodes=None,\n",
      "            min_impurity_decrease=0.0, min_impurity_split=None,\n",
      "            min_samples_leaf=1, min_samples_split=2,\n",
      "            min_weight_fraction_leaf=0.0, presort=False, random_state=None,\n",
      "            splitter='best'), 'n_estimators': 1000}\n",
      "0.599 (+/-0.027) for {'algorithm': 'SAMME', 'base_estimator': DecisionTreeClassifier(class_weight=None, criterion='gini', max_depth=4,\n",
      "            max_features=None, max_leaf_nodes=None,\n",
      "            min_impurity_decrease=0.0, min_impurity_split=None,\n",
      "            min_samples_leaf=1, min_samples_split=2,\n",
      "            min_weight_fraction_leaf=0.0, presort=False, random_state=None,\n",
      "            splitter='best'), 'n_estimators': 1200}\n",
      "0.599 (+/-0.027) for {'algorithm': 'SAMME', 'base_estimator': DecisionTreeClassifier(class_weight=None, criterion='gini', max_depth=4,\n",
      "            max_features=None, max_leaf_nodes=None,\n",
      "            min_impurity_decrease=0.0, min_impurity_split=None,\n",
      "            min_samples_leaf=1, min_samples_split=2,\n",
      "            min_weight_fraction_leaf=0.0, presort=False, random_state=None,\n",
      "            splitter='best'), 'n_estimators': 1400}\n",
      "0.600 (+/-0.028) for {'algorithm': 'SAMME', 'base_estimator': DecisionTreeClassifier(class_weight=None, criterion='gini', max_depth=4,\n",
      "            max_features=None, max_leaf_nodes=None,\n",
      "            min_impurity_decrease=0.0, min_impurity_split=None,\n",
      "            min_samples_leaf=1, min_samples_split=2,\n",
      "            min_weight_fraction_leaf=0.0, presort=False, random_state=None,\n",
      "            splitter='best'), 'n_estimators': 1600}\n",
      "CV time: 57036.485065023\n",
      "\n",
      "{'algorithm': 'SAMME', 'base_estimator': DecisionTreeClassifier(class_weight=None, criterion='gini', max_depth=1,\n",
      "            max_features=None, max_leaf_nodes=None,\n",
      "            min_impurity_decrease=0.0, min_impurity_split=None,\n",
      "            min_samples_leaf=1, min_samples_split=2,\n",
      "            min_weight_fraction_leaf=0.0, presort=False, random_state=None,\n",
      "            splitter='best'), 'n_estimators': 600, 'score': 0.6400681182337915}\n",
      "Tuning time elapsed: 57036.4884seconds\n"
     ]
    },
    {
     "name": "stdout",
     "output_type": "stream",
     "text": [
      "Best OOB Accuracy Estimate during tuning: 0.6401\n",
      "Best parameters:{'algorithm': 'SAMME', 'base_estimator': DecisionTreeClassifier(class_weight=None, criterion='gini', max_depth=1,\n",
      "            max_features=None, max_leaf_nodes=None,\n",
      "            min_impurity_decrease=0.0, min_impurity_split=None,\n",
      "            min_samples_leaf=1, min_samples_split=2,\n",
      "            min_weight_fraction_leaf=0.0, presort=False, random_state=None,\n",
      "            splitter='best'), 'n_estimators': 600, 'random_state': 123}\n",
      "\n",
      "\n",
      "Beginning benchmark for usoc2 data.\n",
      "Hyper-parameter settings: {'paths_lengths_threshold': 5, 'support_paths': 0.01, 'alpha_paths': 0.0, 'disc_path_bins': 4, 'disc_path_eqcounts': True, 'score_func': 1, 'weighting': 'kldiv', 'which_trees': 'majority', 'merging_bootstraps': 20, 'pruning_bootstraps': 20, 'delta': 0.05}\n",
      "\n",
      "Prepare Unseen Data and Predictions for CHIRPS benchmark\n",
      "Walking forest for 5 instances... (please wait)\n",
      "Forest Walk with async = False\n",
      "Forest Walk time elapsed: 0.3383 seconds\n",
      "\n",
      "Running CHIRPS on a batch of 5 instances... (please wait)\n",
      "Working on CHIRPS for instance 0 of 5\n"
     ]
    },
    {
     "name": "stderr",
     "output_type": "stream",
     "text": [
      "C:\\Users\\id126493\\Documents\\GitHub\\explain_te\\CHIRPS\\structures.py:1337: RuntimeWarning: invalid value encountered in true_divide\n",
      "  np.histogram(uppers, upper_bins)[0]).round(5) # can result in nans if no value falls into bin\n",
      "C:\\Users\\id126493\\Documents\\GitHub\\explain_te\\CHIRPS\\structures.py:1342: RuntimeWarning: invalid value encountered in true_divide\n",
      "  np.histogram(lowers, lower_bins)[0]).round(5) # can result in nans\n",
      "C:\\Users\\id126493\\Documents\\GitHub\\explain_te\\CHIRPS\\structures.py:1337: RuntimeWarning: invalid value encountered in true_divide\n",
      "  np.histogram(uppers, upper_bins)[0]).round(5) # can result in nans if no value falls into bin\n",
      "C:\\Users\\id126493\\Documents\\GitHub\\explain_te\\CHIRPS\\structures.py:1342: RuntimeWarning: invalid value encountered in true_divide\n",
      "  np.histogram(lowers, lower_bins)[0]).round(5) # can result in nans\n",
      "C:\\Users\\id126493\\Documents\\GitHub\\explain_te\\CHIRPS\\structures.py:1337: RuntimeWarning: invalid value encountered in true_divide\n",
      "  np.histogram(uppers, upper_bins)[0]).round(5) # can result in nans if no value falls into bin\n",
      "C:\\Users\\id126493\\Documents\\GitHub\\explain_te\\CHIRPS\\structures.py:1342: RuntimeWarning: invalid value encountered in true_divide\n",
      "  np.histogram(lowers, lower_bins)[0]).round(5) # can result in nans\n",
      "C:\\Users\\id126493\\Documents\\GitHub\\explain_te\\CHIRPS\\structures.py:1337: RuntimeWarning: invalid value encountered in true_divide\n",
      "  np.histogram(uppers, upper_bins)[0]).round(5) # can result in nans if no value falls into bin\n",
      "C:\\Users\\id126493\\Documents\\GitHub\\explain_te\\CHIRPS\\structures.py:1342: RuntimeWarning: invalid value encountered in true_divide\n",
      "  np.histogram(lowers, lower_bins)[0]).round(5) # can result in nans\n",
      "C:\\Users\\id126493\\Documents\\GitHub\\explain_te\\CHIRPS\\structures.py:1337: RuntimeWarning: invalid value encountered in true_divide\n",
      "  np.histogram(uppers, upper_bins)[0]).round(5) # can result in nans if no value falls into bin\n",
      "C:\\Users\\id126493\\Documents\\GitHub\\explain_te\\CHIRPS\\structures.py:1342: RuntimeWarning: invalid value encountered in true_divide\n",
      "  np.histogram(lowers, lower_bins)[0]).round(5) # can result in nans\n"
     ]
    },
    {
     "name": "stdout",
     "output_type": "stream",
     "text": [
      "CHIRPS time elapsed: 25.9282 seconds\n",
      "CHIRPS with async = False\n",
      "\n",
      "Evaluating found explanations\n",
      "Results saved to V:\\whiteboxing\\tests\\usoc2\\AdaBoost1_CHIRPS_rnst_123\n",
      "CHIRPS batch results eval time elapsed: 10.3810 seconds\n",
      "\n"
     ]
    }
   ],
   "source": [
    "# load what we need\n",
    "import CHIRPS.datasets as ds\n",
    "import CHIRPS.reproducible as rp\n",
    "import CHIRPS.datasets_proprietary as dsp\n",
    "\n",
    "# CHIRPS default set up\n",
    "merging_bootstraps = 20\n",
    "pruning_bootstraps = 20\n",
    "delta = 0.05\n",
    "\n",
    "forest_walk_async=False\n",
    "chirps_explanation_async=False\n",
    "\n",
    "n_instances = 5\n",
    "\n",
    "# model = 'RandomForest'\n",
    "model = 'AdaBoost1'\n",
    "# model = 'AdaBoost2'\n",
    "# model = 'GBM'\n",
    "\n",
    "do_Anchors = True\n",
    "do_dfrgTrs = True\n",
    "\n",
    "datasets = [dsp.usoc2] # here can opt for just one, e.g. [rp.datasets[0]] (as an iterator)\n",
    "start_instance = 0 # here can opt to start at a specific instance\n",
    "\n",
    "project_dir = 'V:\\\\whiteboxing\\\\examples' # defaults to a directory \"whiteboxing\" in the working directory\n",
    "# project_dir = 'C:\\\\Users\\\\Crutt\\\\Documents\\\\whiteboxing\\\\tests'\n",
    "random_state_splits = 123 # change this if you want to try different splits of the data into test / train\n",
    "random_state_rf = 123 # change this if you want to try with different forest construction\n",
    "random_state_exp = 123 # change this if you want to try with different runs of the explainer algorithm (affects bootstrap eval)\n",
    "\n",
    "verbose = True\n",
    "\n",
    "tuning = {'grid' : None, 'override' : False}\n",
    "if model == 'RandomForest':\n",
    "    tuning.update({'grid' : None}) # defaults to n_trees [200, 400, ..., 1600]\n",
    "    benchmark_items = rp.benchmarking_prep(datasets, model, tuning, project_dir,\n",
    "                                           random_state=random_state_rf,\n",
    "                                           random_state_splits=random_state_splits,\n",
    "                                           start_instance=start_instance, verbose=verbose)\n",
    "\n",
    "    kwargs = {'support_paths' : 0.1, 'alpha_paths' : 0.5, 'disc_path_bins' : 4,\n",
    "             'score_func' : 1, 'weighting' : 'chisq',\n",
    "             'merging_bootstraps' : merging_bootstraps,\n",
    "             'pruning_bootstraps' : pruning_bootstraps, 'delta' : delta}\n",
    " \n",
    "    control = {'method' : 'CHIRPS', 'model' : model,\n",
    "                'n_instances' : n_instances,\n",
    "                'random_state' : random_state_exp,\n",
    "                'kwargs' : kwargs,\n",
    "                'forest_walk_async' : forest_walk_async,\n",
    "                'chirps_explanation_async' : chirps_explanation_async}\n",
    "    \n",
    "    rp.do_benchmarking(benchmark_items, verbose, **control)\n",
    "    \n",
    "    if do_Anchors:\n",
    "        control = {'method' : 'Anchors',\n",
    "                   'model' : model,\n",
    "                   'n_instances' : n_instances,\n",
    "                   'random_state' : random_state_exp}\n",
    "        rp.do_benchmarking(benchmark_items, verbose, **control)\n",
    "        \n",
    "    if do_dfrgTrs:\n",
    "        control = {'method' : 'defragTrees',\n",
    "                    'Kmax' : 1, 'restart' : 1, 'maxitr' : 1,\n",
    "                    'model' : model,\n",
    "                    'n_instances' : n_instances,\n",
    "                    'random_state' : random_state_exp}\n",
    "        rp.do_benchmarking(benchmark_items, verbose, **control)\n",
    "            \n",
    "elif model == \"AdaBoost1\":\n",
    "    algo = 'SAMME'\n",
    "    max_depth = [i for i in range(1, 5)]\n",
    "    tuning.update({'grid' : {'base_estimator' : [rp.DecisionTreeClassifier(max_depth=d) for d in max_depth],\n",
    "                            'n_estimators': [(i + 1) * 200 for i in range(8)], 'algorithm': [algo]}})\n",
    "    benchmark_items = rp.benchmarking_prep(datasets, model, tuning, project_dir,\n",
    "                                           random_state=123, random_state_splits=123,\n",
    "                                           start_instance=start_instance, verbose=verbose)\n",
    "    \n",
    "    kwargs = {'paths_lengths_threshold' : 5,\n",
    "             'support_paths' : 0.01, 'alpha_paths' : 0.0,\n",
    "             'disc_path_bins' : 4, 'disc_path_eqcounts' : True,\n",
    "             'score_func' : 1, 'weighting' : 'kldiv',\n",
    "             'which_trees' : 'majority',\n",
    "             'merging_bootstraps' : merging_bootstraps,\n",
    "             'pruning_bootstraps' : pruning_bootstraps, 'delta' : delta}\n",
    " \n",
    "    control = {'method' : 'CHIRPS', 'model' : model,\n",
    "                'n_instances' : n_instances,\n",
    "                'random_state' : random_state_exp,\n",
    "                'kwargs' : kwargs,\n",
    "                'forest_walk_async' : forest_walk_async,\n",
    "                'chirps_explanation_async' : chirps_explanation_async}\n",
    "    \n",
    "    rp.do_benchmarking(benchmark_items, verbose=True, **control)\n",
    "    \n",
    "elif model == 'AdaBoost2':\n",
    "    algo = 'SAMME.R'\n",
    "    max_depth = [i for i in range(1, 5)]\n",
    "    tuning.update({'grid' : {'base_estimator' : [rp.DecisionTreeClassifier(max_depth=d) for d in max_depth],\n",
    "                            'n_estimators': [(i + 1) * 200 for i in range(8)], 'algorithm': [algo]}})\n",
    "    benchmark_items = rp.benchmarking_prep(datasets, model, tuning, project_dir,\n",
    "                                           random_state=123, random_state_splits=123,\n",
    "                                           start_instance=start_instance, verbose=verbose)\n",
    "    \n",
    "    kwargs = {'paths_lengths_threshold' : 5,\n",
    "                 'support_paths' : 0.01, 'alpha_paths' : 0.0,\n",
    "                 'disc_path_bins' : 8, 'disc_path_eqcounts' : True,\n",
    "                 'score_func' : 1, 'weighting' : 'kldiv',\n",
    "                 'which_trees' : 'majority',\n",
    "                 'merging_bootstraps' : merging_bootstraps,\n",
    "                 'pruning_bootstraps' : pruning_bootstraps, 'delta' : delta}\n",
    "    \n",
    "    control = {'method' : 'CHIRPS', 'model' : model,\n",
    "                'n_instances' : n_instances,\n",
    "                'random_state' : random_state_exp,\n",
    "                'kwargs' : kwargs,\n",
    "                'forest_walk_async' : forest_walk_async,\n",
    "                'chirps_explanation_async' : chirps_explanation_async}\n",
    "    \n",
    "    rp.do_benchmarking(benchmark_items, verbose=True, **control)\n",
    "    \n",
    "else: # GBM\n",
    "    benchmark_items = rp.benchmarking_prep(datasets, model, tuning, project_dir,\n",
    "                                           random_state=123, random_state_splits=123,\n",
    "                                           start_instance=start_instance, verbose=verbose)"
   ]
  },
  {
   "cell_type": "code",
   "execution_count": null,
   "metadata": {},
   "outputs": [],
   "source": [
    "# for notebook plotting\n",
    "%matplotlib inline \n",
    "\n",
    "# load what we need\n",
    "import time\n",
    "import timeit\n",
    "import numpy as np\n",
    "import CHIRPS.structures as strcts\n",
    "import CHIRPS.routines as rt\n",
    "import CHIRPS.reproducible as rp\n",
    "import CHIRPS.boosting_scratch as bs\n",
    "from CHIRPS import p_count_corrected, if_nexists_make_dir, chisq_indep_test, entropy_corrected, contingency_test, confidence_weight\n",
    "from IPython.display import Image\n",
    "from sklearn.externals.six import StringIO\n",
    "from sklearn.tree import DecisionTreeClassifier, export_graphviz\n",
    "from pydotplus import graph_from_dot_data\n",
    "\n",
    "# demo datasets that ship with package. all from UCI unless stated otherwise\n",
    "# import CHIRPS.datasets as ds\n",
    "# ds.adult_data, ds.adult_samp_data, ds.adult_small_samp_data Large dataset ships with manageable sub samples\n",
    "# ds.bankmark_data, ds.bankmark_samp_data\n",
    "# ds.car_data\n",
    "# ds.cardio_data this is the cardiotocography dataset\n",
    "# ds.credit_data\n",
    "# ds.german_data\n",
    "# ds.lending_data, ds.lending_samp_data, ds.lending_small_samp_data, ds.lending_tiny_samp_data from Kaggle. see datasets_from_source file for links\n",
    "# ds.nursery_data, ds.nursery_samp_data\n",
    "# ds.rcdv_data, ds.rcdv_samp_data from US government see datasets_from_source file for links"
   ]
  },
  {
   "cell_type": "markdown",
   "metadata": {},
   "source": [
    "### common config - can be ommitted if defaults are OK"
   ]
  },
  {
   "cell_type": "code",
   "execution_count": null,
   "metadata": {},
   "outputs": [],
   "source": [
    "project_dir = 'V:\\\\whiteboxing\\\\examples' # defaults to a directory \"whiteboxing\" in the working directory\n",
    "# project_dir = 'C:\\\\Users\\\\Crutt\\\\Documents\\\\whiteboxing\\\\examples'\n",
    "random_state_splits = 123 # one off for splitting the data into test / train\n",
    "random_state = 123 # for everything else - e.g. building a new rf with same data"
   ]
  },
  {
   "cell_type": "markdown",
   "metadata": {},
   "source": [
    "# Build a Random Forest Model to Predict and Explain\n",
    "First, a wrapper is created for the dataset. Use one that ships with the package, or create your own.\n",
    "Then split the data into training and (hold out) test set using the convenience functions in the package. These return an object that contain the split data in various representations, such as Pandas DataFrames and encoded, sparse matrices."
   ]
  },
  {
   "cell_type": "code",
   "execution_count": null,
   "metadata": {},
   "outputs": [],
   "source": [
    "# load one of the included datasets\n",
    "# project_dir will default to directory name CHIRPS in the working directory if not given\n",
    "# random_state will default to 123\n",
    "mydata = rp.datasets[0](random_state=random_state, project_dir=project_dir)\n",
    "meta_data = mydata.get_meta()\n",
    "save_path = meta_data['get_save_path']()\n",
    "\n",
    "# split the data. here using a basic sampling method.\n",
    "# the returned object is a wrapper class that contains\n",
    "# the train and test splits for X and y\n",
    "\n",
    "# also the the encoded versions of X_train and X_test that the rf will use\n",
    "# this is because we prefer onehot encoded over allowing categorical vars to be represented as integer\n",
    "# scikit would treat these as ordinal, which is inappropriate\n",
    "\n",
    "# also some meta-data: priors for y, the indexes from the input data\n",
    "\n",
    "# also some convenience functions for leave-one-out testing\n",
    "\n",
    "# train test split - one off hard-coded random state.\n",
    "# random state can be ommitted \n",
    "# and will default to the state held in the dataset container\n",
    "# which defaults to 123 if ommitted in the constructor\n",
    "train_index, test_index = mydata.get_tt_split_idx(random_state=random_state_splits)\n",
    "# optionally, indexes can be ommitted and will default to scikit's train_test_split method\n",
    "tt = mydata.tt_split(train_index, test_index)"
   ]
  },
  {
   "cell_type": "code",
   "execution_count": null,
   "metadata": {
    "scrolled": false
   },
   "outputs": [],
   "source": [
    "# build model\n",
    "model='GBM'\n",
    "# tuning_grid = {'max_depth' : [d for d in [i for i in range(1, 5)]],\n",
    "#               'n_estimators' : [(i + 1) * 200 for i in range(2)],\n",
    "#               'learning_rate' : [i/10 for i in range(1, 11)],\n",
    "#               'subsample' : [0.25, 0.5, 0.75, 1.0]}\n",
    "\n",
    "tuning_grid = {'max_depth' : [d for d in [i for i in range(1, 2)]],\n",
    "                'n_estimators' : [(i + 1) * 200 for i in range(1, 2)],\n",
    "                'learning_rate' : [i/10 for i in range(1, 2)],\n",
    "                'subsample' : [1.0]}\n",
    "\n",
    "\n",
    "rf = rp.forest_prep(ds_container=tt,\n",
    "                    meta_data=meta_data,\n",
    "                    override_tuning=True,\n",
    "                    model=model,\n",
    "                    tuning_grid=tuning_grid,\n",
    "                    save_path=save_path,\n",
    "                    plot_cm=True, plot_cm_norm=True)\n"
   ]
  },
  {
   "cell_type": "code",
   "execution_count": null,
   "metadata": {},
   "outputs": [],
   "source": [
    "# control for async processes - each tree walk can be done in its own core\n",
    "# and so can each explanation (e.g. rule conditions merge by hill-climbing)\n",
    "# these will default to false if not passed explicitly to the explainer function\n",
    "# on a multi-core machine there should be a good speed up for large batches\n",
    "# when the batch_size advantage exceeds the overhead of setting up multi-processing\n",
    "# timings will be printed to screen so you can see if it helps\n",
    "forest_walk_async=False\n",
    "chirps_explanation_async=False\n",
    "\n",
    "# how many instances to explain in total from a test/unseen set\n",
    "n_instances = 1\n",
    "\n",
    "# this will normalise the above parameters to the size of the dataset\n",
    "n_instances = rt.n_instance_ceiling(ds_container=tt, n_instances=n_instances)\n",
    "\n",
    "# this gets the next batch out of the data_split_container according to the required number of instances\n",
    "# all formats can be extracted, depending on the requirement\n",
    "# unencoded, encoded (sparse matrix is the type returned by scikit), ordinary dense matrix also available\n",
    "instances, _, instances_enc, instances_enc_matrix, labels = tt.get_next(n_instances, which_split='test') # default"
   ]
  },
  {
   "cell_type": "code",
   "execution_count": null,
   "metadata": {
    "scrolled": false
   },
   "outputs": [],
   "source": [
    "# get all the model predictions for the test instance(s) we're looking at\n",
    "preds_idx = labels.index\n",
    "preds = rf.predict(X=instances_enc)\n",
    "\n",
    "f_walker = strcts.forest_walker(forest = rf, meta_data=meta_data)\n",
    "\n",
    "print('Walking forest for ' + str(len(labels)) + ' instances... (please wait)')\n",
    "\n",
    "# set the timer\n",
    "forest_walk_start_time = timeit.default_timer()\n",
    "\n",
    "# do the walk - returns a batch_paths_container (even for just one instance)\n",
    "# requires the X instances in a matrix (dense, ordinary numpy matrix) - this is available in the data_split_container\n",
    "bp_container = f_walker.forest_walk(instances = instances_enc_matrix\n",
    "                        , labels = preds # we're explaining the prediction, not the true label!\n",
    "                        , forest_walk_async = forest_walk_async)\n",
    "\n",
    "# stop the timer\n",
    "forest_walk_end_time = timeit.default_timer()\n",
    "forest_walk_elapsed_time = forest_walk_end_time - forest_walk_start_time\n",
    "\n",
    "print('Forest Walk with async = ' + str(forest_walk_async))\n",
    "print('Forest Walk time elapsed:', \"{:0.4f}\".format(forest_walk_elapsed_time), 'seconds')"
   ]
  },
  {
   "cell_type": "code",
   "execution_count": null,
   "metadata": {
    "scrolled": false
   },
   "outputs": [],
   "source": [
    "# get what the model predicts on the training sample\n",
    "sample_labels = rf.predict(tt.X_train_enc)\n",
    "\n",
    "# build CHIRPS and a rule for each instance represented in the batch paths container\n",
    "CHIRPS = strcts.batch_CHIRPS_explainer(bp_container,\n",
    "                                forest=rf,\n",
    "                                sample_instances=tt.X_train_enc, # any representative sample can be used\n",
    "                                # sample_labels=tt.y_train,  # any representative sample can be used\n",
    "                                sample_labels=sample_labels,\n",
    "                                meta_data=meta_data)\n",
    "\n",
    "print('Running CHIRPS on a batch of ' + str(len(labels)) + ' instances... (please wait)')\n",
    "# start a timer\n",
    "ce_start_time = timeit.default_timer()\n",
    "\n",
    "CHIRPS.batch_run_CHIRPS(chirps_explanation_async=chirps_explanation_async,\n",
    "                        paths_lengths_threshold=5,\n",
    "                        alpha_paths=0.0,\n",
    "                        support_paths=0.01,\n",
    "                        score_func=1,\n",
    "                        disc_path_bins=4,\n",
    "                        target_classes=preds,\n",
    "                        merging_bootstraps=20,\n",
    "                        pruning_bootstraps=20,\n",
    "                        delta=0.1,\n",
    "                        weighting='chisq')\n",
    "\n",
    "ce_end_time = timeit.default_timer()\n",
    "ce_elapsed_time = ce_end_time - ce_start_time\n",
    "print('CHIRPS time elapsed:', \"{:0.4f}\".format(ce_elapsed_time), 'seconds')\n",
    "print('CHIRPS with async = ' + str(chirps_explanation_async))"
   ]
  },
  {
   "cell_type": "code",
   "execution_count": null,
   "metadata": {
    "scrolled": false
   },
   "outputs": [],
   "source": [
    "# iterate over all the test instances to determine the various scores using leave-one-out testing\n",
    "print('evaluating found explanations')\n",
    "print()\n",
    "results_start_time = timeit.default_timer()\n",
    "\n",
    "rt.evaluate_CHIRPS_explainers(CHIRPS, tt, labels.index, # for batch runs: tt.y_test.index,\n",
    "                              forest=rf,\n",
    "                              meta_data=meta_data,\n",
    "                              model=model,\n",
    "                              eval_start_time=results_start_time,\n",
    "                              print_to_screen=True, # set True when running single instances\n",
    "                              eval_alt_labelings=True,\n",
    "                              eval_rule_complements=True,\n",
    "                              save_results_path=save_path,\n",
    "                              dataset_name='test',\n",
    "                              save_results_file='CHIRPS' + '_rnst_' + str(random_state),\n",
    "                              save_CHIRPS=False)\n",
    "\n",
    "results_end_time = timeit.default_timer()\n",
    "results_elapsed_time = results_end_time - results_start_time\n",
    "print('CHIRPS batch results eval time elapsed:', \"{:0.4f}\".format(results_elapsed_time), 'seconds')\n",
    "# this completes the CHIRPS runs"
   ]
  },
  {
   "cell_type": "code",
   "execution_count": null,
   "metadata": {
    "scrolled": false
   },
   "outputs": [],
   "source": [
    "import numpy as np\n",
    "n_kwargs = 96\n",
    "\n",
    "disc_path_bins = np.tile(np.tile(np.repeat([4, 8], 3), 8), 2)\n",
    "disc_path_eqcounts = np.tile(np.tile(np.repeat([True, False], 6), 4), 2)\n",
    "support_paths = np.tile(np.tile([0.05, 0.02, 0.01], 16), 2)\n",
    "weighting = np.tile(np.repeat(['chisq', 'kldiv', 'lodds', 'nothing'], 12), 2)\n",
    "which_trees = np.repeat(['majority', 'conf_weighted'], 48)\n",
    "\n",
    "kwargs_grid = {k : {'paths_lengths_threshold' : 5, 'alpha_paths' : 0.0,\n",
    "                    'disc_path_bins' : dpb, 'disc_path_eqcounts' : dpeq,\n",
    "                    'score_func' : 1, 'weighting' : w, 'support_paths' : sp,\n",
    "                    'merging_bootstraps' : merging_bootstraps,\n",
    "                    'pruning_bootstraps' : pruning_bootstraps,\n",
    "                    'which_trees' : wchtr,\n",
    "                    'delta' : delta} \n",
    "for k, dpb, dpeq, w, sp, wchtr \\\n",
    "               in zip(range(n_kwargs), disc_path_bins, disc_path_eqcounts, weighting, support_paths, which_trees)}\n",
    "\n",
    "kwargs_grid"
   ]
  },
  {
   "cell_type": "code",
   "execution_count": null,
   "metadata": {},
   "outputs": [],
   "source": [
    "fail"
   ]
  },
  {
   "cell_type": "code",
   "execution_count": null,
   "metadata": {},
   "outputs": [],
   "source": [
    "X = tt.X_test_enc[0:3,]\n",
    "pred_raw = [confidence_weight(estimator.predict_proba(X), 'proba') for estimator in rf.estimators_]\n",
    "print(np.mean(pred_raw, axis = 0))\n",
    "pred_log = [confidence_weight(estimator.predict_proba(X), 'log_proba') for estimator in rf.estimators_]\n",
    "print(np.mean(pred_log, axis = 0))\n",
    "pred = [confidence_weight(estimator.predict_proba(X), 'conf_weight') for estimator in rf.estimators_]\n",
    "print(np.mean(pred, axis = 0))"
   ]
  },
  {
   "cell_type": "code",
   "execution_count": null,
   "metadata": {
    "scrolled": false
   },
   "outputs": [],
   "source": [
    "pred = [confidence_weight(estimator.predict_proba(X), 'conf_weight') for estimator in rf.estimators_]\n",
    "pred = sum(pred)\n",
    "pred /= rf.estimator_weights_.sum()\n",
    "print(pred)\n",
    "pred = pred / (len(pred[0]) - 1)\n",
    "pred = np.exp(pred)\n",
    "print(pred)\n",
    "normalizer = pred.sum(axis=1)[:, np.newaxis]\n",
    "normalizer[normalizer == 0.0] = 1.0\n",
    "print(normalizer)\n",
    "pred /= normalizer\n",
    "pred\n"
   ]
  },
  {
   "cell_type": "code",
   "execution_count": null,
   "metadata": {
    "scrolled": false
   },
   "outputs": [],
   "source": [
    "pred = [confidence_weight(estimator.predict_proba(X), 'log_proba') for estimator in rf.estimators_]\n",
    "pred = np.mean(pred, axis=0)\n",
    "#pred /= rf.estimator_weights_.sum()\n",
    "print(pred)\n",
    "pred = np.exp(pred)\n",
    "print(pred)\n",
    "normalizer = pred.sum(axis=1)[:, np.newaxis]\n",
    "normalizer[normalizer == 0.0] = 1.0\n",
    "print(normalizer)\n",
    "pred /= normalizer\n",
    "pred"
   ]
  },
  {
   "cell_type": "code",
   "execution_count": null,
   "metadata": {},
   "outputs": [],
   "source": [
    "# how is GB working to calculate the predict function\n",
    "import numpy as np\n",
    "n = 300\n",
    "gbpreds = [gb.predict(X_test[i])[0] for i in range(n)]\n",
    "reg_tots = np.empty(n)\n",
    "for i in range(n):\n",
    "    reg_tots[i] = sum([gb.estimators_[j][0].predict(X_test[i])[0] for j in range(ne)])\n",
    "\n",
    "mn = np.inf\n",
    "mx = -np.inf\n",
    "for pred, tot in zip(gbpreds, reg_tots):\n",
    "    if pred == 0:\n",
    "        if mx < tot:\n",
    "            mx = tot\n",
    "    if pred == 1:\n",
    "        if mn > tot:\n",
    "            mn = tot\n",
    "            \n",
    "print(mx, mn)"
   ]
  },
  {
   "cell_type": "markdown",
   "metadata": {},
   "source": [
    "# Preparing unseen data\n",
    "\n",
    "Again note:\n",
    "test set has never been \"seen\" by random forest during training\n",
    "test set has been only used to assess model (random forest) accuracy - no additional tuning after this\n",
    "test set has not be involved in generating the explainer"
   ]
  },
  {
   "cell_type": "markdown",
   "metadata": {},
   "source": [
    "## optional: memory and computation cost management\n",
    "#### CHIRPS is time economical but memory intensive to compute for lots of instances at once\n",
    "option 1: choose a smaller number of instances to explain"
   ]
  },
  {
   "cell_type": "code",
   "execution_count": null,
   "metadata": {},
   "outputs": [],
   "source": [
    "# control for async processes - each tree walk can be done in its own core\n",
    "# and so can each explanation (e.g. rule conditions merge by hill-climbing)\n",
    "# these will default to false if not passed explicitly to the explainer function\n",
    "# on a multi-core machine there should be a good speed up for large batches\n",
    "# when the batch_size advantage exceeds the overhead of setting up multi-processing\n",
    "# timings will be printed to screen so you can see if it helps\n",
    "forest_walk_async=False\n",
    "chirps_explanation_async=False\n",
    "\n",
    "# the number of instances can be controlled by\n",
    "# batch_size - how many instances to explain at one time\n",
    "batch_size = 1\n",
    "# how many instances to explain in total from a test/unseen set\n",
    "n_instances = 1\n",
    "\n",
    "# this will normalise the above parameters to the size of the dataset\n",
    "n_instances, n_batches = rt.batch_instance_ceiling(ds_container=tt, n_instances=n_instances, batch_size=batch_size)\n",
    "\n",
    "# this gets the next batch out of the data_split_container according to the required number of instances\n",
    "# all formats can be extracted, depending on the requirement\n",
    "# unencoded, encoded (sparse matrix is the type returned by scikit), ordinary dense matrix also available\n",
    "instances, _, instances_enc, instances_enc_matrix, labels = tt.get_next(batch_size, which_split='test') # default"
   ]
  },
  {
   "cell_type": "markdown",
   "metadata": {},
   "source": [
    "option 2: just run the whole test set"
   ]
  },
  {
   "cell_type": "code",
   "execution_count": null,
   "metadata": {},
   "outputs": [],
   "source": [
    "# instances = tt.X_test; instances_enc = tt.X_test_enc; instances_enc_matrix = tt.X_test_enc_matrix; labels = tt.y_test"
   ]
  },
  {
   "cell_type": "markdown",
   "metadata": {},
   "source": [
    "## Make predictions from the decision forest on the unseen data\n",
    "Important point, no compromise on model accuracy"
   ]
  },
  {
   "cell_type": "code",
   "execution_count": null,
   "metadata": {},
   "outputs": [],
   "source": [
    "# get all the model predictions for the test instance(s) we're looking at\n",
    "preds_idx = labels.index\n",
    "preds = rf.predict(X=instances_enc)"
   ]
  },
  {
   "cell_type": "markdown",
   "metadata": {},
   "source": [
    "# CHIRPS Step 1:\n",
    "## Extract Tree Prediction Paths\n",
    "### Fit a forest_walker object to the dataset and decision forest\n",
    "This is a wrapper will extracts the paths of all the given instances. For CHIRPS, we want a large sample. The whole training set or other representative sample will do.\n",
    "\n",
    "It can also report interesting statistics (treating the forest as a set of random tree-structured variables)."
   ]
  },
  {
   "cell_type": "code",
   "execution_count": null,
   "metadata": {},
   "outputs": [],
   "source": [
    "# wrapper object needs the decision forest itself and the dataset meta data (we have a convenience function for this)\n",
    "f_walker = strcts.forest_walker(forest = rf, meta_data=meta_data)"
   ]
  },
  {
   "cell_type": "markdown",
   "metadata": {},
   "source": [
    "Now the work of extracting all the paths for each instance is done"
   ]
  },
  {
   "cell_type": "code",
   "execution_count": null,
   "metadata": {
    "scrolled": true
   },
   "outputs": [],
   "source": [
    "print('Walking forest for ' + str(len(labels)) + ' instances... (please wait)')\n",
    "\n",
    "# set the timer\n",
    "forest_walk_start_time = timeit.default_timer()\n",
    "\n",
    "# do the walk - returns a batch_paths_container (even for just one instance)\n",
    "# requires the X instances in a matrix (dense, ordinary numpy matrix) - this is available in the data_split_container\n",
    "bp_container = f_walker.forest_walk(instances = instances_enc_matrix\n",
    "                        , labels = preds # we're explaining the prediction, not the true label!\n",
    "                        , forest_walk_async = forest_walk_async)\n",
    "\n",
    "# stop the timer\n",
    "forest_walk_end_time = timeit.default_timer()\n",
    "forest_walk_elapsed_time = forest_walk_end_time - forest_walk_start_time\n",
    "\n",
    "print('Forest Walk with async = ' + str(forest_walk_async))\n",
    "print('Forest Walk time elapsed:', \"{:0.4f}\".format(forest_walk_elapsed_time), 'seconds')"
   ]
  },
  {
   "cell_type": "markdown",
   "metadata": {},
   "source": [
    "# CHIRPS Steps 2-4: \n",
    "## Freqent pattern mining of paths.\n",
    "## Score and sort mined path segments.\n",
    "## Merge path segments into one rule.\n",
    "\n",
    "This is a wrapper object that will execute steps 2-4 on all the instance-paths in the batch_paths_container.\n",
    "\n",
    "Note that true_divide warnings are OK. It just means that a continuous variable is unbounded in some way i.e. no greater/less than discontinuity is used in the CHIRPS explanation.\n",
    "\n",
    "Note also, here we are using the training set to create the explainers. We could use a different dataset as long as it is representative of the training set that built the decision forest. Most important that we don't use the dataset that we wish to explain."
   ]
  },
  {
   "cell_type": "code",
   "execution_count": null,
   "metadata": {
    "scrolled": false
   },
   "outputs": [],
   "source": [
    "# get what the model predicts on the training sample\n",
    "sample_labels = rf.predict(tt.X_train_enc)\n",
    "\n",
    "# build CHIRPS and a rule for each instance represented in the batch paths container\n",
    "CHIRPS = strcts.batch_CHIRPS_explainer(bp_container,\n",
    "                                forest=rf,\n",
    "                                sample_instances=tt.X_train_enc, # any representative sample can be used\n",
    "                                # sample_labels=tt.y_train,  # any representative sample can be used\n",
    "                                sample_labels=sample_labels,\n",
    "                                meta_data=meta_data)\n",
    "\n",
    "print('Running CHIRPS on a batch of ' + str(len(labels)) + ' instances... (please wait)')\n",
    "# start a timer\n",
    "ce_start_time = timeit.default_timer()\n",
    "\n",
    "CHIRPS.batch_run_CHIRPS(chirps_explanation_async=chirps_explanation_async,\n",
    "                        alpha_paths=0.9,\n",
    "                        support_paths=0.1,\n",
    "                        score_func=5,\n",
    "                        disc_path_bins=4,\n",
    "                        target_classes=preds,\n",
    "                        merging_bootstraps=20,\n",
    "                        pruning_bootstraps=20,\n",
    "                        delta=0.1,\n",
    "                        weighting='chisq')\n",
    "\n",
    "ce_end_time = timeit.default_timer()\n",
    "ce_elapsed_time = ce_end_time - ce_start_time\n",
    "print('CHIRPS time elapsed:', \"{:0.4f}\".format(ce_elapsed_time), 'seconds')\n",
    "print('CHIRPS with async = ' + str(chirps_explanation_async))"
   ]
  },
  {
   "cell_type": "markdown",
   "metadata": {},
   "source": [
    "# Viewing and Evaluating CHIRPS explanations\n",
    "Evaluation is done using unseen data to see how well the explanations generalise. The data_split_container object (tt) has a  leave-one-out function that is used during the routine to ensure that the datum we are explaining is excluded from the evaluation."
   ]
  },
  {
   "cell_type": "code",
   "execution_count": null,
   "metadata": {
    "scrolled": false
   },
   "outputs": [],
   "source": [
    "# iterate over all the test instances to determine the various scores using leave-one-out testing\n",
    "print('evaluating found explanations')\n",
    "print()\n",
    "results_start_time = timeit.default_timer()\n",
    "\n",
    "rt.evaluate_CHIRPS_explainers(CHIRPS, tt, tt.y_test.index,\n",
    "                              forest=rf,\n",
    "                              meta_data=meta_data,\n",
    "                              eval_start_time=results_start_time,\n",
    "                              print_to_screen=True, # set True when running single instances\n",
    "                              eval_alt_labelings=True,\n",
    "                              eval_rule_complements=True,\n",
    "                              save_results_path=save_path,\n",
    "                              dataset_name='test',\n",
    "                              save_results_file='CHIRPS' + '_rnst_' + str(random_state),\n",
    "                              save_CHIRPS=False)\n",
    "\n",
    "results_end_time = timeit.default_timer()\n",
    "results_elapsed_time = results_end_time - results_start_time\n",
    "print('CHIRPS batch results eval time elapsed:', \"{:0.4f}\".format(results_elapsed_time), 'seconds')\n",
    "# this completes the CHIRPS runs"
   ]
  },
  {
   "cell_type": "code",
   "execution_count": null,
   "metadata": {},
   "outputs": [],
   "source": [
    "from pandas import Series\n",
    "forest = rf\n",
    "train_pred_labels = Series(forest.predict(tt.X_train_enc), index = tt.y_train.index)\n",
    "CHIRPS.CHIRPS_explainers[0].evaluate_rule(rule='pruned', sample_instances=tt.X_train_enc, sample_labels=train_pred_labels)"
   ]
  },
  {
   "cell_type": "code",
   "execution_count": null,
   "metadata": {},
   "outputs": [],
   "source": [
    "CHIRPS.CHIRPS_explainers[0].posterior"
   ]
  },
  {
   "cell_type": "code",
   "execution_count": null,
   "metadata": {},
   "outputs": [],
   "source": [
    "preds = rf.predict_proba(X=instances_enc)"
   ]
  },
  {
   "cell_type": "code",
   "execution_count": null,
   "metadata": {},
   "outputs": [],
   "source": [
    "preds"
   ]
  },
  {
   "cell_type": "code",
   "execution_count": null,
   "metadata": {},
   "outputs": [],
   "source": [
    "np.log(preds) - 0.5 * np.log(preds).sum(axis=1)[:, np.newaxis]"
   ]
  },
  {
   "cell_type": "code",
   "execution_count": null,
   "metadata": {},
   "outputs": [],
   "source": [
    "pred = sum(_samme_proba(estimator, n_classes, X)\n",
    "                       for estimator in self.estimators_)"
   ]
  },
  {
   "cell_type": "code",
   "execution_count": null,
   "metadata": {},
   "outputs": [],
   "source": [
    "pred = sum(_samme_proba(estimator, 2, instances_enc)\n",
    "                       for estimator in rf.estimators_)"
   ]
  },
  {
   "cell_type": "code",
   "execution_count": null,
   "metadata": {},
   "outputs": [],
   "source": [
    "sum(_samme_proba(rf.estimators_[0], 2, instances_enc))"
   ]
  },
  {
   "cell_type": "code",
   "execution_count": null,
   "metadata": {},
   "outputs": [],
   "source": [
    "rf.estimators_[0].predict(instances_enc)"
   ]
  },
  {
   "cell_type": "code",
   "execution_count": null,
   "metadata": {},
   "outputs": [],
   "source": [
    "dir(rf)"
   ]
  },
  {
   "cell_type": "code",
   "execution_count": null,
   "metadata": {
    "scrolled": false
   },
   "outputs": [],
   "source": [
    "import math\n",
    "[math.exp(ew)/(1+math.exp(ew)) - 0.5 for ew in rf.estimator_weights_]"
   ]
  },
  {
   "cell_type": "code",
   "execution_count": null,
   "metadata": {},
   "outputs": [],
   "source": [
    "rf.estimator_errors_"
   ]
  },
  {
   "cell_type": "code",
   "execution_count": null,
   "metadata": {},
   "outputs": [],
   "source": [
    "rf.decision_function(instances_enc)"
   ]
  },
  {
   "cell_type": "code",
   "execution_count": null,
   "metadata": {},
   "outputs": [],
   "source": [
    "instances_enc"
   ]
  },
  {
   "cell_type": "code",
   "execution_count": null,
   "metadata": {},
   "outputs": [],
   "source": [
    "rf.predict(instances_enc)"
   ]
  },
  {
   "cell_type": "code",
   "execution_count": null,
   "metadata": {},
   "outputs": [],
   "source": [
    "rf.predict_proba(instances_enc)"
   ]
  },
  {
   "cell_type": "code",
   "execution_count": null,
   "metadata": {},
   "outputs": [],
   "source": [
    "from sklearn.preprocessing import LabelEncoder, OneHotEncoder\n",
    "le_dict = LabelEncoder().fit(mydata.data['workclass'].unique())"
   ]
  },
  {
   "cell_type": "code",
   "execution_count": null,
   "metadata": {},
   "outputs": [],
   "source": [
    "mydata.data"
   ]
  },
  {
   "cell_type": "code",
   "execution_count": null,
   "metadata": {},
   "outputs": [],
   "source": [
    "categoricals = [i for i, dt in enumerate(mydata.data.dtypes.values) if dt.name == 'object']"
   ]
  },
  {
   "cell_type": "code",
   "execution_count": null,
   "metadata": {},
   "outputs": [],
   "source": [
    "categoricals = [i for i, dt in enumerate(mydata.data.dtypes.values)]\n",
    "categoricals = [0, 1, 2, 3, 4, 5, 6, 7, 8, 9, 10, 11, 12, 13, 14]"
   ]
  },
  {
   "cell_type": "code",
   "execution_count": null,
   "metadata": {},
   "outputs": [],
   "source": [
    "oh_dict = OneHotEncoder(categories='auto').fit(mydata.data)"
   ]
  },
  {
   "cell_type": "code",
   "execution_count": null,
   "metadata": {},
   "outputs": [],
   "source": [
    "oh_dict.categories_"
   ]
  },
  {
   "cell_type": "code",
   "execution_count": null,
   "metadata": {},
   "outputs": [],
   "source": [
    "oh_dict.get_feature_names()"
   ]
  },
  {
   "cell_type": "code",
   "execution_count": null,
   "metadata": {},
   "outputs": [],
   "source": [
    "oh_dict.transform(mydata.data['workclass'])"
   ]
  },
  {
   "cell_type": "code",
   "execution_count": null,
   "metadata": {},
   "outputs": [],
   "source": [
    "le_dict.classes_"
   ]
  },
  {
   "cell_type": "code",
   "execution_count": null,
   "metadata": {},
   "outputs": [],
   "source": [
    "le_dict.transform(mydata.data['workclass'])"
   ]
  },
  {
   "cell_type": "code",
   "execution_count": null,
   "metadata": {},
   "outputs": [],
   "source": [
    "-np.sum(np.log([0.000000000000000000000000000000001, 0.8430962343096225, 0.07322175732217619, 0.08368200836820137]) * \\\n",
    "[0.0, 0.8430962343096225, 0.07322175732217619, 0.08368200836820137])"
   ]
  },
  {
   "cell_type": "code",
   "execution_count": null,
   "metadata": {},
   "outputs": [],
   "source": [
    "np.log([0.00000000000001, 0.9999999782235003, 2.1776499755250584e-08, 0.00000000000000001])"
   ]
  },
  {
   "cell_type": "code",
   "execution_count": null,
   "metadata": {},
   "outputs": [],
   "source": [
    "np.log(0.9999999782235003)"
   ]
  },
  {
   "cell_type": "code",
   "execution_count": null,
   "metadata": {},
   "outputs": [],
   "source": [
    "entropy_corrected([0.95, 0.0, 0.0, 0.05])"
   ]
  },
  {
   "cell_type": "code",
   "execution_count": null,
   "metadata": {},
   "outputs": [],
   "source": [
    "contingency_test([0.4, 0.6], [0.9, 0.1], 'kldiv')"
   ]
  },
  {
   "cell_type": "code",
   "execution_count": null,
   "metadata": {
    "scrolled": false
   },
   "outputs": [],
   "source": [
    "merging_bootstraps = 20\n",
    "pruning_bootstraps = 20\n",
    "delta = 0.1 # prune rule terms if loss of precision no greater than delta\n",
    "\n",
    "disc_path_bins = np.tile(np.repeat([4, 8], 3), 8)\n",
    "disc_path_eqcounts = np.tile(np.repeat([True, False], 6), 4)\n",
    "support_paths = np.tile([0.05, 0.02, 0.01], 16)\n",
    "weighting = np.repeat(['chisq', 'kldiv', 'lodds', 'nothing'], 12)\n",
    "\n",
    "kwargs_grid = {k : {'paths_lengths_threshold' : 5, 'alpha_paths' : 0.0,\n",
    "                    'disc_path_bins' : dpb, 'disc_path_eqcounts' : dpeq,\n",
    "                    'score_func' : 1, 'weighting' : w, 'support_paths' : sp,\n",
    "                    'merging_bootstraps' : merging_bootstraps,\n",
    "                    'pruning_bootstraps' : pruning_bootstraps,\n",
    "                    'delta' : delta} \n",
    "for k, dpb, dpeq, w, sp in zip(range(48), disc_path_bins, disc_path_eqcounts, weighting, support_paths)}\n",
    "kwargs_grid"
   ]
  },
  {
   "cell_type": "code",
   "execution_count": null,
   "metadata": {},
   "outputs": [],
   "source": []
  }
 ],
 "metadata": {
  "kernelspec": {
   "display_name": "Python 3",
   "language": "python",
   "name": "python3"
  },
  "language_info": {
   "codemirror_mode": {
    "name": "ipython",
    "version": 3
   },
   "file_extension": ".py",
   "mimetype": "text/x-python",
   "name": "python",
   "nbconvert_exporter": "python",
   "pygments_lexer": "ipython3",
   "version": "3.7.3"
  }
 },
 "nbformat": 4,
 "nbformat_minor": 2
}
