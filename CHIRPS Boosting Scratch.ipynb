{
 "cells": [
  {
   "cell_type": "markdown",
   "metadata": {},
   "source": [
    "# prologue"
   ]
  },
  {
   "cell_type": "markdown",
   "metadata": {},
   "source": [
    "### set up notebook and load package"
   ]
  },
  {
   "cell_type": "code",
   "execution_count": 1,
   "metadata": {},
   "outputs": [],
   "source": [
    "# for notebook plotting\n",
    "%matplotlib inline \n",
    "\n",
    "# load what we need\n",
    "import time\n",
    "import timeit\n",
    "import numpy as np\n",
    "import CHIRPS.structures as strcts\n",
    "import CHIRPS.routines as rt\n",
    "import CHIRPS.reproducible as rp\n",
    "import CHIRPS.boosting_scratch as bs\n",
    "from IPython.display import Image\n",
    "from sklearn.externals.six import StringIO\n",
    "# from pydotplus import graph_from_dot_data\n",
    "\n",
    "# demo datasets that ship with package. all from UCI unless stated otherwise\n",
    "# import CHIRPS.datasets as ds\n",
    "# ds.adult_data, ds.adult_samp_data, ds.adult_small_samp_data Large dataset ships with manageable sub samples\n",
    "# ds.bankmark_data, ds.bankmark_samp_data\n",
    "# ds.car_data\n",
    "# ds.cardio_data this is the cardiotocography dataset\n",
    "# ds.credit_data\n",
    "# ds.german_data\n",
    "# ds.lending_data, ds.lending_samp_data, ds.lending_small_samp_data, ds.lending_tiny_samp_data from Kaggle. see datasets_from_source file for links\n",
    "# ds.nursery_data, ds.nursery_samp_data\n",
    "# ds.rcdv_data, ds.rcdv_samp_data from US government see datasets_from_source file for links"
   ]
  },
  {
   "cell_type": "markdown",
   "metadata": {},
   "source": [
    "### common config - can be ommitted if defaults are OK"
   ]
  },
  {
   "cell_type": "code",
   "execution_count": 2,
   "metadata": {},
   "outputs": [],
   "source": [
    "# project_dir = 'V:\\\\whiteboxing\\\\examples' # defaults to a directory \"whiteboxing\" in the working directory\n",
    "project_dir = 'C:\\\\Users\\\\Crutt\\\\Documents\\\\whiteboxing\\\\examples'\n",
    "random_state_splits = 123 # one off for splitting the data into test / train\n",
    "random_state = 123 # for everything else - e.g. building a new rf with same data"
   ]
  },
  {
   "cell_type": "markdown",
   "metadata": {},
   "source": [
    "# Build a Random Forest Model to Predict and Explain\n",
    "First, a wrapper is created for the dataset. Use one that ships with the package, or create your own.\n",
    "Then split the data into training and (hold out) test set using the convenience functions in the package. These return an object that contain the split data in various representations, such as Pandas DataFrames and encoded, sparse matrices."
   ]
  },
  {
   "cell_type": "code",
   "execution_count": 3,
   "metadata": {},
   "outputs": [],
   "source": [
    "# load one of the included datasets\n",
    "# project_dir will default to directory name CHIRPS in the working directory if not given\n",
    "# random_state will default to 123\n",
    "mydata = rp.datasets[0](random_state=random_state, project_dir=project_dir)\n",
    "meta_data = mydata.get_meta()\n",
    "save_path = meta_data['get_save_path']()\n",
    "\n",
    "# split the data. here using a basic sampling method.\n",
    "# the returned object is a wrapper class that contains\n",
    "# the train and test splits for X and y\n",
    "\n",
    "# also the the encoded versions of X_train and X_test that the rf will use\n",
    "# this is because we prefer onehot encoded over allowing categorical vars to be represented as integer\n",
    "# scikit would treat these as ordinal, which is inappropriate\n",
    "\n",
    "# also some meta-data: priors for y, the indexes from the input data\n",
    "\n",
    "# also some convenience functions for leave-one-out testing\n",
    "\n",
    "# train test split - one off hard-coded random state.\n",
    "# random state can be ommitted \n",
    "# and will default to the state held in the dataset container\n",
    "# which defaults to 123 if ommitted in the constructor\n",
    "train_index, test_index = mydata.get_tt_split_idx(random_state=random_state_splits)\n",
    "# optionally, indexes can be ommitted and will default to scikit's train_test_split method\n",
    "tt = mydata.tt_split(train_index, test_index)"
   ]
  },
  {
   "cell_type": "code",
   "execution_count": 152,
   "metadata": {
    "scrolled": false
   },
   "outputs": [
    {
     "data": {
      "text/plain": [
       "AdaBoostClassifier(algorithm='SAMME.R',\n",
       "          base_estimator=DecisionTreeClassifier(class_weight=None, criterion='gini', max_depth=4,\n",
       "            max_features=None, max_leaf_nodes=None,\n",
       "            min_impurity_decrease=0.0, min_impurity_split=None,\n",
       "            min_samples_leaf=1, min_samples_split=2,\n",
       "            min_weight_fraction_leaf=0.0, presort=False, random_state=None,\n",
       "            splitter='best'),\n",
       "          learning_rate=1, n_estimators=100, random_state=123)"
      ]
     },
     "execution_count": 152,
     "metadata": {},
     "output_type": "execute_result"
    }
   ],
   "source": [
    "# build a random forest, tuned for high accuracy\n",
    "# rf = rp.forest_prep(ds_container=tt,\n",
    "#                     meta_data=meta_data,\n",
    "#                     save_path=save_path,\n",
    "#                     plot_cm=True, plot_cm_norm=True)\n",
    "\n",
    "# will need to create a XGBoost prep that finds the number of estimators and the learning rate\n",
    "\n",
    "ds_container = tt\n",
    "\n",
    "X_train=ds_container.X_train_enc\n",
    "X_test=ds_container.X_test_enc\n",
    "y_train=ds_container.y_train\n",
    "y_test=ds_container.y_test\n",
    "\n",
    "ne = 100\n",
    "\n",
    "# xgb = bs.XGBClassifier(seed=random_state,\n",
    "#                         max_depth=4,\n",
    "#                         learning_rate=0.05,\n",
    "#                         n_estimators=ne)\n",
    "\n",
    "gb = bs.GradientBoostingClassifier()\n",
    "gb.set_params(random_state=random_state,\n",
    "            max_depth=1,\n",
    "            learning_rate=1,\n",
    "            n_estimators=ne)\n",
    "gb.fit(X_train, y_train)\n",
    "\n",
    "ad = bs.AdaBoostClassifier()\n",
    "ad.set_params(random_state=random_state,\n",
    "            learning_rate=1,\n",
    "            n_estimators=ne,\n",
    "            base_estimator=bs.DecisionTreeClassifier(max_depth=4))\n",
    "ad.fit(X_train, y_train)\n",
    "\n",
    "# print(bs.calculate_weights(ad.estimator_errors_))\n",
    "# print(ad.estimator_errors_)\n",
    "# for g in ad.staged_predict(X_test):\n",
    "#     print(g)"
   ]
  },
  {
   "cell_type": "code",
   "execution_count": 153,
   "metadata": {},
   "outputs": [],
   "source": [
    "# dot_data = StringIO()\n",
    "# bs.export_graphviz(ad.estimators_[99],\n",
    "#                 feature_names=meta_data['features_enc'],\n",
    "#                 filled=True,\n",
    "#                 rounded=True,\n",
    "#                 out_file=dot_data)\n",
    "# graph = graph_from_dot_data(dot_data.getvalue())\n",
    "\n",
    "\n",
    "# Image(graph.create_png())"
   ]
  },
  {
   "cell_type": "code",
   "execution_count": 154,
   "metadata": {
    "scrolled": false
   },
   "outputs": [
    {
     "name": "stdout",
     "output_type": "stream",
     "text": [
      "0.31765612952968386\n",
      "-2.033704089880192 0.1308499424424723 0.11570937710785514 0\n",
      "-2.4389947452426655 0.08724851437696572 0.08024707619578804 0\n",
      "-2.9390816087834946 0.05291430246070371 0.05025508945698697 0\n",
      "-3.696650386809696 0.02480647957355913 0.024206013591835957 0\n",
      "-3.1866311707064767 0.04131080583653489 0.03967192658041029 0\n",
      "-3.2680104418097438 0.03808211834456893 0.03668507305115566 0\n",
      "-3.3066706545503637 0.03663795131796786 0.03534305421809693 0\n",
      "-3.1656819175462556 0.04218536506290421 0.04047779452396934 0\n",
      "-3.1070842699166765 0.04473118945900883 0.04281597975664141 0\n",
      "-3.0190292909265537 0.048848613147024544 0.04657355936282969 0\n",
      "-2.994151843737312 0.050079083967703185 0.04769077370675773 0\n",
      "-3.048781737425778 0.04741665515475624 0.04527009850511725 0\n",
      "-3.0511150712534314 0.04730614524768048 0.04516935708086857 0\n",
      "-3.0881904870791335 0.04558436531836127 0.04359702270842742 0\n",
      "-3.2289987046966258 0.03959712736279055 0.038088915716070704 0\n",
      "-3.1257901616913983 0.043902230054141796 0.042055883003396605 0\n",
      "-3.186544166350066 0.041314400212970434 0.03967524141077928 0\n",
      "-3.2318161801254885 0.03948572044621459 0.037985822863699135 0\n",
      "-3.3141499610508927 0.03636494706440771 0.035088939632138785 0\n",
      "-3.354905331562617 0.034912675126714136 0.03373489953868759 0\n",
      "-3.3463423796164484 0.03521291431845906 0.034015142036401054 0\n",
      "-3.4104349242545977 0.033026833081011425 0.03197093436818926 0\n",
      "-3.47811008862749 0.030865689362311998 0.02994152359596462 0\n",
      "-3.555242527924685 0.028574443975245462 0.027780627977505103 0\n",
      "-3.5725579399930014 0.028083924730322667 0.027316762819425834 0\n",
      "-3.5647606835865555 0.02830375822764623 0.02752470561464226 0\n",
      "-3.606833953230262 0.027137630003793226 0.026420636544776385 0\n",
      "-3.6148425353862863 0.026921164014181313 0.026215414539659386 0\n",
      "-3.619539453436836 0.026795014003030127 0.02609577728525185 0\n",
      "-3.619542325937555 0.026794937034443682 0.026095704281355304 0\n",
      "-3.6195423259386303 0.026794937034414875 0.026095704281327983 0\n",
      "-3.6195423259386303 0.026794937034414875 0.026095704281327983 0\n",
      "-3.6195423259386303 0.026794937034414875 0.026095704281327983 0\n",
      "-3.6195423259386303 0.026794937034414875 0.026095704281327983 0\n",
      "-3.6195423259386303 0.026794937034414875 0.026095704281327983 0\n",
      "-3.6195423259386303 0.026794937034414875 0.026095704281327983 0\n",
      "-3.6195423259386303 0.026794937034414875 0.026095704281327983 0\n",
      "-3.6195423259386303 0.026794937034414875 0.026095704281327983 0\n",
      "-3.6195423259386303 0.026794937034414875 0.026095704281327983 0\n",
      "-3.6195423259386303 0.026794937034414875 0.026095704281327983 0\n",
      "-3.6195423259386303 0.026794937034414875 0.026095704281327983 0\n",
      "-3.6195423259386303 0.026794937034414875 0.026095704281327983 0\n",
      "-3.6195423259386303 0.026794937034414875 0.026095704281327983 0\n",
      "-3.6195423259386303 0.026794937034414875 0.026095704281327983 0\n",
      "-3.6195423259386303 0.026794937034414875 0.026095704281327983 0\n",
      "-3.6195423259386303 0.026794937034414875 0.026095704281327983 0\n",
      "-3.6195423259386303 0.026794937034414875 0.026095704281327983 0\n",
      "-3.6195423259386303 0.026794937034414875 0.026095704281327983 0\n",
      "-3.6195423259386303 0.026794937034414875 0.026095704281327983 0\n",
      "-3.6195423259386303 0.026794937034414875 0.026095704281327983 0\n",
      "-3.6195423259386303 0.026794937034414875 0.026095704281327983 0\n",
      "-3.6195423259386303 0.026794937034414875 0.026095704281327983 0\n",
      "-3.6195423259386303 0.026794937034414875 0.026095704281327983 0\n",
      "-3.6195423259386303 0.026794937034414875 0.026095704281327983 0\n",
      "-3.6195423259386303 0.026794937034414875 0.026095704281327983 0\n",
      "-3.6195423259386303 0.026794937034414875 0.026095704281327983 0\n",
      "-3.6195423259386303 0.026794937034414875 0.026095704281327983 0\n",
      "-3.6195423259386303 0.026794937034414875 0.026095704281327983 0\n",
      "-3.6195423259386303 0.026794937034414875 0.026095704281327983 0\n",
      "-3.6195423259386303 0.026794937034414875 0.026095704281327983 0\n",
      "-3.6195423259386303 0.026794937034414875 0.026095704281327983 0\n",
      "-3.6195423259386303 0.026794937034414875 0.026095704281327983 0\n",
      "-3.6195423259386303 0.026794937034414875 0.026095704281327983 0\n",
      "-3.6195423259386303 0.026794937034414875 0.026095704281327983 0\n",
      "-3.6195423259386303 0.026794937034414875 0.026095704281327983 0\n",
      "-3.6195423259386303 0.026794937034414875 0.026095704281327983 0\n",
      "-3.6195423259386303 0.026794937034414875 0.026095704281327983 0\n",
      "-3.6195423259386303 0.026794937034414875 0.026095704281327983 0\n",
      "-3.6195423259386303 0.026794937034414875 0.026095704281327983 0\n",
      "-3.6195423259386303 0.026794937034414875 0.026095704281327983 0\n",
      "-3.6195423259386303 0.026794937034414875 0.026095704281327983 0\n",
      "-3.6195423259386303 0.026794937034414875 0.026095704281327983 0\n",
      "-3.6195423259386303 0.026794937034414875 0.026095704281327983 0\n",
      "-3.6195423259386303 0.026794937034414875 0.026095704281327983 0\n",
      "-3.6195423259386303 0.026794937034414875 0.026095704281327983 0\n",
      "-3.6195423259386303 0.026794937034414875 0.026095704281327983 0\n",
      "-3.6195423259386303 0.026794937034414875 0.026095704281327983 0\n",
      "-3.6195423259386303 0.026794937034414875 0.026095704281327983 0\n",
      "-3.6195423259386303 0.026794937034414875 0.026095704281327983 0\n",
      "-3.6195423259386303 0.026794937034414875 0.026095704281327983 0\n",
      "-3.6195423259386303 0.026794937034414875 0.026095704281327983 0\n",
      "-3.6195423259386303 0.026794937034414875 0.026095704281327983 0\n",
      "-3.6195423259386303 0.026794937034414875 0.026095704281327983 0\n",
      "-3.6195423259386303 0.026794937034414875 0.026095704281327983 0\n",
      "-3.6195423259386303 0.026794937034414875 0.026095704281327983 0\n",
      "-3.6195423259386303 0.026794937034414875 0.026095704281327983 0\n",
      "-3.6195423259386303 0.026794937034414875 0.026095704281327983 0\n",
      "-3.6195423259386303 0.026794937034414875 0.026095704281327983 0\n",
      "-3.6195423259386303 0.026794937034414875 0.026095704281327983 0\n",
      "-3.6195423259386303 0.026794937034414875 0.026095704281327983 0\n",
      "-3.6195423259386303 0.026794937034414875 0.026095704281327983 0\n",
      "-3.6195423259386303 0.026794937034414875 0.026095704281327983 0\n",
      "-3.6195423259386303 0.026794937034414875 0.026095704281327983 0\n",
      "-3.6195423259386303 0.026794937034414875 0.026095704281327983 0\n",
      "-3.6195423259386303 0.026794937034414875 0.026095704281327983 0\n",
      "-3.6195423259386303 0.026794937034414875 0.026095704281327983 0\n",
      "-3.6195423259386303 0.026794937034414875 0.026095704281327983 0\n",
      "-3.6195423259386303 0.026794937034414875 0.026095704281327983 0\n",
      "-3.6195423259386303 0.026794937034414875 0.026095704281327983 0\n",
      "-3.6195423259386303 0.026794937034414875 0.026095704281327983 0\n"
     ]
    }
   ],
   "source": [
    "import math\n",
    "import numpy as np\n",
    "\n",
    "def somefunc(arr):\n",
    "    def expit(err):\n",
    "        err_val = math.exp(err) / (1 + math.exp(err))\n",
    "        return(err_val)\n",
    "\n",
    "    vexpit = np.vectorize(expit)\n",
    "    return(vexpit(arr))\n",
    "\n",
    "\n",
    "\n",
    "somefunc(gb.decision_function(X_test))\n",
    "\n",
    "j = 2\n",
    "print(math.exp(gb.init_.predict(X_test)[j][0]))\n",
    "for g, h, k in zip(gb.staged_decision_function(X_test),\n",
    "                   gb.staged_predict_proba(X_test),\n",
    "                   gb.staged_predict(X_test)):\n",
    "    print(g[j][0], math.exp(g[j][0]), h[j][1], k[j])\n",
    "\n",
    "# https://stats.stackexchange.com/questions/157870/scikit-binomial-deviance-loss-function"
   ]
  },
  {
   "cell_type": "code",
   "execution_count": 102,
   "metadata": {},
   "outputs": [
    {
     "name": "stdout",
     "output_type": "stream",
     "text": [
      "11.206108458144511 11.804121017970653\n"
     ]
    }
   ],
   "source": [
    "# how is GB working to calculate the predict function\n",
    "import numpy as np\n",
    "n = 300\n",
    "gbpreds = [gb.predict(X_test[i])[0] for i in range(n)]\n",
    "reg_tots = np.empty(n)\n",
    "for i in range(n):\n",
    "    reg_tots[i] = sum([gb.estimators_[j][0].predict(X_test[i])[0] for j in range(ne)])\n",
    "\n",
    "mn = np.inf\n",
    "mx = -np.inf\n",
    "for pred, tot in zip(gbpreds, reg_tots):\n",
    "    if pred == 0:\n",
    "        if mx < tot:\n",
    "            mx = tot\n",
    "    if pred == 1:\n",
    "        if mn > tot:\n",
    "            mn = tot\n",
    "            \n",
    "print(mx, mn)"
   ]
  },
  {
   "cell_type": "code",
   "execution_count": 6,
   "metadata": {},
   "outputs": [
    {
     "ename": "ModuleNotFoundError",
     "evalue": "No module named 'graphviz'",
     "output_type": "error",
     "traceback": [
      "\u001b[1;31m---------------------------------------------------------------------------\u001b[0m",
      "\u001b[1;31mModuleNotFoundError\u001b[0m                       Traceback (most recent call last)",
      "\u001b[1;32m<ipython-input-6-f34ce1317f69>\u001b[0m in \u001b[0;36m<module>\u001b[1;34m\u001b[0m\n\u001b[0;32m      3\u001b[0m \u001b[1;32mfrom\u001b[0m \u001b[0msklearn\u001b[0m\u001b[1;33m.\u001b[0m\u001b[0mdatasets\u001b[0m \u001b[1;32mimport\u001b[0m \u001b[0mload_wine\u001b[0m\u001b[1;33m\u001b[0m\u001b[1;33m\u001b[0m\u001b[0m\n\u001b[0;32m      4\u001b[0m \u001b[1;32mfrom\u001b[0m \u001b[0mIPython\u001b[0m\u001b[1;33m.\u001b[0m\u001b[0mdisplay\u001b[0m \u001b[1;32mimport\u001b[0m \u001b[0mSVG\u001b[0m\u001b[1;33m\u001b[0m\u001b[1;33m\u001b[0m\u001b[0m\n\u001b[1;32m----> 5\u001b[1;33m \u001b[1;32mfrom\u001b[0m \u001b[0mgraphviz\u001b[0m \u001b[1;32mimport\u001b[0m \u001b[0mSource\u001b[0m\u001b[1;33m\u001b[0m\u001b[1;33m\u001b[0m\u001b[0m\n\u001b[0m\u001b[0;32m      6\u001b[0m \u001b[1;32mfrom\u001b[0m \u001b[0mIPython\u001b[0m\u001b[1;33m.\u001b[0m\u001b[0mdisplay\u001b[0m \u001b[1;32mimport\u001b[0m \u001b[0mdisplay\u001b[0m\u001b[1;33m\u001b[0m\u001b[1;33m\u001b[0m\u001b[0m\n\u001b[0;32m      7\u001b[0m \u001b[1;31m# load dataset\u001b[0m\u001b[1;33m\u001b[0m\u001b[1;33m\u001b[0m\u001b[1;33m\u001b[0m\u001b[0m\n",
      "\u001b[1;31mModuleNotFoundError\u001b[0m: No module named 'graphviz'"
     ]
    }
   ],
   "source": [
    "from sklearn.tree import DecisionTreeClassifier, export_graphviz\n",
    "from sklearn import tree\n",
    "from sklearn.datasets import load_wine\n",
    "from IPython.display import SVG\n",
    "from graphviz import Source\n",
    "from IPython.display import display\n",
    "# load dataset\n",
    "data = load_wine()\n",
    "\n",
    "# feature matrix\n",
    "X = data.data\n",
    "\n",
    "# target vector\n",
    "y = data.target\n",
    "\n",
    "# class labels\n",
    "labels = data.feature_names\n",
    "\n",
    "# print dataset description\n",
    "print(data.DESCR)\n",
    "estimator = DecisionTreeClassifier()\n",
    "estimator.fit(X, y)\n",
    "\n",
    "graph = Source(tree.export_graphviz(estimator, out_file=None\n",
    "   , feature_names=labels, class_names=['0', '1', '2'] \n",
    "   , filled = True))\n",
    "display(SVG(graph.pipe(format='svg')))"
   ]
  },
  {
   "cell_type": "code",
   "execution_count": 6,
   "metadata": {},
   "outputs": [
    {
     "ename": "NameError",
     "evalue": "name 'StringIO' is not defined",
     "output_type": "error",
     "traceback": [
      "\u001b[1;31m---------------------------------------------------------------------------\u001b[0m",
      "\u001b[1;31mNameError\u001b[0m                                 Traceback (most recent call last)",
      "\u001b[1;32m<ipython-input-6-b985e7c8c58e>\u001b[0m in \u001b[0;36m<module>\u001b[1;34m()\u001b[0m\n\u001b[0;32m      2\u001b[0m \u001b[0mad\u001b[0m\u001b[1;33m.\u001b[0m\u001b[0mestimator_errors_\u001b[0m\u001b[1;33m\u001b[0m\u001b[0m\n\u001b[0;32m      3\u001b[0m \u001b[1;31m# gb.loss_(y_test, gb.predict(X_test))\u001b[0m\u001b[1;33m\u001b[0m\u001b[1;33m\u001b[0m\u001b[0m\n\u001b[1;32m----> 4\u001b[1;33m \u001b[0mbs\u001b[0m\u001b[1;33m.\u001b[0m\u001b[0mget_graph\u001b[0m\u001b[1;33m(\u001b[0m\u001b[0mad\u001b[0m\u001b[1;33m.\u001b[0m\u001b[0mestimators_\u001b[0m\u001b[1;33m[\u001b[0m\u001b[1;36m0\u001b[0m\u001b[1;33m]\u001b[0m\u001b[1;33m,\u001b[0m \u001b[0mn_classes\u001b[0m\u001b[1;33m=\u001b[0m\u001b[1;36m2\u001b[0m\u001b[1;33m)\u001b[0m\u001b[1;33m\u001b[0m\u001b[0m\n\u001b[0m",
      "\u001b[1;32mc:\\Users\\Crutt\\Documents\\GitHub\\explain_te\\CHIRPS\\boosting_scratch.py\u001b[0m in \u001b[0;36mget_graph\u001b[1;34m(dtc, n_classes, feat_names, size)\u001b[0m\n\u001b[0;32m     22\u001b[0m \u001b[1;33m\u001b[0m\u001b[0m\n\u001b[0;32m     23\u001b[0m \u001b[1;32mdef\u001b[0m \u001b[0mget_graph\u001b[0m\u001b[1;33m(\u001b[0m\u001b[0mdtc\u001b[0m\u001b[1;33m,\u001b[0m \u001b[0mn_classes\u001b[0m\u001b[1;33m,\u001b[0m \u001b[0mfeat_names\u001b[0m\u001b[1;33m=\u001b[0m\u001b[1;32mNone\u001b[0m\u001b[1;33m,\u001b[0m \u001b[0msize\u001b[0m\u001b[1;33m=\u001b[0m\u001b[1;33m[\u001b[0m\u001b[1;36m7\u001b[0m\u001b[1;33m,\u001b[0m \u001b[1;36m7\u001b[0m\u001b[1;33m]\u001b[0m\u001b[1;33m)\u001b[0m\u001b[1;33m:\u001b[0m\u001b[1;33m\u001b[0m\u001b[0m\n\u001b[1;32m---> 24\u001b[1;33m     \u001b[0mdot_file\u001b[0m \u001b[1;33m=\u001b[0m \u001b[0mStringIO\u001b[0m\u001b[1;33m(\u001b[0m\u001b[1;33m)\u001b[0m\u001b[1;33m\u001b[0m\u001b[0m\n\u001b[0m\u001b[0;32m     25\u001b[0m     \u001b[0mimage_file\u001b[0m \u001b[1;33m=\u001b[0m \u001b[0mBytesIO\u001b[0m\u001b[1;33m(\u001b[0m\u001b[1;33m)\u001b[0m\u001b[1;33m\u001b[0m\u001b[0m\n\u001b[0;32m     26\u001b[0m \u001b[1;33m\u001b[0m\u001b[0m\n",
      "\u001b[1;31mNameError\u001b[0m: name 'StringIO' is not defined"
     ]
    }
   ],
   "source": [
    "# ad.estimators_[0].predict_proba(X_test)\n",
    "ad.estimator_errors_\n",
    "# gb.loss_(y_test, gb.predict(X_test))\n",
    "bs.get_graph(ad.estimators_[0], n_classes=2)"
   ]
  },
  {
   "cell_type": "markdown",
   "metadata": {},
   "source": [
    "# Preparing unseen data\n",
    "\n",
    "Again note:\n",
    "test set has never been \"seen\" by random forest during training\n",
    "test set has been only used to assess model (random forest) accuracy - no additional tuning after this\n",
    "test set has not be involved in generating the explainer"
   ]
  },
  {
   "cell_type": "markdown",
   "metadata": {},
   "source": [
    "## optional: memory and computation cost management\n",
    "#### CHIRPS is time economical but memory intensive to compute for lots of instances at once\n",
    "option 1: choose a smaller number of instances to explain"
   ]
  },
  {
   "cell_type": "code",
   "execution_count": 5,
   "metadata": {},
   "outputs": [],
   "source": [
    "# control for async processes - each tree walk can be done in its own core\n",
    "# and so can each explanation (e.g. rule conditions merge by hill-climbing)\n",
    "# these will default to false if not passed explicitly to the explainer function\n",
    "# on a multi-core machine there should be a good speed up for large batches\n",
    "# when the batch_size advantage exceeds the overhead of setting up multi-processing\n",
    "# timings will be printed to screen so you can see if it helps\n",
    "forest_walk_async=False\n",
    "chirps_explanation_async=False\n",
    "\n",
    "# the number of instances can be controlled by\n",
    "# batch_size - how many instances to explain at one time\n",
    "batch_size = 1\n",
    "# how many instances to explain in total from a test/unseen set\n",
    "n_instances = 1\n",
    "\n",
    "# this will normalise the above parameters to the size of the dataset\n",
    "n_instances, n_batches = rt.batch_instance_ceiling(ds_container=tt, n_instances=n_instances, batch_size=batch_size)\n",
    "\n",
    "# this gets the next batch out of the data_split_container according to the required number of instances\n",
    "# all formats can be extracted, depending on the requirement\n",
    "# unencoded, encoded (sparse matrix is the type returned by scikit), ordinary dense matrix also available\n",
    "instances, _, instances_enc, instances_enc_matrix, labels = tt.get_next(batch_size, which_split='test') # default"
   ]
  },
  {
   "cell_type": "markdown",
   "metadata": {},
   "source": [
    "option 2: just run the whole test set"
   ]
  },
  {
   "cell_type": "code",
   "execution_count": 6,
   "metadata": {},
   "outputs": [],
   "source": [
    "# instances = tt.X_test; instances_enc = tt.X_test_enc; instances_enc_matrix = tt.X_test_enc_matrix; labels = tt.y_test"
   ]
  },
  {
   "cell_type": "markdown",
   "metadata": {},
   "source": [
    "## Make predictions from the decision forest on the unseen data\n",
    "Important point, no compromise on model accuracy"
   ]
  },
  {
   "cell_type": "code",
   "execution_count": 7,
   "metadata": {},
   "outputs": [],
   "source": [
    "# get all the model predictions for the test instance(s) we're looking at\n",
    "preds_idx = labels.index\n",
    "preds = rf.predict(X=instances_enc)"
   ]
  },
  {
   "cell_type": "markdown",
   "metadata": {},
   "source": [
    "# CHIRPS Step 1:\n",
    "## Extract Tree Prediction Paths\n",
    "### Fit a forest_walker object to the dataset and decision forest\n",
    "This is a wrapper will extracts the paths of all the given instances. For CHIRPS, we want a large sample. The whole training set or other representative sample will do.\n",
    "\n",
    "It can also report interesting statistics (treating the forest as a set of random tree-structured variables)."
   ]
  },
  {
   "cell_type": "code",
   "execution_count": 8,
   "metadata": {},
   "outputs": [],
   "source": [
    "# wrapper object needs the decision forest itself and the dataset meta data (we have a convenience function for this)\n",
    "f_walker = strcts.forest_walker(forest = rf, meta_data=meta_data)"
   ]
  },
  {
   "cell_type": "markdown",
   "metadata": {},
   "source": [
    "Now the work of extracting all the paths for each instance is done"
   ]
  },
  {
   "cell_type": "code",
   "execution_count": 9,
   "metadata": {
    "scrolled": true
   },
   "outputs": [
    {
     "name": "stdout",
     "output_type": "stream",
     "text": [
      "Walking forest for 1 instances... (please wait)\n",
      "Forest Walk with async = True\n",
      "Forest Walk time elapsed: 2.0666 seconds\n"
     ]
    }
   ],
   "source": [
    "print('Walking forest for ' + str(len(labels)) + ' instances... (please wait)')\n",
    "\n",
    "# set the timer\n",
    "forest_walk_start_time = timeit.default_timer()\n",
    "\n",
    "# do the walk - returns a batch_paths_container (even for just one instance)\n",
    "# requires the X instances in a matrix (dense, ordinary numpy matrix) - this is available in the data_split_container\n",
    "bp_container = f_walker.forest_walk(instances = instances_enc_matrix\n",
    "                        , labels = preds # we're explaining the prediction, not the true label!\n",
    "                        , forest_walk_async = forest_walk_async)\n",
    "\n",
    "# stop the timer\n",
    "forest_walk_end_time = timeit.default_timer()\n",
    "forest_walk_elapsed_time = forest_walk_end_time - forest_walk_start_time\n",
    "\n",
    "print('Forest Walk with async = ' + str(forest_walk_async))\n",
    "print('Forest Walk time elapsed:', \"{:0.4f}\".format(forest_walk_elapsed_time), 'seconds')"
   ]
  },
  {
   "cell_type": "markdown",
   "metadata": {},
   "source": [
    "# CHIRPS Steps 2-4: \n",
    "## Freqent pattern mining of paths.\n",
    "## Score and sort mined path segments.\n",
    "## Merge path segments into one rule.\n",
    "\n",
    "This is a wrapper object that will execute steps 2-4 on all the instance-paths in the batch_paths_container.\n",
    "\n",
    "Note that true_divide warnings are OK. It just means that a continuous variable is unbounded in some way i.e. no greater/less than discontinuity is used in the CHIRPS explanation.\n",
    "\n",
    "Note also, here we are using the training set to create the explainers. We could use a different dataset as long as it is representative of the training set that built the decision forest. Most important that we don't use the dataset that we wish to explain."
   ]
  },
  {
   "cell_type": "code",
   "execution_count": 10,
   "metadata": {
    "scrolled": false
   },
   "outputs": [
    {
     "name": "stdout",
     "output_type": "stream",
     "text": [
      "Running CHIRPS on a batch of 1 instances... (please wait)\n",
      "CHIRPS time elapsed: 2.9593 seconds\n",
      "CHIRPS with async = True\n"
     ]
    }
   ],
   "source": [
    "# get what the model predicts on the training sample\n",
    "sample_labels = rf.predict(tt.X_train_enc)\n",
    "\n",
    "# build CHIRPS and a rule for each instance represented in the batch paths container\n",
    "CHIRPS = strcts.batch_CHIRPS_explainer(bp_container,\n",
    "                                forest=rf,\n",
    "                                sample_instances=tt.X_train_enc, # any representative sample can be used\n",
    "                                # sample_labels=tt.y_train,  # any representative sample can be used\n",
    "                                sample_labels=sample_labels,\n",
    "                                meta_data=meta_data)\n",
    "\n",
    "print('Running CHIRPS on a batch of ' + str(len(labels)) + ' instances... (please wait)')\n",
    "# start a timer\n",
    "ce_start_time = timeit.default_timer()\n",
    "\n",
    "CHIRPS.batch_run_CHIRPS(chirps_explanation_async=chirps_explanation_async,\n",
    "                        alpha_paths=0.9,\n",
    "                        support_paths=0.1,\n",
    "                        score_func=5,\n",
    "                        disc_path_bins=4,\n",
    "                        target_classes=preds,\n",
    "                        merging_bootstraps=20,\n",
    "                        pruning_bootstraps=20,\n",
    "                        delta=0.1,\n",
    "                        weighting='chisq')\n",
    "\n",
    "ce_end_time = timeit.default_timer()\n",
    "ce_elapsed_time = ce_end_time - ce_start_time\n",
    "print('CHIRPS time elapsed:', \"{:0.4f}\".format(ce_elapsed_time), 'seconds')\n",
    "print('CHIRPS with async = ' + str(chirps_explanation_async))"
   ]
  },
  {
   "cell_type": "markdown",
   "metadata": {},
   "source": [
    "# Viewing and Evaluating CHIRPS explanations\n",
    "Evaluation is done using unseen data to see how well the explanations generalise. The data_split_container object (tt) has a  leave-one-out function that is used during the routine to ensure that the datum we are explaining is excluded from the evaluation."
   ]
  },
  {
   "cell_type": "code",
   "execution_count": 11,
   "metadata": {
    "scrolled": false
   },
   "outputs": [
    {
     "name": "stdout",
     "output_type": "stream",
     "text": [
      "evaluating found explanations\n",
      "\n",
      "INSTANCE RESULTS\n",
      "instance id: 33 with true class label: 1 (priority)\n",
      "\n",
      "Model Results for Instance\n",
      "target (predicted) class: 1 (priority)\n",
      "target class prior (training data): 0.33076074972436603\n",
      "forest vote share (unseen instance): 0.8753333333333333\n",
      "forest vote margin (unseen instance): 0.7506666666666666\n",
      "rule: has_nurs_critical False AND has_nurs_very_crit False AND has_nurs_improper False AND health_priority True AND parents_great_pret False\n",
      "rule cardinality: 5\n",
      "\n",
      "Estimated Results - Rule Training Sample. Algorith: greedy_stab\n",
      "rule coverage (training data): 0.09371554575523705\n",
      "rule xcoverage (training data): 0.09366391184573003\n",
      "rule precision (training data): 1.0\n",
      "rule stability (training data): 0.9941520467836257\n",
      "rule recall (training data): 0.2833333333333333\n",
      "rule f1 score (training data): 0.4415584415584416\n",
      "rule lift (training data): 32.260745098039216\n",
      "prior (training data): [0.33958104 0.33076075 0.3076075  0.02205072]\n",
      "prior counts (training data): [616 600 558  40]\n",
      "rule posterior (training data): [0. 1. 0. 0.]\n",
      "rule posterior counts (training data): [  0 170   0   0]\n",
      "rule chisq p-value (training data): 3.0304422229404623e-63\n",
      "\n",
      "Results - Previously Unseen Sample\n",
      "target class prior (unseen data): 0.3268983268983269\n",
      "rule coverage (unseen data): 0.09395109395109395\n",
      "rule xcoverage (unseen data): 0.09383033419023136\n",
      "rule precision (unseen data): 1.0\n",
      "rule stability (unseen data): 0.9864864864864865\n",
      "rule recall (unseen data): 0.2644927536231884\n",
      "rule f1 score (unseen data): 0.4183381088825215\n",
      "rule lift (unseen data): 29.964711137581894\n",
      "prior (unseen data): [0.35521236 0.32689833 0.30888031 0.00900901]\n",
      "prior counts (unseen data): [254 276 240   7]\n",
      "rule posterior (unseen data): [0. 1. 0. 0.]\n",
      "rule posterior counts (unseen data): [ 0 73  0  0]\n",
      "rule chisq p-value (unseen data): 1.1009440089430654e-24\n",
      "\n",
      "RULE COMPLEMENT RESULTS\n",
      "Feature Reversed: has_nurs\n",
      "rule: health_priority True AND parents_great_pret False AND has_nurs_less_proper False AND has_nurs_proper False\n",
      "rule coverage (unseen data): 0.14157014157014158\n",
      "rule xcoverage (unseen data): 0.14138817480719795\n",
      "rule precision (unseen data): 0.2545454545454545\n",
      "rule stability (unseen data): 0.25225225225225223\n",
      "rule recall (unseen data): 0.10144927536231885\n",
      "rule f1 score (unseen data): 0.14507772020725387\n",
      "rule lift (unseen data): 5.061807402084081\n",
      "prior (unseen data): [0.35521236 0.32689833 0.30888031 0.00900901]\n",
      "prior counts (unseen data): [254 276 240   7]\n",
      "rule posterior (unseen data): [0.         0.25454545 0.74545455 0.        ]\n",
      "rule posterior counts (unseen data): [ 0 28 82  0]\n",
      "rule chisq p-value (unseen data): 1.8062626794353352e-19\n",
      "predictions for this rule complement\n",
      "instance specific. expected class: 2 (spec_prior)\n",
      "classes: [0, 1, 2, 3]\n",
      "counts: [  0   0 777   0]\n",
      "proba: [0. 0. 1. 0.]\n",
      "allowed values. expected class: 2 (spec_prior)\n",
      "classes: [0, 1, 2, 3]\n",
      "counts: [  0 147 630   0]\n",
      "proba: [0.         0.18918919 0.81081081 0.        ]\n",
      "\n",
      "Feature Reversed: health\n",
      "rule: has_nurs_critical False AND has_nurs_very_crit False AND has_nurs_improper False AND health_priority False AND parents_great_pret False\n",
      "rule coverage (unseen data): 0.16988416988416988\n",
      "rule xcoverage (unseen data): 0.16966580976863754\n",
      "rule precision (unseen data): 0.45454545454545453\n",
      "rule stability (unseen data): 0.45112781954887216\n",
      "rule recall (unseen data): 0.21739130434782608\n",
      "rule f1 score (unseen data): 0.29411764705882354\n",
      "rule lift (unseen data): 7.53245149119655\n",
      "prior (unseen data): [0.35521236 0.32689833 0.30888031 0.00900901]\n",
      "prior counts (unseen data): [254 276 240   7]\n",
      "rule posterior (unseen data): [0.5        0.45454545 0.         0.04545455]\n",
      "rule posterior counts (unseen data): [66 60  0  6]\n",
      "rule chisq p-value (unseen data): 8.761386182658905e-14\n",
      "predictions for this rule complement\n",
      "instance specific. expected class: 0 (not_recom)\n",
      "classes: [0, 1, 2, 3]\n",
      "counts: [398 379   0   0]\n",
      "proba: [0.51222651 0.48777349 0.         0.        ]\n",
      "allowed values. expected class: 0 (not_recom)\n",
      "classes: [0, 1, 2, 3]\n",
      "counts: [398 379   0   0]\n",
      "proba: [0.51222651 0.48777349 0.         0.        ]\n",
      "\n",
      "Feature Reversed: parents\n",
      "rule: has_nurs_critical False AND has_nurs_very_crit False AND has_nurs_improper False AND health_priority True AND parents_great_pret True\n",
      "rule coverage (unseen data): 0.039897039897039896\n",
      "rule xcoverage (unseen data): 0.03984575835475578\n",
      "rule precision (unseen data): 0.3870967741935484\n",
      "rule stability (unseen data): 0.375\n",
      "rule recall (unseen data): 0.043478260869565216\n",
      "rule f1 score (unseen data): 0.07817589576547232\n",
      "rule lift (unseen data): 27.314346468805137\n",
      "prior (unseen data): [0.35521236 0.32689833 0.30888031 0.00900901]\n",
      "prior counts (unseen data): [254 276 240   7]\n",
      "rule posterior (unseen data): [0.         0.38709677 0.61290323 0.        ]\n",
      "rule posterior counts (unseen data): [ 0 12 19  0]\n",
      "rule chisq p-value (unseen data): 0.00026141496052893267\n",
      "predictions for this rule complement\n",
      "instance specific. expected class: 2 (spec_prior)\n",
      "classes: [0, 1, 2, 3]\n",
      "counts: [  0   0 777   0]\n",
      "proba: [0. 0. 1. 0.]\n",
      "allowed values. expected class: 2 (spec_prior)\n",
      "classes: [0, 1, 2, 3]\n",
      "counts: [  0   0 777   0]\n",
      "proba: [0. 0. 1. 0.]\n",
      "\n",
      "\n",
      "CHIRPS batch results eval time elapsed: 1.8821 seconds\n"
     ]
    }
   ],
   "source": [
    "# iterate over all the test instances to determine the various scores using leave-one-out testing\n",
    "print('evaluating found explanations')\n",
    "print()\n",
    "results_start_time = timeit.default_timer()\n",
    "\n",
    "rt.evaluate_CHIRPS_explainers(CHIRPS, tt, tt.y_test.index,\n",
    "                              forest=rf,\n",
    "                              meta_data=meta_data,\n",
    "                              eval_start_time=results_start_time,\n",
    "                              print_to_screen=True, # set True when running single instances\n",
    "                              eval_alt_labelings=True,\n",
    "                              eval_rule_complements=True,\n",
    "                              save_results_path=save_path,\n",
    "                              dataset_name='test',\n",
    "                              save_results_file='CHIRPS' + '_rnst_' + str(random_state),\n",
    "                              save_CHIRPS=False)\n",
    "\n",
    "results_end_time = timeit.default_timer()\n",
    "results_elapsed_time = results_end_time - results_start_time\n",
    "print('CHIRPS batch results eval time elapsed:', \"{:0.4f}\".format(results_elapsed_time), 'seconds')\n",
    "# this completes the CHIRPS runs"
   ]
  },
  {
   "cell_type": "code",
   "execution_count": 12,
   "metadata": {},
   "outputs": [
    {
     "data": {
      "text/plain": [
       "[('has_nurs_critical', True, 0.5),\n",
       " ('has_nurs_very_crit', True, 0.5),\n",
       " ('has_nurs_improper', True, 0.5),\n",
       " ('health_not_recom', True, 0.5),\n",
       " ('health_recommended', True, 0.5),\n",
       " ('parents_great_pret', True, 0.5)]"
      ]
     },
     "execution_count": 12,
     "metadata": {},
     "output_type": "execute_result"
    }
   ],
   "source": [
    "from pandas import Series\n",
    "forest = rf\n",
    "train_pred_labels = Series(forest.predict(tt.X_train_enc), index = tt.y_train.index)\n",
    "CHIRPS.CHIRPS_explainers[0].evaluate_rule(rule='pruned', sample_instances=tt.X_train_enc, sample_labels=train_pred_labels)"
   ]
  },
  {
   "cell_type": "code",
   "execution_count": 13,
   "metadata": {},
   "outputs": [
    {
     "data": {
      "text/plain": [
       "array([[0.33958104, 0.33076075, 0.3076075 , 0.02205072],\n",
       "       [0.        , 0.69463549, 0.25034388, 0.05502063],\n",
       "       [0.        , 0.84309623, 0.07322176, 0.08368201],\n",
       "       [0.        , 0.89634146, 0.        , 0.10365854],\n",
       "       [0.        , 1.        , 0.        , 0.        ]])"
      ]
     },
     "execution_count": 13,
     "metadata": {},
     "output_type": "execute_result"
    }
   ],
   "source": [
    "CHIRPS.CHIRPS_explainers[0].posterior"
   ]
  },
  {
   "cell_type": "code",
   "execution_count": null,
   "metadata": {},
   "outputs": [],
   "source": []
  }
 ],
 "metadata": {
  "kernelspec": {
   "display_name": "Python 3",
   "language": "python",
   "name": "python3"
  },
  "language_info": {
   "codemirror_mode": {
    "name": "ipython",
    "version": 3
   },
   "file_extension": ".py",
   "mimetype": "text/x-python",
   "name": "python",
   "nbconvert_exporter": "python",
   "pygments_lexer": "ipython3",
   "version": "3.6.5"
  }
 },
 "nbformat": 4,
 "nbformat_minor": 2
}
