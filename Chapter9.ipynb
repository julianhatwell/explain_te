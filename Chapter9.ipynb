{
 "cells": [
  {
   "cell_type": "code",
   "execution_count": 1,
   "metadata": {},
   "outputs": [],
   "source": [
    "# for notebook plotting\n",
    "%matplotlib inline \n",
    "\n",
    "# load what we need\n",
    "import numpy as np\n",
    "import pandas as pd"
   ]
  },
  {
   "cell_type": "code",
   "execution_count": 2,
   "metadata": {},
   "outputs": [],
   "source": [
    "# read in the results data sets\n",
    "save_path = \"/datadisk/whiteboxing/examples2/german/\"\n",
    "tc = 'tc' # true column\n",
    "pc = 'pc' # pred column\n",
    "\n",
    "def load_preds(filename):\n",
    "    out = pd.read_csv(save_path + filename,\n",
    "                      usecols=['true class', 'predicted class'],\n",
    "                     )\n",
    "    out.columns = [tc, pc]\n",
    "    return(out)\n",
    "\n",
    "def load_full(filename):\n",
    "    out = pd.read_csv(save_path + filename)\n",
    "    return(out)\n",
    "\n",
    "rf_preds = load_preds('RandomForest_CHIRPS_rnst_demo123.csv')\n",
    "ada1_preds = load_preds('AdaBoost1_CHIRPS_rnst_demo123.csv')\n",
    "ada2_preds = load_preds('AdaBoost2_CHIRPS_rnst_demo123.csv')\n",
    "gbt_preds = load_preds('GBM_CHIRPS_rnst_demo123.csv')\n",
    "\n",
    "rf = load_full('RandomForest_CHIRPS_rnst_demo123.csv')"
   ]
  },
  {
   "cell_type": "code",
   "execution_count": 3,
   "metadata": {},
   "outputs": [],
   "source": [
    "# add an agreement column to each\n",
    "for pred in [rf_preds, ada1_preds, ada2_preds, gbt_preds]:\n",
    "    pred['agree'] = pred[tc] == pred[pc]"
   ]
  },
  {
   "cell_type": "code",
   "execution_count": 14,
   "metadata": {},
   "outputs": [],
   "source": [
    "# identify alignment and agreement\n",
    "pred_align = rf_preds[pc] + ada1_preds[pc] + ada2_preds[pc] + gbt_preds[pc] # pd.Series type\n",
    "alag = pd.concat([rf['instance_id'],\n",
    "                  rf_preds[pc],\n",
    "                  ada1_preds[pc],\n",
    "                  ada2_preds[pc],\n",
    "                  gbt_preds[pc],\n",
    "                  rf_preds[tc],\n",
    "                  pred_align],\n",
    "                 ignore_index=True, axis=1)\n",
    "alag.columns = ['id', 'rf_p', 'a1_p', 'a2_p', 'gbt_p', tc, 'align']\n",
    "alag['categ'] = 'disagree'\n",
    "alag.loc[(alag['align'] == 4) & (alag[tc] == 1), 'categ'] = 'agree_bad_right'\n",
    "alag.loc[(alag['align'] == 4) & (alag[tc] == 0), 'categ'] = 'agree_bad_wrong'\n",
    "alag.loc[(alag['align'] == 0) & (alag[tc] == 1), 'categ'] = 'agree_good_wrong'\n",
    "alag.loc[(alag['align'] == 0) & (alag[tc] == 0), 'categ'] = 'agree_good_right'"
   ]
  },
  {
   "cell_type": "code",
   "execution_count": null,
   "metadata": {
    "scrolled": false
   },
   "outputs": [],
   "source": [
    "alag"
   ]
  }
 ],
 "metadata": {
  "kernelspec": {
   "display_name": "Python 3",
   "language": "python",
   "name": "python3"
  },
  "language_info": {
   "codemirror_mode": {
    "name": "ipython",
    "version": 3
   },
   "file_extension": ".py",
   "mimetype": "text/x-python",
   "name": "python",
   "nbconvert_exporter": "python",
   "pygments_lexer": "ipython3",
   "version": "3.7.4"
  }
 },
 "nbformat": 4,
 "nbformat_minor": 4
}
