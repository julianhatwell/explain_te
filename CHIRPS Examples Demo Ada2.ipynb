{
 "cells": [
  {
   "cell_type": "markdown",
   "metadata": {},
   "source": [
    "# prologue"
   ]
  },
  {
   "cell_type": "markdown",
   "metadata": {},
   "source": [
    "### set up notebook and load package"
   ]
  },
  {
   "cell_type": "code",
   "execution_count": null,
   "metadata": {},
   "outputs": [],
   "source": [
    "# for notebook plotting\n",
    "%matplotlib inline \n",
    "\n",
    "# load what we need\n",
    "import time\n",
    "import timeit\n",
    "import numpy as np\n",
    "import CHIRPS.structures as strcts\n",
    "import CHIRPS.datasets as ds\n",
    "import CHIRPS.datasets_proprietary as dsp\n",
    "import CHIRPS.routines as rt\n",
    "\n",
    "# demo datasets that ship with package. all from UCI unless stated otherwise\n",
    "# import CHIRPS.datasets as ds\n",
    "# ds.adult_data, ds.adult_samp_data, ds.adult_small_samp_data Large dataset ships with manageable sub samples\n",
    "# ds.bankmark_data, ds.bankmark_samp_data\n",
    "# ds.car_data\n",
    "# ds.cardio_data this is the cardiotocography dataset\n",
    "# ds.credit_data\n",
    "# ds.german_data\n",
    "# ds.lending_data, ds.lending_samp_data, ds.lending_small_samp_data, ds.lending_tiny_samp_data from Kaggle. see datasets_from_source file for links\n",
    "# ds.nursery_data, ds.nursery_samp_data\n",
    "# ds.rcdv_data, ds.rcdv_samp_data from US government see datasets_from_source file for links"
   ]
  },
  {
   "cell_type": "markdown",
   "metadata": {},
   "source": [
    "### common config - can be ommitted if defaults are OK"
   ]
  },
  {
   "cell_type": "code",
   "execution_count": null,
   "metadata": {},
   "outputs": [],
   "source": [
    "# location to save results\n",
    "project_dir = '/datadisk/whiteboxing/examples2'\n",
    "# project_dir = 'V:\\\\whiteboxing\\\\2020' # defaults to a directory \"whiteboxing\" in the working directory\n",
    "# project_dir = 'C:\\\\Users\\\\Crutt\\\\Documents\\\\whiteboxing\\\\2020'\n",
    "\n",
    "random_state_splits = 123 # one off for splitting the data into test / train\n",
    "random_state = 123 # for everything else - e.g. building a new rf with same data"
   ]
  },
  {
   "cell_type": "markdown",
   "metadata": {},
   "source": [
    "# Build a Random Forest Model to Predict and Explain\n",
    "First, a wrapper is created for the dataset. Use one that ships with the package, or create your own.\n",
    "Then split the data into training and (hold out) test set using the convenience functions in the package. These return an object that contain the split data in various representations, such as Pandas DataFrames and encoded, sparse matrices."
   ]
  },
  {
   "cell_type": "code",
   "execution_count": null,
   "metadata": {
    "scrolled": false
   },
   "outputs": [],
   "source": [
    "# load one of the included datasets\n",
    "# project_dir will default to directory name CHIRPS in the working directory if not given\n",
    "# random_state will default to 123\n",
    "override_tuning = False\n",
    "mydata = ds.german(random_state=random_state_splits, project_dir=project_dir)\n",
    "\n",
    "meta_data = mydata.get_meta()\n",
    "save_path = meta_data['get_save_path']()\n",
    "\n",
    "# split the data. here using a basic sampling method.\n",
    "# the returned object is a wrapper class that contains\n",
    "# the train and test splits for X and y\n",
    "\n",
    "# also the the encoded versions of X_train and X_test that the rf will use\n",
    "# this is because we prefer onehot encoded over allowing categorical vars to be represented as integer\n",
    "# scikit would treat these as ordinal, which is inappropriate\n",
    "\n",
    "# also some meta-data: priors for y, the indexes from the input data\n",
    "\n",
    "# also some convenience functions for leave-one-out testing\n",
    "\n",
    "# train test split - one off hard-coded random state.\n",
    "# random state can be ommitted \n",
    "# and will default to the state held in the dataset container\n",
    "# which defaults to 123 if ommitted in the constructor\n",
    "train_index, test_index = mydata.get_tt_split_idx(random_state=random_state_splits)\n",
    "# optionally, indexes can be ommitted and will default to scikit's train_test_split method\n",
    "tt = mydata.tt_split(train_index, test_index)\n",
    "\n",
    "# CHOOSE ONE\n",
    "# model = 'RandomForest'\n",
    "# model = 'AdaBoost1' # SAMME\n",
    "model = 'AdaBoost2' # SAMME.R\n",
    "# model = 'GBM'\n",
    "\n",
    "# decide if to run the whole tuning routine again (long for Adaboost)\n",
    "# RF routine has a default tuning grid, so can leave as None, or come up with some other options\n",
    "tuning = {'grid' : None, 'override' : override_tuning}\n",
    "if model == 'RandomForest':\n",
    "    which_trees = 'majority'\n",
    "    tuning.update({'grid' : {'n_estimators': [(i + 1) * 200 for i in range(8)],\n",
    "                            'max_depth' : [32]}})\n",
    "\n",
    "elif model in ('AdaBoost1', 'AdaBoost2'):\n",
    "    if model == 'AdaBoost1':\n",
    "        # classic (and multi-class) AdaBoost\n",
    "        algo = 'SAMME'\n",
    "        which_trees = 'majority'\n",
    "    else:\n",
    "        # real-valued AdaBoost\n",
    "        algo = 'SAMME.R'\n",
    "        which_trees = 'conf_weighted'\n",
    "    max_depth = [i for i in range(1, 5)]\n",
    "    tuning.update({'grid' : {'base_estimator' : [rt.DecisionTreeClassifier(max_depth=d) for d in max_depth],\n",
    "                            'n_estimators': [(i + 1) * 200 for i in range(8)], 'algorithm': [algo]}})\n",
    "    \n",
    "else: # GBM\n",
    "    tuning.update({'grid' : {'subsample' : [0.5],\n",
    "                        'n_estimators': [i * 200 for i in range(1, 9)],\n",
    "                        'max_depth' : [i for i in range(1, 5)],\n",
    "                        'learning_rate': np.full(4, 10.0)**[i for i in range(-3, 1)]}})\n",
    "\n",
    "rf = rt.forest_prep(ds_container=tt,\n",
    "                    meta_data=meta_data,\n",
    "                    override_tuning=override_tuning,\n",
    "                    model=model,\n",
    "                    tuning_grid=tuning['grid'],\n",
    "                    save_path=save_path,\n",
    "                    plot_cm=False, plot_cm_norm=False)\n",
    "\n",
    "# get what the model predicts on the training sample\n",
    "sample_labels = rf.predict(tt.X_train_enc)"
   ]
  },
  {
   "cell_type": "markdown",
   "metadata": {},
   "source": [
    "# Preparing unseen data\n",
    "\n",
    "Again note:\n",
    "test set has never been \"seen\" by random forest during training\n",
    "test set has been only used to assess model (random forest) accuracy - no additional tuning after this\n",
    "test set has not be involved in generating the explainer"
   ]
  },
  {
   "cell_type": "markdown",
   "metadata": {},
   "source": [
    "## optional: memory and computation cost management\n",
    "#### CHIRPS is time economical but memory intensive to compute for lots of instances at once\n",
    "option 1: choose a smaller number of instances to explain"
   ]
  },
  {
   "cell_type": "code",
   "execution_count": null,
   "metadata": {},
   "outputs": [],
   "source": [
    "# control for async processes - each tree walk can be done in its own core\n",
    "# and so can each explanation (e.g. rule conditions merge by hill-climbing)\n",
    "# these will default to false if not passed explicitly to the explainer function\n",
    "# on a multi-core machine there should be a good speed up for large batches\n",
    "# when the batch_size advantage exceeds the overhead of setting up multi-processing\n",
    "# timings will be printed to screen so you can see if it helps\n",
    "forest_walk_async=True\n",
    "explanation_async=True\n",
    "\n",
    "# how many instances to explain in total from a test/unseen set\n",
    "# doesn't matter if you don't know how large the dataset is\n",
    "# this function prevents you maxing out, or put n_instances = None for whole dataset\n",
    "n_instances = rt.n_instance_ceiling(ds_container=tt, n_instances=30)\n",
    "\n",
    "# this gets the next batch out of the data_split_container according to the required number of instances\n",
    "# all formats can be extracted, depending on the requirement\n",
    "# unencoded, encoded (sparse matrix is the type returned by scikit), ordinary dense matrix also available\n",
    "tt.current_row_test = 0\n",
    "instances, _, instances_enc, instances_enc_matrix, labels = tt.get_next(n_instances, which_split='test') # default"
   ]
  },
  {
   "cell_type": "markdown",
   "metadata": {},
   "source": [
    "option 2: just run the whole test set"
   ]
  },
  {
   "cell_type": "code",
   "execution_count": null,
   "metadata": {},
   "outputs": [],
   "source": [
    "# instances = tt.X_test; instances_enc = tt.X_test_enc; instances_enc_matrix = tt.X_test_enc_matrix; labels = tt.y_test"
   ]
  },
  {
   "cell_type": "markdown",
   "metadata": {},
   "source": [
    "## Make predictions from the decision forest on the unseen data\n",
    "Important point, no compromise on model accuracy"
   ]
  },
  {
   "cell_type": "code",
   "execution_count": null,
   "metadata": {},
   "outputs": [],
   "source": [
    "# get all the model predictions for the test instance(s) we're looking at\n",
    "preds_idx = labels.index\n",
    "preds = rf.predict(X=instances_enc)"
   ]
  },
  {
   "cell_type": "markdown",
   "metadata": {},
   "source": [
    "# CHIRPS Step 1:\n",
    "## Extract Tree Prediction Paths\n",
    "### Fit a forest_walker object to the dataset and decision forest\n",
    "This is a wrapper will extracts the paths of all the given instances. For CHIRPS, we want a large sample. The whole training set or other representative sample will do.\n",
    "\n",
    "It can also report interesting statistics (treating the forest as a set of random tree-structured variables)."
   ]
  },
  {
   "cell_type": "code",
   "execution_count": null,
   "metadata": {
    "scrolled": false
   },
   "outputs": [],
   "source": [
    "# wrapper object needs the decision forest itself and the dataset meta data \n",
    "if model == 'GBM':\n",
    "    f_walker = strcts.regression_trees_walker(forest = rf, meta_data=meta_data)\n",
    "else:\n",
    "    f_walker = strcts.classification_trees_walker(forest = rf, meta_data=meta_data)"
   ]
  },
  {
   "cell_type": "code",
   "execution_count": null,
   "metadata": {
    "scrolled": false
   },
   "outputs": [],
   "source": [
    "print('Walking forest for ' + str(len(labels)) + ' instances... (please wait)')\n",
    "\n",
    "# set the timer\n",
    "forest_walk_start_time = timeit.default_timer()\n",
    "\n",
    "# do the walk - creates a paths_container (even for just one instance) as a new property\n",
    "# requires the X instances in a matrix (dense, ordinary numpy matrix) - this is available in the data_split_container\n",
    "f_walker.forest_walk(instances = instances_enc_matrix\n",
    "                    , labels = preds # we're explaining the prediction, not the true label!\n",
    "                    , forest_walk_async = forest_walk_async)\n",
    "\n",
    "# stop the timer\n",
    "forest_walk_end_time = timeit.default_timer()\n",
    "forest_walk_elapsed_time = forest_walk_end_time - forest_walk_start_time\n",
    "\n",
    "print('Forest Walk with async = ' + str(forest_walk_async))\n",
    "print('Forest Walk time elapsed:', \"{:0.4f}\".format(forest_walk_elapsed_time), 'seconds')"
   ]
  },
  {
   "cell_type": "markdown",
   "metadata": {},
   "source": [
    "# CHIRPS Steps 2-4: \n",
    "## Freqent pattern mining of paths.\n",
    "## Score and sort mined path segments.\n",
    "## Merge path segments into one rule.\n",
    "\n",
    "This is a wrapper object that will execute steps 2-4 on all the instance-paths in the batch_paths_container.\n",
    "\n",
    "Note that true_divide warnings are OK. It just means that a continuous variable is unbounded in some way i.e. no greater/less than discontinuity is used in the CHIRPS explanation.\n",
    "\n",
    "Note also, here we are using the training set to create the explainers. We could use a different dataset as long as it is representative of the training set that built the decision forest. Most important that we don't use the dataset that we wish to explain."
   ]
  },
  {
   "cell_type": "code",
   "execution_count": null,
   "metadata": {
    "scrolled": false
   },
   "outputs": [],
   "source": [
    "if model == 'GBM':\n",
    "    # create a GBHIPS container object for the forest path detail\n",
    "    explanations = strcts.GBHIPS_container(f_walker.path_detail,\n",
    "                                    forest=rf,\n",
    "                                    sample_instances=tt.X_train_enc, # any representative sample can be used\n",
    "                                    sample_labels=sample_labels,\n",
    "                                    meta_data=meta_data)\n",
    "    \n",
    "    print('Running GBHIPS on a batch of ' + str(len(labels)) + ' instances... (please wait)')\n",
    "    # start a timer\n",
    "    ce_start_time = timeit.default_timer()\n",
    "\n",
    "    # run the explanation algorithm for Gradient Boosted Trees on all the instance path details\n",
    "    explanations.run_explanations(target_classes=preds, # we're explaining the prediction, not the true label!\n",
    "                            explanation_async=explanation_async,\n",
    "                            random_state=random_state,\n",
    "                            paths_lengths_threshold=5,\n",
    "                            which_trees='targetclass',\n",
    "                            alpha_paths=0.0,\n",
    "                            support_paths=0.05,\n",
    "                            score_func=1,\n",
    "                            precis_threshold=0.99,\n",
    "                            disc_path_bins=4,\n",
    "                            merging_bootstraps=20,\n",
    "                            pruning_bootstraps=20,\n",
    "                            delta=0.2,\n",
    "                            weighting='kldiv')\n",
    "    \n",
    "    # For unbalanced data in binary classification, if an instance has a negative margin, \n",
    "    # that means it moved towards the boundary (say prob = 0.5 or lodds = 0)\n",
    "    # but did not move far enough to change class (say from > 0.75 prior).\n",
    "    # However, one can say it has some similarities to the other class.\n",
    "    # These can be viewed by setting the other class as the target and \n",
    "    # which_trees = 'signdelta' (trees that agree with the sign of the total change of lodds)\n",
    "\n",
    "    ce_end_time = timeit.default_timer()\n",
    "    ce_elapsed_time = ce_end_time - ce_start_time\n",
    "    print('GBHIPS time elapsed:', \"{:0.4f}\".format(ce_elapsed_time), 'seconds')\n",
    "    print('GBHIPS with async = ' + str(explanation_async))\n",
    "    \n",
    "if model == 'RandomForest':\n",
    "    # create a CHIRPS container for the forest path detail\n",
    "    explanations = strcts.CHIRPS_container(f_walker.path_detail,\n",
    "                                    forest=rf,\n",
    "                                    sample_instances=tt.X_train_enc, # any representative sample can be used\n",
    "                                    sample_labels=sample_labels,\n",
    "                                    meta_data=meta_data)\n",
    "    \n",
    "    print('Running CHIRPS on a batch of ' + str(len(labels)) + ' instances... (please wait)')\n",
    "    # start a timer\n",
    "    ce_start_time = timeit.default_timer()\n",
    "    \n",
    "    # run the explanation algorithm for Random Forest or AdaBoost on all the instance path details\n",
    "    explanations.run_explanations(target_classes=preds, # we're explaining the prediction, not the true label!\n",
    "                            explanation_async=explanation_async,\n",
    "                            random_state=random_state,\n",
    "                            which_trees=which_trees,\n",
    "                            alpha_paths=0.0,\n",
    "                            support_paths=0.01,\n",
    "                            score_func=1,\n",
    "                            precis_threshold=0.99,\n",
    "                            disc_path_bins=2,\n",
    "                            merging_bootstraps=20,\n",
    "                            pruning_bootstraps=20,\n",
    "                            delta=0.2,\n",
    "                            weighting='nothing')\n",
    "\n",
    "    ce_end_time = timeit.default_timer()\n",
    "    ce_elapsed_time = ce_end_time - ce_start_time\n",
    "    print('CHIRPS time elapsed:', \"{:0.4f}\".format(ce_elapsed_time), 'seconds')\n",
    "    print('CHIRPS with async = ' + str(explanation_async))\n",
    "    \n",
    "if model == 'AdaBoost1':\n",
    "    # create a CHIRPS container for the forest path detail\n",
    "    explanations = strcts.CHIRPS_container(f_walker.path_detail,\n",
    "                                    forest=rf,\n",
    "                                    sample_instances=tt.X_train_enc, # any representative sample can be used\n",
    "                                    sample_labels=sample_labels,\n",
    "                                    meta_data=meta_data)\n",
    "    \n",
    "    print('Running CHIRPS on a batch of ' + str(len(labels)) + ' instances... (please wait)')\n",
    "    # start a timer\n",
    "    ce_start_time = timeit.default_timer()\n",
    "    \n",
    "    # run the explanation algorithm for Random Forest or AdaBoost on all the instance path details\n",
    "    explanations.run_explanations(target_classes=preds, # we're explaining the prediction, not the true label!\n",
    "                            explanation_async=explanation_async,\n",
    "                            random_state=random_state,\n",
    "                            which_trees=which_trees,\n",
    "                            alpha_paths=0.0,\n",
    "                            support_paths=0.01,\n",
    "                            score_func=1,\n",
    "                            precis_threshold=0.99,\n",
    "                            disc_path_bins=4,\n",
    "                            merging_bootstraps=20,\n",
    "                            pruning_bootstraps=20,\n",
    "                            delta=0.2,\n",
    "                            weighting='kldiv')\n",
    "\n",
    "    ce_end_time = timeit.default_timer()\n",
    "    ce_elapsed_time = ce_end_time - ce_start_time\n",
    "    print('CHIRPS time elapsed:', \"{:0.4f}\".format(ce_elapsed_time), 'seconds')\n",
    "    print('CHIRPS with async = ' + str(explanation_async))\n",
    "    \n",
    "if model == 'AdaBoost2':\n",
    "    # create a CHIRPS container for the forest path detail\n",
    "    explanations = strcts.CHIRPS_container(f_walker.path_detail,\n",
    "                                    forest=rf,\n",
    "                                    sample_instances=tt.X_train_enc, # any representative sample can be used\n",
    "                                    sample_labels=sample_labels,\n",
    "                                    meta_data=meta_data)\n",
    "    \n",
    "    print('Running CHIRPS on a batch of ' + str(len(labels)) + ' instances... (please wait)')\n",
    "    # start a timer\n",
    "    ce_start_time = timeit.default_timer()\n",
    "    \n",
    "    # run the explanation algorithm for Random Forest or AdaBoost on all the instance path details\n",
    "    explanations.run_explanations(target_classes=preds, # we're explaining the prediction, not the true label!\n",
    "                            explanation_async=explanation_async,\n",
    "                            random_state=random_state,\n",
    "                            which_trees=which_trees,\n",
    "                            alpha_paths=0.00,\n",
    "                            support_paths=0.001,\n",
    "                            score_func=1,\n",
    "                            precis_threshold=0.99,\n",
    "                            disc_path_bins=2,\n",
    "                            merging_bootstraps=20,\n",
    "                            pruning_bootstraps=20,\n",
    "                            delta=0.2,\n",
    "                            weighting='nothing')\n",
    "\n",
    "    ce_end_time = timeit.default_timer()\n",
    "    ce_elapsed_time = ce_end_time - ce_start_time\n",
    "    print('CHIRPS time elapsed:', \"{:0.4f}\".format(ce_elapsed_time), 'seconds')\n",
    "    print('CHIRPS with async = ' + str(explanation_async))"
   ]
  },
  {
   "cell_type": "markdown",
   "metadata": {},
   "source": [
    "# Viewing Explanations\n",
    "For evaluation, see alternative notebook. This session assumes that the system has been tested and tuned.\n",
    "\n",
    "It is sufficient at this point to examine the explanation stats over the training set since we are explaning the influence of the training set over the model building algorithm."
   ]
  },
  {
   "cell_type": "code",
   "execution_count": null,
   "metadata": {
    "scrolled": false
   },
   "outputs": [],
   "source": [
    "# iterate over all the test instances to determine the various scores using leave-one-out testing\n",
    "print('demonstrating found explanations')\n",
    "print()\n",
    "results_start_time = timeit.default_timer()\n",
    "\n",
    "save_results_file = model + '_CHIRPS_rnst_demo' + str(random_state)\n",
    "\n",
    "rt.demonstrate_explainers(explanations, tt, labels.index, # for full batch runs: tt.y_test.index,\n",
    "                              forest=rf,\n",
    "                              meta_data=meta_data,\n",
    "                              model=model,\n",
    "                              eval_start_time=results_start_time,\n",
    "                              print_to_screen=True, # set True when running single instances\n",
    "                              eval_alt_labelings=True,\n",
    "                              eval_rule_complements=True,\n",
    "                              save_results_path=save_path,\n",
    "                              dataset_name='',\n",
    "                              save_results_file=save_results_file,\n",
    "                              save_CHIRPS=False)\n",
    "\n",
    "results_end_time = timeit.default_timer()\n",
    "results_elapsed_time = results_end_time - results_start_time\n",
    "print('CHIRPS batch results eval time elapsed:', \"{:0.4f}\".format(results_elapsed_time), 'seconds')\n",
    "# this completes the CHIRPS runs"
   ]
  }
 ],
 "metadata": {
  "kernelspec": {
   "display_name": "Python 3",
   "language": "python",
   "name": "python3"
  },
  "language_info": {
   "codemirror_mode": {
    "name": "ipython",
    "version": 3
   },
   "file_extension": ".py",
   "mimetype": "text/x-python",
   "name": "python",
   "nbconvert_exporter": "python",
   "pygments_lexer": "ipython3",
   "version": "3.7.4"
  }
 },
 "nbformat": 4,
 "nbformat_minor": 2
}
