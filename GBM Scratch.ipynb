{
 "cells": [
  {
   "cell_type": "markdown",
   "metadata": {},
   "source": [
    "# prologue"
   ]
  },
  {
   "cell_type": "markdown",
   "metadata": {},
   "source": [
    "### set up notebook and load package"
   ]
  },
  {
   "cell_type": "code",
   "execution_count": 1,
   "metadata": {},
   "outputs": [],
   "source": [
    "# for notebook plotting\n",
    "%matplotlib inline \n",
    "\n",
    "# load what we need\n",
    "import time\n",
    "import timeit\n",
    "import numpy as np\n",
    "import sklearn\n",
    "import sklearn.dummy as dummy\n",
    "import CHIRPS.structures as strcts\n",
    "import CHIRPS.datasets as ds\n",
    "import CHIRPS.datasets_proprietary as dsp\n",
    "import CHIRPS.routines as rt\n",
    "\n",
    "# demo datasets that ship with package. all from UCI unless stated otherwise\n",
    "# import CHIRPS.datasets as ds\n",
    "# ds.adult_data, ds.adult_samp_data, ds.adult_small_samp_data Large dataset ships with manageable sub samples\n",
    "# ds.bankmark_data, ds.bankmark_samp_data\n",
    "# ds.car_data\n",
    "# ds.cardio_data this is the cardiotocography dataset\n",
    "# ds.credit_data\n",
    "# ds.german_data\n",
    "# ds.lending_data, ds.lending_samp_data, ds.lending_small_samp_data, ds.lending_tiny_samp_data from Kaggle. see datasets_from_source file for links\n",
    "# ds.nursery_data, ds.nursery_samp_data\n",
    "# ds.rcdv_data, ds.rcdv_samp_data from US government see datasets_from_source file for links"
   ]
  },
  {
   "cell_type": "markdown",
   "metadata": {},
   "source": [
    "### common config - can be ommitted if defaults are OK"
   ]
  },
  {
   "cell_type": "code",
   "execution_count": 2,
   "metadata": {},
   "outputs": [],
   "source": [
    "# location to save results\n",
    "project_dir = '/datadisk/whiteboxing/2020'\n",
    "# project_dir = 'V:\\\\whiteboxing\\\\2020' # defaults to a directory \"whiteboxing\" in the working directory\n",
    "# project_dir = 'C:\\\\Users\\\\Crutt\\\\Documents\\\\whiteboxing\\\\2020'\n",
    "\n",
    "random_state_splits = 123 # one off for splitting the data into test / train\n",
    "random_state = 123 # for everything else - e.g. building a new rf with same data"
   ]
  },
  {
   "cell_type": "markdown",
   "metadata": {},
   "source": [
    "# Build a Random Forest Model to Predict and Explain\n",
    "First, a wrapper is created for the dataset. Use one that ships with the package, or create your own.\n",
    "Then split the data into training and (hold out) test set using the convenience functions in the package. These return an object that contain the split data in various representations, such as Pandas DataFrames and encoded, sparse matrices."
   ]
  },
  {
   "cell_type": "code",
   "execution_count": 3,
   "metadata": {
    "scrolled": false
   },
   "outputs": [
    {
     "name": "stderr",
     "output_type": "stream",
     "text": [
      "/home/julianhatwell/anaconda3/envs/B3/lib/python3.7/site-packages/sklearn/preprocessing/_encoders.py:415: FutureWarning: The handling of integer data will change in version 0.22. Currently, the categories are determined based on the range [0, max(values)], while in the future they will be determined based on the unique values.\n",
      "If you want the future behaviour and silence this warning, you can specify \"categories='auto'\".\n",
      "In case you used a LabelEncoder before this OneHotEncoder to convert the categories to integers, then you can now use the OneHotEncoder directly.\n",
      "  warnings.warn(msg, FutureWarning)\n"
     ]
    },
    {
     "name": "stdout",
     "output_type": "stream",
     "text": [
      "using previous tuning parameters\n",
      "Best OOB Accuracy Estimate during tuning: 0.7643\n",
      "Best parameters:{'learning_rate': 0.01, 'max_depth': 2, 'n_estimators': 1600, 'subsample': 0.5, 'random_state': 123}\n",
      "\n",
      "Confusion matrix, without normalization\n",
      "[[ 52  36]\n",
      " [ 35 177]]\n"
     ]
    },
    {
     "data": {
      "image/png": "[encoded data removed]",
      "text/plain": [
       "<Figure size 432x288 with 2 Axes>"
      ]
     },
     "metadata": {
      "needs_background": "light"
     },
     "output_type": "display_data"
    },
    {
     "name": "stdout",
     "output_type": "stream",
     "text": [
      "Normalized confusion matrix\n",
      "[[0.59 0.41]\n",
      " [0.17 0.83]]\n"
     ]
    },
    {
     "data": {
      "image/png": "[encoded data removed]",
      "text/plain": [
       "<Figure size 432x288 with 2 Axes>"
      ]
     },
     "metadata": {
      "needs_background": "light"
     },
     "output_type": "display_data"
    }
   ],
   "source": [
    "# load one of the included datasets\n",
    "# project_dir will default to directory name CHIRPS in the working directory if not given\n",
    "# random_state will default to 123\n",
    "override_tuning = False\n",
    "mydata = ds.german(random_state=random_state_splits, project_dir=project_dir)\n",
    "\n",
    "meta_data = mydata.get_meta()\n",
    "save_path = meta_data['get_save_path']()\n",
    "\n",
    "# split the data. here using a basic sampling method.\n",
    "# the returned object is a wrapper class that contains\n",
    "# the train and test splits for X and y\n",
    "\n",
    "# also the the encoded versions of X_train and X_test that the rf will use\n",
    "# this is because we prefer onehot encoded over allowing categorical vars to be represented as integer\n",
    "# scikit would treat these as ordinal, which is inappropriate\n",
    "\n",
    "# also some meta-data: priors for y, the indexes from the input data\n",
    "\n",
    "# also some convenience functions for leave-one-out testing\n",
    "\n",
    "# train test split - one off hard-coded random state.\n",
    "# random state can be ommitted \n",
    "# and will default to the state held in the dataset container\n",
    "# which defaults to 123 if ommitted in the constructor\n",
    "train_index, test_index = mydata.get_tt_split_idx(random_state=random_state_splits)\n",
    "# optionally, indexes can be ommitted and will default to scikit's train_test_split method\n",
    "tt = mydata.tt_split(train_index, test_index)\n",
    "\n",
    "# CHOOSE ONE\n",
    "# model = 'RandomForest'\n",
    "# model = 'AdaBoost1' # SAMME\n",
    "# model = 'AdaBoost2' # SAMME.R\n",
    "model = 'GBM'\n",
    "\n",
    "# decide if to run the whole tuning routine again (long for Adaboost)\n",
    "# RF routine has a default tuning grid, so can leave as None, or come up with some other options\n",
    "tuning = {'grid' : None, 'override' : override_tuning}\n",
    "if model == 'RandomForest':\n",
    "    which_trees = 'majority'\n",
    "    tuning.update({'grid' : {'n_estimators': [(i + 1) * 200 for i in range(8)],\n",
    "                            'max_depth' : [32]}})\n",
    "\n",
    "elif model in ('AdaBoost1', 'AdaBoost2'):\n",
    "    if model == 'AdaBoost1':\n",
    "        # classic (and multi-class) AdaBoost\n",
    "        algo = 'SAMME'\n",
    "        which_trees = 'majority'\n",
    "    else:\n",
    "        algo = 'SAMME.R'\n",
    "        which_trees = 'conf_weighted'\n",
    "    max_depth = [i for i in range(1, 5)]\n",
    "    tuning.update({'grid' : {'base_estimator' : [rt.DecisionTreeClassifier(max_depth=d) for d in max_depth],\n",
    "                            'n_estimators': [(i + 1) * 200 for i in range(8)], 'algorithm': [algo]}})\n",
    "    \n",
    "else: # GBM - not fully implemented yet\n",
    "    tuning.update({'grid' : {'subsample' : [0.5],\n",
    "                        'n_estimators': [i * 200 for i in range(1, 9)],\n",
    "                        'max_depth' : [i for i in range(1, 5)],\n",
    "                        'learning_rate': np.full(4, 10.0)**[i for i in range(-3, 1)]}})\n",
    "\n",
    "rf = rt.forest_prep(ds_container=tt,\n",
    "                    meta_data=meta_data,\n",
    "                    override_tuning=override_tuning,\n",
    "                    model=model,\n",
    "                    tuning_grid=tuning['grid'],\n",
    "                    save_path=save_path,\n",
    "                    plot_cm=True, plot_cm_norm=True)"
   ]
  },
  {
   "cell_type": "code",
   "execution_count": 4,
   "metadata": {},
   "outputs": [
    {
     "name": "stdout",
     "output_type": "stream",
     "text": [
      "-0.8248495223467764\n",
      "[3]\n"
     ]
    },
    {
     "data": {
      "text/plain": [
       "<3x61 sparse matrix of type '<class 'numpy.float64'>'\n",
       "\twith 60 stored elements in Compressed Sparse Row format>"
      ]
     },
     "execution_count": 4,
     "metadata": {},
     "output_type": "execute_result"
    }
   ],
   "source": [
    "# at the tree level\n",
    "print(rf.estimators_[0][0].predict(tt.X_test_enc[0])[0])\n",
    "print(rf.estimators_[0][0].apply(tt.X_test_enc[0])) # the leaf position\n",
    "# the value in the leaf is the prediction\n",
    "rf.estimators_[0][0].tree_.value[4][0][0]\n",
    "tt.X_test_enc[0:3]\n",
    "\n"
   ]
  },
  {
   "cell_type": "code",
   "execution_count": 5,
   "metadata": {
    "scrolled": false
   },
   "outputs": [],
   "source": [
    "# # step 0: choose an instance\n",
    "# instance = tt.X_test_enc[0:5]\n",
    "\n",
    "# # step 1: what is the initial guess f_0(x)\n",
    "# # prior probas\n",
    "# priors = mydata.data[meta_data['class_col']].value_counts(normalize=True)\n",
    "# print('prior probas')\n",
    "# print(priors)\n",
    "# print()\n",
    "\n",
    "# # all instances get the same init guess\n",
    "# # predict the priors\n",
    "# if type(rf.init_) == sklearn.dummy.DummyClassifier:\n",
    "#     prior = rf.init_.predict_proba(instance)[0]\n",
    "#     prior_odds = prior / (1 - prior)\n",
    "#     prior_lodds = np.log(prior_odds)\n",
    "# else:\n",
    "#     # this is some windows bullshit. should be a dummy classifier with prior\n",
    "#     # but instead it's a LogOddsClassifier\n",
    "#     prior_lodds = rf.init_.predict(instance)[0][0]\n",
    "#     prior_lodds = [-prior_lodds, prior_lodds] # lodds of class 1, needs to be symmetric for class 0\n",
    "#     prior_odds = np.exp(prior_lodds)\n",
    "#     prior = prior_odds / (1 + prior_odds)\n",
    "\n",
    "# print('prior lodds, odds, probas(check)')\n",
    "# print(prior_lodds)\n",
    "# print(prior_odds)\n",
    "# print(prior)\n",
    "# print()\n",
    "\n",
    "# # step 2: predicted results\n",
    "# print('predicted lodds, odds, probas(check)')\n",
    "# pred_proba = rf.predict_proba(instance)\n",
    "# pred_odds = pred_proba / (1 - pred_proba)\n",
    "# pred_lodds = np.log(pred_odds)\n",
    "# print(pred_lodds)\n",
    "# print(pred_odds)\n",
    "# print(pred_proba)\n",
    "# print()\n",
    "\n",
    "# # step 3: which direction compared to initial guess? and how big of a step was it?\n",
    "# print('diff predicted - prior')\n",
    "# print('if pred lodds 0/1 is bigger(+ve)/smaller(-ve) then p(y = 0 | x) has increased')\n",
    "# print('if pred lodds 0/1 is smaller(-ve)/bigger(+ve) then p(y = 1 | x) has increased')\n",
    "# diff_lodds = pred_lodds - prior_lodds\n",
    "# # diff_odds = np.exp(diff_lodds)\n",
    "# # diff_proba = diff_odds / (1 + diff_odds)\n",
    "# print(diff_lodds)\n",
    "# # print('diff odds')\n",
    "# # print(diff_odds)\n",
    "# # print('diff proba')\n",
    "# # print(diff_proba)\n",
    "# # print(prior*diff_proba)\n",
    "# print()\n",
    "\n",
    "# # step 4: get the individual tree increments\n",
    "# # a. staged decision function is the incremental change as the estimators are added, take the difference (include init)\n",
    "# staged_lodds = [np.diff(np.append(prior_lodds[0], [np.log(sp[0][0]/sp[0][1]) for sp in rf.staged_predict_proba(i)])) \\\n",
    "#                 for i in instance]\n",
    "# # b. get the predicted value from each individual estimator\n",
    "# # step_lodds = [-(rf.estimators_[i][0].predict(instance) * 0.1)[0] for i in range(rf.estimators_.shape[0])]\n",
    "# # delta_lodds = np.array([[stage, step] for stage, step in zip(staged_lodds, step_lodds)]).sum(axis=0) # these are the same (signed)\n",
    "\n",
    "# # print('calculated delta lodds')\n",
    "# # print(delta_lodds)\n",
    "# # print('calculated final lodds, odds, probas(check)')\n",
    "# # print([prior_lodds[0] + delta_lodds[0], prior_lodds[1] - delta_lodds[0]])\n",
    "\n",
    "# # step 6: filter by sign\n",
    "# print('indexer for the trees we want')\n",
    "# tree_agree_maj_vote = [np.sign(staged_lodds[i]) == np.sign(diff_lodds[i][0]) for i in range(len(staged_lodds))]\n",
    "# print(tree_agree_maj_vote[0])\n",
    "\n",
    "# # the move from prior to final is important here.\n",
    "# # final_lodds = prior_lodds + delta_lodds[1]  # this is where we end up with staged\n",
    "# # print(final_lodds)\n",
    "# # print(np.exp(final_lodds) / (1 + np.exp(final_lodds)))\n",
    "# # print(rf.predict_proba(instance))"
   ]
  },
  {
   "cell_type": "markdown",
   "metadata": {},
   "source": [
    "# Preparing unseen data\n",
    "\n",
    "Again note:\n",
    "test set has never been \"seen\" by random forest during training\n",
    "test set has been only used to assess model (random forest) accuracy - no additional tuning after this\n",
    "test set has not be involved in generating the explainer"
   ]
  },
  {
   "cell_type": "markdown",
   "metadata": {},
   "source": [
    "## optional: memory and computation cost management\n",
    "#### CHIRPS is time economical but memory intensive to compute for lots of instances at once\n",
    "option 1: choose a smaller number of instances to explain"
   ]
  },
  {
   "cell_type": "code",
   "execution_count": 6,
   "metadata": {},
   "outputs": [],
   "source": [
    "# control for async processes - each tree walk can be done in its own core\n",
    "# and so can each explanation (e.g. rule conditions merge by hill-climbing)\n",
    "# these will default to false if not passed explicitly to the explainer function\n",
    "# on a multi-core machine there should be a good speed up for large batches\n",
    "# when the batch_size advantage exceeds the overhead of setting up multi-processing\n",
    "# timings will be printed to screen so you can see if it helps\n",
    "forest_walk_async=True\n",
    "chirps_explanation_async=True\n",
    "\n",
    "# how many instances to explain in total from a test/unseen set\n",
    "# doesn't matter if you don't know how large the dataset is\n",
    "# this function prevents you maxing out, or put n_instances = None for whole dataset\n",
    "n_instances = rt.n_instance_ceiling(ds_container=tt, n_instances=10)\n",
    "\n",
    "# this gets the next batch out of the data_split_container according to the required number of instances\n",
    "# all formats can be extracted, depending on the requirement\n",
    "# unencoded, encoded (sparse matrix is the type returned by scikit), ordinary dense matrix also available\n",
    "tt.current_row_test = 0\n",
    "instances, _, instances_enc, instances_enc_matrix, labels = tt.get_next(n_instances, which_split='test') # default"
   ]
  },
  {
   "cell_type": "markdown",
   "metadata": {},
   "source": [
    "option 2: just run the whole test set"
   ]
  },
  {
   "cell_type": "code",
   "execution_count": 7,
   "metadata": {},
   "outputs": [],
   "source": [
    "# instances = tt.X_test; instances_enc = tt.X_test_enc; instances_enc_matrix = tt.X_test_enc_matrix; labels = tt.y_test"
   ]
  },
  {
   "cell_type": "markdown",
   "metadata": {},
   "source": [
    "## Make predictions from the decision forest on the unseen data\n",
    "Important point, no compromise on model accuracy"
   ]
  },
  {
   "cell_type": "code",
   "execution_count": 8,
   "metadata": {},
   "outputs": [],
   "source": [
    "# get all the model predictions for the test instance(s) we're looking at\n",
    "preds_idx = labels.index\n",
    "preds = rf.predict(X=instances_enc)"
   ]
  },
  {
   "cell_type": "markdown",
   "metadata": {},
   "source": [
    "# CHIRPS Step 1:\n",
    "## Extract Tree Prediction Paths\n",
    "### Fit a forest_walker object to the dataset and decision forest\n",
    "This is a wrapper will extracts the paths of all the given instances. For CHIRPS, we want a large sample. The whole training set or other representative sample will do.\n",
    "\n",
    "It can also report interesting statistics (treating the forest as a set of random tree-structured variables)."
   ]
  },
  {
   "cell_type": "code",
   "execution_count": 9,
   "metadata": {},
   "outputs": [],
   "source": [
    "# wrapper object needs the decision forest itself and the dataset meta data (we have a convenience function for this)\n",
    "f_walker = strcts.regression_trees_walker(forest = rf, meta_data=meta_data)"
   ]
  },
  {
   "cell_type": "markdown",
   "metadata": {},
   "source": [
    "Now the work of extracting all the paths for each instance is done"
   ]
  },
  {
   "cell_type": "code",
   "execution_count": 10,
   "metadata": {
    "scrolled": false
   },
   "outputs": [
    {
     "name": "stdout",
     "output_type": "stream",
     "text": [
      "Walking forest for 10 instances... (please wait)\n",
      "in DummyEstimator\n",
      "Forest Walk with async = True\n",
      "Forest Walk time elapsed: 1.0182 seconds\n"
     ]
    }
   ],
   "source": [
    "print('Walking forest for ' + str(len(labels)) + ' instances... (please wait)')\n",
    "\n",
    "# set the timer\n",
    "forest_walk_start_time = timeit.default_timer()\n",
    "\n",
    "# do the walk - creates a paths_container (even for just one instance) as a new property\n",
    "# requires the X instances in a matrix (dense, ordinary numpy matrix) - this is available in the data_split_container\n",
    "f_walker.forest_walk(instances = instances_enc_matrix\n",
    "                    , labels = preds # we're explaining the prediction, not the true label!\n",
    "                    , forest_walk_async = forest_walk_async)\n",
    "\n",
    "# stop the timer\n",
    "forest_walk_end_time = timeit.default_timer()\n",
    "forest_walk_elapsed_time = forest_walk_end_time - forest_walk_start_time\n",
    "\n",
    "print('Forest Walk with async = ' + str(forest_walk_async))\n",
    "print('Forest Walk time elapsed:', \"{:0.4f}\".format(forest_walk_elapsed_time), 'seconds')"
   ]
  },
  {
   "cell_type": "code",
   "execution_count": 11,
   "metadata": {
    "scrolled": false
   },
   "outputs": [
    {
     "data": {
      "text/plain": [
       "{'estimator_weight': -0.8248495223467764,\n",
       " 'pred_class': nan,\n",
       " 'pred_class_label': '',\n",
       " 'pred_proba': nan,\n",
       " 'forest_pred_class': 0,\n",
       " 'agree_maj_vote': True,\n",
       " 'path': {'feature_idx': [3, 54],\n",
       "  'feature_name': ['chk_A14', 'dur'],\n",
       "  'feature_value': [0.0, 24.0],\n",
       "  'threshold': [0.5, 11.5],\n",
       "  'leq_threshold': [True, False]}}"
      ]
     },
     "execution_count": 11,
     "metadata": {},
     "output_type": "execute_result"
    }
   ],
   "source": [
    "f_walker.path_detail[2][0]"
   ]
  },
  {
   "cell_type": "code",
   "execution_count": 12,
   "metadata": {},
   "outputs": [
    {
     "ename": "NameError",
     "evalue": "name 'stop' is not defined",
     "output_type": "error",
     "traceback": [
      "\u001b[0;31m---------------------------------------------------------------------------\u001b[0m",
      "\u001b[0;31mNameError\u001b[0m                                 Traceback (most recent call last)",
      "\u001b[0;32m<ipython-input-12-4f76a9dad686>\u001b[0m in \u001b[0;36m<module>\u001b[0;34m\u001b[0m\n\u001b[0;32m----> 1\u001b[0;31m \u001b[0mstop\u001b[0m\u001b[0;34m\u001b[0m\u001b[0;34m\u001b[0m\u001b[0m\n\u001b[0m",
      "\u001b[0;31mNameError\u001b[0m: name 'stop' is not defined"
     ]
    }
   ],
   "source": [
    "stop"
   ]
  },
  {
   "cell_type": "code",
   "execution_count": null,
   "metadata": {},
   "outputs": [],
   "source": [
    "type(rf)"
   ]
  },
  {
   "cell_type": "markdown",
   "metadata": {},
   "source": [
    "# CHIRPS Steps 2-4: \n",
    "## Freqent pattern mining of paths.\n",
    "## Score and sort mined path segments.\n",
    "## Merge path segments into one rule.\n",
    "\n",
    "This is a wrapper object that will execute steps 2-4 on all the instance-paths in the batch_paths_container.\n",
    "\n",
    "Note that true_divide warnings are OK. It just means that a continuous variable is unbounded in some way i.e. no greater/less than discontinuity is used in the CHIRPS explanation.\n",
    "\n",
    "Note also, here we are using the training set to create the explainers. We could use a different dataset as long as it is representative of the training set that built the decision forest. Most important that we don't use the dataset that we wish to explain."
   ]
  },
  {
   "cell_type": "code",
   "execution_count": null,
   "metadata": {
    "scrolled": false
   },
   "outputs": [],
   "source": [
    "chirps_explanation_async=False\n",
    "# get what the model predicts on the training sample\n",
    "sample_labels = rf.predict(tt.X_train_enc)\n",
    "\n",
    "# build CHIRPS and a rule for each instance represented in the path detail\n",
    "CHIRPS = strcts.CHIRPS_container(f_walker.path_detail,\n",
    "                                forest=rf,\n",
    "                                sample_instances=tt.X_train_enc, # any representative sample can be used\n",
    "                                # sample_labels=tt.y_train,  # any representative sample can be used\n",
    "                                sample_labels=sample_labels,\n",
    "                                meta_data=meta_data)\n",
    "\n",
    "print('Running CHIRPS on a batch of ' + str(len(labels)) + ' instances... (please wait)')\n",
    "# start a timer\n",
    "ce_start_time = timeit.default_timer()\n",
    "\n",
    "CHIRPS.batch_run_CHIRPS(target_classes=preds, # we're explaining the prediction, not the true label!\n",
    "                        chirps_explanation_async=chirps_explanation_async,\n",
    "                        random_state=random_state,\n",
    "                        which_trees=which_trees,\n",
    "                        alpha_paths=0.0,\n",
    "                        support_paths=0.1,\n",
    "                        score_func=1,\n",
    "                        precis_threshold=0.99,\n",
    "                        disc_path_bins=4,\n",
    "                        merging_bootstraps=20,\n",
    "                        pruning_bootstraps=20,\n",
    "                        delta=0.09,\n",
    "                        weighting='kldiv')\n",
    "\n",
    "ce_end_time = timeit.default_timer()\n",
    "ce_elapsed_time = ce_end_time - ce_start_time\n",
    "print('CHIRPS time elapsed:', \"{:0.4f}\".format(ce_elapsed_time), 'seconds')\n",
    "print('CHIRPS with async = ' + str(chirps_explanation_async))"
   ]
  },
  {
   "cell_type": "markdown",
   "metadata": {},
   "source": [
    "# Viewing and Evaluating CHIRPS explanations\n",
    "Evaluation is done using unseen data to see how well the explanations generalise. The data_split_container object (tt) has a  leave-one-out function that is used during the routine to ensure that the datum we are explaining is excluded from the evaluation."
   ]
  },
  {
   "cell_type": "code",
   "execution_count": null,
   "metadata": {
    "scrolled": false
   },
   "outputs": [],
   "source": [
    "# iterate over all the test instances to determine the various scores using leave-one-out testing\n",
    "print('evaluating found explanations')\n",
    "print()\n",
    "results_start_time = timeit.default_timer()\n",
    "\n",
    "save_results_file = model + '_CHIRPS_rnst_' + str(random_state)\n",
    "\n",
    "rt.evaluate_CHIRPS_explainers(CHIRPS, tt, labels.index, # for full batch runs: tt.y_test.index,\n",
    "                              forest=rf,\n",
    "                              meta_data=meta_data,\n",
    "                              model=model,\n",
    "                              eval_start_time=results_start_time,\n",
    "                              print_to_screen=True, # set True when running single instances\n",
    "                              eval_alt_labelings=True,\n",
    "                              eval_rule_complements=True,\n",
    "                              save_results_path=save_path,\n",
    "                              dataset_name='test',\n",
    "                              save_results_file=save_results_file,\n",
    "                              save_CHIRPS=False)\n",
    "\n",
    "results_end_time = timeit.default_timer()\n",
    "results_elapsed_time = results_end_time - results_start_time\n",
    "print('CHIRPS batch results eval time elapsed:', \"{:0.4f}\".format(results_elapsed_time), 'seconds')\n",
    "# this completes the CHIRPS runs"
   ]
  },
  {
   "cell_type": "code",
   "execution_count": null,
   "metadata": {},
   "outputs": [],
   "source": []
  }
 ],
 "metadata": {
  "kernelspec": {
   "display_name": "Python 3",
   "language": "python",
   "name": "python3"
  },
  "language_info": {
   "codemirror_mode": {
    "name": "ipython",
    "version": 3
   },
   "file_extension": ".py",
   "mimetype": "text/x-python",
   "name": "python",
   "nbconvert_exporter": "python",
   "pygments_lexer": "ipython3",
   "version": "3.7.4"
  }
 },
 "nbformat": 4,
 "nbformat_minor": 2
}
