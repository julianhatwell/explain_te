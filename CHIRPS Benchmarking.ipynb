{
 "cells": [
  {
   "cell_type": "markdown",
   "metadata": {},
   "source": [
    "# prologue"
   ]
  },
  {
   "cell_type": "markdown",
   "metadata": {},
   "source": [
    "### set up notebook and load package"
   ]
  },
  {
   "cell_type": "code",
   "execution_count": 1,
   "metadata": {},
   "outputs": [],
   "source": [
    "# for notebook plotting\n",
    "%matplotlib inline \n",
    "\n",
    "# load what we need\n",
    "import time\n",
    "import timeit\n",
    "import CHIRPS.structures as strcts\n",
    "import CHIRPS.datasets as ds\n",
    "import CHIRPS.routines as rt\n",
    "import CHIRPS.reproducible as rp\n",
    "\n",
    "# demo datasets that ship with package. all from UCI unless stated otherwise\n",
    "# ds.adult_data, ds.adult_samp_data, ds.adult_small_samp_data Large dataset ships with manageable sub samples\n",
    "# ds.bankmark_data, ds.bankmark_samp_data\n",
    "# ds.car_data\n",
    "# ds.cardio_data this is the cardiotocography dataset\n",
    "# ds.credit_data\n",
    "# ds.german_data\n",
    "# ds.lending_data, ds.lending_samp_data, ds.lending_small_samp_data, ds.lending_tiny_samp_data from Kaggle. see datasets_from_source file for links\n",
    "# ds.nursery_data, ds.nursery_samp_data\n",
    "# ds.rcdv_data, ds.rcdv_samp_data from US government see datasets_from_source file for links"
   ]
  },
  {
   "cell_type": "markdown",
   "metadata": {},
   "source": [
    "### common config - can be ommitted if defaults are OK"
   ]
  },
  {
   "cell_type": "code",
   "execution_count": 2,
   "metadata": {},
   "outputs": [],
   "source": [
    "project_dir = 'V:\\\\whiteboxing' # defaults to a directory \"whiteboxing\" in the working directory\n",
    "random_state_splits = 123 # one off for splitting the data into test / train"
   ]
  },
  {
   "cell_type": "markdown",
   "metadata": {},
   "source": [
    "# data management"
   ]
  },
  {
   "cell_type": "markdown",
   "metadata": {},
   "source": [
    "### datasets"
   ]
  },
  {
   "cell_type": "markdown",
   "metadata": {},
   "source": [
    "Several datasets are available as pre-prepared containers that hold the data and some meta-data that is used in the algorithm\n",
    "Any dataset can be turned into a container by invoking the constructor found in the file structures.py"
   ]
  },
  {
   "cell_type": "code",
   "execution_count": 3,
   "metadata": {},
   "outputs": [
    {
     "data": {
      "text/plain": [
       "[<function CHIRPS.datasets.adult_small_samp_data>,\n",
       " <function CHIRPS.datasets.bankmark_samp_data>,\n",
       " <function CHIRPS.datasets.car_data>,\n",
       " <function CHIRPS.datasets.cardio_data>,\n",
       " <function CHIRPS.datasets.credit_data>,\n",
       " <function CHIRPS.datasets.german_data>,\n",
       " <function CHIRPS.datasets.lending_tiny_samp_data>,\n",
       " <function CHIRPS.datasets.nursery_samp_data>,\n",
       " <function CHIRPS.datasets.rcdv_samp_data>]"
      ]
     },
     "execution_count": 3,
     "metadata": {},
     "output_type": "execute_result"
    }
   ],
   "source": [
    "# datasets might be down-sampled to make them easier to work with\n",
    "# the full sets are available too\n",
    "# this is a list of constructors that will be used in the benchmarking\n",
    "rp.datasets"
   ]
  },
  {
   "cell_type": "code",
   "execution_count": 4,
   "metadata": {},
   "outputs": [
    {
     "data": {
      "text/plain": [
       "<CHIRPS.structures.data_container at 0x223106bc518>"
      ]
     },
     "execution_count": 4,
     "metadata": {},
     "output_type": "execute_result"
    }
   ],
   "source": [
    "# example of one dataset\n",
    "# note: random_state propagates through other functions and is easily updated to allow alternative runs\n",
    "ds.cardio_data(random_state=123, project_dir=project_dir)"
   ]
  },
  {
   "cell_type": "markdown",
   "metadata": {},
   "source": [
    "### standardising train-test splitting\n",
    "Some methods are not available in Python. We want to maintain the same dataset splits no matter which platform. So, the train test data is split with the one-time random seed and the splits are saved to csv in the project folders."
   ]
  },
  {
   "cell_type": "code",
   "execution_count": 5,
   "metadata": {},
   "outputs": [
    {
     "name": "stdout",
     "output_type": "stream",
     "text": [
      "Exported train-test data for 9 datasets.\n"
     ]
    }
   ],
   "source": [
    "# writes external files\n",
    "rp.export_data_splits(datasets=rp.datasets, project_dir=project_dir, random_state_splits=random_state_splits)"
   ]
  },
  {
   "cell_type": "markdown",
   "metadata": {},
   "source": [
    "# Experimental Runs\n",
    "Loop through datasets, actioning the functions in the package to execute a round of experiments and test evaluations."
   ]
  },
  {
   "cell_type": "markdown",
   "metadata": {},
   "source": [
    "## 0. Optional Memory and Computation Cost Management\n",
    "CHIRPS is time economical but memory intensive to compute for lots of instances at once.\n"
   ]
  },
  {
   "cell_type": "markdown",
   "metadata": {},
   "source": [
    "### Parallel processing\n",
    "Scikit takes care of parallel for the RF construction.\n",
    "We can parallelise:\n",
    "1. the walk of instances down each tree to collect the paths.\n",
    "2. building CHIRPS and the final explanation (rule)."
   ]
  },
  {
   "cell_type": "code",
   "execution_count": 6,
   "metadata": {},
   "outputs": [],
   "source": [
    "# control for async processes - each tree walk can be done in its own core\n",
    "# and so can each explanation (e.g. rule conditions merge by hill-climbing)\n",
    "# these will default to false if not passed explicitly to the explainer function\n",
    "# on a multi-core machine there should be a good speed up for large batches\n",
    "# when the batch_size advantage exceeds the overhead of setting up multi-processing\n",
    "# timings will be printed to screen so you can see if it helps\n",
    "forest_walk_async=False\n",
    "chirps_explanation_async=False"
   ]
  },
  {
   "cell_type": "markdown",
   "metadata": {},
   "source": [
    "### Preparing unseen data\n",
    "\n",
    "Again note:\n",
    "test set has never been \"seen\" by random forest during training\n",
    "test set has been only used to assess model (random forest) accuracy - no additional tuning after this\n",
    "test set has not be involved in generating the explainer"
   ]
  },
  {
   "cell_type": "markdown",
   "metadata": {},
   "source": [
    "#### Batching\n",
    "The memory space requirements for all the paths can be reduced by dividing the test set into batches. However this does take longer as there is an overhead to instantiate all the required objects, especially if coupled with parallel processing.\n",
    "Best compromise could be a small number of larger batches."
   ]
  },
  {
   "cell_type": "code",
   "execution_count": 7,
   "metadata": {},
   "outputs": [],
   "source": [
    "# the number of instances can be controlled by\n",
    "# batch_size - how many instances to explain at one time\n",
    "# set these larger than the size of the test set and it will simply run the whole test set in one batch. Better do option 2\n",
    "batch_size = 2\n",
    "# how many instances to explain in total from a test/unseen set\n",
    "n_instances = 10000"
   ]
  },
  {
   "cell_type": "markdown",
   "metadata": {},
   "source": [
    "### 1. Data and Forest prep\n",
    "Use the random state splits to do a one-off data split.\n",
    "Fit the RF to training data, using the iterating random state.\n",
    "Save the performance metrics on the test set for later review.\n",
    "\n",
    "### 2. Prepare Unseen Data and Predictions\n",
    "Important to note:\n",
    "Test set never \"seen\" by RF during training.\n",
    "test set not involved in generating the explainer.\n",
    "Test set used to evaluate model (random forest) accuracy beyond OOBE scores - no additional tuning based on these results.\n",
    "Test set used to evaluate explanation scores by leave-one-out method removing the specific instance we're explaining.\n",
    "\n",
    "Important to note:\n",
    "We will explain predictions directly from the trained RF. Explanation system makes no compromise on model accuracy.\n",
    "\n",
    "### 3. CHIRPS algorithm\n",
    "1. Extract Tree Prediction Paths\n",
    "2. Freqent pattern mining of paths\n",
    "3. Score and sort mined path segments\n",
    "4. Merge path segments into one rule\n",
    "\n",
    "#### CHIRPS 1\n",
    "Fit a forest_walker object to the dataset and decision forest. This is a wrapper that will extract the paths of all the given instances. Its main method delivers the instance paths for the remaining steps of the algorithm as a new object: a batch_paths_container. It can also report interesting statistics (treating the forest as a set of random tree-structured variables).\n",
    "\n",
    "#### CHIRPS 2-4\n",
    "A batch_CHIRPS_container is fitted with the batch_paths_container returned by the forest walker, and with a sample of data. For CHIRPS, we prefer a large sample. The whole training set or other representative sample will do. This is a wrapper object will execute steps 2-4 on all each the instance-paths in the batch_paths_container.\n",
    "\n",
    "Important to note:\n",
    "true_divide warnings are OK! It just means that a continuous variable is unbounded on one side i.e. no greater/less than inequality is used in the specific CHIRPS explanation.\n",
    "\n",
    "Important note: \n",
    "Here we are using the training set to create the explainers. We could use a different dataset as long as it is representative of the training set that built the decision forest. Most important that we don't use the dataset that we wish to explain, so never use the test set, for example.\n",
    "\n",
    "### 4. Evaluating CHIRPS Explanations\n",
    "Test set has been used to create an explainer *one instance at a time* and the rest of test set was not \"seen\" during this construction. To score each explainer, we use test set, leaving out the individual instance being explained. The data_split_container (tt) has a convenience funtion for doing this. All the results are saved to csv files in the project directory."
   ]
  },
  {
   "cell_type": "code",
   "execution_count": 8,
   "metadata": {
    "scrolled": false
   },
   "outputs": [
    {
     "name": "stdout",
     "output_type": "stream",
     "text": [
      "Running experiment for adult_small_samp_data with random state = 123\n",
      "\n",
      "Split data into train-test and build RF\n",
      "using previous tuning parameters\n",
      "\n",
      "Prepare Unseen Data and Predictions\n",
      "\n",
      "Walking forest for 2 instances... (please wait)\n",
      "Forest Walk with async = False\n",
      "Forest Walk time elapsed: 0.2376 seconds\n",
      "\n",
      "Running CHIRPS on a batch of 2 instances... (please wait)\n"
     ]
    },
    {
     "name": "stderr",
     "output_type": "stream",
     "text": [
      "C:\\Users\\id126493\\Documents\\GitHub\\explain_te\\CHIRPS\\structures.py:387: RuntimeWarning: invalid value encountered in true_divide\n",
      "  np.histogram(uppers, upper_bins)[0]).round(5)\n",
      "C:\\Users\\id126493\\Documents\\GitHub\\explain_te\\CHIRPS\\structures.py:391: RuntimeWarning: invalid value encountered in true_divide\n",
      "  np.histogram(lowers, lower_bins)[0]).round(5)\n"
     ]
    },
    {
     "name": "stdout",
     "output_type": "stream",
     "text": [
      "CHIRPS time elapsed: 0.2994 seconds\n",
      "CHIRPS with async = False\n",
      "\n",
      "Evaluating found explanations\n",
      "CHIRPS batch results eval time elapsed: 0.0285 seconds\n",
      "\n",
      "\n",
      "Running experiment for bankmark_samp_data with random state = 123\n",
      "\n",
      "Split data into train-test and build RF\n",
      "using previous tuning parameters\n",
      "\n",
      "Prepare Unseen Data and Predictions\n",
      "\n",
      "Walking forest for 2 instances... (please wait)\n",
      "Forest Walk with async = False\n",
      "Forest Walk time elapsed: 0.4516 seconds\n",
      "\n",
      "Running CHIRPS on a batch of 2 instances... (please wait)\n"
     ]
    },
    {
     "name": "stderr",
     "output_type": "stream",
     "text": [
      "C:\\Users\\id126493\\Documents\\GitHub\\explain_te\\CHIRPS\\structures.py:391: RuntimeWarning: invalid value encountered in true_divide\n",
      "  np.histogram(lowers, lower_bins)[0]).round(5)\n",
      "C:\\Users\\id126493\\Documents\\GitHub\\explain_te\\CHIRPS\\structures.py:387: RuntimeWarning: invalid value encountered in true_divide\n",
      "  np.histogram(uppers, upper_bins)[0]).round(5)\n"
     ]
    },
    {
     "name": "stdout",
     "output_type": "stream",
     "text": [
      "CHIRPS time elapsed: 0.3870 seconds\n",
      "CHIRPS with async = False\n",
      "\n",
      "Evaluating found explanations\n",
      "CHIRPS batch results eval time elapsed: 0.0449 seconds\n",
      "\n",
      "\n",
      "Running experiment for car_data with random state = 123\n",
      "\n",
      "Split data into train-test and build RF\n",
      "using previous tuning parameters\n",
      "\n",
      "Prepare Unseen Data and Predictions\n",
      "\n",
      "Walking forest for 2 instances... (please wait)\n",
      "Forest Walk with async = False\n",
      "Forest Walk time elapsed: 0.2023 seconds\n",
      "\n",
      "Running CHIRPS on a batch of 2 instances... (please wait)\n",
      "CHIRPS time elapsed: 0.5559 seconds\n",
      "CHIRPS with async = False\n",
      "\n",
      "Evaluating found explanations\n",
      "CHIRPS batch results eval time elapsed: 0.0209 seconds\n",
      "\n",
      "\n",
      "Running experiment for cardio_data with random state = 123\n",
      "\n",
      "Split data into train-test and build RF\n",
      "using previous tuning parameters\n",
      "\n",
      "Prepare Unseen Data and Predictions\n",
      "\n",
      "Walking forest for 2 instances... (please wait)\n",
      "Forest Walk with async = False\n",
      "Forest Walk time elapsed: 0.4336 seconds\n",
      "\n",
      "Running CHIRPS on a batch of 2 instances... (please wait)\n"
     ]
    },
    {
     "name": "stderr",
     "output_type": "stream",
     "text": [
      "C:\\Users\\id126493\\Documents\\GitHub\\explain_te\\CHIRPS\\structures.py:391: RuntimeWarning: invalid value encountered in true_divide\n",
      "  np.histogram(lowers, lower_bins)[0]).round(5)\n",
      "C:\\Users\\id126493\\Documents\\GitHub\\explain_te\\CHIRPS\\structures.py:387: RuntimeWarning: invalid value encountered in true_divide\n",
      "  np.histogram(uppers, upper_bins)[0]).round(5)\n"
     ]
    },
    {
     "name": "stdout",
     "output_type": "stream",
     "text": [
      "CHIRPS time elapsed: 0.6183 seconds\n",
      "CHIRPS with async = False\n",
      "\n",
      "Evaluating found explanations\n",
      "CHIRPS batch results eval time elapsed: 0.0394 seconds\n",
      "\n",
      "\n",
      "Running experiment for credit_data with random state = 123\n",
      "\n",
      "Split data into train-test and build RF\n",
      "using previous tuning parameters\n",
      "\n",
      "Prepare Unseen Data and Predictions\n",
      "\n",
      "Walking forest for 2 instances... (please wait)\n",
      "Forest Walk with async = False\n",
      "Forest Walk time elapsed: 0.3860 seconds\n",
      "\n",
      "Running CHIRPS on a batch of 2 instances... (please wait)\n"
     ]
    },
    {
     "name": "stderr",
     "output_type": "stream",
     "text": [
      "C:\\Users\\id126493\\Documents\\GitHub\\explain_te\\CHIRPS\\structures.py:391: RuntimeWarning: invalid value encountered in true_divide\n",
      "  np.histogram(lowers, lower_bins)[0]).round(5)\n",
      "C:\\Users\\id126493\\Documents\\GitHub\\explain_te\\CHIRPS\\structures.py:387: RuntimeWarning: invalid value encountered in true_divide\n",
      "  np.histogram(uppers, upper_bins)[0]).round(5)\n"
     ]
    },
    {
     "name": "stdout",
     "output_type": "stream",
     "text": [
      "CHIRPS time elapsed: 0.3197 seconds\n",
      "CHIRPS with async = False\n",
      "\n",
      "Evaluating found explanations\n",
      "CHIRPS batch results eval time elapsed: 0.0348 seconds\n",
      "\n",
      "\n",
      "Running experiment for german_data with random state = 123\n",
      "\n",
      "Split data into train-test and build RF\n",
      "using previous tuning parameters\n",
      "\n",
      "Prepare Unseen Data and Predictions\n",
      "\n",
      "Walking forest for 2 instances... (please wait)\n",
      "Forest Walk with async = False\n",
      "Forest Walk time elapsed: 0.2348 seconds\n",
      "\n",
      "Running CHIRPS on a batch of 2 instances... (please wait)\n"
     ]
    },
    {
     "name": "stderr",
     "output_type": "stream",
     "text": [
      "C:\\Users\\id126493\\Documents\\GitHub\\explain_te\\CHIRPS\\structures.py:387: RuntimeWarning: invalid value encountered in true_divide\n",
      "  np.histogram(uppers, upper_bins)[0]).round(5)\n",
      "C:\\Users\\id126493\\Documents\\GitHub\\explain_te\\CHIRPS\\structures.py:391: RuntimeWarning: invalid value encountered in true_divide\n",
      "  np.histogram(lowers, lower_bins)[0]).round(5)\n"
     ]
    },
    {
     "name": "stdout",
     "output_type": "stream",
     "text": [
      "CHIRPS time elapsed: 0.4505 seconds\n",
      "CHIRPS with async = False\n",
      "\n",
      "Evaluating found explanations\n",
      "CHIRPS batch results eval time elapsed: 0.0280 seconds\n",
      "\n",
      "\n",
      "Running experiment for lending_tiny_samp_data with random state = 123\n",
      "\n",
      "Split data into train-test and build RF\n",
      "using previous tuning parameters\n",
      "\n",
      "Prepare Unseen Data and Predictions\n",
      "\n",
      "Walking forest for 2 instances... (please wait)\n",
      "Forest Walk with async = False\n",
      "Forest Walk time elapsed: 0.7207 seconds\n",
      "\n",
      "Running CHIRPS on a batch of 2 instances... (please wait)\n"
     ]
    },
    {
     "name": "stderr",
     "output_type": "stream",
     "text": [
      "C:\\Users\\id126493\\Documents\\GitHub\\explain_te\\CHIRPS\\structures.py:387: RuntimeWarning: invalid value encountered in true_divide\n",
      "  np.histogram(uppers, upper_bins)[0]).round(5)\n",
      "C:\\Users\\id126493\\Documents\\GitHub\\explain_te\\CHIRPS\\structures.py:391: RuntimeWarning: invalid value encountered in true_divide\n",
      "  np.histogram(lowers, lower_bins)[0]).round(5)\n"
     ]
    },
    {
     "name": "stdout",
     "output_type": "stream",
     "text": [
      "CHIRPS time elapsed: 1.1848 seconds\n",
      "CHIRPS with async = False\n",
      "\n",
      "Evaluating found explanations\n",
      "CHIRPS batch results eval time elapsed: 0.0900 seconds\n",
      "\n",
      "\n",
      "Running experiment for nursery_samp_data with random state = 123\n",
      "\n",
      "Split data into train-test and build RF\n",
      "using previous tuning parameters\n",
      "\n",
      "Prepare Unseen Data and Predictions\n",
      "\n",
      "Walking forest for 2 instances... (please wait)\n",
      "Forest Walk with async = False\n",
      "Forest Walk time elapsed: 0.6802 seconds\n",
      "\n",
      "Running CHIRPS on a batch of 2 instances... (please wait)\n",
      "CHIRPS time elapsed: 0.6613 seconds\n",
      "CHIRPS with async = False\n",
      "\n",
      "Evaluating found explanations\n",
      "CHIRPS batch results eval time elapsed: 0.0907 seconds\n",
      "\n",
      "\n",
      "Running experiment for rcdv_samp_data with random state = 123\n",
      "\n",
      "Split data into train-test and build RF\n",
      "using previous tuning parameters\n",
      "\n",
      "Prepare Unseen Data and Predictions\n",
      "\n",
      "Walking forest for 2 instances... (please wait)\n"
     ]
    },
    {
     "ename": "TypeError",
     "evalue": "'NoneType' object is not callable",
     "output_type": "error",
     "traceback": [
      "\u001b[1;31m---------------------------------------------------------------------------\u001b[0m",
      "\u001b[1;31mTypeError\u001b[0m                                 Traceback (most recent call last)",
      "\u001b[1;32m<ipython-input-8-a3fb87cdb945>\u001b[0m in \u001b[0;36m<module>\u001b[1;34m()\u001b[0m\n\u001b[0;32m     45\u001b[0m         bp_container = f_walker.forest_walk(instances = instances_enc_matrix\n\u001b[0;32m     46\u001b[0m                                 \u001b[1;33m,\u001b[0m \u001b[0mlabels\u001b[0m \u001b[1;33m=\u001b[0m \u001b[0mpreds\u001b[0m \u001b[1;31m# we're explaining the prediction, not the true label!\u001b[0m\u001b[1;33m\u001b[0m\u001b[0m\n\u001b[1;32m---> 47\u001b[1;33m                                 , forest_walk_async = forest_walk_async)\n\u001b[0m\u001b[0;32m     48\u001b[0m \u001b[1;33m\u001b[0m\u001b[0m\n\u001b[0;32m     49\u001b[0m         \u001b[1;31m# stop the timer\u001b[0m\u001b[1;33m\u001b[0m\u001b[1;33m\u001b[0m\u001b[0m\n",
      "\u001b[1;32m~\\Documents\\GitHub\\explain_te\\CHIRPS\\structures.py\u001b[0m in \u001b[0;36mforest_walk\u001b[1;34m(self, instances, labels, forest_walk_async)\u001b[0m\n\u001b[0;32m    769\u001b[0m                 \u001b[0mtree_pred\u001b[0m\u001b[1;33m,\u001b[0m \u001b[0mtree_pred_labels\u001b[0m\u001b[1;33m,\u001b[0m\u001b[0;31m \u001b[0m\u001b[0;31m\\\u001b[0m\u001b[1;33m\u001b[0m\u001b[0m\n\u001b[0;32m    770\u001b[0m                 \u001b[0mtree_pred_proba\u001b[0m\u001b[1;33m,\u001b[0m \u001b[0mtree_agree_maj_vote\u001b[0m\u001b[1;33m,\u001b[0m\u001b[0;31m \u001b[0m\u001b[0;31m\\\u001b[0m\u001b[1;33m\u001b[0m\u001b[0m\n\u001b[1;32m--> 771\u001b[1;33m                 \u001b[0mfeature\u001b[0m\u001b[1;33m,\u001b[0m \u001b[0mthreshold\u001b[0m\u001b[1;33m,\u001b[0m \u001b[0mpath\u001b[0m \u001b[1;33m=\u001b[0m \u001b[0mself\u001b[0m\u001b[1;33m.\u001b[0m\u001b[0mtree_structures\u001b[0m\u001b[1;33m(\u001b[0m\u001b[0mt\u001b[0m\u001b[1;33m,\u001b[0m \u001b[0minstances\u001b[0m\u001b[1;33m,\u001b[0m \u001b[0mlabels\u001b[0m\u001b[1;33m,\u001b[0m \u001b[0mn_instances\u001b[0m\u001b[1;33m)\u001b[0m\u001b[1;33m\u001b[0m\u001b[0m\n\u001b[0m\u001b[0;32m    772\u001b[0m                 \u001b[1;31m# walk the tree\u001b[0m\u001b[1;33m\u001b[0m\u001b[1;33m\u001b[0m\u001b[0m\n\u001b[0;32m    773\u001b[0m                 _, tree_paths[i] = as_tree_walk(i, instances, labels, n_instances,\n",
      "\u001b[1;32m~\\Documents\\GitHub\\explain_te\\CHIRPS\\structures.py\u001b[0m in \u001b[0;36mtree_structures\u001b[1;34m(self, tree, instances, labels, n_instances)\u001b[0m\n\u001b[0;32m    723\u001b[0m \u001b[1;33m\u001b[0m\u001b[0m\n\u001b[0;32m    724\u001b[0m         \u001b[1;32mif\u001b[0m \u001b[0mlabels\u001b[0m \u001b[1;32mis\u001b[0m \u001b[1;32mnot\u001b[0m \u001b[1;32mNone\u001b[0m\u001b[1;33m:\u001b[0m\u001b[1;33m\u001b[0m\u001b[0m\n\u001b[1;32m--> 725\u001b[1;33m             \u001b[0mtree_pred_labels\u001b[0m \u001b[1;33m=\u001b[0m \u001b[0mself\u001b[0m\u001b[1;33m.\u001b[0m\u001b[0mget_label\u001b[0m\u001b[1;33m(\u001b[0m\u001b[0mself\u001b[0m\u001b[1;33m.\u001b[0m\u001b[0mclass_col\u001b[0m\u001b[1;33m,\u001b[0m \u001b[0mtree_pred\u001b[0m\u001b[1;33m.\u001b[0m\u001b[0mastype\u001b[0m\u001b[1;33m(\u001b[0m\u001b[0mint\u001b[0m\u001b[1;33m)\u001b[0m\u001b[1;33m)\u001b[0m\u001b[1;33m\u001b[0m\u001b[0m\n\u001b[0m\u001b[0;32m    726\u001b[0m         \u001b[1;32melse\u001b[0m\u001b[1;33m:\u001b[0m\u001b[1;33m\u001b[0m\u001b[0m\n\u001b[0;32m    727\u001b[0m             \u001b[0mtree_pred_labels\u001b[0m \u001b[1;33m=\u001b[0m \u001b[0mtree_pred\u001b[0m\u001b[1;33m\u001b[0m\u001b[0m\n",
      "\u001b[1;31mTypeError\u001b[0m: 'NoneType' object is not callable"
     ]
    }
   ],
   "source": [
    "for random_state in [123]:\n",
    "    for d_constructor in rp.datasets:\n",
    "        print('Running experiment for ' + d_constructor.__name__ + ' with random state = ' + str(random_state))\n",
    "        print()\n",
    "        # 1. Data and Forest prep\n",
    "        print('Split data into train-test and build RF') \n",
    "        rf, tt, meta_data = rp.data_forest_prep(d_constructor, project_dir=project_dir,\n",
    "                                      override_tuning=False,\n",
    "                                      random_state=random_state,\n",
    "                                      random_state_splits=random_state_splits)\n",
    "        \n",
    "        save_path = meta_data['get_save_path']()\n",
    "        print()\n",
    "\n",
    "        # 2. Prepare Unseen Data and Predictions\n",
    "        print('Prepare Unseen Data and Predictions')\n",
    "        # OPTION 1 - batching (to be implemented in the new code, right now it will do just one batch)\n",
    "        # this will normalise the above parameters to the size of the dataset\n",
    "        n_instances, n_batches = rt.batch_instance_ceiling(data_split=tt, n_instances=n_instances, batch_size=batch_size)\n",
    "\n",
    "        # this gets the next batch out of the data_split_container according to the required number of instances\n",
    "        # all formats can be extracted, depending on the requirement\n",
    "        # unencoded, encoded (sparse matrix is the type returned by scikit), ordinary dense matrix also available\n",
    "        instances, instances_enc, instances_enc_matrix, labels = tt.get_next(batch_size, which_split='test') # default\n",
    "\n",
    "        # OPTION 2 - just run with whole test set\n",
    "        # instances = tt.X_test; instances_enc = tt.X_test_enc; instances_enc_matrix = tt.X_test_enc_matrix; labels = tt.y_test\n",
    "\n",
    "        # Make all the model predictions from the decision forest\n",
    "        preds = rf.predict(X=instances_enc)\n",
    "        print()\n",
    "        \n",
    "        # 3.1 - Extract Tree Prediction Paths\n",
    "\n",
    "        print('Walking forest for ' + str(len(labels)) + ' instances... (please wait)')\n",
    "\n",
    "        # wrapper object needs the decision forest itself and the dataset meta data (we have a convenience function for this)\n",
    "        f_walker = strcts.forest_walker(forest = rf, meta_data=meta_data)\n",
    "\n",
    "        # set the timer\n",
    "        forest_walk_start_time = timeit.default_timer()\n",
    "\n",
    "        # do the walk - returns a batch_paths_container (even for just one instance)\n",
    "        # requires the X instances in a matrix (dense, ordinary numpy matrix) - this is available in the data_split_container\n",
    "        bp_container = f_walker.forest_walk(instances = instances_enc_matrix\n",
    "                                , labels = preds # we're explaining the prediction, not the true label!\n",
    "                                , forest_walk_async = forest_walk_async)\n",
    "\n",
    "        # stop the timer\n",
    "        forest_walk_end_time = timeit.default_timer()\n",
    "        forest_walk_elapsed_time = forest_walk_end_time - forest_walk_start_time\n",
    "\n",
    "        print('Forest Walk with async = ' + str(forest_walk_async))\n",
    "        print('Forest Walk time elapsed:', \"{:0.4f}\".format(forest_walk_elapsed_time), 'seconds')\n",
    "        print()\n",
    "        \n",
    "        # 3.2-3.4 - Freqent pattern mining of paths, Score and sort mined path segments, Merge path segments into one rule\n",
    "\n",
    "        # build CHIRPS and a rule for each instance represented in the batch paths container\n",
    "        CHIRPS = strcts.batch_CHIRPS_explainer(bp_container,\n",
    "                                        forest=rf,\n",
    "                                        sample_instances=tt.X_train_enc, # any representative sample can be used\n",
    "                                        sample_labels=tt.y_train,  # any representative sample can be used\n",
    "                                        meta_data=meta_data)\n",
    "\n",
    "        print('Running CHIRPS on a batch of ' + str(len(labels)) + ' instances... (please wait)')\n",
    "        # start a timer\n",
    "        ce_start_time = timeit.default_timer()\n",
    "\n",
    "        CHIRPS.batch_run_CHIRPS(chirps_explanation_async=chirps_explanation_async) # all the defaults\n",
    "\n",
    "        ce_end_time = timeit.default_timer()\n",
    "        ce_elapsed_time = ce_end_time - ce_start_time\n",
    "        print('CHIRPS time elapsed:', \"{:0.4f}\".format(ce_elapsed_time), 'seconds')\n",
    "        print('CHIRPS with async = ' + str(chirps_explanation_async))\n",
    "        print()\n",
    "        \n",
    "        # 4. Evaluating CHIRPS Explanations\n",
    "        print('Evaluating found explanations')\n",
    "        \n",
    "        results_start_time = timeit.default_timer()\n",
    "\n",
    "        # iterate over all the test instances (based on the ids in the index)\n",
    "        # scoring will leave out the specific instance by this id.\n",
    "        rt.evaluate_CHIRPS_explainers(CHIRPS, tt, labels.index,\n",
    "                                      print_to_screen=False, # set True when running single instances\n",
    "                                      save_results_path=save_path,\n",
    "                                      save_results_file='results' + '_rnst_' + str(random_state),\n",
    "                                      save_CHIRPS=True)\n",
    "\n",
    "        results_end_time = timeit.default_timer()\n",
    "        results_elapsed_time = results_end_time - results_start_time\n",
    "        print('CHIRPS batch results eval time elapsed:', \"{:0.4f}\".format(results_elapsed_time), 'seconds')\n",
    "        # this completes the CHIRPS runs\n",
    "\n",
    "        print()\n",
    "        print()"
   ]
  },
  {
   "cell_type": "code",
   "execution_count": null,
   "metadata": {},
   "outputs": [],
   "source": []
  }
 ],
 "metadata": {
  "kernelspec": {
   "display_name": "Python 3",
   "language": "python",
   "name": "python3"
  },
  "language_info": {
   "codemirror_mode": {
    "name": "ipython",
    "version": 3
   },
   "file_extension": ".py",
   "mimetype": "text/x-python",
   "name": "python",
   "nbconvert_exporter": "python",
   "pygments_lexer": "ipython3",
   "version": "3.6.5"
  }
 },
 "nbformat": 4,
 "nbformat_minor": 2
}
