{
 "cells": [
  {
   "cell_type": "markdown",
   "metadata": {},
   "source": [
    "# prologue"
   ]
  },
  {
   "cell_type": "markdown",
   "metadata": {},
   "source": [
    "### set up notebook and load package"
   ]
  },
  {
   "cell_type": "code",
   "execution_count": 1,
   "metadata": {},
   "outputs": [],
   "source": [
    "# for notebook plotting\n",
    "%matplotlib inline \n",
    "\n",
    "# load what we need\n",
    "import CHIRPS.datasets as ds\n",
    "import CHIRPS.reproducible as rp\n",
    "\n",
    "# demo datasets that ship with package. all from UCI unless stated otherwise\n",
    "# ds.adult_data, ds.adult_samp_data, ds.adult_small_samp_data Large dataset ships with manageable sub samples\n",
    "# ds.bankmark_data, ds.bankmark_samp_data\n",
    "# ds.car_data\n",
    "# ds.cardio_data this is the cardiotocography dataset\n",
    "# ds.credit_data\n",
    "# ds.german_data\n",
    "# ds.lending_data, ds.lending_samp_data, ds.lending_small_samp_data, ds.lending_tiny_samp_data from Kaggle. see datasets_from_source file for links\n",
    "# ds.nursery_data, ds.nursery_samp_data\n",
    "# ds.rcdv_data, ds.rcdv_samp_data from US government see datasets_from_source file for links"
   ]
  },
  {
   "cell_type": "markdown",
   "metadata": {},
   "source": [
    "### common config - can be ommitted if defaults are OK"
   ]
  },
  {
   "cell_type": "code",
   "execution_count": 2,
   "metadata": {},
   "outputs": [],
   "source": [
    "project_dir = 'V:\\\\whiteboxing' # defaults to a directory \"whiteboxing\" in the working directory\n",
    "random_state_splits = 123 # one off for splitting the data into test / train"
   ]
  },
  {
   "cell_type": "markdown",
   "metadata": {},
   "source": [
    "# data management"
   ]
  },
  {
   "cell_type": "markdown",
   "metadata": {},
   "source": [
    "### datasets"
   ]
  },
  {
   "cell_type": "markdown",
   "metadata": {},
   "source": [
    "Several datasets are available as pre-prepared containers that hold the data and some meta-data that is used in the algorithm\n",
    "Any dataset can be turned into a container by invoking the constructor found in the file structures.py"
   ]
  },
  {
   "cell_type": "code",
   "execution_count": 3,
   "metadata": {},
   "outputs": [
    {
     "data": {
      "text/plain": [
       "[<function CHIRPS.datasets.adult_small_samp_data>,\n",
       " <function CHIRPS.datasets.bankmark_samp_data>,\n",
       " <function CHIRPS.datasets.car_data>,\n",
       " <function CHIRPS.datasets.cardio_data>,\n",
       " <function CHIRPS.datasets.credit_data>,\n",
       " <function CHIRPS.datasets.german_data>,\n",
       " <function CHIRPS.datasets.lending_tiny_samp_data>,\n",
       " <function CHIRPS.datasets.nursery_samp_data>]"
      ]
     },
     "execution_count": 3,
     "metadata": {},
     "output_type": "execute_result"
    }
   ],
   "source": [
    "# datasets might be down-sampled to make them easier to work with\n",
    "# the full sets are available too\n",
    "# this is a list of constructors that will be used in the benchmarking\n",
    "rp.datasets"
   ]
  },
  {
   "cell_type": "code",
   "execution_count": 4,
   "metadata": {},
   "outputs": [
    {
     "data": {
      "text/plain": [
       "<CHIRPS.structures.data_container at 0x19ab4d4cda0>"
      ]
     },
     "execution_count": 4,
     "metadata": {},
     "output_type": "execute_result"
    }
   ],
   "source": [
    "# example of one dataset\n",
    "# note: random_state propagates through other functions and is easily updated to allow alternative runs\n",
    "ds.cardio_data(random_state=123, project_dir=project_dir)"
   ]
  },
  {
   "cell_type": "markdown",
   "metadata": {},
   "source": [
    "### standardising train-test splitting\n",
    "Some methods are not available in Python. We want to maintain the same dataset splits no matter which platform. So, the train test data is split with the one-time random seed and the splits are saved to csv in the project folders."
   ]
  },
  {
   "cell_type": "code",
   "execution_count": 5,
   "metadata": {},
   "outputs": [
    {
     "name": "stdout",
     "output_type": "stream",
     "text": [
      "Exported train-test data for 8 datasets.\n"
     ]
    }
   ],
   "source": [
    "# writes external files\n",
    "rp.export_data_splits(datasets=rp.datasets, project_dir=project_dir, random_state_splits=random_state_splits)"
   ]
  },
  {
   "cell_type": "markdown",
   "metadata": {},
   "source": [
    "# Experimental Runs\n",
    "Loop through datasets, actioning the functions in the package to execute a round of experiments and test evaluations."
   ]
  },
  {
   "cell_type": "markdown",
   "metadata": {},
   "source": [
    "## 0. Optional Memory and Computation Cost Management\n",
    "CHIRPS is time economical but memory intensive to compute for lots of instances at once.\n"
   ]
  },
  {
   "cell_type": "markdown",
   "metadata": {},
   "source": [
    "### Parallel processing\n",
    "Scikit takes care of parallel for the RF construction.\n",
    "We can parallelise the following:\n",
    "1. the walk of instances down each tree to collect the paths. The paths for many instances are returned in a single array. This parallelises across trees.\n",
    "2. building CHIRPS and the final explanation (rule). This is a search optimisation and we can parallelise each instance.\n",
    "\n",
    "This is expecially effective when running batches. For single instances, set both to false to avoid spinning up the parallel infrastructure."
   ]
  },
  {
   "cell_type": "code",
   "execution_count": 6,
   "metadata": {},
   "outputs": [],
   "source": [
    "# control for async processes - each tree walk can be done in its own core\n",
    "# and so can each explanation (e.g. rule conditions merge by hill-climbing)\n",
    "# these will default to false if not passed explicitly to the explainer function\n",
    "# on a multi-core machine there should be a good speed up for large batches\n",
    "# when the batch_size advantage exceeds the overhead of setting up multi-processing\n",
    "# timings will be printed to screen so you can see if it helps\n",
    "forest_walk_async=True\n",
    "chirps_explanation_async=True"
   ]
  },
  {
   "cell_type": "markdown",
   "metadata": {},
   "source": [
    "### Preparing unseen data\n",
    "\n",
    "Again note:\n",
    "test set has never been \"seen\" by random forest during training\n",
    "test set has been only used to assess model (random forest) accuracy - no additional tuning after this\n",
    "test set has not be involved in generating the explainer"
   ]
  },
  {
   "cell_type": "markdown",
   "metadata": {},
   "source": [
    "#### Batching\n",
    "The memory space requirements for all the paths can be reduced by dividing the test set into batches. However this does take longer as there is an overhead to instantiate all the required objects, especially if coupled with parallel processing.\n",
    "Best compromise could be a small number of larger batches."
   ]
  },
  {
   "cell_type": "code",
   "execution_count": 7,
   "metadata": {},
   "outputs": [],
   "source": [
    "# the number of instances can be controlled by\n",
    "# batch_size - how many instances to explain at one time\n",
    "# set these larger than the size of the test set and it will simply run the whole test set in one batch. Better do option 2\n",
    "batch_size = 5\n",
    "# how many instances to explain in total from a test/unseen set\n",
    "n_instances = 10000"
   ]
  },
  {
   "cell_type": "markdown",
   "metadata": {},
   "source": [
    "### 1. Data and Forest prep\n",
    "Use the random state splits to do a one-off data split.\n",
    "Fit the RF to training data, using the iterating random state.\n",
    "Save the performance metrics on the test set for later review.\n",
    "\n",
    "### 2. Prepare Unseen Data and Predictions\n",
    "Important to note:\n",
    "Test set never \"seen\" by RF during training.\n",
    "test set not involved in generating the explainer.\n",
    "Test set used to evaluate model (random forest) accuracy beyond OOBE scores - no additional tuning based on these results.\n",
    "Test set used to evaluate explanation scores by leave-one-out method removing the specific instance we're explaining.\n",
    "\n",
    "Important to note:\n",
    "We will explain predictions directly from the trained RF. Explanation system makes no compromise on model accuracy.\n",
    "\n",
    "### 3. CHIRPS algorithm\n",
    "1. Extract Tree Prediction Paths\n",
    "2. Freqent pattern mining of paths\n",
    "3. Score and sort mined path segments\n",
    "4. Merge path segments into one rule\n",
    "\n",
    "#### CHIRPS 1\n",
    "Fit a forest_walker object to the dataset and decision forest. This is a wrapper that will extract the paths of all the given instances. Its main method delivers the instance paths for the remaining steps of the algorithm as a new object: a batch_paths_container. It can also report interesting statistics (treating the forest as a set of random tree-structured variables).\n",
    "\n",
    "#### CHIRPS 2-4\n",
    "A batch_CHIRPS_container is fitted with the batch_paths_container returned by the forest walker, and with a sample of data. For CHIRPS, we prefer a large sample. The whole training set or other representative sample will do. This is a wrapper object will execute steps 2-4 on all each the instance-paths in the batch_paths_container.\n",
    "\n",
    "Important to note:\n",
    "true_divide warnings are OK! It just means that a continuous variable is unbounded on one side i.e. no greater/less than inequality is used in the specific CHIRPS explanation.\n",
    "\n",
    "Important note: \n",
    "Here we are using the training set to create the explainers. We could use a different dataset as long as it is representative of the training set that built the decision forest. Most important that we don't use the dataset that we wish to explain, so never use the test set, for example.\n",
    "\n",
    "### 4. Evaluating CHIRPS Explanations\n",
    "Test set has been used to create an explainer *one instance at a time* and the rest of test set was not \"seen\" during this construction. To score each explainer, we use test set, leaving out the individual instance being explained. The data_split_container (tt) has a convenience funtion for doing this. All the results are saved to csv files in the project directory."
   ]
  },
  {
   "cell_type": "code",
   "execution_count": 8,
   "metadata": {
    "scrolled": false
   },
   "outputs": [
    {
     "name": "stdout",
     "output_type": "stream",
     "text": [
      "Running experiment for cardio_data with random state = 123\n",
      "\n",
      "Split data into main train-test and build RF\n",
      "using previous tuning parameters\n",
      "\n",
      "Prepare Unseen Data and Predictions for CHIRPS benchmark\n",
      "Walking forest for 5 instances... (please wait)\n",
      "Forest Walk with async = True\n",
      "Forest Walk time elapsed: 0.8215 seconds\n",
      "\n",
      "Running CHIRPS on a batch of 5 instances... (please wait)\n"
     ]
    },
    {
     "name": "stderr",
     "output_type": "stream",
     "text": [
      "C:\\Users\\id126493\\Documents\\GitHub\\explain_te\\CHIRPS\\structures.py:1384: RuntimeWarning: invalid value encountered in true_divide\n",
      "  np.histogram(lowers, lower_bins)[0]).round(5)\n",
      "C:\\Users\\id126493\\Documents\\GitHub\\explain_te\\CHIRPS\\structures.py:1380: RuntimeWarning: invalid value encountered in true_divide\n",
      "  np.histogram(uppers, upper_bins)[0]).round(5)\n"
     ]
    },
    {
     "name": "stdout",
     "output_type": "stream",
     "text": [
      "CHIRPS time elapsed: 0.4017 seconds\n",
      "CHIRPS with async = False\n",
      "\n",
      "Evaluating found explanations\n",
      "\n",
      "\n",
      "\n",
      "\n",
      "\n",
      "CHIRPS batch results eval time elapsed: 0.1819 seconds\n",
      "using previous tuning parameters\n",
      "Prepare Unseen Data and Predictions for Anchors benchmark\n",
      "Running Anchors on each instance and collecting results\n",
      "Working on Anchors for instance 63\n",
      "[8, 7]\n",
      "[[3. 3.]\n",
      " [2. 3.]\n",
      " [0. 3.]\n",
      " ...\n",
      " [1. 3.]\n",
      " [3. 2.]\n",
      " [1. 3.]]\n",
      "[[2. 0.]\n",
      " [3. 0.]\n",
      " [3. 1.]\n",
      " [1. 2.]\n",
      " [1. 1.]]\n",
      "[[2. 0.]\n",
      " [3. 0.]\n",
      " [3. 1.]\n",
      " [1. 2.]\n",
      " [1. 1.]]\n",
      "False\n",
      "[1, 17]\n",
      "[[2. 0.]\n",
      " [2. 1.]\n",
      " [0. 0.]\n",
      " ...\n",
      " [2. 1.]\n",
      " [0. 0.]\n",
      " [3. 2.]]\n",
      "[[2. 1.]\n",
      " [0. 0.]\n",
      " [2. 1.]\n",
      " [2. 1.]]\n",
      "[[2. 1.]\n",
      " [0. 0.]\n",
      " [2. 1.]\n",
      " [2. 1.]]\n",
      "False\n",
      "[19, 6, 18, 16, 1, 17, 11, 4]\n",
      "[[3. 1. 0. ... 0. 3. 1.]\n",
      " [2. 0. 2. ... 1. 2. 2.]\n",
      " [0. 0. 0. ... 0. 0. 0.]\n",
      " ...\n",
      " [2. 0. 2. ... 1. 2. 2.]\n",
      " [3. 0. 0. ... 0. 2. 2.]\n",
      " [1. 0. 2. ... 2. 1. 0.]]\n",
      "[[3. 1. 0. 0. 0. 0. 3. 1.]\n",
      " [1. 0. 1. 1. 2. 1. 2. 0.]\n",
      " [3. 0. 1. 3. 2. 1. 1. 0.]]\n",
      "[[3. 1. 0. 0. 0. 0. 3. 1.]\n",
      " [1. 0. 1. 1. 2. 1. 2. 0.]\n",
      " [3. 0. 1. 3. 2. 1. 1. 0.]]\n",
      "False\n",
      "[1, 17]\n",
      "[[2. 0.]\n",
      " [2. 1.]\n",
      " [0. 0.]\n",
      " ...\n",
      " [2. 1.]\n",
      " [0. 0.]\n",
      " [3. 2.]]\n",
      "[[2. 1.]\n",
      " [2. 1.]]\n",
      "[[2. 1.]\n",
      " [2. 1.]]\n",
      "False\n",
      "[8, 17]\n",
      "[[3. 0.]\n",
      " [2. 1.]\n",
      " [0. 0.]\n",
      " ...\n",
      " [1. 1.]\n",
      " [3. 0.]\n",
      " [1. 2.]]\n",
      "[[1. 1.]]\n",
      "[[1. 1.]]\n",
      "[[False False]\n",
      " [False  True]\n",
      " [False False]\n",
      " ...\n",
      " [ True  True]\n",
      " [False False]\n",
      " [ True False]]\n",
      "Running defragTrees\n",
      "\n"
     ]
    },
    {
     "ename": "IndexError",
     "evalue": "index 56 is out of bounds for axis 1 with size 21",
     "output_type": "error",
     "traceback": [
      "\u001b[1;31m---------------------------------------------------------------------------\u001b[0m",
      "\u001b[1;31mIndexError\u001b[0m                                Traceback (most recent call last)",
      "\u001b[1;32m<ipython-input-8-1231241d1bdf>\u001b[0m in \u001b[0;36m<module>\u001b[1;34m()\u001b[0m\n\u001b[0;32m     65\u001b[0m             dfrgtrs = rp.defragTrees_prep(ds_container=tt_dfrgtrs, meta_data=meta_data, forest=rf, \n\u001b[0;32m     66\u001b[0m                                             \u001b[0mKmax\u001b[0m\u001b[1;33m=\u001b[0m\u001b[0mKmax\u001b[0m\u001b[1;33m,\u001b[0m \u001b[0mrestart\u001b[0m\u001b[1;33m=\u001b[0m\u001b[0mrestart\u001b[0m\u001b[1;33m,\u001b[0m \u001b[0mmaxitr\u001b[0m\u001b[1;33m=\u001b[0m\u001b[0mmaxitr\u001b[0m\u001b[1;33m,\u001b[0m\u001b[1;33m\u001b[0m\u001b[0m\n\u001b[1;32m---> 67\u001b[1;33m                                             identifier='defragTrees', save_path=save_path)\n\u001b[0m\u001b[0;32m     68\u001b[0m \u001b[1;33m\u001b[0m\u001b[0m\n\u001b[0;32m     69\u001b[0m \u001b[1;33m\u001b[0m\u001b[0m\n",
      "\u001b[1;32m~\\Documents\\GitHub\\explain_te\\CHIRPS\\reproducible.py\u001b[0m in \u001b[0;36mdefragTrees_prep\u001b[1;34m(forest, meta_data, ds_container, Kmax, maxitr, restart, identifier, save_path)\u001b[0m\n\u001b[0;32m    313\u001b[0m     \u001b[0msplitter\u001b[0m \u001b[1;33m=\u001b[0m \u001b[0mDefragModel\u001b[0m\u001b[1;33m.\u001b[0m\u001b[0mparseSLtrees\u001b[0m\u001b[1;33m(\u001b[0m\u001b[0mforest\u001b[0m\u001b[1;33m)\u001b[0m \u001b[1;31m# parse sklearn tree ensembles into the array of (feature index, threshold)\u001b[0m\u001b[1;33m\u001b[0m\u001b[0m\n\u001b[0;32m    314\u001b[0m     \u001b[0mmdl\u001b[0m \u001b[1;33m=\u001b[0m \u001b[0mDefragModel\u001b[0m\u001b[1;33m(\u001b[0m\u001b[0mmodeltype\u001b[0m\u001b[1;33m=\u001b[0m\u001b[1;34m'classification'\u001b[0m\u001b[1;33m,\u001b[0m \u001b[0mmaxitr\u001b[0m\u001b[1;33m=\u001b[0m\u001b[0mmaxitr\u001b[0m\u001b[1;33m,\u001b[0m \u001b[0mqitr\u001b[0m\u001b[1;33m=\u001b[0m\u001b[1;36m0\u001b[0m\u001b[1;33m,\u001b[0m \u001b[0mtol\u001b[0m\u001b[1;33m=\u001b[0m\u001b[1;36m1e-6\u001b[0m\u001b[1;33m,\u001b[0m \u001b[0mrestart\u001b[0m\u001b[1;33m=\u001b[0m\u001b[0mrestart\u001b[0m\u001b[1;33m,\u001b[0m \u001b[0mverbose\u001b[0m\u001b[1;33m=\u001b[0m\u001b[1;36m0\u001b[0m\u001b[1;33m,\u001b[0m \u001b[0mseed\u001b[0m\u001b[1;33m=\u001b[0m\u001b[0mrandom_state\u001b[0m\u001b[1;33m)\u001b[0m\u001b[1;33m\u001b[0m\u001b[0m\n\u001b[1;32m--> 315\u001b[1;33m     \u001b[0mmdl\u001b[0m\u001b[1;33m.\u001b[0m\u001b[0mfit\u001b[0m\u001b[1;33m(\u001b[0m\u001b[0mnp\u001b[0m\u001b[1;33m.\u001b[0m\u001b[0marray\u001b[0m\u001b[1;33m(\u001b[0m\u001b[0mX_train\u001b[0m\u001b[1;33m)\u001b[0m\u001b[1;33m,\u001b[0m \u001b[0my_train\u001b[0m\u001b[1;33m,\u001b[0m \u001b[0msplitter\u001b[0m\u001b[1;33m,\u001b[0m \u001b[0mKmax\u001b[0m\u001b[1;33m,\u001b[0m \u001b[0mfittype\u001b[0m\u001b[1;33m=\u001b[0m\u001b[1;34m'FAB'\u001b[0m\u001b[1;33m,\u001b[0m \u001b[0mfeaturename\u001b[0m\u001b[1;33m=\u001b[0m\u001b[0mfeature_names\u001b[0m\u001b[1;33m)\u001b[0m\u001b[1;33m\u001b[0m\u001b[0m\n\u001b[0m\u001b[0;32m    316\u001b[0m \u001b[1;33m\u001b[0m\u001b[0m\n\u001b[0;32m    317\u001b[0m     \u001b[0mdefTrees_end_time\u001b[0m \u001b[1;33m=\u001b[0m \u001b[0mtimeit\u001b[0m\u001b[1;33m.\u001b[0m\u001b[0mdefault_timer\u001b[0m\u001b[1;33m(\u001b[0m\u001b[1;33m)\u001b[0m\u001b[1;33m\u001b[0m\u001b[0m\n",
      "\u001b[1;32m~\\Documents\\GitHub\\explain_te\\defragTrees\\defragTrees.py\u001b[0m in \u001b[0;36mfit\u001b[1;34m(self, X, y, splitter, K, fittype, featurename)\u001b[0m\n\u001b[0;32m    264\u001b[0m                 \u001b[1;32melse\u001b[0m\u001b[1;33m:\u001b[0m\u001b[1;33m\u001b[0m\u001b[0m\n\u001b[0;32m    265\u001b[0m                     \u001b[0ms\u001b[0m \u001b[1;33m=\u001b[0m \u001b[0msplitter\u001b[0m\u001b[1;33m\u001b[0m\u001b[0m\n\u001b[1;32m--> 266\u001b[1;33m                 \u001b[0mdefr\u001b[0m \u001b[1;33m=\u001b[0m \u001b[0mself\u001b[0m\u001b[1;33m.\u001b[0m\u001b[0mfit_defragger\u001b[0m\u001b[1;33m(\u001b[0m\u001b[0mX\u001b[0m\u001b[1;33m,\u001b[0m \u001b[0my\u001b[0m\u001b[1;33m,\u001b[0m \u001b[0ms\u001b[0m\u001b[1;33m,\u001b[0m \u001b[0mK\u001b[0m\u001b[1;33m,\u001b[0m \u001b[0mfittype\u001b[0m\u001b[1;33m,\u001b[0m \u001b[0mself\u001b[0m\u001b[1;33m.\u001b[0m\u001b[0mmodeltype_\u001b[0m\u001b[1;33m,\u001b[0m \u001b[0mself\u001b[0m\u001b[1;33m.\u001b[0m\u001b[0mmaxitr_\u001b[0m\u001b[1;33m,\u001b[0m \u001b[0mself\u001b[0m\u001b[1;33m.\u001b[0m\u001b[0mqitr_\u001b[0m\u001b[1;33m,\u001b[0m \u001b[0mself\u001b[0m\u001b[1;33m.\u001b[0m\u001b[0mtol_\u001b[0m\u001b[1;33m,\u001b[0m \u001b[0mself\u001b[0m\u001b[1;33m.\u001b[0m\u001b[0meps_\u001b[0m\u001b[1;33m,\u001b[0m \u001b[0mself\u001b[0m\u001b[1;33m.\u001b[0m\u001b[0mdelta_\u001b[0m\u001b[1;33m,\u001b[0m \u001b[0mself\u001b[0m\u001b[1;33m.\u001b[0m\u001b[0mseed_\u001b[0m\u001b[1;33m+\u001b[0m\u001b[0mitr\u001b[0m\u001b[1;33m,\u001b[0m \u001b[0mself\u001b[0m\u001b[1;33m.\u001b[0m\u001b[0mverbose_\u001b[0m\u001b[1;33m)\u001b[0m\u001b[1;33m\u001b[0m\u001b[0m\n\u001b[0m\u001b[0;32m    267\u001b[0m                 \u001b[0mself\u001b[0m\u001b[1;33m.\u001b[0m\u001b[0mdefragger_\u001b[0m\u001b[1;33m.\u001b[0m\u001b[0mappend\u001b[0m\u001b[1;33m(\u001b[0m\u001b[0mdefr\u001b[0m\u001b[1;33m)\u001b[0m\u001b[1;33m\u001b[0m\u001b[0m\n\u001b[0;32m    268\u001b[0m         \u001b[1;32melif\u001b[0m \u001b[0mself\u001b[0m\u001b[1;33m.\u001b[0m\u001b[0mnjobs_\u001b[0m \u001b[1;33m>\u001b[0m \u001b[1;36m1\u001b[0m\u001b[1;33m:\u001b[0m\u001b[1;33m\u001b[0m\u001b[0m\n",
      "\u001b[1;32m~\\Documents\\GitHub\\explain_te\\defragTrees\\defragTrees.py\u001b[0m in \u001b[0;36mfit_defragger\u001b[1;34m(self, X, y, splitter, K, fittype, modeltype, maxitr, qitr, tol, eps, delta, seed, verbose)\u001b[0m\n\u001b[0;32m    294\u001b[0m     \u001b[1;32mdef\u001b[0m \u001b[0mfit_defragger\u001b[0m\u001b[1;33m(\u001b[0m\u001b[0mself\u001b[0m\u001b[1;33m,\u001b[0m \u001b[0mX\u001b[0m\u001b[1;33m,\u001b[0m \u001b[0my\u001b[0m\u001b[1;33m,\u001b[0m \u001b[0msplitter\u001b[0m\u001b[1;33m,\u001b[0m \u001b[0mK\u001b[0m\u001b[1;33m,\u001b[0m \u001b[0mfittype\u001b[0m\u001b[1;33m,\u001b[0m \u001b[0mmodeltype\u001b[0m\u001b[1;33m,\u001b[0m \u001b[0mmaxitr\u001b[0m\u001b[1;33m,\u001b[0m \u001b[0mqitr\u001b[0m\u001b[1;33m,\u001b[0m \u001b[0mtol\u001b[0m\u001b[1;33m,\u001b[0m \u001b[0meps\u001b[0m\u001b[1;33m,\u001b[0m \u001b[0mdelta\u001b[0m\u001b[1;33m,\u001b[0m \u001b[0mseed\u001b[0m\u001b[1;33m,\u001b[0m \u001b[0mverbose\u001b[0m\u001b[1;33m)\u001b[0m\u001b[1;33m:\u001b[0m\u001b[1;33m\u001b[0m\u001b[0m\n\u001b[0;32m    295\u001b[0m         \u001b[0mdefragger\u001b[0m \u001b[1;33m=\u001b[0m \u001b[0mDefragger\u001b[0m\u001b[1;33m(\u001b[0m\u001b[0mmodeltype\u001b[0m\u001b[1;33m=\u001b[0m\u001b[0mmodeltype\u001b[0m\u001b[1;33m,\u001b[0m \u001b[0mmaxitr\u001b[0m\u001b[1;33m=\u001b[0m\u001b[0mmaxitr\u001b[0m\u001b[1;33m,\u001b[0m \u001b[0mqitr\u001b[0m\u001b[1;33m=\u001b[0m\u001b[0mqitr\u001b[0m\u001b[1;33m,\u001b[0m \u001b[0mtol\u001b[0m\u001b[1;33m=\u001b[0m\u001b[0mtol\u001b[0m\u001b[1;33m,\u001b[0m \u001b[0meps\u001b[0m\u001b[1;33m=\u001b[0m\u001b[0meps\u001b[0m\u001b[1;33m,\u001b[0m \u001b[0mdelta\u001b[0m\u001b[1;33m=\u001b[0m\u001b[0mdelta\u001b[0m\u001b[1;33m,\u001b[0m \u001b[0mseed\u001b[0m\u001b[1;33m=\u001b[0m\u001b[0mseed\u001b[0m\u001b[1;33m,\u001b[0m \u001b[0mverbose\u001b[0m\u001b[1;33m=\u001b[0m\u001b[0mverbose\u001b[0m\u001b[1;33m)\u001b[0m\u001b[1;33m\u001b[0m\u001b[0m\n\u001b[1;32m--> 296\u001b[1;33m         \u001b[0mdefragger\u001b[0m\u001b[1;33m.\u001b[0m\u001b[0mfit\u001b[0m\u001b[1;33m(\u001b[0m\u001b[0mX\u001b[0m\u001b[1;33m,\u001b[0m \u001b[0my\u001b[0m\u001b[1;33m,\u001b[0m \u001b[0msplitter\u001b[0m\u001b[1;33m,\u001b[0m \u001b[0mK\u001b[0m\u001b[1;33m,\u001b[0m \u001b[0mfittype\u001b[0m\u001b[1;33m=\u001b[0m\u001b[0mfittype\u001b[0m\u001b[1;33m)\u001b[0m\u001b[1;33m\u001b[0m\u001b[0m\n\u001b[0m\u001b[0;32m    297\u001b[0m         \u001b[1;32mreturn\u001b[0m \u001b[0mdefragger\u001b[0m\u001b[1;33m\u001b[0m\u001b[0m\n\u001b[0;32m    298\u001b[0m \u001b[1;33m\u001b[0m\u001b[0m\n",
      "\u001b[1;32m~\\Documents\\GitHub\\explain_te\\defragTrees\\defragTrees.py\u001b[0m in \u001b[0;36mfit\u001b[1;34m(self, X, y, splitter, K, fittype)\u001b[0m\n\u001b[0;32m    489\u001b[0m             \u001b[0mself\u001b[0m\u001b[1;33m.\u001b[0m\u001b[0m__fitEM\u001b[0m\u001b[1;33m(\u001b[0m\u001b[0mX\u001b[0m\u001b[1;33m,\u001b[0m \u001b[0my\u001b[0m\u001b[1;33m,\u001b[0m \u001b[0msplitter\u001b[0m\u001b[1;33m,\u001b[0m \u001b[0mK\u001b[0m\u001b[1;33m,\u001b[0m \u001b[0mself\u001b[0m\u001b[1;33m.\u001b[0m\u001b[0mseed_\u001b[0m\u001b[1;33m)\u001b[0m\u001b[1;33m\u001b[0m\u001b[0m\n\u001b[0;32m    490\u001b[0m         \u001b[1;32melif\u001b[0m \u001b[0mfittype\u001b[0m \u001b[1;33m==\u001b[0m \u001b[1;34m'FAB'\u001b[0m\u001b[1;33m:\u001b[0m\u001b[1;33m\u001b[0m\u001b[0m\n\u001b[1;32m--> 491\u001b[1;33m             \u001b[0mself\u001b[0m\u001b[1;33m.\u001b[0m\u001b[0m__fitFAB\u001b[0m\u001b[1;33m(\u001b[0m\u001b[0mX\u001b[0m\u001b[1;33m,\u001b[0m \u001b[0my\u001b[0m\u001b[1;33m,\u001b[0m \u001b[0msplitter\u001b[0m\u001b[1;33m,\u001b[0m \u001b[0mK\u001b[0m\u001b[1;33m,\u001b[0m \u001b[0mself\u001b[0m\u001b[1;33m.\u001b[0m\u001b[0mseed_\u001b[0m\u001b[1;33m)\u001b[0m\u001b[1;33m\u001b[0m\u001b[0m\n\u001b[0m\u001b[0;32m    492\u001b[0m         \u001b[0mself\u001b[0m\u001b[1;33m.\u001b[0m\u001b[0mtime_\u001b[0m \u001b[1;33m=\u001b[0m \u001b[0mtime\u001b[0m\u001b[1;33m.\u001b[0m\u001b[0mtime\u001b[0m\u001b[1;33m(\u001b[0m\u001b[1;33m)\u001b[0m \u001b[1;33m-\u001b[0m \u001b[0mself\u001b[0m\u001b[1;33m.\u001b[0m\u001b[0mtime_\u001b[0m\u001b[1;33m\u001b[0m\u001b[0m\n\u001b[0;32m    493\u001b[0m         \u001b[0mpred\u001b[0m \u001b[1;33m=\u001b[0m \u001b[1;33m[\u001b[0m\u001b[1;33m]\u001b[0m\u001b[1;33m\u001b[0m\u001b[0m\n",
      "\u001b[1;32m~\\Documents\\GitHub\\explain_te\\defragTrees\\defragTrees.py\u001b[0m in \u001b[0;36m__fitFAB\u001b[1;34m(self, X, y, splitter, Kmax, seed)\u001b[0m\n\u001b[0;32m    580\u001b[0m \u001b[1;33m\u001b[0m\u001b[0m\n\u001b[0;32m    581\u001b[0m     \u001b[1;32mdef\u001b[0m \u001b[0m__fitFAB\u001b[0m\u001b[1;33m(\u001b[0m\u001b[0mself\u001b[0m\u001b[1;33m,\u001b[0m \u001b[0mX\u001b[0m\u001b[1;33m,\u001b[0m \u001b[0my\u001b[0m\u001b[1;33m,\u001b[0m \u001b[0msplitter\u001b[0m\u001b[1;33m,\u001b[0m \u001b[0mKmax\u001b[0m\u001b[1;33m,\u001b[0m \u001b[0mseed\u001b[0m\u001b[1;33m)\u001b[0m\u001b[1;33m:\u001b[0m\u001b[1;33m\u001b[0m\u001b[0m\n\u001b[1;32m--> 582\u001b[1;33m         \u001b[0mR\u001b[0m \u001b[1;33m=\u001b[0m \u001b[0mself\u001b[0m\u001b[1;33m.\u001b[0m\u001b[0m__getBinary\u001b[0m\u001b[1;33m(\u001b[0m\u001b[0mX\u001b[0m\u001b[1;33m,\u001b[0m \u001b[0msplitter\u001b[0m\u001b[1;33m)\u001b[0m\u001b[1;33m\u001b[0m\u001b[0m\n\u001b[0m\u001b[0;32m    583\u001b[0m         \u001b[0mdim\u001b[0m \u001b[1;33m=\u001b[0m \u001b[0mR\u001b[0m\u001b[1;33m.\u001b[0m\u001b[0mshape\u001b[0m\u001b[1;33m[\u001b[0m\u001b[1;36m1\u001b[0m\u001b[1;33m]\u001b[0m\u001b[1;33m\u001b[0m\u001b[0m\n\u001b[0;32m    584\u001b[0m         \u001b[0mnum\u001b[0m \u001b[1;33m=\u001b[0m \u001b[0mX\u001b[0m\u001b[1;33m.\u001b[0m\u001b[0mshape\u001b[0m\u001b[1;33m[\u001b[0m\u001b[1;36m0\u001b[0m\u001b[1;33m]\u001b[0m\u001b[1;33m\u001b[0m\u001b[0m\n",
      "\u001b[1;32m~\\Documents\\GitHub\\explain_te\\defragTrees\\defragTrees.py\u001b[0m in \u001b[0;36m__getBinary\u001b[1;34m(self, X, splitter)\u001b[0m\n\u001b[0;32m    479\u001b[0m         \u001b[0mR\u001b[0m \u001b[1;33m=\u001b[0m \u001b[0mnp\u001b[0m\u001b[1;33m.\u001b[0m\u001b[0mzeros\u001b[0m\u001b[1;33m(\u001b[0m\u001b[1;33m(\u001b[0m\u001b[0mnum\u001b[0m\u001b[1;33m,\u001b[0m \u001b[0mr\u001b[0m\u001b[1;33m)\u001b[0m\u001b[1;33m)\u001b[0m\u001b[1;33m\u001b[0m\u001b[0m\n\u001b[0;32m    480\u001b[0m         \u001b[1;32mfor\u001b[0m \u001b[0mi\u001b[0m \u001b[1;32min\u001b[0m \u001b[0mrange\u001b[0m\u001b[1;33m(\u001b[0m\u001b[0mr\u001b[0m\u001b[1;33m)\u001b[0m\u001b[1;33m:\u001b[0m\u001b[1;33m\u001b[0m\u001b[0m\n\u001b[1;32m--> 481\u001b[1;33m             \u001b[0mR\u001b[0m\u001b[1;33m[\u001b[0m\u001b[1;33m:\u001b[0m\u001b[1;33m,\u001b[0m \u001b[0mi\u001b[0m\u001b[1;33m]\u001b[0m \u001b[1;33m=\u001b[0m \u001b[0mX\u001b[0m\u001b[1;33m[\u001b[0m\u001b[1;33m:\u001b[0m\u001b[1;33m,\u001b[0m \u001b[0mint\u001b[0m\u001b[1;33m(\u001b[0m\u001b[0msplitter\u001b[0m\u001b[1;33m[\u001b[0m\u001b[0mi\u001b[0m\u001b[1;33m,\u001b[0m \u001b[1;36m0\u001b[0m\u001b[1;33m]\u001b[0m\u001b[1;33m)\u001b[0m\u001b[1;33m]\u001b[0m \u001b[1;33m>=\u001b[0m \u001b[0msplitter\u001b[0m\u001b[1;33m[\u001b[0m\u001b[0mi\u001b[0m\u001b[1;33m,\u001b[0m \u001b[1;36m1\u001b[0m\u001b[1;33m]\u001b[0m\u001b[1;33m\u001b[0m\u001b[0m\n\u001b[0m\u001b[0;32m    482\u001b[0m         \u001b[1;32mreturn\u001b[0m \u001b[0mR\u001b[0m\u001b[1;33m\u001b[0m\u001b[0m\n\u001b[0;32m    483\u001b[0m \u001b[1;33m\u001b[0m\u001b[0m\n",
      "\u001b[1;31mIndexError\u001b[0m: index 56 is out of bounds for axis 1 with size 21"
     ]
    }
   ],
   "source": [
    "run_CHIRPS = True\n",
    "run_Anchors = True\n",
    "run_defragTrees = True\n",
    "\n",
    "for random_state in [123]:\n",
    "    for d_constructor in [rp.datasets[3]]:\n",
    "        print('Running experiment for ' + d_constructor.__name__ + ' with random state = ' + str(random_state))\n",
    "        print()\n",
    "        # 1. Data and Forest prep\n",
    "        print('Split data into main train-test and build RF') \n",
    "        \n",
    "        mydata = d_constructor(random_state=random_state, project_dir=project_dir)\n",
    "        \n",
    "        meta_data = mydata.get_meta()\n",
    "        save_path = meta_data['get_save_path']()\n",
    "        train_index, test_index = mydata.get_tt_split_idx(random_state=random_state_splits)\n",
    "        tt = mydata.tt_split(train_index, test_index)\n",
    "        \n",
    "        # this will train and score the model\n",
    "        rf = rp.forest_prep(ds_container=tt,\n",
    "                            meta_data=meta_data,\n",
    "                            save_path=save_path)\n",
    "\n",
    "        print()\n",
    "        \n",
    "        if run_CHIRPS: # might assume this is always true! :-)\n",
    "            rp.CHIRPS_benchmark(forest=rf, ds_container=tt, meta_data=meta_data,\n",
    "                                batch_size=batch_size, n_instances=n_instances,\n",
    "                                forest_walk_async=True,\n",
    "                                chirps_explanation_async=False,\n",
    "                                save_path=save_path,\n",
    "                                dataset_name=d_constructor.__name__,\n",
    "                                random_state=random_state)\n",
    "        \n",
    "        \n",
    "        if run_Anchors:\n",
    "            # new copy of ds_container (need to reset the row counters)\n",
    "            tt_anch = mydata.tt_split(train_index, test_index)\n",
    "            # preprocessing - discretised continuous X matrix has been added and also needs an updated var_dict \n",
    "            # plus returning the fitted explainer that holds the data distribution\n",
    "            tt_anch, anchors_explainer = rp.Anchors_preproc(ds_container=tt_anch,\n",
    "                                                             meta_data=meta_data)\n",
    "    \n",
    "            # re-fitting the random forest to the discretised data and evaluating\n",
    "            rf = rp.forest_prep(ds_container=tt_anch,\n",
    "                            meta_data=meta_data,\n",
    "                            save_path=save_path,\n",
    "                            identifier='Anchors')\n",
    "\n",
    "            rp.Anchors_benchmark(forest=rf, ds_container=tt_anch, meta_data=meta_data,\n",
    "                                anchors_explainer=anchors_explainer,\n",
    "                                batch_size=batch_size, n_instances=n_instances,\n",
    "                                save_path=save_path, dataset_name=d_constructor.__name__,\n",
    "                                random_state=meta_data['random_state'])\n",
    "        \n",
    "        if run_defragTrees:\n",
    "            # create a new copy of tt split, because each one keeps track of which instances it has given out.\n",
    "            # re-using the top one means different instances are passed\n",
    "            tt_dfrgtrs = mydata.tt_split(train_index, test_index)\n",
    "            \n",
    "            # some dfrgtrs specific parameters\n",
    "            Kmax = 10\n",
    "            restart = 1\n",
    "            maxitr = 10\n",
    "            dfrgtrs = rp.defragTrees_prep(ds_container=tt_dfrgtrs, meta_data=meta_data, forest=rf, \n",
    "                                            Kmax=Kmax, restart=restart, maxitr=maxitr,\n",
    "                                            identifier='defragTrees', save_path=save_path)\n",
    "            \n",
    "                        \n",
    "            rp.defragTrees_benchmark(forest=rf, ds_container=tt_dfrgtrs, meta_data=meta_data, dfrgtrs=dfrgtrs,\n",
    "                                    batch_size=batch_size, n_instances=n_instances,\n",
    "                                    save_path=save_path, dataset_name=d_constructor.__name__,\n",
    "                                    random_state=random_state)\n",
    "            \n",
    "\n",
    "            "
   ]
  },
  {
   "cell_type": "code",
   "execution_count": null,
   "metadata": {},
   "outputs": [],
   "source": []
  }
 ],
 "metadata": {
  "kernelspec": {
   "display_name": "Python 3",
   "language": "python",
   "name": "python3"
  },
  "language_info": {
   "codemirror_mode": {
    "name": "ipython",
    "version": 3
   },
   "file_extension": ".py",
   "mimetype": "text/x-python",
   "name": "python",
   "nbconvert_exporter": "python",
   "pygments_lexer": "ipython3",
   "version": "3.6.5"
  }
 },
 "nbformat": 4,
 "nbformat_minor": 2
}
