{
 "cells": [
  {
   "cell_type": "markdown",
   "metadata": {},
   "source": [
    "# prologue"
   ]
  },
  {
   "cell_type": "markdown",
   "metadata": {},
   "source": [
    "### set up notebook and load package"
   ]
  },
  {
   "cell_type": "code",
   "execution_count": 1,
   "metadata": {},
   "outputs": [],
   "source": [
    "# for notebook plotting\n",
    "%matplotlib inline \n",
    "\n",
    "# load what we need\n",
    "import numpy as np\n",
    "import CHIRPS.datasets as ds\n",
    "import CHIRPS.reproducible as rp\n",
    "from CHIRPS.routines import extend_path\n",
    "\n",
    "# demo datasets that ship with package. all from UCI unless stated otherwise\n",
    "# ds.adult_data, ds.adult_samp_data, ds.adult_small_samp_data Large dataset ships with manageable sub samples\n",
    "# ds.bankmark_data, ds.bankmark_samp_data\n",
    "# ds.car_data\n",
    "# ds.cardio_data this is the cardiotocography dataset\n",
    "# ds.credit_data\n",
    "# ds.german_data\n",
    "# ds.lending_data, ds.lending_samp_data, ds.lending_small_samp_data, ds.lending_tiny_samp_data from Kaggle. see datasets_from_source file for links\n",
    "# ds.nursery_data, ds.nursery_samp_data\n",
    "# ds.rcdv_data, ds.rcdv_samp_data from US government see datasets_from_source file for links"
   ]
  },
  {
   "cell_type": "markdown",
   "metadata": {},
   "source": [
    "### common config - can be ommitted if defaults are OK"
   ]
  },
  {
   "cell_type": "code",
   "execution_count": 2,
   "metadata": {},
   "outputs": [],
   "source": [
    "# project_dir = 'V:\\\\whiteboxing\\\\tests' # defaults to a directory \"whiteboxing\" in the working directory\n",
    "project_dir = 'C:\\\\Users\\\\Crutt\\\\Documents\\\\whiteboxing\\\\tests'\n",
    "random_state_splits = 123 # one off for splitting the data into test / train"
   ]
  },
  {
   "cell_type": "markdown",
   "metadata": {},
   "source": [
    "# data management"
   ]
  },
  {
   "cell_type": "markdown",
   "metadata": {},
   "source": [
    "### datasets"
   ]
  },
  {
   "cell_type": "markdown",
   "metadata": {},
   "source": [
    "Several datasets are available as pre-prepared containers that hold the data and some meta-data that is used in the algorithm\n",
    "Any dataset can be turned into a container by invoking the constructor found in the file structures.py"
   ]
  },
  {
   "cell_type": "code",
   "execution_count": 3,
   "metadata": {},
   "outputs": [
    {
     "data": {
      "text/plain": [
       "[<function CHIRPS.datasets.adult_small_samp(random_state=123, project_dir=None)>,\n",
       " <function CHIRPS.datasets.bankmark_samp(random_state=123, project_dir=None)>,\n",
       " <function CHIRPS.datasets.car(random_state=123, project_dir=None)>,\n",
       " <function CHIRPS.datasets.cardio(random_state=123, project_dir=None)>,\n",
       " <function CHIRPS.datasets.credit(random_state=123, project_dir=None)>,\n",
       " <function CHIRPS.datasets.german(random_state=123, project_dir=None)>,\n",
       " <function CHIRPS.datasets.lending_tiny_samp(random_state=123, project_dir=None)>,\n",
       " <function CHIRPS.datasets.nursery_samp(random_state=123, project_dir=None)>,\n",
       " <function CHIRPS.datasets.rcdv_samp(random_state=123, project_dir=None)>]"
      ]
     },
     "execution_count": 3,
     "metadata": {},
     "output_type": "execute_result"
    }
   ],
   "source": [
    "# datasets might be down-sampled to make them easier to work with\n",
    "# the full sets are available too\n",
    "# this is a list of constructors that will be used in the benchmarking\n",
    "rp.datasets"
   ]
  },
  {
   "cell_type": "code",
   "execution_count": 4,
   "metadata": {},
   "outputs": [
    {
     "data": {
      "text/plain": [
       "<CHIRPS.structures.data_container at 0x180e75dae10>"
      ]
     },
     "execution_count": 4,
     "metadata": {},
     "output_type": "execute_result"
    }
   ],
   "source": [
    "# example of one dataset\n",
    "# note: random_state propagates through other functions and is easily updated to allow alternative runs\n",
    "ds.cardio(random_state=123, project_dir=project_dir)"
   ]
  },
  {
   "cell_type": "markdown",
   "metadata": {},
   "source": [
    "### standardising train-test splitting\n",
    "Some methods are not available in Python. We want to maintain the same dataset splits no matter which platform. So, the train test data is split with the one-time random seed and the splits are saved to csv in the project folders."
   ]
  },
  {
   "cell_type": "code",
   "execution_count": 5,
   "metadata": {
    "scrolled": false
   },
   "outputs": [
    {
     "name": "stderr",
     "output_type": "stream",
     "text": [
      "C:\\Users\\Crutt\\Anaconda3\\envs\\B3\\lib\\site-packages\\sklearn\\preprocessing\\_encoders.py:414: FutureWarning: The handling of integer data will change in version 0.22. Currently, the categories are determined based on the range [0, max(values)], while in the future they will be determined based on the unique values.\n",
      "If you want the future behaviour and silence this warning, you can specify \"categories='auto'\".\n",
      "In case you used a LabelEncoder before this OneHotEncoder to convert the categories to integers, then you can now use the OneHotEncoder directly.\n",
      "  warnings.warn(msg, FutureWarning)\n",
      "C:\\Users\\Crutt\\Documents\\GitHub\\explain_te\\CHIRPS\\structures.py:190: FutureWarning: The signature of `Series.to_csv` was aligned to that of `DataFrame.to_csv`, and argument 'path' will be renamed to 'path_or_buf'.\n",
      "  self.y_train.to_csv(path = save_path + 'y_train.csv')\n",
      "C:\\Users\\Crutt\\Documents\\GitHub\\explain_te\\CHIRPS\\structures.py:190: FutureWarning: The signature of `Series.to_csv` was aligned to that of `DataFrame.to_csv`, and argument 'header' will change its default value from False to True: please pass an explicit value to suppress this warning.\n",
      "  self.y_train.to_csv(path = save_path + 'y_train.csv')\n",
      "C:\\Users\\Crutt\\Documents\\GitHub\\explain_te\\CHIRPS\\structures.py:192: FutureWarning: The signature of `Series.to_csv` was aligned to that of `DataFrame.to_csv`, and argument 'path' will be renamed to 'path_or_buf'.\n",
      "  self.y_test.to_csv(path = save_path + 'y_test.csv')\n",
      "C:\\Users\\Crutt\\Documents\\GitHub\\explain_te\\CHIRPS\\structures.py:192: FutureWarning: The signature of `Series.to_csv` was aligned to that of `DataFrame.to_csv`, and argument 'header' will change its default value from False to True: please pass an explicit value to suppress this warning.\n",
      "  self.y_test.to_csv(path = save_path + 'y_test.csv')\n",
      "C:\\Users\\Crutt\\Documents\\GitHub\\explain_te\\CHIRPS\\structures.py:177: FutureWarning: The signature of `Series.to_csv` was aligned to that of `DataFrame.to_csv`, and argument 'path' will be renamed to 'path_or_buf'.\n",
      "  Series(self.train_index).to_csv(path = save_path + 'train_index.csv', index=False)\n",
      "C:\\Users\\Crutt\\Documents\\GitHub\\explain_te\\CHIRPS\\structures.py:177: FutureWarning: The signature of `Series.to_csv` was aligned to that of `DataFrame.to_csv`, and argument 'header' will change its default value from False to True: please pass an explicit value to suppress this warning.\n",
      "  Series(self.train_index).to_csv(path = save_path + 'train_index.csv', index=False)\n",
      "C:\\Users\\Crutt\\Documents\\GitHub\\explain_te\\CHIRPS\\structures.py:178: FutureWarning: The signature of `Series.to_csv` was aligned to that of `DataFrame.to_csv`, and argument 'path' will be renamed to 'path_or_buf'.\n",
      "  Series(self.test_index).to_csv(path = save_path + 'test_index.csv', index=False)\n",
      "C:\\Users\\Crutt\\Documents\\GitHub\\explain_te\\CHIRPS\\structures.py:178: FutureWarning: The signature of `Series.to_csv` was aligned to that of `DataFrame.to_csv`, and argument 'header' will change its default value from False to True: please pass an explicit value to suppress this warning.\n",
      "  Series(self.test_index).to_csv(path = save_path + 'test_index.csv', index=False)\n",
      "C:\\Users\\Crutt\\Anaconda3\\envs\\B3\\lib\\site-packages\\sklearn\\preprocessing\\_encoders.py:414: FutureWarning: The handling of integer data will change in version 0.22. Currently, the categories are determined based on the range [0, max(values)], while in the future they will be determined based on the unique values.\n",
      "If you want the future behaviour and silence this warning, you can specify \"categories='auto'\".\n",
      "In case you used a LabelEncoder before this OneHotEncoder to convert the categories to integers, then you can now use the OneHotEncoder directly.\n",
      "  warnings.warn(msg, FutureWarning)\n",
      "C:\\Users\\Crutt\\Documents\\GitHub\\explain_te\\CHIRPS\\structures.py:190: FutureWarning: The signature of `Series.to_csv` was aligned to that of `DataFrame.to_csv`, and argument 'path' will be renamed to 'path_or_buf'.\n",
      "  self.y_train.to_csv(path = save_path + 'y_train.csv')\n",
      "C:\\Users\\Crutt\\Documents\\GitHub\\explain_te\\CHIRPS\\structures.py:190: FutureWarning: The signature of `Series.to_csv` was aligned to that of `DataFrame.to_csv`, and argument 'header' will change its default value from False to True: please pass an explicit value to suppress this warning.\n",
      "  self.y_train.to_csv(path = save_path + 'y_train.csv')\n",
      "C:\\Users\\Crutt\\Documents\\GitHub\\explain_te\\CHIRPS\\structures.py:192: FutureWarning: The signature of `Series.to_csv` was aligned to that of `DataFrame.to_csv`, and argument 'path' will be renamed to 'path_or_buf'.\n",
      "  self.y_test.to_csv(path = save_path + 'y_test.csv')\n",
      "C:\\Users\\Crutt\\Documents\\GitHub\\explain_te\\CHIRPS\\structures.py:192: FutureWarning: The signature of `Series.to_csv` was aligned to that of `DataFrame.to_csv`, and argument 'header' will change its default value from False to True: please pass an explicit value to suppress this warning.\n",
      "  self.y_test.to_csv(path = save_path + 'y_test.csv')\n",
      "C:\\Users\\Crutt\\Documents\\GitHub\\explain_te\\CHIRPS\\structures.py:177: FutureWarning: The signature of `Series.to_csv` was aligned to that of `DataFrame.to_csv`, and argument 'path' will be renamed to 'path_or_buf'.\n",
      "  Series(self.train_index).to_csv(path = save_path + 'train_index.csv', index=False)\n",
      "C:\\Users\\Crutt\\Documents\\GitHub\\explain_te\\CHIRPS\\structures.py:177: FutureWarning: The signature of `Series.to_csv` was aligned to that of `DataFrame.to_csv`, and argument 'header' will change its default value from False to True: please pass an explicit value to suppress this warning.\n",
      "  Series(self.train_index).to_csv(path = save_path + 'train_index.csv', index=False)\n",
      "C:\\Users\\Crutt\\Documents\\GitHub\\explain_te\\CHIRPS\\structures.py:178: FutureWarning: The signature of `Series.to_csv` was aligned to that of `DataFrame.to_csv`, and argument 'path' will be renamed to 'path_or_buf'.\n",
      "  Series(self.test_index).to_csv(path = save_path + 'test_index.csv', index=False)\n",
      "C:\\Users\\Crutt\\Documents\\GitHub\\explain_te\\CHIRPS\\structures.py:178: FutureWarning: The signature of `Series.to_csv` was aligned to that of `DataFrame.to_csv`, and argument 'header' will change its default value from False to True: please pass an explicit value to suppress this warning.\n",
      "  Series(self.test_index).to_csv(path = save_path + 'test_index.csv', index=False)\n",
      "C:\\Users\\Crutt\\Anaconda3\\envs\\B3\\lib\\site-packages\\sklearn\\preprocessing\\_encoders.py:414: FutureWarning: The handling of integer data will change in version 0.22. Currently, the categories are determined based on the range [0, max(values)], while in the future they will be determined based on the unique values.\n",
      "If you want the future behaviour and silence this warning, you can specify \"categories='auto'\".\n",
      "In case you used a LabelEncoder before this OneHotEncoder to convert the categories to integers, then you can now use the OneHotEncoder directly.\n",
      "  warnings.warn(msg, FutureWarning)\n",
      "C:\\Users\\Crutt\\Documents\\GitHub\\explain_te\\CHIRPS\\structures.py:190: FutureWarning: The signature of `Series.to_csv` was aligned to that of `DataFrame.to_csv`, and argument 'path' will be renamed to 'path_or_buf'.\n",
      "  self.y_train.to_csv(path = save_path + 'y_train.csv')\n",
      "C:\\Users\\Crutt\\Documents\\GitHub\\explain_te\\CHIRPS\\structures.py:190: FutureWarning: The signature of `Series.to_csv` was aligned to that of `DataFrame.to_csv`, and argument 'header' will change its default value from False to True: please pass an explicit value to suppress this warning.\n",
      "  self.y_train.to_csv(path = save_path + 'y_train.csv')\n",
      "C:\\Users\\Crutt\\Documents\\GitHub\\explain_te\\CHIRPS\\structures.py:192: FutureWarning: The signature of `Series.to_csv` was aligned to that of `DataFrame.to_csv`, and argument 'path' will be renamed to 'path_or_buf'.\n",
      "  self.y_test.to_csv(path = save_path + 'y_test.csv')\n",
      "C:\\Users\\Crutt\\Documents\\GitHub\\explain_te\\CHIRPS\\structures.py:192: FutureWarning: The signature of `Series.to_csv` was aligned to that of `DataFrame.to_csv`, and argument 'header' will change its default value from False to True: please pass an explicit value to suppress this warning.\n",
      "  self.y_test.to_csv(path = save_path + 'y_test.csv')\n",
      "C:\\Users\\Crutt\\Documents\\GitHub\\explain_te\\CHIRPS\\structures.py:177: FutureWarning: The signature of `Series.to_csv` was aligned to that of `DataFrame.to_csv`, and argument 'path' will be renamed to 'path_or_buf'.\n",
      "  Series(self.train_index).to_csv(path = save_path + 'train_index.csv', index=False)\n",
      "C:\\Users\\Crutt\\Documents\\GitHub\\explain_te\\CHIRPS\\structures.py:177: FutureWarning: The signature of `Series.to_csv` was aligned to that of `DataFrame.to_csv`, and argument 'header' will change its default value from False to True: please pass an explicit value to suppress this warning.\n",
      "  Series(self.train_index).to_csv(path = save_path + 'train_index.csv', index=False)\n",
      "C:\\Users\\Crutt\\Documents\\GitHub\\explain_te\\CHIRPS\\structures.py:178: FutureWarning: The signature of `Series.to_csv` was aligned to that of `DataFrame.to_csv`, and argument 'path' will be renamed to 'path_or_buf'.\n",
      "  Series(self.test_index).to_csv(path = save_path + 'test_index.csv', index=False)\n",
      "C:\\Users\\Crutt\\Documents\\GitHub\\explain_te\\CHIRPS\\structures.py:178: FutureWarning: The signature of `Series.to_csv` was aligned to that of `DataFrame.to_csv`, and argument 'header' will change its default value from False to True: please pass an explicit value to suppress this warning.\n",
      "  Series(self.test_index).to_csv(path = save_path + 'test_index.csv', index=False)\n"
     ]
    },
    {
     "name": "stderr",
     "output_type": "stream",
     "text": [
      "C:\\Users\\Crutt\\Documents\\GitHub\\explain_te\\CHIRPS\\structures.py:190: FutureWarning: The signature of `Series.to_csv` was aligned to that of `DataFrame.to_csv`, and argument 'path' will be renamed to 'path_or_buf'.\n",
      "  self.y_train.to_csv(path = save_path + 'y_train.csv')\n",
      "C:\\Users\\Crutt\\Documents\\GitHub\\explain_te\\CHIRPS\\structures.py:190: FutureWarning: The signature of `Series.to_csv` was aligned to that of `DataFrame.to_csv`, and argument 'header' will change its default value from False to True: please pass an explicit value to suppress this warning.\n",
      "  self.y_train.to_csv(path = save_path + 'y_train.csv')\n",
      "C:\\Users\\Crutt\\Documents\\GitHub\\explain_te\\CHIRPS\\structures.py:192: FutureWarning: The signature of `Series.to_csv` was aligned to that of `DataFrame.to_csv`, and argument 'path' will be renamed to 'path_or_buf'.\n",
      "  self.y_test.to_csv(path = save_path + 'y_test.csv')\n",
      "C:\\Users\\Crutt\\Documents\\GitHub\\explain_te\\CHIRPS\\structures.py:192: FutureWarning: The signature of `Series.to_csv` was aligned to that of `DataFrame.to_csv`, and argument 'header' will change its default value from False to True: please pass an explicit value to suppress this warning.\n",
      "  self.y_test.to_csv(path = save_path + 'y_test.csv')\n",
      "C:\\Users\\Crutt\\Documents\\GitHub\\explain_te\\CHIRPS\\structures.py:177: FutureWarning: The signature of `Series.to_csv` was aligned to that of `DataFrame.to_csv`, and argument 'path' will be renamed to 'path_or_buf'.\n",
      "  Series(self.train_index).to_csv(path = save_path + 'train_index.csv', index=False)\n",
      "C:\\Users\\Crutt\\Documents\\GitHub\\explain_te\\CHIRPS\\structures.py:177: FutureWarning: The signature of `Series.to_csv` was aligned to that of `DataFrame.to_csv`, and argument 'header' will change its default value from False to True: please pass an explicit value to suppress this warning.\n",
      "  Series(self.train_index).to_csv(path = save_path + 'train_index.csv', index=False)\n",
      "C:\\Users\\Crutt\\Documents\\GitHub\\explain_te\\CHIRPS\\structures.py:178: FutureWarning: The signature of `Series.to_csv` was aligned to that of `DataFrame.to_csv`, and argument 'path' will be renamed to 'path_or_buf'.\n",
      "  Series(self.test_index).to_csv(path = save_path + 'test_index.csv', index=False)\n",
      "C:\\Users\\Crutt\\Documents\\GitHub\\explain_te\\CHIRPS\\structures.py:178: FutureWarning: The signature of `Series.to_csv` was aligned to that of `DataFrame.to_csv`, and argument 'header' will change its default value from False to True: please pass an explicit value to suppress this warning.\n",
      "  Series(self.test_index).to_csv(path = save_path + 'test_index.csv', index=False)\n",
      "C:\\Users\\Crutt\\Anaconda3\\envs\\B3\\lib\\site-packages\\sklearn\\preprocessing\\_encoders.py:414: FutureWarning: The handling of integer data will change in version 0.22. Currently, the categories are determined based on the range [0, max(values)], while in the future they will be determined based on the unique values.\n",
      "If you want the future behaviour and silence this warning, you can specify \"categories='auto'\".\n",
      "In case you used a LabelEncoder before this OneHotEncoder to convert the categories to integers, then you can now use the OneHotEncoder directly.\n",
      "  warnings.warn(msg, FutureWarning)\n",
      "C:\\Users\\Crutt\\Documents\\GitHub\\explain_te\\CHIRPS\\structures.py:190: FutureWarning: The signature of `Series.to_csv` was aligned to that of `DataFrame.to_csv`, and argument 'path' will be renamed to 'path_or_buf'.\n",
      "  self.y_train.to_csv(path = save_path + 'y_train.csv')\n",
      "C:\\Users\\Crutt\\Documents\\GitHub\\explain_te\\CHIRPS\\structures.py:190: FutureWarning: The signature of `Series.to_csv` was aligned to that of `DataFrame.to_csv`, and argument 'header' will change its default value from False to True: please pass an explicit value to suppress this warning.\n",
      "  self.y_train.to_csv(path = save_path + 'y_train.csv')\n",
      "C:\\Users\\Crutt\\Documents\\GitHub\\explain_te\\CHIRPS\\structures.py:192: FutureWarning: The signature of `Series.to_csv` was aligned to that of `DataFrame.to_csv`, and argument 'path' will be renamed to 'path_or_buf'.\n",
      "  self.y_test.to_csv(path = save_path + 'y_test.csv')\n",
      "C:\\Users\\Crutt\\Documents\\GitHub\\explain_te\\CHIRPS\\structures.py:192: FutureWarning: The signature of `Series.to_csv` was aligned to that of `DataFrame.to_csv`, and argument 'header' will change its default value from False to True: please pass an explicit value to suppress this warning.\n",
      "  self.y_test.to_csv(path = save_path + 'y_test.csv')\n",
      "C:\\Users\\Crutt\\Documents\\GitHub\\explain_te\\CHIRPS\\structures.py:177: FutureWarning: The signature of `Series.to_csv` was aligned to that of `DataFrame.to_csv`, and argument 'path' will be renamed to 'path_or_buf'.\n",
      "  Series(self.train_index).to_csv(path = save_path + 'train_index.csv', index=False)\n",
      "C:\\Users\\Crutt\\Documents\\GitHub\\explain_te\\CHIRPS\\structures.py:177: FutureWarning: The signature of `Series.to_csv` was aligned to that of `DataFrame.to_csv`, and argument 'header' will change its default value from False to True: please pass an explicit value to suppress this warning.\n",
      "  Series(self.train_index).to_csv(path = save_path + 'train_index.csv', index=False)\n",
      "C:\\Users\\Crutt\\Documents\\GitHub\\explain_te\\CHIRPS\\structures.py:178: FutureWarning: The signature of `Series.to_csv` was aligned to that of `DataFrame.to_csv`, and argument 'path' will be renamed to 'path_or_buf'.\n",
      "  Series(self.test_index).to_csv(path = save_path + 'test_index.csv', index=False)\n",
      "C:\\Users\\Crutt\\Documents\\GitHub\\explain_te\\CHIRPS\\structures.py:178: FutureWarning: The signature of `Series.to_csv` was aligned to that of `DataFrame.to_csv`, and argument 'header' will change its default value from False to True: please pass an explicit value to suppress this warning.\n",
      "  Series(self.test_index).to_csv(path = save_path + 'test_index.csv', index=False)\n",
      "C:\\Users\\Crutt\\Anaconda3\\envs\\B3\\lib\\site-packages\\sklearn\\preprocessing\\_encoders.py:414: FutureWarning: The handling of integer data will change in version 0.22. Currently, the categories are determined based on the range [0, max(values)], while in the future they will be determined based on the unique values.\n",
      "If you want the future behaviour and silence this warning, you can specify \"categories='auto'\".\n",
      "In case you used a LabelEncoder before this OneHotEncoder to convert the categories to integers, then you can now use the OneHotEncoder directly.\n",
      "  warnings.warn(msg, FutureWarning)\n",
      "C:\\Users\\Crutt\\Documents\\GitHub\\explain_te\\CHIRPS\\structures.py:190: FutureWarning: The signature of `Series.to_csv` was aligned to that of `DataFrame.to_csv`, and argument 'path' will be renamed to 'path_or_buf'.\n",
      "  self.y_train.to_csv(path = save_path + 'y_train.csv')\n",
      "C:\\Users\\Crutt\\Documents\\GitHub\\explain_te\\CHIRPS\\structures.py:190: FutureWarning: The signature of `Series.to_csv` was aligned to that of `DataFrame.to_csv`, and argument 'header' will change its default value from False to True: please pass an explicit value to suppress this warning.\n",
      "  self.y_train.to_csv(path = save_path + 'y_train.csv')\n",
      "C:\\Users\\Crutt\\Documents\\GitHub\\explain_te\\CHIRPS\\structures.py:192: FutureWarning: The signature of `Series.to_csv` was aligned to that of `DataFrame.to_csv`, and argument 'path' will be renamed to 'path_or_buf'.\n",
      "  self.y_test.to_csv(path = save_path + 'y_test.csv')\n",
      "C:\\Users\\Crutt\\Documents\\GitHub\\explain_te\\CHIRPS\\structures.py:192: FutureWarning: The signature of `Series.to_csv` was aligned to that of `DataFrame.to_csv`, and argument 'header' will change its default value from False to True: please pass an explicit value to suppress this warning.\n",
      "  self.y_test.to_csv(path = save_path + 'y_test.csv')\n",
      "C:\\Users\\Crutt\\Documents\\GitHub\\explain_te\\CHIRPS\\structures.py:177: FutureWarning: The signature of `Series.to_csv` was aligned to that of `DataFrame.to_csv`, and argument 'path' will be renamed to 'path_or_buf'.\n",
      "  Series(self.train_index).to_csv(path = save_path + 'train_index.csv', index=False)\n",
      "C:\\Users\\Crutt\\Documents\\GitHub\\explain_te\\CHIRPS\\structures.py:177: FutureWarning: The signature of `Series.to_csv` was aligned to that of `DataFrame.to_csv`, and argument 'header' will change its default value from False to True: please pass an explicit value to suppress this warning.\n",
      "  Series(self.train_index).to_csv(path = save_path + 'train_index.csv', index=False)\n",
      "C:\\Users\\Crutt\\Documents\\GitHub\\explain_te\\CHIRPS\\structures.py:178: FutureWarning: The signature of `Series.to_csv` was aligned to that of `DataFrame.to_csv`, and argument 'path' will be renamed to 'path_or_buf'.\n",
      "  Series(self.test_index).to_csv(path = save_path + 'test_index.csv', index=False)\n",
      "C:\\Users\\Crutt\\Documents\\GitHub\\explain_te\\CHIRPS\\structures.py:178: FutureWarning: The signature of `Series.to_csv` was aligned to that of `DataFrame.to_csv`, and argument 'header' will change its default value from False to True: please pass an explicit value to suppress this warning.\n",
      "  Series(self.test_index).to_csv(path = save_path + 'test_index.csv', index=False)\n",
      "C:\\Users\\Crutt\\Anaconda3\\envs\\B3\\lib\\site-packages\\sklearn\\preprocessing\\_encoders.py:414: FutureWarning: The handling of integer data will change in version 0.22. Currently, the categories are determined based on the range [0, max(values)], while in the future they will be determined based on the unique values.\n",
      "If you want the future behaviour and silence this warning, you can specify \"categories='auto'\".\n",
      "In case you used a LabelEncoder before this OneHotEncoder to convert the categories to integers, then you can now use the OneHotEncoder directly.\n",
      "  warnings.warn(msg, FutureWarning)\n"
     ]
    },
    {
     "name": "stderr",
     "output_type": "stream",
     "text": [
      "C:\\Users\\Crutt\\Documents\\GitHub\\explain_te\\CHIRPS\\structures.py:190: FutureWarning: The signature of `Series.to_csv` was aligned to that of `DataFrame.to_csv`, and argument 'path' will be renamed to 'path_or_buf'.\n",
      "  self.y_train.to_csv(path = save_path + 'y_train.csv')\n",
      "C:\\Users\\Crutt\\Documents\\GitHub\\explain_te\\CHIRPS\\structures.py:190: FutureWarning: The signature of `Series.to_csv` was aligned to that of `DataFrame.to_csv`, and argument 'header' will change its default value from False to True: please pass an explicit value to suppress this warning.\n",
      "  self.y_train.to_csv(path = save_path + 'y_train.csv')\n",
      "C:\\Users\\Crutt\\Documents\\GitHub\\explain_te\\CHIRPS\\structures.py:192: FutureWarning: The signature of `Series.to_csv` was aligned to that of `DataFrame.to_csv`, and argument 'path' will be renamed to 'path_or_buf'.\n",
      "  self.y_test.to_csv(path = save_path + 'y_test.csv')\n",
      "C:\\Users\\Crutt\\Documents\\GitHub\\explain_te\\CHIRPS\\structures.py:192: FutureWarning: The signature of `Series.to_csv` was aligned to that of `DataFrame.to_csv`, and argument 'header' will change its default value from False to True: please pass an explicit value to suppress this warning.\n",
      "  self.y_test.to_csv(path = save_path + 'y_test.csv')\n",
      "C:\\Users\\Crutt\\Documents\\GitHub\\explain_te\\CHIRPS\\structures.py:177: FutureWarning: The signature of `Series.to_csv` was aligned to that of `DataFrame.to_csv`, and argument 'path' will be renamed to 'path_or_buf'.\n",
      "  Series(self.train_index).to_csv(path = save_path + 'train_index.csv', index=False)\n",
      "C:\\Users\\Crutt\\Documents\\GitHub\\explain_te\\CHIRPS\\structures.py:177: FutureWarning: The signature of `Series.to_csv` was aligned to that of `DataFrame.to_csv`, and argument 'header' will change its default value from False to True: please pass an explicit value to suppress this warning.\n",
      "  Series(self.train_index).to_csv(path = save_path + 'train_index.csv', index=False)\n",
      "C:\\Users\\Crutt\\Documents\\GitHub\\explain_te\\CHIRPS\\structures.py:178: FutureWarning: The signature of `Series.to_csv` was aligned to that of `DataFrame.to_csv`, and argument 'path' will be renamed to 'path_or_buf'.\n",
      "  Series(self.test_index).to_csv(path = save_path + 'test_index.csv', index=False)\n",
      "C:\\Users\\Crutt\\Documents\\GitHub\\explain_te\\CHIRPS\\structures.py:178: FutureWarning: The signature of `Series.to_csv` was aligned to that of `DataFrame.to_csv`, and argument 'header' will change its default value from False to True: please pass an explicit value to suppress this warning.\n",
      "  Series(self.test_index).to_csv(path = save_path + 'test_index.csv', index=False)\n",
      "C:\\Users\\Crutt\\Anaconda3\\envs\\B3\\lib\\site-packages\\sklearn\\preprocessing\\_encoders.py:414: FutureWarning: The handling of integer data will change in version 0.22. Currently, the categories are determined based on the range [0, max(values)], while in the future they will be determined based on the unique values.\n",
      "If you want the future behaviour and silence this warning, you can specify \"categories='auto'\".\n",
      "In case you used a LabelEncoder before this OneHotEncoder to convert the categories to integers, then you can now use the OneHotEncoder directly.\n",
      "  warnings.warn(msg, FutureWarning)\n",
      "C:\\Users\\Crutt\\Documents\\GitHub\\explain_te\\CHIRPS\\structures.py:190: FutureWarning: The signature of `Series.to_csv` was aligned to that of `DataFrame.to_csv`, and argument 'path' will be renamed to 'path_or_buf'.\n",
      "  self.y_train.to_csv(path = save_path + 'y_train.csv')\n",
      "C:\\Users\\Crutt\\Documents\\GitHub\\explain_te\\CHIRPS\\structures.py:190: FutureWarning: The signature of `Series.to_csv` was aligned to that of `DataFrame.to_csv`, and argument 'header' will change its default value from False to True: please pass an explicit value to suppress this warning.\n",
      "  self.y_train.to_csv(path = save_path + 'y_train.csv')\n",
      "C:\\Users\\Crutt\\Documents\\GitHub\\explain_te\\CHIRPS\\structures.py:192: FutureWarning: The signature of `Series.to_csv` was aligned to that of `DataFrame.to_csv`, and argument 'path' will be renamed to 'path_or_buf'.\n",
      "  self.y_test.to_csv(path = save_path + 'y_test.csv')\n",
      "C:\\Users\\Crutt\\Documents\\GitHub\\explain_te\\CHIRPS\\structures.py:192: FutureWarning: The signature of `Series.to_csv` was aligned to that of `DataFrame.to_csv`, and argument 'header' will change its default value from False to True: please pass an explicit value to suppress this warning.\n",
      "  self.y_test.to_csv(path = save_path + 'y_test.csv')\n",
      "C:\\Users\\Crutt\\Documents\\GitHub\\explain_te\\CHIRPS\\structures.py:177: FutureWarning: The signature of `Series.to_csv` was aligned to that of `DataFrame.to_csv`, and argument 'path' will be renamed to 'path_or_buf'.\n",
      "  Series(self.train_index).to_csv(path = save_path + 'train_index.csv', index=False)\n",
      "C:\\Users\\Crutt\\Documents\\GitHub\\explain_te\\CHIRPS\\structures.py:177: FutureWarning: The signature of `Series.to_csv` was aligned to that of `DataFrame.to_csv`, and argument 'header' will change its default value from False to True: please pass an explicit value to suppress this warning.\n",
      "  Series(self.train_index).to_csv(path = save_path + 'train_index.csv', index=False)\n",
      "C:\\Users\\Crutt\\Documents\\GitHub\\explain_te\\CHIRPS\\structures.py:178: FutureWarning: The signature of `Series.to_csv` was aligned to that of `DataFrame.to_csv`, and argument 'path' will be renamed to 'path_or_buf'.\n",
      "  Series(self.test_index).to_csv(path = save_path + 'test_index.csv', index=False)\n",
      "C:\\Users\\Crutt\\Documents\\GitHub\\explain_te\\CHIRPS\\structures.py:178: FutureWarning: The signature of `Series.to_csv` was aligned to that of `DataFrame.to_csv`, and argument 'header' will change its default value from False to True: please pass an explicit value to suppress this warning.\n",
      "  Series(self.test_index).to_csv(path = save_path + 'test_index.csv', index=False)\n"
     ]
    },
    {
     "name": "stdout",
     "output_type": "stream",
     "text": [
      "Exported train-test data for 9 datasets.\n"
     ]
    }
   ],
   "source": [
    "# writes external files\n",
    "rp.export_data_splits(datasets=rp.datasets, project_dir=project_dir, random_state_splits=random_state_splits)"
   ]
  },
  {
   "cell_type": "markdown",
   "metadata": {},
   "source": [
    "# Experimental Runs\n",
    "Loop through datasets, actioning the functions in the package to execute a round of experiments and test evaluations."
   ]
  },
  {
   "cell_type": "markdown",
   "metadata": {},
   "source": [
    "## 0. Optional Memory and Computation Cost Management\n",
    "CHIRPS is time economical but memory intensive to compute for lots of instances at once.\n"
   ]
  },
  {
   "cell_type": "markdown",
   "metadata": {},
   "source": [
    "### Parallel processing\n",
    "Scikit takes care of parallel for the RF construction.\n",
    "We can parallelise the following:\n",
    "1. the walk of instances down each tree to collect the paths. The paths for many instances are returned in a single array. This parallelises across trees.\n",
    "2. building CHIRPS and the final explanation (rule). This is a search optimisation and we can parallelise each instance.\n",
    "\n",
    "This is expecially effective when running batches. For single instances, set both to false to avoid spinning up the parallel infrastructure."
   ]
  },
  {
   "cell_type": "code",
   "execution_count": 6,
   "metadata": {},
   "outputs": [],
   "source": [
    "# control for async processes - each tree walk can be done in its own core\n",
    "# and so can each explanation (e.g. rule conditions merge by hill-climbing)\n",
    "# these will default to false if not passed explicitly to the explainer function\n",
    "# on a multi-core machine there should be a good speed up for large batches\n",
    "# when the batch_size advantage exceeds the overhead of setting up multi-processing\n",
    "# timings will be printed to screen so you can see if it helps\n",
    "forest_walk_async=True\n",
    "chirps_explanation_async=True"
   ]
  },
  {
   "cell_type": "markdown",
   "metadata": {},
   "source": [
    "### Preparing unseen data\n",
    "\n",
    "Again note:\n",
    "test set has never been \"seen\" by random forest during training\n",
    "test set has been only used to assess model (random forest) accuracy - no additional tuning after this\n",
    "test set has not be involved in generating the explainer"
   ]
  },
  {
   "cell_type": "markdown",
   "metadata": {},
   "source": [
    "#### Batching\n",
    "The memory space requirements for all the paths can be reduced by dividing the test set into batches. However this does take longer as there is an overhead to instantiate all the required objects, especially if coupled with parallel processing.\n",
    "Best compromise could be a small number of larger batches."
   ]
  },
  {
   "cell_type": "code",
   "execution_count": 7,
   "metadata": {},
   "outputs": [],
   "source": [
    "# the number of instances can be controlled by\n",
    "# n_instances - how many instances to explain at one time\n",
    "# set these larger than the size of the test set and it will simply run the whole test set in one batch. Better do option 2\n",
    "n_instances = 10000"
   ]
  },
  {
   "cell_type": "markdown",
   "metadata": {},
   "source": [
    "### 1. Data and Forest prep\n",
    "Use the random state splits to do a one-off data split.\n",
    "Fit the RF to training data, using the iterating random state.\n",
    "Save the performance metrics on the test set for later review.\n",
    "\n",
    "### 2. Prepare Unseen Data and Predictions\n",
    "Important to note:\n",
    "Test set never \"seen\" by RF during training.\n",
    "test set not involved in generating the explainer.\n",
    "Test set used to evaluate model (random forest) accuracy beyond OOBE scores - no additional tuning based on these results.\n",
    "Test set used to evaluate explanation scores by leave-one-out method removing the specific instance we're explaining.\n",
    "\n",
    "Important to note:\n",
    "We will explain predictions directly from the trained RF. Explanation system makes no compromise on model accuracy.\n",
    "\n",
    "### 3. CHIRPS algorithm\n",
    "1. Extract tree prediction paths\n",
    "2. Freqent pattern mining of paths\n",
    "3. Score and sort mined path segments\n",
    "4. Merge path segments into one rule\n",
    "\n",
    "#### CHIRPS 1\n",
    "Fit a forest_walker object to the dataset and decision forest. This is a wrapper that will extract the paths of all the given instances. Its main method delivers the instance paths for the remaining steps of the algorithm as a new object: a batch_paths_container. It can also report interesting statistics (treating the forest as a set of random tree-structured variables).\n",
    "\n",
    "#### CHIRPS 2-4\n",
    "A batch_CHIRPS_container is fitted with the batch_paths_container returned by the forest walker, and with a sample of data. For CHIRPS, we prefer a large sample. The whole training set or other representative sample will do. This is a wrapper object will execute steps 2-4 on all each the instance-paths in the batch_paths_container.\n",
    "\n",
    "Important to note:\n",
    "true_divide warnings are OK! It just means that a continuous variable is unbounded on one side i.e. no greater/less than inequality is used in the specific CHIRPS explanation.\n",
    "\n",
    "Important note: \n",
    "Here we are using the training set to create the explainers. We could use a different dataset as long as it is representative of the training set that built the decision forest. Most important that we don't use the dataset that we wish to explain, so never use the test set, for example.\n",
    "\n",
    "### 4. Evaluating CHIRPS Explanations\n",
    "Test set has been used to create an explainer *one instance at a time* and the rest of test set was not \"seen\" during this construction. To score each explainer, we use test set, leaving out the individual instance being explained. The data_split_container (tt) has a convenience funtion for doing this. All the results are saved to csv files in the project directory."
   ]
  },
  {
   "cell_type": "code",
   "execution_count": 8,
   "metadata": {
    "scrolled": false
   },
   "outputs": [],
   "source": [
    "# what to run? Set to True\n",
    "run_CHIRPS = False\n",
    "CHIRPS_sensitivity = False\n",
    "\n",
    "run_CHIRPS_ada = True\n",
    "CHIRPS_sensada = False\n",
    "\n",
    "run_Anchors = False\n",
    "run_defragTrees = False\n",
    "\n",
    "# CHIRPS default set up\n",
    "merging_bootstraps = 20\n",
    "pruning_bootstraps = 20\n",
    "\n",
    "# CHIRPS RF default set up\n",
    "if run_CHIRPS:\n",
    "    model = 'RandomForest'\n",
    "    delta = 0.1\n",
    "    tuning_grid = None\n",
    "    \n",
    "    kwargs_default = {'support_paths' : 0.1, 'alpha_paths' : 0.5, 'disc_path_bins' : 4,\n",
    "                     'score_func' : 1, 'weighting' : 'chisq',\n",
    "                     'merging_bootstraps' : merging_bootstraps,\n",
    "                     'pruning_bootstraps' : pruning_bootstraps, 'delta' : delta}\n",
    "\n",
    "# CHIRPS RF Sensitivity set up\n",
    "if CHIRPS_sensitivity:\n",
    "    path_ext = 'sensitivity'\n",
    "    alpha_paths = np.tile([0.9, 0.5, 0.1], 24)\n",
    "    disc_path_bins = np.tile(np.repeat([4, 8], 3), 12)\n",
    "    score_func = np.tile(np.repeat([5, 3, 1], 6), 4)\n",
    "    support_paths = np.tile(np.repeat([0.1, 0.05], 18), 2)\n",
    "    weighting = np.repeat(['chisq', 'nothing'], 36)\n",
    "\n",
    "    kwargs_grid = {k : {'alpha_paths' : ap, 'disc_path_bins' : dpb, 'score_func' : sf, 'weighting' : w, 'support_paths' : sp,\n",
    "                       'merging_bootstraps' : merging_bootstraps, 'pruning_bootstraps' : pruning_bootstraps, 'delta' : delta} \n",
    "        for k, ap, dpb, sf, w, sp in zip(range(72), alpha_paths, disc_path_bins, score_func, weighting, support_paths)}\n",
    "\n",
    "# CHIRPS Ada default set up\n",
    "if run_CHIRPS_ada:\n",
    "    model='AdaBoost'\n",
    "    algo = 'SAMME'\n",
    "    max_depth = [i for i in range(1, 5)]\n",
    "    tuning_grid = {'base_estimator' : [rp.DecisionTreeClassifier(max_depth=d) for d in max_depth],\n",
    "                            'n_estimators': [(i + 1) * 200 for i in range(8)], 'algorithm': [algo]}\n",
    "\n",
    "    delta = 0.1\n",
    "    kwargs_default = {'support_paths' : 0.05, 'alpha_paths' : 0.0, 'disc_path_bins' : 4,\n",
    "                     'score_func' : 1, 'weighting' : 'chisq',\n",
    "                     'merging_bootstraps' : merging_bootstraps,\n",
    "                     'pruning_bootstraps' : pruning_bootstraps, 'delta' : delta}\n",
    "\n",
    "# CHIRPS Ada Sensitivity set up\n",
    "if CHIRPS_sensada:\n",
    "    path_ext = 'sensada'\n",
    "    alpha_paths = np.tile([0.9, 0.5, 0.1], 24)\n",
    "    disc_path_bins = np.tile(np.repeat([4, 8], 3), 12)\n",
    "    score_func = np.tile(np.repeat([5, 3, 1], 6), 4)\n",
    "    support_paths = np.tile(np.repeat([0.1, 0.05], 18), 2)\n",
    "    weighting = np.repeat(['chisq', 'nothing'], 36)\n",
    "\n",
    "    kwargs_grid = {k : {'alpha_paths' : ap, 'disc_path_bins' : dpb, 'score_func' : sf, 'weighting' : w, 'support_paths' : sp,\n",
    "                       'merging_bootstraps' : merging_bootstraps, 'pruning_bootstraps' : pruning_bootstraps, 'delta' : delta} \n",
    "        for k, ap, dpb, sf, w, sp in zip(range(72), alpha_paths, disc_path_bins, score_func, weighting, support_paths)}"
   ]
  },
  {
   "cell_type": "code",
   "execution_count": 9,
   "metadata": {
    "scrolled": false
   },
   "outputs": [
    {
     "name": "stdout",
     "output_type": "stream",
     "text": [
      "Running experiment for rcdv_samp with random state = 123\n",
      "\n",
      "Split data into main train-test and build RF\n",
      "using previous tuning parameters\n",
      "Best OOB Accuracy Estimate during tuning: 0.6573\n",
      "Best parameters: {'algorithm': 'SAMME', 'base_estimator': DecisionTreeClassifier(class_weight=None, criterion='gini', max_depth=2,\n",
      "                       max_features=None, max_leaf_nodes=None,\n",
      "                       min_impurity_decrease=0.0, min_impurity_split=None,\n",
      "                       min_samples_leaf=1, min_samples_split=2,\n",
      "                       min_weight_fraction_leaf=0.0, presort=False,\n",
      "                       random_state=None, splitter='best'), 'n_estimators': 400, 'random_state': 123}\n",
      "\n",
      "\n",
      "Prepare Unseen Data and Predictions for CHIRPS benchmark\n",
      "Walking forest for 566 instances... (please wait)\n",
      "Forest Walk with async = True\n",
      "Forest Walk time elapsed: 14.3608 seconds\n",
      "\n",
      "Running CHIRPS on a batch of 566 instances... (please wait)\n",
      "CHIRPS time elapsed: 1325.8904 seconds\n",
      "CHIRPS with async = True\n",
      "\n",
      "Evaluating found explanations\n",
      "C:\\Users\\Crutt\\Documents\\whiteboxing\\tests\\rcdv_samp\\\n",
      "CHIRPS batch results eval time elapsed: 114.3964 seconds\n"
     ]
    }
   ],
   "source": [
    "# here will run everything set in the previous panel, in a loop set by each random_state in range.\n",
    "for random_state in range(123, 124):\n",
    "    for d_constructor in rp.datasets:\n",
    "        print('Running experiment for ' + d_constructor.__name__ + ' with random state = ' + str(random_state))\n",
    "        print()\n",
    "        # 1. Data and Forest prep\n",
    "        print('Split data into main train-test and build RF') \n",
    "        mydata = d_constructor(random_state=random_state, project_dir=project_dir)\n",
    "        \n",
    "        meta_data = mydata.get_meta()\n",
    "        save_path = meta_data['get_save_path']()\n",
    "        train_index, test_index = mydata.get_tt_split_idx(random_state=random_state_splits)\n",
    "        tt = mydata.tt_split(train_index, test_index)\n",
    "        \n",
    "        # this will train and score the model\n",
    "        rf = rp.forest_prep(ds_container=tt,\n",
    "                    meta_data=meta_data,\n",
    "                    model=model,\n",
    "                    tuning_grid=tuning_grid,\n",
    "                    save_path=save_path)\n",
    "        \n",
    "        print()\n",
    "        if run_CHIRPS or run_CHIRPS_ada:\n",
    "            if CHIRPS_sensitivity or CHIRPS_sensada:\n",
    "                for kwg in kwargs_grid:\n",
    "                    \n",
    "                    rp.CHIRPS_benchmark(forest=rf, ds_container=tt, meta_data=meta_data, model=model,\n",
    "                                        n_instances=n_instances,\n",
    "                                        forest_walk_async=forest_walk_async,\n",
    "                                        chirps_explanation_async=chirps_explanation_async,\n",
    "                                        save_path=save_path,\n",
    "                                        save_sensitivity_path=extend_path(stem=save_path, \\\n",
    "                                                              extensions=[path_ext, \\\n",
    "                                                                'sp_' + str(kwargs_grid[kwg]['support_paths']) + \\\n",
    "                                                                '_ap_' + str(kwargs_grid[kwg]['alpha_paths']) + \\\n",
    "                                                                '_dpb_' + str(kwargs_grid[kwg]['disc_path_bins']) + \\\n",
    "                                                                '_sf_' + str(kwargs_grid[kwg]['score_func']) + \\\n",
    "                                                                '_w_' + str(kwargs_grid[kwg]['weighting']) + '_']),\n",
    "                                        dataset_name=d_constructor.__name__,\n",
    "                                        random_state=random_state, **kwargs_grid[kwg])\n",
    "                    \n",
    "                    # create a new ds_container as the last one is used up\n",
    "                    tt = mydata.tt_split(train_index, test_index)\n",
    "            else:\n",
    "                rp.CHIRPS_benchmark(forest=rf, ds_container=tt, meta_data=meta_data, model=model,\n",
    "                                    n_instances=n_instances,\n",
    "                                    forest_walk_async=forest_walk_async,\n",
    "                                    chirps_explanation_async=chirps_explanation_async,\n",
    "                                    save_path=save_path,\n",
    "                                    dataset_name=d_constructor.__name__,\n",
    "                                    random_state=random_state, **kwargs_default)\n",
    "                    \n",
    "        if run_Anchors:\n",
    "            # new copy of ds_container (need to reset the row counters)\n",
    "            tt_anch = mydata.tt_split(train_index, test_index)\n",
    "            # preprocessing - discretised continuous X matrix has been added and also needs an updated var_dict \n",
    "            # plus returning the fitted explainer that holds the data distribution\n",
    "            tt_anch, anchors_explainer = rp.Anchors_preproc(ds_container=tt_anch,\n",
    "                                                             meta_data=meta_data)\n",
    "    \n",
    "            # re-fitting the random forest to the discretised data and evaluating\n",
    "            rf = rp.forest_prep(ds_container=tt_anch,\n",
    "                            meta_data=meta_data,\n",
    "                            model=model,\n",
    "                            save_path=save_path,\n",
    "                            identifier='Anchors')\n",
    "\n",
    "            rp.Anchors_benchmark(forest=rf, ds_container=tt_anch, meta_data=meta_data,\n",
    "                                anchors_explainer=anchors_explainer,\n",
    "                                n_instances=n_instances,\n",
    "                                save_path=save_path, dataset_name=d_constructor.__name__,\n",
    "                                random_state=meta_data['random_state'])\n",
    "        \n",
    "        if run_defragTrees:\n",
    "            # create a new copy of tt split, because each one keeps track of which instances it has given out.\n",
    "            # re-using the top one means different instances are passed\n",
    "            tt_dfrgtrs = mydata.tt_split(train_index, test_index)\n",
    "            \n",
    "            # some dfrgtrs specific parameters\n",
    "            Kmax = 10\n",
    "            restart = 20\n",
    "            maxitr = 100\n",
    "            dfrgtrs, eval_start_time, defTrees_elapsed_time = rp.defragTrees_prep(ds_container=tt_dfrgtrs,\n",
    "                                                                                meta_data=meta_data, forest=rf, \n",
    "                                                                                Kmax=Kmax, restart=restart, maxitr=maxitr,\n",
    "                                                                                identifier='defragTrees', save_path=save_path)\n",
    "            \n",
    "                        \n",
    "            rp.defragTrees_benchmark(forest=rf, ds_container=tt_dfrgtrs, meta_data=meta_data,\n",
    "                                    dfrgtrs=dfrgtrs, eval_start_time=eval_start_time,\n",
    "                                    defTrees_elapsed_time=defTrees_elapsed_time,\n",
    "                                    n_instances=n_instances,\n",
    "                                    save_path=save_path, dataset_name=d_constructor.__name__,\n",
    "                                    random_state=random_state)\n"
   ]
  },
  {
   "cell_type": "code",
   "execution_count": null,
   "metadata": {},
   "outputs": [],
   "source": []
  }
 ],
 "metadata": {
  "kernelspec": {
   "display_name": "Python 3",
   "language": "python",
   "name": "python3"
  },
  "language_info": {
   "codemirror_mode": {
    "name": "ipython",
    "version": 3
   },
   "file_extension": ".py",
   "mimetype": "text/x-python",
   "name": "python",
   "nbconvert_exporter": "python",
   "pygments_lexer": "ipython3",
   "version": "3.6.8"
  }
 },
 "nbformat": 4,
 "nbformat_minor": 2
}
