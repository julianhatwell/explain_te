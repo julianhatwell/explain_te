{
 "cells": [
  {
   "cell_type": "markdown",
   "metadata": {},
   "source": [
    "# prologue"
   ]
  },
  {
   "cell_type": "markdown",
   "metadata": {},
   "source": [
    "### set up notebook and load package"
   ]
  },
  {
   "cell_type": "code",
   "execution_count": 1,
   "metadata": {},
   "outputs": [],
   "source": [
    "# for notebook plotting\n",
    "%matplotlib inline \n",
    "\n",
    "# load what we need\n",
    "import CHIRPS.datasets as ds\n",
    "import CHIRPS.benchmarking as bnch\n",
    "import CHIRPS.reproducible as rp\n",
    "\n",
    "# demo datasets that ship with package. all from UCI unless stated otherwise\n",
    "# ds.adult_data, ds.adult_samp_data, ds.adult_small_samp_data Large dataset ships with manageable sub samples\n",
    "# ds.bankmark_data, ds.bankmark_samp_data\n",
    "# ds.car_data\n",
    "# ds.cardio_data this is the cardiotocography dataset\n",
    "# ds.credit_data\n",
    "# ds.german_data\n",
    "# ds.lending_data, ds.lending_samp_data, ds.lending_small_samp_data, ds.lending_tiny_samp_data from Kaggle. see datasets_from_source file for links\n",
    "# ds.nursery_data, ds.nursery_samp_data\n",
    "# ds.rcdv_data, ds.rcdv_samp_data from US government see datasets_from_source file for links"
   ]
  },
  {
   "cell_type": "markdown",
   "metadata": {},
   "source": [
    "### common config - can be ommitted if defaults are OK"
   ]
  },
  {
   "cell_type": "code",
   "execution_count": 2,
   "metadata": {},
   "outputs": [],
   "source": [
    "project_dir = 'V:\\\\whiteboxing' # defaults to a directory \"whiteboxing\" in the working directory\n",
    "random_state_splits = 123 # one off for splitting the data into test / train"
   ]
  },
  {
   "cell_type": "markdown",
   "metadata": {},
   "source": [
    "# data management"
   ]
  },
  {
   "cell_type": "markdown",
   "metadata": {},
   "source": [
    "### datasets"
   ]
  },
  {
   "cell_type": "markdown",
   "metadata": {},
   "source": [
    "Several datasets are available as pre-prepared containers that hold the data and some meta-data that is used in the algorithm\n",
    "Any dataset can be turned into a container by invoking the constructor found in the file structures.py"
   ]
  },
  {
   "cell_type": "code",
   "execution_count": 3,
   "metadata": {},
   "outputs": [
    {
     "data": {
      "text/plain": [
       "[<function CHIRPS.datasets.adult_small_samp_data>,\n",
       " <function CHIRPS.datasets.bankmark_samp_data>,\n",
       " <function CHIRPS.datasets.car_data>,\n",
       " <function CHIRPS.datasets.cardio_data>,\n",
       " <function CHIRPS.datasets.credit_data>,\n",
       " <function CHIRPS.datasets.german_data>,\n",
       " <function CHIRPS.datasets.lending_tiny_samp_data>,\n",
       " <function CHIRPS.datasets.nursery_samp_data>]"
      ]
     },
     "execution_count": 3,
     "metadata": {},
     "output_type": "execute_result"
    }
   ],
   "source": [
    "# datasets might be down-sampled to make them easier to work with\n",
    "# the full sets are available too\n",
    "# this is a list of constructors that will be used in the benchmarking\n",
    "rp.datasets"
   ]
  },
  {
   "cell_type": "code",
   "execution_count": 4,
   "metadata": {},
   "outputs": [
    {
     "data": {
      "text/plain": [
       "<CHIRPS.structures.data_container at 0x1aaf0265748>"
      ]
     },
     "execution_count": 4,
     "metadata": {},
     "output_type": "execute_result"
    }
   ],
   "source": [
    "# example of one dataset\n",
    "# note: random_state propagates through other functions and is easily updated to allow alternative runs\n",
    "ds.cardio_data(random_state=123, project_dir=project_dir)"
   ]
  },
  {
   "cell_type": "markdown",
   "metadata": {},
   "source": [
    "### standardising train-test splitting\n",
    "Some methods are not available in Python. We want to maintain the same dataset splits no matter which platform. So, the train test data is split with the one-time random seed and the splits are saved to csv in the project folders."
   ]
  },
  {
   "cell_type": "code",
   "execution_count": 5,
   "metadata": {},
   "outputs": [
    {
     "name": "stdout",
     "output_type": "stream",
     "text": [
      "Exported train-test data for 8 datasets.\n"
     ]
    }
   ],
   "source": [
    "# writes external files\n",
    "rp.export_data_splits(datasets=rp.datasets, project_dir=project_dir, random_state_splits=random_state_splits)"
   ]
  },
  {
   "cell_type": "markdown",
   "metadata": {},
   "source": [
    "# Experimental Runs\n",
    "Loop through datasets, actioning the functions in the package to execute a round of experiments and test evaluations."
   ]
  },
  {
   "cell_type": "markdown",
   "metadata": {},
   "source": [
    "## 0. Optional Memory and Computation Cost Management\n",
    "CHIRPS is time economical but memory intensive to compute for lots of instances at once.\n"
   ]
  },
  {
   "cell_type": "markdown",
   "metadata": {},
   "source": [
    "### Parallel processing\n",
    "Scikit takes care of parallel for the RF construction.\n",
    "We can parallelise the following:\n",
    "1. the walk of instances down each tree to collect the paths. The paths for many instances are returned in a single array. This parallelises across trees.\n",
    "2. building CHIRPS and the final explanation (rule). This is a search optimisation and we can parallelise each instance.\n",
    "\n",
    "This is expecially effective when running batches. For single instances, set both to false to avoid spinning up the parallel infrastructure."
   ]
  },
  {
   "cell_type": "code",
   "execution_count": 6,
   "metadata": {},
   "outputs": [],
   "source": [
    "# control for async processes - each tree walk can be done in its own core\n",
    "# and so can each explanation (e.g. rule conditions merge by hill-climbing)\n",
    "# these will default to false if not passed explicitly to the explainer function\n",
    "# on a multi-core machine there should be a good speed up for large batches\n",
    "# when the batch_size advantage exceeds the overhead of setting up multi-processing\n",
    "# timings will be printed to screen so you can see if it helps\n",
    "forest_walk_async=True\n",
    "chirps_explanation_async=True"
   ]
  },
  {
   "cell_type": "markdown",
   "metadata": {},
   "source": [
    "### Preparing unseen data\n",
    "\n",
    "Again note:\n",
    "test set has never been \"seen\" by random forest during training\n",
    "test set has been only used to assess model (random forest) accuracy - no additional tuning after this\n",
    "test set has not be involved in generating the explainer"
   ]
  },
  {
   "cell_type": "markdown",
   "metadata": {},
   "source": [
    "#### Batching\n",
    "The memory space requirements for all the paths can be reduced by dividing the test set into batches. However this does take longer as there is an overhead to instantiate all the required objects, especially if coupled with parallel processing.\n",
    "Best compromise could be a small number of larger batches."
   ]
  },
  {
   "cell_type": "code",
   "execution_count": 7,
   "metadata": {},
   "outputs": [],
   "source": [
    "# the number of instances can be controlled by\n",
    "# batch_size - how many instances to explain at one time\n",
    "# set these larger than the size of the test set and it will simply run the whole test set in one batch. Better do option 2\n",
    "batch_size = 5\n",
    "# how many instances to explain in total from a test/unseen set\n",
    "n_instances = 10000"
   ]
  },
  {
   "cell_type": "markdown",
   "metadata": {},
   "source": [
    "### 1. Data and Forest prep\n",
    "Use the random state splits to do a one-off data split.\n",
    "Fit the RF to training data, using the iterating random state.\n",
    "Save the performance metrics on the test set for later review.\n",
    "\n",
    "### 2. Prepare Unseen Data and Predictions\n",
    "Important to note:\n",
    "Test set never \"seen\" by RF during training.\n",
    "test set not involved in generating the explainer.\n",
    "Test set used to evaluate model (random forest) accuracy beyond OOBE scores - no additional tuning based on these results.\n",
    "Test set used to evaluate explanation scores by leave-one-out method removing the specific instance we're explaining.\n",
    "\n",
    "Important to note:\n",
    "We will explain predictions directly from the trained RF. Explanation system makes no compromise on model accuracy.\n",
    "\n",
    "### 3. CHIRPS algorithm\n",
    "1. Extract Tree Prediction Paths\n",
    "2. Freqent pattern mining of paths\n",
    "3. Score and sort mined path segments\n",
    "4. Merge path segments into one rule\n",
    "\n",
    "#### CHIRPS 1\n",
    "Fit a forest_walker object to the dataset and decision forest. This is a wrapper that will extract the paths of all the given instances. Its main method delivers the instance paths for the remaining steps of the algorithm as a new object: a batch_paths_container. It can also report interesting statistics (treating the forest as a set of random tree-structured variables).\n",
    "\n",
    "#### CHIRPS 2-4\n",
    "A batch_CHIRPS_container is fitted with the batch_paths_container returned by the forest walker, and with a sample of data. For CHIRPS, we prefer a large sample. The whole training set or other representative sample will do. This is a wrapper object will execute steps 2-4 on all each the instance-paths in the batch_paths_container.\n",
    "\n",
    "Important to note:\n",
    "true_divide warnings are OK! It just means that a continuous variable is unbounded on one side i.e. no greater/less than inequality is used in the specific CHIRPS explanation.\n",
    "\n",
    "Important note: \n",
    "Here we are using the training set to create the explainers. We could use a different dataset as long as it is representative of the training set that built the decision forest. Most important that we don't use the dataset that we wish to explain, so never use the test set, for example.\n",
    "\n",
    "### 4. Evaluating CHIRPS Explanations\n",
    "Test set has been used to create an explainer *one instance at a time* and the rest of test set was not \"seen\" during this construction. To score each explainer, we use test set, leaving out the individual instance being explained. The data_split_container (tt) has a convenience funtion for doing this. All the results are saved to csv files in the project directory."
   ]
  },
  {
   "cell_type": "code",
   "execution_count": null,
   "metadata": {
    "scrolled": false
   },
   "outputs": [
    {
     "name": "stdout",
     "output_type": "stream",
     "text": [
      "Running experiment for adult_small_samp_data with random state = 123\n",
      "\n",
      "Split data into main train-test and build RF\n",
      "using previous tuning parameters\n",
      "\n",
      "Prepare Unseen Data and Predictions\n",
      "\n",
      "Walking forest for 5 instances... (please wait)\n",
      "Forest Walk with async = True\n",
      "Forest Walk time elapsed: 0.8879 seconds\n",
      "\n",
      "Running CHIRPS on a batch of 5 instances... (please wait)\n",
      "CHIRPS time elapsed: 1.9431 seconds\n",
      "CHIRPS with async = True\n",
      "\n",
      "Evaluating found explanations\n",
      "\n",
      "\n",
      "\n",
      "\n",
      "\n",
      "CHIRPS batch results eval time elapsed: 0.4008 seconds\n",
      "\n",
      "\n",
      "using previous tuning parameters\n",
      "Prepare Unseen Data and Predictions\n",
      "\n",
      "Working on Anchors for instance 2235\n",
      "[]\n",
      "Running experiment for bankmark_samp_data with random state = 123\n",
      "\n",
      "Split data into main train-test and build RF\n",
      "using previous tuning parameters\n",
      "\n",
      "Prepare Unseen Data and Predictions\n",
      "\n",
      "Walking forest for 5 instances... (please wait)\n",
      "Forest Walk with async = True\n",
      "Forest Walk time elapsed: 0.9652 seconds\n",
      "\n",
      "Running CHIRPS on a batch of 5 instances... (please wait)\n",
      "CHIRPS time elapsed: 1.9483 seconds\n",
      "CHIRPS with async = True\n",
      "\n",
      "Evaluating found explanations\n",
      "\n",
      "\n",
      "\n",
      "\n",
      "\n",
      "CHIRPS batch results eval time elapsed: 0.7057 seconds\n",
      "\n",
      "\n",
      "using previous tuning parameters\n",
      "Prepare Unseen Data and Predictions\n",
      "\n",
      "Working on Anchors for instance 1050\n",
      "[1, 2, 3, 4, 5, 6, 7, 8, 9, 10, 11, 12, 13, 14, 15, 16, 17, 18, 19, 20, 21, 22, 23, 24, 25, 26, 27, 28, 29, 30, 31, 32, 33, 34, 35, 36, 37, 38, 39, 40, 41, 42, 43, 44, 45, 46, 47, 48, 49, 50, 51, 52, 53, 54, 55, 56, 57, 58, 59, 60, 61, 62, 63, 64, 65, 66, 67, 68, 69, 70, 71, 72, 73, 74, 75, 76, 77, 78, 79, 80, 81, 82, 83, 84, 85, 86, 87, 88, 89, 90, 91, 92, 93, 94, 95, 96, 97, 98, 99, 100, 101, 102, 103, 104, 105, 106, 107, 108, 109, 110, 111, 112, 113, 114, 115, 116, 117, 118, 119, 120, 121, 122, 123, 124, 125, 126, 127, 128, 129, 130, 131, 132, 133, 134, 135, 136, 137, 138, 139, 140, 141, 142, 143, 144, 145, 146, 147, 148, 149, 150, 151, 152, 153, 154, 155, 156, 157, 158, 159, 160, 161, 162, 163, 164, 165, 166, 167, 168, 169, 170, 171, 172, 173, 174, 175, 176, 177, 178, 179, 180, 181, 182, 183, 184, 185, 186, 187, 188, 189, 190, 191, 192, 193, 194, 195, 196, 197, 198, 199, 200, 201, 202, 203, 204, 205, 206, 207, 208, 209, 210, 211, 212, 213, 214, 215, 216, 217, 218, 219, 220, 221, 222, 223, 224, 225, 226, 227, 228, 229, 230, 231, 232, 233, 234, 235, 236, 237, 238, 239, 240, 241, 242, 243, 244, 245, 246, 247, 248, 249, 250, 251, 252, 253, 254, 255, 256, 257, 258, 259, 260, 261, 262, 263, 264, 265, 266, 267, 268, 269, 270, 271, 272, 273, 274, 275, 276, 277, 278, 279, 280, 281, 282, 283, 284, 285, 286, 287, 288, 289, 290, 291, 292, 293, 294, 295, 296, 297, 298, 299, 300, 301, 302, 303, 304, 305, 306, 307, 308, 309, 310, 311, 312, 313, 314, 315, 316, 317, 318, 319, 320, 321, 322, 323, 324, 325, 326, 327, 328, 329, 330, 331, 332, 333, 334, 335, 336, 337, 338, 339, 340, 341, 342, 343, 344, 345, 346, 347, 348, 349, 350, 351, 352, 353, 354, 355, 356, 357, 358, 359, 360, 361, 362, 363, 364, 365, 366, 367, 368, 369, 370, 371, 372, 373, 374, 375, 376, 377, 378, 379, 380, 381, 382, 383, 384, 385, 386, 387, 388, 389, 390, 391, 392, 393, 394, 395, 396, 397, 398, 399, 400, 401, 402, 403, 404, 405, 406, 407, 408, 409, 410, 411, 412, 413, 414, 415, 416, 417, 418, 419, 420, 421, 422, 423, 424, 425, 426, 427, 428, 429, 430, 431, 432, 433, 434, 435, 436, 437, 438, 439, 440, 441, 442, 443, 444, 445, 446, 447, 448, 449, 450, 451, 452, 453, 454, 455, 456, 457, 458, 459, 460, 461, 462, 463, 464, 465, 466, 467, 468, 469, 470, 471, 472, 473, 474, 475, 476, 477, 478, 479, 480, 481, 482, 483, 484, 485, 486, 487, 488, 489, 490, 491, 492, 493, 494, 495, 496, 497, 498, 499, 500, 501, 502, 503, 504, 505, 506, 507, 508, 509, 510, 511, 512, 513, 514, 515, 516, 517, 518, 519, 520, 521, 522, 523, 524, 525, 526, 527, 528, 529, 530, 531, 532, 533, 534, 535, 536, 537, 538, 539, 540, 541, 542, 543, 544, 545, 546, 547, 548, 549, 550, 551, 552, 553, 554, 555, 556, 557, 558, 559, 560, 561, 562, 563, 564, 565, 566, 567, 568, 569, 570, 571, 572, 573, 574, 575, 576, 577, 578, 579, 580, 581, 582, 583, 584, 585, 586, 587, 588, 589, 590, 591, 592, 593, 594, 595, 596, 597, 598, 599, 600, 601, 602, 603, 604, 605, 606, 607, 608, 609, 610, 611, 612, 613, 614, 615, 616, 617, 618, 619, 620, 621, 622, 623, 624, 625, 626, 627, 628, 629, 630, 631, 632, 633, 634, 635, 636, 637, 638, 639, 640, 641, 642, 643, 644, 645, 646, 647, 648, 649, 650, 651, 652, 653, 654, 655, 656, 657, 658, 659, 660, 661, 662, 663, 664, 665, 666, 667, 668, 669, 670, 671, 672, 673, 674, 675, 676, 677, 678, 679]\n",
      "Running experiment for car_data with random state = 123\n",
      "\n",
      "Split data into main train-test and build RF\n",
      "using previous tuning parameters\n",
      "\n",
      "Prepare Unseen Data and Predictions\n",
      "\n",
      "Walking forest for 5 instances... (please wait)\n",
      "Forest Walk with async = True\n",
      "Forest Walk time elapsed: 0.8792 seconds\n",
      "\n",
      "Running CHIRPS on a batch of 5 instances... (please wait)\n",
      "CHIRPS time elapsed: 1.9084 seconds\n",
      "CHIRPS with async = True\n",
      "\n",
      "Evaluating found explanations\n",
      "\n",
      "\n",
      "\n",
      "\n",
      "\n",
      "CHIRPS batch results eval time elapsed: 0.2719 seconds\n",
      "\n",
      "\n",
      "using previous tuning parameters\n"
     ]
    },
    {
     "name": "stderr",
     "output_type": "stream",
     "text": [
      "C:\\Users\\id126493\\AppData\\Local\\Continuum\\anaconda3\\lib\\site-packages\\sklearn\\utils\\validation.py:475: DataConversionWarning: Data with input dtype int64 was converted to float64 by StandardScaler.\n",
      "  warnings.warn(msg, DataConversionWarning)\n"
     ]
    },
    {
     "name": "stdout",
     "output_type": "stream",
     "text": [
      "Prepare Unseen Data and Predictions\n",
      "\n",
      "Working on Anchors for instance 1119\n",
      "[]\n",
      "Running experiment for cardio_data with random state = 123\n",
      "\n",
      "Split data into main train-test and build RF\n",
      "using previous tuning parameters\n",
      "\n",
      "Prepare Unseen Data and Predictions\n",
      "\n",
      "Walking forest for 5 instances... (please wait)\n",
      "Forest Walk with async = True\n",
      "Forest Walk time elapsed: 1.0930 seconds\n",
      "\n",
      "Running CHIRPS on a batch of 5 instances... (please wait)\n",
      "CHIRPS time elapsed: 2.0307 seconds\n",
      "CHIRPS with async = True\n",
      "\n",
      "Evaluating found explanations\n",
      "\n",
      "\n",
      "\n",
      "\n",
      "\n"
     ]
    }
   ],
   "source": [
    "run_CHIRPS = True\n",
    "run_Anchors = True\n",
    "\n",
    "for random_state in [123]:\n",
    "    for d_constructor in rp.datasets:\n",
    "        print('Running experiment for ' + d_constructor.__name__ + ' with random state = ' + str(random_state))\n",
    "        print()\n",
    "        # 1. Data and Forest prep\n",
    "        print('Split data into main train-test and build RF') \n",
    "        \n",
    "        mydata = d_constructor(random_state=random_state, project_dir=project_dir)\n",
    "        \n",
    "        meta_data = mydata.get_meta()\n",
    "        save_path = meta_data['get_save_path']()\n",
    "        train_index, test_index = mydata.get_tt_split_idx(random_state=random_state_splits)\n",
    "        tt = mydata.tt_split(train_index, test_index)\n",
    "        \n",
    "        rf = rp.forest_prep(X=tt.X_train_enc, y=tt.y_train,\n",
    "                            save_path=save_path,\n",
    "                            class_names=meta_data['class_names_label_order'],\n",
    "                            random_state=meta_data['random_state'])\n",
    "\n",
    "        print()\n",
    "        \n",
    "        if run_CHIRPS: # might assume this is always true! :-)\n",
    "            rp.CHIRPS_benchmark(forest=rf, ds_container=tt, meta_data=meta_data,\n",
    "                                batch_size=batch_size, n_instances=n_instances,\n",
    "                                forest_walk_async=True,\n",
    "                                chirps_explanation_async=True,\n",
    "                                save_path=save_path,\n",
    "                                random_state=random_state)\n",
    "        \n",
    "        \n",
    "        if run_Anchors:\n",
    "            # preprocessing - discretised continuous X matrix has been added and also needs an updated var_dict \n",
    "            # plus returning the fitted explainer that holds the data distribution\n",
    "            tt_anch, var_dict_anch, anchors_explainer = bnch.anchors_preproc(ds_container=tt,\n",
    "                                                                        meta_data=meta_data)\n",
    "    \n",
    "            # re-fitting the random forest to the discretised data and evaluating\n",
    "            rf = rp.forest_prep(X=tt_anch.X_train_enc, y=tt_anch.y_train,\n",
    "                            save_path=save_path,\n",
    "                            class_names=meta_data['class_names_label_order'],\n",
    "                            random_state=meta_data['random_state'],\n",
    "                            identifier='Anchors')\n",
    "\n",
    "            Anchors_benchmark(forest=rf, ds_container=tt_anch, anchors_explainer=anchors_explainer,\n",
    "                                batch_size=batch_size, n_instances=n_instances,\n",
    "                                save_path=save_path, random_state=123)\n",
    "                \n"
   ]
  },
  {
   "cell_type": "code",
   "execution_count": 14,
   "metadata": {},
   "outputs": [],
   "source": [
    "import numpy as np\n",
    "\n",
    "# function to manage the whole run and evaluation\n",
    "def Anchors_benchmark(forest, ds_container, anchors_explainer,\n",
    "                    batch_size=100, n_instances=100,\n",
    "                    save_path='',\n",
    "                    random_state=123):\n",
    "    # 2. Prepare Unseen Data and Predictions\n",
    "    print('Prepare Unseen Data and Predictions')\n",
    "    # OPTION 1 - batching (to be implemented in the new code, right now it will do just one batch)\n",
    "    # this will normalise the above parameters to the size of the dataset\n",
    "    n_instances, n_batches = rt.batch_instance_ceiling(ds_container=ds_container, n_instances=n_instances, batch_size=batch_size)\n",
    "\n",
    "    # this gets the next batch out of the data_split_container according to the required number of instances\n",
    "    # all formats can be extracted, depending on the requirement\n",
    "    # unencoded, encoded (sparse matrix is the type returned by scikit), ordinary dense matrix also available\n",
    "    instances, instances_enc, instances_enc_matrix, labels = ds_container.get_next(batch_size, which_split='test') # default\n",
    "\n",
    "    # OPTION 2 - just run with whole test set\n",
    "    # instances = tt.X_test; instances_enc = tt.X_test_enc; instances_enc_matrix = tt.X_test_enc_matrix; labels = tt.y_test\n",
    "\n",
    "    # Make all the model predictions from the decision forest\n",
    "    preds = rf.predict(X=instances_enc)\n",
    "    print()\n",
    "\n",
    "    \n",
    "    # iterate through each instance to generate the anchors explanation\n",
    "    output_anch = [[]] * n_instances\n",
    "    for i in range(n_instances):\n",
    "        instance_id = labels.index[i]\n",
    "        if i % 10 == 0: print('Working on Anchors for instance ' + str(instance_id))\n",
    "        instance = ds_container.X_test[i]\n",
    "        explanation = bnch.anchors_explanation(instance, anchors_explainer, rf)\n",
    "        \n",
    "        # Get test examples where the anchor applies\n",
    "        fit_anchor_train = np.where(np.all(ds_container.X_test_enc[:, explanation.features()] == instance[explanation.features()], axis=1))[0]\n",
    "        fit_anchor_test = np.where(np.all(ds_container.X_test_enc[:, explanation.features()] == instance[explanation.features()], axis=1))[0]\n",
    "        fit_anchor_test_exclusive = [fat for fat in fit_anchor_test if fat != i] # exclude current instance\n",
    "        print(fit_anchor_test_exclusive)\n",
    "        return()\n",
    "#                 # train\n",
    "#                 priors = p_count_corrected(tt['y_train'], [i for i in range(len(mydata.class_names))])\n",
    "#                 if any(fit_anchor_train):\n",
    "#                     p_counts = p_count_corrected(enc_rf.predict(tt['X_train'][fit_anchor_train]), [i for i in range(len(mydata.class_names))])\n",
    "#                 else:\n",
    "#                     p_counts = p_count_corrected([None], [i for i in range(len(mydata.class_names))])\n",
    "#                 counts = p_counts['counts']\n",
    "#                 labels = p_counts['labels']\n",
    "#                 post = p_counts['p_counts']\n",
    "#                 p_corrected = np.array([p if p > 0.0 else 1.0 for p in post])\n",
    "#                 cover = counts.sum() / priors['counts'].sum()\n",
    "#                 recall = counts/priors['counts'] # recall\n",
    "#                 r_corrected = np.array([r if r > 0.0 else 1.0 for r in recall]) # to avoid div by zeros\n",
    "#                 observed = np.array((counts, priors['counts']))\n",
    "#                 if counts.sum() > 0: # previous_counts.sum() == 0 is impossible\n",
    "#                     chisq = chi2_contingency(observed=observed[:, np.where(observed.sum(axis=0) != 0)], correction=True)\n",
    "#                 else:\n",
    "#                     chisq = np.nan\n",
    "#                 f1 = [2] * ((post * recall) / (p_corrected + r_corrected))\n",
    "#                 not_covered_counts = counts + (np.sum(priors['counts']) - priors['counts']) - (np.sum(counts) - counts)\n",
    "#                 accu = not_covered_counts/priors['counts'].sum()\n",
    "#                 # to avoid div by zeros\n",
    "#                 pri_corrected = np.array([pri if pri > 0.0 else 1.0 for pri in priors['p_counts']])\n",
    "#                 pos_corrected = np.array([pos if pri > 0.0 else 0.0 for pri, pos in zip(priors['p_counts'], post)])\n",
    "#                 if counts.sum() == 0:\n",
    "#                     rec_corrected = np.array([0.0] * len(pos_corrected))\n",
    "#                     cov_corrected = np.array([1.0] * len(pos_corrected))\n",
    "#                 else:\n",
    "#                     rec_corrected = counts / counts.sum()\n",
    "#                     cov_corrected = np.array([counts.sum() / priors['counts'].sum()])\n",
    "\n",
    "#                 lift = pos_corrected / ( ( cov_corrected ) * pri_corrected )\n",
    "\n",
    "#                 # capture train\n",
    "#                 mc = enc_rf.predict(tt['X_test'][i].reshape(1, -1))[0]\n",
    "#                 mc_lab = mydata.class_names[enc_rf.predict(tt['X_test'][i].reshape(1, -1))[0]]\n",
    "#                 tc = enc_rf.predict(tt['X_test'][i].reshape(1, -1))[0]\n",
    "#                 tc_lab = mydata.class_names[enc_rf.predict(tt['X_test'][i].reshape(1, -1))[0]]\n",
    "#                 vt = np.nan\n",
    "#                 mvs = np.nan\n",
    "#                 prior = priors['p_counts'][tc]\n",
    "#                 prettify_rule = ' AND '.join(exp.names())\n",
    "#                 rule_len = len(exp.names())\n",
    "#                 tr_prec = post[tc]\n",
    "#                 tr_recall = recall[tc]\n",
    "#                 tr_f1 = f1[tc]\n",
    "#                 tr_acc = accu[tc]\n",
    "#                 tr_lift = lift[tc]\n",
    "#                 tr_coverage = cover\n",
    "\n",
    "#                 # test\n",
    "#                 priors = p_count_corrected(tt['y_test'], [i for i in range(len(mydata.class_names))])\n",
    "#                 if any(fit_anchor_test):\n",
    "#                     p_counts = p_count_corrected(enc_rf.predict(tt['X_test'][fit_anchor_test]), [i for i in range(len(mydata.class_names))])\n",
    "#                 else:\n",
    "#                     p_counts = p_count_corrected([None], [i for i in range(len(mydata.class_names))])\n",
    "#                 counts = p_counts['counts']\n",
    "#                 labels = p_counts['labels']\n",
    "#                 post = p_counts['p_counts']\n",
    "#                 p_corrected = np.array([p if p > 0.0 else 1.0 for p in post])\n",
    "#                 cover = counts.sum() / priors['counts'].sum()\n",
    "#                 recall = counts/priors['counts'] # recall\n",
    "#                 r_corrected = np.array([r if r > 0.0 else 1.0 for r in recall]) # to avoid div by zeros\n",
    "#                 observed = np.array((counts, priors['counts']))\n",
    "#                 if counts.sum() > 0: # previous_counts.sum() == 0 is impossible\n",
    "#                     chisq = chi2_contingency(observed=observed[:, np.where(observed.sum(axis=0) != 0)], correction=True)\n",
    "#                 else:\n",
    "#                     chisq = np.nan\n",
    "#                 f1 = [2] * ((post * recall) / (p_corrected + r_corrected))\n",
    "#                 not_covered_counts = counts + (np.sum(priors['counts']) - priors['counts']) - (np.sum(counts) - counts)\n",
    "#                 # accuracy = (TP + TN) / num_instances formula: https://books.google.co.uk/books?id=ubzZDQAAQBAJ&pg=PR75&lpg=PR75&dq=rule+precision+and+coverage&source=bl&ots=Aa4Gj7fh5g&sig=6OsF3y4Kyk9KlN08OPQfkZCuZOc&hl=en&sa=X&ved=0ahUKEwjM06aW2brZAhWCIsAKHY5sA4kQ6AEIUjAE#v=onepage&q=rule%20precision%20and%20coverage&f=false\n",
    "#                 accu = not_covered_counts/priors['counts'].sum()\n",
    "#                 pri_corrected = np.array([pri if pri > 0.0 else 1.0 for pri in priors['p_counts']]) # to avoid div by zeros\n",
    "#                 pos_corrected = np.array([pos if pri > 0.0 else 0.0 for pri, pos in zip(priors['p_counts'], post)]) # to avoid div by zeros\n",
    "#                 if counts.sum() == 0:\n",
    "#                     rec_corrected = np.array([0.0] * len(pos_corrected))\n",
    "#                     cov_corrected = np.array([1.0] * len(pos_corrected))\n",
    "#                 else:\n",
    "#                     rec_corrected = counts / counts.sum()\n",
    "#                     cov_corrected = np.array([counts.sum() / priors['counts'].sum()])\n",
    "\n",
    "#                 lift = pos_corrected / ( ( cov_corrected ) * pri_corrected )\n",
    "\n",
    "#                 # capture test\n",
    "#                 tt_prec = post[tc]\n",
    "#                 tt_recall = recall[tc]\n",
    "#                 tt_f1 = f1[tc]\n",
    "#                 tt_acc = accu[tc]\n",
    "#                 tt_lift = lift[tc]\n",
    "#                 tt_coverage = cover\n",
    "\n",
    "#                 output_anch[i] = [instance_id,\n",
    "#                                     'anchors', # result_set\n",
    "#                                     prettify_rule,\n",
    "#                                     rule_len,\n",
    "#                                     mc,\n",
    "#                                     mc_lab,\n",
    "#                                     tc,\n",
    "#                                     tc_lab,\n",
    "#                                     mvs,\n",
    "#                                     prior,\n",
    "#                                     tr_prec,\n",
    "#                                     tr_recall,\n",
    "#                                     tr_f1,\n",
    "#                                     tr_acc,\n",
    "#                                     tr_lift,\n",
    "#                                     tr_coverage,\n",
    "#                                     tt_prec,\n",
    "#                                     tt_recall,\n",
    "#                                     tt_f1,\n",
    "#                                     tt_acc,\n",
    "#                                     tt_lift,\n",
    "#                                     tt_coverage,\n",
    "#                                     acc,\n",
    "#                                     coka]\n",
    "\n",
    "#             output = np.concatenate((output, output_anch), axis=0)\n",
    "#             anch_end_time = timeit.default_timer()\n",
    "#             anch_elapsed_time = anch_end_time - anch_start_time\n",
    "\n",
    "#         # save the tabular results to a file\n",
    "#         output_df = DataFrame(output, columns=headers)\n",
    "#         output_df.to_csv(mydata.make_save_path(mydata.pickle_dir.replace('pickles', 'results') + '_rnst_' + str(mydata.random_state) + \"_addt_\" + str(add_trees) + '_timetest.csv'))\n",
    "#         # save the full rule_acc_lite objects\n",
    "#         if save_rule_accs:\n",
    "#             explainers_store = open(mydata.make_save_path('explainers' + '_rnst_' + str(mydata.random_state) + \"_addt_\" + str(add_trees) + '.pickle'), \"wb\")\n",
    "#             pickle.dump(explainers, explainers_store)\n",
    "#             explainers_store.close()\n",
    "\n",
    "#         print('Completed experiment for ' + str(dataset) + ':')\n",
    "#         print('random_state ' + str(mydata.random_state) + ' and ' +str(add_trees) + ' additional trees')\n",
    "#         # pass the elapsed times up to the caller\n",
    "#         return(wb_elapsed_time + wbres_elapsed_time, anch_elapsed_time, grid_idx)\n",
    "\n",
    "\n",
    "#                 anch_start_time = timeit.default_timer()\n",
    "    \n",
    "    \n",
    "    \n",
    "    # 4. Evaluating CHIRPS Explanations\n",
    "    print('Evaluating found explanations')\n",
    "\n",
    "    results_start_time = timeit.default_timer()\n",
    "\n",
    "    # iterate over all the test instances (based on the ids in the index)\n",
    "    # scoring will leave out the specific instance by this id.\n",
    "    rt.evaluate_CHIRPS_explainers(CHIRPS, tt, labels.index,\n",
    "                                  forest=rf,\n",
    "                                  print_to_screen=False, # set True when running single instances\n",
    "                                  save_results_path=save_path,\n",
    "                                  save_results_file='results' + '_rnst_' + str(random_state),\n",
    "                                  save_CHIRPS=True)\n",
    "\n",
    "    results_end_time = timeit.default_timer()\n",
    "    results_elapsed_time = results_end_time - results_start_time\n",
    "    print('CHIRPS batch results eval time elapsed:', \"{:0.4f}\".format(results_elapsed_time), 'seconds')\n",
    "    # this completes the CHIRPS runs\n",
    "\n",
    "\n",
    "    print()\n",
    "    print()"
   ]
  },
  {
   "cell_type": "code",
   "execution_count": 11,
   "metadata": {},
   "outputs": [
    {
     "data": {
      "text/plain": [
       "<anchor.anchor_explanation.AnchorExplanation at 0x1aaf5ae26d8>"
      ]
     },
     "execution_count": 11,
     "metadata": {},
     "output_type": "execute_result"
    }
   ],
   "source": [
    "import CHIRPS.routines as rt\n",
    "\n",
    "n_instances, n_batches = rt.batch_instance_ceiling(ds_container=tt_anch, n_instances=n_instances, batch_size=batch_size)\n",
    "\n",
    "# this gets the next batch out of the data_split_container according to the required number of instances\n",
    "# all formats can be extracted, depending on the requirement\n",
    "# unencoded, encoded (sparse matrix is the type returned by scikit), ordinary dense matrix also available\n",
    "instances, instances_enc, instances_enc_matrix, labels = tt_anch.get_next(batch_size, which_split='test') # default\n",
    "\n",
    "# OPTION 2 - just run with whole test set\n",
    "# instances = tt.X_test; instances_enc = tt.X_test_enc; instances_enc_matrix = tt.X_test_enc_matrix; labels = tt.y_test\n",
    "\n",
    "# Make all the model predictions from the decision forest\n",
    "preds = rf.predict(X=instances_enc)\n",
    "\n",
    "instance = tt_anch.X_test[0]\n",
    "anchors_explainer.explain_instance(instance, rf.predict, threshold=0.95)\n"
   ]
  },
  {
   "cell_type": "code",
   "execution_count": null,
   "metadata": {},
   "outputs": [],
   "source": [
    "tt.X_train_enc[1].todense()"
   ]
  },
  {
   "cell_type": "code",
   "execution_count": null,
   "metadata": {},
   "outputs": [],
   "source": [
    "tt_anch.X_train_enc[1].todense()"
   ]
  },
  {
   "cell_type": "code",
   "execution_count": null,
   "metadata": {},
   "outputs": [],
   "source": [
    "from anchor import anchor_tabular as anchtab\n",
    "from lime import lime_tabular as limtab\n",
    "from copy import deepcopy\n",
    "import numpy as np\n",
    "\n",
    "mydata = rp.datasets[0](random_state=random_state, project_dir=project_dir)"
   ]
  },
  {
   "cell_type": "code",
   "execution_count": null,
   "metadata": {},
   "outputs": [],
   "source": [
    "rf, tt, meta_data = rp.data_forest_prep(mydata, project_dir=project_dir,\n",
    "                              override_tuning=False,\n",
    "                              random_state=random_state,\n",
    "                              random_state_splits=random_state_splits)\n",
    "\n"
   ]
  },
  {
   "cell_type": "code",
   "execution_count": null,
   "metadata": {},
   "outputs": [],
   "source": [
    "# dictionary format for Anchors\n",
    "categorical_names = {anch_meta_data['var_dict'][k]['order_col'] : anch_meta_data['var_dict'][k]['labels'] \\\n",
    "                     for k in anch_meta_data['var_dict'].keys() if not anch_meta_data['var_dict'][k]['class_col']}"
   ]
  },
  {
   "cell_type": "code",
   "execution_count": null,
   "metadata": {},
   "outputs": [],
   "source": [
    "explainer = anchtab.AnchorTabularExplainer(meta_data['class_names'], meta_data['features'], X_train_disc, categorical_names)\n",
    "explainer.fit(X_train_disc, tt.y_train, X_test_disc, tt.y_test)\n",
    "\n",
    "# update the tt object\n",
    "anch_X_train_enc = explainer.encoder.transform(X_train_disc)"
   ]
  },
  {
   "cell_type": "code",
   "execution_count": null,
   "metadata": {},
   "outputs": [],
   "source": [
    "la"
   ]
  },
  {
   "cell_type": "code",
   "execution_count": null,
   "metadata": {},
   "outputs": [],
   "source": [
    "lah"
   ]
  },
  {
   "cell_type": "code",
   "execution_count": null,
   "metadata": {},
   "outputs": [],
   "source": [
    "tt.y_train.unique()"
   ]
  },
  {
   "cell_type": "code",
   "execution_count": null,
   "metadata": {},
   "outputs": [],
   "source": []
  }
 ],
 "metadata": {
  "kernelspec": {
   "display_name": "Python 3",
   "language": "python",
   "name": "python3"
  },
  "language_info": {
   "codemirror_mode": {
    "name": "ipython",
    "version": 3
   },
   "file_extension": ".py",
   "mimetype": "text/x-python",
   "name": "python",
   "nbconvert_exporter": "python",
   "pygments_lexer": "ipython3",
   "version": "3.6.5"
  }
 },
 "nbformat": 4,
 "nbformat_minor": 2
}
