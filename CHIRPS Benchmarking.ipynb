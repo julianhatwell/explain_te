{
 "cells": [
  {
   "cell_type": "markdown",
   "metadata": {},
   "source": [
    "# prologue"
   ]
  },
  {
   "cell_type": "markdown",
   "metadata": {},
   "source": [
    "### set up notebook and load package"
   ]
  },
  {
   "cell_type": "code",
   "execution_count": 1,
   "metadata": {},
   "outputs": [],
   "source": [
    "# for notebook plotting\n",
    "%matplotlib inline \n",
    "\n",
    "# load what we need\n",
    "import numpy as np\n",
    "import CHIRPS.datasets as ds\n",
    "import CHIRPS.reproducible as rp\n",
    "from CHIRPS.routines import extend_path\n",
    "\n",
    "# demo datasets that ship with package. all from UCI unless stated otherwise\n",
    "# ds.adult_data, ds.adult_samp_data, ds.adult_small_samp_data Large dataset ships with manageable sub samples\n",
    "# ds.bankmark_data, ds.bankmark_samp_data\n",
    "# ds.car_data\n",
    "# ds.cardio_data this is the cardiotocography dataset\n",
    "# ds.credit_data\n",
    "# ds.german_data\n",
    "# ds.lending_data, ds.lending_samp_data, ds.lending_small_samp_data, ds.lending_tiny_samp_data from Kaggle. see datasets_from_source file for links\n",
    "# ds.nursery_data, ds.nursery_samp_data\n",
    "# ds.rcdv_data, ds.rcdv_samp_data from US government see datasets_from_source file for links"
   ]
  },
  {
   "cell_type": "markdown",
   "metadata": {},
   "source": [
    "### common config - can be ommitted if defaults are OK"
   ]
  },
  {
   "cell_type": "code",
   "execution_count": 2,
   "metadata": {},
   "outputs": [],
   "source": [
    "project_dir = 'V:\\\\whiteboxing' # defaults to a directory \"whiteboxing\" in the working directory\n",
    "random_state_splits = 123 # one off for splitting the data into test / train"
   ]
  },
  {
   "cell_type": "markdown",
   "metadata": {},
   "source": [
    "# data management"
   ]
  },
  {
   "cell_type": "markdown",
   "metadata": {},
   "source": [
    "### datasets"
   ]
  },
  {
   "cell_type": "markdown",
   "metadata": {},
   "source": [
    "Several datasets are available as pre-prepared containers that hold the data and some meta-data that is used in the algorithm\n",
    "Any dataset can be turned into a container by invoking the constructor found in the file structures.py"
   ]
  },
  {
   "cell_type": "code",
   "execution_count": 3,
   "metadata": {},
   "outputs": [
    {
     "data": {
      "text/plain": [
       "[<function CHIRPS.datasets.adult_small_samp(random_state=123, project_dir=None)>,\n",
       " <function CHIRPS.datasets.bankmark_samp(random_state=123, project_dir=None)>,\n",
       " <function CHIRPS.datasets.car(random_state=123, project_dir=None)>,\n",
       " <function CHIRPS.datasets.cardio(random_state=123, project_dir=None)>,\n",
       " <function CHIRPS.datasets.credit(random_state=123, project_dir=None)>,\n",
       " <function CHIRPS.datasets.german(random_state=123, project_dir=None)>,\n",
       " <function CHIRPS.datasets.lending_tiny_samp(random_state=123, project_dir=None)>,\n",
       " <function CHIRPS.datasets.nursery_samp(random_state=123, project_dir=None)>,\n",
       " <function CHIRPS.datasets.rcdv_samp(random_state=123, project_dir=None)>]"
      ]
     },
     "execution_count": 3,
     "metadata": {},
     "output_type": "execute_result"
    }
   ],
   "source": [
    "# datasets might be down-sampled to make them easier to work with\n",
    "# the full sets are available too\n",
    "# this is a list of constructors that will be used in the benchmarking\n",
    "rp.datasets"
   ]
  },
  {
   "cell_type": "code",
   "execution_count": 4,
   "metadata": {},
   "outputs": [
    {
     "data": {
      "text/plain": [
       "<CHIRPS.structures.data_container at 0x120bf13ec88>"
      ]
     },
     "execution_count": 4,
     "metadata": {},
     "output_type": "execute_result"
    }
   ],
   "source": [
    "# example of one dataset\n",
    "# note: random_state propagates through other functions and is easily updated to allow alternative runs\n",
    "ds.cardio(random_state=123, project_dir=project_dir)"
   ]
  },
  {
   "cell_type": "markdown",
   "metadata": {},
   "source": [
    "### standardising train-test splitting\n",
    "Some methods are not available in Python. We want to maintain the same dataset splits no matter which platform. So, the train test data is split with the one-time random seed and the splits are saved to csv in the project folders."
   ]
  },
  {
   "cell_type": "code",
   "execution_count": 5,
   "metadata": {},
   "outputs": [
    {
     "name": "stderr",
     "output_type": "stream",
     "text": [
      "C:\\ProgramData\\Anaconda3\\lib\\site-packages\\sklearn\\preprocessing\\_encoders.py:368: FutureWarning: The handling of integer data will change in version 0.22. Currently, the categories are determined based on the range [0, max(values)], while in the future they will be determined based on the unique values.\n",
      "If you want the future behaviour and silence this warning, you can specify \"categories='auto'\".\n",
      "In case you used a LabelEncoder before this OneHotEncoder to convert the categories to integers, then you can now use the OneHotEncoder directly.\n",
      "  warnings.warn(msg, FutureWarning)\n",
      "C:\\ProgramData\\Anaconda3\\lib\\site-packages\\sklearn\\preprocessing\\_encoders.py:368: FutureWarning: The handling of integer data will change in version 0.22. Currently, the categories are determined based on the range [0, max(values)], while in the future they will be determined based on the unique values.\n",
      "If you want the future behaviour and silence this warning, you can specify \"categories='auto'\".\n",
      "In case you used a LabelEncoder before this OneHotEncoder to convert the categories to integers, then you can now use the OneHotEncoder directly.\n",
      "  warnings.warn(msg, FutureWarning)\n",
      "C:\\ProgramData\\Anaconda3\\lib\\site-packages\\sklearn\\preprocessing\\_encoders.py:368: FutureWarning: The handling of integer data will change in version 0.22. Currently, the categories are determined based on the range [0, max(values)], while in the future they will be determined based on the unique values.\n",
      "If you want the future behaviour and silence this warning, you can specify \"categories='auto'\".\n",
      "In case you used a LabelEncoder before this OneHotEncoder to convert the categories to integers, then you can now use the OneHotEncoder directly.\n",
      "  warnings.warn(msg, FutureWarning)\n",
      "C:\\ProgramData\\Anaconda3\\lib\\site-packages\\sklearn\\preprocessing\\_encoders.py:368: FutureWarning: The handling of integer data will change in version 0.22. Currently, the categories are determined based on the range [0, max(values)], while in the future they will be determined based on the unique values.\n",
      "If you want the future behaviour and silence this warning, you can specify \"categories='auto'\".\n",
      "In case you used a LabelEncoder before this OneHotEncoder to convert the categories to integers, then you can now use the OneHotEncoder directly.\n",
      "  warnings.warn(msg, FutureWarning)\n",
      "C:\\ProgramData\\Anaconda3\\lib\\site-packages\\sklearn\\preprocessing\\_encoders.py:368: FutureWarning: The handling of integer data will change in version 0.22. Currently, the categories are determined based on the range [0, max(values)], while in the future they will be determined based on the unique values.\n",
      "If you want the future behaviour and silence this warning, you can specify \"categories='auto'\".\n",
      "In case you used a LabelEncoder before this OneHotEncoder to convert the categories to integers, then you can now use the OneHotEncoder directly.\n",
      "  warnings.warn(msg, FutureWarning)\n",
      "C:\\ProgramData\\Anaconda3\\lib\\site-packages\\sklearn\\preprocessing\\_encoders.py:368: FutureWarning: The handling of integer data will change in version 0.22. Currently, the categories are determined based on the range [0, max(values)], while in the future they will be determined based on the unique values.\n",
      "If you want the future behaviour and silence this warning, you can specify \"categories='auto'\".\n",
      "In case you used a LabelEncoder before this OneHotEncoder to convert the categories to integers, then you can now use the OneHotEncoder directly.\n",
      "  warnings.warn(msg, FutureWarning)\n"
     ]
    },
    {
     "name": "stdout",
     "output_type": "stream",
     "text": [
      "Exported train-test data for 9 datasets.\n"
     ]
    },
    {
     "name": "stderr",
     "output_type": "stream",
     "text": [
      "C:\\ProgramData\\Anaconda3\\lib\\site-packages\\sklearn\\preprocessing\\_encoders.py:368: FutureWarning: The handling of integer data will change in version 0.22. Currently, the categories are determined based on the range [0, max(values)], while in the future they will be determined based on the unique values.\n",
      "If you want the future behaviour and silence this warning, you can specify \"categories='auto'\".\n",
      "In case you used a LabelEncoder before this OneHotEncoder to convert the categories to integers, then you can now use the OneHotEncoder directly.\n",
      "  warnings.warn(msg, FutureWarning)\n"
     ]
    }
   ],
   "source": [
    "# writes external files\n",
    "rp.export_data_splits(datasets=rp.datasets, project_dir=project_dir, random_state_splits=random_state_splits)"
   ]
  },
  {
   "cell_type": "markdown",
   "metadata": {},
   "source": [
    "# Experimental Runs\n",
    "Loop through datasets, actioning the functions in the package to execute a round of experiments and test evaluations."
   ]
  },
  {
   "cell_type": "markdown",
   "metadata": {},
   "source": [
    "## 0. Optional Memory and Computation Cost Management\n",
    "CHIRPS is time economical but memory intensive to compute for lots of instances at once.\n"
   ]
  },
  {
   "cell_type": "markdown",
   "metadata": {},
   "source": [
    "### Parallel processing\n",
    "Scikit takes care of parallel for the RF construction.\n",
    "We can parallelise the following:\n",
    "1. the walk of instances down each tree to collect the paths. The paths for many instances are returned in a single array. This parallelises across trees.\n",
    "2. building CHIRPS and the final explanation (rule). This is a search optimisation and we can parallelise each instance.\n",
    "\n",
    "This is expecially effective when running batches. For single instances, set both to false to avoid spinning up the parallel infrastructure."
   ]
  },
  {
   "cell_type": "code",
   "execution_count": 6,
   "metadata": {},
   "outputs": [],
   "source": [
    "# control for async processes - each tree walk can be done in its own core\n",
    "# and so can each explanation (e.g. rule conditions merge by hill-climbing)\n",
    "# these will default to false if not passed explicitly to the explainer function\n",
    "# on a multi-core machine there should be a good speed up for large batches\n",
    "# when the batch_size advantage exceeds the overhead of setting up multi-processing\n",
    "# timings will be printed to screen so you can see if it helps\n",
    "forest_walk_async=True\n",
    "chirps_explanation_async=True"
   ]
  },
  {
   "cell_type": "markdown",
   "metadata": {},
   "source": [
    "### Preparing unseen data\n",
    "\n",
    "Again note:\n",
    "test set has never been \"seen\" by random forest during training\n",
    "test set has been only used to assess model (random forest) accuracy - no additional tuning after this\n",
    "test set has not be involved in generating the explainer"
   ]
  },
  {
   "cell_type": "markdown",
   "metadata": {},
   "source": [
    "#### Batching\n",
    "The memory space requirements for all the paths can be reduced by dividing the test set into batches. However this does take longer as there is an overhead to instantiate all the required objects, especially if coupled with parallel processing.\n",
    "Best compromise could be a small number of larger batches."
   ]
  },
  {
   "cell_type": "code",
   "execution_count": 7,
   "metadata": {},
   "outputs": [],
   "source": [
    "# the number of instances can be controlled by\n",
    "# batch_size - how many instances to explain at one time\n",
    "# set these larger than the size of the test set and it will simply run the whole test set in one batch. Better do option 2\n",
    "batch_size = 5\n",
    "# how many instances to explain in total from a test/unseen set\n",
    "n_instances = 5"
   ]
  },
  {
   "cell_type": "markdown",
   "metadata": {},
   "source": [
    "### 1. Data and Forest prep\n",
    "Use the random state splits to do a one-off data split.\n",
    "Fit the RF to training data, using the iterating random state.\n",
    "Save the performance metrics on the test set for later review.\n",
    "\n",
    "### 2. Prepare Unseen Data and Predictions\n",
    "Important to note:\n",
    "Test set never \"seen\" by RF during training.\n",
    "test set not involved in generating the explainer.\n",
    "Test set used to evaluate model (random forest) accuracy beyond OOBE scores - no additional tuning based on these results.\n",
    "Test set used to evaluate explanation scores by leave-one-out method removing the specific instance we're explaining.\n",
    "\n",
    "Important to note:\n",
    "We will explain predictions directly from the trained RF. Explanation system makes no compromise on model accuracy.\n",
    "\n",
    "### 3. CHIRPS algorithm\n",
    "1. Extract tree prediction paths\n",
    "2. Freqent pattern mining of paths\n",
    "3. Score and sort mined path segments\n",
    "4. Merge path segments into one rule\n",
    "\n",
    "#### CHIRPS 1\n",
    "Fit a forest_walker object to the dataset and decision forest. This is a wrapper that will extract the paths of all the given instances. Its main method delivers the instance paths for the remaining steps of the algorithm as a new object: a batch_paths_container. It can also report interesting statistics (treating the forest as a set of random tree-structured variables).\n",
    "\n",
    "#### CHIRPS 2-4\n",
    "A batch_CHIRPS_container is fitted with the batch_paths_container returned by the forest walker, and with a sample of data. For CHIRPS, we prefer a large sample. The whole training set or other representative sample will do. This is a wrapper object will execute steps 2-4 on all each the instance-paths in the batch_paths_container.\n",
    "\n",
    "Important to note:\n",
    "true_divide warnings are OK! It just means that a continuous variable is unbounded on one side i.e. no greater/less than inequality is used in the specific CHIRPS explanation.\n",
    "\n",
    "Important note: \n",
    "Here we are using the training set to create the explainers. We could use a different dataset as long as it is representative of the training set that built the decision forest. Most important that we don't use the dataset that we wish to explain, so never use the test set, for example.\n",
    "\n",
    "### 4. Evaluating CHIRPS Explanations\n",
    "Test set has been used to create an explainer *one instance at a time* and the rest of test set was not \"seen\" during this construction. To score each explainer, we use test set, leaving out the individual instance being explained. The data_split_container (tt) has a convenience funtion for doing this. All the results are saved to csv files in the project directory."
   ]
  },
  {
   "cell_type": "code",
   "execution_count": 8,
   "metadata": {
    "scrolled": false
   },
   "outputs": [
    {
     "name": "stdout",
     "output_type": "stream",
     "text": [
      "Running experiment for adult_small_samp with random state = 123\n",
      "\n",
      "Split data into main train-test and build RF\n",
      "using previous tuning parameters\n"
     ]
    },
    {
     "name": "stderr",
     "output_type": "stream",
     "text": [
      "C:\\ProgramData\\Anaconda3\\lib\\site-packages\\sklearn\\preprocessing\\_encoders.py:368: FutureWarning: The handling of integer data will change in version 0.22. Currently, the categories are determined based on the range [0, max(values)], while in the future they will be determined based on the unique values.\n",
      "If you want the future behaviour and silence this warning, you can specify \"categories='auto'\".\n",
      "In case you used a LabelEncoder before this OneHotEncoder to convert the categories to integers, then you can now use the OneHotEncoder directly.\n",
      "  warnings.warn(msg, FutureWarning)\n"
     ]
    },
    {
     "name": "stdout",
     "output_type": "stream",
     "text": [
      "\n",
      "Prepare Unseen Data and Predictions for CHIRPS benchmark\n",
      "Walking forest for 5 instances... (please wait)\n",
      "Forest Walk with async = True\n",
      "Forest Walk time elapsed: 0.8050 seconds\n",
      "\n",
      "Running CHIRPS on a batch of 5 instances... (please wait)\n",
      "CHIRPS time elapsed: 5.9275 seconds\n",
      "CHIRPS with async = True\n",
      "\n",
      "Evaluating found explanations\n",
      "CHIRPS batch results eval time elapsed: 0.3182 seconds\n",
      "Running experiment for bankmark_samp with random state = 123\n",
      "\n",
      "Split data into main train-test and build RF\n",
      "using previous tuning parameters\n"
     ]
    },
    {
     "name": "stderr",
     "output_type": "stream",
     "text": [
      "C:\\ProgramData\\Anaconda3\\lib\\site-packages\\sklearn\\preprocessing\\_encoders.py:368: FutureWarning: The handling of integer data will change in version 0.22. Currently, the categories are determined based on the range [0, max(values)], while in the future they will be determined based on the unique values.\n",
      "If you want the future behaviour and silence this warning, you can specify \"categories='auto'\".\n",
      "In case you used a LabelEncoder before this OneHotEncoder to convert the categories to integers, then you can now use the OneHotEncoder directly.\n",
      "  warnings.warn(msg, FutureWarning)\n"
     ]
    },
    {
     "name": "stdout",
     "output_type": "stream",
     "text": [
      "\n",
      "Prepare Unseen Data and Predictions for CHIRPS benchmark\n",
      "Walking forest for 5 instances... (please wait)\n",
      "Forest Walk with async = True\n",
      "Forest Walk time elapsed: 0.9072 seconds\n",
      "\n",
      "Running CHIRPS on a batch of 5 instances... (please wait)\n",
      "CHIRPS time elapsed: 5.3405 seconds\n",
      "CHIRPS with async = True\n",
      "\n",
      "Evaluating found explanations\n",
      "CHIRPS batch results eval time elapsed: 0.6550 seconds\n",
      "Running experiment for car with random state = 123\n",
      "\n",
      "Split data into main train-test and build RF\n",
      "using previous tuning parameters\n"
     ]
    },
    {
     "name": "stderr",
     "output_type": "stream",
     "text": [
      "C:\\ProgramData\\Anaconda3\\lib\\site-packages\\sklearn\\preprocessing\\_encoders.py:368: FutureWarning: The handling of integer data will change in version 0.22. Currently, the categories are determined based on the range [0, max(values)], while in the future they will be determined based on the unique values.\n",
      "If you want the future behaviour and silence this warning, you can specify \"categories='auto'\".\n",
      "In case you used a LabelEncoder before this OneHotEncoder to convert the categories to integers, then you can now use the OneHotEncoder directly.\n",
      "  warnings.warn(msg, FutureWarning)\n"
     ]
    },
    {
     "name": "stdout",
     "output_type": "stream",
     "text": [
      "\n",
      "Prepare Unseen Data and Predictions for CHIRPS benchmark\n",
      "Walking forest for 5 instances... (please wait)\n",
      "Forest Walk with async = True\n",
      "Forest Walk time elapsed: 0.7125 seconds\n",
      "\n",
      "Running CHIRPS on a batch of 5 instances... (please wait)\n",
      "CHIRPS time elapsed: 6.7117 seconds\n",
      "CHIRPS with async = True\n",
      "\n",
      "Evaluating found explanations\n",
      "CHIRPS batch results eval time elapsed: 0.1255 seconds\n",
      "Running experiment for cardio with random state = 123\n",
      "\n",
      "Split data into main train-test and build RF\n",
      "using previous tuning parameters\n",
      "\n",
      "Prepare Unseen Data and Predictions for CHIRPS benchmark\n",
      "Walking forest for 5 instances... (please wait)\n",
      "Forest Walk with async = True\n",
      "Forest Walk time elapsed: 0.7084 seconds\n",
      "\n",
      "Running CHIRPS on a batch of 5 instances... (please wait)\n",
      "CHIRPS time elapsed: 5.9043 seconds\n",
      "CHIRPS with async = True\n",
      "\n",
      "Evaluating found explanations\n",
      "CHIRPS batch results eval time elapsed: 0.1467 seconds\n",
      "Running experiment for credit with random state = 123\n",
      "\n",
      "Split data into main train-test and build RF\n",
      "using previous tuning parameters\n"
     ]
    },
    {
     "name": "stderr",
     "output_type": "stream",
     "text": [
      "C:\\ProgramData\\Anaconda3\\lib\\site-packages\\sklearn\\preprocessing\\_encoders.py:368: FutureWarning: The handling of integer data will change in version 0.22. Currently, the categories are determined based on the range [0, max(values)], while in the future they will be determined based on the unique values.\n",
      "If you want the future behaviour and silence this warning, you can specify \"categories='auto'\".\n",
      "In case you used a LabelEncoder before this OneHotEncoder to convert the categories to integers, then you can now use the OneHotEncoder directly.\n",
      "  warnings.warn(msg, FutureWarning)\n"
     ]
    },
    {
     "name": "stdout",
     "output_type": "stream",
     "text": [
      "\n",
      "Prepare Unseen Data and Predictions for CHIRPS benchmark\n",
      "Walking forest for 5 instances... (please wait)\n",
      "Forest Walk with async = True\n",
      "Forest Walk time elapsed: 1.2263 seconds\n",
      "\n",
      "Running CHIRPS on a batch of 5 instances... (please wait)\n",
      "CHIRPS time elapsed: 7.5607 seconds\n",
      "CHIRPS with async = True\n",
      "\n",
      "Evaluating found explanations\n",
      "CHIRPS batch results eval time elapsed: 0.5774 seconds\n",
      "Running experiment for german with random state = 123\n",
      "\n",
      "Split data into main train-test and build RF\n",
      "using previous tuning parameters\n"
     ]
    },
    {
     "name": "stderr",
     "output_type": "stream",
     "text": [
      "C:\\ProgramData\\Anaconda3\\lib\\site-packages\\sklearn\\preprocessing\\_encoders.py:368: FutureWarning: The handling of integer data will change in version 0.22. Currently, the categories are determined based on the range [0, max(values)], while in the future they will be determined based on the unique values.\n",
      "If you want the future behaviour and silence this warning, you can specify \"categories='auto'\".\n",
      "In case you used a LabelEncoder before this OneHotEncoder to convert the categories to integers, then you can now use the OneHotEncoder directly.\n",
      "  warnings.warn(msg, FutureWarning)\n"
     ]
    },
    {
     "name": "stdout",
     "output_type": "stream",
     "text": [
      "\n",
      "Prepare Unseen Data and Predictions for CHIRPS benchmark\n",
      "Walking forest for 5 instances... (please wait)\n",
      "Forest Walk with async = True\n",
      "Forest Walk time elapsed: 0.8113 seconds\n",
      "\n",
      "Running CHIRPS on a batch of 5 instances... (please wait)\n",
      "CHIRPS time elapsed: 9.7504 seconds\n",
      "CHIRPS with async = True\n",
      "\n",
      "Evaluating found explanations\n",
      "CHIRPS batch results eval time elapsed: 0.2531 seconds\n",
      "Running experiment for lending_tiny_samp with random state = 123\n",
      "\n",
      "Split data into main train-test and build RF\n",
      "using previous tuning parameters\n"
     ]
    },
    {
     "name": "stderr",
     "output_type": "stream",
     "text": [
      "C:\\ProgramData\\Anaconda3\\lib\\site-packages\\sklearn\\preprocessing\\_encoders.py:368: FutureWarning: The handling of integer data will change in version 0.22. Currently, the categories are determined based on the range [0, max(values)], while in the future they will be determined based on the unique values.\n",
      "If you want the future behaviour and silence this warning, you can specify \"categories='auto'\".\n",
      "In case you used a LabelEncoder before this OneHotEncoder to convert the categories to integers, then you can now use the OneHotEncoder directly.\n",
      "  warnings.warn(msg, FutureWarning)\n"
     ]
    },
    {
     "name": "stdout",
     "output_type": "stream",
     "text": [
      "\n",
      "Prepare Unseen Data and Predictions for CHIRPS benchmark\n",
      "Walking forest for 5 instances... (please wait)\n",
      "Forest Walk with async = True\n",
      "Forest Walk time elapsed: 1.3086 seconds\n",
      "\n",
      "Running CHIRPS on a batch of 5 instances... (please wait)\n",
      "CHIRPS time elapsed: 6.1784 seconds\n",
      "CHIRPS with async = True\n",
      "\n",
      "Evaluating found explanations\n",
      "CHIRPS batch results eval time elapsed: 1.1891 seconds\n",
      "Running experiment for nursery_samp with random state = 123\n",
      "\n",
      "Split data into main train-test and build RF\n",
      "using previous tuning parameters\n"
     ]
    },
    {
     "name": "stderr",
     "output_type": "stream",
     "text": [
      "C:\\ProgramData\\Anaconda3\\lib\\site-packages\\sklearn\\preprocessing\\_encoders.py:368: FutureWarning: The handling of integer data will change in version 0.22. Currently, the categories are determined based on the range [0, max(values)], while in the future they will be determined based on the unique values.\n",
      "If you want the future behaviour and silence this warning, you can specify \"categories='auto'\".\n",
      "In case you used a LabelEncoder before this OneHotEncoder to convert the categories to integers, then you can now use the OneHotEncoder directly.\n",
      "  warnings.warn(msg, FutureWarning)\n"
     ]
    },
    {
     "name": "stdout",
     "output_type": "stream",
     "text": [
      "\n",
      "Prepare Unseen Data and Predictions for CHIRPS benchmark\n",
      "Walking forest for 5 instances... (please wait)\n",
      "Forest Walk with async = True\n",
      "Forest Walk time elapsed: 1.1092 seconds\n",
      "\n",
      "Running CHIRPS on a batch of 5 instances... (please wait)\n",
      "CHIRPS time elapsed: 11.1157 seconds\n",
      "CHIRPS with async = True\n",
      "\n",
      "Evaluating found explanations\n",
      "CHIRPS batch results eval time elapsed: 1.1460 seconds\n",
      "Running experiment for rcdv_samp with random state = 123\n",
      "\n",
      "Split data into main train-test and build RF\n",
      "using previous tuning parameters\n",
      "\n",
      "Prepare Unseen Data and Predictions for CHIRPS benchmark\n",
      "Walking forest for 5 instances... (please wait)\n",
      "Forest Walk with async = True\n",
      "Forest Walk time elapsed: 0.9102 seconds\n",
      "\n",
      "Running CHIRPS on a batch of 5 instances... (please wait)\n",
      "CHIRPS time elapsed: 8.4511 seconds\n",
      "CHIRPS with async = True\n",
      "\n",
      "Evaluating found explanations\n",
      "CHIRPS batch results eval time elapsed: 0.6394 seconds\n"
     ]
    }
   ],
   "source": [
    "run_CHIRPS = True\n",
    "run_Anchors = False\n",
    "run_defragTrees = False\n",
    "\n",
    "CHIRPS_sensitivity = False\n",
    "\n",
    "alpha_paths = np.tile([0.9, 0.5, 0.1], 12)\n",
    "disc_path_bins = np.tile(np.repeat([4, 8], 3), 6)\n",
    "score_func = np.tile(np.repeat([5, 3, 1], 6), 2)\n",
    "weighting = np.repeat(['nothing', 'chisq'], 9)\n",
    "\n",
    "kwargs_grid = {k : {'alpha_paths' : ap, 'disc_path_bins' : dpb, 'score_func' : sf, 'weighting' : w } \n",
    "    for k, ap, dpb, sf, w in zip(range(18), alpha_paths, disc_path_bins, score_func, weighting)}\n",
    "\n",
    "kwargs_default = {'support_paths' : 0.1, 'alpha_paths' : 0.5, 'disc_path_bins' : 4, 'score_func' : 1, 'weighting' : 'chisq' }\n",
    "\n",
    "for random_state in range(123, 124):\n",
    "    for d_constructor in rp.datasets:\n",
    "        print('Running experiment for ' + d_constructor.__name__ + ' with random state = ' + str(random_state))\n",
    "        print()\n",
    "        # 1. Data and Forest prep\n",
    "        print('Split data into main train-test and build RF') \n",
    "        mydata = d_constructor(random_state=random_state, project_dir=project_dir)\n",
    "        \n",
    "        meta_data = mydata.get_meta()\n",
    "        save_path = meta_data['get_save_path']()\n",
    "        train_index, test_index = mydata.get_tt_split_idx(random_state=random_state_splits)\n",
    "        tt = mydata.tt_split(train_index, test_index)\n",
    "        \n",
    "        # this will train and score the model\n",
    "        rf = rp.forest_prep(ds_container=tt,\n",
    "                            meta_data=meta_data,\n",
    "                            save_path=save_path)\n",
    "\n",
    "        print()\n",
    "        if run_CHIRPS:\n",
    "            if CHIRPS_sensitivity:\n",
    "                for kwg in kwargs_grid:\n",
    "                    \n",
    "                    rp.CHIRPS_benchmark(forest=rf, ds_container=tt, meta_data=meta_data,\n",
    "                                        batch_size=batch_size, n_instances=n_instances,\n",
    "                                        forest_walk_async=forest_walk_async,\n",
    "                                        chirps_explanation_async=chirps_explanation_async,\n",
    "                                        save_path=extend_path(stem=save_path, \\\n",
    "                                                              extensions=['sensitivity', 'ap_' + \\\n",
    "                                                                str(kwargs_grid[kwg]['alpha_paths']) + \\\n",
    "                                                                '_dpb_' + str(kwargs_grid[kwg]['disc_path_bins']) + \\\n",
    "                                                                '_sf_' + str(kwargs_grid[kwg]['score_func']) + \\\n",
    "                                                                '_w_' + str(kwargs_grid[kwg]['weighting']) + '.csv']),\n",
    "                                        dataset_name=d_constructor.__name__,\n",
    "                                        random_state=random_state, **kwargs_grid[kwg])\n",
    "            else:\n",
    "                rp.CHIRPS_benchmark(forest=rf, ds_container=tt, meta_data=meta_data,\n",
    "                                    batch_size=batch_size, n_instances=n_instances,\n",
    "                                    forest_walk_async=forest_walk_async,\n",
    "                                    chirps_explanation_async=chirps_explanation_async,\n",
    "                                    save_path=save_path,\n",
    "                                    dataset_name=d_constructor.__name__,\n",
    "                                    random_state=random_state, **kwargs_default)\n",
    "                    \n",
    "        if run_Anchors:\n",
    "            # new copy of ds_container (need to reset the row counters)\n",
    "            tt_anch = mydata.tt_split(train_index, test_index)\n",
    "            # preprocessing - discretised continuous X matrix has been added and also needs an updated var_dict \n",
    "            # plus returning the fitted explainer that holds the data distribution\n",
    "            tt_anch, anchors_explainer = rp.Anchors_preproc(ds_container=tt_anch,\n",
    "                                                             meta_data=meta_data)\n",
    "    \n",
    "            # re-fitting the random forest to the discretised data and evaluating\n",
    "            rf = rp.forest_prep(ds_container=tt_anch,\n",
    "                            meta_data=meta_data,\n",
    "                            save_path=save_path,\n",
    "                            identifier='Anchors')\n",
    "\n",
    "            rp.Anchors_benchmark(forest=rf, ds_container=tt_anch, meta_data=meta_data,\n",
    "                                anchors_explainer=anchors_explainer,\n",
    "                                batch_size=batch_size, n_instances=n_instances,\n",
    "                                save_path=save_path, dataset_name=d_constructor.__name__,\n",
    "                                random_state=meta_data['random_state'])\n",
    "        \n",
    "        if run_defragTrees:\n",
    "            # create a new copy of tt split, because each one keeps track of which instances it has given out.\n",
    "            # re-using the top one means different instances are passed\n",
    "            tt_dfrgtrs = mydata.tt_split(train_index, test_index)\n",
    "            \n",
    "            # some dfrgtrs specific parameters\n",
    "            Kmax = 10\n",
    "            restart = 20\n",
    "            maxitr = 100\n",
    "            dfrgtrs = rp.defragTrees_prep(ds_container=tt_dfrgtrs, meta_data=meta_data, forest=rf, \n",
    "                                            Kmax=Kmax, restart=restart, maxitr=maxitr,\n",
    "                                            identifier='defragTrees', save_path=save_path)\n",
    "            \n",
    "                        \n",
    "            rp.defragTrees_benchmark(forest=rf, ds_container=tt_dfrgtrs, meta_data=meta_data, dfrgtrs=dfrgtrs,\n",
    "                                    batch_size=batch_size, n_instances=n_instances,\n",
    "                                    save_path=save_path, dataset_name=d_constructor.__name__,\n",
    "                                    random_state=random_state)\n"
   ]
  },
  {
   "cell_type": "code",
   "execution_count": 9,
   "metadata": {},
   "outputs": [],
   "source": [
    "f_perf = 0.8955882352941177"
   ]
  },
  {
   "cell_type": "code",
   "execution_count": 10,
   "metadata": {},
   "outputs": [
    {
     "data": {
      "text/plain": [
       "0.011701861921872302"
      ]
     },
     "execution_count": 10,
     "metadata": {},
     "output_type": "execute_result"
    }
   ],
   "source": [
    "(f_perf/(1-f_perf))/733"
   ]
  },
  {
   "cell_type": "code",
   "execution_count": 11,
   "metadata": {},
   "outputs": [
    {
     "data": {
      "text/plain": [
       "'V:\\\\whiteboxing\\\\rcdv_samp\\\\'"
      ]
     },
     "execution_count": 11,
     "metadata": {},
     "output_type": "execute_result"
    }
   ],
   "source": [
    "save_path"
   ]
  },
  {
   "cell_type": "code",
   "execution_count": null,
   "metadata": {},
   "outputs": [],
   "source": []
  }
 ],
 "metadata": {
  "kernelspec": {
   "display_name": "Python 3",
   "language": "python",
   "name": "python3"
  },
  "language_info": {
   "codemirror_mode": {
    "name": "ipython",
    "version": 3
   },
   "file_extension": ".py",
   "mimetype": "text/x-python",
   "name": "python",
   "nbconvert_exporter": "python",
   "pygments_lexer": "ipython3",
   "version": "3.7.1"
  }
 },
 "nbformat": 4,
 "nbformat_minor": 2
}
